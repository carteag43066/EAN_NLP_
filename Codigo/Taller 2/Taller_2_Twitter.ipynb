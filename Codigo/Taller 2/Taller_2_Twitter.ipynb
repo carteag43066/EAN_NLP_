{
 "cells": [
  {
   "cell_type": "markdown",
   "metadata": {},
   "source": [
    "# Taller 2: Análisis de Sentimientos en Redes Sociales para Mejorar la Imagen de Marca\n",
    "\n",
    "## Grupo 6:\n",
    " \n",
    "- Miguel Ángel Pablos  \n",
    "\n",
    "- María Alejandra Olarte\n",
    "\n",
    "- Carlos Mauricio Arteaga "
   ]
  },
  {
   "cell_type": "code",
   "execution_count": 1,
   "metadata": {},
   "outputs": [],
   "source": [
    "#Librerias\n",
    "import pandas as pd\n",
    "import numpy as np"
   ]
  },
  {
   "cell_type": "code",
   "execution_count": 2,
   "metadata": {},
   "outputs": [
    {
     "data": {
      "text/html": [
       "<div>\n",
       "<style scoped>\n",
       "    .dataframe tbody tr th:only-of-type {\n",
       "        vertical-align: middle;\n",
       "    }\n",
       "\n",
       "    .dataframe tbody tr th {\n",
       "        vertical-align: top;\n",
       "    }\n",
       "\n",
       "    .dataframe thead th {\n",
       "        text-align: right;\n",
       "    }\n",
       "</style>\n",
       "<table border=\"1\" class=\"dataframe\">\n",
       "  <thead>\n",
       "    <tr style=\"text-align: right;\">\n",
       "      <th></th>\n",
       "      <th>polarity of tweet</th>\n",
       "      <th>id of the tweet</th>\n",
       "      <th>date of the tweet</th>\n",
       "      <th>query</th>\n",
       "      <th>user</th>\n",
       "      <th>text of the tweet</th>\n",
       "    </tr>\n",
       "  </thead>\n",
       "  <tbody>\n",
       "    <tr>\n",
       "      <th>0</th>\n",
       "      <td>0</td>\n",
       "      <td>1467810672</td>\n",
       "      <td>Mon Apr 06 22:19:49 PDT 2009</td>\n",
       "      <td>NO_QUERY</td>\n",
       "      <td>scotthamilton</td>\n",
       "      <td>is upset that he can't update his Facebook by ...</td>\n",
       "    </tr>\n",
       "    <tr>\n",
       "      <th>1</th>\n",
       "      <td>0</td>\n",
       "      <td>1467810917</td>\n",
       "      <td>Mon Apr 06 22:19:53 PDT 2009</td>\n",
       "      <td>NO_QUERY</td>\n",
       "      <td>mattycus</td>\n",
       "      <td>@Kenichan I dived many times for the ball. Man...</td>\n",
       "    </tr>\n",
       "    <tr>\n",
       "      <th>2</th>\n",
       "      <td>0</td>\n",
       "      <td>1467811184</td>\n",
       "      <td>Mon Apr 06 22:19:57 PDT 2009</td>\n",
       "      <td>NO_QUERY</td>\n",
       "      <td>ElleCTF</td>\n",
       "      <td>my whole body feels itchy and like its on fire</td>\n",
       "    </tr>\n",
       "    <tr>\n",
       "      <th>3</th>\n",
       "      <td>0</td>\n",
       "      <td>1467811193</td>\n",
       "      <td>Mon Apr 06 22:19:57 PDT 2009</td>\n",
       "      <td>NO_QUERY</td>\n",
       "      <td>Karoli</td>\n",
       "      <td>@nationwideclass no, it's not behaving at all....</td>\n",
       "    </tr>\n",
       "    <tr>\n",
       "      <th>4</th>\n",
       "      <td>0</td>\n",
       "      <td>1467811372</td>\n",
       "      <td>Mon Apr 06 22:20:00 PDT 2009</td>\n",
       "      <td>NO_QUERY</td>\n",
       "      <td>joy_wolf</td>\n",
       "      <td>@Kwesidei not the whole crew</td>\n",
       "    </tr>\n",
       "  </tbody>\n",
       "</table>\n",
       "</div>"
      ],
      "text/plain": [
       "   polarity of tweet   id of the tweet             date of the tweet  \\\n",
       "0                   0       1467810672  Mon Apr 06 22:19:49 PDT 2009   \n",
       "1                   0       1467810917  Mon Apr 06 22:19:53 PDT 2009   \n",
       "2                   0       1467811184  Mon Apr 06 22:19:57 PDT 2009   \n",
       "3                   0       1467811193  Mon Apr 06 22:19:57 PDT 2009   \n",
       "4                   0       1467811372  Mon Apr 06 22:20:00 PDT 2009   \n",
       "\n",
       "      query           user                                 text of the tweet   \n",
       "0  NO_QUERY  scotthamilton  is upset that he can't update his Facebook by ...  \n",
       "1  NO_QUERY       mattycus  @Kenichan I dived many times for the ball. Man...  \n",
       "2  NO_QUERY        ElleCTF    my whole body feels itchy and like its on fire   \n",
       "3  NO_QUERY         Karoli  @nationwideclass no, it's not behaving at all....  \n",
       "4  NO_QUERY       joy_wolf                      @Kwesidei not the whole crew   "
      ]
     },
     "execution_count": 2,
     "metadata": {},
     "output_type": "execute_result"
    }
   ],
   "source": [
    "# leer archivo training.1600000.processed.noemoticon.csv\n",
    "\n",
    "df = pd.read_csv('../../Datos/training.1600000.processed.noemoticon.csv', encoding='latin-1')\n",
    "df.head()"
   ]
  },
  {
   "cell_type": "code",
   "execution_count": 3,
   "metadata": {},
   "outputs": [
    {
     "data": {
      "text/html": [
       "<div>\n",
       "<style scoped>\n",
       "    .dataframe tbody tr th:only-of-type {\n",
       "        vertical-align: middle;\n",
       "    }\n",
       "\n",
       "    .dataframe tbody tr th {\n",
       "        vertical-align: top;\n",
       "    }\n",
       "\n",
       "    .dataframe thead th {\n",
       "        text-align: right;\n",
       "    }\n",
       "</style>\n",
       "<table border=\"1\" class=\"dataframe\">\n",
       "  <thead>\n",
       "    <tr style=\"text-align: right;\">\n",
       "      <th></th>\n",
       "      <th>Polarity</th>\n",
       "      <th>Id_Tweet</th>\n",
       "      <th>Date</th>\n",
       "      <th>Query</th>\n",
       "      <th>User</th>\n",
       "      <th>Text</th>\n",
       "    </tr>\n",
       "  </thead>\n",
       "  <tbody>\n",
       "    <tr>\n",
       "      <th>0</th>\n",
       "      <td>0</td>\n",
       "      <td>1467810672</td>\n",
       "      <td>Mon Apr 06 22:19:49 PDT 2009</td>\n",
       "      <td>NO_QUERY</td>\n",
       "      <td>scotthamilton</td>\n",
       "      <td>is upset that he can't update his Facebook by ...</td>\n",
       "    </tr>\n",
       "    <tr>\n",
       "      <th>1</th>\n",
       "      <td>0</td>\n",
       "      <td>1467810917</td>\n",
       "      <td>Mon Apr 06 22:19:53 PDT 2009</td>\n",
       "      <td>NO_QUERY</td>\n",
       "      <td>mattycus</td>\n",
       "      <td>@Kenichan I dived many times for the ball. Man...</td>\n",
       "    </tr>\n",
       "    <tr>\n",
       "      <th>2</th>\n",
       "      <td>0</td>\n",
       "      <td>1467811184</td>\n",
       "      <td>Mon Apr 06 22:19:57 PDT 2009</td>\n",
       "      <td>NO_QUERY</td>\n",
       "      <td>ElleCTF</td>\n",
       "      <td>my whole body feels itchy and like its on fire</td>\n",
       "    </tr>\n",
       "    <tr>\n",
       "      <th>3</th>\n",
       "      <td>0</td>\n",
       "      <td>1467811193</td>\n",
       "      <td>Mon Apr 06 22:19:57 PDT 2009</td>\n",
       "      <td>NO_QUERY</td>\n",
       "      <td>Karoli</td>\n",
       "      <td>@nationwideclass no, it's not behaving at all....</td>\n",
       "    </tr>\n",
       "    <tr>\n",
       "      <th>4</th>\n",
       "      <td>0</td>\n",
       "      <td>1467811372</td>\n",
       "      <td>Mon Apr 06 22:20:00 PDT 2009</td>\n",
       "      <td>NO_QUERY</td>\n",
       "      <td>joy_wolf</td>\n",
       "      <td>@Kwesidei not the whole crew</td>\n",
       "    </tr>\n",
       "  </tbody>\n",
       "</table>\n",
       "</div>"
      ],
      "text/plain": [
       "   Polarity    Id_Tweet                          Date     Query  \\\n",
       "0         0  1467810672  Mon Apr 06 22:19:49 PDT 2009  NO_QUERY   \n",
       "1         0  1467810917  Mon Apr 06 22:19:53 PDT 2009  NO_QUERY   \n",
       "2         0  1467811184  Mon Apr 06 22:19:57 PDT 2009  NO_QUERY   \n",
       "3         0  1467811193  Mon Apr 06 22:19:57 PDT 2009  NO_QUERY   \n",
       "4         0  1467811372  Mon Apr 06 22:20:00 PDT 2009  NO_QUERY   \n",
       "\n",
       "            User                                               Text  \n",
       "0  scotthamilton  is upset that he can't update his Facebook by ...  \n",
       "1       mattycus  @Kenichan I dived many times for the ball. Man...  \n",
       "2        ElleCTF    my whole body feels itchy and like its on fire   \n",
       "3         Karoli  @nationwideclass no, it's not behaving at all....  \n",
       "4       joy_wolf                      @Kwesidei not the whole crew   "
      ]
     },
     "execution_count": 3,
     "metadata": {},
     "output_type": "execute_result"
    }
   ],
   "source": [
    "# Cambiar nombre de columnas\n",
    "df.columns = ['Polarity', 'Id_Tweet', 'Date', 'Query', 'User', 'Text']\n",
    "df.head()"
   ]
  },
  {
   "cell_type": "markdown",
   "metadata": {},
   "source": [
    "## Analisis inicial de DataFrame"
   ]
  },
  {
   "cell_type": "code",
   "execution_count": 4,
   "metadata": {},
   "outputs": [
    {
     "data": {
      "text/plain": [
       "Polarity\n",
       "0    799996\n",
       "4    248576\n",
       "Name: count, dtype: int64"
      ]
     },
     "execution_count": 4,
     "metadata": {},
     "output_type": "execute_result"
    }
   ],
   "source": [
    "df['Polarity'].value_counts() # 0 = Negativo, 4 = Positivo, no se encuentran valores neutros"
   ]
  },
  {
   "cell_type": "code",
   "execution_count": 5,
   "metadata": {},
   "outputs": [
    {
     "data": {
      "text/plain": [
       "Polarity\n",
       "0    0.762939\n",
       "4    0.237061\n",
       "Name: proportion, dtype: float64"
      ]
     },
     "execution_count": 5,
     "metadata": {},
     "output_type": "execute_result"
    }
   ],
   "source": [
    "df['Polarity'].value_counts(normalize=True)"
   ]
  },
  {
   "cell_type": "markdown",
   "metadata": {},
   "source": [
    "-El dataframe en primera instancia esta desbalanceado. es posible que se requiera un balanceo mas adelante despues del procesamiento inicial."
   ]
  },
  {
   "cell_type": "code",
   "execution_count": 6,
   "metadata": {},
   "outputs": [
    {
     "data": {
      "text/plain": [
       "User\n",
       "lost_dog           549\n",
       "tweetpet           310\n",
       "webwoke            264\n",
       "mcraddictal        238\n",
       "wowlew             210\n",
       "SallytheShizzle    201\n",
       "nuttychris         199\n",
       "tsarnick           184\n",
       "Djalfy             164\n",
       "StDAY              156\n",
       "Dogbook            152\n",
       "Karen230683        148\n",
       "MiDesfileNegro     147\n",
       "_magic8ball        146\n",
       "Spidersamm         140\n",
       "VioletsCRUK        132\n",
       "JBnVFCLover786     126\n",
       "mrs_mcsupergirl    123\n",
       "ramdomthoughts     122\n",
       "Dutchrudder        122\n",
       "Broooooke_         120\n",
       "torilovesbradie    120\n",
       "karinb_za          118\n",
       "bigenya            118\n",
       "kasey79            116\n",
       "hollyalyxfinch     113\n",
       "Kikirowr           113\n",
       "TessMorris         112\n",
       "dontforgetchaos    111\n",
       "lesley007          109\n",
       "Jayme1988          107\n",
       "keren4562          107\n",
       "luckygnahhh        104\n",
       "SongoftheOss       103\n",
       "sebby_peek         102\n",
       "Hollywood_Trey     102\n",
       "SarahMorrison      102\n",
       "ShesElectric_       98\n",
       "SarahSaner          98\n",
       "TraceyHewins        97\n",
       "roxiijonas          96\n",
       "QueenBxoxo          95\n",
       "KevinEdwardsJr      95\n",
       "keza34              95\n",
       "Anime81             94\n",
       "twebbstack          94\n",
       "Leanne0710          94\n",
       "iHomeTech           93\n",
       "michxxblc           92\n",
       "MissxMarisa         92\n",
       "Name: count, dtype: int64"
      ]
     },
     "execution_count": 6,
     "metadata": {},
     "output_type": "execute_result"
    }
   ],
   "source": [
    "df['User'].value_counts().head(50)"
   ]
  },
  {
   "cell_type": "code",
   "execution_count": 7,
   "metadata": {},
   "outputs": [],
   "source": [
    "# Configuración para mostrar todo el texto en las columnas\n",
    "pd.set_option('display.max_colwidth', None)"
   ]
  },
  {
   "cell_type": "code",
   "execution_count": 8,
   "metadata": {},
   "outputs": [
    {
     "data": {
      "text/html": [
       "<div>\n",
       "<style scoped>\n",
       "    .dataframe tbody tr th:only-of-type {\n",
       "        vertical-align: middle;\n",
       "    }\n",
       "\n",
       "    .dataframe tbody tr th {\n",
       "        vertical-align: top;\n",
       "    }\n",
       "\n",
       "    .dataframe thead th {\n",
       "        text-align: right;\n",
       "    }\n",
       "</style>\n",
       "<table border=\"1\" class=\"dataframe\">\n",
       "  <thead>\n",
       "    <tr style=\"text-align: right;\">\n",
       "      <th></th>\n",
       "      <th>Polarity</th>\n",
       "      <th>Id_Tweet</th>\n",
       "      <th>Date</th>\n",
       "      <th>Query</th>\n",
       "      <th>User</th>\n",
       "      <th>Text</th>\n",
       "    </tr>\n",
       "  </thead>\n",
       "  <tbody>\n",
       "    <tr>\n",
       "      <th>0</th>\n",
       "      <td>0</td>\n",
       "      <td>1467810672</td>\n",
       "      <td>Mon Apr 06 22:19:49 PDT 2009</td>\n",
       "      <td>NO_QUERY</td>\n",
       "      <td>scotthamilton</td>\n",
       "      <td>is upset that he can't update his Facebook by texting it... and might cry as a result  School today also. Blah!</td>\n",
       "    </tr>\n",
       "    <tr>\n",
       "      <th>1</th>\n",
       "      <td>0</td>\n",
       "      <td>1467810917</td>\n",
       "      <td>Mon Apr 06 22:19:53 PDT 2009</td>\n",
       "      <td>NO_QUERY</td>\n",
       "      <td>mattycus</td>\n",
       "      <td>@Kenichan I dived many times for the ball. Managed to save 50%  The rest go out of bounds</td>\n",
       "    </tr>\n",
       "    <tr>\n",
       "      <th>2</th>\n",
       "      <td>0</td>\n",
       "      <td>1467811184</td>\n",
       "      <td>Mon Apr 06 22:19:57 PDT 2009</td>\n",
       "      <td>NO_QUERY</td>\n",
       "      <td>ElleCTF</td>\n",
       "      <td>my whole body feels itchy and like its on fire</td>\n",
       "    </tr>\n",
       "    <tr>\n",
       "      <th>3</th>\n",
       "      <td>0</td>\n",
       "      <td>1467811193</td>\n",
       "      <td>Mon Apr 06 22:19:57 PDT 2009</td>\n",
       "      <td>NO_QUERY</td>\n",
       "      <td>Karoli</td>\n",
       "      <td>@nationwideclass no, it's not behaving at all. i'm mad. why am i here? because I can't see you all over there.</td>\n",
       "    </tr>\n",
       "    <tr>\n",
       "      <th>4</th>\n",
       "      <td>0</td>\n",
       "      <td>1467811372</td>\n",
       "      <td>Mon Apr 06 22:20:00 PDT 2009</td>\n",
       "      <td>NO_QUERY</td>\n",
       "      <td>joy_wolf</td>\n",
       "      <td>@Kwesidei not the whole crew</td>\n",
       "    </tr>\n",
       "    <tr>\n",
       "      <th>...</th>\n",
       "      <td>...</td>\n",
       "      <td>...</td>\n",
       "      <td>...</td>\n",
       "      <td>...</td>\n",
       "      <td>...</td>\n",
       "      <td>...</td>\n",
       "    </tr>\n",
       "    <tr>\n",
       "      <th>1048567</th>\n",
       "      <td>4</td>\n",
       "      <td>1960186342</td>\n",
       "      <td>Fri May 29 07:33:44 PDT 2009</td>\n",
       "      <td>NO_QUERY</td>\n",
       "      <td>Madelinedugganx</td>\n",
       "      <td>My GrandMa is making Dinenr with my Mum</td>\n",
       "    </tr>\n",
       "    <tr>\n",
       "      <th>1048568</th>\n",
       "      <td>4</td>\n",
       "      <td>1960186409</td>\n",
       "      <td>Fri May 29 07:33:43 PDT 2009</td>\n",
       "      <td>NO_QUERY</td>\n",
       "      <td>OffRoad_Dude</td>\n",
       "      <td>Mid-morning snack time... A bowl of cheese noodles. Yum.</td>\n",
       "    </tr>\n",
       "    <tr>\n",
       "      <th>1048569</th>\n",
       "      <td>4</td>\n",
       "      <td>1960186429</td>\n",
       "      <td>Fri May 29 07:33:44 PDT 2009</td>\n",
       "      <td>NO_QUERY</td>\n",
       "      <td>Falchion</td>\n",
       "      <td>@ShaDeLa same here  say it like from the Terminiator movies. comes off like just 3 words. :-D</td>\n",
       "    </tr>\n",
       "    <tr>\n",
       "      <th>1048570</th>\n",
       "      <td>4</td>\n",
       "      <td>1960186445</td>\n",
       "      <td>Fri May 29 07:33:44 PDT 2009</td>\n",
       "      <td>NO_QUERY</td>\n",
       "      <td>jonasobsessedx</td>\n",
       "      <td>@DestinyHope92 im great thaanks  wbuu?</td>\n",
       "    </tr>\n",
       "    <tr>\n",
       "      <th>1048571</th>\n",
       "      <td>4</td>\n",
       "      <td>1960186607</td>\n",
       "      <td>Fri May 29 07:33:45 PDT 2009</td>\n",
       "      <td>NO_QUERY</td>\n",
       "      <td>sugababez</td>\n",
       "      <td>cant wait til her date this weekend</td>\n",
       "    </tr>\n",
       "  </tbody>\n",
       "</table>\n",
       "<p>1048572 rows × 6 columns</p>\n",
       "</div>"
      ],
      "text/plain": [
       "         Polarity    Id_Tweet                          Date     Query  \\\n",
       "0               0  1467810672  Mon Apr 06 22:19:49 PDT 2009  NO_QUERY   \n",
       "1               0  1467810917  Mon Apr 06 22:19:53 PDT 2009  NO_QUERY   \n",
       "2               0  1467811184  Mon Apr 06 22:19:57 PDT 2009  NO_QUERY   \n",
       "3               0  1467811193  Mon Apr 06 22:19:57 PDT 2009  NO_QUERY   \n",
       "4               0  1467811372  Mon Apr 06 22:20:00 PDT 2009  NO_QUERY   \n",
       "...           ...         ...                           ...       ...   \n",
       "1048567         4  1960186342  Fri May 29 07:33:44 PDT 2009  NO_QUERY   \n",
       "1048568         4  1960186409  Fri May 29 07:33:43 PDT 2009  NO_QUERY   \n",
       "1048569         4  1960186429  Fri May 29 07:33:44 PDT 2009  NO_QUERY   \n",
       "1048570         4  1960186445  Fri May 29 07:33:44 PDT 2009  NO_QUERY   \n",
       "1048571         4  1960186607  Fri May 29 07:33:45 PDT 2009  NO_QUERY   \n",
       "\n",
       "                    User  \\\n",
       "0          scotthamilton   \n",
       "1               mattycus   \n",
       "2                ElleCTF   \n",
       "3                 Karoli   \n",
       "4               joy_wolf   \n",
       "...                  ...   \n",
       "1048567  Madelinedugganx   \n",
       "1048568     OffRoad_Dude   \n",
       "1048569         Falchion   \n",
       "1048570   jonasobsessedx   \n",
       "1048571        sugababez   \n",
       "\n",
       "                                                                                                                    Text  \n",
       "0        is upset that he can't update his Facebook by texting it... and might cry as a result  School today also. Blah!  \n",
       "1                              @Kenichan I dived many times for the ball. Managed to save 50%  The rest go out of bounds  \n",
       "2                                                                        my whole body feels itchy and like its on fire   \n",
       "3        @nationwideclass no, it's not behaving at all. i'm mad. why am i here? because I can't see you all over there.   \n",
       "4                                                                                          @Kwesidei not the whole crew   \n",
       "...                                                                                                                  ...  \n",
       "1048567                                                                         My GrandMa is making Dinenr with my Mum   \n",
       "1048568                                                        Mid-morning snack time... A bowl of cheese noodles. Yum.   \n",
       "1048569                    @ShaDeLa same here  say it like from the Terminiator movies. comes off like just 3 words. :-D  \n",
       "1048570                                                                           @DestinyHope92 im great thaanks  wbuu?  \n",
       "1048571                                                                             cant wait til her date this weekend   \n",
       "\n",
       "[1048572 rows x 6 columns]"
      ]
     },
     "execution_count": 8,
     "metadata": {},
     "output_type": "execute_result"
    }
   ],
   "source": [
    "df"
   ]
  },
  {
   "cell_type": "code",
   "execution_count": 9,
   "metadata": {},
   "outputs": [
    {
     "data": {
      "text/html": [
       "<div>\n",
       "<style scoped>\n",
       "    .dataframe tbody tr th:only-of-type {\n",
       "        vertical-align: middle;\n",
       "    }\n",
       "\n",
       "    .dataframe tbody tr th {\n",
       "        vertical-align: top;\n",
       "    }\n",
       "\n",
       "    .dataframe thead th {\n",
       "        text-align: right;\n",
       "    }\n",
       "</style>\n",
       "<table border=\"1\" class=\"dataframe\">\n",
       "  <thead>\n",
       "    <tr style=\"text-align: right;\">\n",
       "      <th></th>\n",
       "      <th>Polarity</th>\n",
       "      <th>Id_Tweet</th>\n",
       "      <th>Date</th>\n",
       "      <th>Query</th>\n",
       "      <th>User</th>\n",
       "      <th>Text</th>\n",
       "    </tr>\n",
       "  </thead>\n",
       "  <tbody>\n",
       "    <tr>\n",
       "      <th>458249</th>\n",
       "      <td>0</td>\n",
       "      <td>2071838614</td>\n",
       "      <td>Sun Jun 07 20:00:09 PDT 2009</td>\n",
       "      <td>NO_QUERY</td>\n",
       "      <td>lost_dog</td>\n",
       "      <td>@gregkureluk I am lost. Please help me find a good home.</td>\n",
       "    </tr>\n",
       "    <tr>\n",
       "      <th>127018</th>\n",
       "      <td>0</td>\n",
       "      <td>1834636227</td>\n",
       "      <td>Mon May 18 03:40:54 PDT 2009</td>\n",
       "      <td>NO_QUERY</td>\n",
       "      <td>lost_dog</td>\n",
       "      <td>@johnmashni I am lost. Please help me find a good home.</td>\n",
       "    </tr>\n",
       "    <tr>\n",
       "      <th>733199</th>\n",
       "      <td>0</td>\n",
       "      <td>2264261038</td>\n",
       "      <td>Sun Jun 21 03:17:46 PDT 2009</td>\n",
       "      <td>NO_QUERY</td>\n",
       "      <td>lost_dog</td>\n",
       "      <td>@jesswholohan I am lost. Please help me find a good home.</td>\n",
       "    </tr>\n",
       "    <tr>\n",
       "      <th>767437</th>\n",
       "      <td>0</td>\n",
       "      <td>2300473364</td>\n",
       "      <td>Tue Jun 23 14:11:29 PDT 2009</td>\n",
       "      <td>NO_QUERY</td>\n",
       "      <td>lost_dog</td>\n",
       "      <td>@steph0515 I am lost. Please help me find a good home.</td>\n",
       "    </tr>\n",
       "    <tr>\n",
       "      <th>295153</th>\n",
       "      <td>0</td>\n",
       "      <td>1996787774</td>\n",
       "      <td>Mon Jun 01 15:41:29 PDT 2009</td>\n",
       "      <td>NO_QUERY</td>\n",
       "      <td>lost_dog</td>\n",
       "      <td>@shatter93 I am lost. Please help me find a good home.</td>\n",
       "    </tr>\n",
       "    <tr>\n",
       "      <th>339380</th>\n",
       "      <td>0</td>\n",
       "      <td>2014633167</td>\n",
       "      <td>Wed Jun 03 02:10:30 PDT 2009</td>\n",
       "      <td>NO_QUERY</td>\n",
       "      <td>lost_dog</td>\n",
       "      <td>@yLanaRae I am lost. Please help me find a good home.</td>\n",
       "    </tr>\n",
       "    <tr>\n",
       "      <th>398750</th>\n",
       "      <td>0</td>\n",
       "      <td>2056972547</td>\n",
       "      <td>Sat Jun 06 12:08:07 PDT 2009</td>\n",
       "      <td>NO_QUERY</td>\n",
       "      <td>lost_dog</td>\n",
       "      <td>@cotntail I am lost. Please help me find a good home.</td>\n",
       "    </tr>\n",
       "    <tr>\n",
       "      <th>515279</th>\n",
       "      <td>0</td>\n",
       "      <td>2190806790</td>\n",
       "      <td>Tue Jun 16 03:46:48 PDT 2009</td>\n",
       "      <td>NO_QUERY</td>\n",
       "      <td>lost_dog</td>\n",
       "      <td>@RoryConstant I am lost. Please help me find a good home.</td>\n",
       "    </tr>\n",
       "    <tr>\n",
       "      <th>81949</th>\n",
       "      <td>0</td>\n",
       "      <td>1752895305</td>\n",
       "      <td>Sat May 09 23:21:33 PDT 2009</td>\n",
       "      <td>NO_QUERY</td>\n",
       "      <td>lost_dog</td>\n",
       "      <td>@dewdropper I am lost. Please help me find a good home.</td>\n",
       "    </tr>\n",
       "    <tr>\n",
       "      <th>692301</th>\n",
       "      <td>0</td>\n",
       "      <td>2252460811</td>\n",
       "      <td>Sat Jun 20 06:19:01 PDT 2009</td>\n",
       "      <td>NO_QUERY</td>\n",
       "      <td>lost_dog</td>\n",
       "      <td>@nevillecurtis I am lost. Please help me find a good home.</td>\n",
       "    </tr>\n",
       "    <tr>\n",
       "      <th>347002</th>\n",
       "      <td>0</td>\n",
       "      <td>2016332598</td>\n",
       "      <td>Wed Jun 03 06:35:32 PDT 2009</td>\n",
       "      <td>NO_QUERY</td>\n",
       "      <td>lost_dog</td>\n",
       "      <td>@realestatechick I am lost. Please help me find a good home.</td>\n",
       "    </tr>\n",
       "    <tr>\n",
       "      <th>514184</th>\n",
       "      <td>0</td>\n",
       "      <td>2190561034</td>\n",
       "      <td>Tue Jun 16 03:04:51 PDT 2009</td>\n",
       "      <td>NO_QUERY</td>\n",
       "      <td>lost_dog</td>\n",
       "      <td>@herefordtimes I am lost. Please help me find a good home.</td>\n",
       "    </tr>\n",
       "    <tr>\n",
       "      <th>141334</th>\n",
       "      <td>0</td>\n",
       "      <td>1881241919</td>\n",
       "      <td>Fri May 22 04:04:01 PDT 2009</td>\n",
       "      <td>NO_QUERY</td>\n",
       "      <td>lost_dog</td>\n",
       "      <td>@trashlee I am lost. Please help me find a good home.</td>\n",
       "    </tr>\n",
       "    <tr>\n",
       "      <th>603563</th>\n",
       "      <td>0</td>\n",
       "      <td>2221696997</td>\n",
       "      <td>Thu Jun 18 05:51:08 PDT 2009</td>\n",
       "      <td>NO_QUERY</td>\n",
       "      <td>lost_dog</td>\n",
       "      <td>@npdatadiva I am lost. Please help me find a good home.</td>\n",
       "    </tr>\n",
       "    <tr>\n",
       "      <th>658070</th>\n",
       "      <td>0</td>\n",
       "      <td>2241310875</td>\n",
       "      <td>Fri Jun 19 10:47:47 PDT 2009</td>\n",
       "      <td>NO_QUERY</td>\n",
       "      <td>lost_dog</td>\n",
       "      <td>@moroccoblu I am lost. Please help me find a good home.</td>\n",
       "    </tr>\n",
       "    <tr>\n",
       "      <th>573164</th>\n",
       "      <td>0</td>\n",
       "      <td>2209730317</td>\n",
       "      <td>Wed Jun 17 10:43:47 PDT 2009</td>\n",
       "      <td>NO_QUERY</td>\n",
       "      <td>lost_dog</td>\n",
       "      <td>@Bergtronzero I am lost. Please help me find a good home.</td>\n",
       "    </tr>\n",
       "    <tr>\n",
       "      <th>286495</th>\n",
       "      <td>0</td>\n",
       "      <td>1993926584</td>\n",
       "      <td>Mon Jun 01 11:08:39 PDT 2009</td>\n",
       "      <td>NO_QUERY</td>\n",
       "      <td>lost_dog</td>\n",
       "      <td>@LaMonteG I am lost. Please help me find a good home.</td>\n",
       "    </tr>\n",
       "    <tr>\n",
       "      <th>366993</th>\n",
       "      <td>0</td>\n",
       "      <td>2049057520</td>\n",
       "      <td>Fri Jun 05 16:13:21 PDT 2009</td>\n",
       "      <td>NO_QUERY</td>\n",
       "      <td>lost_dog</td>\n",
       "      <td>@laffinboy95 I am lost. Please help me find a good home.</td>\n",
       "    </tr>\n",
       "    <tr>\n",
       "      <th>122513</th>\n",
       "      <td>0</td>\n",
       "      <td>1833724389</td>\n",
       "      <td>Mon May 18 00:14:12 PDT 2009</td>\n",
       "      <td>NO_QUERY</td>\n",
       "      <td>lost_dog</td>\n",
       "      <td>@mitchellYO I am lost. Please help me find a good home.</td>\n",
       "    </tr>\n",
       "    <tr>\n",
       "      <th>327255</th>\n",
       "      <td>0</td>\n",
       "      <td>2009275359</td>\n",
       "      <td>Tue Jun 02 15:25:49 PDT 2009</td>\n",
       "      <td>NO_QUERY</td>\n",
       "      <td>lost_dog</td>\n",
       "      <td>@amandakuhlman I am lost. Please help me find a good home.</td>\n",
       "    </tr>\n",
       "  </tbody>\n",
       "</table>\n",
       "</div>"
      ],
      "text/plain": [
       "        Polarity    Id_Tweet                          Date     Query  \\\n",
       "458249         0  2071838614  Sun Jun 07 20:00:09 PDT 2009  NO_QUERY   \n",
       "127018         0  1834636227  Mon May 18 03:40:54 PDT 2009  NO_QUERY   \n",
       "733199         0  2264261038  Sun Jun 21 03:17:46 PDT 2009  NO_QUERY   \n",
       "767437         0  2300473364  Tue Jun 23 14:11:29 PDT 2009  NO_QUERY   \n",
       "295153         0  1996787774  Mon Jun 01 15:41:29 PDT 2009  NO_QUERY   \n",
       "339380         0  2014633167  Wed Jun 03 02:10:30 PDT 2009  NO_QUERY   \n",
       "398750         0  2056972547  Sat Jun 06 12:08:07 PDT 2009  NO_QUERY   \n",
       "515279         0  2190806790  Tue Jun 16 03:46:48 PDT 2009  NO_QUERY   \n",
       "81949          0  1752895305  Sat May 09 23:21:33 PDT 2009  NO_QUERY   \n",
       "692301         0  2252460811  Sat Jun 20 06:19:01 PDT 2009  NO_QUERY   \n",
       "347002         0  2016332598  Wed Jun 03 06:35:32 PDT 2009  NO_QUERY   \n",
       "514184         0  2190561034  Tue Jun 16 03:04:51 PDT 2009  NO_QUERY   \n",
       "141334         0  1881241919  Fri May 22 04:04:01 PDT 2009  NO_QUERY   \n",
       "603563         0  2221696997  Thu Jun 18 05:51:08 PDT 2009  NO_QUERY   \n",
       "658070         0  2241310875  Fri Jun 19 10:47:47 PDT 2009  NO_QUERY   \n",
       "573164         0  2209730317  Wed Jun 17 10:43:47 PDT 2009  NO_QUERY   \n",
       "286495         0  1993926584  Mon Jun 01 11:08:39 PDT 2009  NO_QUERY   \n",
       "366993         0  2049057520  Fri Jun 05 16:13:21 PDT 2009  NO_QUERY   \n",
       "122513         0  1833724389  Mon May 18 00:14:12 PDT 2009  NO_QUERY   \n",
       "327255         0  2009275359  Tue Jun 02 15:25:49 PDT 2009  NO_QUERY   \n",
       "\n",
       "            User  \\\n",
       "458249  lost_dog   \n",
       "127018  lost_dog   \n",
       "733199  lost_dog   \n",
       "767437  lost_dog   \n",
       "295153  lost_dog   \n",
       "339380  lost_dog   \n",
       "398750  lost_dog   \n",
       "515279  lost_dog   \n",
       "81949   lost_dog   \n",
       "692301  lost_dog   \n",
       "347002  lost_dog   \n",
       "514184  lost_dog   \n",
       "141334  lost_dog   \n",
       "603563  lost_dog   \n",
       "658070  lost_dog   \n",
       "573164  lost_dog   \n",
       "286495  lost_dog   \n",
       "366993  lost_dog   \n",
       "122513  lost_dog   \n",
       "327255  lost_dog   \n",
       "\n",
       "                                                                 Text  \n",
       "458249      @gregkureluk I am lost. Please help me find a good home.   \n",
       "127018       @johnmashni I am lost. Please help me find a good home.   \n",
       "733199     @jesswholohan I am lost. Please help me find a good home.   \n",
       "767437        @steph0515 I am lost. Please help me find a good home.   \n",
       "295153        @shatter93 I am lost. Please help me find a good home.   \n",
       "339380         @yLanaRae I am lost. Please help me find a good home.   \n",
       "398750         @cotntail I am lost. Please help me find a good home.   \n",
       "515279     @RoryConstant I am lost. Please help me find a good home.   \n",
       "81949        @dewdropper I am lost. Please help me find a good home.   \n",
       "692301    @nevillecurtis I am lost. Please help me find a good home.   \n",
       "347002  @realestatechick I am lost. Please help me find a good home.   \n",
       "514184    @herefordtimes I am lost. Please help me find a good home.   \n",
       "141334         @trashlee I am lost. Please help me find a good home.   \n",
       "603563       @npdatadiva I am lost. Please help me find a good home.   \n",
       "658070       @moroccoblu I am lost. Please help me find a good home.   \n",
       "573164     @Bergtronzero I am lost. Please help me find a good home.   \n",
       "286495         @LaMonteG I am lost. Please help me find a good home.   \n",
       "366993      @laffinboy95 I am lost. Please help me find a good home.   \n",
       "122513       @mitchellYO I am lost. Please help me find a good home.   \n",
       "327255    @amandakuhlman I am lost. Please help me find a good home.   "
      ]
     },
     "execution_count": 9,
     "metadata": {},
     "output_type": "execute_result"
    }
   ],
   "source": [
    "#Mostrar el dataset filtrado por un nombre de usuario\n",
    "\n",
    "df.loc[df['User'] == 'lost_dog'].sample(20)"
   ]
  },
  {
   "cell_type": "code",
   "execution_count": 10,
   "metadata": {},
   "outputs": [],
   "source": [
    "# Lista de usuarios cuyos comentarios deseas eliminar\n",
    "usuarios_a_eliminar = ['lost_dog', 'tweepet', 'SallytheShizzle']  # Agrega los usuarios que desees eliminar\n",
    "\n",
    "# Filtrar el DataFrame para excluir estos usuarios\n",
    "df = df[~df['User'].isin(usuarios_a_eliminar)]\n"
   ]
  },
  {
   "cell_type": "code",
   "execution_count": 11,
   "metadata": {},
   "outputs": [],
   "source": [
    "#df.loc[df['User'] == 'lost_dog'].sample()"
   ]
  },
  {
   "cell_type": "code",
   "execution_count": 12,
   "metadata": {},
   "outputs": [
    {
     "data": {
      "text/html": [
       "<div>\n",
       "<style scoped>\n",
       "    .dataframe tbody tr th:only-of-type {\n",
       "        vertical-align: middle;\n",
       "    }\n",
       "\n",
       "    .dataframe tbody tr th {\n",
       "        vertical-align: top;\n",
       "    }\n",
       "\n",
       "    .dataframe thead th {\n",
       "        text-align: right;\n",
       "    }\n",
       "</style>\n",
       "<table border=\"1\" class=\"dataframe\">\n",
       "  <thead>\n",
       "    <tr style=\"text-align: right;\">\n",
       "      <th></th>\n",
       "      <th>Polarity</th>\n",
       "      <th>Id_Tweet</th>\n",
       "      <th>Date</th>\n",
       "      <th>Query</th>\n",
       "      <th>User</th>\n",
       "      <th>Text</th>\n",
       "    </tr>\n",
       "  </thead>\n",
       "  <tbody>\n",
       "    <tr>\n",
       "      <th>0</th>\n",
       "      <td>0</td>\n",
       "      <td>1467810672</td>\n",
       "      <td>Mon Apr 06 22:19:49 PDT 2009</td>\n",
       "      <td>NO_QUERY</td>\n",
       "      <td>scotthamilton</td>\n",
       "      <td>is upset that he can't update his Facebook by texting it... and might cry as a result  School today also. Blah!</td>\n",
       "    </tr>\n",
       "    <tr>\n",
       "      <th>1</th>\n",
       "      <td>0</td>\n",
       "      <td>1467810917</td>\n",
       "      <td>Mon Apr 06 22:19:53 PDT 2009</td>\n",
       "      <td>NO_QUERY</td>\n",
       "      <td>mattycus</td>\n",
       "      <td>@Kenichan I dived many times for the ball. Managed to save 50%  The rest go out of bounds</td>\n",
       "    </tr>\n",
       "    <tr>\n",
       "      <th>2</th>\n",
       "      <td>0</td>\n",
       "      <td>1467811184</td>\n",
       "      <td>Mon Apr 06 22:19:57 PDT 2009</td>\n",
       "      <td>NO_QUERY</td>\n",
       "      <td>ElleCTF</td>\n",
       "      <td>my whole body feels itchy and like its on fire</td>\n",
       "    </tr>\n",
       "    <tr>\n",
       "      <th>3</th>\n",
       "      <td>0</td>\n",
       "      <td>1467811193</td>\n",
       "      <td>Mon Apr 06 22:19:57 PDT 2009</td>\n",
       "      <td>NO_QUERY</td>\n",
       "      <td>Karoli</td>\n",
       "      <td>@nationwideclass no, it's not behaving at all. i'm mad. why am i here? because I can't see you all over there.</td>\n",
       "    </tr>\n",
       "    <tr>\n",
       "      <th>4</th>\n",
       "      <td>0</td>\n",
       "      <td>1467811372</td>\n",
       "      <td>Mon Apr 06 22:20:00 PDT 2009</td>\n",
       "      <td>NO_QUERY</td>\n",
       "      <td>joy_wolf</td>\n",
       "      <td>@Kwesidei not the whole crew</td>\n",
       "    </tr>\n",
       "    <tr>\n",
       "      <th>...</th>\n",
       "      <td>...</td>\n",
       "      <td>...</td>\n",
       "      <td>...</td>\n",
       "      <td>...</td>\n",
       "      <td>...</td>\n",
       "      <td>...</td>\n",
       "    </tr>\n",
       "    <tr>\n",
       "      <th>1048567</th>\n",
       "      <td>4</td>\n",
       "      <td>1960186342</td>\n",
       "      <td>Fri May 29 07:33:44 PDT 2009</td>\n",
       "      <td>NO_QUERY</td>\n",
       "      <td>Madelinedugganx</td>\n",
       "      <td>My GrandMa is making Dinenr with my Mum</td>\n",
       "    </tr>\n",
       "    <tr>\n",
       "      <th>1048568</th>\n",
       "      <td>4</td>\n",
       "      <td>1960186409</td>\n",
       "      <td>Fri May 29 07:33:43 PDT 2009</td>\n",
       "      <td>NO_QUERY</td>\n",
       "      <td>OffRoad_Dude</td>\n",
       "      <td>Mid-morning snack time... A bowl of cheese noodles. Yum.</td>\n",
       "    </tr>\n",
       "    <tr>\n",
       "      <th>1048569</th>\n",
       "      <td>4</td>\n",
       "      <td>1960186429</td>\n",
       "      <td>Fri May 29 07:33:44 PDT 2009</td>\n",
       "      <td>NO_QUERY</td>\n",
       "      <td>Falchion</td>\n",
       "      <td>@ShaDeLa same here  say it like from the Terminiator movies. comes off like just 3 words. :-D</td>\n",
       "    </tr>\n",
       "    <tr>\n",
       "      <th>1048570</th>\n",
       "      <td>4</td>\n",
       "      <td>1960186445</td>\n",
       "      <td>Fri May 29 07:33:44 PDT 2009</td>\n",
       "      <td>NO_QUERY</td>\n",
       "      <td>jonasobsessedx</td>\n",
       "      <td>@DestinyHope92 im great thaanks  wbuu?</td>\n",
       "    </tr>\n",
       "    <tr>\n",
       "      <th>1048571</th>\n",
       "      <td>4</td>\n",
       "      <td>1960186607</td>\n",
       "      <td>Fri May 29 07:33:45 PDT 2009</td>\n",
       "      <td>NO_QUERY</td>\n",
       "      <td>sugababez</td>\n",
       "      <td>cant wait til her date this weekend</td>\n",
       "    </tr>\n",
       "  </tbody>\n",
       "</table>\n",
       "<p>1047822 rows × 6 columns</p>\n",
       "</div>"
      ],
      "text/plain": [
       "         Polarity    Id_Tweet                          Date     Query  \\\n",
       "0               0  1467810672  Mon Apr 06 22:19:49 PDT 2009  NO_QUERY   \n",
       "1               0  1467810917  Mon Apr 06 22:19:53 PDT 2009  NO_QUERY   \n",
       "2               0  1467811184  Mon Apr 06 22:19:57 PDT 2009  NO_QUERY   \n",
       "3               0  1467811193  Mon Apr 06 22:19:57 PDT 2009  NO_QUERY   \n",
       "4               0  1467811372  Mon Apr 06 22:20:00 PDT 2009  NO_QUERY   \n",
       "...           ...         ...                           ...       ...   \n",
       "1048567         4  1960186342  Fri May 29 07:33:44 PDT 2009  NO_QUERY   \n",
       "1048568         4  1960186409  Fri May 29 07:33:43 PDT 2009  NO_QUERY   \n",
       "1048569         4  1960186429  Fri May 29 07:33:44 PDT 2009  NO_QUERY   \n",
       "1048570         4  1960186445  Fri May 29 07:33:44 PDT 2009  NO_QUERY   \n",
       "1048571         4  1960186607  Fri May 29 07:33:45 PDT 2009  NO_QUERY   \n",
       "\n",
       "                    User  \\\n",
       "0          scotthamilton   \n",
       "1               mattycus   \n",
       "2                ElleCTF   \n",
       "3                 Karoli   \n",
       "4               joy_wolf   \n",
       "...                  ...   \n",
       "1048567  Madelinedugganx   \n",
       "1048568     OffRoad_Dude   \n",
       "1048569         Falchion   \n",
       "1048570   jonasobsessedx   \n",
       "1048571        sugababez   \n",
       "\n",
       "                                                                                                                    Text  \n",
       "0        is upset that he can't update his Facebook by texting it... and might cry as a result  School today also. Blah!  \n",
       "1                              @Kenichan I dived many times for the ball. Managed to save 50%  The rest go out of bounds  \n",
       "2                                                                        my whole body feels itchy and like its on fire   \n",
       "3        @nationwideclass no, it's not behaving at all. i'm mad. why am i here? because I can't see you all over there.   \n",
       "4                                                                                          @Kwesidei not the whole crew   \n",
       "...                                                                                                                  ...  \n",
       "1048567                                                                         My GrandMa is making Dinenr with my Mum   \n",
       "1048568                                                        Mid-morning snack time... A bowl of cheese noodles. Yum.   \n",
       "1048569                    @ShaDeLa same here  say it like from the Terminiator movies. comes off like just 3 words. :-D  \n",
       "1048570                                                                           @DestinyHope92 im great thaanks  wbuu?  \n",
       "1048571                                                                             cant wait til her date this weekend   \n",
       "\n",
       "[1047822 rows x 6 columns]"
      ]
     },
     "execution_count": 12,
     "metadata": {},
     "output_type": "execute_result"
    }
   ],
   "source": [
    "df"
   ]
  },
  {
   "cell_type": "code",
   "execution_count": 13,
   "metadata": {},
   "outputs": [
    {
     "data": {
      "text/plain": [
       "Query\n",
       "NO_QUERY    1047822\n",
       "Name: count, dtype: int64"
      ]
     },
     "execution_count": 13,
     "metadata": {},
     "output_type": "execute_result"
    }
   ],
   "source": [
    "df['Query'].value_counts()"
   ]
  },
  {
   "cell_type": "code",
   "execution_count": 14,
   "metadata": {},
   "outputs": [
    {
     "name": "stderr",
     "output_type": "stream",
     "text": [
      "C:\\Users\\aluca\\AppData\\Local\\Temp\\ipykernel_2056\\4052145128.py:1: SettingWithCopyWarning: \n",
      "A value is trying to be set on a copy of a slice from a DataFrame\n",
      "\n",
      "See the caveats in the documentation: https://pandas.pydata.org/pandas-docs/stable/user_guide/indexing.html#returning-a-view-versus-a-copy\n",
      "  df.drop(columns=['Query'], inplace=True)\n"
     ]
    },
    {
     "data": {
      "text/html": [
       "<div>\n",
       "<style scoped>\n",
       "    .dataframe tbody tr th:only-of-type {\n",
       "        vertical-align: middle;\n",
       "    }\n",
       "\n",
       "    .dataframe tbody tr th {\n",
       "        vertical-align: top;\n",
       "    }\n",
       "\n",
       "    .dataframe thead th {\n",
       "        text-align: right;\n",
       "    }\n",
       "</style>\n",
       "<table border=\"1\" class=\"dataframe\">\n",
       "  <thead>\n",
       "    <tr style=\"text-align: right;\">\n",
       "      <th></th>\n",
       "      <th>Polarity</th>\n",
       "      <th>Id_Tweet</th>\n",
       "      <th>Date</th>\n",
       "      <th>User</th>\n",
       "      <th>Text</th>\n",
       "    </tr>\n",
       "  </thead>\n",
       "  <tbody>\n",
       "    <tr>\n",
       "      <th>0</th>\n",
       "      <td>0</td>\n",
       "      <td>1467810672</td>\n",
       "      <td>Mon Apr 06 22:19:49 PDT 2009</td>\n",
       "      <td>scotthamilton</td>\n",
       "      <td>is upset that he can't update his Facebook by texting it... and might cry as a result  School today also. Blah!</td>\n",
       "    </tr>\n",
       "    <tr>\n",
       "      <th>1</th>\n",
       "      <td>0</td>\n",
       "      <td>1467810917</td>\n",
       "      <td>Mon Apr 06 22:19:53 PDT 2009</td>\n",
       "      <td>mattycus</td>\n",
       "      <td>@Kenichan I dived many times for the ball. Managed to save 50%  The rest go out of bounds</td>\n",
       "    </tr>\n",
       "    <tr>\n",
       "      <th>2</th>\n",
       "      <td>0</td>\n",
       "      <td>1467811184</td>\n",
       "      <td>Mon Apr 06 22:19:57 PDT 2009</td>\n",
       "      <td>ElleCTF</td>\n",
       "      <td>my whole body feels itchy and like its on fire</td>\n",
       "    </tr>\n",
       "    <tr>\n",
       "      <th>3</th>\n",
       "      <td>0</td>\n",
       "      <td>1467811193</td>\n",
       "      <td>Mon Apr 06 22:19:57 PDT 2009</td>\n",
       "      <td>Karoli</td>\n",
       "      <td>@nationwideclass no, it's not behaving at all. i'm mad. why am i here? because I can't see you all over there.</td>\n",
       "    </tr>\n",
       "    <tr>\n",
       "      <th>4</th>\n",
       "      <td>0</td>\n",
       "      <td>1467811372</td>\n",
       "      <td>Mon Apr 06 22:20:00 PDT 2009</td>\n",
       "      <td>joy_wolf</td>\n",
       "      <td>@Kwesidei not the whole crew</td>\n",
       "    </tr>\n",
       "  </tbody>\n",
       "</table>\n",
       "</div>"
      ],
      "text/plain": [
       "   Polarity    Id_Tweet                          Date           User  \\\n",
       "0         0  1467810672  Mon Apr 06 22:19:49 PDT 2009  scotthamilton   \n",
       "1         0  1467810917  Mon Apr 06 22:19:53 PDT 2009       mattycus   \n",
       "2         0  1467811184  Mon Apr 06 22:19:57 PDT 2009        ElleCTF   \n",
       "3         0  1467811193  Mon Apr 06 22:19:57 PDT 2009         Karoli   \n",
       "4         0  1467811372  Mon Apr 06 22:20:00 PDT 2009       joy_wolf   \n",
       "\n",
       "                                                                                                              Text  \n",
       "0  is upset that he can't update his Facebook by texting it... and might cry as a result  School today also. Blah!  \n",
       "1                        @Kenichan I dived many times for the ball. Managed to save 50%  The rest go out of bounds  \n",
       "2                                                                  my whole body feels itchy and like its on fire   \n",
       "3  @nationwideclass no, it's not behaving at all. i'm mad. why am i here? because I can't see you all over there.   \n",
       "4                                                                                    @Kwesidei not the whole crew   "
      ]
     },
     "execution_count": 14,
     "metadata": {},
     "output_type": "execute_result"
    }
   ],
   "source": [
    "df.drop(columns=['Query'], inplace=True)\n",
    "df.head()"
   ]
  },
  {
   "cell_type": "markdown",
   "metadata": {},
   "source": [
    "### La columna 'Query' no aporta valor al df ya que toda la informacion es la misma."
   ]
  },
  {
   "cell_type": "code",
   "execution_count": 15,
   "metadata": {},
   "outputs": [
    {
     "name": "stderr",
     "output_type": "stream",
     "text": [
      "C:\\Users\\aluca\\AppData\\Local\\Temp\\ipykernel_2056\\2161282555.py:3: SettingWithCopyWarning: \n",
      "A value is trying to be set on a copy of a slice from a DataFrame.\n",
      "Try using .loc[row_indexer,col_indexer] = value instead\n",
      "\n",
      "See the caveats in the documentation: https://pandas.pydata.org/pandas-docs/stable/user_guide/indexing.html#returning-a-view-versus-a-copy\n",
      "  df['Polarity'] = df['Polarity'].replace(4, 1)\n"
     ]
    },
    {
     "data": {
      "text/plain": [
       "Polarity\n",
       "0    799264\n",
       "1    248558\n",
       "Name: count, dtype: int64"
      ]
     },
     "execution_count": 15,
     "metadata": {},
     "output_type": "execute_result"
    }
   ],
   "source": [
    "# Remplazar el valor 4 por 1 en la columna Polarity\n",
    "\n",
    "df['Polarity'] = df['Polarity'].replace(4, 1)\n",
    "df['Polarity'].value_counts()"
   ]
  },
  {
   "cell_type": "markdown",
   "metadata": {},
   "source": [
    "### Remplazamos los valores de la columna objetivo para trabajarla de forma binaria (0 negativo, 1 positivo)"
   ]
  },
  {
   "cell_type": "code",
   "execution_count": 16,
   "metadata": {},
   "outputs": [
    {
     "name": "stderr",
     "output_type": "stream",
     "text": [
      "C:\\Users\\aluca\\AppData\\Local\\Temp\\ipykernel_2056\\1436940372.py:3: SettingWithCopyWarning: \n",
      "A value is trying to be set on a copy of a slice from a DataFrame.\n",
      "Try using .loc[row_indexer,col_indexer] = value instead\n",
      "\n",
      "See the caveats in the documentation: https://pandas.pydata.org/pandas-docs/stable/user_guide/indexing.html#returning-a-view-versus-a-copy\n",
      "  df['Date'] = df['Date'].str.replace(' PDT', '', regex=False)\n",
      "C:\\Users\\aluca\\AppData\\Local\\Temp\\ipykernel_2056\\1436940372.py:6: SettingWithCopyWarning: \n",
      "A value is trying to be set on a copy of a slice from a DataFrame.\n",
      "Try using .loc[row_indexer,col_indexer] = value instead\n",
      "\n",
      "See the caveats in the documentation: https://pandas.pydata.org/pandas-docs/stable/user_guide/indexing.html#returning-a-view-versus-a-copy\n",
      "  df['Date'] = pd.to_datetime(df['Date'], errors='coerce')\n"
     ]
    }
   ],
   "source": [
    "# Tratamiento a la columna Date\n",
    "# Remover la zona horaria del texto\n",
    "df['Date'] = df['Date'].str.replace(' PDT', '', regex=False)\n",
    "\n",
    "# Convertir a formato datetime\n",
    "df['Date'] = pd.to_datetime(df['Date'], errors='coerce')\n"
   ]
  },
  {
   "cell_type": "code",
   "execution_count": 17,
   "metadata": {},
   "outputs": [
    {
     "data": {
      "text/html": [
       "<div>\n",
       "<style scoped>\n",
       "    .dataframe tbody tr th:only-of-type {\n",
       "        vertical-align: middle;\n",
       "    }\n",
       "\n",
       "    .dataframe tbody tr th {\n",
       "        vertical-align: top;\n",
       "    }\n",
       "\n",
       "    .dataframe thead th {\n",
       "        text-align: right;\n",
       "    }\n",
       "</style>\n",
       "<table border=\"1\" class=\"dataframe\">\n",
       "  <thead>\n",
       "    <tr style=\"text-align: right;\">\n",
       "      <th></th>\n",
       "      <th>Polarity</th>\n",
       "      <th>Id_Tweet</th>\n",
       "      <th>Date</th>\n",
       "      <th>User</th>\n",
       "      <th>Text</th>\n",
       "    </tr>\n",
       "  </thead>\n",
       "  <tbody>\n",
       "    <tr>\n",
       "      <th>0</th>\n",
       "      <td>0</td>\n",
       "      <td>1467810672</td>\n",
       "      <td>2009-04-06 22:19:49</td>\n",
       "      <td>scotthamilton</td>\n",
       "      <td>is upset that he can't update his Facebook by texting it... and might cry as a result  School today also. Blah!</td>\n",
       "    </tr>\n",
       "    <tr>\n",
       "      <th>1</th>\n",
       "      <td>0</td>\n",
       "      <td>1467810917</td>\n",
       "      <td>2009-04-06 22:19:53</td>\n",
       "      <td>mattycus</td>\n",
       "      <td>@Kenichan I dived many times for the ball. Managed to save 50%  The rest go out of bounds</td>\n",
       "    </tr>\n",
       "    <tr>\n",
       "      <th>2</th>\n",
       "      <td>0</td>\n",
       "      <td>1467811184</td>\n",
       "      <td>2009-04-06 22:19:57</td>\n",
       "      <td>ElleCTF</td>\n",
       "      <td>my whole body feels itchy and like its on fire</td>\n",
       "    </tr>\n",
       "    <tr>\n",
       "      <th>3</th>\n",
       "      <td>0</td>\n",
       "      <td>1467811193</td>\n",
       "      <td>2009-04-06 22:19:57</td>\n",
       "      <td>Karoli</td>\n",
       "      <td>@nationwideclass no, it's not behaving at all. i'm mad. why am i here? because I can't see you all over there.</td>\n",
       "    </tr>\n",
       "    <tr>\n",
       "      <th>4</th>\n",
       "      <td>0</td>\n",
       "      <td>1467811372</td>\n",
       "      <td>2009-04-06 22:20:00</td>\n",
       "      <td>joy_wolf</td>\n",
       "      <td>@Kwesidei not the whole crew</td>\n",
       "    </tr>\n",
       "  </tbody>\n",
       "</table>\n",
       "</div>"
      ],
      "text/plain": [
       "   Polarity    Id_Tweet                Date           User  \\\n",
       "0         0  1467810672 2009-04-06 22:19:49  scotthamilton   \n",
       "1         0  1467810917 2009-04-06 22:19:53       mattycus   \n",
       "2         0  1467811184 2009-04-06 22:19:57        ElleCTF   \n",
       "3         0  1467811193 2009-04-06 22:19:57         Karoli   \n",
       "4         0  1467811372 2009-04-06 22:20:00       joy_wolf   \n",
       "\n",
       "                                                                                                              Text  \n",
       "0  is upset that he can't update his Facebook by texting it... and might cry as a result  School today also. Blah!  \n",
       "1                        @Kenichan I dived many times for the ball. Managed to save 50%  The rest go out of bounds  \n",
       "2                                                                  my whole body feels itchy and like its on fire   \n",
       "3  @nationwideclass no, it's not behaving at all. i'm mad. why am i here? because I can't see you all over there.   \n",
       "4                                                                                    @Kwesidei not the whole crew   "
      ]
     },
     "execution_count": 17,
     "metadata": {},
     "output_type": "execute_result"
    }
   ],
   "source": [
    "df.head(5)"
   ]
  },
  {
   "cell_type": "markdown",
   "metadata": {},
   "source": [
    "## Analisis con fechas (EDA)"
   ]
  },
  {
   "cell_type": "code",
   "execution_count": 18,
   "metadata": {},
   "outputs": [
    {
     "data": {
      "text/html": [
       "<div>\n",
       "<style scoped>\n",
       "    .dataframe tbody tr th:only-of-type {\n",
       "        vertical-align: middle;\n",
       "    }\n",
       "\n",
       "    .dataframe tbody tr th {\n",
       "        vertical-align: top;\n",
       "    }\n",
       "\n",
       "    .dataframe thead th {\n",
       "        text-align: right;\n",
       "    }\n",
       "</style>\n",
       "<table border=\"1\" class=\"dataframe\">\n",
       "  <thead>\n",
       "    <tr style=\"text-align: right;\">\n",
       "      <th></th>\n",
       "      <th>Polarity</th>\n",
       "      <th>Date</th>\n",
       "      <th>User</th>\n",
       "    </tr>\n",
       "  </thead>\n",
       "  <tbody>\n",
       "    <tr>\n",
       "      <th>0</th>\n",
       "      <td>0</td>\n",
       "      <td>2009-04-06 22:19:49</td>\n",
       "      <td>scotthamilton</td>\n",
       "    </tr>\n",
       "    <tr>\n",
       "      <th>1</th>\n",
       "      <td>0</td>\n",
       "      <td>2009-04-06 22:19:53</td>\n",
       "      <td>mattycus</td>\n",
       "    </tr>\n",
       "    <tr>\n",
       "      <th>2</th>\n",
       "      <td>0</td>\n",
       "      <td>2009-04-06 22:19:57</td>\n",
       "      <td>ElleCTF</td>\n",
       "    </tr>\n",
       "    <tr>\n",
       "      <th>3</th>\n",
       "      <td>0</td>\n",
       "      <td>2009-04-06 22:19:57</td>\n",
       "      <td>Karoli</td>\n",
       "    </tr>\n",
       "    <tr>\n",
       "      <th>4</th>\n",
       "      <td>0</td>\n",
       "      <td>2009-04-06 22:20:00</td>\n",
       "      <td>joy_wolf</td>\n",
       "    </tr>\n",
       "    <tr>\n",
       "      <th>...</th>\n",
       "      <td>...</td>\n",
       "      <td>...</td>\n",
       "      <td>...</td>\n",
       "    </tr>\n",
       "    <tr>\n",
       "      <th>1048567</th>\n",
       "      <td>1</td>\n",
       "      <td>2009-05-29 07:33:44</td>\n",
       "      <td>Madelinedugganx</td>\n",
       "    </tr>\n",
       "    <tr>\n",
       "      <th>1048568</th>\n",
       "      <td>1</td>\n",
       "      <td>2009-05-29 07:33:43</td>\n",
       "      <td>OffRoad_Dude</td>\n",
       "    </tr>\n",
       "    <tr>\n",
       "      <th>1048569</th>\n",
       "      <td>1</td>\n",
       "      <td>2009-05-29 07:33:44</td>\n",
       "      <td>Falchion</td>\n",
       "    </tr>\n",
       "    <tr>\n",
       "      <th>1048570</th>\n",
       "      <td>1</td>\n",
       "      <td>2009-05-29 07:33:44</td>\n",
       "      <td>jonasobsessedx</td>\n",
       "    </tr>\n",
       "    <tr>\n",
       "      <th>1048571</th>\n",
       "      <td>1</td>\n",
       "      <td>2009-05-29 07:33:45</td>\n",
       "      <td>sugababez</td>\n",
       "    </tr>\n",
       "  </tbody>\n",
       "</table>\n",
       "<p>1047822 rows × 3 columns</p>\n",
       "</div>"
      ],
      "text/plain": [
       "         Polarity                Date             User\n",
       "0               0 2009-04-06 22:19:49    scotthamilton\n",
       "1               0 2009-04-06 22:19:53         mattycus\n",
       "2               0 2009-04-06 22:19:57          ElleCTF\n",
       "3               0 2009-04-06 22:19:57           Karoli\n",
       "4               0 2009-04-06 22:20:00         joy_wolf\n",
       "...           ...                 ...              ...\n",
       "1048567         1 2009-05-29 07:33:44  Madelinedugganx\n",
       "1048568         1 2009-05-29 07:33:43     OffRoad_Dude\n",
       "1048569         1 2009-05-29 07:33:44         Falchion\n",
       "1048570         1 2009-05-29 07:33:44   jonasobsessedx\n",
       "1048571         1 2009-05-29 07:33:45        sugababez\n",
       "\n",
       "[1047822 rows x 3 columns]"
      ]
     },
     "execution_count": 18,
     "metadata": {},
     "output_type": "execute_result"
    }
   ],
   "source": [
    "df_Date_analisis = df[['Polarity', 'Date', 'User']] \n",
    "df_Date_analisis\n"
   ]
  },
  {
   "cell_type": "code",
   "execution_count": 19,
   "metadata": {},
   "outputs": [
    {
     "data": {
      "text/plain": [
       "Date\n",
       "2009    1047822\n",
       "Name: count, dtype: int64"
      ]
     },
     "execution_count": 19,
     "metadata": {},
     "output_type": "execute_result"
    }
   ],
   "source": [
    "df_Date_analisis['Date'].dt.year.value_counts() # Solo se tiene información del año 2009"
   ]
  },
  {
   "cell_type": "code",
   "execution_count": 20,
   "metadata": {},
   "outputs": [
    {
     "data": {
      "text/plain": [
       "Date\n",
       "6    533056\n",
       "5    414745\n",
       "4    100021\n",
       "Name: count, dtype: int64"
      ]
     },
     "execution_count": 20,
     "metadata": {},
     "output_type": "execute_result"
    }
   ],
   "source": [
    "df_Date_analisis['Date'].dt.month.value_counts() # Se tiene información de los meses de abril, mayo y junio "
   ]
  },
  {
   "cell_type": "code",
   "execution_count": 21,
   "metadata": {},
   "outputs": [],
   "source": [
    "#df_Date_analisis['Date'].dt.day.value_counts().sort_index() # Se tiene información de 'todos' los días de los meses de abril, mayo y junio"
   ]
  },
  {
   "cell_type": "code",
   "execution_count": 22,
   "metadata": {},
   "outputs": [],
   "source": [
    "# informacion de los dias del mes de junio\n",
    "#df_Date_analisis[df_Date_analisis['Date'].dt.month == 6]['Date'].dt.day.value_counts().sort_index()"
   ]
  },
  {
   "cell_type": "code",
   "execution_count": 23,
   "metadata": {},
   "outputs": [],
   "source": [
    "# informacion de los dias en el mes de mayo.\n",
    "#df_Date_analisis[df_Date_analisis['Date'].dt.month == 5]['Date'].dt.day.value_counts().sort_index()"
   ]
  },
  {
   "cell_type": "code",
   "execution_count": 24,
   "metadata": {},
   "outputs": [],
   "source": [
    "# informacion de los dias en el mes de abril\n",
    "#df_Date_analisis[df_Date_analisis['Date'].dt.month == 4]['Date'].dt.day.value_counts().sort_index()"
   ]
  },
  {
   "cell_type": "code",
   "execution_count": 25,
   "metadata": {},
   "outputs": [
    {
     "data": {
      "text/plain": [
       "Date\n",
       "0     55711\n",
       "1     49443\n",
       "2     48343\n",
       "3     48896\n",
       "4     51488\n",
       "5     53864\n",
       "6     56134\n",
       "7     59418\n",
       "8     51093\n",
       "9     42191\n",
       "10    39171\n",
       "11    38810\n",
       "12    30530\n",
       "13    28689\n",
       "14    28186\n",
       "15    29594\n",
       "16    33106\n",
       "17    30721\n",
       "18    32578\n",
       "19    35696\n",
       "20    38454\n",
       "21    50350\n",
       "22    55855\n",
       "23    59501\n",
       "Name: count, dtype: int64"
      ]
     },
     "execution_count": 25,
     "metadata": {},
     "output_type": "execute_result"
    }
   ],
   "source": [
    "# Distruiución de los comentarios por hora\n",
    "df_Date_analisis['Date'].dt.hour.value_counts().sort_index()"
   ]
  },
  {
   "cell_type": "code",
   "execution_count": 26,
   "metadata": {},
   "outputs": [
    {
     "data": {
      "image/png": "[encoded data removed]",
      "text/plain": [
       "<Figure size 1000x600 with 1 Axes>"
      ]
     },
     "metadata": {},
     "output_type": "display_data"
    }
   ],
   "source": [
    "# Graficar la distribución de los comentarios por hora\n",
    "import matplotlib.pyplot as plt\n",
    "\n",
    "df_Date_analisis['Date'].dt.hour.value_counts().sort_index().plot(kind='bar', figsize=(10, 6))\n",
    "plt.title('Distribución de comentarios por hora')\n",
    "plt.xlabel('Hora del día')\n",
    "plt.ylabel('Número de comentarios')\n",
    "plt.show()"
   ]
  },
  {
   "cell_type": "code",
   "execution_count": 27,
   "metadata": {},
   "outputs": [
    {
     "data": {
      "image/png": "[encoded data removed]",
      "text/plain": [
       "<Figure size 1000x600 with 1 Axes>"
      ]
     },
     "metadata": {},
     "output_type": "display_data"
    }
   ],
   "source": [
    "# Distribución de comentarios por día de la semana\n",
    "df_Date_analisis['Date'].dt.dayofweek.value_counts().sort_index()\n",
    "\n",
    "# Graficar la distribución de comentarios por día de la semana\n",
    "df_Date_analisis['Date'].dt.dayofweek.value_counts().sort_index().plot(kind='bar', figsize=(10, 6))\n",
    "plt.title('Distribución de comentarios por día de la semana')\n",
    "plt.xlabel('Día de la semana')\n",
    "plt.ylabel('Número de comentarios')\n",
    "plt.xticks(ticks=range(7), labels=['Lunes', 'Martes', 'Miércoles', 'Jueves', 'Viernes', 'Sábado', 'Domingo'], rotation=45)\n",
    "plt.show()\n"
   ]
  },
  {
   "cell_type": "markdown",
   "metadata": {},
   "source": [
    "## Preprocesamiento del conjunto de datos"
   ]
  },
  {
   "cell_type": "markdown",
   "metadata": {},
   "source": [
    "### Generando funcion de limpieza para los comentarios."
   ]
  },
  {
   "cell_type": "code",
   "execution_count": 28,
   "metadata": {},
   "outputs": [
    {
     "data": {
      "text/html": [
       "<div>\n",
       "<style scoped>\n",
       "    .dataframe tbody tr th:only-of-type {\n",
       "        vertical-align: middle;\n",
       "    }\n",
       "\n",
       "    .dataframe tbody tr th {\n",
       "        vertical-align: top;\n",
       "    }\n",
       "\n",
       "    .dataframe thead th {\n",
       "        text-align: right;\n",
       "    }\n",
       "</style>\n",
       "<table border=\"1\" class=\"dataframe\">\n",
       "  <thead>\n",
       "    <tr style=\"text-align: right;\">\n",
       "      <th></th>\n",
       "      <th>Polarity</th>\n",
       "      <th>Text</th>\n",
       "    </tr>\n",
       "  </thead>\n",
       "  <tbody>\n",
       "    <tr>\n",
       "      <th>0</th>\n",
       "      <td>0</td>\n",
       "      <td>is upset that he can't update his Facebook by texting it... and might cry as a result  School today also. Blah!</td>\n",
       "    </tr>\n",
       "    <tr>\n",
       "      <th>1</th>\n",
       "      <td>0</td>\n",
       "      <td>@Kenichan I dived many times for the ball. Managed to save 50%  The rest go out of bounds</td>\n",
       "    </tr>\n",
       "    <tr>\n",
       "      <th>2</th>\n",
       "      <td>0</td>\n",
       "      <td>my whole body feels itchy and like its on fire</td>\n",
       "    </tr>\n",
       "    <tr>\n",
       "      <th>3</th>\n",
       "      <td>0</td>\n",
       "      <td>@nationwideclass no, it's not behaving at all. i'm mad. why am i here? because I can't see you all over there.</td>\n",
       "    </tr>\n",
       "    <tr>\n",
       "      <th>4</th>\n",
       "      <td>0</td>\n",
       "      <td>@Kwesidei not the whole crew</td>\n",
       "    </tr>\n",
       "    <tr>\n",
       "      <th>...</th>\n",
       "      <td>...</td>\n",
       "      <td>...</td>\n",
       "    </tr>\n",
       "    <tr>\n",
       "      <th>1048567</th>\n",
       "      <td>1</td>\n",
       "      <td>My GrandMa is making Dinenr with my Mum</td>\n",
       "    </tr>\n",
       "    <tr>\n",
       "      <th>1048568</th>\n",
       "      <td>1</td>\n",
       "      <td>Mid-morning snack time... A bowl of cheese noodles. Yum.</td>\n",
       "    </tr>\n",
       "    <tr>\n",
       "      <th>1048569</th>\n",
       "      <td>1</td>\n",
       "      <td>@ShaDeLa same here  say it like from the Terminiator movies. comes off like just 3 words. :-D</td>\n",
       "    </tr>\n",
       "    <tr>\n",
       "      <th>1048570</th>\n",
       "      <td>1</td>\n",
       "      <td>@DestinyHope92 im great thaanks  wbuu?</td>\n",
       "    </tr>\n",
       "    <tr>\n",
       "      <th>1048571</th>\n",
       "      <td>1</td>\n",
       "      <td>cant wait til her date this weekend</td>\n",
       "    </tr>\n",
       "  </tbody>\n",
       "</table>\n",
       "<p>1047822 rows × 2 columns</p>\n",
       "</div>"
      ],
      "text/plain": [
       "         Polarity  \\\n",
       "0               0   \n",
       "1               0   \n",
       "2               0   \n",
       "3               0   \n",
       "4               0   \n",
       "...           ...   \n",
       "1048567         1   \n",
       "1048568         1   \n",
       "1048569         1   \n",
       "1048570         1   \n",
       "1048571         1   \n",
       "\n",
       "                                                                                                                    Text  \n",
       "0        is upset that he can't update his Facebook by texting it... and might cry as a result  School today also. Blah!  \n",
       "1                              @Kenichan I dived many times for the ball. Managed to save 50%  The rest go out of bounds  \n",
       "2                                                                        my whole body feels itchy and like its on fire   \n",
       "3        @nationwideclass no, it's not behaving at all. i'm mad. why am i here? because I can't see you all over there.   \n",
       "4                                                                                          @Kwesidei not the whole crew   \n",
       "...                                                                                                                  ...  \n",
       "1048567                                                                         My GrandMa is making Dinenr with my Mum   \n",
       "1048568                                                        Mid-morning snack time... A bowl of cheese noodles. Yum.   \n",
       "1048569                    @ShaDeLa same here  say it like from the Terminiator movies. comes off like just 3 words. :-D  \n",
       "1048570                                                                           @DestinyHope92 im great thaanks  wbuu?  \n",
       "1048571                                                                             cant wait til her date this weekend   \n",
       "\n",
       "[1047822 rows x 2 columns]"
      ]
     },
     "execution_count": 28,
     "metadata": {},
     "output_type": "execute_result"
    }
   ],
   "source": [
    "# Dataframe para analisis de comentarios\n",
    "\n",
    "df_Text_analisis = df[['Polarity','Text']]\n",
    "df_Text_analisis"
   ]
  },
  {
   "cell_type": "code",
   "execution_count": 29,
   "metadata": {},
   "outputs": [
    {
     "data": {
      "text/plain": [
       "927108                                                              I like Finland's entry for the Eurovision Songfestival: http://bit.ly/8QbFa  \n",
       "532337    @CritiktheDj LOL I know right?? Uhhh no I wish I can't miss work  were getting everything ready for the students graduation on Friday..\n",
       "259319                                                                                                        lauren's last episode of the hills \n",
       "179264                                   Our currency is dropping like nobodies business; not a good time to be going overseas  http://is.gd/JsgL\n",
       "919647                                                       @codelust @prolificd caught me at lunch today... you were correct of he stalking me \n",
       "475899                                                                                                                   @amycgraham yeah i know \n",
       "412302                                                                                                                I was cut off from Twitter \n",
       "195257                                                                                    @Fuzzy2230 i need a pandol too actually  my head hurts!\n",
       "830618                                                                                              @jacquesfurbeyre hi thanks.. it's a big help \n",
       "148545                                                   @sociaIIyawkward Just getting started. Gonna be doing a lot of running in and out today \n",
       "755973                                     yeah, shop is closed for the day!  not as busy as usual but the freaky weather is keeping people away \n",
       "122774                                                                                                                what a fuckin time to work \n",
       "129509                                                                           Had to keep seth home from school...sick little boy...poor baby \n",
       "667797                                                                     @BRIANMBENDIS I wish there was a u.k equivilant to comic con  sniff...\n",
       "32094                                                                           CANNOT WAIT FOR THIS SEMESTER TO END, LET IT BE OVVAAAH. Please. \n",
       "Name: Text, dtype: object"
      ]
     },
     "execution_count": 29,
     "metadata": {},
     "output_type": "execute_result"
    }
   ],
   "source": [
    "# Sampling para observar estructura de comentarios\n",
    "\n",
    "df_Text_analisis['Text'].sample(15)"
   ]
  },
  {
   "cell_type": "code",
   "execution_count": 30,
   "metadata": {},
   "outputs": [],
   "source": [
    "from textblob import TextBlob\n",
    "import html"
   ]
  },
  {
   "cell_type": "code",
   "execution_count": 31,
   "metadata": {},
   "outputs": [
    {
     "data": {
      "text/html": [
       "<div>\n",
       "<style scoped>\n",
       "    .dataframe tbody tr th:only-of-type {\n",
       "        vertical-align: middle;\n",
       "    }\n",
       "\n",
       "    .dataframe tbody tr th {\n",
       "        vertical-align: top;\n",
       "    }\n",
       "\n",
       "    .dataframe thead th {\n",
       "        text-align: right;\n",
       "    }\n",
       "</style>\n",
       "<table border=\"1\" class=\"dataframe\">\n",
       "  <thead>\n",
       "    <tr style=\"text-align: right;\">\n",
       "      <th></th>\n",
       "      <th>Polarity</th>\n",
       "      <th>Text</th>\n",
       "    </tr>\n",
       "  </thead>\n",
       "  <tbody>\n",
       "    <tr>\n",
       "      <th>0</th>\n",
       "      <td>0</td>\n",
       "      <td>is upset that he cant update his facebook by texting it and might cry as a result school today also blah</td>\n",
       "    </tr>\n",
       "    <tr>\n",
       "      <th>1</th>\n",
       "      <td>0</td>\n",
       "      <td>i dived many times for the ball managed to save the rest go out of bounds</td>\n",
       "    </tr>\n",
       "    <tr>\n",
       "      <th>2</th>\n",
       "      <td>0</td>\n",
       "      <td>my whole body feels itchy and like its on fire</td>\n",
       "    </tr>\n",
       "    <tr>\n",
       "      <th>3</th>\n",
       "      <td>0</td>\n",
       "      <td>no its not behaving at all im mad why am i here because i cant see you all over there</td>\n",
       "    </tr>\n",
       "    <tr>\n",
       "      <th>4</th>\n",
       "      <td>0</td>\n",
       "      <td>not the whole crew</td>\n",
       "    </tr>\n",
       "  </tbody>\n",
       "</table>\n",
       "</div>"
      ],
      "text/plain": [
       "   Polarity  \\\n",
       "0         0   \n",
       "1         0   \n",
       "2         0   \n",
       "3         0   \n",
       "4         0   \n",
       "\n",
       "                                                                                                       Text  \n",
       "0  is upset that he cant update his facebook by texting it and might cry as a result school today also blah  \n",
       "1                                 i dived many times for the ball managed to save the rest go out of bounds  \n",
       "2                                                           my whole body feels itchy and like its on fire   \n",
       "3                    no its not behaving at all im mad why am i here because i cant see you all over there   \n",
       "4                                                                                       not the whole crew   "
      ]
     },
     "execution_count": 31,
     "metadata": {},
     "output_type": "execute_result"
    }
   ],
   "source": [
    "import re\n",
    "\n",
    "def clean_data(df_Text_analisis):\n",
    "\n",
    "    # Asegurar que no hay valores NaN\n",
    "    df_Text_analisis['Text'] = df_Text_analisis['Text'].fillna('')\n",
    "\n",
    "    # Decodificar las entidades HTML\n",
    "    df_Text_analisis['Text'] = df_Text_analisis['Text'].apply(html.unescape)\n",
    "\n",
    "    # Convertir el texto a minúsculas.\n",
    "    df_Text_analisis['Text'] = df_Text_analisis['Text'].str.lower()\n",
    "    \n",
    "    # Reducir letras repetidas\n",
    "    df_Text_analisis['Text'] = df_Text_analisis['Text'].apply(lambda x: re.sub(r'(.)\\1{2,}', r'\\1\\1', x))\n",
    "\n",
    "    # Eliminar palabras repetidas\n",
    "    df_Text_analisis['Text'] = df_Text_analisis['Text'].apply(lambda x: re.sub(r'\\b(\\w+)( \\1\\b)+', r'\\1', x))\n",
    "    \n",
    "    # Eliminar menciones en la columna 'Text'\n",
    "    df_Text_analisis['Text'] = df_Text_analisis['Text'].apply(lambda x: re.sub(r'@\\w+', '', x))\n",
    "\n",
    "    # # Eliminar URLs\n",
    "    df_Text_analisis['Text'] = df_Text_analisis['Text'].apply(lambda x: re.sub(r'http\\S+|www\\.\\S+', '', x))\n",
    "    \n",
    "    # Eliminar puntuación\n",
    "    df_Text_analisis['Text'] = df_Text_analisis['Text'].apply(lambda x: re.sub(r'[^\\w\\s]', '', x))\n",
    "\n",
    "    # Eliminar números\n",
    "    df_Text_analisis['Text'] = df_Text_analisis['Text'].apply(lambda x: re.sub(r'\\d+', '', x))\n",
    "\n",
    "    # Reemplazar caracteres no alfanuméricos con un espacio\n",
    "    df_Text_analisis['Text'] = df_Text_analisis['Text'].apply(lambda x: re.sub(r'[^a-zA-Z0-9]', ' ', x))\n",
    "\n",
    "    # Eliminar espacios en blanco adicionales\n",
    "    df_Text_analisis['Text'] = df_Text_analisis['Text'].apply(lambda x: re.sub(r'\\s+', ' ', x))\n",
    "\n",
    "    # Corregir ortografía\n",
    "    #df_Text_analisis['Text'] = df_Text_analisis['Text'].apply(lambda x: str(TextBlob(x).correct()))\n",
    "\n",
    "    # Retornar DataFrame limpio\n",
    "    return df_Text_analisis\n",
    "\n",
    "df_Text_analisis_clean = clean_data(df_Text_analisis.copy())\n",
    "df_Text_analisis_clean.head()"
   ]
  },
  {
   "cell_type": "markdown",
   "metadata": {},
   "source": [
    "### Libreria para hacer correccion ortografica "
   ]
  },
  {
   "cell_type": "code",
   "execution_count": 32,
   "metadata": {},
   "outputs": [],
   "source": [
    "from symspellpy import SymSpell, Verbosity"
   ]
  },
  {
   "cell_type": "code",
   "execution_count": 33,
   "metadata": {},
   "outputs": [
    {
     "data": {
      "text/plain": [
       "True"
      ]
     },
     "execution_count": 33,
     "metadata": {},
     "output_type": "execute_result"
    }
   ],
   "source": [
    "# Configuración de SymSpell\n",
    "sym_spell = SymSpell(max_dictionary_edit_distance=2, prefix_length=7)\n",
    "\n",
    "# Cargar diccionario de frecuencia de palabras\n",
    "dictionary_path = \"../../Datos/frequency_dictionary_en_82_765.txt\"  # Ruta del diccionario\n",
    "sym_spell.load_dictionary(dictionary_path, term_index=0, count_index=1)"
   ]
  },
  {
   "cell_type": "code",
   "execution_count": 34,
   "metadata": {},
   "outputs": [],
   "source": [
    "def symspell_correct_text(text):\n",
    "    # Dividir el texto en palabras, corregirlas y volver a unirlas\n",
    "    corrected_text = []\n",
    "    for word in text.split():\n",
    "        # Buscar la mejor coincidencia para cada palabra\n",
    "        suggestions = sym_spell.lookup(word, Verbosity.CLOSEST, max_edit_distance=2)\n",
    "        # Si hay sugerencias, usar la mejor; de lo contrario, mantener la palabra original\n",
    "        best_match = suggestions[0].term if suggestions else word\n",
    "        corrected_text.append(best_match)\n",
    "    return ' '.join(corrected_text)"
   ]
  },
  {
   "cell_type": "code",
   "execution_count": 35,
   "metadata": {},
   "outputs": [],
   "source": [
    "# Aplicar la corrección al texto del DataFrame\n",
    "#df_Text_analisis_clean['Text'] = df_Text_analisis_clean['Text'].apply(symspell_correct_text)\n",
    "#df_Text_analisis_clean.head()"
   ]
  },
  {
   "cell_type": "code",
   "execution_count": 81,
   "metadata": {},
   "outputs": [
    {
     "data": {
      "text/plain": [
       "162697                                    today weigh lost pound week depress\n",
       "430760                               idea whi updat never show main page like\n",
       "54823                                        ya kejang amp pingsan thank dude\n",
       "692606                                           work day today much saturday\n",
       "964139     thank tab elder stray who appreci creatur comfort voluntarili stay\n",
       "838401                                                  go bed nail neon pink\n",
       "1043712                                                       lve jesus k bye\n",
       "870704            isnt truth lucki live beauti spot especi summer notic beach\n",
       "19037                                                         miss amaz peopl\n",
       "740330                              oh nevermind thought talk someon els baww\n",
       "74946                                fifa footbal soccer capetown almost gone\n",
       "317381                                                              yeah nice\n",
       "839546                                        feel like accomplish task sleep\n",
       "876205                                        precious develop hardwar precis\n",
       "372113                 eye hurt partayi tonight attempt look less oneey felin\n",
       "Name: Text, dtype: object"
      ]
     },
     "execution_count": 81,
     "metadata": {},
     "output_type": "execute_result"
    }
   ],
   "source": [
    "df_Text_analisis_clean['Text'].sample(15)"
   ]
  },
  {
   "cell_type": "markdown",
   "metadata": {},
   "source": [
    "### Limpieza de stopwords, lematizacion, Stemming."
   ]
  },
  {
   "cell_type": "code",
   "execution_count": 37,
   "metadata": {},
   "outputs": [
    {
     "name": "stderr",
     "output_type": "stream",
     "text": [
      "[nltk_data] Downloading package stopwords to\n",
      "[nltk_data]     C:\\Users\\aluca\\AppData\\Roaming\\nltk_data...\n",
      "[nltk_data]   Package stopwords is already up-to-date!\n",
      "[nltk_data] Downloading package wordnet to\n",
      "[nltk_data]     C:\\Users\\aluca\\AppData\\Roaming\\nltk_data...\n",
      "[nltk_data]   Package wordnet is already up-to-date!\n"
     ]
    }
   ],
   "source": [
    "import nltk\n",
    "nltk.download('stopwords')\n",
    "nltk.download('wordnet')\n",
    "from nltk.corpus import stopwords\n",
    "from nltk.stem.porter import PorterStemmer\n",
    "from nltk.stem.snowball import SnowballStemmer\n",
    "from nltk.stem.wordnet import WordNetLemmatizer\n"
   ]
  },
  {
   "cell_type": "code",
   "execution_count": 38,
   "metadata": {},
   "outputs": [
    {
     "name": "stderr",
     "output_type": "stream",
     "text": [
      "[nltk_data] Downloading package wordnet to\n",
      "[nltk_data]     C:\\Users\\aluca\\AppData\\Roaming\\nltk_data...\n",
      "[nltk_data]   Package wordnet is already up-to-date!\n",
      "[nltk_data] Downloading package omw-1.4 to\n",
      "[nltk_data]     C:\\Users\\aluca\\AppData\\Roaming\\nltk_data...\n",
      "[nltk_data]   Package omw-1.4 is already up-to-date!\n"
     ]
    },
    {
     "data": {
      "text/plain": [
       "True"
      ]
     },
     "execution_count": 38,
     "metadata": {},
     "output_type": "execute_result"
    }
   ],
   "source": [
    "nltk.download('wordnet')\n",
    "nltk.download('omw-1.4')"
   ]
  },
  {
   "cell_type": "code",
   "execution_count": 39,
   "metadata": {},
   "outputs": [
    {
     "data": {
      "text/plain": [
       "\" # Función para lematizar\\ndef lemmatize_column(corpus):\\n    lem = WordNetLemmatizer()\\n    # Aplicar lematización a cada palabra en cada fila de la columna 'Text'\\n    corpus = [' '.join([lem.lemmatize(word, pos='v') for word in text.split()]) for text in corpus]\\n    return corpus\\n\\n# Aplicar la función a la columna 'Text'\\ndf_Text_analisis_clean['Text'] = lemmatize_column(df_Text_analisis_clean['Text'])\\n\\n# Visualizar las primeras filas del DataFrame limpio\\ndf_Text_analisis_clean.head()\\n\""
      ]
     },
     "execution_count": 39,
     "metadata": {},
     "output_type": "execute_result"
    }
   ],
   "source": [
    "''' # Función para eliminar stopwords\n",
    "def remove_stopwords(text):\n",
    "    words = text.split()  # Dividir el texto en palabras\n",
    "    clean_words = [word for word in words if word not in stopwords.words('english')]  # Filtrar palabras\n",
    "    return ' '.join(clean_words)  # Volver a unir palabras\n",
    "\n",
    "# Aplicar la función a la columna 'Text' del DataFrame\n",
    "df_Text_analisis_clean['Text'] = df_Text_analisis_clean['Text'].apply(remove_stopwords)\n",
    "\n",
    "# Visualizar las primeras filas del DataFrame limpio\n",
    "df_Text_analisis_clean.head()\n",
    "'''\n",
    "''' # Función para lematizar\n",
    "def lemmatize_column(corpus):\n",
    "    lem = WordNetLemmatizer()\n",
    "    # Aplicar lematización a cada palabra en cada fila de la columna 'Text'\n",
    "    corpus = [' '.join([lem.lemmatize(word, pos='v') for word in text.split()]) for text in corpus]\n",
    "    return corpus\n",
    "\n",
    "# Aplicar la función a la columna 'Text'\n",
    "df_Text_analisis_clean['Text'] = lemmatize_column(df_Text_analisis_clean['Text'])\n",
    "\n",
    "# Visualizar las primeras filas del DataFrame limpio\n",
    "df_Text_analisis_clean.head()\n",
    "'''"
   ]
  },
  {
   "cell_type": "markdown",
   "metadata": {},
   "source": [
    "### Funcion de procesamiento."
   ]
  },
  {
   "cell_type": "code",
   "execution_count": 40,
   "metadata": {},
   "outputs": [],
   "source": [
    "# Remover stopwords\n",
    "def stopwords_removal(corpus):\n",
    "    wh_words = ['who', 'what', 'when', 'why', 'how', 'which', 'where', 'whom']\n",
    "    stop = set(stopwords.words('english'))\n",
    "    stop = stop - set(wh_words)  # Excluir palabras WH\n",
    "    return [' '.join([word for word in text.split() if word not in stop]) for text in corpus]\n",
    "\n",
    "# Stemming\n",
    "def stem(corpus, stem_type=None):\n",
    "    if stem_type == 'snowball':\n",
    "        stemmer = SnowballStemmer(language='english')\n",
    "    else:\n",
    "        stemmer = PorterStemmer()\n",
    "    return [' '.join([stemmer.stem(word) for word in text.split()]) for text in corpus]\n",
    "\n",
    "# Lematización\n",
    "def lemmatize_column(corpus):\n",
    "    lem = WordNetLemmatizer()\n",
    "    return [' '.join([lem.lemmatize(word, pos='v') for word in text.split()]) for text in corpus]\n",
    "\n",
    "# Preprocesamiento principal\n",
    "def preprocess(corpus, stemming=True, stem_type=None, remove_stopwords=True, lemmatization=False):\n",
    "    # Remover stopwords\n",
    "    if remove_stopwords:\n",
    "        corpus = stopwords_removal(corpus)\n",
    "    \n",
    "    # Aplicar stemming\n",
    "    if stemming:\n",
    "        corpus = stem(corpus, stem_type)\n",
    "    \n",
    "    # Aplicar lematización\n",
    "    if lemmatization:\n",
    "        corpus = lemmatize_column(corpus)\n",
    "    \n",
    "    return corpus"
   ]
  },
  {
   "cell_type": "code",
   "execution_count": 41,
   "metadata": {},
   "outputs": [],
   "source": [
    "# Aplicar preprocesamiento al texto\n",
    "df_Text_analisis_clean['Text'] = preprocess(df_Text_analisis_clean['Text'], stemming=True, stem_type='snowball', remove_stopwords=True, lemmatization=False)"
   ]
  },
  {
   "cell_type": "code",
   "execution_count": 79,
   "metadata": {},
   "outputs": [
    {
     "data": {
      "text/plain": [
       "167377                           beer garden ipod friday night shame ive got work tomorrow\n",
       "414794                                              headach guess when move bedroom around\n",
       "574358      oh crap eaten load chocol cooki self control buy special nme magazin dedic kol\n",
       "152398                                                  day alon ftl start paint geni room\n",
       "62035      geni week wind weve gotten quit bit done debunk famili stori proven neat servic\n",
       "905548        good morn kid go back school sick day look forward product week happi monday\n",
       "613344                                                               im hungri want chines\n",
       "544551                                                          bore bore bore need someth\n",
       "383555                                                                   miss good old day\n",
       "974550       attack dayor attack kid aw toy kid cours hope great wwmyspacecomthemesforscen\n",
       "82313                                                            cant tweet away home wifi\n",
       "942187                                                                look forward weekend\n",
       "1031128                tear away comput ireland pic need get rest ill readi face declutt w\n",
       "157098                                            slow work today hope tomorrow better day\n",
       "400499                              deliri compos fotcdisney song medley head day wont end\n",
       "Name: Text, dtype: object"
      ]
     },
     "execution_count": 79,
     "metadata": {},
     "output_type": "execute_result"
    }
   ],
   "source": [
    "df_Text_analisis_clean['Text'].sample(15)"
   ]
  },
  {
   "cell_type": "code",
   "execution_count": 43,
   "metadata": {},
   "outputs": [],
   "source": [
    "# Exportar el DataFrame limpio a un archivo CSV\n",
    "#df_Text_analisis_clean.to_csv('../../Datos/Text_Clean.csv', index=False)"
   ]
  },
  {
   "cell_type": "markdown",
   "metadata": {},
   "source": [
    "## Nube de palabras"
   ]
  },
  {
   "cell_type": "code",
   "execution_count": 44,
   "metadata": {},
   "outputs": [],
   "source": [
    "from wordcloud import WordCloud\n",
    "import matplotlib.pyplot as plt"
   ]
  },
  {
   "cell_type": "code",
   "execution_count": 45,
   "metadata": {},
   "outputs": [
    {
     "data": {
      "image/png": "[encoded data removed]",
      "text/plain": [
       "<Figure size 1000x500 with 1 Axes>"
      ]
     },
     "metadata": {},
     "output_type": "display_data"
    }
   ],
   "source": [
    "text_data = ' '.join(df_Text_analisis_clean['Text'].dropna())\n",
    "\n",
    "\n",
    "wordcloud = WordCloud(\n",
    "    width=800, height=400,  # Dimensiones de la nube\n",
    "    background_color='white',  # Fondo blanco\n",
    "    max_words=200,  # Máximo número de palabras\n",
    "    colormap='viridis',  # Esquema de colores\n",
    "    stopwords=None  # Puedes añadir palabras a ignorar si es necesario\n",
    ").generate(text_data)\n",
    "\n",
    "# Mostrar la nube de palabras\n",
    "plt.figure(figsize=(10, 5))\n",
    "plt.imshow(wordcloud, interpolation='bilinear')\n",
    "plt.axis('off')  # Ocultar ejes\n",
    "plt.title('Nube de Palabras')\n",
    "plt.show()"
   ]
  },
  {
   "cell_type": "code",
   "execution_count": 46,
   "metadata": {},
   "outputs": [
    {
     "name": "stderr",
     "output_type": "stream",
     "text": [
      "[nltk_data] Downloading package punkt to\n",
      "[nltk_data]     C:\\Users\\aluca\\AppData\\Roaming\\nltk_data...\n",
      "[nltk_data]   Package punkt is already up-to-date!\n",
      "[nltk_data] Downloading package punkt_tab to\n",
      "[nltk_data]     C:\\Users\\aluca\\AppData\\Roaming\\nltk_data...\n",
      "[nltk_data]   Package punkt_tab is already up-to-date!\n"
     ]
    }
   ],
   "source": [
    "nltk.download('punkt')\n",
    "nltk.download('punkt_tab')\n",
    "from nltk import ngrams\n",
    "from nltk.tokenize import word_tokenize"
   ]
  },
  {
   "cell_type": "code",
   "execution_count": 47,
   "metadata": {},
   "outputs": [
    {
     "data": {
      "text/html": [
       "<div>\n",
       "<style scoped>\n",
       "    .dataframe tbody tr th:only-of-type {\n",
       "        vertical-align: middle;\n",
       "    }\n",
       "\n",
       "    .dataframe tbody tr th {\n",
       "        vertical-align: top;\n",
       "    }\n",
       "\n",
       "    .dataframe thead th {\n",
       "        text-align: right;\n",
       "    }\n",
       "</style>\n",
       "<table border=\"1\" class=\"dataframe\">\n",
       "  <thead>\n",
       "    <tr style=\"text-align: right;\">\n",
       "      <th></th>\n",
       "      <th>Polarity</th>\n",
       "      <th>Text</th>\n",
       "    </tr>\n",
       "  </thead>\n",
       "  <tbody>\n",
       "    <tr>\n",
       "      <th>0</th>\n",
       "      <td>0</td>\n",
       "      <td>upset cant updat facebook text might cri result school today also blah</td>\n",
       "    </tr>\n",
       "    <tr>\n",
       "      <th>1</th>\n",
       "      <td>0</td>\n",
       "      <td>dive mani time ball manag save rest go bound</td>\n",
       "    </tr>\n",
       "    <tr>\n",
       "      <th>2</th>\n",
       "      <td>0</td>\n",
       "      <td>whole bodi feel itchi like fire</td>\n",
       "    </tr>\n",
       "    <tr>\n",
       "      <th>3</th>\n",
       "      <td>0</td>\n",
       "      <td>behav im mad whi cant see</td>\n",
       "    </tr>\n",
       "    <tr>\n",
       "      <th>4</th>\n",
       "      <td>0</td>\n",
       "      <td>whole crew</td>\n",
       "    </tr>\n",
       "    <tr>\n",
       "      <th>...</th>\n",
       "      <td>...</td>\n",
       "      <td>...</td>\n",
       "    </tr>\n",
       "    <tr>\n",
       "      <th>1048567</th>\n",
       "      <td>1</td>\n",
       "      <td>grandma make dinenr mum</td>\n",
       "    </tr>\n",
       "    <tr>\n",
       "      <th>1048568</th>\n",
       "      <td>1</td>\n",
       "      <td>midmorn snack time bowl chees noodl yum</td>\n",
       "    </tr>\n",
       "    <tr>\n",
       "      <th>1048569</th>\n",
       "      <td>1</td>\n",
       "      <td>say like termini movi come like word</td>\n",
       "    </tr>\n",
       "    <tr>\n",
       "      <th>1048570</th>\n",
       "      <td>1</td>\n",
       "      <td>im great thaank wbuu</td>\n",
       "    </tr>\n",
       "    <tr>\n",
       "      <th>1048571</th>\n",
       "      <td>1</td>\n",
       "      <td>cant wait til date weekend</td>\n",
       "    </tr>\n",
       "  </tbody>\n",
       "</table>\n",
       "<p>1047822 rows × 2 columns</p>\n",
       "</div>"
      ],
      "text/plain": [
       "         Polarity  \\\n",
       "0               0   \n",
       "1               0   \n",
       "2               0   \n",
       "3               0   \n",
       "4               0   \n",
       "...           ...   \n",
       "1048567         1   \n",
       "1048568         1   \n",
       "1048569         1   \n",
       "1048570         1   \n",
       "1048571         1   \n",
       "\n",
       "                                                                           Text  \n",
       "0        upset cant updat facebook text might cri result school today also blah  \n",
       "1                                  dive mani time ball manag save rest go bound  \n",
       "2                                               whole bodi feel itchi like fire  \n",
       "3                                                     behav im mad whi cant see  \n",
       "4                                                                    whole crew  \n",
       "...                                                                         ...  \n",
       "1048567                                                 grandma make dinenr mum  \n",
       "1048568                                 midmorn snack time bowl chees noodl yum  \n",
       "1048569                                    say like termini movi come like word  \n",
       "1048570                                                    im great thaank wbuu  \n",
       "1048571                                              cant wait til date weekend  \n",
       "\n",
       "[1047822 rows x 2 columns]"
      ]
     },
     "execution_count": 47,
     "metadata": {},
     "output_type": "execute_result"
    }
   ],
   "source": [
    "# data frame para analisis de n-gramas\n",
    "df_ngram = df_Text_analisis_clean.copy()\n",
    "df_ngram"
   ]
  },
  {
   "cell_type": "markdown",
   "metadata": {},
   "source": [
    "### Tokenizar el texto y obtener trigramas"
   ]
  },
  {
   "cell_type": "code",
   "execution_count": 48,
   "metadata": {},
   "outputs": [
    {
     "name": "stdout",
     "output_type": "stream",
     "text": [
      "                                                                     Text  \\\n",
      "0  upset cant updat facebook text might cri result school today also blah   \n",
      "1                            dive mani time ball manag save rest go bound   \n",
      "2                                         whole bodi feel itchi like fire   \n",
      "3                                               behav im mad whi cant see   \n",
      "4                                                              whole crew   \n",
      "\n",
      "                                                                                                                                                                                                                                    Ngrams  \n",
      "0  [(upset, cant, updat), (cant, updat, facebook), (updat, facebook, text), (facebook, text, might), (text, might, cri), (might, cri, result), (cri, result, school), (result, school, today), (school, today, also), (today, also, blah)]  \n",
      "1                                                                                             [(dive, mani, time), (mani, time, ball), (time, ball, manag), (ball, manag, save), (manag, save, rest), (save, rest, go), (rest, go, bound)]  \n",
      "2                                                                                                                                                     [(whole, bodi, feel), (bodi, feel, itchi), (feel, itchi, like), (itchi, like, fire)]  \n",
      "3                                                                                                                                                                   [(behav, im, mad), (im, mad, whi), (mad, whi, cant), (whi, cant, see)]  \n",
      "4                                                                                                                                                                                                                                       []  \n"
     ]
    }
   ],
   "source": [
    "# Tokenizar el texto\n",
    "df_ngram['Text_token'] = df_ngram['Text'].apply(lambda x: word_tokenize(x))\n",
    "\n",
    "# Generar n-gramas (por ejemplo, trigramas n=3)\n",
    "df_ngram['Ngrams'] = df_ngram['Text_token'].apply(lambda x: list(ngrams(x, 3)))\n",
    "\n",
    "# Verificar el resultado\n",
    "print(df_ngram[['Text', 'Ngrams']].head())"
   ]
  },
  {
   "cell_type": "markdown",
   "metadata": {},
   "source": [
    "### Conteo de los N-gramas"
   ]
  },
  {
   "cell_type": "markdown",
   "metadata": {},
   "source": [
    "### Metodo 1"
   ]
  },
  {
   "cell_type": "code",
   "execution_count": 49,
   "metadata": {},
   "outputs": [
    {
     "name": "stdout",
     "output_type": "stream",
     "text": [
      "                   Ngram  Frequency\n",
      "0          (im, gon, na)       4599\n",
      "1          (wan, na, go)       3617\n",
      "2        (dont, wan, na)       2721\n",
      "3   (happi, mother, day)       2180\n",
      "4        (gon, na, miss)       1746\n",
      "5     (dont, know, what)       1699\n",
      "6       (dont, want, go)       1140\n",
      "7          (gon, na, go)       1087\n",
      "8      (dont, know, how)       1015\n",
      "9      (wish, could, go)       1001\n",
      "10  (hope, feel, better)        947\n",
      "11        (wan, na, see)        922\n",
      "12     (cant, wait, see)        908\n",
      "13         (got, ta, go)        881\n",
      "14    (get, readi, work)        802\n",
      "15        (im, go, miss)        768\n",
      "16    (dont, feel, good)        766\n",
      "17        (gon, na, get)        738\n",
      "18     (dont, know, whi)        722\n",
      "19        (got, ta, get)        713\n",
      "20      (feel, like, im)        699\n",
      "21      (get, readi, go)        680\n",
      "22     (go, back, sleep)        638\n",
      "23  (feel, better, soon)        634\n",
      "24      (want, go, back)        626\n",
      "25      (want, go, home)        621\n",
      "26     (im, sorri, hear)        581\n",
      "27    (realli, want, go)        557\n",
      "28     (realli, wan, na)        540\n",
      "29        (na, go, home)        537\n",
      "30       (think, im, go)        507\n",
      "31    (dont, feel, like)        501\n",
      "32    (feel, like, crap)        484\n",
      "33      (go, back, work)        481\n",
      "34  (happi, father, day)        453\n",
      "35        (na, go, back)        452\n",
      "36    (cant, wait, till)        448\n",
      "37  (realli, dont, want)        445\n",
      "38        (wan, na, get)        438\n",
      "39      (think, im, gon)        429\n",
      "40  (sleep, last, night)        429\n",
      "41         (im, go, bed)        427\n",
      "42    (dont, even, know)        426\n",
      "43       (go, back, bed)        421\n",
      "44  (make, feel, better)        411\n",
      "45      (want, go, work)        408\n",
      "46       (got, ta, work)        403\n",
      "47    (feel, like, shit)        401\n",
      "48    (mtv, movi, award)        400\n",
      "49      (wan, na, watch)        398\n"
     ]
    }
   ],
   "source": [
    "# Contar la frecuencia de los n-gramas\n",
    "ngram_freq = df_ngram['Ngrams'].explode().value_counts().reset_index()\n",
    "ngram_freq.columns = ['Ngram', 'Frequency']\n",
    "\n",
    "# Verificar el resultado\n",
    "print(ngram_freq.head(50))\n",
    "\n"
   ]
  },
  {
   "cell_type": "markdown",
   "metadata": {},
   "source": [
    "### Metodo 2"
   ]
  },
  {
   "cell_type": "code",
   "execution_count": 50,
   "metadata": {},
   "outputs": [
    {
     "name": "stdout",
     "output_type": "stream",
     "text": [
      "                 Ngram  Frequency\n",
      "46    happi mother day       2180\n",
      "17      dont know what       1699\n",
      "24        dont want go       1143\n",
      "47    hope feel better       1037\n",
      "16       dont know how       1016\n",
      "98       wish could go       1005\n",
      "57       im gonna miss        958\n",
      "8        cant wait see        908\n",
      "22       dont wanna go        869\n",
      "35      get readi work        802\n",
      "53          im go miss        768\n",
      "13      dont feel good        767\n",
      "19       dont know whi        722\n",
      "31        feel like im        700\n",
      "34        get readi go        681\n",
      "39       go back sleep        638\n",
      "28    feel better soon        634\n",
      "89        want go back        626\n",
      "90        want go home        621\n",
      "61       im sorri hear        581\n",
      "77      realli want go        559\n",
      "87       wanna go home        514\n",
      "84         think im go        507\n",
      "14      dont feel like        501\n",
      "29      feel like crap        484\n",
      "40        go back work        481\n",
      "45    happi father day        453\n",
      "9       cant wait till        448\n",
      "75    realli dont want        445\n",
      "69    make feel better        434\n",
      "80    sleep last night        429\n",
      "85      think im gonna        428\n",
      "50           im go bed        427\n",
      "12      dont even know        426\n",
      "86       wanna go back        425\n",
      "37         go back bed        421\n",
      "48     hope get better        412\n",
      "93        want go work        408\n",
      "32      feel like shit        401\n",
      "72      mtv movi award        400\n",
      "63       know how feel        393\n",
      "2   back work tomorrow        389\n",
      "83        think im get        368\n",
      "36       get well soon        364\n",
      "66     last day school        362\n",
      "65      know what mean        359\n",
      "49         im get sick        347\n",
      "1         aww im sorri        342\n",
      "43   good morn everyon        338\n",
      "59      im pretti sure        336\n"
     ]
    }
   ],
   "source": [
    "# Conteo de n-gramas con el metodo CountVectorizer\n",
    "\n",
    "from sklearn.feature_extraction.text import CountVectorizer\n",
    "\n",
    "# Crear un objeto CountVectorizer\n",
    "vectorizer = CountVectorizer(ngram_range=(3, 3), max_features=100)\n",
    "\n",
    "# Ajustar y transformar el texto\n",
    "X = vectorizer.fit_transform(df_ngram['Text'])\n",
    "\n",
    "# Obtener las palabras n-grama\n",
    "ngrams = vectorizer.get_feature_names_out()\n",
    "\n",
    "# Obtener la frecuencia de las palabras n-grama\n",
    "ngram_freq = X.sum(axis=0).A1\n",
    "\n",
    "# Crear un DataFrame con las palabras n-grama y su frecuencia\n",
    "ngram_freq_df = pd.DataFrame({'Ngram': ngrams, 'Frequency': ngram_freq})\n",
    "\n",
    "# Ordenar el DataFrame por frecuencia\n",
    "ngram_freq_df = ngram_freq_df.sort_values(by='Frequency', ascending=False)\n",
    "\n",
    "# Verificar el resultado\n",
    "print(ngram_freq_df.head(50))"
   ]
  },
  {
   "cell_type": "markdown",
   "metadata": {},
   "source": [
    "### Metodo 3"
   ]
  },
  {
   "cell_type": "code",
   "execution_count": 51,
   "metadata": {},
   "outputs": [
    {
     "name": "stdout",
     "output_type": "stream",
     "text": [
      "                        Ngram  Frequency\n",
      "1167            (im, gon, na)       4599\n",
      "668             (wan, na, go)       3617\n",
      "7861          (dont, wan, na)       2721\n",
      "390404   (happi, mother, day)       2180\n",
      "4332          (gon, na, miss)       1746\n",
      "507        (dont, know, what)       1699\n",
      "1334         (dont, want, go)       1140\n",
      "3253            (gon, na, go)       1087\n",
      "14926       (dont, know, how)       1015\n",
      "4108        (wish, could, go)       1001\n",
      "3013     (hope, feel, better)        947\n",
      "4712           (wan, na, see)        922\n",
      "8205        (cant, wait, see)        908\n",
      "4500            (got, ta, go)        881\n",
      "7821       (get, readi, work)        802\n",
      "25498          (im, go, miss)        768\n",
      "29785      (dont, feel, good)        766\n",
      "1168           (gon, na, get)        738\n",
      "203         (dont, know, whi)        722\n",
      "4130           (got, ta, get)        713\n",
      "5527         (feel, like, im)        699\n",
      "6505         (get, readi, go)        680\n",
      "9497        (go, back, sleep)        638\n",
      "10397    (feel, better, soon)        634\n",
      "2921         (want, go, back)        626\n",
      "5949         (want, go, home)        621\n",
      "3862        (im, sorri, hear)        581\n",
      "21149      (realli, want, go)        557\n",
      "17977       (realli, wan, na)        540\n",
      "20544          (na, go, home)        537\n",
      "1594          (think, im, go)        507\n",
      "185        (dont, feel, like)        501\n",
      "2759       (feel, like, crap)        484\n",
      "31677        (go, back, work)        481\n",
      "2298645  (happi, father, day)        453\n",
      "14147          (na, go, back)        452\n",
      "715        (cant, wait, till)        448\n",
      "8357     (realli, dont, want)        445\n",
      "26047          (wan, na, get)        438\n",
      "34567        (think, im, gon)        429\n",
      "11362    (sleep, last, night)        429\n",
      "1433            (im, go, bed)        427\n",
      "3576       (dont, even, know)        426\n",
      "2922          (go, back, bed)        421\n",
      "13265    (make, feel, better)        411\n",
      "10209        (want, go, work)        408\n",
      "5374          (got, ta, work)        403\n",
      "4754       (feel, like, shit)        401\n",
      "401446     (mtv, movi, award)        400\n",
      "14552        (wan, na, watch)        398\n"
     ]
    }
   ],
   "source": [
    "from collections import Counter\n",
    "\n",
    "# Contar las frecuencias de los bigramas\n",
    "ngram_frequencies = Counter([ngram for sublist in df_ngram['Ngrams'] for ngram in sublist])\n",
    "\n",
    "# Convertir el contador a un DataFrame\n",
    "ngram_freq_df = pd.DataFrame(ngram_frequencies.items(), columns=['Ngram', 'Frequency'])\n",
    "\n",
    "# Ordenar el DataFrame por la frecuencia de los bigramas\n",
    "ngram_freq_df = ngram_freq_df.sort_values(by='Frequency', ascending=False)\n",
    "\n",
    "# Mostrar los 50 trigramas más comunes\n",
    "print(ngram_freq_df.head(50))"
   ]
  },
  {
   "cell_type": "markdown",
   "metadata": {},
   "source": [
    "### Metodo utilizado en clase"
   ]
  },
  {
   "cell_type": "code",
   "execution_count": 52,
   "metadata": {},
   "outputs": [
    {
     "name": "stdout",
     "output_type": "stream",
     "text": [
      "['abl fall asleep' 'abl go back' 'abl sleep tonight' ... 'youv got fever'\n",
      " 'youv got high' 'yr old girl']\n",
      "[[0 0 0 ... 0 0 0]\n",
      " [0 0 0 ... 0 0 0]\n",
      " [0 0 0 ... 0 0 0]\n",
      " ...\n",
      " [0 0 0 ... 0 0 0]\n",
      " [0 0 0 ... 0 0 0]\n",
      " [0 0 0 ... 0 0 0]]\n"
     ]
    }
   ],
   "source": [
    "vectorizer_ngram_range = CountVectorizer(analyzer='word', ngram_range=(3, 3), max_features=5000)\n",
    "bow_matrix_ngram = vectorizer_ngram_range.fit_transform(df_ngram['Text'])\n",
    "print(vectorizer_ngram_range.get_feature_names_out())\n",
    "print(bow_matrix_ngram.toarray())\n"
   ]
  },
  {
   "cell_type": "markdown",
   "metadata": {},
   "source": [
    "## Vectorización, TF-IDF"
   ]
  },
  {
   "cell_type": "code",
   "execution_count": 53,
   "metadata": {},
   "outputs": [],
   "source": [
    "from sklearn.feature_extraction.text import TfidfVectorizer\n",
    "\n",
    "# Crear un objeto TfidfVectorizer con un número limitado de características\n",
    "vectorizer = TfidfVectorizer(max_features=5000, ngram_range=(1, 3), analyzer='word')\n",
    "\n",
    "# Ajustar y transformar el texto\n",
    "X = vectorizer.fit_transform(df_Text_analisis_clean['Text'])\n",
    "\n",
    "# Obtener nombres de las palabras\n",
    "words = vectorizer.get_feature_names_out()\n"
   ]
  },
  {
   "cell_type": "code",
   "execution_count": 54,
   "metadata": {},
   "outputs": [],
   "source": [
    "y = df_Text_analisis_clean['Polarity']"
   ]
  },
  {
   "cell_type": "code",
   "execution_count": 55,
   "metadata": {},
   "outputs": [],
   "source": [
    "# Dividir el conjunto de datos en entrenamiento y prueba\n",
    "\n",
    "from sklearn.model_selection import train_test_split\n",
    "\n",
    "X_train, X_test, y_train, y_test = train_test_split(X, y, test_size=0.2, random_state=42, stratify=y)"
   ]
  },
  {
   "cell_type": "markdown",
   "metadata": {},
   "source": [
    "## Generacion de modelos de ML"
   ]
  },
  {
   "cell_type": "markdown",
   "metadata": {},
   "source": [
    "### Naive Bayes"
   ]
  },
  {
   "cell_type": "code",
   "execution_count": 56,
   "metadata": {},
   "outputs": [
    {
     "name": "stdout",
     "output_type": "stream",
     "text": [
      "Precisión: 0.8114761529835612\n",
      "Matriz de confusión:\n",
      "[[156540   3313]\n",
      " [ 36195  13517]]\n",
      "Reporte de clasificación:\n",
      "              precision    recall  f1-score   support\n",
      "\n",
      "           0       0.81      0.98      0.89    159853\n",
      "           1       0.80      0.27      0.41     49712\n",
      "\n",
      "    accuracy                           0.81    209565\n",
      "   macro avg       0.81      0.63      0.65    209565\n",
      "weighted avg       0.81      0.81      0.77    209565\n",
      "\n"
     ]
    }
   ],
   "source": [
    "# Entrenamiento de modelo de clasificación con Naive Bayes\n",
    "\n",
    "from sklearn.naive_bayes import MultinomialNB\n",
    "from sklearn.metrics import accuracy_score, confusion_matrix, classification_report\n",
    "\n",
    "# Crear un clasificador Naive Bayes\n",
    "nb_classifier = MultinomialNB()\n",
    "\n",
    "# Entrenar el clasificador\n",
    "nb_classifier.fit(X_train, y_train)\n",
    "\n",
    "# Realizar predicciones\n",
    "y_pred = nb_classifier.predict(X_test)\n",
    "\n",
    "# Evaluar el rendimiento del clasificador Naive Bayes, metricas accuracy, matriz de confusión, classification report\n",
    "\n",
    "# Calcular la precisión\n",
    "accuracy = accuracy_score(y_test, y_pred)\n",
    "\n",
    "# Calcular la matriz de confusión\n",
    "conf_matrix = confusion_matrix(y_test, y_pred)\n",
    "\n",
    "# Calcular el reporte de clasificación\n",
    "class_report = classification_report(y_test, y_pred)\n",
    "\n",
    "# Mostrar los resultados\n",
    "print(f'Precisión: {accuracy}')\n",
    "print(f'Matriz de confusión:\\n{conf_matrix}')\n",
    "print(f'Reporte de clasificación:\\n{class_report}')\n",
    "\n"
   ]
  },
  {
   "cell_type": "markdown",
   "metadata": {},
   "source": [
    "### SGDClassifier"
   ]
  },
  {
   "cell_type": "code",
   "execution_count": 57,
   "metadata": {},
   "outputs": [
    {
     "name": "stdout",
     "output_type": "stream",
     "text": [
      "Precisión: 0.8018753131486651\n",
      "Matriz de confusión:\n",
      "[[157535   2318]\n",
      " [ 39202  10510]]\n",
      "Reporte de clasificación:\n",
      "              precision    recall  f1-score   support\n",
      "\n",
      "           0       0.80      0.99      0.88    159853\n",
      "           1       0.82      0.21      0.34     49712\n",
      "\n",
      "    accuracy                           0.80    209565\n",
      "   macro avg       0.81      0.60      0.61    209565\n",
      "weighted avg       0.81      0.80      0.75    209565\n",
      "\n"
     ]
    }
   ],
   "source": [
    "### implementacion de modelo de clasificacion SGDClassifier\n",
    "\n",
    "from sklearn.linear_model import SGDClassifier\n",
    "\n",
    "# Crear un clasificador SGD\n",
    "\n",
    "sgd_classifier = SGDClassifier()\n",
    "\n",
    "# Entrenar el clasificador\n",
    "sgd_classifier.fit(X_train, y_train)\n",
    "\n",
    "# Realizar predicciones\n",
    "y_pred = sgd_classifier.predict(X_test)\n",
    "\n",
    "# Evaluar el rendimiento del clasificador SGD, metricas accuracy, matriz de confusión, classification report\n",
    "\n",
    "# Calcular la precisión\n",
    "accuracy = accuracy_score(y_test, y_pred)\n",
    "\n",
    "# Calcular la matriz de confusión\n",
    "conf_matrix = confusion_matrix(y_test, y_pred)\n",
    "\n",
    "# Calcular el reporte de clasificación\n",
    "class_report = classification_report(y_test, y_pred)\n",
    "\n",
    "# Mostrar los resultados\n",
    "print(f'Precisión: {accuracy}')\n",
    "print(f'Matriz de confusión:\\n{conf_matrix}')\n",
    "print(f'Reporte de clasificación:\\n{class_report}')\n"
   ]
  },
  {
   "cell_type": "markdown",
   "metadata": {},
   "source": [
    "### XGBoost"
   ]
  },
  {
   "cell_type": "code",
   "execution_count": 58,
   "metadata": {},
   "outputs": [
    {
     "name": "stdout",
     "output_type": "stream",
     "text": [
      "Precisión: 0.8084651540094958\n",
      "Matriz de confusión:\n",
      "[[155655   4198]\n",
      " [ 35941  13771]]\n",
      "Reporte de clasificación:\n",
      "              precision    recall  f1-score   support\n",
      "\n",
      "           0       0.81      0.97      0.89    159853\n",
      "           1       0.77      0.28      0.41     49712\n",
      "\n",
      "    accuracy                           0.81    209565\n",
      "   macro avg       0.79      0.63      0.65    209565\n",
      "weighted avg       0.80      0.81      0.77    209565\n",
      "\n"
     ]
    }
   ],
   "source": [
    "### implementacion del modelo XGBoost\n",
    "\n",
    "from xgboost import XGBClassifier\n",
    "\n",
    "# Crear un clasificador XGBoost\n",
    "\n",
    "xgb_classifier = XGBClassifier()\n",
    "\n",
    "# Entrenar el clasificador\n",
    "xgb_classifier.fit(X_train, y_train)\n",
    "\n",
    "# Realizar predicciones\n",
    "y_pred = xgb_classifier.predict(X_test)\n",
    "\n",
    "# Evaluar el rendimiento del clasificador XGBoost, metricas accuracy, matriz de confusión, classification report\n",
    "\n",
    "# Calcular la precisión\n",
    "accuracy = accuracy_score(y_test, y_pred)\n",
    "\n",
    "# Calcular la matriz de confusión\n",
    "conf_matrix = confusion_matrix(y_test, y_pred)\n",
    "\n",
    "# Calcular el reporte de clasificación\n",
    "class_report = classification_report(y_test, y_pred)\n",
    "\n",
    "# Mostrar los resultados\n",
    "print(f'Precisión: {accuracy}')\n",
    "print(f'Matriz de confusión:\\n{conf_matrix}')\n",
    "print(f'Reporte de clasificación:\\n{class_report}')\n"
   ]
  },
  {
   "cell_type": "markdown",
   "metadata": {},
   "source": [
    "### SVM con muestreo aleatorio"
   ]
  },
  {
   "cell_type": "code",
   "execution_count": 59,
   "metadata": {},
   "outputs": [
    {
     "name": "stdout",
     "output_type": "stream",
     "text": [
      "Precisión: 0.8333375\n",
      "Matriz de confusión:\n",
      "[[115318   6627]\n",
      " [ 20039  18016]]\n",
      "Reporte de clasificación:\n",
      "              precision    recall  f1-score   support\n",
      "\n",
      "           0       0.85      0.95      0.90    121945\n",
      "           1       0.73      0.47      0.57     38055\n",
      "\n",
      "    accuracy                           0.83    160000\n",
      "   macro avg       0.79      0.71      0.74    160000\n",
      "weighted avg       0.82      0.83      0.82    160000\n",
      "\n"
     ]
    }
   ],
   "source": [
    "### Implementacion del modelo linearSVC, realizar muestra de 10000 registros para optimizar el tiempo de ejecucion\n",
    "\n",
    "df_sample = df_Text_analisis_clean.sample(800000, random_state=42)\n",
    "\n",
    "X = vectorizer.fit_transform(df_sample['Text'])\n",
    "\n",
    "y = df_sample['Polarity']\n",
    "\n",
    "X_train, X_test, y_train, y_test = train_test_split(X, y, test_size=0.2, random_state=42)\n",
    "\n",
    "from sklearn.svm import LinearSVC\n",
    "\n",
    "# Crear un clasificador LinearSVC\n",
    "\n",
    "lsvc_classifier = LinearSVC()\n",
    "\n",
    "# Entrenar el clasificador\n",
    "lsvc_classifier.fit(X_train, y_train)\n",
    "\n",
    "# Realizar predicciones\n",
    "y_pred = lsvc_classifier.predict(X_test)\n",
    "\n",
    "# Evaluar el rendimiento del clasificador LinearSVC, metricas accuracy, matriz de confusión, classification report\n",
    "\n",
    "# Calcular la precisión\n",
    "accuracy = accuracy_score(y_test, y_pred)\n",
    "\n",
    "# Calcular la matriz de confusión\n",
    "conf_matrix = confusion_matrix(y_test, y_pred)\n",
    "\n",
    "# Calcular el reporte de clasificación\n",
    "class_report = classification_report(y_test, y_pred)\n",
    "\n",
    "# Mostrar los resultados\n",
    "print(f'Precisión: {accuracy}')\n",
    "print(f'Matriz de confusión:\\n{conf_matrix}')\n",
    "print(f'Reporte de clasificación:\\n{class_report}')\n",
    "\n"
   ]
  },
  {
   "cell_type": "code",
   "execution_count": 60,
   "metadata": {},
   "outputs": [
    {
     "data": {
      "text/plain": [
       "\"# Entrenamiento de modelo de clasificación con SVM\\n\\nfrom sklearn.svm import SVC\\n\\n# Crear un clasificador SVM\\n\\nsvm_classifier = SVC(kernel='linear')\\n\\n# Entrenar el clasificador\\nsvm_classifier.fit(X_train, y_train)\\n\\n# Realizar predicciones\\ny_pred = svm_classifier.predict(X_test)\\n\\n# Evaluar el rendimiento del clasificador SVM, metricas accuracy, matriz de confusión, classification report\\n\\n# Calcular la precisión\\naccuracy = accuracy_score(y_test, y_pred)\\n\\n# Calcular la matriz de confusión\\nconf_matrix = confusion_matrix(y_test, y_pred)\\n\\n# Calcular el reporte de clasificación\\nclass_report = classification_report(y_test, y_pred)\\n\\n# Mostrar los resultados\\nprint(f'Precisión: {accuracy}')\\nprint(f'Matriz de confusión:\\n{conf_matrix}')\\nprint(f'Reporte de clasificación:\\n{class_report}')\""
      ]
     },
     "execution_count": 60,
     "metadata": {},
     "output_type": "execute_result"
    }
   ],
   "source": [
    "'''# Entrenamiento de modelo de clasificación con SVM\n",
    "\n",
    "from sklearn.svm import SVC\n",
    "\n",
    "# Crear un clasificador SVM\n",
    "\n",
    "svm_classifier = SVC(kernel='linear')\n",
    "\n",
    "# Entrenar el clasificador\n",
    "svm_classifier.fit(X_train, y_train)\n",
    "\n",
    "# Realizar predicciones\n",
    "y_pred = svm_classifier.predict(X_test)\n",
    "\n",
    "# Evaluar el rendimiento del clasificador SVM, metricas accuracy, matriz de confusión, classification report\n",
    "\n",
    "# Calcular la precisión\n",
    "accuracy = accuracy_score(y_test, y_pred)\n",
    "\n",
    "# Calcular la matriz de confusión\n",
    "conf_matrix = confusion_matrix(y_test, y_pred)\n",
    "\n",
    "# Calcular el reporte de clasificación\n",
    "class_report = classification_report(y_test, y_pred)\n",
    "\n",
    "# Mostrar los resultados\n",
    "print(f'Precisión: {accuracy}')\n",
    "print(f'Matriz de confusión:\\n{conf_matrix}')\n",
    "print(f'Reporte de clasificación:\\n{class_report}')'''\n"
   ]
  },
  {
   "cell_type": "markdown",
   "metadata": {},
   "source": [
    "## Mejora de rendimiento modelo ML."
   ]
  },
  {
   "cell_type": "markdown",
   "metadata": {},
   "source": [
    "### Mejora de hiperparametros para el modelo XGBoost"
   ]
  },
  {
   "cell_type": "code",
   "execution_count": 61,
   "metadata": {},
   "outputs": [
    {
     "name": "stdout",
     "output_type": "stream",
     "text": [
      "Fitting 3 folds for each of 8 candidates, totalling 24 fits\n",
      "Mejores hiperparámetros:\n",
      "{'subsample': 0.8, 'scale_pos_weight': 10, 'n_estimators': 200, 'max_depth': 7, 'learning_rate': 0.05, 'colsample_bytree': 0.7}\n",
      "Mejor puntuación de Recall:\n",
      "0.4469378612331835\n"
     ]
    }
   ],
   "source": [
    "### Mejora de hiperparametros para el modelos XGBoost\n",
    "\n",
    "from sklearn.model_selection import RandomizedSearchCV\n",
    "\n",
    "# Configuración del modelo XGBoost para ajuste de hiperparámetros\n",
    "modelo_xgb = XGBClassifier()\n",
    "\n",
    "# Parámetros a ajustar\n",
    "param_grid = {\n",
    "    'n_estimators': [100, 200, 300],\n",
    "    'max_depth': [3, 5, 7],\n",
    "    'learning_rate': [0.01, 0.05, 0.1],\n",
    "    'subsample': [0.7, 0.8, 0.9],\n",
    "    'colsample_bytree': [0.7, 0.8, 0.9],\n",
    "    'scale_pos_weight': [1, 10, 25]\n",
    "}\n",
    "\n",
    "# Metricas a evaluar\n",
    "\n",
    "scoring = {\n",
    "    'recall': 'recall',  # Métrica de sensibilidad\n",
    "    'accuracy': 'accuracy',  # Métrica de precisión global\n",
    "    'f1-score': 'f1'  # Métrica F1\n",
    "}\n",
    "\n",
    "\n",
    "# Configuración de RandomizedSearchCV con múltiples métricas\n",
    "random_search = RandomizedSearchCV(\n",
    "    estimator=modelo_xgb,\n",
    "    param_distributions=param_grid,\n",
    "    n_iter=8,  # Número de combinaciones aleatorias a probar\n",
    "    scoring=scoring,  # Métricas de evaluación\n",
    "    refit='f1-score',  # Métrica principal para refit \n",
    "    cv=3,  # Validación cruzada\n",
    "    verbose=1,\n",
    "    n_jobs=-1,  # Usar todos los núcleos disponibles\n",
    "    random_state=42\n",
    ")\n",
    "\n",
    "# Ajustar el modelo\n",
    "random_search.fit(X_train, y_train)\n",
    "\n",
    "#Mejores hiperparametros\n",
    "print('Mejores hiperparámetros:')\n",
    "print(random_search.best_params_)\n",
    "print('Mejor puntuación de Recall:')\n",
    "print(random_search.best_score_)\n"
   ]
  },
  {
   "cell_type": "code",
   "execution_count": 62,
   "metadata": {},
   "outputs": [
    {
     "name": "stdout",
     "output_type": "stream",
     "text": [
      "Precisión: 0.4264625\n",
      "Matriz de confusión:\n",
      "[[31112 90833]\n",
      " [  933 37122]]\n",
      "Reporte de clasificación:\n",
      "              precision    recall  f1-score   support\n",
      "\n",
      "           0       0.97      0.26      0.40    121945\n",
      "           1       0.29      0.98      0.45     38055\n",
      "\n",
      "    accuracy                           0.43    160000\n",
      "   macro avg       0.63      0.62      0.43    160000\n",
      "weighted avg       0.81      0.43      0.41    160000\n",
      "\n"
     ]
    }
   ],
   "source": [
    "# Configuración del modelo XGBoost con los hiperparámetros optimizados\n",
    "\n",
    "modelo_xgb_optimizado = random_search.best_estimator_\n",
    "\n",
    "# Realizar predicciones\n",
    "y_pred = modelo_xgb_optimizado.predict(X_test)\n",
    "\n",
    "# Evaluar el rendimiento del clasificador XGBoost optimizado, metricas accuracy, matriz de confusión, classification report\n",
    "\n",
    "# Calcular la precisión\n",
    "accuracy = accuracy_score(y_test, y_pred)\n",
    "\n",
    "# Calcular la matriz de confusión\n",
    "conf_matrix = confusion_matrix(y_test, y_pred)\n",
    "\n",
    "# Calcular el reporte de clasificación\n",
    "class_report = classification_report(y_test, y_pred)\n",
    "\n",
    "# Mostrar los resultados\n",
    "print(f'Precisión: {accuracy}')\n",
    "print(f'Matriz de confusión:\\n{conf_matrix}')\n",
    "print(f'Reporte de clasificación:\\n{class_report}')\n"
   ]
  },
  {
   "cell_type": "markdown",
   "metadata": {},
   "source": [
    "### Balance de clases"
   ]
  },
  {
   "cell_type": "code",
   "execution_count": 63,
   "metadata": {},
   "outputs": [
    {
     "name": "stdout",
     "output_type": "stream",
     "text": [
      "Distribución de clases en el entrenamiento: Counter({0: 488332, 1: 151668})\n",
      "Distribución de clases en el test: Counter({0: 121945, 1: 38055})\n"
     ]
    }
   ],
   "source": [
    "from collections import Counter\n",
    "\n",
    "print(\"Distribución de clases en el entrenamiento:\", Counter(y_train))\n",
    "print(\"Distribución de clases en el test:\", Counter(y_test))"
   ]
  },
  {
   "cell_type": "markdown",
   "metadata": {},
   "source": [
    "### Hacer undersampling de la clase mayoritaria"
   ]
  },
  {
   "cell_type": "code",
   "execution_count": 64,
   "metadata": {},
   "outputs": [
    {
     "name": "stdout",
     "output_type": "stream",
     "text": [
      "Distribución de clases después de aplicar undersampling: Counter({0: 151668, 1: 151668})\n"
     ]
    }
   ],
   "source": [
    "### Hacer undersampling de la clase mayoritaria\n",
    "\n",
    "from imblearn.under_sampling import RandomUnderSampler\n",
    "\n",
    "# Crear un objeto RandomUnderSampler\n",
    "rus = RandomUnderSampler(random_state=42)\n",
    "\n",
    "# Aplicar el muestreo\n",
    "X_resampled, y_resampled = rus.fit_resample(X_train, y_train)\n",
    "\n",
    "print(\"Distribución de clases después de aplicar undersampling:\", Counter(y_resampled))\n",
    "\n"
   ]
  },
  {
   "cell_type": "markdown",
   "metadata": {},
   "source": [
    "### Entrenar el clasificador XGBoost con los datos balanceados\n"
   ]
  },
  {
   "cell_type": "code",
   "execution_count": 65,
   "metadata": {},
   "outputs": [
    {
     "name": "stdout",
     "output_type": "stream",
     "text": [
      "Precisión: 0.70895625\n",
      "Matriz de confusión:\n",
      "[[82143 39802]\n",
      " [ 6765 31290]]\n",
      "Reporte de clasificación:\n",
      "              precision    recall  f1-score   support\n",
      "\n",
      "           0       0.92      0.67      0.78    121945\n",
      "           1       0.44      0.82      0.57     38055\n",
      "\n",
      "    accuracy                           0.71    160000\n",
      "   macro avg       0.68      0.75      0.68    160000\n",
      "weighted avg       0.81      0.71      0.73    160000\n",
      "\n"
     ]
    }
   ],
   "source": [
    "# Entrenar el clasificador XGBoost con los datos balanceados\n",
    "\n",
    "# Crear un clasificador XGBoost\n",
    "xgb_classifier_balanced = XGBClassifier()\n",
    "\n",
    "# Entrenar el clasificador\n",
    "xgb_classifier_balanced.fit(X_resampled, y_resampled)\n",
    "\n",
    "# Realizar predicciones\n",
    "y_pred = xgb_classifier_balanced.predict(X_test)\n",
    "\n",
    "# Evaluar el rendimiento del clasificador XGBoost balanceado, metricas accuracy, matriz de confusión, classification report\n",
    "\n",
    "# Calcular la precisión\n",
    "accuracy = accuracy_score(y_test, y_pred)\n",
    "\n",
    "# Calcular la matriz de confusión\n",
    "conf_matrix = confusion_matrix(y_test, y_pred)\n",
    "\n",
    "# Calcular el reporte de clasificación\n",
    "class_report = classification_report(y_test, y_pred)\n",
    "\n",
    "# Mostrar los resultados\n",
    "print(f'Precisión: {accuracy}')\n",
    "print(f'Matriz de confusión:\\n{conf_matrix}')\n",
    "print(f'Reporte de clasificación:\\n{class_report}')\n",
    "\n"
   ]
  },
  {
   "cell_type": "markdown",
   "metadata": {},
   "source": [
    "### Realizar oversampling de la clase minoritaria con SMOTE\n"
   ]
  },
  {
   "cell_type": "code",
   "execution_count": 66,
   "metadata": {},
   "outputs": [
    {
     "name": "stdout",
     "output_type": "stream",
     "text": [
      "Distribución de clases después de aplicar oversampling: Counter({0: 488332, 1: 488332})\n"
     ]
    }
   ],
   "source": [
    "### Realizar oversampling de la clase minoritaria con SMOTE\n",
    "\n",
    "from imblearn.over_sampling import SMOTE\n",
    "\n",
    "# Crear un objeto SMOTE\n",
    "smote = SMOTE(random_state=42)\n",
    "\n",
    "# Aplicar el muestreo\n",
    "X_resampled, y_resampled = smote.fit_resample(X_train, y_train)\n",
    "\n",
    "print(\"Distribución de clases después de aplicar oversampling:\", Counter(y_resampled))"
   ]
  },
  {
   "cell_type": "markdown",
   "metadata": {},
   "source": [
    "### Entrenar el clasificador XGBoost con los datos balanceados\n"
   ]
  },
  {
   "cell_type": "code",
   "execution_count": 67,
   "metadata": {},
   "outputs": [
    {
     "name": "stdout",
     "output_type": "stream",
     "text": [
      "Precisión: 0.75344375\n",
      "Matriz de confusión:\n",
      "[[94461 27484]\n",
      " [11965 26090]]\n",
      "Reporte de clasificación:\n",
      "              precision    recall  f1-score   support\n",
      "\n",
      "           0       0.89      0.77      0.83    121945\n",
      "           1       0.49      0.69      0.57     38055\n",
      "\n",
      "    accuracy                           0.75    160000\n",
      "   macro avg       0.69      0.73      0.70    160000\n",
      "weighted avg       0.79      0.75      0.77    160000\n",
      "\n"
     ]
    }
   ],
   "source": [
    "# Entrenar el clasificador XGBoost con los datos balanceados\n",
    "\n",
    "# Crear un clasificador XGBoost\n",
    "xgb_classifier_balanced = XGBClassifier()\n",
    "\n",
    "# Entrenar el clasificador\n",
    "xgb_classifier_balanced.fit(X_resampled, y_resampled)\n",
    "\n",
    "# Realizar predicciones\n",
    "y_pred = xgb_classifier_balanced.predict(X_test)\n",
    "\n",
    "# Evaluar el rendimiento del clasificador XGBoost balanceado, metricas accuracy, matriz de confusión, classification report\n",
    "\n",
    "# Calcular la precisión\n",
    "accuracy = accuracy_score(y_test, y_pred)\n",
    "\n",
    "# Calcular la matriz de confusión\n",
    "conf_matrix = confusion_matrix(y_test, y_pred)\n",
    "\n",
    "# Calcular el reporte de clasificación\n",
    "class_report = classification_report(y_test, y_pred)\n",
    "\n",
    "# Mostrar los resultados\n",
    "print(f'Precisión: {accuracy}')\n",
    "print(f'Matriz de confusión:\\n{conf_matrix}')\n",
    "print(f'Reporte de clasificación:\\n{class_report}')"
   ]
  },
  {
   "cell_type": "markdown",
   "metadata": {},
   "source": [
    "### Mejora de hiperparametros para el modelo linearSVC"
   ]
  },
  {
   "cell_type": "code",
   "execution_count": 68,
   "metadata": {},
   "outputs": [
    {
     "name": "stdout",
     "output_type": "stream",
     "text": [
      "Fitting 3 folds for each of 8 candidates, totalling 24 fits\n",
      "Mejores hiperparámetros:\n",
      "{'max_iter': 2000, 'loss': 'squared_hinge', 'C': 10}\n",
      "Mejor puntuación de Recall:\n",
      "0.5725998839150558\n"
     ]
    }
   ],
   "source": [
    "### Mejora de hiperparametros para el modelo linearSVC\n",
    "\n",
    "# Configuración del modelo LinearSVC para ajuste de hiperparámetros\n",
    "modelo_lsvc = LinearSVC()\n",
    "\n",
    "# Parámetros a ajustar\n",
    "param_grid = {\n",
    "    'C': [0.1, 1, 10, 100],\n",
    "    'loss': ['hinge', 'squared_hinge'],\n",
    "    'max_iter': [1000, 2000, 3000]\n",
    "}\n",
    "\n",
    "# Configuración de RandomizedSearchCV con múltiples métricas\n",
    "\n",
    "random_search = RandomizedSearchCV(\n",
    "    estimator=modelo_lsvc,\n",
    "    param_distributions=param_grid,\n",
    "    n_iter=8,  # Número de combinaciones aleatorias a probar\n",
    "    scoring=scoring,  # Métricas de evaluación\n",
    "    refit='f1-score',  # Métrica principal para refit \n",
    "    cv=3,  # Validación cruzada\n",
    "    verbose=1,\n",
    "    n_jobs=-1,  # Usar todos los núcleos disponibles\n",
    "    random_state=42\n",
    ")\n",
    "\n",
    "# Ajustar el modelo\n",
    "random_search.fit(X_train, y_train)\n",
    "\n",
    "#Mejores hiperparametros\n",
    "print('Mejores hiperparámetros:')\n",
    "print(random_search.best_params_)\n",
    "print('Mejor puntuación de Recall:')\n",
    "print(random_search.best_score_)"
   ]
  },
  {
   "cell_type": "code",
   "execution_count": 69,
   "metadata": {},
   "outputs": [
    {
     "name": "stdout",
     "output_type": "stream",
     "text": [
      "Precisión: 0.83325625\n",
      "Matriz de confusión:\n",
      "[[115251   6694]\n",
      " [ 19985  18070]]\n",
      "Reporte de clasificación:\n",
      "              precision    recall  f1-score   support\n",
      "\n",
      "           0       0.85      0.95      0.90    121945\n",
      "           1       0.73      0.47      0.58     38055\n",
      "\n",
      "    accuracy                           0.83    160000\n",
      "   macro avg       0.79      0.71      0.74    160000\n",
      "weighted avg       0.82      0.83      0.82    160000\n",
      "\n"
     ]
    }
   ],
   "source": [
    "# Configuración del modelo LinearSVC con los hiperparámetros optimizados\n",
    "\n",
    "modelo_lsvc_optimizado = random_search.best_estimator_\n",
    "\n",
    "# Realizar predicciones\n",
    "\n",
    "y_pred = modelo_lsvc_optimizado.predict(X_test)\n",
    "\n",
    "# Evaluar el rendimiento del clasificador LinearSVC optimizado, metricas accuracy, matriz de confusión, classification report\n",
    "\n",
    "# Calcular la precisión\n",
    "accuracy = accuracy_score(y_test, y_pred)\n",
    "\n",
    "# Calcular la matriz de confusión\n",
    "conf_matrix = confusion_matrix(y_test, y_pred)\n",
    "\n",
    "# Calcular el reporte de clasificación\n",
    "class_report = classification_report(y_test, y_pred)\n",
    "\n",
    "# Mostrar los resultados\n",
    "print(f'Precisión: {accuracy}')\n",
    "print(f'Matriz de confusión:\\n{conf_matrix}')\n",
    "print(f'Reporte de clasificación:\\n{class_report}')\n",
    "\n"
   ]
  },
  {
   "cell_type": "markdown",
   "metadata": {},
   "source": [
    "### reduccion de dimensionalidad con PCA"
   ]
  },
  {
   "cell_type": "code",
   "execution_count": 70,
   "metadata": {},
   "outputs": [
    {
     "name": "stdout",
     "output_type": "stream",
     "text": [
      "Precisión: 0.80370625\n",
      "Matriz de confusión:\n",
      "[[115773   6172]\n",
      " [ 25235  12820]]\n",
      "Reporte de clasificación:\n",
      "              precision    recall  f1-score   support\n",
      "\n",
      "           0       0.82      0.95      0.88    121945\n",
      "           1       0.68      0.34      0.45     38055\n",
      "\n",
      "    accuracy                           0.80    160000\n",
      "   macro avg       0.75      0.64      0.67    160000\n",
      "weighted avg       0.79      0.80      0.78    160000\n",
      "\n"
     ]
    }
   ],
   "source": [
    "from sklearn.decomposition import TruncatedSVD\n",
    "from sklearn.model_selection import train_test_split\n",
    "from sklearn.metrics import accuracy_score, classification_report, confusion_matrix\n",
    "from xgboost import XGBClassifier\n",
    "\n",
    "# Crear un objeto TruncatedSVD\n",
    "svd = TruncatedSVD(n_components=100, random_state=42)\n",
    "\n",
    "# Ajustar y transformar los datos\n",
    "X_reduced = svd.fit_transform(X)\n",
    "\n",
    "# Dividir los datos en entrenamiento y prueba\n",
    "X_train_pca, X_test_pca, y_train_pca, y_test_pca = train_test_split(X_reduced, y, test_size=0.2, random_state=42)\n",
    "\n",
    "# Crear y entrenar el clasificador XGBoost\n",
    "xgb_classifier_pca = XGBClassifier()\n",
    "xgb_classifier_pca.fit(X_train_pca, y_train_pca)\n",
    "\n",
    "# Realizar predicciones\n",
    "y_pred = xgb_classifier_pca.predict(X_test_pca)\n",
    "\n",
    "# Evaluar el modelo\n",
    "accuracy = accuracy_score(y_test_pca, y_pred)\n",
    "conf_matrix = confusion_matrix(y_test_pca, y_pred)\n",
    "class_report = classification_report(y_test_pca, y_pred)\n",
    "\n",
    "print(f\"Precisión: {accuracy}\")\n",
    "print(f\"Matriz de confusión:\\n{conf_matrix}\")\n",
    "print(f\"Reporte de clasificación:\\n{class_report}\")"
   ]
  },
  {
   "cell_type": "code",
   "execution_count": 71,
   "metadata": {},
   "outputs": [
    {
     "data": {
      "text/plain": [
       "\"### aplicacion de modelo de redes neuronales\\n\\nfrom sklearn.neural_network import MLPClassifier\\n\\n# Crear un clasificador MLP\\nmlp_classifier = MLPClassifier(hidden_layer_sizes=(100, 50), max_iter=1000, random_state=42)\\n\\n# Entrenar el clasificador\\nmlp_classifier.fit(X_train, y_train)\\n\\n# Realizar predicciones\\ny_pred = mlp_classifier.predict(X_test)\\n\\n# Evaluar el rendimiento del clasificador MLP, metricas accuracy, matriz de confusión, classification report\\n\\n# Calcular la precisión\\naccuracy = accuracy_score(y_test, y_pred)\\n\\n# Calcular la matriz de confusión\\nconf_matrix = confusion_matrix(y_test, y_pred)\\n\\n# Calcular el reporte de clasificación\\nclass_report = classification_report(y_test, y_pred)\\n\\n# Mostrar los resultados\\nprint(f'Precisión: {accuracy}')\\nprint(f'Matriz de confusión:\\n{conf_matrix}')\\nprint(f'Reporte de clasificación:\\n{class_report}')\\n\""
      ]
     },
     "execution_count": 71,
     "metadata": {},
     "output_type": "execute_result"
    }
   ],
   "source": [
    "'''### aplicacion de modelo de redes neuronales\n",
    "\n",
    "from sklearn.neural_network import MLPClassifier\n",
    "\n",
    "# Crear un clasificador MLP\n",
    "mlp_classifier = MLPClassifier(hidden_layer_sizes=(100, 50), max_iter=1000, random_state=42)\n",
    "\n",
    "# Entrenar el clasificador\n",
    "mlp_classifier.fit(X_train, y_train)\n",
    "\n",
    "# Realizar predicciones\n",
    "y_pred = mlp_classifier.predict(X_test)\n",
    "\n",
    "# Evaluar el rendimiento del clasificador MLP, metricas accuracy, matriz de confusión, classification report\n",
    "\n",
    "# Calcular la precisión\n",
    "accuracy = accuracy_score(y_test, y_pred)\n",
    "\n",
    "# Calcular la matriz de confusión\n",
    "conf_matrix = confusion_matrix(y_test, y_pred)\n",
    "\n",
    "# Calcular el reporte de clasificación\n",
    "class_report = classification_report(y_test, y_pred)\n",
    "\n",
    "# Mostrar los resultados\n",
    "print(f'Precisión: {accuracy}')\n",
    "print(f'Matriz de confusión:\\n{conf_matrix}')\n",
    "print(f'Reporte de clasificación:\\n{class_report}')\n",
    "'''\n"
   ]
  }
 ],
 "metadata": {
  "kernelspec": {
   "display_name": "ambiente_pruebas",
   "language": "python",
   "name": "python3"
  },
  "language_info": {
   "codemirror_mode": {
    "name": "ipython",
    "version": 3
   },
   "file_extension": ".py",
   "mimetype": "text/x-python",
   "name": "python",
   "nbconvert_exporter": "python",
   "pygments_lexer": "ipython3",
   "version": "3.13.0"
  }
 },
 "nbformat": 4,
 "nbformat_minor": 2
}
