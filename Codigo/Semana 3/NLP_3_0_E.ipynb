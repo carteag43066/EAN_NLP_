{
  "nbformat": 4,
  "nbformat_minor": 0,
  "metadata": {
    "colab": {
      "provenance": []
    },
    "kernelspec": {
      "name": "python3",
      "display_name": "Python 3"
    },
    "language_info": {
      "name": "python"
    }
  },
  "cells": [
    {
      "cell_type": "markdown",
      "source": [
        "La clase anterior *estuvimos* Transformando texto en estructuras de datos, discutimos los métodos de bolsa de palabras (bag-of-words) y *frecuencia de término-inversa*, *frecuencia de documento* (term-frequency and inverse document frequency) para representar texto en forma de números. Estos métodos se basan principalmente en los aspectos sintácticos de una palabra en términos de su presencia o ausencia en un documento o en un corpus de texto. Sin embargo, en los enfoques que hemos discutido hasta ahora, no se tuvo en cuenta la información sobre el vecindario de la palabra, es decir, qué palabras aparecen antes o después de una palabra.\n",
        "\n",
        "El vecindario de una palabra lleva información importante en términos del contexto que la palabra tiene en una oración. La relación entre la palabra y su vecindario tiende a definir la semántica de la paalabra y su posicionamiento general en una oración"
      ],
      "metadata": {
        "id": "vn5KICnoQU_h"
      }
    },
    {
      "cell_type": "markdown",
      "source": [
        "## Entendiendo las representaciones vectoriales de palabras\n",
        "Una representación vectorial de palabras (word embedding) es una forma aprendida de representar palabras, donde cada palabra se representa mediante un vector en un espacio n-dimensional. Las palabras con significados similares deberían tener representaciones similares. Estas representaciones también pueden ayudar a identificar sinónimos, antónimos y diversas relaciones entre palabras.\n",
        "\n",
        "Mencionamos que las representaciones vectoriales pueden construirse para palabras individuales; sin embargo, esta idea puede extenderse para desarrollar representaciones para oraciones, documentos, caracteres, y más. Word2vec captura relaciones en el texto, y como resultado, las palabras similares tienen representaciones similares. Intentemos comprender qué tipo de información semántica puede realmente encapsular Word2vec.\n",
        "\n",
        "Veamos algunos ejemplos para entender qué relaciones y analogías puede capturar un modelo Word2vec. Un ejemplo muy usado aborda la relación entre las palabras Rey, Hombre, Reina y Mujer. Una vez que un modelo Word2vec está correctamente entrenado y se obtienen las representaciones vectoriales de estas palabras, se suele obtener la siguiente relación, siempre que estas palabras formen parte del vocabulario:\n",
        "\n",
        "**vector (Hombre) – vector (Rey) + vector (Reina) = vector (Mujer)**\n",
        "\n",
        "Esta ecuación se reduce a la siguiente relación:\n",
        "**vector (Hombre) + vector (Reina) = vector (Rey) + vector (Mujer)**\n",
        "\n",
        "La lógica aquí es que la relación Hombre:Rey es la misma que Mujer:Reina. El algoritmo Word2vec es capaz de capturar estas relaciones semánticas al generar una representación vectorial para cada una de estas palabras.\n",
        "\n",
        "Tomemos un ejemplo más, pero esta vez relacionaremos países con capitales. Si construimos vectores para Francia, Italia y París utilizando Word2vec, ¿cuál sería el resultado de la siguiente ecuación?\n",
        "\n",
        "**vector (Francia) + vector (Roma) - vector (Italia) = ??**\n",
        "\n",
        "Obtenemos Paris.\n",
        "\n",
        "De manera similar al ejemplo anterior, la analogía aquí es que la relación Italia: Roma es la misma que la relación Francia: París.\n",
        "\n",
        "¡Todo esto parece magia!\n",
        "\n",
        "Ahora, intentemos entender cómo capturamos exactamente toda esta información. Todo se reduce al algoritmo Word2vec."
      ],
      "metadata": {
        "id": "vVQaJCfDRLoK"
      }
    },
    {
      "cell_type": "markdown",
      "source": [
        "## Una palabra se conoce por la compañía que mantiene\".\n",
        "\n",
        "Es un modelo que permite construir vectores de palabras utilizando información contextual del vecindario de una palabra. Para cada palabra cuyo embedding se desarrolla, se basa en las palabras que la rodean. Word2vec utiliza una red neuronal simple para construir esta arquitectura.\n",
        "\n",
        "Un artículo sobre Word2vec fue publicado en 2013 y representó uno de los hallazgos revolucionarios en el ámbito del Procesamiento de Lenguaje Natural (NLP). Fue desarrollado por Thomas Mikolov et al. en Google y, posteriormente, se hizo de código abierto para que la comunidad lo utilizara y construyera sobre él. Se puede encontrar un enlace al artículo en:\n",
        "https://papers.nips.cc/paper/5021-distributed-representations-of-words-and-phrases-and-their-compositionality.pdf."
      ],
      "metadata": {
        "id": "p3WCG4ncSAtN"
      }
    },
    {
      "cell_type": "markdown",
      "source": [
        "## Word2vec – ¿supervisado o no supervisado?\n",
        "Word2vec es una metodología no supervisada para construir embeddings de palabras. En la arquitectura de Word2vec, se intenta realizar una de las siguientes acciones:\n",
        "\n",
        "* Predecir la palabra objetivo basada en las palabras del contexto.\n",
        "* Predecir las palabras del contexto basada en la palabra objetivo.\n",
        "\n",
        "Aunque se predicen palabras, el componente de predicción o el atributo de clase proviene del propio texto o corpus.\n",
        "\n",
        "Por lo tanto, no hay un atributo de clase específico disponible, como ocurre en un escenario de aprendizaje supervisado. Debido a esto, Word2vec pertenece a la categoría de algoritmos no supervisados. Todo el aprendizaje proviene de datos no estructurados de manera no supervisada.\n",
        "\n",
        "# Word2vec preentrenado\n",
        "\n",
        "Como discutimos previamente, el algoritmo Word2vec intenta capturar relaciones entre palabras en el corpus de texto.\n",
        "\n",
        "El resultado del algoritmo Word2vec es una matriz de tamaño |V| × D, donde |V| es el tamaño del vocabulario para el que queremos obtener representaciones vectoriales, y D es el número de dimensiones utilizadas para representar cada vector de palabra. Como probablemente hayas adivinado, cada fila de esta matriz contiene el embedding para una palabra individual en el vocabulario.\n",
        "\n",
        "El valor de D se puede ajustar y experimentar dependiendo de varios factores, como el tamaño del corpus de texto y las diferentes relaciones que se necesitan capturar. Generalmente, en casos de uso reales, D toma valores entre 50 y 300.\n",
        "\n"
      ],
      "metadata": {
        "id": "ZOCJoO2fSh4l"
      }
    },
    {
      "cell_type": "markdown",
      "source": [],
      "metadata": {
        "id": "1rC3BUEiRLlW"
      }
    },
    {
      "cell_type": "code",
      "execution_count": null,
      "metadata": {
        "colab": {
          "base_uri": "https://localhost:8080/"
        },
        "id": "y37yXLsWPTBq",
        "outputId": "50d7bb7c-1f69-48c0-c92e-331ebf5d35c4"
      },
      "outputs": [
        {
          "output_type": "stream",
          "name": "stdout",
          "text": [
            "Requirement already satisfied: gensim in /usr/local/lib/python3.10/dist-packages (4.3.3)\n",
            "Requirement already satisfied: numpy<2.0,>=1.18.5 in /usr/local/lib/python3.10/dist-packages (from gensim) (1.26.4)\n",
            "Requirement already satisfied: scipy<1.14.0,>=1.7.0 in /usr/local/lib/python3.10/dist-packages (from gensim) (1.13.1)\n",
            "Requirement already satisfied: smart-open>=1.8.1 in /usr/local/lib/python3.10/dist-packages (from gensim) (7.0.5)\n",
            "Requirement already satisfied: wrapt in /usr/local/lib/python3.10/dist-packages (from smart-open>=1.8.1->gensim) (1.16.0)\n"
          ]
        }
      ],
      "source": [
        "pip install gensim"
      ]
    },
    {
      "cell_type": "code",
      "source": [
        " #Continue with loading the model:\n",
        "import gensim.downloader as api\n",
        "model = api.load('word2vec-google-news-300')\n",
        "#model = KeyedVectors.load_word2vec_format('GoogleNews-vectors-negative300.bin', binary=True)"
      ],
      "metadata": {
        "colab": {
          "base_uri": "https://localhost:8080/"
        },
        "id": "HibNqcB7VIqT",
        "outputId": "f04d9e5b-c371-47df-9cb5-ecc667f8de6a"
      },
      "execution_count": null,
      "outputs": [
        {
          "output_type": "stream",
          "name": "stdout",
          "text": [
            "[==================================================] 100.0% 1662.8/1662.8MB downloaded\n"
          ]
        }
      ]
    },
    {
      "cell_type": "code",
      "source": [
        "len(model.key_to_index)\n"
      ],
      "metadata": {
        "id": "oZ0o8wGXZlku",
        "colab": {
          "base_uri": "https://localhost:8080/"
        },
        "outputId": "7e46c39e-7be9-48bb-c9a4-be3c8ee151a2"
      },
      "execution_count": null,
      "outputs": [
        {
          "output_type": "execute_result",
          "data": {
            "text/plain": [
              "3000000"
            ]
          },
          "metadata": {},
          "execution_count": 3
        }
      ]
    },
    {
      "cell_type": "code",
      "source": [
        "model.vector_size"
      ],
      "metadata": {
        "colab": {
          "base_uri": "https://localhost:8080/"
        },
        "id": "h9puRvtTEgYJ",
        "outputId": "7bdaee99-9281-4def-e394-2c99184f7bc4"
      },
      "execution_count": null,
      "outputs": [
        {
          "output_type": "execute_result",
          "data": {
            "text/plain": [
              "300"
            ]
          },
          "metadata": {},
          "execution_count": 4
        }
      ]
    },
    {
      "cell_type": "code",
      "source": [
        "model['India']"
      ],
      "metadata": {
        "colab": {
          "base_uri": "https://localhost:8080/"
        },
        "id": "9rOKuH7YEmlb",
        "outputId": "769b6773-fc3c-4a39-9066-267cd7e3d2c8"
      },
      "execution_count": null,
      "outputs": [
        {
          "output_type": "execute_result",
          "data": {
            "text/plain": [
              "array([-3.24707031e-02,  6.10351562e-02,  1.72851562e-01,  2.53906250e-01,\n",
              "       -1.97265625e-01, -1.55273438e-01,  1.06933594e-01, -2.31445312e-01,\n",
              "       -2.09960938e-01, -2.58789062e-02, -1.32812500e-01, -1.04492188e-01,\n",
              "        3.32031250e-01, -1.74804688e-01,  1.45874023e-02, -7.12890625e-02,\n",
              "        1.62353516e-02,  6.59179688e-02, -1.54418945e-02,  5.12695312e-02,\n",
              "        7.05718994e-05, -1.47460938e-01,  2.57873535e-03, -1.23046875e-01,\n",
              "        1.02539062e-01,  1.39648438e-01, -3.88671875e-01, -1.63085938e-01,\n",
              "       -8.93554688e-02,  7.27539062e-02, -9.66796875e-02, -2.79296875e-01,\n",
              "       -4.23828125e-01,  4.24804688e-02,  2.74658203e-02, -8.74023438e-02,\n",
              "       -2.17773438e-01, -5.34667969e-02,  2.91015625e-01,  3.44238281e-02,\n",
              "        8.44726562e-02,  8.15429688e-02, -3.78417969e-02,  2.40234375e-01,\n",
              "       -2.89306641e-02, -2.33154297e-02, -2.27539062e-01,  7.51953125e-02,\n",
              "        1.80664062e-01,  2.92968750e-02,  5.20019531e-02,  1.51367188e-01,\n",
              "        1.47247314e-03, -2.85644531e-02,  2.56347656e-02,  3.12500000e-02,\n",
              "       -1.76757812e-01, -1.55273438e-01,  2.92968750e-02, -2.12890625e-01,\n",
              "        1.16577148e-02, -2.09960938e-02, -4.51660156e-02, -1.06933594e-01,\n",
              "       -1.21093750e-01,  2.19726562e-01,  5.76171875e-02,  8.59375000e-02,\n",
              "        2.63671875e-02, -1.18164062e-01, -3.39843750e-01,  4.41894531e-02,\n",
              "       -5.98144531e-02, -2.86865234e-02, -1.37329102e-02, -3.16406250e-01,\n",
              "        8.78906250e-03,  1.25976562e-01, -1.59179688e-01,  1.63085938e-01,\n",
              "        8.77380371e-04,  2.39257812e-02,  2.09960938e-02, -4.93164062e-02,\n",
              "       -9.27734375e-02, -1.02996826e-03, -8.48388672e-03, -8.00781250e-02,\n",
              "        9.52148438e-02,  3.01513672e-02,  6.73828125e-02,  1.01562500e-01,\n",
              "       -3.35937500e-01, -5.49316406e-02, -1.42578125e-01, -2.47802734e-02,\n",
              "        1.51367188e-01, -1.01074219e-01,  2.57812500e-01,  3.90625000e-02,\n",
              "       -1.57226562e-01, -5.63964844e-02,  1.33666992e-02,  4.32128906e-02,\n",
              "        1.64794922e-02, -8.44726562e-02,  1.16699219e-01, -4.37011719e-02,\n",
              "       -2.60009766e-02,  1.47460938e-01, -8.20312500e-02,  2.81982422e-02,\n",
              "       -9.76562500e-02, -1.45507812e-01,  2.36328125e-01,  1.44531250e-01,\n",
              "       -5.68847656e-02, -2.29492188e-01,  4.14062500e-01,  1.03515625e-01,\n",
              "       -8.00781250e-02,  6.49414062e-02, -1.74804688e-01,  1.26953125e-01,\n",
              "       -4.19921875e-01,  1.68945312e-01,  7.76367188e-02, -2.31933594e-02,\n",
              "       -2.27539062e-01, -6.49414062e-02, -2.13867188e-01,  2.55859375e-01,\n",
              "       -3.05175781e-02, -2.08984375e-01, -2.55126953e-02, -9.57031250e-02,\n",
              "       -3.19824219e-02,  1.25000000e-01, -7.95898438e-02,  4.32128906e-02,\n",
              "        2.30468750e-01, -1.63085938e-01,  1.05468750e-01,  3.36914062e-02,\n",
              "       -1.43554688e-01,  3.97949219e-02,  1.32812500e-01,  9.37500000e-02,\n",
              "        1.58203125e-01,  8.25195312e-02,  1.89453125e-01, -3.04687500e-01,\n",
              "        9.17968750e-02, -2.33398438e-01, -1.17187500e-01, -4.29687500e-01,\n",
              "       -4.51171875e-01, -3.19824219e-02,  1.48437500e-01,  9.71679688e-02,\n",
              "       -1.80664062e-01, -3.61328125e-01, -5.00488281e-03, -1.57226562e-01,\n",
              "        2.12890625e-01, -3.90625000e-01,  1.63574219e-02, -5.90820312e-02,\n",
              "        1.44531250e-01,  1.45507812e-01, -2.63671875e-01,  1.56250000e-01,\n",
              "        8.83789062e-02, -2.07031250e-01,  1.99218750e-01, -3.35937500e-01,\n",
              "        2.71484375e-01, -3.02734375e-01, -2.08007812e-01, -2.37304688e-01,\n",
              "        8.30078125e-03, -7.91015625e-02, -9.03320312e-02, -1.52343750e-01,\n",
              "        2.17773438e-01,  8.05664062e-02,  2.89062500e-01,  1.68945312e-01,\n",
              "        2.03125000e-01,  9.91210938e-02, -2.73437500e-01, -5.37109375e-02,\n",
              "       -3.71093750e-01, -1.07910156e-01,  9.17968750e-02,  1.92382812e-01,\n",
              "        8.44726562e-02, -1.24023438e-01,  6.83593750e-02, -2.45117188e-01,\n",
              "        1.36718750e-01, -2.03125000e-01,  9.17968750e-02, -1.03027344e-01,\n",
              "       -4.76074219e-03,  2.37304688e-01, -1.98242188e-01, -3.37890625e-01,\n",
              "        2.88085938e-02, -4.80957031e-02, -7.03125000e-02,  7.75146484e-03,\n",
              "        5.21850586e-03, -1.92871094e-02, -4.83398438e-02,  1.06445312e-01,\n",
              "        3.73535156e-02,  3.63281250e-01, -8.59375000e-02, -7.37304688e-02,\n",
              "       -8.34960938e-02,  3.78417969e-02, -2.08984375e-01,  1.67968750e-01,\n",
              "       -1.95312500e-01, -1.06811523e-02, -1.19018555e-03, -1.72851562e-01,\n",
              "        2.27539062e-01,  4.78515625e-02, -3.14453125e-01,  9.91210938e-02,\n",
              "        3.16406250e-01, -6.68945312e-02,  1.45507812e-01,  3.41796875e-02,\n",
              "       -4.37011719e-02,  7.66601562e-02, -6.44531250e-02, -1.04003906e-01,\n",
              "        1.45507812e-01,  6.54296875e-02,  4.22363281e-02, -1.73339844e-02,\n",
              "       -2.30712891e-02,  2.42919922e-02, -9.57031250e-02, -2.94921875e-01,\n",
              "        1.37695312e-01, -2.79541016e-02,  1.18652344e-01, -1.08398438e-01,\n",
              "        1.33789062e-01,  1.33789062e-01,  7.51953125e-02,  2.05078125e-01,\n",
              "        1.24511719e-01, -6.34765625e-02, -3.73535156e-02, -1.31835938e-01,\n",
              "        3.51562500e-02,  8.74023438e-02,  2.73437500e-01, -5.61523438e-02,\n",
              "        1.40625000e-01,  6.20117188e-02, -2.34375000e-01, -6.88476562e-02,\n",
              "        1.82617188e-01, -2.05078125e-02, -1.10839844e-01, -3.88183594e-02,\n",
              "        1.11816406e-01, -1.53320312e-01,  2.04101562e-01, -6.22558594e-02,\n",
              "       -3.11279297e-02,  1.40625000e-01, -1.05957031e-01, -2.83203125e-02,\n",
              "        5.66406250e-02, -9.08203125e-02, -1.17675781e-01,  8.54492188e-03,\n",
              "       -4.34570312e-02, -4.07714844e-02, -5.54199219e-02,  1.83105469e-02,\n",
              "       -1.20605469e-01,  1.83593750e-01,  1.58203125e-01, -4.71191406e-02,\n",
              "       -2.06298828e-02, -1.72119141e-02, -1.20605469e-01, -9.03320312e-02,\n",
              "       -6.78710938e-02,  1.31835938e-01, -1.19628906e-01, -8.44726562e-02],\n",
              "      dtype=float32)"
            ]
          },
          "metadata": {},
          "execution_count": 5
        }
      ]
    },
    {
      "cell_type": "code",
      "source": [
        "model.most_similar('India')"
      ],
      "metadata": {
        "colab": {
          "base_uri": "https://localhost:8080/"
        },
        "id": "oklb_RgREy_6",
        "outputId": "30a6c7d8-a360-4b21-fa66-30f78720592b"
      },
      "execution_count": null,
      "outputs": [
        {
          "output_type": "execute_result",
          "data": {
            "text/plain": [
              "[('Indias', 0.7384199500083923),\n",
              " ('Indiaâ_€_™', 0.6843485832214355),\n",
              " ('Pakistan', 0.6706860661506653),\n",
              " ('Delhi', 0.6632035374641418),\n",
              " ('Bangalore', 0.6583030819892883),\n",
              " ('subcontinent', 0.6579218506813049),\n",
              " ('Bangladesh', 0.6527796983718872),\n",
              " ('sub_continent', 0.6503037810325623),\n",
              " ('Mumbai', 0.6495688557624817),\n",
              " ('Sri_Lanka', 0.6445952653884888)]"
            ]
          },
          "metadata": {},
          "execution_count": 6
        }
      ]
    },
    {
      "cell_type": "code",
      "source": [
        "model.most_similar('Delhi')"
      ],
      "metadata": {
        "colab": {
          "base_uri": "https://localhost:8080/"
        },
        "id": "8JTY6qjIFB2W",
        "outputId": "1111d4c7-6ee9-4428-a147-771e8f1e04b1"
      },
      "execution_count": null,
      "outputs": [
        {
          "output_type": "execute_result",
          "data": {
            "text/plain": [
              "[('Kolkata', 0.7663769125938416),\n",
              " ('Mumbai', 0.7306069731712341),\n",
              " ('Lucknow', 0.7277829647064209),\n",
              " ('Patna', 0.7159016728401184),\n",
              " ('Guwahati', 0.7072612643241882),\n",
              " ('Jaipur', 0.6992815136909485),\n",
              " ('Hyderabad', 0.6983195543289185),\n",
              " ('Ranchi', 0.6962575912475586),\n",
              " ('Bhubaneswar', 0.6959235072135925),\n",
              " ('Chandigarh', 0.6940240263938904)]"
            ]
          },
          "metadata": {},
          "execution_count": 7
        }
      ]
    },
    {
      "cell_type": "code",
      "source": [
        "model.most_similar('France')"
      ],
      "metadata": {
        "colab": {
          "base_uri": "https://localhost:8080/"
        },
        "id": "DLV9o84JFBaA",
        "outputId": "36f31673-38fc-468e-a4e2-06afa78d1968"
      },
      "execution_count": null,
      "outputs": [
        {
          "output_type": "execute_result",
          "data": {
            "text/plain": [
              "[('French', 0.7000749707221985),\n",
              " ('extradites_Noriega', 0.6946742534637451),\n",
              " ('Belgium', 0.6933181285858154),\n",
              " ('Villebon_Sur_Yvette', 0.6776413321495056),\n",
              " ('PARIS_AFX_Gaz_de', 0.662800133228302),\n",
              " ('called_Xynthia_blew', 0.6588140726089478),\n",
              " ('Brive_la', 0.644013524055481),\n",
              " ('COLVILLE_SUR_MER', 0.6336530447006226),\n",
              " ('Paris', 0.6334909200668335),\n",
              " ('Germany', 0.6270756125450134)]"
            ]
          },
          "metadata": {},
          "execution_count": 9
        }
      ]
    },
    {
      "cell_type": "code",
      "source": [
        "model.most_similar(positive=['man','queen'],negative=['king'],topn=1)"
      ],
      "metadata": {
        "colab": {
          "base_uri": "https://localhost:8080/"
        },
        "id": "cWX6OcRGFqXs",
        "outputId": "df4a2928-b9b0-480d-de54-aaac21113e93"
      },
      "execution_count": null,
      "outputs": [
        {
          "output_type": "execute_result",
          "data": {
            "text/plain": [
              "[('woman', 0.7609435319900513)]"
            ]
          },
          "metadata": {},
          "execution_count": 11
        }
      ]
    },
    {
      "cell_type": "markdown",
      "source": [
        "\n",
        "$$\\text{resultante} = \\left( \\text{vector}(\\text{'man'}) + \\text{vector}(\\text{'queen'}) \\right) - \\text{vector}(\\text{'king'})$$\n",
        "\n"
      ],
      "metadata": {
        "id": "JpROGTowa3E4"
      }
    },
    {
      "cell_type": "code",
      "source": [
        "model.most_similar(positive=['man','queen'],negative=['king'])"
      ],
      "metadata": {
        "id": "Xm4WuOq5aLmB",
        "colab": {
          "base_uri": "https://localhost:8080/"
        },
        "outputId": "74728769-5dbc-4edf-f063-64db1c059f1c"
      },
      "execution_count": null,
      "outputs": [
        {
          "output_type": "execute_result",
          "data": {
            "text/plain": [
              "[('woman', 0.7609435319900513),\n",
              " ('girl', 0.6139994263648987),\n",
              " ('teenage_girl', 0.6040961742401123),\n",
              " ('teenager', 0.5825759172439575),\n",
              " ('lady', 0.5752554535865784),\n",
              " ('boy', 0.5077577233314514),\n",
              " ('policewoman', 0.5066847801208496),\n",
              " ('schoolgirl', 0.5052095651626587),\n",
              " ('blonde', 0.48696190118789673),\n",
              " ('person', 0.48637545108795166)]"
            ]
          },
          "metadata": {},
          "execution_count": 12
        }
      ]
    },
    {
      "cell_type": "code",
      "source": [
        "model.most_similar(positive=['dog','cat'],negative=['dog'],topn=60)"
      ],
      "metadata": {
        "colab": {
          "base_uri": "https://localhost:8080/"
        },
        "id": "AxaO9mViGaQd",
        "outputId": "d540813b-1a23-4d64-9a23-fa1e8f9040e1"
      },
      "execution_count": null,
      "outputs": [
        {
          "output_type": "execute_result",
          "data": {
            "text/plain": [
              "[('cats', 0.8099379539489746),\n",
              " ('kitten', 0.7464985251426697),\n",
              " ('feline', 0.7326233983039856),\n",
              " ('beagle', 0.7150582671165466),\n",
              " ('puppy', 0.7075453400611877),\n",
              " ('pup', 0.6934290528297424),\n",
              " ('pet', 0.6891530752182007),\n",
              " ('felines', 0.6755931377410889),\n",
              " ('chihuahua', 0.6709762215614319),\n",
              " ('pooch', 0.6699831485748291),\n",
              " ('kitties', 0.6669641137123108),\n",
              " ('dachshund', 0.665578305721283),\n",
              " ('poodle', 0.6621246337890625),\n",
              " ('stray_cat', 0.6616333723068237),\n",
              " ('Shih_Tzu', 0.6573935151100159),\n",
              " ('tabby', 0.6555001735687256),\n",
              " ('basset_hound', 0.652544379234314),\n",
              " ('golden_retriever', 0.6522623896598816),\n",
              " ('Siamese_cat', 0.65217125415802),\n",
              " ('cocker_spaniel', 0.6466888189315796),\n",
              " ('Maine_coon_cat', 0.6458406448364258),\n",
              " ('Sheltie', 0.6445403099060059),\n",
              " ('Doberman', 0.6432362794876099),\n",
              " ('dogs', 0.641852080821991),\n",
              " ('moggy', 0.641704261302948),\n",
              " ('kittens', 0.6387113332748413),\n",
              " ('puppies', 0.6386183500289917),\n",
              " ('miniature_poodle', 0.6382548809051514),\n",
              " ('pug', 0.6375241279602051),\n",
              " ('calico_cat', 0.636540412902832),\n",
              " ('Pomeranian', 0.6342514753341675),\n",
              " ('poodle_mix', 0.6342421174049377),\n",
              " ('schnauzer', 0.6338184475898743),\n",
              " ('pit_bull', 0.6333155632019043),\n",
              " ('mastiff_mix', 0.6313717365264893),\n",
              " ('Yorkshire_terrier', 0.6306279897689819),\n",
              " ('miniature_dachshund', 0.6291165947914124),\n",
              " ('tabby_cat', 0.6285521388053894),\n",
              " ('rabbit', 0.6261381506919861),\n",
              " ('tom_cat', 0.6247410774230957),\n",
              " ('Lhasa_Apso', 0.624487578868866),\n",
              " ('border_collie', 0.6241253018379211),\n",
              " ('sheltie', 0.6240367889404297),\n",
              " ('pets', 0.6216374039649963),\n",
              " ('raccoon', 0.6210863590240479),\n",
              " ('tortoiseshell_cat', 0.620876133441925),\n",
              " ('Shitzu', 0.6204684972763062),\n",
              " ('cockatiel', 0.619541585445404),\n",
              " ('Rottweiler_mix', 0.6186619400978088),\n",
              " ('moggies', 0.6175426244735718),\n",
              " ('moggie', 0.6170101165771484),\n",
              " ('Rottweiller', 0.6168724894523621),\n",
              " ('pit_bull_mix', 0.6168007850646973),\n",
              " ('rotweiller', 0.616428792476654),\n",
              " ('dalmatian', 0.6162802577018738),\n",
              " ('spaniel_mix', 0.6159603595733643),\n",
              " ('shih_tzu', 0.6148746609687805),\n",
              " ('Cairn_Terrier', 0.6134847402572632),\n",
              " ('springer_spaniel', 0.6118568778038025),\n",
              " ('rottweiler', 0.6110943555831909)]"
            ]
          },
          "metadata": {},
          "execution_count": 24
        }
      ]
    },
    {
      "cell_type": "code",
      "source": [
        "model.most_similar(positive=['airplane','bus'],negative=['airport'],topn=200)"
      ],
      "metadata": {
        "colab": {
          "base_uri": "https://localhost:8080/"
        },
        "id": "ncR0GVFCHOA7",
        "outputId": "12160cb3-dd2b-49ef-dee7-b35639f9df12"
      },
      "execution_count": null,
      "outputs": [
        {
          "output_type": "execute_result",
          "data": {
            "text/plain": [
              "[('buses', 0.5743814706802368),\n",
              " ('van', 0.5514587759971619),\n",
              " ('Bus', 0.520258367061615),\n",
              " ('busses', 0.5069376826286316),\n",
              " ('plane', 0.5064378380775452),\n",
              " ('minivan', 0.5050926208496094),\n",
              " ('minibus', 0.4986606538295746),\n",
              " ('schoolbus', 0.4974924921989441),\n",
              " ('car', 0.48933902382850647),\n",
              " ('truck', 0.4884495139122009),\n",
              " ('Greyhound_bus', 0.4828634262084961),\n",
              " ('locomotive', 0.4774898886680603),\n",
              " ('scooter', 0.47118064761161804),\n",
              " ('Amtrak_train', 0.4649185836315155),\n",
              " ('vehicle', 0.4641342759132385),\n",
              " ('pickup_truck', 0.45953643321990967),\n",
              " ('bicycle', 0.45873117446899414),\n",
              " ('taxi_cab', 0.4569959342479706),\n",
              " ('Cessna_###L', 0.45600804686546326),\n",
              " ('jumpseat', 0.45212891697883606),\n",
              " ('tricycle', 0.45027580857276917),\n",
              " ('double_decker_bus', 0.4451448917388916),\n",
              " ('wagon', 0.44512492418289185),\n",
              " ('tractor', 0.4423355460166931),\n",
              " ('motorcycle', 0.4411865472793579),\n",
              " ('tractor_trailer', 0.43942978978157043),\n",
              " ('hay_wagon', 0.43818551301956177),\n",
              " ('boat', 0.4340013563632965),\n",
              " ('motor_scooter', 0.4338124990463257),\n",
              " ('station_wagon', 0.433654248714447),\n",
              " ('train', 0.432635098695755),\n",
              " ('Acela_train', 0.4321978986263275),\n",
              " ('Schwinn_bike', 0.43209078907966614),\n",
              " ('firetruck', 0.4317014217376709),\n",
              " ('boxcar', 0.4314495325088501),\n",
              " ('trolley', 0.4309697449207306),\n",
              " ('airplanes', 0.43092161417007446),\n",
              " ('motorcoach', 0.43064674735069275),\n",
              " ('helicopter', 0.42987459897994995),\n",
              " ('Tsrifin_army_base', 0.42852386832237244),\n",
              " ('vans', 0.42718321084976196),\n",
              " ('SUV', 0.42714667320251465),\n",
              " ('pontoon_boat', 0.4265054166316986),\n",
              " ('Volkswagen_Beetle', 0.4243354797363281),\n",
              " ('moped', 0.4219053387641907),\n",
              " ('Trailways_bus', 0.4212649166584015),\n",
              " ('flatbed_truck', 0.42064061760902405),\n",
              " ('Buses', 0.42053642868995667),\n",
              " ('haywagon', 0.4194381833076477),\n",
              " ('single_decker_bus', 0.4180670380592346),\n",
              " ('Honda_Goldwing', 0.4174545109272003),\n",
              " ('single_decker', 0.4174503684043884),\n",
              " ('options_www.expressjet.com_charter', 0.41691574454307556),\n",
              " ('cab', 0.4157869219779968),\n",
              " ('motorboat', 0.41462695598602295),\n",
              " ('bike', 0.413429856300354),\n",
              " ('Chrysler_LeBaron', 0.413053959608078),\n",
              " ('homebuilt_airplane', 0.41262319684028625),\n",
              " ('trike', 0.4121728241443634),\n",
              " ('limo', 0.41202589869499207),\n",
              " ('towing_glider', 0.41026148200035095),\n",
              " ('Chevy_Suburban', 0.40999293327331543),\n",
              " ('wheeler', 0.40968915820121765),\n",
              " ('minibuses', 0.40898045897483826),\n",
              " ('piggyback_atop', 0.4076784551143646),\n",
              " ('flatcar', 0.4069002568721771),\n",
              " ('copter', 0.40575724840164185),\n",
              " ('lawnmower', 0.4055117964744568),\n",
              " ('rickshaw', 0.4050118625164032),\n",
              " ('recumbent_bicycle', 0.4037754535675049),\n",
              " ('motorbike', 0.40278393030166626),\n",
              " ('air_conditioned_buses', 0.40206199884414673),\n",
              " ('taxicab', 0.40116333961486816),\n",
              " ('motorycle', 0.39941948652267456),\n",
              " ('eighteen_wheeler', 0.3993890881538391),\n",
              " ('propeller_plane', 0.39885014295578003),\n",
              " ('Chevy_pickup', 0.3984457552433014),\n",
              " ('Amish_buggy', 0.39835190773010254),\n",
              " ('jumbo_jet', 0.39830565452575684),\n",
              " ('Ford_Tempo', 0.3979722857475281),\n",
              " ('carriages', 0.39756715297698975),\n",
              " ('Conway_Scenic_Railroad', 0.3970121443271637),\n",
              " ('tractor_trailor', 0.3966786563396454),\n",
              " ('microbus', 0.3960428833961487),\n",
              " ('aircraft', 0.39580926299095154),\n",
              " ('motorized_hang_glider', 0.3949930667877197),\n",
              " ('TriMet_bus', 0.39431196451187134),\n",
              " ('Piper_Cub', 0.39425399899482727),\n",
              " ('Toyota_Townace', 0.3939294219017029),\n",
              " ('Flexible_Flyer_sled', 0.39332690834999084),\n",
              " ('trishaw', 0.3930404484272003),\n",
              " ('Geo_Prizm', 0.39264151453971863),\n",
              " ('single_decker_buses', 0.39203914999961853),\n",
              " ('sleeper_compartment', 0.3917931914329529),\n",
              " ('SHERMAN_Texas', 0.39126724004745483),\n",
              " ('bicyle', 0.39075231552124023),\n",
              " ('MEXICAN_HAT_Utah', 0.3907090127468109),\n",
              " ('MBTA_commuter_train', 0.3906748294830322),\n",
              " ('Cessna', 0.3906692564487457),\n",
              " ('C_SPAN_Civics', 0.3905714750289917),\n",
              " ('auto_rickshaw', 0.3904227614402771),\n",
              " ('sightseeing_helicopter', 0.38996216654777527),\n",
              " ('molue', 0.38931867480278015),\n",
              " ('open_cockpit_biplane', 0.38914552330970764),\n",
              " ('John_Deere_tractor', 0.38901254534721375),\n",
              " ('autorickshaw', 0.38888487219810486),\n",
              " ('Dodge_Durango', 0.38868698477745056),\n",
              " ('limousine', 0.388625830411911),\n",
              " ('flatbed_trailer', 0.38861986994743347),\n",
              " ('flatbed_tractor_trailer', 0.38852426409721375),\n",
              " ('jet', 0.38850292563438416),\n",
              " ('motorcyle', 0.388092964887619),\n",
              " ('recumbent_tricycle', 0.3879980444908142),\n",
              " ('Schwinn_bicycle', 0.38782253861427307),\n",
              " ('twin_engine', 0.38751494884490967),\n",
              " ('biplane', 0.38737237453460693),\n",
              " ('turbo_prop_airplane', 0.38724204897880554),\n",
              " ('Econoline_van', 0.38692528009414673),\n",
              " ('Oldsmobile', 0.3868666887283325),\n",
              " ('X_Coaster', 0.38676461577415466),\n",
              " ('GMC_Suburban', 0.38673996925354004),\n",
              " ('Fung_Wah_bus', 0.3866652250289917),\n",
              " ('Skymaster_transport', 0.38593992590904236),\n",
              " ('golf_cart', 0.3858729302883148),\n",
              " ('double_decker_buses', 0.3857553005218506),\n",
              " ('ferryboat', 0.38548755645751953),\n",
              " ('dump_truck', 0.3853887617588043),\n",
              " ('jetliner', 0.38523420691490173),\n",
              " ('steam_locomotive', 0.38499850034713745),\n",
              " ('planes', 0.3849795460700989),\n",
              " ('Oldsmobile_Ciera', 0.3849775791168213),\n",
              " ('Ford_Econoline_vans', 0.38497236371040344),\n",
              " ('jeep', 0.38475146889686584),\n",
              " ('motorcylce', 0.38443800806999207),\n",
              " ('caboose', 0.38430508971214294),\n",
              " ('tailboard', 0.3840506672859192),\n",
              " ('camper_van', 0.3840082287788391),\n",
              " ('Lear_jet', 0.38376277685165405),\n",
              " ('homebuilt_plane', 0.3834629952907562),\n",
              " ('lawn_mower', 0.3832971155643463),\n",
              " ('Cat_Tracker', 0.38304921984672546),\n",
              " ('paddleboat', 0.38256171345710754),\n",
              " ('Minibus', 0.3821623921394348),\n",
              " ('amusement_park_ride', 0.3820057213306427),\n",
              " ('Fabio_complimented', 0.3819791078567505),\n",
              " ('sailboat', 0.3816154897212982),\n",
              " ('Chevy_pickup_truck', 0.38133102655410767),\n",
              " ('Humvee', 0.38124382495880127),\n",
              " ('Mustang_convertible', 0.38100627064704895),\n",
              " ('lawn_tractor', 0.380921334028244),\n",
              " ('turboprop_airliner', 0.3807469308376312),\n",
              " ('Beechcraft_Bonanza', 0.3806234300136566),\n",
              " ('canoe', 0.38061147928237915),\n",
              " ('spaceship', 0.3804349899291992),\n",
              " ('articulator_truck', 0.3802736699581146),\n",
              " ('Honda_Civic', 0.3796502351760864),\n",
              " ('Busses', 0.3796381652355194),\n",
              " ('Greyhound_Bus', 0.3796284794807434),\n",
              " ('Plymouth_Voyager_minivan', 0.379061758518219),\n",
              " ('hansom_cab', 0.3788031041622162),\n",
              " ('TARC_bus', 0.37871497869491577),\n",
              " ('ATV', 0.37866753339767456),\n",
              " ('snowmobile', 0.3786119520664215),\n",
              " ('Piper_Cub_airplane', 0.37837305665016174),\n",
              " ('Pontoon_boat', 0.37824925780296326),\n",
              " ('towtruck', 0.37822654843330383),\n",
              " ('Chevy_Astro', 0.3778237998485565),\n",
              " ('dually_pickup', 0.37781399488449097),\n",
              " ('tractor_trailer_rig', 0.37776821851730347),\n",
              " ('speedboat', 0.3773592710494995),\n",
              " ('Chance_Rides', 0.376850962638855),\n",
              " ('Oscar_Mayer_Wienermobile', 0.37661656737327576),\n",
              " ('motorized_tricycle', 0.37601250410079956),\n",
              " ('Jeep', 0.3757903575897217),\n",
              " ('Tilt_Whirl', 0.37570399045944214),\n",
              " ('semitruck', 0.3753134608268738),\n",
              " ('Dodge_Caravan', 0.3751990497112274),\n",
              " ('tanker_truck', 0.37496066093444824),\n",
              " ('unbelted_passengers', 0.3747795820236206),\n",
              " ('Yamaha_sportbike', 0.37473219633102417),\n",
              " ('hayrack', 0.3745109438896179),\n",
              " ('handcar', 0.3736841380596161),\n",
              " ('Chad_Metzcar', 0.373491108417511),\n",
              " ('Chevy_Corvair', 0.37343934178352356),\n",
              " ('Amtrak_Acela_train', 0.37330299615859985),\n",
              " ('U_Haul_truck', 0.37299978733062744),\n",
              " ('seat_belt_convincer', 0.37284010648727417),\n",
              " ('Toyota_Hiace', 0.37271276116371155),\n",
              " ('CDTA_bus', 0.37241607904434204),\n",
              " ('Harbaugh_hopped', 0.37231436371803284),\n",
              " ('Hummer_limousine', 0.372158944606781),\n",
              " ('Megabus', 0.372115820646286),\n",
              " ('railcars', 0.37203219532966614),\n",
              " ('jalopy', 0.37189891934394836),\n",
              " ('motorized_scooter', 0.3718937337398529),\n",
              " ('LANTA_bus', 0.3717188537120819),\n",
              " ('freightliner', 0.3715556561946869),\n",
              " ('tractor_trailers', 0.3709409534931183),\n",
              " ('locomotives', 0.37084126472473145),\n",
              " ('Mercury_Cougar', 0.3707702159881592)]"
            ]
          },
          "metadata": {},
          "execution_count": 23
        }
      ]
    },
    {
      "cell_type": "code",
      "source": [],
      "metadata": {
        "id": "E8Tp8h6NH4oY"
      },
      "execution_count": null,
      "outputs": []
    }
  ]
}