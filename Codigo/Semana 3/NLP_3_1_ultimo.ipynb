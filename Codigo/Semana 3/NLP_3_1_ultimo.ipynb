{
  "nbformat": 4,
  "nbformat_minor": 0,
  "metadata": {
    "colab": {
      "provenance": []
    },
    "kernelspec": {
      "name": "python3",
      "display_name": "Python 3"
    },
    "language_info": {
      "name": "python"
    }
  },
  "cells": [
    {
      "cell_type": "code",
      "execution_count": null,
      "metadata": {
        "id": "9TfMJxSKi5yV"
      },
      "outputs": [],
      "source": [
        "import matplotlib.pyplot as plt\n",
        "import matplotlib.image as mpimg\n",
        "def ver_imag(path):\n",
        "  img = mpimg.imread(path)  # Cambia el nombre si es necesario\n",
        "  plt.imshow(img)\n",
        "  plt.axis('off')  # Oculta los ejes\n",
        "  plt.show()\n"
      ]
    },
    {
      "cell_type": "markdown",
      "source": [
        "# Construyendo un chatbot básico\n",
        "Hablamos sobre los chatbots como una de las aplicaciones más importantes del mundo real en el procesamiento del lenguaje natural (NLP).  Tenemos las suficientes bases  para crear un chatbot básico que pueda ser entrenado con un corpus predefinido y proporcionar respuestas a consultas utilizando conceptos de similitud.\n",
        "\n",
        "El requisito más importante para construir un chatbot es el corpus o conjunto de datos textuales en el que se entrenará. El corpus debe ser relevante y exhaustivo. Por ejemplo, si estás construyendo un chatbot para el departamento de Recursos Humanos (RH) de tu organización, necesitarías un corpus que contenga todas las políticas de RH para entrenar el bot, y no un corpus con discursos presidenciales. También es necesario garantizar que el tiempo de respuesta sea aceptable y que el bot no tome demasiado tiempo en responder. Idealmente, el bot debería parecer humano y alcanzar un nivel de precisión adecuado.\n",
        "\n",
        "Para el chatbot que crearemos se usaran los datos de preguntas y respuestas de Amazon, que es un repositorio de preguntas y respuestas recopiladas del sitio web de Amazon para varias categorías de productos (http://jmcauley.ucsd.edu/data/amazon/qa/). Dado que el conjunto de datos es masivo, solo se usaran los datos de preguntas y respuestas relacionados con artículos electrónicos. Al estar entrenado con estos datos, nuestro chatbot podría implementarse como soporte automatizado de preguntas y respuestas en la sección de artículos electrónicos."
      ],
      "metadata": {
        "id": "qK_AmCMNm8cj"
      }
    },
    {
      "cell_type": "code",
      "source": [
        "from google.colab import files\n",
        "import zipfile\n",
        "import json\n",
        "\n",
        "# Subir archivo ZIP\n",
        "uploaded = files.upload()\n",
        "\n"
      ],
      "metadata": {
        "colab": {
          "base_uri": "https://localhost:8080/",
          "height": 38
        },
        "id": "jdFH4ZpRnVbI",
        "outputId": "78c8099e-e8bd-48cf-8d47-01b1c4497295"
      },
      "execution_count": null,
      "outputs": [
        {
          "output_type": "display_data",
          "data": {
            "text/plain": [
              "<IPython.core.display.HTML object>"
            ],
            "text/html": [
              "\n",
              "     <input type=\"file\" id=\"files-4e43f692-dcae-4ca1-b481-0e285b642691\" name=\"files[]\" multiple disabled\n",
              "        style=\"border:none\" />\n",
              "     <output id=\"result-4e43f692-dcae-4ca1-b481-0e285b642691\">\n",
              "      Upload widget is only available when the cell has been executed in the\n",
              "      current browser session. Please rerun this cell to enable.\n",
              "      </output>\n",
              "      <script>// Copyright 2017 Google LLC\n",
              "//\n",
              "// Licensed under the Apache License, Version 2.0 (the \"License\");\n",
              "// you may not use this file except in compliance with the License.\n",
              "// You may obtain a copy of the License at\n",
              "//\n",
              "//      http://www.apache.org/licenses/LICENSE-2.0\n",
              "//\n",
              "// Unless required by applicable law or agreed to in writing, software\n",
              "// distributed under the License is distributed on an \"AS IS\" BASIS,\n",
              "// WITHOUT WARRANTIES OR CONDITIONS OF ANY KIND, either express or implied.\n",
              "// See the License for the specific language governing permissions and\n",
              "// limitations under the License.\n",
              "\n",
              "/**\n",
              " * @fileoverview Helpers for google.colab Python module.\n",
              " */\n",
              "(function(scope) {\n",
              "function span(text, styleAttributes = {}) {\n",
              "  const element = document.createElement('span');\n",
              "  element.textContent = text;\n",
              "  for (const key of Object.keys(styleAttributes)) {\n",
              "    element.style[key] = styleAttributes[key];\n",
              "  }\n",
              "  return element;\n",
              "}\n",
              "\n",
              "// Max number of bytes which will be uploaded at a time.\n",
              "const MAX_PAYLOAD_SIZE = 100 * 1024;\n",
              "\n",
              "function _uploadFiles(inputId, outputId) {\n",
              "  const steps = uploadFilesStep(inputId, outputId);\n",
              "  const outputElement = document.getElementById(outputId);\n",
              "  // Cache steps on the outputElement to make it available for the next call\n",
              "  // to uploadFilesContinue from Python.\n",
              "  outputElement.steps = steps;\n",
              "\n",
              "  return _uploadFilesContinue(outputId);\n",
              "}\n",
              "\n",
              "// This is roughly an async generator (not supported in the browser yet),\n",
              "// where there are multiple asynchronous steps and the Python side is going\n",
              "// to poll for completion of each step.\n",
              "// This uses a Promise to block the python side on completion of each step,\n",
              "// then passes the result of the previous step as the input to the next step.\n",
              "function _uploadFilesContinue(outputId) {\n",
              "  const outputElement = document.getElementById(outputId);\n",
              "  const steps = outputElement.steps;\n",
              "\n",
              "  const next = steps.next(outputElement.lastPromiseValue);\n",
              "  return Promise.resolve(next.value.promise).then((value) => {\n",
              "    // Cache the last promise value to make it available to the next\n",
              "    // step of the generator.\n",
              "    outputElement.lastPromiseValue = value;\n",
              "    return next.value.response;\n",
              "  });\n",
              "}\n",
              "\n",
              "/**\n",
              " * Generator function which is called between each async step of the upload\n",
              " * process.\n",
              " * @param {string} inputId Element ID of the input file picker element.\n",
              " * @param {string} outputId Element ID of the output display.\n",
              " * @return {!Iterable<!Object>} Iterable of next steps.\n",
              " */\n",
              "function* uploadFilesStep(inputId, outputId) {\n",
              "  const inputElement = document.getElementById(inputId);\n",
              "  inputElement.disabled = false;\n",
              "\n",
              "  const outputElement = document.getElementById(outputId);\n",
              "  outputElement.innerHTML = '';\n",
              "\n",
              "  const pickedPromise = new Promise((resolve) => {\n",
              "    inputElement.addEventListener('change', (e) => {\n",
              "      resolve(e.target.files);\n",
              "    });\n",
              "  });\n",
              "\n",
              "  const cancel = document.createElement('button');\n",
              "  inputElement.parentElement.appendChild(cancel);\n",
              "  cancel.textContent = 'Cancel upload';\n",
              "  const cancelPromise = new Promise((resolve) => {\n",
              "    cancel.onclick = () => {\n",
              "      resolve(null);\n",
              "    };\n",
              "  });\n",
              "\n",
              "  // Wait for the user to pick the files.\n",
              "  const files = yield {\n",
              "    promise: Promise.race([pickedPromise, cancelPromise]),\n",
              "    response: {\n",
              "      action: 'starting',\n",
              "    }\n",
              "  };\n",
              "\n",
              "  cancel.remove();\n",
              "\n",
              "  // Disable the input element since further picks are not allowed.\n",
              "  inputElement.disabled = true;\n",
              "\n",
              "  if (!files) {\n",
              "    return {\n",
              "      response: {\n",
              "        action: 'complete',\n",
              "      }\n",
              "    };\n",
              "  }\n",
              "\n",
              "  for (const file of files) {\n",
              "    const li = document.createElement('li');\n",
              "    li.append(span(file.name, {fontWeight: 'bold'}));\n",
              "    li.append(span(\n",
              "        `(${file.type || 'n/a'}) - ${file.size} bytes, ` +\n",
              "        `last modified: ${\n",
              "            file.lastModifiedDate ? file.lastModifiedDate.toLocaleDateString() :\n",
              "                                    'n/a'} - `));\n",
              "    const percent = span('0% done');\n",
              "    li.appendChild(percent);\n",
              "\n",
              "    outputElement.appendChild(li);\n",
              "\n",
              "    const fileDataPromise = new Promise((resolve) => {\n",
              "      const reader = new FileReader();\n",
              "      reader.onload = (e) => {\n",
              "        resolve(e.target.result);\n",
              "      };\n",
              "      reader.readAsArrayBuffer(file);\n",
              "    });\n",
              "    // Wait for the data to be ready.\n",
              "    let fileData = yield {\n",
              "      promise: fileDataPromise,\n",
              "      response: {\n",
              "        action: 'continue',\n",
              "      }\n",
              "    };\n",
              "\n",
              "    // Use a chunked sending to avoid message size limits. See b/62115660.\n",
              "    let position = 0;\n",
              "    do {\n",
              "      const length = Math.min(fileData.byteLength - position, MAX_PAYLOAD_SIZE);\n",
              "      const chunk = new Uint8Array(fileData, position, length);\n",
              "      position += length;\n",
              "\n",
              "      const base64 = btoa(String.fromCharCode.apply(null, chunk));\n",
              "      yield {\n",
              "        response: {\n",
              "          action: 'append',\n",
              "          file: file.name,\n",
              "          data: base64,\n",
              "        },\n",
              "      };\n",
              "\n",
              "      let percentDone = fileData.byteLength === 0 ?\n",
              "          100 :\n",
              "          Math.round((position / fileData.byteLength) * 100);\n",
              "      percent.textContent = `${percentDone}% done`;\n",
              "\n",
              "    } while (position < fileData.byteLength);\n",
              "  }\n",
              "\n",
              "  // All done.\n",
              "  yield {\n",
              "    response: {\n",
              "      action: 'complete',\n",
              "    }\n",
              "  };\n",
              "}\n",
              "\n",
              "scope.google = scope.google || {};\n",
              "scope.google.colab = scope.google.colab || {};\n",
              "scope.google.colab._files = {\n",
              "  _uploadFiles,\n",
              "  _uploadFilesContinue,\n",
              "};\n",
              "})(self);\n",
              "</script> "
            ]
          },
          "metadata": {}
        }
      ]
    },
    {
      "cell_type": "code",
      "source": [
        "import zipfile\n",
        "\n",
        "# Nombre del archivo ZIP ya cargado\n",
        "zip_path = \"/content/qa_Electronics.zip\"\n",
        "\n",
        "# Listar y extraer los archivos\n",
        "with zipfile.ZipFile(zip_path, 'r') as zip_ref:\n",
        "    # Lista los archivos dentro del ZIP\n",
        "    archivos = zip_ref.namelist()\n",
        "    print(\"Archivos en el ZIP:\", archivos)\n",
        "\n",
        "    # Extraer todos los archivos en el directorio actual\n",
        "    zip_ref.extractall()\n",
        "    print(\"Archivos extraídos en el directorio actual.\")\n"
      ],
      "metadata": {
        "colab": {
          "base_uri": "https://localhost:8080/",
          "height": 347
        },
        "id": "RwwcPQ-CpIeY",
        "outputId": "5b6ad50f-663f-4814-ca3a-e0e236d46677"
      },
      "execution_count": null,
      "outputs": [
        {
          "output_type": "error",
          "ename": "FileNotFoundError",
          "evalue": "[Errno 2] No such file or directory: '/content/qa_Electronics.zip'",
          "traceback": [
            "\u001b[0;31m---------------------------------------------------------------------------\u001b[0m",
            "\u001b[0;31mFileNotFoundError\u001b[0m                         Traceback (most recent call last)",
            "\u001b[0;32m<ipython-input-3-169245cbdd95>\u001b[0m in \u001b[0;36m<cell line: 7>\u001b[0;34m()\u001b[0m\n\u001b[1;32m      5\u001b[0m \u001b[0;34m\u001b[0m\u001b[0m\n\u001b[1;32m      6\u001b[0m \u001b[0;31m# Listar y extraer los archivos\u001b[0m\u001b[0;34m\u001b[0m\u001b[0;34m\u001b[0m\u001b[0m\n\u001b[0;32m----> 7\u001b[0;31m \u001b[0;32mwith\u001b[0m \u001b[0mzipfile\u001b[0m\u001b[0;34m.\u001b[0m\u001b[0mZipFile\u001b[0m\u001b[0;34m(\u001b[0m\u001b[0mzip_path\u001b[0m\u001b[0;34m,\u001b[0m \u001b[0;34m'r'\u001b[0m\u001b[0;34m)\u001b[0m \u001b[0;32mas\u001b[0m \u001b[0mzip_ref\u001b[0m\u001b[0;34m:\u001b[0m\u001b[0;34m\u001b[0m\u001b[0;34m\u001b[0m\u001b[0m\n\u001b[0m\u001b[1;32m      8\u001b[0m     \u001b[0;31m# Lista los archivos dentro del ZIP\u001b[0m\u001b[0;34m\u001b[0m\u001b[0;34m\u001b[0m\u001b[0m\n\u001b[1;32m      9\u001b[0m     \u001b[0marchivos\u001b[0m \u001b[0;34m=\u001b[0m \u001b[0mzip_ref\u001b[0m\u001b[0;34m.\u001b[0m\u001b[0mnamelist\u001b[0m\u001b[0;34m(\u001b[0m\u001b[0;34m)\u001b[0m\u001b[0;34m\u001b[0m\u001b[0;34m\u001b[0m\u001b[0m\n",
            "\u001b[0;32m/usr/lib/python3.10/zipfile.py\u001b[0m in \u001b[0;36m__init__\u001b[0;34m(self, file, mode, compression, allowZip64, compresslevel, strict_timestamps)\u001b[0m\n\u001b[1;32m   1252\u001b[0m             \u001b[0;32mwhile\u001b[0m \u001b[0;32mTrue\u001b[0m\u001b[0;34m:\u001b[0m\u001b[0;34m\u001b[0m\u001b[0;34m\u001b[0m\u001b[0m\n\u001b[1;32m   1253\u001b[0m                 \u001b[0;32mtry\u001b[0m\u001b[0;34m:\u001b[0m\u001b[0;34m\u001b[0m\u001b[0;34m\u001b[0m\u001b[0m\n\u001b[0;32m-> 1254\u001b[0;31m                     \u001b[0mself\u001b[0m\u001b[0;34m.\u001b[0m\u001b[0mfp\u001b[0m \u001b[0;34m=\u001b[0m \u001b[0mio\u001b[0m\u001b[0;34m.\u001b[0m\u001b[0mopen\u001b[0m\u001b[0;34m(\u001b[0m\u001b[0mfile\u001b[0m\u001b[0;34m,\u001b[0m \u001b[0mfilemode\u001b[0m\u001b[0;34m)\u001b[0m\u001b[0;34m\u001b[0m\u001b[0;34m\u001b[0m\u001b[0m\n\u001b[0m\u001b[1;32m   1255\u001b[0m                 \u001b[0;32mexcept\u001b[0m \u001b[0mOSError\u001b[0m\u001b[0;34m:\u001b[0m\u001b[0;34m\u001b[0m\u001b[0;34m\u001b[0m\u001b[0m\n\u001b[1;32m   1256\u001b[0m                     \u001b[0;32mif\u001b[0m \u001b[0mfilemode\u001b[0m \u001b[0;32min\u001b[0m \u001b[0mmodeDict\u001b[0m\u001b[0;34m:\u001b[0m\u001b[0;34m\u001b[0m\u001b[0;34m\u001b[0m\u001b[0m\n",
            "\u001b[0;31mFileNotFoundError\u001b[0m: [Errno 2] No such file or directory: '/content/qa_Electronics.zip'"
          ]
        }
      ]
    },
    {
      "cell_type": "code",
      "source": [
        "import ast\n",
        "questions = []\n",
        "answers = []\n",
        "with open('qa_Electronics.json','r') as f:\n",
        " for line in f:\n",
        "  data = ast.literal_eval(line)\n",
        "  questions.append(data['question'].lower())\n",
        "  answers.append(data['answer'].lower())\n"
      ],
      "metadata": {
        "id": "CdSCdXCSpEBC"
      },
      "execution_count": null,
      "outputs": []
    },
    {
      "cell_type": "code",
      "source": [
        "#questions"
      ],
      "metadata": {
        "id": "jvmRX_2HqkF5"
      },
      "execution_count": null,
      "outputs": []
    },
    {
      "cell_type": "markdown",
      "source": [
        "Como se observa, cada fila de datos está en un formato de diccionario con varios pares llave-valor. Ahora que estamos familiarizados con el corpus, diseñemos la arquitectura del chatbot de la siguiente manera:\n",
        "\n",
        "Almacenar todas las preguntas del corpus en una lista.\n",
        "Almacenar todas las respuestas correspondientes del corpus en otra lista.\n",
        "Vectorizar y preprocesar los datos de las preguntas (convertir el texto en representaciones numéricas que puedan ser procesadas por algoritmos).\n",
        "Vectorizar y preprocesar la consulta del usuario.\n",
        "Evaluar cuál es la pregunta más similar a la consulta del usuario utilizando la similitud de coseno (una métrica que mide cómo de similares son dos vectores en un espacio multidimensional).\n",
        "Devolver la respuesta correspondiente a la pregunta más similar como respuesta del chatbot."
      ],
      "metadata": {
        "id": "Aw13RWyMoTvr"
      }
    },
    {
      "cell_type": "markdown",
      "source": [
        "Durante la importación, también realizamos el paso de preprocesamiento convirtiendo todos los caracteres a minúsculas. Luego, utilizando el módulo CountVectorizer de la biblioteca sklearn, convertimos la lista de preguntas en una matriz dispersa y aplicamos la transformación TF-IDF (Term Frequency-Inverse Document Frequency),"
      ],
      "metadata": {
        "id": "BHT8RATfrRMf"
      }
    },
    {
      "cell_type": "code",
      "source": [
        "# tokenize the text and convert data in matrix format\n",
        "from sklearn.feature_extraction.text import CountVectorizer\n",
        "vectorizer = CountVectorizer(stop_words='english')\n",
        "X_vec = vectorizer.fit_transform(questions)"
      ],
      "metadata": {
        "id": "4oOAsynqn3LD"
      },
      "execution_count": null,
      "outputs": []
    },
    {
      "cell_type": "code",
      "source": [
        "#!pip install scikit-learn\n",
        "import numpy as np\n",
        "from sklearn.feature_extraction.text import TfidfTransformer\n",
        "from sklearn.metrics.pairwise import cosine_similarity\n",
        "from sklearn.feature_extraction.text import CountVectorizer"
      ],
      "metadata": {
        "id": "PE02IWcErxPW"
      },
      "execution_count": null,
      "outputs": []
    },
    {
      "cell_type": "code",
      "source": [
        "# Transform data by applying term frequency inverse document frequency (TF-IDF)\n",
        "tfidf = TfidfTransformer() #by default applies \"l2\" normalization\n",
        "X_tfidf = tfidf.fit_transform(X_vec)"
      ],
      "metadata": {
        "id": "rUkVIH0zrV4C"
      },
      "execution_count": null,
      "outputs": []
    },
    {
      "cell_type": "markdown",
      "source": [
        "La matriz X_tfidf es el repositorio que se buscará cada vez que se ingrese una nueva pregunta en el chatbot para encontrar la pregunta más similar. Para implementar esto, creamos una función que calcula el ángulo entre cada fila de la matriz X_tfidf y el vector de la nueva pregunta. Utilizamos el módulo cosine_similarity de la biblioteca sklearn para calcular el coseno entre cada fila y el vector, y luego convertimos el coseno en grados.\n",
        "\n",
        "Finalmente, buscamos la fila que tiene el coseno máximo (o el ángulo mínimo) con el vector de la nueva pregunta y devolvemos la respuesta correspondiente a esa pregunta como respuesta del chatbot. Si el ángulo más pequeño entre el vector de la pregunta y cada fila de la matriz es mayor que un valor de umbral, consideramos que esa pregunta es lo suficientemente diferente como para no justificar una respuesta."
      ],
      "metadata": {
        "id": "GkmvWDnhsPwl"
      }
    },
    {
      "cell_type": "code",
      "source": [
        "def conversation(im):\n",
        "    global tfidf, answers, X_tfidf\n",
        "    Y_vec = vectorizer.transform(im)\n",
        "    Y_tfidf = tfidf.fit_transform(Y_vec)\n",
        "    cos_sim = np.rad2deg(np.arccos(max(cosine_similarity(Y_tfidf, X_tfidf)[0])))\n",
        "    if cos_sim > 60 :\n",
        "        return \"sorry, I did not quite understand that\"\n",
        "    else:\n",
        "        return answers[np.argmax(cosine_similarity(Y_tfidf, X_tfidf)[0])]\n",
        "\n",
        "def main():\n",
        "    usr = input(\"Please enter your username: \")\n",
        "    print(\"support: Hi, welcome to Q&A support. How can I help you?\")\n",
        "    while True:\n",
        "        im = input(\"{}: \".format(usr))\n",
        "        if im.lower() == 'bye':\n",
        "            print(\"Q&A support: bye!\")\n",
        "            break\n",
        "        else:\n",
        "            print(\"Q&A support: \"+conversation([im]))"
      ],
      "metadata": {
        "id": "gSSWOIUprm6x"
      },
      "execution_count": null,
      "outputs": []
    },
    {
      "cell_type": "code",
      "source": [
        "main()\n"
      ],
      "metadata": {
        "id": "a3k30Mepscit"
      },
      "execution_count": null,
      "outputs": []
    },
    {
      "cell_type": "code",
      "source": [
        "from google.colab import drive\n",
        "drive.mount('/content/drive')\n",
        "\n",
        "\n"
      ],
      "metadata": {
        "colab": {
          "base_uri": "https://localhost:8080/"
        },
        "id": "lER-NF7Jph0j",
        "outputId": "bdb9598b-9135-4ccd-f28d-4784ed481b18"
      },
      "execution_count": null,
      "outputs": [
        {
          "output_type": "stream",
          "name": "stdout",
          "text": [
            "Mounted at /content/drive\n"
          ]
        }
      ]
    },
    {
      "cell_type": "markdown",
      "source": [
        "## CNN\n",
        "\n",
        "Las relaciones entre las palabras pueden derivarse observando su posición relativa entre sí. Estas relaciones pueden interpretarse como una serie temporal en la que las palabras habladas constituyen una base de datos de series temporales. Por otro lado, también podemos analizar sus posiciones relativas y derivar relaciones a partir de estas. Estas aproximaciones son utilizadas por formas más complejas y modernas de Redes Neuronales Artificiales (ANNs), conocidas como Redes Neuronales Convolucionales (CNNs) y Redes Neuronales Recurrentes (RNNs).\n",
        "\n",
        "## Entendiendo las convoluciones\n",
        "Las imágenes se describen mediante píxeles. Estos píxeles pueden tener valores variables, dependiendo de si la imagen es en blanco y negro, en escala de grises o a color. Los valores de los píxeles reflejan los patrones que podrían estar representando. Como parte de la convolución, intentamos deslizar (realizar un producto punto) lo que llamamos filtros a lo largo de la imagen para capturar patrones a partir de los píxeles.\n",
        "<img src=\"https://drive.google.com/file/d/18jdHuPKqPRaHkL5SOo43OFejXh55x3ai/view?usp=drive_link\" alt=\"Descripción de la imagen\" width=\"400\">\n",
        "\n",
        "![Imagen desde Drive](/content/drive/MyDrive/imagenes/imagen1.png)\n",
        "\n",
        "\n",
        "\n"
      ],
      "metadata": {
        "id": "XDgBJmEdYQxR"
      }
    },
    {
      "cell_type": "markdown",
      "source": [],
      "metadata": {
        "id": "lRXfVqbWmiXM"
      }
    },
    {
      "cell_type": "code",
      "source": [
        "ver_imag(\"/content/drive/MyDrive/imagenes/Imagenes/imagen 1.png\")\n"
      ],
      "metadata": {
        "colab": {
          "base_uri": "https://localhost:8080/",
          "height": 386
        },
        "id": "WKSbnxGqq8fY",
        "outputId": "7fbae93b-d87e-4779-b76b-a40d6d8ee57e"
      },
      "execution_count": null,
      "outputs": [
        {
          "output_type": "display_data",
          "data": {
            "text/plain": [
              "<Figure size 640x480 with 1 Axes>"
            ],
            "image/png": "[encoded data removed]"
          },
          "metadata": {}
        }
      ]
    },
    {
      "cell_type": "markdown",
      "source": [
        "Supongamos que la imagen anterior puede representarse mediante la siguiente matriz de píxeles de 4 x 4, donde cada valor indica la intensidad de ese píxel en la imagen:\n",
        "\n"
      ],
      "metadata": {
        "id": "rc4IltSVrZa0"
      }
    },
    {
      "cell_type": "code",
      "source": [
        "ver_imag(\"/content/drive/MyDrive/imagenes/Imagenes/imagen2.png\")"
      ],
      "metadata": {
        "colab": {
          "base_uri": "https://localhost:8080/",
          "height": 163
        },
        "id": "uFlDKrUIqiXH",
        "outputId": "0a020089-5ed5-43bf-b7f1-62e9f4c24683"
      },
      "execution_count": null,
      "outputs": [
        {
          "output_type": "display_data",
          "data": {
            "text/plain": [
              "<Figure size 640x480 with 1 Axes>"
            ],
            "image/png": "[encoded data removed]"
          },
          "metadata": {}
        }
      ]
    },
    {
      "cell_type": "markdown",
      "source": [
        "Podemos aplicar el siguiente filtro a la imagen:"
      ],
      "metadata": {
        "id": "OIbiX2Bjs2_A"
      }
    },
    {
      "cell_type": "code",
      "source": [
        "ver_imag(\"/content/drive/MyDrive/imagenes/Imagenes/imagen3.png\")"
      ],
      "metadata": {
        "colab": {
          "base_uri": "https://localhost:8080/",
          "height": 180
        },
        "id": "qNR02Fijsraz",
        "outputId": "3f533bbd-44ab-418e-80cb-a5798639a96c"
      },
      "execution_count": null,
      "outputs": [
        {
          "output_type": "display_data",
          "data": {
            "text/plain": [
              "<Figure size 640x480 with 1 Axes>"
            ],
            "image/png": "[encoded data removed]"
          },
          "metadata": {}
        }
      ]
    },
    {
      "cell_type": "markdown",
      "source": [
        "Ahora, utilizando este filtro, queremos encontrar el patrón especificado en el filtro a lo largo de la imagen. Lo que podemos hacer aquí es realizar una multiplicación elemento a elemento, que no es más que un producto punto aplicado a la imagen. Los resultados de la multiplicación elemento a elemento se suman en cada pasada del filtro sobre la imagen. Al hacer esto, obtenemos la matriz resultante, que muestra la intensidad del patrón o filtro en varios puntos de la imagen. La siguiente matriz se obtiene después de aplicar el filtro a la imagen:"
      ],
      "metadata": {
        "id": "GwUBh4vFtZhx"
      }
    },
    {
      "cell_type": "code",
      "source": [
        "ver_imag(\"/content/drive/MyDrive/imagenes/Imagenes/imagen4.png\")"
      ],
      "metadata": {
        "colab": {
          "base_uri": "https://localhost:8080/",
          "height": 171
        },
        "id": "njA_fHTmtFQL",
        "outputId": "43ba0b18-ecbb-4b0c-c86f-ee6b494418d6"
      },
      "execution_count": null,
      "outputs": [
        {
          "output_type": "display_data",
          "data": {
            "text/plain": [
              "<Figure size 640x480 with 1 Axes>"
            ],
            "image/png": "[encoded data removed]"
          },
          "metadata": {}
        }
      ]
    },
    {
      "cell_type": "markdown",
      "source": [
        "Tomemos el valor 5 de la matriz de salida y comprendamos cómo lo obtuvimos.\n",
        "Realizamos una multiplicación elemento a elemento entre las entradas desde (1, 1) hasta (3, 3) en la matriz de entrada. Este filtro se ve de la siguiente manera:\n",
        "$(6*1) + (1*0) + (4*-1) + (8*1) + (6*0) + (7*-1) + (4*1) + (3*0) + (2*-1) = 5$\n",
        "\n",
        "De manera similar, obtenemos los demás valores. Aquí asumimos que la matriz estaba indexada comenzando desde 1.\n",
        "Estos valores luego se pasan a través de funciones de activación, que pueden considerarse como parte del filtro junto con los pesos.\n",
        "El proceso que describimos aquí es principalmente lo que ocurre en la capa convolucional. Cada capa convolucional puede tener múltiples filtros, también conocidos como kernels. Los valores en estos filtros son pesos que la red actualiza para ajustar esos patrones a los datos. En el ejemplo que discutimos, utilizamos un filtro de tamaño 3 x 3. Estos filtros también pueden tener diferentes dimensiones.\n",
        "Existe una fórmula sencilla que rige lo que hemos discutido aquí.\n",
        "Si tenemos una imagen de tamaño\n",
        "\n",
        "$n×n$ y un filtro de tamaño\n",
        "\n",
        "$f×f$, entonces la salida será una matriz con las siguientes dimensiones:\n",
        "$$(n-f+1)*(n-f+1)$$\n",
        "\n",
        "## Añadamos relleno a nuestros datos\n",
        "Lo que esencialmente hacemos es utilizar una técnica llamada relleno (padding), que consiste en agregar entradas pseudocontenidas que contienen 0s como valores al final. Esto se conoce como relleno con ceros (zero-padding), y como resultado, los valores hacia los bordes también pueden ser percibidos como internos en la matriz. Ningún valor es submuestreado en comparación con los demás. Además, esto permite que el filtro encuentre patrones en todos los lugares de la imagen, independientemente de su posición.\n",
        "Así es como cambia la ecuación después de aplicar el relleno:\n",
        "Una imagen de 4 x 4\n",
        "Relleno de tamaño 1 alrededor de la imagen\n",
        "Un filtro de tamaño 3 x 3\n",
        "Así es como cambian las cosas cuando se aplica un relleno de tamaño 1 alrededor de la imagen. La imagen, junto con el relleno, ahora tiene un tamaño de n + 2p, ya que el relleno de tamaño p se aplica a todos los bordes exteriores.\n",
        "La matriz de salida ahora usará la siguiente ecuación:\n",
        "$$(n+2p-f+1)*(n+2p-f+1)$$\n",
        "\n",
        "Intentemos entender cuál es el tamaño del relleno que necesitamos aplicar. El tamaño dependerá del tamaño de los filtros que deseamos aplicar. Esto generalmente sigue la siguiente ecuación:\n"
      ],
      "metadata": {
        "id": "rsv5Y_NJ2rnW"
      }
    },
    {
      "cell_type": "code",
      "source": [
        "ver_imag(\"/content/drive/MyDrive/imagenes/Imagenes/imagen5.png\")"
      ],
      "metadata": {
        "id": "acSzxMNSuKu3",
        "colab": {
          "base_uri": "https://localhost:8080/",
          "height": 194
        },
        "outputId": "efd5556d-1afe-4759-f67f-44ce317dc512"
      },
      "execution_count": null,
      "outputs": [
        {
          "output_type": "display_data",
          "data": {
            "text/plain": [
              "<Figure size 640x480 with 1 Axes>"
            ],
            "image/png": "[encoded data removed]"
          },
          "metadata": {}
        }
      ]
    },
    {
      "cell_type": "markdown",
      "source": [
        "## Entendiendo los strides en una CNN\n",
        "Otra cosa que debemos discutir aquí es que nos movimos de lado 1 píxel a la vez. Este valor es un parámetro configurable conocido como stride. Ayuda a determinar cómo debe capturarse la superposición o la transición de un píxel a otro.\n",
        "Así es como podemos generalizar la ecuación para acomodar diferentes strides utilizando el stride como un parámetro.\n",
        "Supongamos que aplicamos un stride de s al realizar convoluciones. Aquí, nuestra matriz de salida usará la siguiente ecuación:\n",
        "$$(\\frac{n+2p-f}{s}+1)*(\\frac{n+2p-f}{s}+1)$$\n",
        "\n",
        "Junto con las convoluciones, estamos utilizando una capa de pooling y una capa completamente conectada. A continuación, descubriremos cómo funcionan estas capas y qué sucede después de que los filtros se aplican a los datos de entrada.\n",
        "\n",
        "## ¿Qué es el pooling?\n",
        "En la operación de convolución, lo que tratamos de capturar fueron características o patrones en los datos utilizando algunos filtros. El objetivo es mantener la computación lo más mínima posible mientras se captura la mayor cantidad de información posible. Por lo tanto, en todo momento, debemos intentar mantener solo la información necesaria que pueda describir la característica que se ha capturado. Esto se realiza mediante capas de pooling. La operación de pooling ayuda a reducir la resolución de los datos para que solo se conserve la información relevante. Dejamos de lado la mayoría de la información no deseada, de modo que se requiera una computación mínima. Como resultado, esto ayuda a prevenir el sobreajuste (overfitting). Otra cosa que puede que hayas notado es que, incluso si los datos se desplazan un poco, el pooling nos permite capturar la información que necesitamos, independientemente de dónde esté ubicada la característica en los datos. Esta propiedad se conoce como invariancia espacial.\n",
        "\n",
        "Ahora, intentemos entender algunas de las técnicas de pooling más utilizadas. Existen varios tipos de pooling que se pueden realizar. Tomemos una matriz y veamos cómo se pueden aplicar las diferentes estrategias de pooling a ella. Tomaremos un stride de 2:"
      ],
      "metadata": {
        "id": "DQJyCvsRBW_X"
      }
    },
    {
      "cell_type": "code",
      "source": [
        "ver_imag(\"/content/drive/MyDrive/imagenes/Imagenes/imagen6.png\")"
      ],
      "metadata": {
        "colab": {
          "base_uri": "https://localhost:8080/",
          "height": 192
        },
        "id": "7JTUSnIGBFc2",
        "outputId": "83bb800f-22ff-41b7-f40f-5f5f3fc1a3b0"
      },
      "execution_count": null,
      "outputs": [
        {
          "output_type": "display_data",
          "data": {
            "text/plain": [
              "<Figure size 640x480 with 1 Axes>"
            ],
            "image/png": "[encoded data removed]"
          },
          "metadata": {}
        }
      ]
    },
    {
      "cell_type": "markdown",
      "source": [
        "Max pooling: Esta es la técnica de pooling más común que se puede aplicar. En el max pooling, se toma el valor máximo dentro de una ventana de filtro. El valor máximo que se obtiene para nuestra matriz con un stride de 2 sería el siguiente:"
      ],
      "metadata": {
        "id": "tJRnsjsCEmUJ"
      }
    },
    {
      "cell_type": "code",
      "source": [
        "ver_imag(\"/content/drive/MyDrive/imagenes/Imagenes/imagen7.png\")"
      ],
      "metadata": {
        "colab": {
          "base_uri": "https://localhost:8080/",
          "height": 406
        },
        "id": "bs_GBwKqEev9",
        "outputId": "ba45577a-ab52-4187-cfe3-9bc553ac1faa"
      },
      "execution_count": null,
      "outputs": [
        {
          "output_type": "display_data",
          "data": {
            "text/plain": [
              "<Figure size 640x480 with 1 Axes>"
            ],
            "image/png": "[encoded data removed]"
          },
          "metadata": {}
        }
      ]
    },
    {
      "cell_type": "markdown",
      "source": [
        "Average pooling: Esta técnica, como su nombre indica, toma el promedio dentro de los bloques de 2 x 2. Veamos cuáles serían los resultados del average pooling en la matriz:"
      ],
      "metadata": {
        "id": "eqR0NZyqEwNJ"
      }
    },
    {
      "cell_type": "markdown",
      "source": [],
      "metadata": {
        "id": "UsiEkaF5FdVw"
      }
    },
    {
      "cell_type": "code",
      "source": [
        "ver_imag(\"/content/drive/MyDrive/imagenes/Imagenes/imagen8.png\")"
      ],
      "metadata": {
        "colab": {
          "base_uri": "https://localhost:8080/",
          "height": 406
        },
        "id": "MI3l75MbE0es",
        "outputId": "31a2c68b-ae2b-4a6b-c1ec-0bc3a0b9a8e6"
      },
      "execution_count": null,
      "outputs": [
        {
          "output_type": "display_data",
          "data": {
            "text/plain": [
              "<Figure size 640x480 with 1 Axes>"
            ],
            "image/png": "[encoded data removed]"
          },
          "metadata": {}
        }
      ]
    },
    {
      "cell_type": "markdown",
      "source": [
        "Sum pooling: La siguiente técnica que discutiremos es el sum pooling, donde simplemente tomamos la suma de los valores dentro del filtro. La siguiente matriz muestra el resultado que se obtiene al utilizar sum pooling. El sum pooling es el método de pooling menos utilizado entre los que discutiremos:"
      ],
      "metadata": {
        "id": "MJy7K6XyFNeE"
      }
    },
    {
      "cell_type": "code",
      "source": [
        "ver_imag(\"/content/drive/MyDrive/imagenes/Imagenes/imagen9.png\")"
      ],
      "metadata": {
        "colab": {
          "base_uri": "https://localhost:8080/",
          "height": 388
        },
        "id": "xQnRnz-aFODw",
        "outputId": "41314d60-4a83-4b97-ae3c-3851aa15d658"
      },
      "execution_count": null,
      "outputs": [
        {
          "output_type": "display_data",
          "data": {
            "text/plain": [
              "<Figure size 640x480 with 1 Axes>"
            ],
            "image/png": "[encoded data removed]"
          },
          "metadata": {}
        }
      ]
    },
    {
      "cell_type": "markdown",
      "source": [
        "## La capa completamente conectada\n",
        "Las capas de convolución y pooling nos ayudan a extraer y refinar características de las entradas que la red recibe. Necesitamos algo que realmente pueda clasificar o hacer algo con estas características. Los resultados después de realizar las convoluciones y el pooling se aplanan en un vector que  alimenta a una red neuronal. Después de enviar el vector de características a través de una red neuronal que posiblemente contenga varias capas y funciones de activación, obtenemos los resultados finales de clasificación.\n",
        "\n",
        "Hasta ahora, hemos entendido cómo una CNN captura características de las imágenes, pero ¿cómo tiene sentido todo esto con datos de texto?\n",
        "\n",
        "## Detección de sarcasmo en texto usando CNNs\n",
        "Las convoluciones que hemos visto hasta ahora capturan relaciones espaciales en los datos como imágenes específicas. Sin embargo, el texto tiene más de una relación secuencial, donde las palabras cercanas a una dada aportan más información para esa palabra en particular que cualquier palabra que aparezca en una línea justo por encima de ellas. Por lo tanto, para los datos de texto, observamos relaciones espaciales unidimensionales y aprovechamos la capa Conv1D para este propósito. Esto es similar a trabajar con n-grams, donde habría superposiciones en las ventanas consecutivas de n-grams. El valor de n sería especificado por el parámetro de tamaño del kernel que proporcionas como entrada a la capa Conv1D.\n",
        "El siguiente diagrama nos ayudará a entender cómo las CNNs pueden ser utilizadas para encontrar patrones en datos de texto."
      ],
      "metadata": {
        "id": "HVlX_5EwF4UR"
      }
    },
    {
      "cell_type": "code",
      "source": [
        "ver_imag(\"/content/drive/MyDrive/imagenes/Imagenes/imagen10.png\")"
      ],
      "metadata": {
        "colab": {
          "base_uri": "https://localhost:8080/",
          "height": 245
        },
        "id": "xobHudZ2Fgkc",
        "outputId": "90e650c1-fb3d-4d35-afd5-c1e5fae7b9f7"
      },
      "execution_count": null,
      "outputs": [
        {
          "output_type": "display_data",
          "data": {
            "text/plain": [
              "<Figure size 640x480 with 1 Axes>"
            ],
            "image/png": "[encoded data removed]"
          },
          "metadata": {}
        }
      ]
    },
    {
      "cell_type": "markdown",
      "source": [
        "El diagrama anterior muestra cómo los word embeddings se envían como entradas a la capa de convolución, que contiene múltiples filtros. Esto es seguido por max pooling y, finalmente, se aplica la capa completamente conectada y dropout con la función de activación adecuada. Usaremos una arquitectura similar en nuestro estudio de detección de sarcasmo.\n",
        "Ahora que hemos comprendido las convoluciones y cómo capturan características, estamos bien preparados para usarlas para realizar análisis de texto."
      ],
      "metadata": {
        "id": "-Z63kJNFHkoC"
      }
    },
    {
      "cell_type": "markdown",
      "source": [
        "La detección de sarcasmo es un gran desafío en el procesamiento de lenguaje natural (NLP) en el mundo actual, desde los medios impresos hasta los comentarios, entre otros. Intentemos usar las CNNs para detectar sarcasmo en el texto."
      ],
      "metadata": {
        "id": "pg9zDgWKH2e6"
      }
    },
    {
      "cell_type": "markdown",
      "source": [
        "1 - importar las diversas bibliotecas que utilizaremos."
      ],
      "metadata": {
        "id": "roOCR0iDV7vR"
      }
    },
    {
      "cell_type": "code",
      "source": [
        "import pandas as pd\n",
        "import numpy as np\n",
        "import re\n",
        "import json\n",
        "import gensim\n",
        "import math\n",
        "import nltk\n",
        "nltk.download('stopwords')\n",
        "nltk.download('wordnet')\n",
        "from nltk.corpus import stopwords\n",
        "from nltk.stem.porter import PorterStemmer\n",
        "from nltk.stem.snowball import SnowballStemmer\n",
        "from nltk.stem.wordnet import WordNetLemmatizer\n",
        "from gensim.models import KeyedVectors\n",
        "import keras\n",
        "from keras.models import Sequential, Model\n",
        "from keras import layers\n",
        "from keras.layers import Dense, Dropout, Conv1D, GlobalMaxPooling1D\n",
        "import h5py"
      ],
      "metadata": {
        "colab": {
          "base_uri": "https://localhost:8080/"
        },
        "id": "xuRDxR_8Hdki",
        "outputId": "a385b10c-ec12-43ef-e6a2-67971da2eb64"
      },
      "execution_count": null,
      "outputs": [
        {
          "output_type": "stream",
          "name": "stderr",
          "text": [
            "[nltk_data] Downloading package stopwords to /root/nltk_data...\n",
            "[nltk_data]   Unzipping corpora/stopwords.zip.\n",
            "[nltk_data] Downloading package wordnet to /root/nltk_data...\n"
          ]
        }
      ]
    },
    {
      "cell_type": "markdown",
      "source": [
        "2 - Leer los datos"
      ],
      "metadata": {
        "id": "4iCbEdg0WGOX"
      }
    },
    {
      "cell_type": "code",
      "source": [
        "import zipfile\n",
        "\n",
        "# Nombre del archivo ZIP ya cargado\n",
        "zip_path = \"/content/drive/MyDrive/imagenes/Imagenes/Sarcasm_Headlines_Dataset_v2.zip\"\n",
        "\n",
        "# Listar y extraer los archivos\n",
        "with zipfile.ZipFile(zip_path, 'r') as zip_ref:\n",
        "    # Lista los archivos dentro del ZIP\n",
        "    archivos = zip_ref.namelist()\n",
        "    print(\"Archivos en el ZIP:\", archivos)\n",
        "\n",
        "    # Extraer todos los archivos en el directorio actual\n",
        "    zip_ref.extractall()\n",
        "    print(\"Archivos extraídos en el directorio actual.\")\n"
      ],
      "metadata": {
        "colab": {
          "base_uri": "https://localhost:8080/"
        },
        "id": "7o08gspgVe9E",
        "outputId": "177b426d-65b8-4eb5-c1dd-ccd4792a87fa"
      },
      "execution_count": null,
      "outputs": [
        {
          "output_type": "stream",
          "name": "stdout",
          "text": [
            "Archivos en el ZIP: ['Sarcasm_Headlines_Dataset_v2.json']\n",
            "Archivos extraídos en el directorio actual.\n"
          ]
        }
      ]
    },
    {
      "cell_type": "code",
      "source": [
        "def parse_data(file):\n",
        "    for l in open(file,'r'):\n",
        "        yield json.loads(l)"
      ],
      "metadata": {
        "id": "bEPUBbDDIDTh"
      },
      "execution_count": null,
      "outputs": []
    },
    {
      "cell_type": "code",
      "source": [
        "data = list(parse_data('/content/drive/MyDrive/imagenes/Imagenes/Sarcasm_Headlines_Dataset_v2.json'))\n",
        "df = pd.DataFrame(data)"
      ],
      "metadata": {
        "id": "kOFQ4xuKVrE5"
      },
      "execution_count": null,
      "outputs": []
    },
    {
      "cell_type": "markdown",
      "source": [
        "3 - Entender la data"
      ],
      "metadata": {
        "id": "Sud9IvxPWUdD"
      }
    },
    {
      "cell_type": "code",
      "source": [
        "df.head(5)"
      ],
      "metadata": {
        "colab": {
          "base_uri": "https://localhost:8080/",
          "height": 206
        },
        "id": "rLmLEFpBIHha",
        "outputId": "c2aa6c27-2b01-4cce-ab12-dc5a3d6c1639"
      },
      "execution_count": null,
      "outputs": [
        {
          "output_type": "execute_result",
          "data": {
            "text/plain": [
              "   is_sarcastic                                           headline  \\\n",
              "0             1  thirtysomething scientists unveil doomsday clo...   \n",
              "1             0  dem rep. totally nails why congress is falling...   \n",
              "2             0  eat your veggies: 9 deliciously different recipes   \n",
              "3             1  inclement weather prevents liar from getting t...   \n",
              "4             1  mother comes pretty close to using word 'strea...   \n",
              "\n",
              "                                        article_link  \n",
              "0  https://www.theonion.com/thirtysomething-scien...  \n",
              "1  https://www.huffingtonpost.com/entry/donna-edw...  \n",
              "2  https://www.huffingtonpost.com/entry/eat-your-...  \n",
              "3  https://local.theonion.com/inclement-weather-p...  \n",
              "4  https://www.theonion.com/mother-comes-pretty-c...  "
            ],
            "text/html": [
              "\n",
              "  <div id=\"df-c44f927f-0836-4e8b-a9ae-267a216ae471\" class=\"colab-df-container\">\n",
              "    <div>\n",
              "<style scoped>\n",
              "    .dataframe tbody tr th:only-of-type {\n",
              "        vertical-align: middle;\n",
              "    }\n",
              "\n",
              "    .dataframe tbody tr th {\n",
              "        vertical-align: top;\n",
              "    }\n",
              "\n",
              "    .dataframe thead th {\n",
              "        text-align: right;\n",
              "    }\n",
              "</style>\n",
              "<table border=\"1\" class=\"dataframe\">\n",
              "  <thead>\n",
              "    <tr style=\"text-align: right;\">\n",
              "      <th></th>\n",
              "      <th>is_sarcastic</th>\n",
              "      <th>headline</th>\n",
              "      <th>article_link</th>\n",
              "    </tr>\n",
              "  </thead>\n",
              "  <tbody>\n",
              "    <tr>\n",
              "      <th>0</th>\n",
              "      <td>1</td>\n",
              "      <td>thirtysomething scientists unveil doomsday clo...</td>\n",
              "      <td>https://www.theonion.com/thirtysomething-scien...</td>\n",
              "    </tr>\n",
              "    <tr>\n",
              "      <th>1</th>\n",
              "      <td>0</td>\n",
              "      <td>dem rep. totally nails why congress is falling...</td>\n",
              "      <td>https://www.huffingtonpost.com/entry/donna-edw...</td>\n",
              "    </tr>\n",
              "    <tr>\n",
              "      <th>2</th>\n",
              "      <td>0</td>\n",
              "      <td>eat your veggies: 9 deliciously different recipes</td>\n",
              "      <td>https://www.huffingtonpost.com/entry/eat-your-...</td>\n",
              "    </tr>\n",
              "    <tr>\n",
              "      <th>3</th>\n",
              "      <td>1</td>\n",
              "      <td>inclement weather prevents liar from getting t...</td>\n",
              "      <td>https://local.theonion.com/inclement-weather-p...</td>\n",
              "    </tr>\n",
              "    <tr>\n",
              "      <th>4</th>\n",
              "      <td>1</td>\n",
              "      <td>mother comes pretty close to using word 'strea...</td>\n",
              "      <td>https://www.theonion.com/mother-comes-pretty-c...</td>\n",
              "    </tr>\n",
              "  </tbody>\n",
              "</table>\n",
              "</div>\n",
              "    <div class=\"colab-df-buttons\">\n",
              "\n",
              "  <div class=\"colab-df-container\">\n",
              "    <button class=\"colab-df-convert\" onclick=\"convertToInteractive('df-c44f927f-0836-4e8b-a9ae-267a216ae471')\"\n",
              "            title=\"Convert this dataframe to an interactive table.\"\n",
              "            style=\"display:none;\">\n",
              "\n",
              "  <svg xmlns=\"http://www.w3.org/2000/svg\" height=\"24px\" viewBox=\"0 -960 960 960\">\n",
              "    <path d=\"M120-120v-720h720v720H120Zm60-500h600v-160H180v160Zm220 220h160v-160H400v160Zm0 220h160v-160H400v160ZM180-400h160v-160H180v160Zm440 0h160v-160H620v160ZM180-180h160v-160H180v160Zm440 0h160v-160H620v160Z\"/>\n",
              "  </svg>\n",
              "    </button>\n",
              "\n",
              "  <style>\n",
              "    .colab-df-container {\n",
              "      display:flex;\n",
              "      gap: 12px;\n",
              "    }\n",
              "\n",
              "    .colab-df-convert {\n",
              "      background-color: #E8F0FE;\n",
              "      border: none;\n",
              "      border-radius: 50%;\n",
              "      cursor: pointer;\n",
              "      display: none;\n",
              "      fill: #1967D2;\n",
              "      height: 32px;\n",
              "      padding: 0 0 0 0;\n",
              "      width: 32px;\n",
              "    }\n",
              "\n",
              "    .colab-df-convert:hover {\n",
              "      background-color: #E2EBFA;\n",
              "      box-shadow: 0px 1px 2px rgba(60, 64, 67, 0.3), 0px 1px 3px 1px rgba(60, 64, 67, 0.15);\n",
              "      fill: #174EA6;\n",
              "    }\n",
              "\n",
              "    .colab-df-buttons div {\n",
              "      margin-bottom: 4px;\n",
              "    }\n",
              "\n",
              "    [theme=dark] .colab-df-convert {\n",
              "      background-color: #3B4455;\n",
              "      fill: #D2E3FC;\n",
              "    }\n",
              "\n",
              "    [theme=dark] .colab-df-convert:hover {\n",
              "      background-color: #434B5C;\n",
              "      box-shadow: 0px 1px 3px 1px rgba(0, 0, 0, 0.15);\n",
              "      filter: drop-shadow(0px 1px 2px rgba(0, 0, 0, 0.3));\n",
              "      fill: #FFFFFF;\n",
              "    }\n",
              "  </style>\n",
              "\n",
              "    <script>\n",
              "      const buttonEl =\n",
              "        document.querySelector('#df-c44f927f-0836-4e8b-a9ae-267a216ae471 button.colab-df-convert');\n",
              "      buttonEl.style.display =\n",
              "        google.colab.kernel.accessAllowed ? 'block' : 'none';\n",
              "\n",
              "      async function convertToInteractive(key) {\n",
              "        const element = document.querySelector('#df-c44f927f-0836-4e8b-a9ae-267a216ae471');\n",
              "        const dataTable =\n",
              "          await google.colab.kernel.invokeFunction('convertToInteractive',\n",
              "                                                    [key], {});\n",
              "        if (!dataTable) return;\n",
              "\n",
              "        const docLinkHtml = 'Like what you see? Visit the ' +\n",
              "          '<a target=\"_blank\" href=https://colab.research.google.com/notebooks/data_table.ipynb>data table notebook</a>'\n",
              "          + ' to learn more about interactive tables.';\n",
              "        element.innerHTML = '';\n",
              "        dataTable['output_type'] = 'display_data';\n",
              "        await google.colab.output.renderOutput(dataTable, element);\n",
              "        const docLink = document.createElement('div');\n",
              "        docLink.innerHTML = docLinkHtml;\n",
              "        element.appendChild(docLink);\n",
              "      }\n",
              "    </script>\n",
              "  </div>\n",
              "\n",
              "\n",
              "<div id=\"df-9ce6ab77-80f8-4419-ba52-1928495246b1\">\n",
              "  <button class=\"colab-df-quickchart\" onclick=\"quickchart('df-9ce6ab77-80f8-4419-ba52-1928495246b1')\"\n",
              "            title=\"Suggest charts\"\n",
              "            style=\"display:none;\">\n",
              "\n",
              "<svg xmlns=\"http://www.w3.org/2000/svg\" height=\"24px\"viewBox=\"0 0 24 24\"\n",
              "     width=\"24px\">\n",
              "    <g>\n",
              "        <path d=\"M19 3H5c-1.1 0-2 .9-2 2v14c0 1.1.9 2 2 2h14c1.1 0 2-.9 2-2V5c0-1.1-.9-2-2-2zM9 17H7v-7h2v7zm4 0h-2V7h2v10zm4 0h-2v-4h2v4z\"/>\n",
              "    </g>\n",
              "</svg>\n",
              "  </button>\n",
              "\n",
              "<style>\n",
              "  .colab-df-quickchart {\n",
              "      --bg-color: #E8F0FE;\n",
              "      --fill-color: #1967D2;\n",
              "      --hover-bg-color: #E2EBFA;\n",
              "      --hover-fill-color: #174EA6;\n",
              "      --disabled-fill-color: #AAA;\n",
              "      --disabled-bg-color: #DDD;\n",
              "  }\n",
              "\n",
              "  [theme=dark] .colab-df-quickchart {\n",
              "      --bg-color: #3B4455;\n",
              "      --fill-color: #D2E3FC;\n",
              "      --hover-bg-color: #434B5C;\n",
              "      --hover-fill-color: #FFFFFF;\n",
              "      --disabled-bg-color: #3B4455;\n",
              "      --disabled-fill-color: #666;\n",
              "  }\n",
              "\n",
              "  .colab-df-quickchart {\n",
              "    background-color: var(--bg-color);\n",
              "    border: none;\n",
              "    border-radius: 50%;\n",
              "    cursor: pointer;\n",
              "    display: none;\n",
              "    fill: var(--fill-color);\n",
              "    height: 32px;\n",
              "    padding: 0;\n",
              "    width: 32px;\n",
              "  }\n",
              "\n",
              "  .colab-df-quickchart:hover {\n",
              "    background-color: var(--hover-bg-color);\n",
              "    box-shadow: 0 1px 2px rgba(60, 64, 67, 0.3), 0 1px 3px 1px rgba(60, 64, 67, 0.15);\n",
              "    fill: var(--button-hover-fill-color);\n",
              "  }\n",
              "\n",
              "  .colab-df-quickchart-complete:disabled,\n",
              "  .colab-df-quickchart-complete:disabled:hover {\n",
              "    background-color: var(--disabled-bg-color);\n",
              "    fill: var(--disabled-fill-color);\n",
              "    box-shadow: none;\n",
              "  }\n",
              "\n",
              "  .colab-df-spinner {\n",
              "    border: 2px solid var(--fill-color);\n",
              "    border-color: transparent;\n",
              "    border-bottom-color: var(--fill-color);\n",
              "    animation:\n",
              "      spin 1s steps(1) infinite;\n",
              "  }\n",
              "\n",
              "  @keyframes spin {\n",
              "    0% {\n",
              "      border-color: transparent;\n",
              "      border-bottom-color: var(--fill-color);\n",
              "      border-left-color: var(--fill-color);\n",
              "    }\n",
              "    20% {\n",
              "      border-color: transparent;\n",
              "      border-left-color: var(--fill-color);\n",
              "      border-top-color: var(--fill-color);\n",
              "    }\n",
              "    30% {\n",
              "      border-color: transparent;\n",
              "      border-left-color: var(--fill-color);\n",
              "      border-top-color: var(--fill-color);\n",
              "      border-right-color: var(--fill-color);\n",
              "    }\n",
              "    40% {\n",
              "      border-color: transparent;\n",
              "      border-right-color: var(--fill-color);\n",
              "      border-top-color: var(--fill-color);\n",
              "    }\n",
              "    60% {\n",
              "      border-color: transparent;\n",
              "      border-right-color: var(--fill-color);\n",
              "    }\n",
              "    80% {\n",
              "      border-color: transparent;\n",
              "      border-right-color: var(--fill-color);\n",
              "      border-bottom-color: var(--fill-color);\n",
              "    }\n",
              "    90% {\n",
              "      border-color: transparent;\n",
              "      border-bottom-color: var(--fill-color);\n",
              "    }\n",
              "  }\n",
              "</style>\n",
              "\n",
              "  <script>\n",
              "    async function quickchart(key) {\n",
              "      const quickchartButtonEl =\n",
              "        document.querySelector('#' + key + ' button');\n",
              "      quickchartButtonEl.disabled = true;  // To prevent multiple clicks.\n",
              "      quickchartButtonEl.classList.add('colab-df-spinner');\n",
              "      try {\n",
              "        const charts = await google.colab.kernel.invokeFunction(\n",
              "            'suggestCharts', [key], {});\n",
              "      } catch (error) {\n",
              "        console.error('Error during call to suggestCharts:', error);\n",
              "      }\n",
              "      quickchartButtonEl.classList.remove('colab-df-spinner');\n",
              "      quickchartButtonEl.classList.add('colab-df-quickchart-complete');\n",
              "    }\n",
              "    (() => {\n",
              "      let quickchartButtonEl =\n",
              "        document.querySelector('#df-9ce6ab77-80f8-4419-ba52-1928495246b1 button');\n",
              "      quickchartButtonEl.style.display =\n",
              "        google.colab.kernel.accessAllowed ? 'block' : 'none';\n",
              "    })();\n",
              "  </script>\n",
              "</div>\n",
              "\n",
              "    </div>\n",
              "  </div>\n"
            ],
            "application/vnd.google.colaboratory.intrinsic+json": {
              "type": "dataframe",
              "variable_name": "df",
              "summary": "{\n  \"name\": \"df\",\n  \"rows\": 28619,\n  \"fields\": [\n    {\n      \"column\": \"is_sarcastic\",\n      \"properties\": {\n        \"dtype\": \"number\",\n        \"std\": 0,\n        \"min\": 0,\n        \"max\": 1,\n        \"num_unique_values\": 2,\n        \"samples\": [\n          0,\n          1\n        ],\n        \"semantic_type\": \"\",\n        \"description\": \"\"\n      }\n    },\n    {\n      \"column\": \"headline\",\n      \"properties\": {\n        \"dtype\": \"string\",\n        \"num_unique_values\": 28503,\n        \"samples\": [\n          \"marco rubio nabs his first 2016 win in minnesota gop presidential caucus\",\n          \"oops: hot mic broadcasts al roker going to the bathroom\"\n        ],\n        \"semantic_type\": \"\",\n        \"description\": \"\"\n      }\n    },\n    {\n      \"column\": \"article_link\",\n      \"properties\": {\n        \"dtype\": \"string\",\n        \"num_unique_values\": 28617,\n        \"samples\": [\n          \"https://www.huffingtonpost.com/entry/teacher-education-school-closures_n_6401316.html\",\n          \"https://www.theonion.com/drone-places-fresh-kill-on-steps-of-white-house-1819592535\"\n        ],\n        \"semantic_type\": \"\",\n        \"description\": \"\"\n      }\n    }\n  ]\n}"
            }
          },
          "metadata": {},
          "execution_count": 22
        }
      ]
    },
    {
      "cell_type": "markdown",
      "source": [
        "La salida anterior muestra cinco filas de los datos. Nuestros datos constan de tres columnas:\n",
        "\n",
        "**headline** que contiene texto sarcástico y no sarcástico.\n",
        "**is_sarcastic**, que es la variable de clase. Nos indica si un titular es sarcástico o no.\n",
        "**article_link**, que contiene el enlace al artículo original del titular.\n",
        "\n"
      ],
      "metadata": {
        "id": "6U1MNWFTWinu"
      }
    },
    {
      "cell_type": "code",
      "source": [
        "df.pop('article_link')"
      ],
      "metadata": {
        "colab": {
          "base_uri": "https://localhost:8080/",
          "height": 458
        },
        "id": "e-a5GLpZWiYd",
        "outputId": "a7b3ede9-4a8a-4f68-d77d-818e4fa70956"
      },
      "execution_count": null,
      "outputs": [
        {
          "output_type": "execute_result",
          "data": {
            "text/plain": [
              "0        https://www.theonion.com/thirtysomething-scien...\n",
              "1        https://www.huffingtonpost.com/entry/donna-edw...\n",
              "2        https://www.huffingtonpost.com/entry/eat-your-...\n",
              "3        https://local.theonion.com/inclement-weather-p...\n",
              "4        https://www.theonion.com/mother-comes-pretty-c...\n",
              "                               ...                        \n",
              "28614    https://www.theonion.com/jews-to-celebrate-ros...\n",
              "28615    https://local.theonion.com/internal-affairs-in...\n",
              "28616    https://www.huffingtonpost.com/entry/andrew-ah...\n",
              "28617    https://www.theonion.com/mars-probe-destroyed-...\n",
              "28618    https://www.theonion.com/dad-clarifies-this-no...\n",
              "Name: article_link, Length: 28619, dtype: object"
            ],
            "text/html": [
              "<div>\n",
              "<style scoped>\n",
              "    .dataframe tbody tr th:only-of-type {\n",
              "        vertical-align: middle;\n",
              "    }\n",
              "\n",
              "    .dataframe tbody tr th {\n",
              "        vertical-align: top;\n",
              "    }\n",
              "\n",
              "    .dataframe thead th {\n",
              "        text-align: right;\n",
              "    }\n",
              "</style>\n",
              "<table border=\"1\" class=\"dataframe\">\n",
              "  <thead>\n",
              "    <tr style=\"text-align: right;\">\n",
              "      <th></th>\n",
              "      <th>article_link</th>\n",
              "    </tr>\n",
              "  </thead>\n",
              "  <tbody>\n",
              "    <tr>\n",
              "      <th>0</th>\n",
              "      <td>https://www.theonion.com/thirtysomething-scien...</td>\n",
              "    </tr>\n",
              "    <tr>\n",
              "      <th>1</th>\n",
              "      <td>https://www.huffingtonpost.com/entry/donna-edw...</td>\n",
              "    </tr>\n",
              "    <tr>\n",
              "      <th>2</th>\n",
              "      <td>https://www.huffingtonpost.com/entry/eat-your-...</td>\n",
              "    </tr>\n",
              "    <tr>\n",
              "      <th>3</th>\n",
              "      <td>https://local.theonion.com/inclement-weather-p...</td>\n",
              "    </tr>\n",
              "    <tr>\n",
              "      <th>4</th>\n",
              "      <td>https://www.theonion.com/mother-comes-pretty-c...</td>\n",
              "    </tr>\n",
              "    <tr>\n",
              "      <th>...</th>\n",
              "      <td>...</td>\n",
              "    </tr>\n",
              "    <tr>\n",
              "      <th>28614</th>\n",
              "      <td>https://www.theonion.com/jews-to-celebrate-ros...</td>\n",
              "    </tr>\n",
              "    <tr>\n",
              "      <th>28615</th>\n",
              "      <td>https://local.theonion.com/internal-affairs-in...</td>\n",
              "    </tr>\n",
              "    <tr>\n",
              "      <th>28616</th>\n",
              "      <td>https://www.huffingtonpost.com/entry/andrew-ah...</td>\n",
              "    </tr>\n",
              "    <tr>\n",
              "      <th>28617</th>\n",
              "      <td>https://www.theonion.com/mars-probe-destroyed-...</td>\n",
              "    </tr>\n",
              "    <tr>\n",
              "      <th>28618</th>\n",
              "      <td>https://www.theonion.com/dad-clarifies-this-no...</td>\n",
              "    </tr>\n",
              "  </tbody>\n",
              "</table>\n",
              "<p>28619 rows × 1 columns</p>\n",
              "</div><br><label><b>dtype:</b> object</label>"
            ]
          },
          "metadata": {},
          "execution_count": 23
        }
      ]
    },
    {
      "cell_type": "code",
      "source": [
        "len(df)\n"
      ],
      "metadata": {
        "colab": {
          "base_uri": "https://localhost:8080/"
        },
        "id": "D3YqJnquVxwU",
        "outputId": "8a7455b2-36da-4412-bcc9-7c6b46e3c855"
      },
      "execution_count": null,
      "outputs": [
        {
          "output_type": "execute_result",
          "data": {
            "text/plain": [
              "28619"
            ]
          },
          "metadata": {},
          "execution_count": 24
        }
      ]
    },
    {
      "cell_type": "markdown",
      "source": [
        "4 - Limpiemos y preprocesemos nuestros datos utilizando la misma pipeline que hemos utilizado a lo largo de este libro. Los detalles se pueden encontrar en el Capítulo 3, Construyendo tu Vocabulario NLP. Aquí, realizamos lo siguiente:\n",
        "\n",
        "* Eliminar caracteres especiales.\n",
        "* Mantener solo datos alfanuméricos.\n",
        "* Eliminar stopwords\n",
        "* Lematizar nuestros datos\n",
        "* 4Realizar case-folding en los datos:"
      ],
      "metadata": {
        "id": "T47ImAU8XH9b"
      }
    },
    {
      "cell_type": "code",
      "source": [
        "def text_clean(corpus):\n",
        "    '''\n",
        "    Purpose : Function to keep only alphabets, digits and certain words (punctuations, qmarks, tabs etc. removed)\n",
        "\n",
        "    Input : Takes a text corpus, 'corpus' to be cleaned along with a list of words, 'keep_list', which have to be retained\n",
        "            even after the cleaning process\n",
        "\n",
        "    Output : Returns the cleaned text corpus\n",
        "\n",
        "    '''\n",
        "    cleaned_corpus = pd.Series()\n",
        "    for row in corpus:\n",
        "        qs = []\n",
        "        for word in row.split():\n",
        "            p1 = re.sub(pattern='[^a-zA-Z0-9]',repl=' ',string=word)\n",
        "            p1 = p1.lower()\n",
        "            qs.append(p1)\n",
        "        #cleaned_corpus = cleaned_corpus.append(pd.Series(' '.join(qs)))\n",
        "        cleaned_corpus = pd.concat([cleaned_corpus,pd.Series(' '.join(qs))])\n",
        "    return cleaned_corpus\n"
      ],
      "metadata": {
        "id": "3MKPwAcmXkvI"
      },
      "execution_count": null,
      "outputs": []
    },
    {
      "cell_type": "code",
      "source": [
        "def stopwords_removal(corpus):\n",
        "    stop = set(stopwords.words('english'))\n",
        "    corpus = [[x for x in x.split() if x not in stop] for x in corpus]\n",
        "    return corpus"
      ],
      "metadata": {
        "id": "Fmt0KSzBW6NQ"
      },
      "execution_count": null,
      "outputs": []
    },
    {
      "cell_type": "code",
      "source": [
        "def lemmatize(corpus):\n",
        "    lem = WordNetLemmatizer()\n",
        "    corpus = [[lem.lemmatize(x, pos = 'v') for x in x] for x in corpus]\n",
        "    return corpus"
      ],
      "metadata": {
        "id": "dK5jNwr7Xpz2"
      },
      "execution_count": null,
      "outputs": []
    },
    {
      "cell_type": "code",
      "source": [
        "def stem(corpus, stem_type = None):\n",
        "    if stem_type == 'snowball':\n",
        "        stemmer = SnowballStemmer(language = 'english')\n",
        "        corpus = [[stemmer.stem(x) for x in x] for x in corpus]\n",
        "    else :\n",
        "        stemmer = PorterStemmer()\n",
        "        corpus = [[stemmer.stem(x) for x in x] for x in corpus]\n",
        "    return corpus"
      ],
      "metadata": {
        "id": "LzaQg_Qdcqd3"
      },
      "execution_count": null,
      "outputs": []
    },
    {
      "cell_type": "code",
      "source": [
        "def preprocess(corpus, cleaning = True, stemming = False, stem_type = None, lemmatization = False, remove_stopwords = True):\n",
        "\n",
        "    '''\n",
        "    Purpose : Function to perform all pre-processing tasks (cleaning, stemming, lemmatization, stopwords removal etc.)\n",
        "\n",
        "    Input :\n",
        "    'corpus' - Text corpus on which pre-processing tasks will be performed\n",
        "\n",
        "    'cleaning', 'stemming', 'lemmatization', 'remove_stopwords' - Boolean variables indicating whether a particular task should\n",
        "                                                                  be performed or not\n",
        "    'stem_type' - Choose between Porter stemmer or Snowball(Porter2) stemmer. Default is \"None\", which corresponds to Porter\n",
        "                  Stemmer. 'snowball' corresponds to Snowball Stemmer\n",
        "\n",
        "    Note : Either stemming or lemmatization should be used. There's no benefit of using both of them together\n",
        "\n",
        "    Output : Returns the processed text corpus\n",
        "\n",
        "    '''\n",
        "    if cleaning == True:\n",
        "        corpus = text_clean(corpus)\n",
        "\n",
        "    if remove_stopwords == True:\n",
        "        corpus = stopwords_removal(corpus)\n",
        "    else :\n",
        "        corpus = [[x for x in x.split()] for x in corpus]\n",
        "\n",
        "    if lemmatization == True:\n",
        "        corpus = lemmatize(corpus)\n",
        "\n",
        "\n",
        "    if stemming == True:\n",
        "        corpus = stem(corpus, stem_type)\n",
        "\n",
        "    corpus = [' '.join(x) for x in corpus]\n",
        "\n",
        "\n",
        "    return corpus"
      ],
      "metadata": {
        "id": "7_gwYML5ctMy"
      },
      "execution_count": null,
      "outputs": []
    },
    {
      "cell_type": "code",
      "source": [
        "headlines = preprocess(df['headline'], lemmatization = True, remove_stopwords = True)"
      ],
      "metadata": {
        "id": "aJPeX0lNc85i"
      },
      "execution_count": null,
      "outputs": []
    },
    {
      "cell_type": "markdown",
      "source": [
        "5 ## Cargando el modelo Word2Vec y vectorizando nuestros datos\n",
        "\n",
        "\n",
        "Primero, convertiremos el texto en números utilizando una técnica de embedding que ya hemos discutido.\n",
        "Usamos Word2Vec para obtener las representaciones vectoriales de nuestros datos. Para esto, utilizaremos el modelo Word2Vec preentrenado."
      ],
      "metadata": {
        "id": "kFb2cMbmeXFx"
      }
    },
    {
      "cell_type": "code",
      "source": [
        "!wget -c \"https://s3.amazonaws.com/dl4j-distribution/GoogleNews-vectors-negative300.bin.gz\"\n",
        "!gunzip GoogleNews-vectors-negative300.bin.gz"
      ],
      "metadata": {
        "id": "Q2ODrB3ZeuJB"
      },
      "execution_count": null,
      "outputs": []
    },
    {
      "cell_type": "code",
      "source": [
        "\n",
        "# Continue with loading the model:\n",
        "import gensim.downloader as api\n",
        "model = api.load('word2vec-google-news-300')\n",
        "#model = KeyedVectors.load_word2vec_format('GoogleNews-vectors-negative300.bin', binary=True)"
      ],
      "metadata": {
        "colab": {
          "base_uri": "https://localhost:8080/"
        },
        "id": "43KU4yvDer0l",
        "outputId": "93f0b548-913e-4b43-d5f7-5bb4b458a632"
      },
      "execution_count": null,
      "outputs": [
        {
          "output_type": "stream",
          "name": "stdout",
          "text": [
            "[==================================================] 100.0% 1662.8/1662.8MB downloaded\n"
          ]
        }
      ]
    },
    {
      "cell_type": "markdown",
      "source": [
        "6 - En los próximos pasos, estaremos enviando los vectores de palabras, cada uno de tamaño 300, a nuestro modelo CNN. Sin embargo, para eso, las dimensiones de nuestros datos deben ser estandarizadas. Dado que nuestros datos provienen de titulares, los estandarizaremos para que tengan una longitud de 10. Si alguno de los titulares contiene más de 10 caracteres, se realizarán subsampling para mantener las representaciones vectoriales de los primeros 10 caracteres. Si algún titular contiene menos de 10 caracteres, los rellenaremos con ceros para que tengan vectores con valores de 0."
      ],
      "metadata": {
        "id": "xKEQLSM1fPCh"
      }
    },
    {
      "cell_type": "code",
      "source": [
        "MAX_LENGTH = 10\n",
        "VECTOR_SIZE = 300"
      ],
      "metadata": {
        "id": "2YE42RMPehOl"
      },
      "execution_count": null,
      "outputs": []
    },
    {
      "cell_type": "markdown",
      "source": [
        "7 - Ahora, definamos un fragmento de código que convertirá los titulares preprocesados en sus respectivos vectores y también rellenará o realizará subsampling de los datos según si el tamaño de los datos es mayor o menor que la longitud máxima que hemos definido:"
      ],
      "metadata": {
        "id": "gBdxgvLCfg05"
      }
    },
    {
      "cell_type": "code",
      "source": [
        "def vectorize_data(data):\n",
        "    vectors = []\n",
        "    padding_vector = [0.0] * VECTOR_SIZE\n",
        "\n",
        "    for i, data_point in enumerate(data):\n",
        "        data_point_vectors = []\n",
        "        count = 0\n",
        "\n",
        "        tokens = data_point.split()\n",
        "\n",
        "        for token in tokens:\n",
        "            if count >= MAX_LENGTH:\n",
        "                break\n",
        "            # Accede directamente al vocabulario de 'model'\n",
        "            if token in model:\n",
        "                data_point_vectors.append(model[token])\n",
        "            count += 1\n",
        "\n",
        "        if len(data_point_vectors) < MAX_LENGTH:\n",
        "            to_fill = MAX_LENGTH - len(data_point_vectors)\n",
        "            for _ in range(to_fill):\n",
        "                data_point_vectors.append(padding_vector)\n",
        "\n",
        "        vectors.append(data_point_vectors)\n",
        "\n",
        "    return vectors\n"
      ],
      "metadata": {
        "id": "Sbdyf2SSUb0r"
      },
      "execution_count": null,
      "outputs": []
    },
    {
      "cell_type": "code",
      "source": [
        "vectorized_headlines = vectorize_data(headlines)"
      ],
      "metadata": {
        "id": "Qo0NhOTUf9Lt"
      },
      "execution_count": null,
      "outputs": []
    },
    {
      "cell_type": "markdown",
      "source": [
        "8 - Agreguemos una pequeña validación para asegurar que los 10 vectores estén presentes para cada titular, tal como se define en el parámetro MAX_LENGTH"
      ],
      "metadata": {
        "id": "KO2wGG0gfyQN"
      }
    },
    {
      "cell_type": "code",
      "source": [
        "for i, vec in enumerate(vectorized_headlines):\n",
        "    if len(vec) != MAX_LENGTH:\n",
        "        print(i)"
      ],
      "metadata": {
        "id": "yX16O_LGfnRD"
      },
      "execution_count": null,
      "outputs": []
    },
    {
      "cell_type": "code",
      "source": [
        "len(vectorized_headlines[1])"
      ],
      "metadata": {
        "colab": {
          "base_uri": "https://localhost:8080/"
        },
        "id": "OU4c2vhCVmyO",
        "outputId": "ff3ec7db-2519-4591-b5d6-46c88c6e795d"
      },
      "execution_count": null,
      "outputs": [
        {
          "output_type": "execute_result",
          "data": {
            "text/plain": [
              "10"
            ]
          },
          "metadata": {},
          "execution_count": 36
        }
      ]
    },
    {
      "cell_type": "code",
      "source": [
        "len(vectorized_headlines)"
      ],
      "metadata": {
        "colab": {
          "base_uri": "https://localhost:8080/"
        },
        "id": "tpn44lUvVp_h",
        "outputId": "d73367d4-53ce-4ea6-8b8a-fefa7aa15daf"
      },
      "execution_count": null,
      "outputs": [
        {
          "output_type": "execute_result",
          "data": {
            "text/plain": [
              "28619"
            ]
          },
          "metadata": {},
          "execution_count": 37
        }
      ]
    },
    {
      "cell_type": "markdown",
      "source": [
        "Debemos dividir nuestros datos en conjuntos de entrenamiento y prueba. Usaremos el siguiente fragmento de código para hacerlo. También podemos verificar el tamaño de cada componente utilizando una simple instrucción print"
      ],
      "metadata": {
        "id": "pAdsaAPBU_hr"
      }
    },
    {
      "cell_type": "code",
      "source": [
        "train_div = math.floor(0.7 * len(vectorized_headlines))\n",
        "train_div"
      ],
      "metadata": {
        "colab": {
          "base_uri": "https://localhost:8080/"
        },
        "id": "wtERz2pPf915",
        "outputId": "582e1dd4-64f6-46e1-bbec-8209bcffd52d"
      },
      "execution_count": null,
      "outputs": [
        {
          "output_type": "execute_result",
          "data": {
            "text/plain": [
              "20033"
            ]
          },
          "metadata": {},
          "execution_count": 38
        }
      ]
    },
    {
      "cell_type": "code",
      "source": [
        "X_train = vectorized_headlines[:train_div]\n",
        "y_train = df['is_sarcastic'][:train_div]\n",
        "X_test = vectorized_headlines[train_div:]\n",
        "y_test = df['is_sarcastic'][train_div:]\n",
        "\n",
        "print('The size of X_train is:', len(X_train), '\\nThe size of y_train is:', len(y_train),\n",
        "      '\\nThe size of X_test is:', len(X_test), '\\nThe size of y_test is:', len(y_test))"
      ],
      "metadata": {
        "colab": {
          "base_uri": "https://localhost:8080/"
        },
        "id": "7aXjCuijVur_",
        "outputId": "68ddbe1c-b288-440e-e806-75b62c0371c4"
      },
      "execution_count": null,
      "outputs": [
        {
          "output_type": "stream",
          "name": "stdout",
          "text": [
            "The size of X_train is: 20033 \n",
            "The size of y_train is: 20033 \n",
            "The size of X_test is: 8586 \n",
            "The size of y_test is: 8586\n"
          ]
        }
      ]
    },
    {
      "cell_type": "code",
      "source": [],
      "metadata": {
        "id": "CX4R_wWgV1ty"
      },
      "execution_count": null,
      "outputs": []
    },
    {
      "cell_type": "markdown",
      "source": [
        "Necesitamos reestructurar nuestros datos para convertirlos en la forma esperada por nuestro modelo CNN."
      ],
      "metadata": {
        "id": "BTrC6awoWIS7"
      }
    },
    {
      "cell_type": "code",
      "source": [
        "X_train = np.reshape(X_train, (len(X_train), MAX_LENGTH, VECTOR_SIZE))\n",
        "X_test = np.reshape(X_test, (len(X_test), MAX_LENGTH, VECTOR_SIZE))\n",
        "y_train = np.array(y_train)\n",
        "y_test = np.array(y_test)"
      ],
      "metadata": {
        "id": "BweqNGBsV7OX"
      },
      "execution_count": null,
      "outputs": []
    },
    {
      "cell_type": "markdown",
      "source": [
        "## Construcción del modelo CNN\n",
        "\n",
        "Ahora que tenemos nuestros datos vectorizados listos, pasemos a la parte de la red neuronal convolucional (CNN). Comenzamos definiendo los hiperparámetros de nuestra red:"
      ],
      "metadata": {
        "id": "Xj9V8IAyWamI"
      }
    },
    {
      "cell_type": "code",
      "source": [
        "FILTERS=8\n",
        "KERNEL_SIZE=3\n",
        "HIDDEN_LAYER_1_NODES=10\n",
        "HIDDEN_LAYER_2_NODES=5\n",
        "DROPOUT_PROB=0.35\n",
        "NUM_EPOCHS=10\n",
        "BATCH_SIZE=50"
      ],
      "metadata": {
        "id": "7gfR2WjYWdF9"
      },
      "execution_count": null,
      "outputs": []
    },
    {
      "cell_type": "markdown",
      "source": [
        "\n",
        "\n",
        "## Hemos especificado los siguientes hiperparámetros:\n",
        "\n",
        "* El número de filtros.\n",
        "* El tamaño del kernel, que indica la cantidad de tokens en el texto que analizaremos.\n",
        "* El número de nodos que se usarán en cada una de las capas ocultas.\n",
        "* El dropout, que indica el porcentaje de nodos que se desactivarán de forma aleatoria.\n",
        "* El número de épocas o la cantidad de veces que procesaremos todos los datos.\n",
        "* El tamaño del lote (batch size), que especifica la cantidad de titulares vectorizados que se ingresarán al modelo en cada lote.\n",
        "\n",
        "Ahora, definamos nuestra capa convolucional"
      ],
      "metadata": {
        "id": "Dvu0jrx2W73s"
      }
    },
    {
      "cell_type": "code",
      "source": [
        "model = Sequential()\n",
        "\n",
        "model.add(Conv1D(FILTERS,\n",
        "                 KERNEL_SIZE,\n",
        "                 padding='same',\n",
        "                 strides=1,\n",
        "                 activation='relu',\n",
        "                 input_shape = (MAX_LENGTH, VECTOR_SIZE)))\n",
        "model.add(GlobalMaxPooling1D())\n",
        "model.add(Dense(HIDDEN_LAYER_1_NODES, activation='relu'))\n",
        "model.add(Dropout(DROPOUT_PROB))\n",
        "model.add(Dense(HIDDEN_LAYER_2_NODES, activation='relu'))\n",
        "model.add(Dropout(DROPOUT_PROB))\n",
        "model.add(Dense(1, activation='sigmoid'))\n",
        "print(model.summary())"
      ],
      "metadata": {
        "colab": {
          "base_uri": "https://localhost:8080/",
          "height": 444
        },
        "id": "sf7I3lihW7oc",
        "outputId": "9d15b524-abf0-48b2-8a67-201f5f5d91cd"
      },
      "execution_count": null,
      "outputs": [
        {
          "output_type": "stream",
          "name": "stderr",
          "text": [
            "/usr/local/lib/python3.10/dist-packages/keras/src/layers/convolutional/base_conv.py:107: UserWarning: Do not pass an `input_shape`/`input_dim` argument to a layer. When using Sequential models, prefer using an `Input(shape)` object as the first layer in the model instead.\n",
            "  super().__init__(activity_regularizer=activity_regularizer, **kwargs)\n"
          ]
        },
        {
          "output_type": "display_data",
          "data": {
            "text/plain": [
              "\u001b[1mModel: \"sequential\"\u001b[0m\n"
            ],
            "text/html": [
              "<pre style=\"white-space:pre;overflow-x:auto;line-height:normal;font-family:Menlo,'DejaVu Sans Mono',consolas,'Courier New',monospace\"><span style=\"font-weight: bold\">Model: \"sequential\"</span>\n",
              "</pre>\n"
            ]
          },
          "metadata": {}
        },
        {
          "output_type": "display_data",
          "data": {
            "text/plain": [
              "┏━━━━━━━━━━━━━━━━━━━━━━━━━━━━━━━━━━━━━━┳━━━━━━━━━━━━━━━━━━━━━━━━━━━━━┳━━━━━━━━━━━━━━━━━┓\n",
              "┃\u001b[1m \u001b[0m\u001b[1mLayer (type)                        \u001b[0m\u001b[1m \u001b[0m┃\u001b[1m \u001b[0m\u001b[1mOutput Shape               \u001b[0m\u001b[1m \u001b[0m┃\u001b[1m \u001b[0m\u001b[1m        Param #\u001b[0m\u001b[1m \u001b[0m┃\n",
              "┡━━━━━━━━━━━━━━━━━━━━━━━━━━━━━━━━━━━━━━╇━━━━━━━━━━━━━━━━━━━━━━━━━━━━━╇━━━━━━━━━━━━━━━━━┩\n",
              "│ conv1d (\u001b[38;5;33mConv1D\u001b[0m)                      │ (\u001b[38;5;45mNone\u001b[0m, \u001b[38;5;34m10\u001b[0m, \u001b[38;5;34m8\u001b[0m)               │           \u001b[38;5;34m7,208\u001b[0m │\n",
              "├──────────────────────────────────────┼─────────────────────────────┼─────────────────┤\n",
              "│ global_max_pooling1d                 │ (\u001b[38;5;45mNone\u001b[0m, \u001b[38;5;34m8\u001b[0m)                   │               \u001b[38;5;34m0\u001b[0m │\n",
              "│ (\u001b[38;5;33mGlobalMaxPooling1D\u001b[0m)                 │                             │                 │\n",
              "├──────────────────────────────────────┼─────────────────────────────┼─────────────────┤\n",
              "│ dense (\u001b[38;5;33mDense\u001b[0m)                        │ (\u001b[38;5;45mNone\u001b[0m, \u001b[38;5;34m10\u001b[0m)                  │              \u001b[38;5;34m90\u001b[0m │\n",
              "├──────────────────────────────────────┼─────────────────────────────┼─────────────────┤\n",
              "│ dropout (\u001b[38;5;33mDropout\u001b[0m)                    │ (\u001b[38;5;45mNone\u001b[0m, \u001b[38;5;34m10\u001b[0m)                  │               \u001b[38;5;34m0\u001b[0m │\n",
              "├──────────────────────────────────────┼─────────────────────────────┼─────────────────┤\n",
              "│ dense_1 (\u001b[38;5;33mDense\u001b[0m)                      │ (\u001b[38;5;45mNone\u001b[0m, \u001b[38;5;34m5\u001b[0m)                   │              \u001b[38;5;34m55\u001b[0m │\n",
              "├──────────────────────────────────────┼─────────────────────────────┼─────────────────┤\n",
              "│ dropout_1 (\u001b[38;5;33mDropout\u001b[0m)                  │ (\u001b[38;5;45mNone\u001b[0m, \u001b[38;5;34m5\u001b[0m)                   │               \u001b[38;5;34m0\u001b[0m │\n",
              "├──────────────────────────────────────┼─────────────────────────────┼─────────────────┤\n",
              "│ dense_2 (\u001b[38;5;33mDense\u001b[0m)                      │ (\u001b[38;5;45mNone\u001b[0m, \u001b[38;5;34m1\u001b[0m)                   │               \u001b[38;5;34m6\u001b[0m │\n",
              "└──────────────────────────────────────┴─────────────────────────────┴─────────────────┘\n"
            ],
            "text/html": [
              "<pre style=\"white-space:pre;overflow-x:auto;line-height:normal;font-family:Menlo,'DejaVu Sans Mono',consolas,'Courier New',monospace\">┏━━━━━━━━━━━━━━━━━━━━━━━━━━━━━━━━━━━━━━┳━━━━━━━━━━━━━━━━━━━━━━━━━━━━━┳━━━━━━━━━━━━━━━━━┓\n",
              "┃<span style=\"font-weight: bold\"> Layer (type)                         </span>┃<span style=\"font-weight: bold\"> Output Shape                </span>┃<span style=\"font-weight: bold\">         Param # </span>┃\n",
              "┡━━━━━━━━━━━━━━━━━━━━━━━━━━━━━━━━━━━━━━╇━━━━━━━━━━━━━━━━━━━━━━━━━━━━━╇━━━━━━━━━━━━━━━━━┩\n",
              "│ conv1d (<span style=\"color: #0087ff; text-decoration-color: #0087ff\">Conv1D</span>)                      │ (<span style=\"color: #00d7ff; text-decoration-color: #00d7ff\">None</span>, <span style=\"color: #00af00; text-decoration-color: #00af00\">10</span>, <span style=\"color: #00af00; text-decoration-color: #00af00\">8</span>)               │           <span style=\"color: #00af00; text-decoration-color: #00af00\">7,208</span> │\n",
              "├──────────────────────────────────────┼─────────────────────────────┼─────────────────┤\n",
              "│ global_max_pooling1d                 │ (<span style=\"color: #00d7ff; text-decoration-color: #00d7ff\">None</span>, <span style=\"color: #00af00; text-decoration-color: #00af00\">8</span>)                   │               <span style=\"color: #00af00; text-decoration-color: #00af00\">0</span> │\n",
              "│ (<span style=\"color: #0087ff; text-decoration-color: #0087ff\">GlobalMaxPooling1D</span>)                 │                             │                 │\n",
              "├──────────────────────────────────────┼─────────────────────────────┼─────────────────┤\n",
              "│ dense (<span style=\"color: #0087ff; text-decoration-color: #0087ff\">Dense</span>)                        │ (<span style=\"color: #00d7ff; text-decoration-color: #00d7ff\">None</span>, <span style=\"color: #00af00; text-decoration-color: #00af00\">10</span>)                  │              <span style=\"color: #00af00; text-decoration-color: #00af00\">90</span> │\n",
              "├──────────────────────────────────────┼─────────────────────────────┼─────────────────┤\n",
              "│ dropout (<span style=\"color: #0087ff; text-decoration-color: #0087ff\">Dropout</span>)                    │ (<span style=\"color: #00d7ff; text-decoration-color: #00d7ff\">None</span>, <span style=\"color: #00af00; text-decoration-color: #00af00\">10</span>)                  │               <span style=\"color: #00af00; text-decoration-color: #00af00\">0</span> │\n",
              "├──────────────────────────────────────┼─────────────────────────────┼─────────────────┤\n",
              "│ dense_1 (<span style=\"color: #0087ff; text-decoration-color: #0087ff\">Dense</span>)                      │ (<span style=\"color: #00d7ff; text-decoration-color: #00d7ff\">None</span>, <span style=\"color: #00af00; text-decoration-color: #00af00\">5</span>)                   │              <span style=\"color: #00af00; text-decoration-color: #00af00\">55</span> │\n",
              "├──────────────────────────────────────┼─────────────────────────────┼─────────────────┤\n",
              "│ dropout_1 (<span style=\"color: #0087ff; text-decoration-color: #0087ff\">Dropout</span>)                  │ (<span style=\"color: #00d7ff; text-decoration-color: #00d7ff\">None</span>, <span style=\"color: #00af00; text-decoration-color: #00af00\">5</span>)                   │               <span style=\"color: #00af00; text-decoration-color: #00af00\">0</span> │\n",
              "├──────────────────────────────────────┼─────────────────────────────┼─────────────────┤\n",
              "│ dense_2 (<span style=\"color: #0087ff; text-decoration-color: #0087ff\">Dense</span>)                      │ (<span style=\"color: #00d7ff; text-decoration-color: #00d7ff\">None</span>, <span style=\"color: #00af00; text-decoration-color: #00af00\">1</span>)                   │               <span style=\"color: #00af00; text-decoration-color: #00af00\">6</span> │\n",
              "└──────────────────────────────────────┴─────────────────────────────┴─────────────────┘\n",
              "</pre>\n"
            ]
          },
          "metadata": {}
        },
        {
          "output_type": "display_data",
          "data": {
            "text/plain": [
              "\u001b[1m Total params: \u001b[0m\u001b[38;5;34m7,359\u001b[0m (28.75 KB)\n"
            ],
            "text/html": [
              "<pre style=\"white-space:pre;overflow-x:auto;line-height:normal;font-family:Menlo,'DejaVu Sans Mono',consolas,'Courier New',monospace\"><span style=\"font-weight: bold\"> Total params: </span><span style=\"color: #00af00; text-decoration-color: #00af00\">7,359</span> (28.75 KB)\n",
              "</pre>\n"
            ]
          },
          "metadata": {}
        },
        {
          "output_type": "display_data",
          "data": {
            "text/plain": [
              "\u001b[1m Trainable params: \u001b[0m\u001b[38;5;34m7,359\u001b[0m (28.75 KB)\n"
            ],
            "text/html": [
              "<pre style=\"white-space:pre;overflow-x:auto;line-height:normal;font-family:Menlo,'DejaVu Sans Mono',consolas,'Courier New',monospace\"><span style=\"font-weight: bold\"> Trainable params: </span><span style=\"color: #00af00; text-decoration-color: #00af00\">7,359</span> (28.75 KB)\n",
              "</pre>\n"
            ]
          },
          "metadata": {}
        },
        {
          "output_type": "display_data",
          "data": {
            "text/plain": [
              "\u001b[1m Non-trainable params: \u001b[0m\u001b[38;5;34m0\u001b[0m (0.00 B)\n"
            ],
            "text/html": [
              "<pre style=\"white-space:pre;overflow-x:auto;line-height:normal;font-family:Menlo,'DejaVu Sans Mono',consolas,'Courier New',monospace\"><span style=\"font-weight: bold\"> Non-trainable params: </span><span style=\"color: #00af00; text-decoration-color: #00af00\">0</span> (0.00 B)\n",
              "</pre>\n"
            ]
          },
          "metadata": {}
        },
        {
          "output_type": "stream",
          "name": "stdout",
          "text": [
            "None\n"
          ]
        }
      ]
    },
    {
      "cell_type": "code",
      "source": [
        "model.compile(loss='binary_crossentropy', optimizer='adam', metrics=['accuracy'])"
      ],
      "metadata": {
        "id": "6jnlsfDgWiWG"
      },
      "execution_count": null,
      "outputs": []
    },
    {
      "cell_type": "code",
      "source": [
        "training_history = model.fit(X_train, y_train, epochs=NUM_EPOCHS, batch_size=BATCH_SIZE)"
      ],
      "metadata": {
        "colab": {
          "base_uri": "https://localhost:8080/"
        },
        "id": "NfNzocDpXcYp",
        "outputId": "c64a58cb-dc1f-4842-eca2-ff625cdd8327"
      },
      "execution_count": null,
      "outputs": [
        {
          "output_type": "stream",
          "name": "stdout",
          "text": [
            "Epoch 1/10\n",
            "\u001b[1m401/401\u001b[0m \u001b[32m━━━━━━━━━━━━━━━━━━━━\u001b[0m\u001b[37m\u001b[0m \u001b[1m7s\u001b[0m 9ms/step - accuracy: 0.5344 - loss: 0.6875\n",
            "Epoch 2/10\n",
            "\u001b[1m401/401\u001b[0m \u001b[32m━━━━━━━━━━━━━━━━━━━━\u001b[0m\u001b[37m\u001b[0m \u001b[1m3s\u001b[0m 6ms/step - accuracy: 0.7049 - loss: 0.5915\n",
            "Epoch 3/10\n",
            "\u001b[1m401/401\u001b[0m \u001b[32m━━━━━━━━━━━━━━━━━━━━\u001b[0m\u001b[37m\u001b[0m \u001b[1m3s\u001b[0m 6ms/step - accuracy: 0.7545 - loss: 0.5334\n",
            "Epoch 4/10\n",
            "\u001b[1m401/401\u001b[0m \u001b[32m━━━━━━━━━━━━━━━━━━━━\u001b[0m\u001b[37m\u001b[0m \u001b[1m3s\u001b[0m 6ms/step - accuracy: 0.7767 - loss: 0.5045\n",
            "Epoch 5/10\n",
            "\u001b[1m401/401\u001b[0m \u001b[32m━━━━━━━━━━━━━━━━━━━━\u001b[0m\u001b[37m\u001b[0m \u001b[1m3s\u001b[0m 8ms/step - accuracy: 0.7971 - loss: 0.4738\n",
            "Epoch 6/10\n",
            "\u001b[1m401/401\u001b[0m \u001b[32m━━━━━━━━━━━━━━━━━━━━\u001b[0m\u001b[37m\u001b[0m \u001b[1m5s\u001b[0m 7ms/step - accuracy: 0.8075 - loss: 0.4535\n",
            "Epoch 7/10\n",
            "\u001b[1m401/401\u001b[0m \u001b[32m━━━━━━━━━━━━━━━━━━━━\u001b[0m\u001b[37m\u001b[0m \u001b[1m3s\u001b[0m 7ms/step - accuracy: 0.8207 - loss: 0.4310\n",
            "Epoch 8/10\n",
            "\u001b[1m401/401\u001b[0m \u001b[32m━━━━━━━━━━━━━━━━━━━━\u001b[0m\u001b[37m\u001b[0m \u001b[1m3s\u001b[0m 8ms/step - accuracy: 0.8274 - loss: 0.4111\n",
            "Epoch 9/10\n",
            "\u001b[1m401/401\u001b[0m \u001b[32m━━━━━━━━━━━━━━━━━━━━\u001b[0m\u001b[37m\u001b[0m \u001b[1m3s\u001b[0m 8ms/step - accuracy: 0.8347 - loss: 0.3933\n",
            "Epoch 10/10\n",
            "\u001b[1m401/401\u001b[0m \u001b[32m━━━━━━━━━━━━━━━━━━━━\u001b[0m\u001b[37m\u001b[0m \u001b[1m5s\u001b[0m 8ms/step - accuracy: 0.8444 - loss: 0.3807\n"
          ]
        }
      ]
    },
    {
      "cell_type": "code",
      "source": [
        "loss, accuracy = model.evaluate(X_test, y_test, verbose=False)\n",
        "print(\"Testing Accuracy:  {:.4f}\".format(accuracy))"
      ],
      "metadata": {
        "colab": {
          "base_uri": "https://localhost:8080/"
        },
        "id": "pC6SnZd8XgcY",
        "outputId": "2e6b7b61-8ee2-482d-fdd1-fa60a8b7b2fe"
      },
      "execution_count": null,
      "outputs": [
        {
          "output_type": "stream",
          "name": "stdout",
          "text": [
            "Testing Accuracy:  0.7598\n"
          ]
        }
      ]
    },
    {
      "cell_type": "code",
      "source": [
        "headlines"
      ],
      "metadata": {
        "colab": {
          "base_uri": "https://localhost:8080/"
        },
        "id": "oB4VLXyhBfer",
        "outputId": "c963913f-3d64-4515-b704-958bdb5a3596"
      },
      "execution_count": null,
      "outputs": [
        {
          "output_type": "execute_result",
          "data": {
            "text/plain": [
              "['thirtysomething scientists unveil doomsday clock hair loss',\n",
              " 'dem rep totally nail congress fall short gender racial equality',\n",
              " 'eat veggies 9 deliciously different recipes',\n",
              " 'inclement weather prevent liar get work',\n",
              " 'mother come pretty close use word stream correctly',\n",
              " 'white inheritance',\n",
              " '5 ways file tax less stress',\n",
              " 'richard branson global warm donation nearly much cost fail balloon trip',\n",
              " 'shadow government get large meet marriott conference room b',\n",
              " 'lot parent know scenario',\n",
              " 'lesbian consider father indiana amaze one',\n",
              " 'amanda peet tell daughter sex special hug',\n",
              " 'know regard current treatments ebola',\n",
              " 'chris christie suggest hillary clinton blame boko haram kidnap hundreds schoolgirls',\n",
              " 'ford develop new suv run purely gasoline',\n",
              " 'uber ceo travis kalanick step trump economic advisory council',\n",
              " 'area boy enter jump touch top doorways phase',\n",
              " 'area man travel gurney',\n",
              " 'leave person disabilities behind',\n",
              " 'lin manuel miranda would like remind put phone away',\n",
              " '60 journalists kill 2014 target international press rise',\n",
              " 'guard video game strict order repeatedly pace stretch hallway',\n",
              " 'live 110',\n",
              " 'cat scar shelter even look',\n",
              " 'bill clinton shoot republicans strongly support obamacare',\n",
              " 'secret service agent secret david alan grier fan',\n",
              " 'new orange era grow divide',\n",
              " 'things learn first month baby',\n",
              " 'lamelo ball score 92 point single high school basketball game',\n",
              " 'bi take 21 years come closet say',\n",
              " '10 essential life lessons grandma',\n",
              " 'teenage gunfight isis',\n",
              " 'older still young heart',\n",
              " 'lead probability researchers confound three coworkers wear shirt color day',\n",
              " 'new york introduce shoe share program city pedestrians',\n",
              " 'beyonc sculpt cheese strangely allure',\n",
              " 'expansive obama state union speech touch patent law entomology film robert altman',\n",
              " 'star gray hair prove get older bad',\n",
              " 'police say woman make story attack two men one wear trump hat update',\n",
              " 'naacp demand less minority representation upn',\n",
              " 'best clothe man child life',\n",
              " 'florist turn away gay couple want supreme court hear case',\n",
              " 'still process end walk dead strangers',\n",
              " 'new google project deliver critical info refugees smartphones',\n",
              " 'new history textbook make hatred history come alive students',\n",
              " '10 ways ridiculously successful people think differently',\n",
              " 'report bridge probably whole mess bat',\n",
              " 'texas republicans urge trump style immigration crackdown',\n",
              " 'tom hanks brag smokin hot rita wilson 29 years marriage',\n",
              " 'god get strong urge bring back dinosaurs',\n",
              " 'lgbt christians speak love sinner hate sin cut anymore',\n",
              " 'handshake come unusually high angle velocity',\n",
              " 'mom keep send newspaper clippings former classmates murder',\n",
              " 'report make stop',\n",
              " 'coed rec softball team trouble find enough hyper competitive men ruin experience',\n",
              " 'brutalist beaver construct paul rudolph inspire dam',\n",
              " 'jindal westboro baptist members protest funerals face arrest',\n",
              " 'gop congressman may vote president',\n",
              " 'donald trump latest attempt repeal obamacare make seth meyers sick',\n",
              " 'suicide bomb parent spot warn sign',\n",
              " 'state department warn americans travel abroad avoid lame amsterdam windmill tour',\n",
              " 'meatless monday portuguese mashup',\n",
              " 'message president facebook',\n",
              " 'families miss flight passengers hop media get closure need',\n",
              " 'fender release new hybrid gas electric guitar',\n",
              " 'romney volunteer go door door let obama supporters know president dead',\n",
              " 'friday talk point prelude silly season',\n",
              " 'meet sparkle 2 year old next style crush',\n",
              " 'hollywood biggest star endure long line oscars security screen',\n",
              " 'congresswoman fight gun control almost lose life gun violence',\n",
              " 'raise kid love love',\n",
              " 'want make meetings productive start walk',\n",
              " 'elizabeth warren pick win ohio democratic gubernatorial primary',\n",
              " 'bite argument trump may cost man ear',\n",
              " 'longtime reader lib slave info sick mainstream bias sit like wideawakepatriot com',\n",
              " 'beijing fire department extinguish massive five alarm burn cloud smog',\n",
              " 'china intensify pressure north korea',\n",
              " 'defiant sanders camp',\n",
              " 'sheep watch mind',\n",
              " 'first toronto film festival jake gyllenhaal demolition stun lobster',\n",
              " 'super pac men political consultants take texas oilman wild ride',\n",
              " 'active shooter large report endless background hum modern american life',\n",
              " 'david axelrod suggest hillary clinton see less complex alternative obama',\n",
              " 'sleater kinney make bowie rebel rebel political anthem 2017',\n",
              " 'kirsten gillibrand regret call al franken quit sooner',\n",
              " 'well fargo sue bar daca recipients student loan',\n",
              " 'historical archive amaze publick spectacle',\n",
              " 'israel pass law cement exclusive nation state benjamin netanyahu',\n",
              " 'onion social crack sexual harassment ban women platform',\n",
              " 'exclusive promo hint stephen colbert unleash trump live election show',\n",
              " 'banksy return new york city one trademark rat',\n",
              " 'bobby jindal biggest donors benefit administration',\n",
              " 'drink driver zone',\n",
              " 'egyptian woman wish scream protester husband would go bonkers',\n",
              " 'meet millennial men love hillary clinton',\n",
              " 'number homeless students america rise rapidly',\n",
              " 'report majority instance people get live back track occur immediately visit buffalo wild wing',\n",
              " 'groundbreaking study find gratification deliberately postpone',\n",
              " 'nick cannon respond mariah carey engagement best way',\n",
              " 'midlife obesity may speed alzheimer',\n",
              " 'report 70 trump endorsements make star bedroom ceiling 4 hours',\n",
              " 'study find american diet poor improve',\n",
              " 'decades effort chemists overseas report nano breakthrough',\n",
              " 'produce section burst laughter ferrell make casual remark apples',\n",
              " 'dad immediately hand phone mom',\n",
              " 'worst audition ever danger play paddle ball chew gum sing build city simultaneously',\n",
              " 'state help 5 million kid parent behind bar',\n",
              " 'local man fear snake increase snakebite',\n",
              " 'vespa corporation enchant another slight little man child',\n",
              " 'smithereens lead singer pat dinizio dead 62',\n",
              " 'standards lower second search fridge',\n",
              " 'miley cyrus wreck ball could kelly clarkson best cover yet',\n",
              " 'watch mirror flip things sideways upside',\n",
              " 'man international airport speak business',\n",
              " 'area mother enter 16th year post partum depression',\n",
              " 'watch prince harry rihanna get test hiv together',\n",
              " '11 doodle help hang heartbreak',\n",
              " 'rep confirm david bowie rumor scatter ash burn man untrue',\n",
              " 'historians suggest goodfellas youtube clip may fragment larger work',\n",
              " 'department agriculture locate perfect goat',\n",
              " 'activist remember meet 6 000 mile walk equality video',\n",
              " 'cocksucker beat motherfucker',\n",
              " 'hero cop save 3 year old girl life wed day',\n",
              " 'rnc leader trump tone',\n",
              " 'wheelchair bind student would prefer sit pep rally',\n",
              " 'video nail mess way anti abortion legislation get push',\n",
              " 'nation check cnn com see old pal tsarnaevs castros',\n",
              " '47 second clip family tie season 3 available youtube',\n",
              " 'mom announce plan get old baby stuff quietly stare',\n",
              " 'russell simmons want trump win gop nomination',\n",
              " 'members open band walk among crowd intermission like gods among men',\n",
              " 'shy friend experiment personality',\n",
              " 'rick perry donald trump propose border wall',\n",
              " 'qatar say run covert train camp syrian rebel u help',\n",
              " 'rubio cruz anti lgbt advisory board trump',\n",
              " 'jay inslee smash wall town hall solar power mech suit announce climate change plan',\n",
              " 'parent password grotesque combination children name birthdays',\n",
              " 'harry potter top facebook 10 book stay meme one surprise',\n",
              " 'christian weightlifter bend iron bar show power god love',\n",
              " 'asu gsv report teachers tech tool',\n",
              " 'movements may reveal get along another person',\n",
              " 'blue collar democrats party still economy stupid',\n",
              " 'draft biden effort debut first tv ad',\n",
              " 'stomach set aside synthetic additives minutes figure digest',\n",
              " 'trump regret choose kavanaugh supreme court nominee keep talk much respect women',\n",
              " '5 year old channel solange knowles perfectly recreate album cover',\n",
              " 'kanye west kim kardashian provide blueprint true love vmas',\n",
              " 'south dakota ask water north dakota crop weekend',\n",
              " 'obama pledge stop epidemic gun violence',\n",
              " 'alexa google home record say happen data',\n",
              " 'tiger earl woods raise',\n",
              " 'exasperate huckabee sanders remind press corps children 14 feel pain',\n",
              " 'non priest arrest charge child molestation',\n",
              " 'obama finally tell ramble tom vilsack shut fuck cabinet meet',\n",
              " 'nation inspire bravery teen wear bikini right mcdonald',\n",
              " 'chill report detail myanmar horrific campaign rohingya minority',\n",
              " 'arizona ice tea unveil new 4 foot tall can',\n",
              " 'arrest portraits give voice homeless people america poorest big city',\n",
              " 'house reauthorizes controversial surveillance law',\n",
              " 'tom bosley name secretary nap',\n",
              " 'party big enough move kitchen yet',\n",
              " 'fall movies every mom see',\n",
              " 'minotaur wonder life bash head dare wander labyrinth',\n",
              " 'shave cologned grandpa head town rake day pussy',\n",
              " 'new rule obama punish contractors cheat endanger workers',\n",
              " 'san diego zoo acquire chinese man',\n",
              " 'parent advice dare give',\n",
              " 'chris christie say trump immigration order rollout terrible',\n",
              " 'congress vote intervene local wed',\n",
              " 'hero soldier receive presidential thumb award',\n",
              " 'warren mortgage reform divide progressives',\n",
              " 'director hbo new jam foley documentary make movie childhood pal',\n",
              " 'truth 40',\n",
              " 'sleep really help solve problems',\n",
              " 'annoy movers expect client belongings',\n",
              " 'toe race line',\n",
              " 'essay sexual paranoia cause frenzy northwestern university',\n",
              " 'argentina tighten security anticipation numerous criminals arrive g20',\n",
              " 'senior citizen shake diminish bawdy limerick recall',\n",
              " 'man fill gratitude sight customer nice restaurant wear jeans',\n",
              " 'disastrous search perfect swimsuit',\n",
              " '10 big space save ideas small kitchens',\n",
              " 'stranger things 2 creators say keen viewers notice twinge disappointment hide every scene',\n",
              " 'huckabee sanders tell colleagues take temporary post google ceo transition full time role sultan brunei',\n",
              " 'horrify geologists uncover millions rock sprawl mass grave',\n",
              " 'things come apart easily asghar farhadi elly',\n",
              " 'new iowa poll find majority democrats would vote candidate name bobby cheeseburger',\n",
              " 'bisexual parent half understand',\n",
              " 'barack obama fourth president put americans risk iraq let threaten islamic state fight',\n",
              " 'area ceo time shit',\n",
              " '3 leadership mistake roger goodell make',\n",
              " 'brilliant innovative ceo write word social media whiteboard underline',\n",
              " 'man say salute donald trump cardboard cutout every day',\n",
              " 'rich get richer',\n",
              " 'boston judge order apple help law enforcement examine iphone',\n",
              " 'new anti drug program teach teens resist psychiatrist constant pressure use drug',\n",
              " 'jam comey expose hypocrisy hillary clinton email',\n",
              " 'joe biden slam donald trump would love stalin',\n",
              " 'way tv character could actually afford big new york city coffee mug',\n",
              " 'elizabeth warren new chat system let bank avoid regulation wink nod',\n",
              " 'mike pence say stand president charlottesville',\n",
              " 'marco rubio struggle talk point machine',\n",
              " 'steven spielberg say netflix film qualify oscars',\n",
              " 'area man feel even lazier think much isis accomplish year',\n",
              " 'pitch perfect 3 ladies squadgoals atlanta falcon game',\n",
              " 'obese woman cry picnic table',\n",
              " 'urban poll center recommend voters start line 2016 election',\n",
              " 'weird thing gop candidates get call lie',\n",
              " 'buzzfeed editors unsure spin petraeus story reason 90s great',\n",
              " 'marine corps shorten slogan',\n",
              " 'woman pill years think switch new set debilitate side effect',\n",
              " 'glenn close angry darkly sad harvey weinstein allegations',\n",
              " 'pic prove simone biles mere mortal',\n",
              " 'man force pathetically comb movie familiar scene fall asleep previous night',\n",
              " 'criticize kid without ruin self esteem',\n",
              " 'stun older celebs rule oscars red carpet',\n",
              " 'labor day let rethink texas miracle',\n",
              " 'change playlist head',\n",
              " 'congressman let guitar talk',\n",
              " 'cutesy clean supply',\n",
              " 'michele bachmann thankful americans die sikh shoot',\n",
              " 'mechanic steal city bus late work police say',\n",
              " 'moose strike blow takeover machine',\n",
              " 'get ready lol force awaken trailer jar jar binks',\n",
              " 'complete idiot forget shave area mouth nose',\n",
              " 'mom learn new vegetable',\n",
              " 'donald trump pick dow chemical andrew liveris head american manufacture council',\n",
              " 'personal memory former governor mario cuomo',\n",
              " 'remember treat every day like special occasion',\n",
              " 'troop gradually withdraw',\n",
              " 'fire department deploy unmarked truck',\n",
              " 'ted danson totally nail tonight show interview',\n",
              " 'audra mcdonald kirsten gillibrand celebrate lgbtq community nyc',\n",
              " '70 year old woman decide time start dress entirely purple',\n",
              " '10 worst provision republican appropriations bill',\n",
              " 'woman commercial yoga narration drug fatal side effect',\n",
              " 'zoo post hourly update aphid give birth',\n",
              " 'dave matthews band apologize tour bus dump another 800 pound human shit onto boat full people',\n",
              " 'credit card point new miles',\n",
              " 'samsung give iphone owners new galaxy phone try 1',\n",
              " 'listen lana del rey new single honeymoon',\n",
              " 'uw whitewater chancellor reprimand students mistake skincare product blackface',\n",
              " 'realistic day planner include first couple weeks purchase',\n",
              " 'palm tree fire warn coconut',\n",
              " 'couple dress mario luigi drunkenly make couch',\n",
              " 'struggle media company almost desperate enough hire someone qualify job',\n",
              " 'stop complain evolution text language period',\n",
              " 'shipwreck survivors force endure ride home disney cruise ship',\n",
              " 'rupert murdoch bash nonsense concern sexual harassment fox',\n",
              " 'census find enough homeless people live public library warrant congressional district',\n",
              " 'lin manuel miranda rock make musical parody millennials',\n",
              " 'report 1 5 air ducts contain person look listen',\n",
              " 'cnn taunt trump gop schoolhouse rock',\n",
              " 'hillary clinton suspend 3 weeks fec spit volunteer',\n",
              " 'officials warn consumers counterfeit ticket ahead solar eclipse',\n",
              " 'fbi shut prominent new isis recruitment website',\n",
              " 'one thing need positive change',\n",
              " 'supreme court justice sotomayor continue duties break shoulder',\n",
              " 'area facebook user incredibly stupid',\n",
              " 'strap young man address congress',\n",
              " 'indecency politics fcc new round culture war',\n",
              " 'longer support israel',\n",
              " 'area man busy buddy phil eh',\n",
              " 'senate panel unanimously approve chris wray nomination fbi director',\n",
              " 'kanye west partnership adidas get huge',\n",
              " 'casey play return stage philly irish theater',\n",
              " '7 important reason take nap right',\n",
              " 'report 50 heaven population assholes beg forgiveness last second',\n",
              " 'elle magazine accidentally airbrush naomi watts cover altogether',\n",
              " 'trump tailspin',\n",
              " 'international space station tent spray xenomorphs',\n",
              " 'passengers pray uber hobby elderly driver',\n",
              " 'top 10 workout songs january 2018',\n",
              " 'meryl streep look exactly like shrek fairy godmother oscars',\n",
              " 'couple want small ceremony public park close friends shirtless stranger hang around tree',\n",
              " 'terrify fda warn something make bananas black several days',\n",
              " 'aspen ideas festival 2015',\n",
              " 'labor day let boost opportunity every zip code',\n",
              " 'take startup public fraught negative',\n",
              " 'al franken leave senate early january',\n",
              " 'donald trump vow take travel ban supreme court',\n",
              " 'hackers target russian olympic whistleblower world anti dope agency say',\n",
              " 'underserved kid learn year worth math 6 weeks thank new app',\n",
              " 'stranger pugs greatest thing happen internet',\n",
              " 'morgan freeman snapchat fail hilariously perfect',\n",
              " 'social media etiquette weddings',\n",
              " 'princess charlotte maybe fashionable christen ever',\n",
              " 'teddy bear feel terrible spark conversation',\n",
              " 'man flirt girl party wait inform boyfriend',\n",
              " 'mysterious man park lot threaten harm rudy giuliani ever blab trump legal payments',\n",
              " 'obama fire play ball vietnam',\n",
              " 'unorthodox guide meditation might get habit',\n",
              " 'women reveal real purpose workout clothe',\n",
              " 'hope solo say ex fifa president sepp blatter grope',\n",
              " 'study good porn still hard find',\n",
              " 'lester holt begin debate reiterate know fuck people',\n",
              " 'homosexual dolphin highly develop sense gay nar',\n",
              " 'children need families may perfect fit',\n",
              " 'vladimir putin florida man arrest trespass supermarket',\n",
              " 'report mom send something',\n",
              " 'ben affleck vs bill maher one win',\n",
              " '600 pound butter cow sculpture win iowa caucus',\n",
              " 'area juggler juggle family juggle',\n",
              " 'c restaurant sue trump hotel unfair competition',\n",
              " 'kevin bacon come talk text movie',\n",
              " 'baby already tell crib go recall',\n",
              " 'best live action south park commercials',\n",
              " 'desperate gop spot south dakota try build keystone pipeline',\n",
              " 'death mentally ill woman police custody rule homicide',\n",
              " 'astronaut tim peake complete london marathon space set world record',\n",
              " 'woman comfort friend go throw compliment wall see stick',\n",
              " 'u mint introduce new double stuf quarter',\n",
              " 'report whoa last person treadmill run 8 miles',\n",
              " 'jeb bush call crackdown sanctuary cities immigration plan',\n",
              " 'link muhammad ali parkinson',\n",
              " 'dhs announce racial profile free sept 11',\n",
              " 'paramedics realize hard would cut drink woman elmo costume',\n",
              " 'rnc tap dennis hastert lead new youth outreach program',\n",
              " 'money spend old time sake',\n",
              " 'top aide deny donald trump pose spokesman',\n",
              " 'image show saturn north polar region change color',\n",
              " 'anderson cooper throw another box letter gay children dumpster',\n",
              " 'equifax breach bad step help',\n",
              " 'toddler unsettle whatever possess bite friend face',\n",
              " 'kurt warner cheer wire haired man goblin',\n",
              " 'fox news viewers really like lifelong republican robert mueller',\n",
              " 'man run ex wife wear sandwich board',\n",
              " 'patriot devin mccourty visit white house feel accept',\n",
              " 'many glass wine take ruin diet',\n",
              " 'hey remember bernie sanders play rabbi rom com',\n",
              " 'j lo rod donate 25 000 hurricane harvey victims',\n",
              " 'strange death curse haunt cast go wind',\n",
              " 'hillary clinton relax debate hours debate practice',\n",
              " 'bartender accuse plot poison john boehner',\n",
              " 'earth rank number one party planet',\n",
              " 'new ad prey people ideas',\n",
              " 'chris rock call oscars lack diversity perfect tweet',\n",
              " 'someone make trump putin facebook friend anniversary video',\n",
              " 'new sexy carl jr super bowl commercial',\n",
              " 'first latino arab american run congress view heritage asset',\n",
              " 'mom use full name refer bisquick impossibly easy cheeseburger pie',\n",
              " 'monocle wear oil baron cigarette holder splinter clench teeth hear bernie sanders environmental platform',\n",
              " 'merkel call open world get anywhere populism',\n",
              " 'public outrage price fast deplete non renewable resource skyrocket',\n",
              " 'new downloadable content assassin creed syndicate factor monthly live expense',\n",
              " 'largemouth bass largemouth sass',\n",
              " 'pope john paul ii longtime owner popemobile dead 84',\n",
              " 'global warm crisis make delightful mid february afternoon',\n",
              " 'day hiv campaign tell powerful stories affect hiv',\n",
              " 'watch pearl jam randomly break let go italy',\n",
              " 'grandchild grandfather equally dread collaboration school interview project',\n",
              " 'outdated career map lead astray',\n",
              " 'bartender hurt unfinished drink',\n",
              " 'big dark series storm stretch china u batter northwest',\n",
              " 'lebanon ex pm say return amid claim hold captive saudis',\n",
              " 'sign make upcoming section road sound pretty badass',\n",
              " 'audio experts confirm whiny irritate noise secret record devin nunes',\n",
              " 'uneventful past finally catch bore man',\n",
              " 'source c mon give us goddamn pulitzer already',\n",
              " 'greek bailout talk delay official say',\n",
              " 'area dad step legos one time',\n",
              " 'teacher remixes rap songs like bad boujee teach history lessons',\n",
              " 'much betsy devos family spend back gop senators confirm',\n",
              " 'stage door wiesenthal',\n",
              " 'painful price age prison',\n",
              " 'gwen stefani bar soul perform use love amas',\n",
              " 'scott pruitt land second fawn conservative magazine profile',\n",
              " 'death shoppers al shabaab fracture international jihadism',\n",
              " 'boss come work today dress guy fire sean',\n",
              " 'dirty beard vince foster burst doors clinton fundraiser',\n",
              " 'surrender trump boys solemnly salute leap white house first story window',\n",
              " 'colin kaepernick call high school team die protest courageous',\n",
              " 'las vegas officials create gofundme page shoot victims',\n",
              " 'report 55 nation granite engrave name victims',\n",
              " 'hollywood announce plan remake jimmy stewart',\n",
              " 'get marry guy kid pretty freak intimidate',\n",
              " 'mother ferry 4 shirt options back son gap dress room',\n",
              " 'fda approve nasal spray version overdose drug naloxone',\n",
              " 'negative review wrinkle time pepper critic assure readers still totally support diversity',\n",
              " 'russell simmons lead muslim rally new york',\n",
              " 'norman lear common shonda rhimes explore inequality epix documentary series',\n",
              " 'kanye west would ride away slave plantation motorcycle first chance get',\n",
              " 'daily szep gop circus',\n",
              " 'ultimate livingston montana road trip playlist',\n",
              " 'gay children 4 promise christian pastor parent',\n",
              " 'clinton assure tim kaine continue serve president event death',\n",
              " 'rugged new sport utility vehicle take mall park lot',\n",
              " 'report new handmaid tale season focus dangers feminism run amok',\n",
              " 'law anyways',\n",
              " 'teen football recruit make bold statement black live train camp',\n",
              " 'chris hemsworth wife elsa pataky post sweet photo celebrate birthday',\n",
              " 'question linger candidates retirement issue',\n",
              " 'olympics officials clearly try buy time 6 day long open ceremony performance',\n",
              " 'first grader reek urine',\n",
              " 'protest continue stephon clark martin luther king jr death anniversary',\n",
              " 'launch platform empower survivors bully',\n",
              " 'chance rapper unbox grammys daughter cute word',\n",
              " 'guy someone edit chris farley mission impossible trailer',\n",
              " 'u fish wildlife officials release photos miss perch',\n",
              " 'hope students eye much screenwriting teacher handle week',\n",
              " 'north korea fire short range missile along coast',\n",
              " 'saudis snub obama riyadh arrival amid grow tensions',\n",
              " 'disastrous ad campaign appeal basic human intelligence',\n",
              " 'definitive list men find whole foods',\n",
              " 'cozy little way place open 12th location',\n",
              " 'protesters clash police march remember alton sterling',\n",
              " 'profit company threaten jail people pay traffic fin lawsuit say',\n",
              " 'poop antarctica secret penguin society population 1 5 million',\n",
              " 'star hollywood blockbusters los angeles man claim fame',\n",
              " 'kelly clarkson react like mom news get vacation',\n",
              " 'kathy griffin drop f bomb take back apology trump',\n",
              " 'top gop strategist bash donald trump try get elect',\n",
              " 'black live matter protest move mall america airport',\n",
              " 'trump sit beside fire quill ink even write tweet',\n",
              " 'comic liz miele animate series damage celebrate first season',\n",
              " 'entire treasury department compete goldman sachs job open',\n",
              " 'penny lucky torture soul lincoln trap inside',\n",
              " 'bible could become tennessee official state book',\n",
              " 'substitute teacher tell fill real asshole',\n",
              " 'simone biles pull perfect face bob costas say become famous',\n",
              " 'montana dems nominate banjo player special election might actually win',\n",
              " 'wed experts say engagement ring cost least three diamond miners live',\n",
              " 'new study find humans may capacity compassion',\n",
              " 'congress confuse 500 million trump budget allocate laser stuff',\n",
              " 'area throat clearer go see movie',\n",
              " 'bumgarner perfect giants one win away',\n",
              " 'pope francis pray jerusalem western wall',\n",
              " 'mike pence train vice presidential debate hit punch bag climate change study tap front',\n",
              " 'wendy new homestyle chicken strip salad shamelessly tout',\n",
              " 'modest isis leader credit promotion entirely drone strike',\n",
              " 'outfit get woman kick school gym',\n",
              " 'u ethics chief order gush responses trump tweet',\n",
              " 'neighbor wi fi password must something good',\n",
              " 'experts caution new car lose 90 value soon drive cliff',\n",
              " 'life singers k ci jojo look like',\n",
              " 'report north korea enjoy nuclear talk',\n",
              " 'democrats celebrate doug jones stun victory',\n",
              " 'goldfish teeter edge sanity',\n",
              " 'internet enjoy sarah sanders claim trump best negotiator table',\n",
              " 'nearly one million affect flood myanmar',\n",
              " 'backyard burgers burst gross bacteria',\n",
              " 'whale expert measure everything elephants',\n",
              " 'rachel roy reveal best beauty secrets gloss',\n",
              " 'one woman less protest femicide buenos air',\n",
              " 'family pundit make bizarre offensive link robin williams death ex gay therapy',\n",
              " 'dad recount amaze story quick think save 4 27',\n",
              " '7 lie lgbt musicians need stop tell immediately',\n",
              " 'boy scout celebrate proud history prepare teens cool friends',\n",
              " 'trump celebrate national park propose slash fund',\n",
              " 'hypochondriac maple tree always convince asian longhorn beetle',\n",
              " 'trump china risk spark dangerous middle east arm race',\n",
              " 'local welder suffer welder block',\n",
              " 'wed album bizarre start photo 2 acorns float glass water',\n",
              " 'americans say 2 1 never invade iraq',\n",
              " 'plan live storage facility voice',\n",
              " 'report get massage airports apparently part certain people live',\n",
              " 'rival dojo big surprise regionals',\n",
              " 'postal service wait cocksuckers see wednesdays',\n",
              " 'survive thrive adversity transgender bathroom hiv love story',\n",
              " 'baby fox suppose die find man believe',\n",
              " 'police summon warrant really prevent serious crime',\n",
              " 'host showtime apollo talk',\n",
              " 'woman start worry type face makeup look insane',\n",
              " 'half 33 35',\n",
              " '21 useful white elephant gift 20',\n",
              " 'two hipsters angrily call hipster',\n",
              " 'warpaint theresa wayman band vivid new album inevitably question career',\n",
              " 'gleeful kate mckinnon unleash inner robert mueller snl',\n",
              " 'new law forgive student debt college graduate dream shatter',\n",
              " 'man angry self recognize actress eyelash commercial',\n",
              " 'court summon come 1 025 free hours aol',\n",
              " 'millennial dad tech divide',\n",
              " 'prize price right look better man age',\n",
              " 'toy r us sign trigger pavlovian shriek response child',\n",
              " 'record academy remind age musicians die december 15 include 2017 grammy tributes',\n",
              " 'savion glover tap way another speed ticket',\n",
              " 'time japan get involve middle east say mp taro kono',\n",
              " 'woman impression discreet fish stray hair bra',\n",
              " 'white house warn syria launch another chemical weapons attack',\n",
              " 'entire napoleon dynamite plot piece together friends quote',\n",
              " 'man shoot bathroom occupant take long police say',\n",
              " 'area dad star longingly cover grill backyard',\n",
              " 'amid industry boom incarceration weed still threaten black women',\n",
              " 'well neighbor get pit bull',\n",
              " 'consumer confidence verge cockiness',\n",
              " 'french friar end 21st century slave trade',\n",
              " 'jimmy fallon six tantalize months disappear forever',\n",
              " 'drag superstars search world first drag supermonster',\n",
              " 'surprise way name give away age',\n",
              " 'sunday roundup',\n",
              " 'student loan america next financial crisis',\n",
              " 'boss dick go suck',\n",
              " 'huffpollster president trump base stick',\n",
              " 'america love affair ally mcbeal end violently',\n",
              " 'fifth baby barely shower',\n",
              " 'save women live end helm overreach',\n",
              " 'man pledge loyalty brand quiet convenience store ceremony',\n",
              " 'chinese lunch',\n",
              " 'archaeologists egyptian pyramid actually early attempt camp',\n",
              " 'hocus pocus remake never know want',\n",
              " 'apple probably introduce new iphone sept 9',\n",
              " 'trump use rnc fund pay russia defense thank hillary clinton lawyer',\n",
              " 'last month apparently women history month',\n",
              " 'innovative fat man combine waffle ice cream',\n",
              " 'local build wheelchair friendly',\n",
              " 'pope francis clear message christians build wall',\n",
              " 'eisenhower reagan republican party anymore',\n",
              " 'new school program aim keep children streets additional 45 minutes',\n",
              " 'trey gowdy gop colleagues embarrass',\n",
              " 'dianne feinstein eviscerate jeff sessions savage close argument',\n",
              " 'gunmen kidnap australian firm workers nigeria',\n",
              " 'concern nra official rush purchase congressman follow mass shoot',\n",
              " 'gratitude smartwatch',\n",
              " 'best hotels large families',\n",
              " 'clay aiken gain 30 pound eat bojangles chicken campaign',\n",
              " 'gay guy get personal ask straight men burn question',\n",
              " 'defiant evangelicals branch new first molestist sub denomination',\n",
              " 'house democrats bring record fundraise number gear 2018 midterms',\n",
              " 'insect limitless fly space rocket straight man pupil',\n",
              " '7 ways give back hour less',\n",
              " 'america charter school commitment problem',\n",
              " 'magazine run article louis c k',\n",
              " '1984 sales spike kellyanne conway orwellian interview',\n",
              " 'ninja like parent demonstrate escape sleep baby',\n",
              " 'loyal dog wait patiently 7 whole days owner come home',\n",
              " 'george r r martin kill whole family',\n",
              " 'chicago shedd aquarium admit panda exhibit ghastly mistake',\n",
              " '7 year old asshole demand king',\n",
              " 'justin timberlake want son inspire charlottesville strength',\n",
              " 'netflix hire producer ryan murphy huge 5 year deal',\n",
              " 'manners lesson donald trump star strip',\n",
              " 'britney spear send sweet message teen recover stroke dance toxic',\n",
              " 'grow scout closet',\n",
              " 'cook cuff simple sicilian way swordfish light sauce equal partner',\n",
              " 'local oafs spawn',\n",
              " 'admit trump supporters get dupe',\n",
              " 'ammon bundy say follow directions god',\n",
              " 'cinema therapy robin williams',\n",
              " 'warrantless surveillance bill protect nation create dozens future whistleblowers',\n",
              " 'report unclear whether opposition every sector american society effect healthcare bill pass',\n",
              " 'early read problem',\n",
              " 'chinese citizens observe 25 year moment silence tiananmen square massacre',\n",
              " 'bausch lomb introduce line aviator contact',\n",
              " 'mom say pull gun teens threaten son',\n",
              " 'cameron diaz finally open generally positive experience show business',\n",
              " 'huffpollster sorry bernie fan sanders comeback unlikely',\n",
              " 'cannot alone ally matter syndrome community',\n",
              " 'grid startup promise ai webdesign mass',\n",
              " 'report average american consume 4 ounces cheese right',\n",
              " 'city offer free pot poor',\n",
              " 'latest true blood death sookie fault',\n",
              " 'eager understudy begin think john lithgow impervious disease',\n",
              " 'homeless hairstylist help girls need beautiful way',\n",
              " 'martin shkreli face rough stay prison system inmates fund hair theft lowest caste',\n",
              " 'stop talk screen time start think screen use',\n",
              " 'isis muslim death toll enormous',\n",
              " 'lindsey graham leak voicemails reveal',\n",
              " 'historical archive sell two chamber pot house',\n",
              " 'mister rove master smear',\n",
              " 'caterpillar pupal stage past 3 months go piss turn moth',\n",
              " 'archaeologists discover cave ancient humans first pretend like friend art',\n",
              " 'feed job mean us come back',\n",
              " 'man race time take trash bag widen puncture',\n",
              " 'know pull wildly aggressive charge assault today sir',\n",
              " 'academy award winners know illinois',\n",
              " 'vicious man eat carnivores decline arctic',\n",
              " 'wildebeest take awful lot credit stampede',\n",
              " 'thousands protest peacefully baltimore many lend help hand',\n",
              " 'louvre garden teem rat',\n",
              " 'senatorial candidate challenge opponent drop race',\n",
              " 'expectant parent throw value together last minute',\n",
              " 'governor embarrass say state lead',\n",
              " 'talk talk skin care',\n",
              " 'ferrell break kardashian house good cause',\n",
              " 'report jessica milly put',\n",
              " 'miss connection ad obviously cheney',\n",
              " 'food network production assistants prep guy fieri dry rub',\n",
              " 'man complete life 130 000 budget',\n",
              " 'masturbate mom get bobby flay southwestern egg demo stop buffer',\n",
              " 'u weigh bigger role war yemen',\n",
              " 'bruno mar take home covet least threaten artist award 2018 grammys',\n",
              " 'inconsolable sarah palin open sacha baron cohen betrayal cardboard cutout whoopi goldberg',\n",
              " 'chinese newlyweds wonder go medicinal bear bile',\n",
              " 'study find 1 3 lasik surgeries end laser bore eye incinerate brain shoot skull side',\n",
              " 'homeless pitbull stop tremble someone show love',\n",
              " 'scottish independence proudly small proudly together',\n",
              " 'dress holiday stuff already',\n",
              " 'tyson beckford recall craziness shoot britney spear toxic video',\n",
              " 'villain 2014 election',\n",
              " 'star war shrine rent 50 night',\n",
              " 'julianne moore stun custom chanel',\n",
              " 'nissin introduce extra large drum noodles',\n",
              " 'ganymede total three moon pileup',\n",
              " 'time act say yellow climate change report sit university archive',\n",
              " 'already solve student debt crisis',\n",
              " 'man play devil advocate really want asshole',\n",
              " 'shock transformations favorite country star',\n",
              " 'elizabeth warren slam pat toomey try let bank swindle cities towns',\n",
              " 'st vincent direct film adaptation dorian gray female lead',\n",
              " 'people faith march women weekend',\n",
              " 'new york time reach 1 million digital subscribers',\n",
              " 'starbucks offer new lukewarm coffee help ease customers transition ice hot',\n",
              " 'cactus scientists recommend drink 8 cup water per year',\n",
              " 'ex husband give bless second wed',\n",
              " '7 year old put uno face',\n",
              " 'harrison ford beg agents let die',\n",
              " 'late show update trump election night speech annotations',\n",
              " 'bush london bombers bring',\n",
              " '9 amaze spring clean tip dog owners know',\n",
              " 'jane fonda time megyn kelly question plastic surgery',\n",
              " 'daily meditation nothing wrong',\n",
              " 'lena dunham open sexual heal assault poignant essay',\n",
              " 'trump reportedly call germans bad vow stop german car sales u',\n",
              " 'new study recommend insects spend least 30 minutes skitter per day',\n",
              " 'motherhood extreme sport',\n",
              " 'us help create christian martyr oscar romero',\n",
              " 'funeral attendees get misty eye first dance corpse',\n",
              " 'poll trump clinton spectacularly unpopular candidates',\n",
              " 'rolos unveil new cryptocurrency exclusively rolos customers',\n",
              " 'father die peacefully sleep assure hospice nurse spend past 6 months watch man wither away agony',\n",
              " 'huffpollster republicans feel lot better party post election',\n",
              " 'many hundreds thousands untested rape kit us city',\n",
              " 'new study reveal nothing pfizer lawyers take care',\n",
              " 'blender leave keep cat company',\n",
              " '10 things next race',\n",
              " 'remember lynn walker huntley',\n",
              " 'colbert blister extra question mueller ask trump',\n",
              " 'big shift come could uber ize entire industries',\n",
              " 'intelligence officials say many americans spy',\n",
              " 'behind screen come close',\n",
              " 'hurricane harvey failure free market',\n",
              " 'coworker wonder anyone interest lay bare physical shortcomings basketball league year',\n",
              " 'hobby lobby still cover vasectomies viagra',\n",
              " 'romans 13 give president right nuke north korea',\n",
              " 'alex trebek rap way entire jeopardy category',\n",
              " 'dog cat squirrel drama escalate hurry',\n",
              " 'sudden cardiac arrest likely african americans new study say',\n",
              " 'fda warn another company unapproved consumer genetic test',\n",
              " 'new instant lottery game feature three ways win 19 839 947 ways lose',\n",
              " 'hundreds hollywood protest rampant sexual misconduct',\n",
              " 'architects 2026 market crash finish highly productive lunch',\n",
              " 'equifax impress hackers ability ruin people finance efficiently company',\n",
              " 'man die',\n",
              " 'trademark show amazon sight meal kit single cow burgers fast food options',\n",
              " 'california best answer prison overcrowd',\n",
              " 'bush introduce new timmy blanchard leave behind act',\n",
              " 'hillary clinton vs',\n",
              " '23 incredible benefit get sleep',\n",
              " 'rescue team save boy dangle ski lift dramatic video',\n",
              " 'thousands gather louisville pay final respect muhammad ali',\n",
              " 'south korea hold presidential election may replace impeach leader park geun hye',\n",
              " 'life soap',\n",
              " 'candidate chance win nomination settle goal crush hickenlooper campaign',\n",
              " 'solutions influence big money politics heed president obama call',\n",
              " 'woman admit steal cop car speed handcuff',\n",
              " 'grandma hang spend one last christmas nurse home staff',\n",
              " 'celebrate older americans month fight senior poverty',\n",
              " 'pallbearers carry leslie nielsen coffin without incident',\n",
              " 'word origin comics abc education',\n",
              " 'jam corden take feud usain bolt hilarious new heights',\n",
              " 'angry lumberjack demand hearty breakfast',\n",
              " 'kris jenner turn way drunken valentine day karaoke',\n",
              " 'biden urge paul ryan check nude scene porky phone',\n",
              " 'ice argue migrants camp free die time',\n",
              " 'alaska wife steal patrol car hold hubby police say',\n",
              " 'recap women college advantage',\n",
              " '12 time anna kendrick say exactly think',\n",
              " 'area woman safety net brace another impact',\n",
              " 'greg hardy unapologetically deny domestic abuse allegations',\n",
              " 'area bar use cool lame',\n",
              " 'jury find man guilty murder wife children get',\n",
              " 'death mourn easter holiday',\n",
              " 'local man paper towel black hole',\n",
              " 'new monster energy defibrillator tout 1 200 volts deliver straight heart',\n",
              " 'former refugee fight dream abolish female genital mutilation somalia',\n",
              " 'adults choose vaccinate measles baby pay price',\n",
              " 'genetics emphatically deny play part area man body',\n",
              " '11 life lessons learn year run',\n",
              " 'gop confirmation lynch change anything obama',\n",
              " 'break internet addiction',\n",
              " 'new photo show medusa nebula way prettier namesake',\n",
              " 'republican run open montana house seat double creationist stance',\n",
              " 'vote underway myanmar first free election 25 years',\n",
              " 'accidentally close browser window 23 tabs open present rare chance new life',\n",
              " 'man think people care enough let failures',\n",
              " 'shoot survive relive worst night life',\n",
              " 'time level play field college athletes',\n",
              " 'science say connection name destiny',\n",
              " 'newly tenure professor inspire work harder ever',\n",
              " 'vin diesel put 35 pound bone upcoming role',\n",
              " 'report one white castle want make friends',\n",
              " 'megyn kelly say trump sexism question attack',\n",
              " 'media devalue women',\n",
              " 'publicist schmooze wife sex',\n",
              " 'gorsuch like thomas get big payback',\n",
              " 'rise fall blackberry interview jacquie mcnish sean silcoff',\n",
              " 'wilmer flores friday night straight hollywood movie',\n",
              " 'clergy abuse advocate fear pope francis make harder victims speak',\n",
              " '12 stun photos tiny dancers catch action',\n",
              " 'churchgoing widow get hot',\n",
              " 'kam chancellor get cop call look gym',\n",
              " 'skywriter leave suicide note',\n",
              " 'baseball new rule even sillier think',\n",
              " 'man crush lack filth q tip pull ear',\n",
              " 'iowa resident opinion month late',\n",
              " 'anonymous source cowardly snitch',\n",
              " 'republicans fail health care rest trump agenda easy either',\n",
              " '4 simple ways stay ground stress free holiday',\n",
              " 'gorgeous 25 year old dead 79',\n",
              " 'merely anti trump resistance seek normalize america',\n",
              " 'sing optimistic song world',\n",
              " 'jenna fischer reveal pam tell michael office goodbye episode',\n",
              " 'report u consumers spend 900 billion year say gimme one',\n",
              " 'amazon suitors burn',\n",
              " 'donald trump stop talk healthy',\n",
              " '13 essential question ask hire web design company',\n",
              " 'putin condemn ukrainian people unprovoked 1 000 year occupation south russia',\n",
              " 'son discover dad welcome back kotter spec script clean attic',\n",
              " 'mtv promote air condemn controversial new video',\n",
              " '10 year old first responders rush bike crash scene check tyler fuck leg',\n",
              " 'laptop really get usb port stuff',\n",
              " 'twitter comfortable place perpetrators sexual violence survivors',\n",
              " 'lgbtq community separate gender race video',\n",
              " 'mental health awareness week need mental health first aid',\n",
              " 'hide valley ranch bomb balsamic extremists',\n",
              " 'photos show fire smoke engulf ankara district deadly car bomb',\n",
              " 'image vs substance self make journey',\n",
              " 'sleep change moon',\n",
              " 'chuck grassley scratch christine blasey slut senate bathroom stall',\n",
              " 'raid nacho supremacist compound uncover guacamole make materials',\n",
              " 'american sniper screenwriter jason hall screenwriting war movies nominate oscar',\n",
              " 'otherwise savvy woman dupe mascara makers',\n",
              " 'new year resolution let colleges lead way new normal cuba',\n",
              " 'suspect clean real nice',\n",
              " 'watch 1998 rudy giuliani completely torpedo 2018 rudy giuliani trump arguments',\n",
              " 'guy suit handle newspaper like pro',\n",
              " 'mythbusters team strike zeus',\n",
              " '85 percent u cole slaw remain uneaten',\n",
              " 'vulnerable republicans show fight trans right political winner',\n",
              " 'grocery store freezer white castle section wreck',\n",
              " 'put dave shit job description',\n",
              " 'lessons president day accident',\n",
              " 'nation know take another bullshit speech heal',\n",
              " 'woman almost form healthy sense self rejoin social media',\n",
              " 'lil jon tell trump call uncle tom ok',\n",
              " 'head pike really pull together castle look',\n",
              " 'conceive choose family',\n",
              " 'area dad saw great show bigfoot last night',\n",
              " '80s anymore transition relate care basic health care',\n",
              " 'mom start fear son web series closest thing grandchild',\n",
              " 'vladimir putin begin second term whatever',\n",
              " '12 publicists dead 43 injure struggle transform rock dwayne johnson',\n",
              " 'taraji p henson react first family thoughts empire',\n",
              " 'longtime refugees grateful citizenship tanzania',\n",
              " 'report employers know within first 5 minutes job interview whether murder applicant',\n",
              " 'michigan residents pretty unhappy rick snyder',\n",
              " 'defense need physical report man slump couch past 5 hours',\n",
              " 'report watch episode downton abbey count read book',\n",
              " 'donald trump sad see confederate monuments take',\n",
              " 'jennifer garner make first public appearance since ben affleck split',\n",
              " 'isis vs isil name',\n",
              " 'grandma excite show new beach sweater',\n",
              " 'mizzou football players celebrate university president resignation',\n",
              " 'man hear barack obama see reference place',\n",
              " 'real people car commercials either actors terribly bright',\n",
              " 'suspect killer little girl work police',\n",
              " 'fat girl euphemize',\n",
              " 'death withdraw icy hand shoulder caroline kennedy',\n",
              " 'donald trump invoke michael moore grasp liberal support',\n",
              " 'report many job lack benefit cut',\n",
              " 'burger king introduce new thing throw front kid another hellish day work',\n",
              " 'new york investigate insurance bias gay men bombshell news report',\n",
              " 'new taliban chief call unity amid leadership struggle',\n",
              " 'man even hot kind',\n",
              " 'two years sandy address emotional need survivors',\n",
              " 'trump respond father kill american soldier name single sacrifice',\n",
              " '8 ways really travel better',\n",
              " 'bruce jenner okay follow deadly car crash',\n",
              " 'millions across country celebrate make kid work day',\n",
              " 'trance unreal',\n",
              " 'man area code provide excite glimpse past life',\n",
              " 'atonal composers gather atony award',\n",
              " 'wayne lapierre go harpoon spree prove sort point',\n",
              " 'single woman would love hear call lonely basil plant',\n",
              " 'chance score never end pasta olive garden',\n",
              " 'trouble republicans plan anything jam comey fire',\n",
              " 'guide sex 50 beyond',\n",
              " 'moment cynthia nixon realize sex city funny show',\n",
              " 'steven avery doubt free man nephew conviction overturn',\n",
              " 'goals landmarks mean pass reach',\n",
              " 'maple tree wish give say become memorial man dead wife',\n",
              " 'man discover huge cache rare fossils walk natural history museum',\n",
              " 'suspect capture ambush style attack iowa police officer',\n",
              " 'new report find fastest rise cause death u lose chess match grim reaper',\n",
              " 'mountain lion track scientists find dead near malibu road',\n",
              " 'group cheer group hear group name call',\n",
              " 'rwanda become magnet chinese money migrants',\n",
              " 'town hall audience give amy klobuchar stand ovation lift chris cuomo throat',\n",
              " 'nation moms demand christmas list',\n",
              " 'munich shooter plan attack year german authorities say',\n",
              " 'could see michelle obama design',\n",
              " 'cop crash cruiser ditch owl attack head',\n",
              " 'watch stun holy fire ritual light orthodox easter',\n",
              " 'trump mock christine blasey ford forget basic facts woman place',\n",
              " 'two new documentaries outline legacies steven spielberg alfred hitchcock',\n",
              " 'negative parent teacher conference exactly eye open area mother',\n",
              " 'semiotics department accuse university administration anti semiotism',\n",
              " 'area man version neighborhood watch program',\n",
              " 'facebook identify hate speech difficult post actually make pretty interest point',\n",
              " 'father muslim american war hero trump sacrifice nothing',\n",
              " 'college roommates continue bond process real friends make',\n",
              " 'tarsiers world smallest primate animal planet looney front part 9',\n",
              " 'new study find average american stand chance come',\n",
              " 'hang glider gang terrorize elderly hot air balloon couple',\n",
              " 'make glitter eyeliner fashion week work real life',\n",
              " 'heart probably older think cdc warn',\n",
              " 'crossfit mama get real post baby body amaze',\n",
              " 'brett kavanaugh reiterate cruel unusual punishment make someone true kappa',\n",
              " 'local woman consider tell gynecologist whole truth',\n",
              " 'boy scout unveil historic name change girls join youth program',\n",
              " 'watch thousands march honor unlock deeper darker corner trump psyche',\n",
              " 'google 9 11 homepage design stir controversy',\n",
              " 'house pass dead arrival bill address border crisis',\n",
              " 'fox news guest blame liberals inner city violence',\n",
              " 'man apple hover front face sue ren magritte estate',\n",
              " 'etiquette tip celebrate graduations',\n",
              " 'mom use face paint skills turn kid something magical',\n",
              " 'man frantically return website crash browser',\n",
              " 'frustrate fcc unable stop use word friggin',\n",
              " 'enrage character stageplay unconvincingly restrain actors',\n",
              " '4 ways retire smart money donald trump',\n",
              " 'nation mostly alarm government top program handle 29 year olds',\n",
              " 'jada pinkett smith gabrielle union end feud 17 years',\n",
              " 'trump flub gaffe',\n",
              " 'black key new album turn blue available stream full',\n",
              " 'voter need know candidate chop wood flannel shirt',\n",
              " 'decision 2000 actually make smoke fill room 1997',\n",
              " 'thomas pogge do damage yale philosophy department colleague say',\n",
              " 'diabetic gout ride kim jong un far healthiest person north korea',\n",
              " 'orange workout gear legitimately gym game',\n",
              " 'make greek easter sweet bread tsoureki',\n",
              " 'triumph human engineer sleep',\n",
              " '14 photos show special bond moms daughters',\n",
              " 'sean spicer finally call quit 6 months humiliations',\n",
              " 'learn son best mother day gift ever',\n",
              " 'asshole plane greet baggage claim whole family',\n",
              " 'authorities swiftly announce 1 600 washington dairy cow find mutilate arrange pentagram kill blizzard',\n",
              " 'opponents peace',\n",
              " 'supreme court weigh corporate power yet',\n",
              " 'priest lose puppy much closer think',\n",
              " 'fuck idiot perfect gif',\n",
              " 'climate researchers warn hope humanity lie possibility make',\n",
              " 'powerball ticket sell win number 421 million jackpot',\n",
              " 'notorious b g cremation enter fifth week',\n",
              " 'enthusiasm 18 year old first time voter completely unbearable',\n",
              " 'pete buttigieg future democratic party kind future',\n",
              " 'orlando locals fear town start become overrun tourists',\n",
              " 'homoji keyboard bring queer shorthand text message',\n",
              " 'fda confirm psilocybin reduce risk mindlessly follow society rule like fuck lemming',\n",
              " 'life unfair',\n",
              " 'national weather service give hurricanes full name',\n",
              " 'stick shift brag',\n",
              " 'black voter turnout far good hillary clinton',\n",
              " 'different kind mom',\n",
              " 'first picture gilmore girls revival',\n",
              " 'deadly tornadoes rip texas flood threaten midwest',\n",
              " 'unemployed prince harry meghan markle announce plan give baby adoption',\n",
              " 'guy look feel horrible aspect everyday life decide watch documentary',\n",
              " 'twas night hot dog contest',\n",
              " 'american people admit facebook data steal kind worth watch little fucker squirm',\n",
              " 'john legend try earnest talk kanye west support trump',\n",
              " 'khloe kardashian pose braless women health look amaze',\n",
              " '7 mistake leaders make make everyone miserable',\n",
              " 'muslim teens go first women march could lead',\n",
              " 'jam corden melania long part world little mermaid spoof',\n",
              " 'establishment back moderate win heat democratic house primary texas',\n",
              " 'report buddy dysmorphia sufferers experience skew negative perception shape friends',\n",
              " '5 indefensible tweet nra since oregon gun massacre',\n",
              " 'motivational tape get man excite 20 minutes',\n",
              " 'watch live actor tony hale dish latest season veep',\n",
              " 'parent consider second child daughter someone grow apart',\n",
              " 'wise oracle proclaim barbecue felt raindrop',\n",
              " 'chipotle mayo heavy lift sandwich',\n",
              " 'nobel prize chemistry award taft middle school teacher mr ambler',\n",
              " 'backup spatula always ready go case unthinkable happen',\n",
              " 'rand paul warn donald trump choose menace john bolton secretary state',\n",
              " 'haunt house guests escort vip section touch performers',\n",
              " 'intel unveil oversized novelty processor',\n",
              " 'dress like nfl superfan still look good',\n",
              " 'simple facebook shortcuts save time',\n",
              " 'another friends star appear another big screen bomb',\n",
              " 'cindy gallop redefine future sex impact world',\n",
              " '25 worst original name famous band',\n",
              " 'remington debut new split barrel murder suicide shotgun',\n",
              " 'lgbt right rally deeply divide singapore see record turnout',\n",
              " 'future iraq interreligious debate sant egidio meet',\n",
              " 'country music protest restaurant kitchen',\n",
              " 'terrify newsroom writers nod head every bad idea aaron sorkin say',\n",
              " 'styrofoam coffee cup omaha excite finally see pacific ocean',\n",
              " 'visit home reveal parent currently watch previously undiscovered game show',\n",
              " 'flood texas lead mosquito bear illness',\n",
              " 'many women take change cable news host',\n",
              " 'tank roll live room window',\n",
              " 'right live life complete stun horror add constitution',\n",
              " 'travel ban minor win trump major loss human right',\n",
              " 'l school district reach 88 million settlement sex misconduct case two campuses',\n",
              " 'report everyone start new excite stage life except',\n",
              " 'donald trump threaten 35 percent tariff retribution company move abroad',\n",
              " 'bon app tit deny allegations responsible millions pro quiche twitter bots',\n",
              " 'pediatricians upset trump rescind daca',\n",
              " 'fda even score women sexual health',\n",
              " 'common nighttime habit give wrinkle study say',\n",
              " 'video game character feel healthier eat turkey leg grind',\n",
              " 'thousands take streets demand resignation nicaraguan president',\n",
              " 'national security experts isis fuck assholes',\n",
              " 'bruce vilanch sodomize homosexual',\n",
              " 'next week republican debate utah cancel',\n",
              " 'drug company put work life balance profit cool',\n",
              " 'go wrong cheeseburger area man report',\n",
              " 'astronomers go go ahead say dark matter nitrogen',\n",
              " 'kathy griffin lawyers address bully trump family',\n",
              " 'republicans near deal tax cut bill',\n",
              " 'ford confirm plant fire cause spook f 150 knock lantern',\n",
              " 'man brag infrequently receive dental care',\n",
              " 'south african court double oscar pistorius sentence',\n",
              " 'another pufferfish die bitter friendless',\n",
              " 'alien mourn final cheer episode reach alpha centauri',\n",
              " 'nation older brothers recommend little bitch',\n",
              " 'progressive company pay men women 78 earn',\n",
              " 'michelle obama tell vogue time leave white house',\n",
              " 'white house claim iran behind attack nancy kerrigan',\n",
              " 'one family sure trip arboretum gear toward',\n",
              " 'jamie lynn spear lose custody fetus',\n",
              " 'whole foods recall maytag blue cheese due listeria risk',\n",
              " 'las vegas review journal staff balk limit cover new owner',\n",
              " 'authoritarian secretary transportation declare ultimate right way every traffic scenario',\n",
              " 'run writers conference',\n",
              " 'donald trump economy gonna explode let happen quickly',\n",
              " 'god shoot clean gun',\n",
              " 'hertz introduce short term rental drive around clear head',\n",
              " 'surprise international visit make heartwarming first meet grandson grandparents',\n",
              " 'kerry take frustration lobster',\n",
              " 'gop consultant plead guilty first super pac coordination conviction',\n",
              " 'south carolina church rampage represent terrorist threat worse isis',\n",
              " 'fox news statement taunt trump 100 percent roger ail',\n",
              " 'chicago go 750 homicides',\n",
              " 'director scott schwartz take disney hunchback',\n",
              " 'boss threats hilarious',\n",
              " 'barack obama tiger beat cover clinch slumber party vote',\n",
              " 'jay z second think like orlando',\n",
              " 'cop write super friendly letter want woman',\n",
              " 'hasbro concede world ready rubik chicken',\n",
              " 'coroner report conclude alton sterling die institutionalize cause',\n",
              " 'ladies need women march',\n",
              " 'lgbtq activists organize massive dance protest trump hotel',\n",
              " 'new evidence suggest last ice age cause earth float extremely chilly part galaxy',\n",
              " 'meditate guide practice stress relief',\n",
              " 'dust devil look like mar',\n",
              " 'confuse insult awkwardly clarify',\n",
              " 'purchase jeans usher man exclusive ultra cool subculture jeans wear americans',\n",
              " 'kite flyer zone',\n",
              " 'preschooler ask borrow classmate note shape',\n",
              " 'elderly patient threaten suppository',\n",
              " 'kevin hart drop f bomb awkward nfl network interview',\n",
              " 'scientists discover sun make hot',\n",
              " 'slovenian 8th graders surprise even outperform u students science',\n",
              " 'prosthetic arm stick vend machine',\n",
              " '95 96 prayers finally answer',\n",
              " 'elderly suspect',\n",
              " 'heidi cruz get boost new york trump nastiness backlash',\n",
              " 'across nation superstores drive old fashion megamalls',\n",
              " 'lieberman overlords displease',\n",
              " '19 women react messy imperfect girls finale',\n",
              " 'pope francis jesus get molest kid nuns',\n",
              " 'man 20 minutes organize shelve become grimly aware chaos work',\n",
              " 'disappoint couple 8 month waitlist get marry pentagon',\n",
              " 'l add lanes cyclists recover get hit cars',\n",
              " 'report ocean level could rise foot lot people go swim',\n",
              " 'hillary clinton make final pitch election north carolina',\n",
              " 'study child obesity rat decline know look macarthur center mall norfolk virginia',\n",
              " 'trump woman card remark drive 2 4 million fundraise hillary clinton',\n",
              " 'former mugabe deputy swear president',\n",
              " 'new date website help plus size jewish plane crash survivors find love',\n",
              " 'u already test trump can goods idea native americans bad',\n",
              " 'fall inversions',\n",
              " 'trump meet drugmakers demand lower price',\n",
              " 'cackle warren buffett burn entire fortune front nation',\n",
              " 'want girl',\n",
              " 'thousands dead indonesia',\n",
              " 'gamers rejoice potion restore 20 hp',\n",
              " 'progressive vision fbi',\n",
              " 'cross bear',\n",
              " 'exhibitionist zoo elephants wait crowd gather screw',\n",
              " 'boehner clean house one sentence prevent government shutdowns forever',\n",
              " 'trump thank unite nations invite country',\n",
              " 'lg forum host h p green espero target homelessness lift people poverty',\n",
              " 'best style moments wimbledon 2015',\n",
              " 'battle wits unwieldy burrito near thrill endgame',\n",
              " 'look thor helmet glow brilliant neon hue',\n",
              " 'clinton staff ready emp launch disable nation electronic devices',\n",
              " ...]"
            ]
          },
          "metadata": {},
          "execution_count": 77
        }
      ]
    },
    {
      "cell_type": "markdown",
      "source": [
        "#Hacer predicciones sobre una muestra de 30"
      ],
      "metadata": {
        "id": "EvL-Ixfm7WWw"
      }
    },
    {
      "cell_type": "code",
      "source": [
        "import random\n",
        "\n",
        "random_indices = random.sample(range(len(headlines)), 30)\n",
        "\n",
        "random_headlines = [headlines[i] for i in random_indices]\n",
        "\n",
        "random_headlines"
      ],
      "metadata": {
        "colab": {
          "base_uri": "https://localhost:8080/"
        },
        "id": "LWCzX9zN-FGo",
        "outputId": "73ec86a6-5799-4eac-d698-62279b8a0087"
      },
      "execution_count": null,
      "outputs": [
        {
          "output_type": "execute_result",
          "data": {
            "text/plain": [
              "['study every 10 second skyscraper window washer fall death',\n",
              " 'progressive legend korra finale make fan happy',\n",
              " '5 first world problems annoy people anyway',\n",
              " 'good excuse racist impact michigan medicaid proposal',\n",
              " 'migrant boat europe sink 200 fear dead',\n",
              " 'cultivate 4 c mindfulness greater peace poise personal power',\n",
              " 'blood run house representatives wall chamber select new speaker',\n",
              " 'chinese university ban christmas call kitsch',\n",
              " 'college residence office get kick pair roommates fuck hate',\n",
              " 'chuck schumer democrats filibuster neil gorsuch nomination',\n",
              " 'star gray hair prove get older bad',\n",
              " 'villagers turn crack fight squad overnight',\n",
              " 'go pride week ally make gay',\n",
              " 'busy obama send drone pick sasha school',\n",
              " 'hugh hefner fan twitter thank article',\n",
              " 'arne duncan stress prepare standardize secretary education exam',\n",
              " 'ways empire finale set season 2',\n",
              " 'fight obama treasury nominee underscore battle within democratic party',\n",
              " 'donald trump may good america',\n",
              " 'create take one step imagine leadership bite chew',\n",
              " 'nasa designers release flirty new space skirt',\n",
              " 'atari release update adventure video game',\n",
              " 'local band attempt track mysterious visitor website',\n",
              " 'casual christian accept christ lord savior',\n",
              " 'boy scout celebrate proud history prepare teens cool friends',\n",
              " 'crayola ceo present jarringly ambitious 5 year plan annual shareholders meet',\n",
              " 'gay high school legislators care health',\n",
              " 'oldest people world share secrets',\n",
              " 'senate win fight lower allowable amperage level detainees testicles',\n",
              " 'trump fulfill campaign promise push major immigration decision someone else watch tv']"
            ]
          },
          "metadata": {},
          "execution_count": 79
        }
      ]
    },
    {
      "cell_type": "code",
      "source": [
        "type(random_headlines)"
      ],
      "metadata": {
        "colab": {
          "base_uri": "https://localhost:8080/"
        },
        "id": "r67ut0QWBCTC",
        "outputId": "234b7c67-9f0b-41f9-8bcf-c32fb16ebe7f"
      },
      "execution_count": null,
      "outputs": [
        {
          "output_type": "execute_result",
          "data": {
            "text/plain": [
              "list"
            ]
          },
          "metadata": {},
          "execution_count": 78
        }
      ]
    },
    {
      "cell_type": "code",
      "source": [
        "random_headlines_pd = pd.DataFrame(random_headlines, columns=['headline'])"
      ],
      "metadata": {
        "id": "UhRB8Dad_YR9"
      },
      "execution_count": null,
      "outputs": []
    },
    {
      "cell_type": "code",
      "source": [
        "random_headlines_pd"
      ],
      "metadata": {
        "colab": {
          "base_uri": "https://localhost:8080/",
          "height": 990
        },
        "id": "TGZcOfT6_k7d",
        "outputId": "d8f192bd-982f-4d46-a4ae-a81fd236d393"
      },
      "execution_count": null,
      "outputs": [
        {
          "output_type": "execute_result",
          "data": {
            "text/plain": [
              "                                             headline\n",
              "0              central london panic report shots fire\n",
              "1     techno colonialism facebook cambridge analytica\n",
              "2   clinton aide tell leave behind weak volunteer ...\n",
              "3   obama wait perfect moment walk white house tou...\n",
              "4                  ray charles sign def leppard album\n",
              "5    power plan foes mar backers venus earth actually\n",
              "6                                  bird big plan cage\n",
              "7                                    report make stop\n",
              "8   trump reportedly offer vice admiral harward na...\n",
              "9   earth day eat bean burgers beat measure cheese...\n",
              "10  report friend sober january must really fuck s...\n",
              "11         local brother law hear make shitload money\n",
              "12  alcoholic father grant posthumous sainthood ca...\n",
              "13                hotels think want bill think hotels\n",
              "14  self deprecate man scratch surface pathetic ac...\n",
              "15  journalists attend private koch brothers gathe...\n",
              "16  jim acosta immediately deck white house intern...\n",
              "17        time redefine de silo online safety efforts\n",
              "18  febreze release new air horn cover unpleasant ...\n",
              "19  limbo michael slager ex cop film shoot walter ...\n",
              "20            aftershock real fuck earthquake victims\n",
              "21      widower strike gold garden find miss wed ring\n",
              "22              7 sign home seller may hide something\n",
              "23           fbi blast report san bernardino killings\n",
              "24  bank america introduce new existential reward ...\n",
              "25                 undercover agents talk 12 chatroom\n",
              "26  cameron esposito make yuletide little gayer na...\n",
              "27  man know always fall back really terrible job ...\n",
              "28                wear crocs work week live tell tale\n",
              "29        tina frost las vegas shoot victim wake coma"
            ],
            "text/html": [
              "\n",
              "  <div id=\"df-a7f52ecd-8ab3-4b60-89c7-12bf80a43361\" class=\"colab-df-container\">\n",
              "    <div>\n",
              "<style scoped>\n",
              "    .dataframe tbody tr th:only-of-type {\n",
              "        vertical-align: middle;\n",
              "    }\n",
              "\n",
              "    .dataframe tbody tr th {\n",
              "        vertical-align: top;\n",
              "    }\n",
              "\n",
              "    .dataframe thead th {\n",
              "        text-align: right;\n",
              "    }\n",
              "</style>\n",
              "<table border=\"1\" class=\"dataframe\">\n",
              "  <thead>\n",
              "    <tr style=\"text-align: right;\">\n",
              "      <th></th>\n",
              "      <th>headline</th>\n",
              "    </tr>\n",
              "  </thead>\n",
              "  <tbody>\n",
              "    <tr>\n",
              "      <th>0</th>\n",
              "      <td>central london panic report shots fire</td>\n",
              "    </tr>\n",
              "    <tr>\n",
              "      <th>1</th>\n",
              "      <td>techno colonialism facebook cambridge analytica</td>\n",
              "    </tr>\n",
              "    <tr>\n",
              "      <th>2</th>\n",
              "      <td>clinton aide tell leave behind weak volunteer ...</td>\n",
              "    </tr>\n",
              "    <tr>\n",
              "      <th>3</th>\n",
              "      <td>obama wait perfect moment walk white house tou...</td>\n",
              "    </tr>\n",
              "    <tr>\n",
              "      <th>4</th>\n",
              "      <td>ray charles sign def leppard album</td>\n",
              "    </tr>\n",
              "    <tr>\n",
              "      <th>5</th>\n",
              "      <td>power plan foes mar backers venus earth actually</td>\n",
              "    </tr>\n",
              "    <tr>\n",
              "      <th>6</th>\n",
              "      <td>bird big plan cage</td>\n",
              "    </tr>\n",
              "    <tr>\n",
              "      <th>7</th>\n",
              "      <td>report make stop</td>\n",
              "    </tr>\n",
              "    <tr>\n",
              "      <th>8</th>\n",
              "      <td>trump reportedly offer vice admiral harward na...</td>\n",
              "    </tr>\n",
              "    <tr>\n",
              "      <th>9</th>\n",
              "      <td>earth day eat bean burgers beat measure cheese...</td>\n",
              "    </tr>\n",
              "    <tr>\n",
              "      <th>10</th>\n",
              "      <td>report friend sober january must really fuck s...</td>\n",
              "    </tr>\n",
              "    <tr>\n",
              "      <th>11</th>\n",
              "      <td>local brother law hear make shitload money</td>\n",
              "    </tr>\n",
              "    <tr>\n",
              "      <th>12</th>\n",
              "      <td>alcoholic father grant posthumous sainthood ca...</td>\n",
              "    </tr>\n",
              "    <tr>\n",
              "      <th>13</th>\n",
              "      <td>hotels think want bill think hotels</td>\n",
              "    </tr>\n",
              "    <tr>\n",
              "      <th>14</th>\n",
              "      <td>self deprecate man scratch surface pathetic ac...</td>\n",
              "    </tr>\n",
              "    <tr>\n",
              "      <th>15</th>\n",
              "      <td>journalists attend private koch brothers gathe...</td>\n",
              "    </tr>\n",
              "    <tr>\n",
              "      <th>16</th>\n",
              "      <td>jim acosta immediately deck white house intern...</td>\n",
              "    </tr>\n",
              "    <tr>\n",
              "      <th>17</th>\n",
              "      <td>time redefine de silo online safety efforts</td>\n",
              "    </tr>\n",
              "    <tr>\n",
              "      <th>18</th>\n",
              "      <td>febreze release new air horn cover unpleasant ...</td>\n",
              "    </tr>\n",
              "    <tr>\n",
              "      <th>19</th>\n",
              "      <td>limbo michael slager ex cop film shoot walter ...</td>\n",
              "    </tr>\n",
              "    <tr>\n",
              "      <th>20</th>\n",
              "      <td>aftershock real fuck earthquake victims</td>\n",
              "    </tr>\n",
              "    <tr>\n",
              "      <th>21</th>\n",
              "      <td>widower strike gold garden find miss wed ring</td>\n",
              "    </tr>\n",
              "    <tr>\n",
              "      <th>22</th>\n",
              "      <td>7 sign home seller may hide something</td>\n",
              "    </tr>\n",
              "    <tr>\n",
              "      <th>23</th>\n",
              "      <td>fbi blast report san bernardino killings</td>\n",
              "    </tr>\n",
              "    <tr>\n",
              "      <th>24</th>\n",
              "      <td>bank america introduce new existential reward ...</td>\n",
              "    </tr>\n",
              "    <tr>\n",
              "      <th>25</th>\n",
              "      <td>undercover agents talk 12 chatroom</td>\n",
              "    </tr>\n",
              "    <tr>\n",
              "      <th>26</th>\n",
              "      <td>cameron esposito make yuletide little gayer na...</td>\n",
              "    </tr>\n",
              "    <tr>\n",
              "      <th>27</th>\n",
              "      <td>man know always fall back really terrible job ...</td>\n",
              "    </tr>\n",
              "    <tr>\n",
              "      <th>28</th>\n",
              "      <td>wear crocs work week live tell tale</td>\n",
              "    </tr>\n",
              "    <tr>\n",
              "      <th>29</th>\n",
              "      <td>tina frost las vegas shoot victim wake coma</td>\n",
              "    </tr>\n",
              "  </tbody>\n",
              "</table>\n",
              "</div>\n",
              "    <div class=\"colab-df-buttons\">\n",
              "\n",
              "  <div class=\"colab-df-container\">\n",
              "    <button class=\"colab-df-convert\" onclick=\"convertToInteractive('df-a7f52ecd-8ab3-4b60-89c7-12bf80a43361')\"\n",
              "            title=\"Convert this dataframe to an interactive table.\"\n",
              "            style=\"display:none;\">\n",
              "\n",
              "  <svg xmlns=\"http://www.w3.org/2000/svg\" height=\"24px\" viewBox=\"0 -960 960 960\">\n",
              "    <path d=\"M120-120v-720h720v720H120Zm60-500h600v-160H180v160Zm220 220h160v-160H400v160Zm0 220h160v-160H400v160ZM180-400h160v-160H180v160Zm440 0h160v-160H620v160ZM180-180h160v-160H180v160Zm440 0h160v-160H620v160Z\"/>\n",
              "  </svg>\n",
              "    </button>\n",
              "\n",
              "  <style>\n",
              "    .colab-df-container {\n",
              "      display:flex;\n",
              "      gap: 12px;\n",
              "    }\n",
              "\n",
              "    .colab-df-convert {\n",
              "      background-color: #E8F0FE;\n",
              "      border: none;\n",
              "      border-radius: 50%;\n",
              "      cursor: pointer;\n",
              "      display: none;\n",
              "      fill: #1967D2;\n",
              "      height: 32px;\n",
              "      padding: 0 0 0 0;\n",
              "      width: 32px;\n",
              "    }\n",
              "\n",
              "    .colab-df-convert:hover {\n",
              "      background-color: #E2EBFA;\n",
              "      box-shadow: 0px 1px 2px rgba(60, 64, 67, 0.3), 0px 1px 3px 1px rgba(60, 64, 67, 0.15);\n",
              "      fill: #174EA6;\n",
              "    }\n",
              "\n",
              "    .colab-df-buttons div {\n",
              "      margin-bottom: 4px;\n",
              "    }\n",
              "\n",
              "    [theme=dark] .colab-df-convert {\n",
              "      background-color: #3B4455;\n",
              "      fill: #D2E3FC;\n",
              "    }\n",
              "\n",
              "    [theme=dark] .colab-df-convert:hover {\n",
              "      background-color: #434B5C;\n",
              "      box-shadow: 0px 1px 3px 1px rgba(0, 0, 0, 0.15);\n",
              "      filter: drop-shadow(0px 1px 2px rgba(0, 0, 0, 0.3));\n",
              "      fill: #FFFFFF;\n",
              "    }\n",
              "  </style>\n",
              "\n",
              "    <script>\n",
              "      const buttonEl =\n",
              "        document.querySelector('#df-a7f52ecd-8ab3-4b60-89c7-12bf80a43361 button.colab-df-convert');\n",
              "      buttonEl.style.display =\n",
              "        google.colab.kernel.accessAllowed ? 'block' : 'none';\n",
              "\n",
              "      async function convertToInteractive(key) {\n",
              "        const element = document.querySelector('#df-a7f52ecd-8ab3-4b60-89c7-12bf80a43361');\n",
              "        const dataTable =\n",
              "          await google.colab.kernel.invokeFunction('convertToInteractive',\n",
              "                                                    [key], {});\n",
              "        if (!dataTable) return;\n",
              "\n",
              "        const docLinkHtml = 'Like what you see? Visit the ' +\n",
              "          '<a target=\"_blank\" href=https://colab.research.google.com/notebooks/data_table.ipynb>data table notebook</a>'\n",
              "          + ' to learn more about interactive tables.';\n",
              "        element.innerHTML = '';\n",
              "        dataTable['output_type'] = 'display_data';\n",
              "        await google.colab.output.renderOutput(dataTable, element);\n",
              "        const docLink = document.createElement('div');\n",
              "        docLink.innerHTML = docLinkHtml;\n",
              "        element.appendChild(docLink);\n",
              "      }\n",
              "    </script>\n",
              "  </div>\n",
              "\n",
              "\n",
              "<div id=\"df-319c8ffd-4f1d-41d6-8ce2-a9e86a172d6e\">\n",
              "  <button class=\"colab-df-quickchart\" onclick=\"quickchart('df-319c8ffd-4f1d-41d6-8ce2-a9e86a172d6e')\"\n",
              "            title=\"Suggest charts\"\n",
              "            style=\"display:none;\">\n",
              "\n",
              "<svg xmlns=\"http://www.w3.org/2000/svg\" height=\"24px\"viewBox=\"0 0 24 24\"\n",
              "     width=\"24px\">\n",
              "    <g>\n",
              "        <path d=\"M19 3H5c-1.1 0-2 .9-2 2v14c0 1.1.9 2 2 2h14c1.1 0 2-.9 2-2V5c0-1.1-.9-2-2-2zM9 17H7v-7h2v7zm4 0h-2V7h2v10zm4 0h-2v-4h2v4z\"/>\n",
              "    </g>\n",
              "</svg>\n",
              "  </button>\n",
              "\n",
              "<style>\n",
              "  .colab-df-quickchart {\n",
              "      --bg-color: #E8F0FE;\n",
              "      --fill-color: #1967D2;\n",
              "      --hover-bg-color: #E2EBFA;\n",
              "      --hover-fill-color: #174EA6;\n",
              "      --disabled-fill-color: #AAA;\n",
              "      --disabled-bg-color: #DDD;\n",
              "  }\n",
              "\n",
              "  [theme=dark] .colab-df-quickchart {\n",
              "      --bg-color: #3B4455;\n",
              "      --fill-color: #D2E3FC;\n",
              "      --hover-bg-color: #434B5C;\n",
              "      --hover-fill-color: #FFFFFF;\n",
              "      --disabled-bg-color: #3B4455;\n",
              "      --disabled-fill-color: #666;\n",
              "  }\n",
              "\n",
              "  .colab-df-quickchart {\n",
              "    background-color: var(--bg-color);\n",
              "    border: none;\n",
              "    border-radius: 50%;\n",
              "    cursor: pointer;\n",
              "    display: none;\n",
              "    fill: var(--fill-color);\n",
              "    height: 32px;\n",
              "    padding: 0;\n",
              "    width: 32px;\n",
              "  }\n",
              "\n",
              "  .colab-df-quickchart:hover {\n",
              "    background-color: var(--hover-bg-color);\n",
              "    box-shadow: 0 1px 2px rgba(60, 64, 67, 0.3), 0 1px 3px 1px rgba(60, 64, 67, 0.15);\n",
              "    fill: var(--button-hover-fill-color);\n",
              "  }\n",
              "\n",
              "  .colab-df-quickchart-complete:disabled,\n",
              "  .colab-df-quickchart-complete:disabled:hover {\n",
              "    background-color: var(--disabled-bg-color);\n",
              "    fill: var(--disabled-fill-color);\n",
              "    box-shadow: none;\n",
              "  }\n",
              "\n",
              "  .colab-df-spinner {\n",
              "    border: 2px solid var(--fill-color);\n",
              "    border-color: transparent;\n",
              "    border-bottom-color: var(--fill-color);\n",
              "    animation:\n",
              "      spin 1s steps(1) infinite;\n",
              "  }\n",
              "\n",
              "  @keyframes spin {\n",
              "    0% {\n",
              "      border-color: transparent;\n",
              "      border-bottom-color: var(--fill-color);\n",
              "      border-left-color: var(--fill-color);\n",
              "    }\n",
              "    20% {\n",
              "      border-color: transparent;\n",
              "      border-left-color: var(--fill-color);\n",
              "      border-top-color: var(--fill-color);\n",
              "    }\n",
              "    30% {\n",
              "      border-color: transparent;\n",
              "      border-left-color: var(--fill-color);\n",
              "      border-top-color: var(--fill-color);\n",
              "      border-right-color: var(--fill-color);\n",
              "    }\n",
              "    40% {\n",
              "      border-color: transparent;\n",
              "      border-right-color: var(--fill-color);\n",
              "      border-top-color: var(--fill-color);\n",
              "    }\n",
              "    60% {\n",
              "      border-color: transparent;\n",
              "      border-right-color: var(--fill-color);\n",
              "    }\n",
              "    80% {\n",
              "      border-color: transparent;\n",
              "      border-right-color: var(--fill-color);\n",
              "      border-bottom-color: var(--fill-color);\n",
              "    }\n",
              "    90% {\n",
              "      border-color: transparent;\n",
              "      border-bottom-color: var(--fill-color);\n",
              "    }\n",
              "  }\n",
              "</style>\n",
              "\n",
              "  <script>\n",
              "    async function quickchart(key) {\n",
              "      const quickchartButtonEl =\n",
              "        document.querySelector('#' + key + ' button');\n",
              "      quickchartButtonEl.disabled = true;  // To prevent multiple clicks.\n",
              "      quickchartButtonEl.classList.add('colab-df-spinner');\n",
              "      try {\n",
              "        const charts = await google.colab.kernel.invokeFunction(\n",
              "            'suggestCharts', [key], {});\n",
              "      } catch (error) {\n",
              "        console.error('Error during call to suggestCharts:', error);\n",
              "      }\n",
              "      quickchartButtonEl.classList.remove('colab-df-spinner');\n",
              "      quickchartButtonEl.classList.add('colab-df-quickchart-complete');\n",
              "    }\n",
              "    (() => {\n",
              "      let quickchartButtonEl =\n",
              "        document.querySelector('#df-319c8ffd-4f1d-41d6-8ce2-a9e86a172d6e button');\n",
              "      quickchartButtonEl.style.display =\n",
              "        google.colab.kernel.accessAllowed ? 'block' : 'none';\n",
              "    })();\n",
              "  </script>\n",
              "</div>\n",
              "\n",
              "  <div id=\"id_43f91e6d-30e2-456a-bb07-71def019c072\">\n",
              "    <style>\n",
              "      .colab-df-generate {\n",
              "        background-color: #E8F0FE;\n",
              "        border: none;\n",
              "        border-radius: 50%;\n",
              "        cursor: pointer;\n",
              "        display: none;\n",
              "        fill: #1967D2;\n",
              "        height: 32px;\n",
              "        padding: 0 0 0 0;\n",
              "        width: 32px;\n",
              "      }\n",
              "\n",
              "      .colab-df-generate:hover {\n",
              "        background-color: #E2EBFA;\n",
              "        box-shadow: 0px 1px 2px rgba(60, 64, 67, 0.3), 0px 1px 3px 1px rgba(60, 64, 67, 0.15);\n",
              "        fill: #174EA6;\n",
              "      }\n",
              "\n",
              "      [theme=dark] .colab-df-generate {\n",
              "        background-color: #3B4455;\n",
              "        fill: #D2E3FC;\n",
              "      }\n",
              "\n",
              "      [theme=dark] .colab-df-generate:hover {\n",
              "        background-color: #434B5C;\n",
              "        box-shadow: 0px 1px 3px 1px rgba(0, 0, 0, 0.15);\n",
              "        filter: drop-shadow(0px 1px 2px rgba(0, 0, 0, 0.3));\n",
              "        fill: #FFFFFF;\n",
              "      }\n",
              "    </style>\n",
              "    <button class=\"colab-df-generate\" onclick=\"generateWithVariable('random_headlines_pd')\"\n",
              "            title=\"Generate code using this dataframe.\"\n",
              "            style=\"display:none;\">\n",
              "\n",
              "  <svg xmlns=\"http://www.w3.org/2000/svg\" height=\"24px\"viewBox=\"0 0 24 24\"\n",
              "       width=\"24px\">\n",
              "    <path d=\"M7,19H8.4L18.45,9,17,7.55,7,17.6ZM5,21V16.75L18.45,3.32a2,2,0,0,1,2.83,0l1.4,1.43a1.91,1.91,0,0,1,.58,1.4,1.91,1.91,0,0,1-.58,1.4L9.25,21ZM18.45,9,17,7.55Zm-12,3A5.31,5.31,0,0,0,4.9,8.1,5.31,5.31,0,0,0,1,6.5,5.31,5.31,0,0,0,4.9,4.9,5.31,5.31,0,0,0,6.5,1,5.31,5.31,0,0,0,8.1,4.9,5.31,5.31,0,0,0,12,6.5,5.46,5.46,0,0,0,6.5,12Z\"/>\n",
              "  </svg>\n",
              "    </button>\n",
              "    <script>\n",
              "      (() => {\n",
              "      const buttonEl =\n",
              "        document.querySelector('#id_43f91e6d-30e2-456a-bb07-71def019c072 button.colab-df-generate');\n",
              "      buttonEl.style.display =\n",
              "        google.colab.kernel.accessAllowed ? 'block' : 'none';\n",
              "\n",
              "      buttonEl.onclick = () => {\n",
              "        google.colab.notebook.generateWithVariable('random_headlines_pd');\n",
              "      }\n",
              "      })();\n",
              "    </script>\n",
              "  </div>\n",
              "\n",
              "    </div>\n",
              "  </div>\n"
            ],
            "application/vnd.google.colaboratory.intrinsic+json": {
              "type": "dataframe",
              "variable_name": "random_headlines_pd",
              "summary": "{\n  \"name\": \"random_headlines_pd\",\n  \"rows\": 30,\n  \"fields\": [\n    {\n      \"column\": \"headline\",\n      \"properties\": {\n        \"dtype\": \"string\",\n        \"num_unique_values\": 30,\n        \"samples\": [\n          \"man know always fall back really terrible job pay shit\",\n          \"journalists attend private koch brothers gather agree name donors\",\n          \"fbi blast report san bernardino killings\"\n        ],\n        \"semantic_type\": \"\",\n        \"description\": \"\"\n      }\n    }\n  ]\n}"
            }
          },
          "metadata": {},
          "execution_count": 75
        }
      ]
    },
    {
      "cell_type": "code",
      "source": [
        "# aplicar la funcion de vectorize_data\n",
        "vectorized_headlines_sample = vectorize_data(random_headlines)\n"
      ],
      "metadata": {
        "colab": {
          "base_uri": "https://localhost:8080/",
          "height": 292
        },
        "id": "6SSBMGWa-7HW",
        "outputId": "1c01b0d7-cfbb-4a35-eddf-ce9450d4f102"
      },
      "execution_count": null,
      "outputs": [
        {
          "output_type": "error",
          "ename": "TypeError",
          "evalue": "argument of type 'Sequential' is not iterable",
          "traceback": [
            "\u001b[0;31m---------------------------------------------------------------------------\u001b[0m",
            "\u001b[0;31mTypeError\u001b[0m                                 Traceback (most recent call last)",
            "\u001b[0;32m<ipython-input-76-4e2a281285e2>\u001b[0m in \u001b[0;36m<cell line: 2>\u001b[0;34m()\u001b[0m\n\u001b[1;32m      1\u001b[0m \u001b[0;31m# aplicar la funcion de vectorize_data\u001b[0m\u001b[0;34m\u001b[0m\u001b[0;34m\u001b[0m\u001b[0m\n\u001b[0;32m----> 2\u001b[0;31m \u001b[0mvectorized_headlines_sample\u001b[0m \u001b[0;34m=\u001b[0m \u001b[0mvectorize_data\u001b[0m\u001b[0;34m(\u001b[0m\u001b[0mrandom_headlines\u001b[0m\u001b[0;34m)\u001b[0m\u001b[0;34m\u001b[0m\u001b[0;34m\u001b[0m\u001b[0m\n\u001b[0m",
            "\u001b[0;32m<ipython-input-33-5dd9a2f424d3>\u001b[0m in \u001b[0;36mvectorize_data\u001b[0;34m(data)\u001b[0m\n\u001b[1;32m     13\u001b[0m                 \u001b[0;32mbreak\u001b[0m\u001b[0;34m\u001b[0m\u001b[0;34m\u001b[0m\u001b[0m\n\u001b[1;32m     14\u001b[0m             \u001b[0;31m# Accede directamente al vocabulario de 'model'\u001b[0m\u001b[0;34m\u001b[0m\u001b[0;34m\u001b[0m\u001b[0m\n\u001b[0;32m---> 15\u001b[0;31m             \u001b[0;32mif\u001b[0m \u001b[0mtoken\u001b[0m \u001b[0;32min\u001b[0m \u001b[0mmodel\u001b[0m\u001b[0;34m:\u001b[0m\u001b[0;34m\u001b[0m\u001b[0;34m\u001b[0m\u001b[0m\n\u001b[0m\u001b[1;32m     16\u001b[0m                 \u001b[0mdata_point_vectors\u001b[0m\u001b[0;34m.\u001b[0m\u001b[0mappend\u001b[0m\u001b[0;34m(\u001b[0m\u001b[0mmodel\u001b[0m\u001b[0;34m[\u001b[0m\u001b[0mtoken\u001b[0m\u001b[0;34m]\u001b[0m\u001b[0;34m)\u001b[0m\u001b[0;34m\u001b[0m\u001b[0;34m\u001b[0m\u001b[0m\n\u001b[1;32m     17\u001b[0m             \u001b[0mcount\u001b[0m \u001b[0;34m+=\u001b[0m \u001b[0;36m1\u001b[0m\u001b[0;34m\u001b[0m\u001b[0;34m\u001b[0m\u001b[0m\n",
            "\u001b[0;31mTypeError\u001b[0m: argument of type 'Sequential' is not iterable"
          ]
        }
      ]
    }
  ]
}