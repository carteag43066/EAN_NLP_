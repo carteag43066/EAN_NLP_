{
  "nbformat": 4,
  "nbformat_minor": 0,
  "metadata": {
    "colab": {
      "provenance": []
    },
    "kernelspec": {
      "name": "python3",
      "display_name": "Python 3"
    },
    "language_info": {
      "name": "python"
    }
  },
  "cells": [
    {
      "cell_type": "code",
      "execution_count": null,
      "metadata": {
        "id": "9TfMJxSKi5yV"
      },
      "outputs": [],
      "source": [
        "import matplotlib.pyplot as plt\n",
        "import matplotlib.image as mpimg\n",
        "def ver_imag(path):\n",
        "  img = mpimg.imread(path)  # Cambia el nombre si es necesario\n",
        "  plt.imshow(img)\n",
        "  plt.axis('off')  # Oculta los ejes\n",
        "  plt.show()\n"
      ]
    },
    {
      "cell_type": "markdown",
      "source": [
        "# Construyendo un chatbot básico\n",
        "Hablamos sobre los chatbots como una de las aplicaciones más importantes del mundo real en el procesamiento del lenguaje natural (NLP).  Tenemos las suficientes bases  para crear un chatbot básico que pueda ser entrenado con un corpus predefinido y proporcionar respuestas a consultas utilizando conceptos de similitud.\n",
        "\n",
        "El requisito más importante para construir un chatbot es el corpus o conjunto de datos textuales en el que se entrenará. El corpus debe ser relevante y exhaustivo. Por ejemplo, si estás construyendo un chatbot para el departamento de Recursos Humanos (RH) de tu organización, necesitarías un corpus que contenga todas las políticas de RH para entrenar el bot, y no un corpus con discursos presidenciales. También es necesario garantizar que el tiempo de respuesta sea aceptable y que el bot no tome demasiado tiempo en responder. Idealmente, el bot debería parecer humano y alcanzar un nivel de precisión adecuado.\n",
        "\n",
        "Para el chatbot que crearemos se usaran los datos de preguntas y respuestas de Amazon, que es un repositorio de preguntas y respuestas recopiladas del sitio web de Amazon para varias categorías de productos (http://jmcauley.ucsd.edu/data/amazon/qa/). Dado que el conjunto de datos es masivo, solo se usaran los datos de preguntas y respuestas relacionados con artículos electrónicos. Al estar entrenado con estos datos, nuestro chatbot podría implementarse como soporte automatizado de preguntas y respuestas en la sección de artículos electrónicos."
      ],
      "metadata": {
        "id": "qK_AmCMNm8cj"
      }
    },
    {
      "cell_type": "code",
      "source": [
        "from google.colab import files\n",
        "import zipfile\n",
        "import json\n",
        "\n",
        "# Subir archivo ZIP\n",
        "uploaded = files.upload()\n",
        "\n"
      ],
      "metadata": {
        "colab": {
          "base_uri": "https://localhost:8080/",
          "height": 73
        },
        "id": "jdFH4ZpRnVbI",
        "outputId": "d359f365-5660-4af0-bb6d-b4929c71be52"
      },
      "execution_count": null,
      "outputs": [
        {
          "output_type": "display_data",
          "data": {
            "text/plain": [
              "<IPython.core.display.HTML object>"
            ],
            "text/html": [
              "\n",
              "     <input type=\"file\" id=\"files-376b18f7-cbe2-4b02-8803-6197c6fdc9ac\" name=\"files[]\" multiple disabled\n",
              "        style=\"border:none\" />\n",
              "     <output id=\"result-376b18f7-cbe2-4b02-8803-6197c6fdc9ac\">\n",
              "      Upload widget is only available when the cell has been executed in the\n",
              "      current browser session. Please rerun this cell to enable.\n",
              "      </output>\n",
              "      <script>// Copyright 2017 Google LLC\n",
              "//\n",
              "// Licensed under the Apache License, Version 2.0 (the \"License\");\n",
              "// you may not use this file except in compliance with the License.\n",
              "// You may obtain a copy of the License at\n",
              "//\n",
              "//      http://www.apache.org/licenses/LICENSE-2.0\n",
              "//\n",
              "// Unless required by applicable law or agreed to in writing, software\n",
              "// distributed under the License is distributed on an \"AS IS\" BASIS,\n",
              "// WITHOUT WARRANTIES OR CONDITIONS OF ANY KIND, either express or implied.\n",
              "// See the License for the specific language governing permissions and\n",
              "// limitations under the License.\n",
              "\n",
              "/**\n",
              " * @fileoverview Helpers for google.colab Python module.\n",
              " */\n",
              "(function(scope) {\n",
              "function span(text, styleAttributes = {}) {\n",
              "  const element = document.createElement('span');\n",
              "  element.textContent = text;\n",
              "  for (const key of Object.keys(styleAttributes)) {\n",
              "    element.style[key] = styleAttributes[key];\n",
              "  }\n",
              "  return element;\n",
              "}\n",
              "\n",
              "// Max number of bytes which will be uploaded at a time.\n",
              "const MAX_PAYLOAD_SIZE = 100 * 1024;\n",
              "\n",
              "function _uploadFiles(inputId, outputId) {\n",
              "  const steps = uploadFilesStep(inputId, outputId);\n",
              "  const outputElement = document.getElementById(outputId);\n",
              "  // Cache steps on the outputElement to make it available for the next call\n",
              "  // to uploadFilesContinue from Python.\n",
              "  outputElement.steps = steps;\n",
              "\n",
              "  return _uploadFilesContinue(outputId);\n",
              "}\n",
              "\n",
              "// This is roughly an async generator (not supported in the browser yet),\n",
              "// where there are multiple asynchronous steps and the Python side is going\n",
              "// to poll for completion of each step.\n",
              "// This uses a Promise to block the python side on completion of each step,\n",
              "// then passes the result of the previous step as the input to the next step.\n",
              "function _uploadFilesContinue(outputId) {\n",
              "  const outputElement = document.getElementById(outputId);\n",
              "  const steps = outputElement.steps;\n",
              "\n",
              "  const next = steps.next(outputElement.lastPromiseValue);\n",
              "  return Promise.resolve(next.value.promise).then((value) => {\n",
              "    // Cache the last promise value to make it available to the next\n",
              "    // step of the generator.\n",
              "    outputElement.lastPromiseValue = value;\n",
              "    return next.value.response;\n",
              "  });\n",
              "}\n",
              "\n",
              "/**\n",
              " * Generator function which is called between each async step of the upload\n",
              " * process.\n",
              " * @param {string} inputId Element ID of the input file picker element.\n",
              " * @param {string} outputId Element ID of the output display.\n",
              " * @return {!Iterable<!Object>} Iterable of next steps.\n",
              " */\n",
              "function* uploadFilesStep(inputId, outputId) {\n",
              "  const inputElement = document.getElementById(inputId);\n",
              "  inputElement.disabled = false;\n",
              "\n",
              "  const outputElement = document.getElementById(outputId);\n",
              "  outputElement.innerHTML = '';\n",
              "\n",
              "  const pickedPromise = new Promise((resolve) => {\n",
              "    inputElement.addEventListener('change', (e) => {\n",
              "      resolve(e.target.files);\n",
              "    });\n",
              "  });\n",
              "\n",
              "  const cancel = document.createElement('button');\n",
              "  inputElement.parentElement.appendChild(cancel);\n",
              "  cancel.textContent = 'Cancel upload';\n",
              "  const cancelPromise = new Promise((resolve) => {\n",
              "    cancel.onclick = () => {\n",
              "      resolve(null);\n",
              "    };\n",
              "  });\n",
              "\n",
              "  // Wait for the user to pick the files.\n",
              "  const files = yield {\n",
              "    promise: Promise.race([pickedPromise, cancelPromise]),\n",
              "    response: {\n",
              "      action: 'starting',\n",
              "    }\n",
              "  };\n",
              "\n",
              "  cancel.remove();\n",
              "\n",
              "  // Disable the input element since further picks are not allowed.\n",
              "  inputElement.disabled = true;\n",
              "\n",
              "  if (!files) {\n",
              "    return {\n",
              "      response: {\n",
              "        action: 'complete',\n",
              "      }\n",
              "    };\n",
              "  }\n",
              "\n",
              "  for (const file of files) {\n",
              "    const li = document.createElement('li');\n",
              "    li.append(span(file.name, {fontWeight: 'bold'}));\n",
              "    li.append(span(\n",
              "        `(${file.type || 'n/a'}) - ${file.size} bytes, ` +\n",
              "        `last modified: ${\n",
              "            file.lastModifiedDate ? file.lastModifiedDate.toLocaleDateString() :\n",
              "                                    'n/a'} - `));\n",
              "    const percent = span('0% done');\n",
              "    li.appendChild(percent);\n",
              "\n",
              "    outputElement.appendChild(li);\n",
              "\n",
              "    const fileDataPromise = new Promise((resolve) => {\n",
              "      const reader = new FileReader();\n",
              "      reader.onload = (e) => {\n",
              "        resolve(e.target.result);\n",
              "      };\n",
              "      reader.readAsArrayBuffer(file);\n",
              "    });\n",
              "    // Wait for the data to be ready.\n",
              "    let fileData = yield {\n",
              "      promise: fileDataPromise,\n",
              "      response: {\n",
              "        action: 'continue',\n",
              "      }\n",
              "    };\n",
              "\n",
              "    // Use a chunked sending to avoid message size limits. See b/62115660.\n",
              "    let position = 0;\n",
              "    do {\n",
              "      const length = Math.min(fileData.byteLength - position, MAX_PAYLOAD_SIZE);\n",
              "      const chunk = new Uint8Array(fileData, position, length);\n",
              "      position += length;\n",
              "\n",
              "      const base64 = btoa(String.fromCharCode.apply(null, chunk));\n",
              "      yield {\n",
              "        response: {\n",
              "          action: 'append',\n",
              "          file: file.name,\n",
              "          data: base64,\n",
              "        },\n",
              "      };\n",
              "\n",
              "      let percentDone = fileData.byteLength === 0 ?\n",
              "          100 :\n",
              "          Math.round((position / fileData.byteLength) * 100);\n",
              "      percent.textContent = `${percentDone}% done`;\n",
              "\n",
              "    } while (position < fileData.byteLength);\n",
              "  }\n",
              "\n",
              "  // All done.\n",
              "  yield {\n",
              "    response: {\n",
              "      action: 'complete',\n",
              "    }\n",
              "  };\n",
              "}\n",
              "\n",
              "scope.google = scope.google || {};\n",
              "scope.google.colab = scope.google.colab || {};\n",
              "scope.google.colab._files = {\n",
              "  _uploadFiles,\n",
              "  _uploadFilesContinue,\n",
              "};\n",
              "})(self);\n",
              "</script> "
            ]
          },
          "metadata": {}
        },
        {
          "output_type": "stream",
          "name": "stdout",
          "text": [
            "Saving qa_Electronics.zip to qa_Electronics (1).zip\n"
          ]
        }
      ]
    },
    {
      "cell_type": "code",
      "source": [
        "import zipfile\n",
        "\n",
        "# Nombre del archivo ZIP ya cargado\n",
        "zip_path = \"/content/qa_Electronics.zip\"\n",
        "\n",
        "# Listar y extraer los archivos\n",
        "with zipfile.ZipFile(zip_path, 'r') as zip_ref:\n",
        "    # Lista los archivos dentro del ZIP\n",
        "    archivos = zip_ref.namelist()\n",
        "    print(\"Archivos en el ZIP:\", archivos)\n",
        "\n",
        "    # Extraer todos los archivos en el directorio actual\n",
        "    zip_ref.extractall()\n",
        "    print(\"Archivos extraídos en el directorio actual.\")\n"
      ],
      "metadata": {
        "colab": {
          "base_uri": "https://localhost:8080/"
        },
        "id": "RwwcPQ-CpIeY",
        "outputId": "50da595e-7260-4bb1-f2b1-406e7da5ea14"
      },
      "execution_count": null,
      "outputs": [
        {
          "output_type": "stream",
          "name": "stdout",
          "text": [
            "Archivos en el ZIP: ['qa_Electronics.json']\n",
            "Archivos extraídos en el directorio actual.\n"
          ]
        }
      ]
    },
    {
      "cell_type": "code",
      "source": [
        "import ast\n",
        "questions = []\n",
        "answers = []\n",
        "with open('qa_Electronics.json','r') as f:\n",
        " for line in f:\n",
        "  data = ast.literal_eval(line)\n",
        "  questions.append(data['question'].lower())\n",
        "  answers.append(data['answer'].lower())\n"
      ],
      "metadata": {
        "id": "CdSCdXCSpEBC"
      },
      "execution_count": null,
      "outputs": []
    },
    {
      "cell_type": "code",
      "source": [
        "import pandas as pd\n",
        "\n",
        "# Create a DataFrame\n",
        "df_Text_analisis = pd.DataFrame({'questions': questions, 'answers': answers})\n",
        "\n",
        "# Now you can work with 'df' which contains your data\n",
        "print(df.head())  # Display the first few rows to verify"
      ],
      "metadata": {
        "colab": {
          "base_uri": "https://localhost:8080/"
        },
        "id": "Jq0JZ9lW0JUg",
        "outputId": "70c4ce13-2440-4542-a4c1-4ebc6cc8c0af"
      },
      "execution_count": null,
      "outputs": [
        {
          "output_type": "stream",
          "name": "stdout",
          "text": [
            "                                           questions  \\\n",
            "0  is this cover the one that fits the old nook c...   \n",
            "1                        does it fit nook glowlight?   \n",
            "2     would it fit nook 1st edition? 4.9in x 7.7in ?   \n",
            "3           will this fit a nook color that's 5 x 8?   \n",
            "4   will this fit the samsung galaxy tab 4 nook 10.1   \n",
            "\n",
            "                                             answers  \n",
            "0  yes this fits both the nook color and the same...  \n",
            "1                 no. the nook color or color tablet  \n",
            "2  i don't think so. the nook color is 5 x 8 so n...  \n",
            "3                                                yes  \n",
            "4            no, the tab is smaller than the 'color'  \n"
          ]
        }
      ]
    },
    {
      "cell_type": "markdown",
      "source": [
        "Como se observa, cada fila de datos está en un formato de diccionario con varios pares llave-valor. Ahora que estamos familiarizados con el corpus, diseñemos la arquitectura del chatbot de la siguiente manera:\n",
        "\n",
        "Almacenar todas las preguntas del corpus en una lista.\n",
        "Almacenar todas las respuestas correspondientes del corpus en otra lista.\n",
        "Vectorizar y preprocesar los datos de las preguntas (convertir el texto en representaciones numéricas que puedan ser procesadas por algoritmos).\n",
        "Vectorizar y preprocesar la consulta del usuario.\n",
        "Evaluar cuál es la pregunta más similar a la consulta del usuario utilizando la similitud de coseno (una métrica que mide cómo de similares son dos vectores en un espacio multidimensional).\n",
        "Devolver la respuesta correspondiente a la pregunta más similar como respuesta del chatbot."
      ],
      "metadata": {
        "id": "Aw13RWyMoTvr"
      }
    },
    {
      "cell_type": "markdown",
      "source": [
        "Durante la importación, también realizamos el paso de preprocesamiento convirtiendo todos los caracteres a minúsculas. Luego, utilizando el módulo CountVectorizer de la biblioteca sklearn, convertimos la lista de preguntas en una matriz dispersa y aplicamos la transformación TF-IDF (Term Frequency-Inverse Document Frequency),"
      ],
      "metadata": {
        "id": "BHT8RATfrRMf"
      }
    },
    {
      "cell_type": "code",
      "source": [
        "import re\n",
        "\n",
        "def clean_data(df_Text_analisis):\n",
        "\n",
        "    # Asegurar que no hay valores NaN\n",
        "    df_Text_analisis['questions'] = df_Text_analisis['questions'].fillna('')\n",
        "\n",
        "    # Decodificar las entidades HTML\n",
        "    df_Text_analisis['questions'] = df_Text_analisis['questions'].apply(html.unescape)\n",
        "\n",
        "    # Convertir el texto a minúsculas.\n",
        "    df_Text_analisis['Text'] = df_Text_analisis['Text'].str.lower()\n",
        "\n",
        "    # Reducir letras repetidas\n",
        "    df_Text_analisis['Text'] = df_Text_analisis['Text'].apply(lambda x: re.sub(r'(.)\\1{2,}', r'\\1\\1', x))\n",
        "\n",
        "    # Eliminar palabras repetidas\n",
        "    df_Text_analisis['Text'] = df_Text_analisis['Text'].apply(lambda x: re.sub(r'\\b(\\w+)( \\1\\b)+', r'\\1', x))\n",
        "\n",
        "    # Eliminar menciones en la columna 'Text'\n",
        "    df_Text_analisis['Text'] = df_Text_analisis['Text'].apply(lambda x: re.sub(r'@\\w+', '', x))\n",
        "\n",
        "    # # Eliminar URLs\n",
        "    df_Text_analisis['Text'] = df_Text_analisis['Text'].apply(lambda x: re.sub(r'http\\S+|www\\.\\S+', '', x))\n",
        "\n",
        "    # Eliminar puntuación\n",
        "    df_Text_analisis['Text'] = df_Text_analisis['Text'].apply(lambda x: re.sub(r'[^\\w\\s]', '', x))\n",
        "\n",
        "    # Eliminar números\n",
        "    df_Text_analisis['Text'] = df_Text_analisis['Text'].apply(lambda x: re.sub(r'\\d+', '', x))\n",
        "\n",
        "    # Reemplazar caracteres no alfanuméricos con un espacio\n",
        "    df_Text_analisis['Text'] = df_Text_analisis['Text'].apply(lambda x: re.sub(r'[^a-zA-Z0-9]', ' ', x))\n",
        "\n",
        "    # Eliminar espacios en blanco adicionales\n",
        "    df_Text_analisis['Text'] = df_Text_analisis['Text'].apply(lambda x: re.sub(r'\\s+', ' ', x))\n",
        "\n",
        "    # Corregir ortografía\n",
        "    #df_Text_analisis['Text'] = df_Text_analisis['Text'].apply(lambda x: str(TextBlob(x).correct()))\n",
        "\n",
        "    # Retornar DataFrame limpio\n",
        "    return df_Text_analisis\n",
        "\n",
        "df_Text_analisis_clean = clean_data(df_Text_analisis['questions'].copy())\n",
        "df_Text_analisis_clean.head()"
      ],
      "metadata": {
        "colab": {
          "base_uri": "https://localhost:8080/",
          "height": 339
        },
        "id": "DhdFAZQP42eI",
        "outputId": "382c9867-2122-4be0-ec09-54fbb0effc26"
      },
      "execution_count": null,
      "outputs": [
        {
          "output_type": "error",
          "ename": "KeyError",
          "evalue": "'Text'",
          "traceback": [
            "\u001b[0;31m---------------------------------------------------------------------------\u001b[0m",
            "\u001b[0;31mKeyError\u001b[0m                                  Traceback (most recent call last)",
            "\u001b[0;32m<ipython-input-19-4f2bae55c61e>\u001b[0m in \u001b[0;36m<cell line: 44>\u001b[0;34m()\u001b[0m\n\u001b[1;32m     42\u001b[0m     \u001b[0;32mreturn\u001b[0m \u001b[0mdf_Text_analisis\u001b[0m\u001b[0;34m\u001b[0m\u001b[0;34m\u001b[0m\u001b[0m\n\u001b[1;32m     43\u001b[0m \u001b[0;34m\u001b[0m\u001b[0m\n\u001b[0;32m---> 44\u001b[0;31m \u001b[0mdf_Text_analisis_clean\u001b[0m \u001b[0;34m=\u001b[0m \u001b[0mclean_data\u001b[0m\u001b[0;34m(\u001b[0m\u001b[0mdf_Text_analisis\u001b[0m\u001b[0;34m[\u001b[0m\u001b[0;34m'questions'\u001b[0m\u001b[0;34m]\u001b[0m\u001b[0;34m.\u001b[0m\u001b[0mcopy\u001b[0m\u001b[0;34m(\u001b[0m\u001b[0;34m)\u001b[0m\u001b[0;34m)\u001b[0m\u001b[0;34m\u001b[0m\u001b[0;34m\u001b[0m\u001b[0m\n\u001b[0m\u001b[1;32m     45\u001b[0m \u001b[0mdf_Text_analisis_clean\u001b[0m\u001b[0;34m.\u001b[0m\u001b[0mhead\u001b[0m\u001b[0;34m(\u001b[0m\u001b[0;34m)\u001b[0m\u001b[0;34m\u001b[0m\u001b[0;34m\u001b[0m\u001b[0m\n",
            "\u001b[0;32m<ipython-input-19-4f2bae55c61e>\u001b[0m in \u001b[0;36mclean_data\u001b[0;34m(df_Text_analisis)\u001b[0m\n\u001b[1;32m      4\u001b[0m \u001b[0;34m\u001b[0m\u001b[0m\n\u001b[1;32m      5\u001b[0m     \u001b[0;31m# Asegurar que no hay valores NaN\u001b[0m\u001b[0;34m\u001b[0m\u001b[0;34m\u001b[0m\u001b[0m\n\u001b[0;32m----> 6\u001b[0;31m     \u001b[0mdf_Text_analisis\u001b[0m\u001b[0;34m[\u001b[0m\u001b[0;34m'Text'\u001b[0m\u001b[0;34m]\u001b[0m \u001b[0;34m=\u001b[0m \u001b[0mdf_Text_analisis\u001b[0m\u001b[0;34m[\u001b[0m\u001b[0;34m'Text'\u001b[0m\u001b[0;34m]\u001b[0m\u001b[0;34m.\u001b[0m\u001b[0mfillna\u001b[0m\u001b[0;34m(\u001b[0m\u001b[0;34m''\u001b[0m\u001b[0;34m)\u001b[0m\u001b[0;34m\u001b[0m\u001b[0;34m\u001b[0m\u001b[0m\n\u001b[0m\u001b[1;32m      7\u001b[0m \u001b[0;34m\u001b[0m\u001b[0m\n\u001b[1;32m      8\u001b[0m     \u001b[0;31m# Decodificar las entidades HTML\u001b[0m\u001b[0;34m\u001b[0m\u001b[0;34m\u001b[0m\u001b[0m\n",
            "\u001b[0;32m/usr/local/lib/python3.10/dist-packages/pandas/core/series.py\u001b[0m in \u001b[0;36m__getitem__\u001b[0;34m(self, key)\u001b[0m\n\u001b[1;32m   1119\u001b[0m \u001b[0;34m\u001b[0m\u001b[0m\n\u001b[1;32m   1120\u001b[0m         \u001b[0;32melif\u001b[0m \u001b[0mkey_is_scalar\u001b[0m\u001b[0;34m:\u001b[0m\u001b[0;34m\u001b[0m\u001b[0;34m\u001b[0m\u001b[0m\n\u001b[0;32m-> 1121\u001b[0;31m             \u001b[0;32mreturn\u001b[0m \u001b[0mself\u001b[0m\u001b[0;34m.\u001b[0m\u001b[0m_get_value\u001b[0m\u001b[0;34m(\u001b[0m\u001b[0mkey\u001b[0m\u001b[0;34m)\u001b[0m\u001b[0;34m\u001b[0m\u001b[0;34m\u001b[0m\u001b[0m\n\u001b[0m\u001b[1;32m   1122\u001b[0m \u001b[0;34m\u001b[0m\u001b[0m\n\u001b[1;32m   1123\u001b[0m         \u001b[0;31m# Convert generator to list before going through hashable part\u001b[0m\u001b[0;34m\u001b[0m\u001b[0;34m\u001b[0m\u001b[0m\n",
            "\u001b[0;32m/usr/local/lib/python3.10/dist-packages/pandas/core/series.py\u001b[0m in \u001b[0;36m_get_value\u001b[0;34m(self, label, takeable)\u001b[0m\n\u001b[1;32m   1235\u001b[0m \u001b[0;34m\u001b[0m\u001b[0m\n\u001b[1;32m   1236\u001b[0m         \u001b[0;31m# Similar to Index.get_value, but we do not fall back to positional\u001b[0m\u001b[0;34m\u001b[0m\u001b[0;34m\u001b[0m\u001b[0m\n\u001b[0;32m-> 1237\u001b[0;31m         \u001b[0mloc\u001b[0m \u001b[0;34m=\u001b[0m \u001b[0mself\u001b[0m\u001b[0;34m.\u001b[0m\u001b[0mindex\u001b[0m\u001b[0;34m.\u001b[0m\u001b[0mget_loc\u001b[0m\u001b[0;34m(\u001b[0m\u001b[0mlabel\u001b[0m\u001b[0;34m)\u001b[0m\u001b[0;34m\u001b[0m\u001b[0;34m\u001b[0m\u001b[0m\n\u001b[0m\u001b[1;32m   1238\u001b[0m \u001b[0;34m\u001b[0m\u001b[0m\n\u001b[1;32m   1239\u001b[0m         \u001b[0;32mif\u001b[0m \u001b[0mis_integer\u001b[0m\u001b[0;34m(\u001b[0m\u001b[0mloc\u001b[0m\u001b[0;34m)\u001b[0m\u001b[0;34m:\u001b[0m\u001b[0;34m\u001b[0m\u001b[0;34m\u001b[0m\u001b[0m\n",
            "\u001b[0;32m/usr/local/lib/python3.10/dist-packages/pandas/core/indexes/range.py\u001b[0m in \u001b[0;36mget_loc\u001b[0;34m(self, key)\u001b[0m\n\u001b[1;32m    415\u001b[0m                 \u001b[0;32mraise\u001b[0m \u001b[0mKeyError\u001b[0m\u001b[0;34m(\u001b[0m\u001b[0mkey\u001b[0m\u001b[0;34m)\u001b[0m \u001b[0;32mfrom\u001b[0m \u001b[0merr\u001b[0m\u001b[0;34m\u001b[0m\u001b[0;34m\u001b[0m\u001b[0m\n\u001b[1;32m    416\u001b[0m         \u001b[0;32mif\u001b[0m \u001b[0misinstance\u001b[0m\u001b[0;34m(\u001b[0m\u001b[0mkey\u001b[0m\u001b[0;34m,\u001b[0m \u001b[0mHashable\u001b[0m\u001b[0;34m)\u001b[0m\u001b[0;34m:\u001b[0m\u001b[0;34m\u001b[0m\u001b[0;34m\u001b[0m\u001b[0m\n\u001b[0;32m--> 417\u001b[0;31m             \u001b[0;32mraise\u001b[0m \u001b[0mKeyError\u001b[0m\u001b[0;34m(\u001b[0m\u001b[0mkey\u001b[0m\u001b[0;34m)\u001b[0m\u001b[0;34m\u001b[0m\u001b[0;34m\u001b[0m\u001b[0m\n\u001b[0m\u001b[1;32m    418\u001b[0m         \u001b[0mself\u001b[0m\u001b[0;34m.\u001b[0m\u001b[0m_check_indexing_error\u001b[0m\u001b[0;34m(\u001b[0m\u001b[0mkey\u001b[0m\u001b[0;34m)\u001b[0m\u001b[0;34m\u001b[0m\u001b[0;34m\u001b[0m\u001b[0m\n\u001b[1;32m    419\u001b[0m         \u001b[0;32mraise\u001b[0m \u001b[0mKeyError\u001b[0m\u001b[0;34m(\u001b[0m\u001b[0mkey\u001b[0m\u001b[0;34m)\u001b[0m\u001b[0;34m\u001b[0m\u001b[0;34m\u001b[0m\u001b[0m\n",
            "\u001b[0;31mKeyError\u001b[0m: 'Text'"
          ]
        }
      ]
    },
    {
      "cell_type": "code",
      "source": [
        "from sklearn.feature_extraction.text import TfidfVectorizer\n",
        "vectorizer = TfidfVectorizer(analyzer=\"word\", ngram_range=(1, 2), max_features=50000)\n",
        "que_tfidf = vectorizer.fit_transform(df['questions'])\n"
      ],
      "metadata": {
        "id": "sGQf4gcOL8Q7"
      },
      "execution_count": null,
      "outputs": []
    },
    {
      "cell_type": "code",
      "source": [
        "que_tfidf.shape"
      ],
      "metadata": {
        "id": "rwiXZdZmL7tW",
        "colab": {
          "base_uri": "https://localhost:8080/"
        },
        "outputId": "6cdf8e40-74e2-4c9d-fc50-2924e81b923f"
      },
      "execution_count": null,
      "outputs": [
        {
          "output_type": "execute_result",
          "data": {
            "text/plain": [
              "(314263, 793476)"
            ]
          },
          "metadata": {},
          "execution_count": 15
        }
      ]
    },
    {
      "cell_type": "markdown",
      "source": [
        "La matriz X_tfidf es el repositorio que se buscará cada vez que se ingrese una nueva pregunta en el chatbot para encontrar la pregunta más similar. Para implementar esto, creamos una función que calcula el ángulo entre cada fila de la matriz X_tfidf y el vector de la nueva pregunta. Utilizamos el módulo cosine_similarity de la biblioteca sklearn para calcular el coseno entre cada fila y el vector, y luego convertimos el coseno en grados.\n",
        "\n",
        "Finalmente, buscamos la fila que tiene el coseno máximo (o el ángulo mínimo) con el vector de la nueva pregunta y devolvemos la respuesta correspondiente a esa pregunta como respuesta del chatbot. Si el ángulo más pequeño entre el vector de la pregunta y cada fila de la matriz es mayor que un valor de umbral, consideramos que esa pregunta es lo suficientemente diferente como para no justificar una respuesta."
      ],
      "metadata": {
        "id": "GkmvWDnhsPwl"
      }
    },
    {
      "cell_type": "code",
      "source": [
        "from google.colab import drive\n",
        "drive.mount('/content/drive')\n"
      ],
      "metadata": {
        "id": "lER-NF7Jph0j"
      },
      "execution_count": null,
      "outputs": []
    },
    {
      "cell_type": "markdown",
      "source": [
        "## CNN\n",
        "\n",
        "Las relaciones entre las palabras pueden derivarse observando su posición relativa entre sí. Estas relaciones pueden interpretarse como una serie temporal en la que las palabras habladas constituyen una base de datos de series temporales. Por otro lado, también podemos analizar sus posiciones relativas y derivar relaciones a partir de estas. Estas aproximaciones son utilizadas por formas más complejas y modernas de Redes Neuronales Artificiales (ANNs), conocidas como Redes Neuronales Convolucionales (CNNs) y Redes Neuronales Recurrentes (RNNs).\n",
        "\n",
        "## Entendiendo las convoluciones\n",
        "Las imágenes se describen mediante píxeles. Estos píxeles pueden tener valores variables, dependiendo de si la imagen es en blanco y negro, en escala de grises o a color. Los valores de los píxeles reflejan los patrones que podrían estar representando. Como parte de la convolución, intentamos deslizar (realizar un producto punto) lo que llamamos filtros a lo largo de la imagen para capturar patrones a partir de los píxeles.\n",
        "<img src=\"https://drive.google.com/file/d/18jdHuPKqPRaHkL5SOo43OFejXh55x3ai/view?usp=drive_link\" alt=\"Descripción de la imagen\" width=\"400\">\n",
        "\n",
        "![Imagen desde Drive](/content/drive/MyDrive/imagenes/imagen1.png)\n",
        "\n",
        "\n",
        "\n"
      ],
      "metadata": {
        "id": "XDgBJmEdYQxR"
      }
    },
    {
      "cell_type": "markdown",
      "source": [],
      "metadata": {
        "id": "lRXfVqbWmiXM"
      }
    },
    {
      "cell_type": "code",
      "source": [
        "ver_imag(\"/content/imagen 1.png\")\n"
      ],
      "metadata": {
        "id": "WKSbnxGqq8fY",
        "colab": {
          "base_uri": "https://localhost:8080/",
          "height": 386
        },
        "outputId": "957a168c-3246-4e2e-b8d1-9937c98d58df"
      },
      "execution_count": null,
      "outputs": [
        {
          "output_type": "display_data",
          "data": {
            "text/plain": [
              "<Figure size 640x480 with 1 Axes>"
            ],
            "image/png": "[encoded data removed]"
          },
          "metadata": {}
        }
      ]
    },
    {
      "cell_type": "markdown",
      "source": [
        "Supongamos que la imagen anterior puede representarse mediante la siguiente matriz de píxeles de 4 x 4, donde cada valor indica la intensidad de ese píxel en la imagen:\n",
        "\n"
      ],
      "metadata": {
        "id": "rc4IltSVrZa0"
      }
    },
    {
      "cell_type": "code",
      "source": [
        "ver_imag(\"/content/imagen2.png\")"
      ],
      "metadata": {
        "id": "uFlDKrUIqiXH",
        "colab": {
          "base_uri": "https://localhost:8080/",
          "height": 163
        },
        "outputId": "b9fd231e-7f8e-4b4b-ebbe-2520233e6c1e"
      },
      "execution_count": null,
      "outputs": [
        {
          "output_type": "display_data",
          "data": {
            "text/plain": [
              "<Figure size 640x480 with 1 Axes>"
            ],
            "image/png": "[encoded data removed]"
          },
          "metadata": {}
        }
      ]
    },
    {
      "cell_type": "markdown",
      "source": [
        "Podemos aplicar el siguiente filtro a la imagen:"
      ],
      "metadata": {
        "id": "OIbiX2Bjs2_A"
      }
    },
    {
      "cell_type": "code",
      "source": [
        "ver_imag(\"/content/imagen3.png\")"
      ],
      "metadata": {
        "id": "qNR02Fijsraz",
        "colab": {
          "base_uri": "https://localhost:8080/",
          "height": 180
        },
        "outputId": "6328e938-f70f-4bfe-c0c6-6e361b9d7458"
      },
      "execution_count": null,
      "outputs": [
        {
          "output_type": "display_data",
          "data": {
            "text/plain": [
              "<Figure size 640x480 with 1 Axes>"
            ],
            "image/png": "[encoded data removed]"
          },
          "metadata": {}
        }
      ]
    },
    {
      "cell_type": "markdown",
      "source": [
        "Ahora, utilizando este filtro, queremos encontrar el patrón especificado en el filtro a lo largo de la imagen. Lo que podemos hacer aquí es realizar una multiplicación elemento a elemento, que no es más que un producto punto aplicado a la imagen. Los resultados de la multiplicación elemento a elemento se suman en cada pasada del filtro sobre la imagen. Al hacer esto, obtenemos la matriz resultante, que muestra la intensidad del patrón o filtro en varios puntos de la imagen. La siguiente matriz se obtiene después de aplicar el filtro a la imagen:"
      ],
      "metadata": {
        "id": "GwUBh4vFtZhx"
      }
    },
    {
      "cell_type": "code",
      "source": [
        "ver_imag(\"/content/imagen4.png\")"
      ],
      "metadata": {
        "id": "njA_fHTmtFQL",
        "colab": {
          "base_uri": "https://localhost:8080/",
          "height": 171
        },
        "outputId": "20c379b2-d774-4e45-bb35-0077b36207a3"
      },
      "execution_count": null,
      "outputs": [
        {
          "output_type": "display_data",
          "data": {
            "text/plain": [
              "<Figure size 640x480 with 1 Axes>"
            ],
            "image/png": "[encoded data removed]"
          },
          "metadata": {}
        }
      ]
    },
    {
      "cell_type": "markdown",
      "source": [
        "Tomemos el valor 5 de la matriz de salida y comprendamos cómo lo obtuvimos.\n",
        "Realizamos una multiplicación elemento a elemento entre las entradas desde (1, 1) hasta (3, 3) en la matriz de entrada. Este filtro se ve de la siguiente manera:\n",
        "$(6*1) + (1*0) + (4*-1) + (8*1) + (6*0) + (7*-1) + (4*1) + (3*0) + (2*-1) = 5$\n",
        "\n",
        "De manera similar, obtenemos los demás valores. Aquí asumimos que la matriz estaba indexada comenzando desde 1.\n",
        "Estos valores luego se pasan a través de funciones de activación, que pueden considerarse como parte del filtro junto con los pesos.\n",
        "El proceso que describimos aquí es principalmente lo que ocurre en la capa convolucional. Cada capa convolucional puede tener múltiples filtros, también conocidos como kernels. Los valores en estos filtros son pesos que la red actualiza para ajustar esos patrones a los datos. En el ejemplo que discutimos, utilizamos un filtro de tamaño 3 x 3. Estos filtros también pueden tener diferentes dimensiones.\n",
        "Existe una fórmula sencilla que rige lo que hemos discutido aquí.\n",
        "Si tenemos una imagen de tamaño\n",
        "\n",
        "$n×n$ y un filtro de tamaño\n",
        "\n",
        "$f×f$, entonces la salida será una matriz con las siguientes dimensiones:\n",
        "$$(n-f+1)*(n-f+1)$$\n",
        "\n",
        "## Añadamos relleno a nuestros datos\n",
        "Lo que esencialmente hacemos es utilizar una técnica llamada relleno (padding), que consiste en agregar entradas pseudocontenidas que contienen 0s como valores al final. Esto se conoce como relleno con ceros (zero-padding), y como resultado, los valores hacia los bordes también pueden ser percibidos como internos en la matriz. Ningún valor es submuestreado en comparación con los demás. Además, esto permite que el filtro encuentre patrones en todos los lugares de la imagen, independientemente de su posición.\n",
        "Así es como cambia la ecuación después de aplicar el relleno:\n",
        "Una imagen de 4 x 4\n",
        "Relleno de tamaño 1 alrededor de la imagen\n",
        "Un filtro de tamaño 3 x 3\n",
        "Así es como cambian las cosas cuando se aplica un relleno de tamaño 1 alrededor de la imagen. La imagen, junto con el relleno, ahora tiene un tamaño de n + 2p, ya que el relleno de tamaño p se aplica a todos los bordes exteriores.\n",
        "La matriz de salida ahora usará la siguiente ecuación:\n",
        "$$(n+2p-f+1)*(n+2p-f+1)$$\n",
        "\n",
        "Intentemos entender cuál es el tamaño del relleno que necesitamos aplicar. El tamaño dependerá del tamaño de los filtros que deseamos aplicar. Esto generalmente sigue la siguiente ecuación:\n"
      ],
      "metadata": {
        "id": "rsv5Y_NJ2rnW"
      }
    },
    {
      "cell_type": "code",
      "source": [
        "ver_imag(\"/content/imagen5.png\")"
      ],
      "metadata": {
        "id": "acSzxMNSuKu3",
        "colab": {
          "base_uri": "https://localhost:8080/",
          "height": 194
        },
        "outputId": "981f37c2-6191-40df-8d0b-d25f248a9648"
      },
      "execution_count": null,
      "outputs": [
        {
          "output_type": "display_data",
          "data": {
            "text/plain": [
              "<Figure size 640x480 with 1 Axes>"
            ],
            "image/png": "[encoded data removed]"
          },
          "metadata": {}
        }
      ]
    },
    {
      "cell_type": "markdown",
      "source": [
        "## Entendiendo los strides en una CNN\n",
        "Otra cosa que debemos discutir aquí es que nos movimos de lado 1 píxel a la vez. Este valor es un parámetro configurable conocido como stride. Ayuda a determinar cómo debe capturarse la superposición o la transición de un píxel a otro.\n",
        "Así es como podemos generalizar la ecuación para acomodar diferentes strides utilizando el stride como un parámetro.\n",
        "Supongamos que aplicamos un stride de s al realizar convoluciones. Aquí, nuestra matriz de salida usará la siguiente ecuación:\n",
        "$$(\\frac{n+2p-f}{s}+1)*(\\frac{n+2p-f}{s}+1)$$\n",
        "\n",
        "Junto con las convoluciones, estamos utilizando una capa de pooling y una capa completamente conectada. A continuación, descubriremos cómo funcionan estas capas y qué sucede después de que los filtros se aplican a los datos de entrada.\n",
        "\n",
        "## ¿Qué es el pooling?\n",
        "En la operación de convolución, lo que tratamos de capturar fueron características o patrones en los datos utilizando algunos filtros. El objetivo es mantener la computación lo más mínima posible mientras se captura la mayor cantidad de información posible. Por lo tanto, en todo momento, debemos intentar mantener solo la información necesaria que pueda describir la característica que se ha capturado. Esto se realiza mediante capas de pooling. La operación de pooling ayuda a reducir la resolución de los datos para que solo se conserve la información relevante. Dejamos de lado la mayoría de la información no deseada, de modo que se requiera una computación mínima. Como resultado, esto ayuda a prevenir el sobreajuste (overfitting). Otra cosa que puede que hayas notado es que, incluso si los datos se desplazan un poco, el pooling nos permite capturar la información que necesitamos, independientemente de dónde esté ubicada la característica en los datos. Esta propiedad se conoce como invariancia espacial.\n",
        "\n",
        "Ahora, intentemos entender algunas de las técnicas de pooling más utilizadas. Existen varios tipos de pooling que se pueden realizar. Tomemos una matriz y veamos cómo se pueden aplicar las diferentes estrategias de pooling a ella. Tomaremos un stride de 2:"
      ],
      "metadata": {
        "id": "DQJyCvsRBW_X"
      }
    },
    {
      "cell_type": "code",
      "source": [
        "ver_imag(\"/content/imagen6.png\")"
      ],
      "metadata": {
        "id": "7JTUSnIGBFc2",
        "colab": {
          "base_uri": "https://localhost:8080/",
          "height": 192
        },
        "outputId": "862b9964-de7c-495a-e795-ac4ee5924c3e"
      },
      "execution_count": null,
      "outputs": [
        {
          "output_type": "display_data",
          "data": {
            "text/plain": [
              "<Figure size 640x480 with 1 Axes>"
            ],
            "image/png": "[encoded data removed]"
          },
          "metadata": {}
        }
      ]
    },
    {
      "cell_type": "markdown",
      "source": [
        "Max pooling: Esta es la técnica de pooling más común que se puede aplicar. En el max pooling, se toma el valor máximo dentro de una ventana de filtro. El valor máximo que se obtiene para nuestra matriz con un stride de 2 sería el siguiente:"
      ],
      "metadata": {
        "id": "tJRnsjsCEmUJ"
      }
    },
    {
      "cell_type": "code",
      "source": [
        "ver_imag(\"/content/imagen7.png\")"
      ],
      "metadata": {
        "id": "bs_GBwKqEev9",
        "colab": {
          "base_uri": "https://localhost:8080/",
          "height": 406
        },
        "outputId": "430c1866-ddc5-46fa-b469-01a595745211"
      },
      "execution_count": null,
      "outputs": [
        {
          "output_type": "display_data",
          "data": {
            "text/plain": [
              "<Figure size 640x480 with 1 Axes>"
            ],
            "image/png": "[encoded data removed]"
          },
          "metadata": {}
        }
      ]
    },
    {
      "cell_type": "markdown",
      "source": [
        "Average pooling: Esta técnica, como su nombre indica, toma el promedio dentro de los bloques de 2 x 2. Veamos cuáles serían los resultados del average pooling en la matriz:"
      ],
      "metadata": {
        "id": "eqR0NZyqEwNJ"
      }
    },
    {
      "cell_type": "markdown",
      "source": [],
      "metadata": {
        "id": "UsiEkaF5FdVw"
      }
    },
    {
      "cell_type": "code",
      "source": [
        "ver_imag(\"/content/imagen8.png\")"
      ],
      "metadata": {
        "id": "MI3l75MbE0es",
        "colab": {
          "base_uri": "https://localhost:8080/",
          "height": 406
        },
        "outputId": "04ccfb03-8b64-441a-ea2c-876e6c0c25de"
      },
      "execution_count": null,
      "outputs": [
        {
          "output_type": "display_data",
          "data": {
            "text/plain": [
              "<Figure size 640x480 with 1 Axes>"
            ],
            "image/png": "[encoded data removed]"
          },
          "metadata": {}
        }
      ]
    },
    {
      "cell_type": "markdown",
      "source": [
        "Sum pooling: La siguiente técnica que discutiremos es el sum pooling, donde simplemente tomamos la suma de los valores dentro del filtro. La siguiente matriz muestra el resultado que se obtiene al utilizar sum pooling. El sum pooling es el método de pooling menos utilizado entre los que discutiremos:"
      ],
      "metadata": {
        "id": "MJy7K6XyFNeE"
      }
    },
    {
      "cell_type": "code",
      "source": [
        "ver_imag(\"/content/imagen9.png\")"
      ],
      "metadata": {
        "id": "xQnRnz-aFODw",
        "colab": {
          "base_uri": "https://localhost:8080/",
          "height": 388
        },
        "outputId": "399e95bc-5f34-4db2-9221-9c57ac172ce7"
      },
      "execution_count": null,
      "outputs": [
        {
          "output_type": "display_data",
          "data": {
            "text/plain": [
              "<Figure size 640x480 with 1 Axes>"
            ],
            "image/png": "[encoded data removed]"
          },
          "metadata": {}
        }
      ]
    },
    {
      "cell_type": "markdown",
      "source": [
        "## La capa completamente conectada\n",
        "Las capas de convolución y pooling nos ayudan a extraer y refinar características de las entradas que la red recibe. Necesitamos algo que realmente pueda clasificar o hacer algo con estas características. Los resultados después de realizar las convoluciones y el pooling se aplanan en un vector que  alimenta a una red neuronal. Después de enviar el vector de características a través de una red neuronal que posiblemente contenga varias capas y funciones de activación, obtenemos los resultados finales de clasificación.\n",
        "\n",
        "Hasta ahora, hemos entendido cómo una CNN captura características de las imágenes, pero ¿cómo tiene sentido todo esto con datos de texto?\n",
        "\n",
        "## Detección de sarcasmo en texto usando CNNs\n",
        "Las convoluciones que hemos visto hasta ahora capturan relaciones espaciales en los datos como imágenes específicas. Sin embargo, el texto tiene más de una relación secuencial, donde las palabras cercanas a una dada aportan más información para esa palabra en particular que cualquier palabra que aparezca en una línea justo por encima de ellas. Por lo tanto, para los datos de texto, observamos relaciones espaciales unidimensionales y aprovechamos la capa Conv1D para este propósito. Esto es similar a trabajar con n-grams, donde habría superposiciones en las ventanas consecutivas de n-grams. El valor de n sería especificado por el parámetro de tamaño del kernel que proporcionas como entrada a la capa Conv1D.\n",
        "El siguiente diagrama nos ayudará a entender cómo las CNNs pueden ser utilizadas para encontrar patrones en datos de texto."
      ],
      "metadata": {
        "id": "HVlX_5EwF4UR"
      }
    },
    {
      "cell_type": "code",
      "source": [
        "ver_imag(\"/content/imagen10.png\")"
      ],
      "metadata": {
        "id": "xobHudZ2Fgkc",
        "colab": {
          "base_uri": "https://localhost:8080/",
          "height": 245
        },
        "outputId": "3221af9c-75ec-4a1e-f2b7-980b8a5b439b"
      },
      "execution_count": null,
      "outputs": [
        {
          "output_type": "display_data",
          "data": {
            "text/plain": [
              "<Figure size 640x480 with 1 Axes>"
            ],
            "image/png": "[encoded data removed]"
          },
          "metadata": {}
        }
      ]
    },
    {
      "cell_type": "code",
      "source": [
        "ver_imag(\"/content/imagen11.png\")"
      ],
      "metadata": {
        "colab": {
          "base_uri": "https://localhost:8080/",
          "height": 406
        },
        "id": "A4O1fbiPnhGR",
        "outputId": "07d1534e-69d4-4e8a-d078-789e3fb87cfd"
      },
      "execution_count": null,
      "outputs": [
        {
          "output_type": "display_data",
          "data": {
            "text/plain": [
              "<Figure size 640x480 with 1 Axes>"
            ],
            "image/png": "[encoded data removed]"
          },
          "metadata": {}
        }
      ]
    },
    {
      "cell_type": "code",
      "source": [
        "ver_imag(\"/content/iamgen12.png\")"
      ],
      "metadata": {
        "colab": {
          "base_uri": "https://localhost:8080/",
          "height": 406
        },
        "id": "6u1h0NcLnleR",
        "outputId": "22e8b19a-e20e-4ecf-e13e-d4195cca5180"
      },
      "execution_count": null,
      "outputs": [
        {
          "output_type": "display_data",
          "data": {
            "text/plain": [
              "<Figure size 640x480 with 1 Axes>"
            ],
            "image/png": "[encoded data removed]"
          },
          "metadata": {}
        }
      ]
    },
    {
      "cell_type": "markdown",
      "source": [
        "El diagrama anterior muestra cómo los word embeddings se envían como entradas a la capa de convolución, que contiene múltiples filtros. Esto es seguido por max pooling y, finalmente, se aplica la capa completamente conectada y dropout con la función de activación adecuada. Usaremos una arquitectura similar en nuestro estudio de detección de sarcasmo.\n",
        "Ahora que hemos comprendido las convoluciones y cómo capturan características, estamos bien preparados para usarlas para realizar análisis de texto."
      ],
      "metadata": {
        "id": "-Z63kJNFHkoC"
      }
    },
    {
      "cell_type": "markdown",
      "source": [
        "La detección de sarcasmo es un gran desafío en el procesamiento de lenguaje natural (NLP) en el mundo actual, desde los medios impresos hasta los comentarios, entre otros. Intentemos usar las CNNs para detectar sarcasmo en el texto."
      ],
      "metadata": {
        "id": "pg9zDgWKH2e6"
      }
    },
    {
      "cell_type": "markdown",
      "source": [
        "1 - importar las diversas bibliotecas que utilizaremos."
      ],
      "metadata": {
        "id": "roOCR0iDV7vR"
      }
    },
    {
      "cell_type": "code",
      "source": [
        "import pandas as pd\n",
        "import numpy as np\n",
        "import re\n",
        "import json\n",
        "import gensim\n",
        "import math\n",
        "import nltk\n",
        "nltk.download('stopwords')\n",
        "nltk.download('wordnet')\n",
        "from nltk.corpus import stopwords\n",
        "from nltk.stem.porter import PorterStemmer\n",
        "from nltk.stem.snowball import SnowballStemmer\n",
        "from nltk.stem.wordnet import WordNetLemmatizer\n",
        "from gensim.models import KeyedVectors\n",
        "import keras\n",
        "from keras.models import Sequential, Model\n",
        "from keras import layers\n",
        "from keras.layers import Dense, Dropout, Conv1D, GlobalMaxPooling1D\n",
        "import h5py"
      ],
      "metadata": {
        "id": "xuRDxR_8Hdki",
        "colab": {
          "base_uri": "https://localhost:8080/"
        },
        "outputId": "e5fc682a-4de9-4c3f-e75d-27353483b0a6"
      },
      "execution_count": null,
      "outputs": [
        {
          "output_type": "stream",
          "name": "stderr",
          "text": [
            "[nltk_data] Downloading package stopwords to /root/nltk_data...\n",
            "[nltk_data]   Package stopwords is already up-to-date!\n",
            "[nltk_data] Downloading package wordnet to /root/nltk_data...\n",
            "[nltk_data]   Package wordnet is already up-to-date!\n"
          ]
        }
      ]
    },
    {
      "cell_type": "code",
      "source": [
        "pip install gensim"
      ],
      "metadata": {
        "colab": {
          "base_uri": "https://localhost:8080/"
        },
        "id": "WQlBCG48oztR",
        "outputId": "5a8d5ab3-769a-4a5c-d94d-85ea06499dd7"
      },
      "execution_count": null,
      "outputs": [
        {
          "output_type": "stream",
          "name": "stdout",
          "text": [
            "Requirement already satisfied: gensim in /usr/local/lib/python3.10/dist-packages (4.3.3)\n",
            "Requirement already satisfied: numpy<2.0,>=1.18.5 in /usr/local/lib/python3.10/dist-packages (from gensim) (1.26.4)\n",
            "Requirement already satisfied: scipy<1.14.0,>=1.7.0 in /usr/local/lib/python3.10/dist-packages (from gensim) (1.13.1)\n",
            "Requirement already satisfied: smart-open>=1.8.1 in /usr/local/lib/python3.10/dist-packages (from gensim) (7.0.5)\n",
            "Requirement already satisfied: wrapt in /usr/local/lib/python3.10/dist-packages (from smart-open>=1.8.1->gensim) (1.16.0)\n"
          ]
        }
      ]
    },
    {
      "cell_type": "code",
      "source": [
        " #Continue with loading the model:\n",
        "import gensim.downloader as api\n",
        "model = api.load('word2vec-google-news-300')\n",
        "#model = KeyedVectors.load_word2vec_format('GoogleNews-vectors-negative300.bin', binary=True)"
      ],
      "metadata": {
        "colab": {
          "base_uri": "https://localhost:8080/",
          "height": 339
        },
        "id": "W7uGixflo2wY",
        "outputId": "218aba5b-5a54-4d5a-819d-626aad19b3a6"
      },
      "execution_count": null,
      "outputs": [
        {
          "output_type": "error",
          "ename": "KeyboardInterrupt",
          "evalue": "",
          "traceback": [
            "\u001b[0;31m---------------------------------------------------------------------------\u001b[0m",
            "\u001b[0;31mKeyboardInterrupt\u001b[0m                         Traceback (most recent call last)",
            "\u001b[0;32m<ipython-input-257-5be9227d6cb2>\u001b[0m in \u001b[0;36m<cell line: 3>\u001b[0;34m()\u001b[0m\n\u001b[1;32m      1\u001b[0m \u001b[0;31m#Continue with loading the model:\u001b[0m\u001b[0;34m\u001b[0m\u001b[0;34m\u001b[0m\u001b[0m\n\u001b[1;32m      2\u001b[0m \u001b[0;32mimport\u001b[0m \u001b[0mgensim\u001b[0m\u001b[0;34m.\u001b[0m\u001b[0mdownloader\u001b[0m \u001b[0;32mas\u001b[0m \u001b[0mapi\u001b[0m\u001b[0;34m\u001b[0m\u001b[0;34m\u001b[0m\u001b[0m\n\u001b[0;32m----> 3\u001b[0;31m \u001b[0mmodel\u001b[0m \u001b[0;34m=\u001b[0m \u001b[0mapi\u001b[0m\u001b[0;34m.\u001b[0m\u001b[0mload\u001b[0m\u001b[0;34m(\u001b[0m\u001b[0;34m'word2vec-google-news-300'\u001b[0m\u001b[0;34m)\u001b[0m\u001b[0;34m\u001b[0m\u001b[0;34m\u001b[0m\u001b[0m\n\u001b[0m\u001b[1;32m      4\u001b[0m \u001b[0;31m#model = KeyedVectors.load_word2vec_format('GoogleNews-vectors-negative300.bin', binary=True)\u001b[0m\u001b[0;34m\u001b[0m\u001b[0;34m\u001b[0m\u001b[0m\n",
            "\u001b[0;32m/usr/local/lib/python3.10/dist-packages/gensim/downloader.py\u001b[0m in \u001b[0;36mload\u001b[0;34m(name, return_path)\u001b[0m\n\u001b[1;32m    501\u001b[0m         \u001b[0msys\u001b[0m\u001b[0;34m.\u001b[0m\u001b[0mpath\u001b[0m\u001b[0;34m.\u001b[0m\u001b[0minsert\u001b[0m\u001b[0;34m(\u001b[0m\u001b[0;36m0\u001b[0m\u001b[0;34m,\u001b[0m \u001b[0mBASE_DIR\u001b[0m\u001b[0;34m)\u001b[0m\u001b[0;34m\u001b[0m\u001b[0;34m\u001b[0m\u001b[0m\n\u001b[1;32m    502\u001b[0m         \u001b[0mmodule\u001b[0m \u001b[0;34m=\u001b[0m \u001b[0m__import__\u001b[0m\u001b[0;34m(\u001b[0m\u001b[0mname\u001b[0m\u001b[0;34m)\u001b[0m\u001b[0;34m\u001b[0m\u001b[0;34m\u001b[0m\u001b[0m\n\u001b[0;32m--> 503\u001b[0;31m         \u001b[0;32mreturn\u001b[0m \u001b[0mmodule\u001b[0m\u001b[0;34m.\u001b[0m\u001b[0mload_data\u001b[0m\u001b[0;34m(\u001b[0m\u001b[0;34m)\u001b[0m\u001b[0;34m\u001b[0m\u001b[0;34m\u001b[0m\u001b[0m\n\u001b[0m\u001b[1;32m    504\u001b[0m \u001b[0;34m\u001b[0m\u001b[0m\n\u001b[1;32m    505\u001b[0m \u001b[0;34m\u001b[0m\u001b[0m\n",
            "\u001b[0;32m~/gensim-data/word2vec-google-news-300/__init__.py\u001b[0m in \u001b[0;36mload_data\u001b[0;34m()\u001b[0m\n\u001b[1;32m      6\u001b[0m \u001b[0;32mdef\u001b[0m \u001b[0mload_data\u001b[0m\u001b[0;34m(\u001b[0m\u001b[0;34m)\u001b[0m\u001b[0;34m:\u001b[0m\u001b[0;34m\u001b[0m\u001b[0;34m\u001b[0m\u001b[0m\n\u001b[1;32m      7\u001b[0m     \u001b[0mpath\u001b[0m \u001b[0;34m=\u001b[0m \u001b[0mos\u001b[0m\u001b[0;34m.\u001b[0m\u001b[0mpath\u001b[0m\u001b[0;34m.\u001b[0m\u001b[0mjoin\u001b[0m\u001b[0;34m(\u001b[0m\u001b[0mbase_dir\u001b[0m\u001b[0;34m,\u001b[0m \u001b[0;34m'word2vec-google-news-300'\u001b[0m\u001b[0;34m,\u001b[0m \u001b[0;34m\"word2vec-google-news-300.gz\"\u001b[0m\u001b[0;34m)\u001b[0m\u001b[0;34m\u001b[0m\u001b[0;34m\u001b[0m\u001b[0m\n\u001b[0;32m----> 8\u001b[0;31m     \u001b[0mmodel\u001b[0m \u001b[0;34m=\u001b[0m \u001b[0mKeyedVectors\u001b[0m\u001b[0;34m.\u001b[0m\u001b[0mload_word2vec_format\u001b[0m\u001b[0;34m(\u001b[0m\u001b[0mpath\u001b[0m\u001b[0;34m,\u001b[0m \u001b[0mbinary\u001b[0m\u001b[0;34m=\u001b[0m\u001b[0;32mTrue\u001b[0m\u001b[0;34m)\u001b[0m\u001b[0;34m\u001b[0m\u001b[0;34m\u001b[0m\u001b[0m\n\u001b[0m\u001b[1;32m      9\u001b[0m     \u001b[0;32mreturn\u001b[0m \u001b[0mmodel\u001b[0m\u001b[0;34m\u001b[0m\u001b[0;34m\u001b[0m\u001b[0m\n",
            "\u001b[0;32m/usr/local/lib/python3.10/dist-packages/gensim/models/keyedvectors.py\u001b[0m in \u001b[0;36mload_word2vec_format\u001b[0;34m(cls, fname, fvocab, binary, encoding, unicode_errors, limit, datatype, no_header)\u001b[0m\n\u001b[1;32m   1717\u001b[0m \u001b[0;34m\u001b[0m\u001b[0m\n\u001b[1;32m   1718\u001b[0m         \"\"\"\n\u001b[0;32m-> 1719\u001b[0;31m         return _load_word2vec_format(\n\u001b[0m\u001b[1;32m   1720\u001b[0m             \u001b[0mcls\u001b[0m\u001b[0;34m,\u001b[0m \u001b[0mfname\u001b[0m\u001b[0;34m,\u001b[0m \u001b[0mfvocab\u001b[0m\u001b[0;34m=\u001b[0m\u001b[0mfvocab\u001b[0m\u001b[0;34m,\u001b[0m \u001b[0mbinary\u001b[0m\u001b[0;34m=\u001b[0m\u001b[0mbinary\u001b[0m\u001b[0;34m,\u001b[0m \u001b[0mencoding\u001b[0m\u001b[0;34m=\u001b[0m\u001b[0mencoding\u001b[0m\u001b[0;34m,\u001b[0m \u001b[0municode_errors\u001b[0m\u001b[0;34m=\u001b[0m\u001b[0municode_errors\u001b[0m\u001b[0;34m,\u001b[0m\u001b[0;34m\u001b[0m\u001b[0;34m\u001b[0m\u001b[0m\n\u001b[1;32m   1721\u001b[0m             \u001b[0mlimit\u001b[0m\u001b[0;34m=\u001b[0m\u001b[0mlimit\u001b[0m\u001b[0;34m,\u001b[0m \u001b[0mdatatype\u001b[0m\u001b[0;34m=\u001b[0m\u001b[0mdatatype\u001b[0m\u001b[0;34m,\u001b[0m \u001b[0mno_header\u001b[0m\u001b[0;34m=\u001b[0m\u001b[0mno_header\u001b[0m\u001b[0;34m,\u001b[0m\u001b[0;34m\u001b[0m\u001b[0;34m\u001b[0m\u001b[0m\n",
            "\u001b[0;32m/usr/local/lib/python3.10/dist-packages/gensim/models/keyedvectors.py\u001b[0m in \u001b[0;36m_load_word2vec_format\u001b[0;34m(cls, fname, fvocab, binary, encoding, unicode_errors, limit, datatype, no_header, binary_chunk_size)\u001b[0m\n\u001b[1;32m   2063\u001b[0m \u001b[0;34m\u001b[0m\u001b[0m\n\u001b[1;32m   2064\u001b[0m         \u001b[0;32mif\u001b[0m \u001b[0mbinary\u001b[0m\u001b[0;34m:\u001b[0m\u001b[0;34m\u001b[0m\u001b[0;34m\u001b[0m\u001b[0m\n\u001b[0;32m-> 2065\u001b[0;31m             _word2vec_read_binary(\n\u001b[0m\u001b[1;32m   2066\u001b[0m                 \u001b[0mfin\u001b[0m\u001b[0;34m,\u001b[0m \u001b[0mkv\u001b[0m\u001b[0;34m,\u001b[0m \u001b[0mcounts\u001b[0m\u001b[0;34m,\u001b[0m \u001b[0mvocab_size\u001b[0m\u001b[0;34m,\u001b[0m \u001b[0mvector_size\u001b[0m\u001b[0;34m,\u001b[0m \u001b[0mdatatype\u001b[0m\u001b[0;34m,\u001b[0m \u001b[0municode_errors\u001b[0m\u001b[0;34m,\u001b[0m \u001b[0mbinary_chunk_size\u001b[0m\u001b[0;34m,\u001b[0m \u001b[0mencoding\u001b[0m\u001b[0;34m\u001b[0m\u001b[0;34m\u001b[0m\u001b[0m\n\u001b[1;32m   2067\u001b[0m             )\n",
            "\u001b[0;32m/usr/local/lib/python3.10/dist-packages/gensim/models/keyedvectors.py\u001b[0m in \u001b[0;36m_word2vec_read_binary\u001b[0;34m(fin, kv, counts, vocab_size, vector_size, datatype, unicode_errors, binary_chunk_size, encoding)\u001b[0m\n\u001b[1;32m   1958\u001b[0m         \u001b[0mnew_chunk\u001b[0m \u001b[0;34m=\u001b[0m \u001b[0mfin\u001b[0m\u001b[0;34m.\u001b[0m\u001b[0mread\u001b[0m\u001b[0;34m(\u001b[0m\u001b[0mbinary_chunk_size\u001b[0m\u001b[0;34m)\u001b[0m\u001b[0;34m\u001b[0m\u001b[0;34m\u001b[0m\u001b[0m\n\u001b[1;32m   1959\u001b[0m         \u001b[0mchunk\u001b[0m \u001b[0;34m+=\u001b[0m \u001b[0mnew_chunk\u001b[0m\u001b[0;34m\u001b[0m\u001b[0;34m\u001b[0m\u001b[0m\n\u001b[0;32m-> 1960\u001b[0;31m         processed_words, chunk = _add_bytes_to_kv(\n\u001b[0m\u001b[1;32m   1961\u001b[0m             kv, counts, chunk, vocab_size, vector_size, datatype, unicode_errors, encoding)\n\u001b[1;32m   1962\u001b[0m         \u001b[0mtot_processed_words\u001b[0m \u001b[0;34m+=\u001b[0m \u001b[0mprocessed_words\u001b[0m\u001b[0;34m\u001b[0m\u001b[0;34m\u001b[0m\u001b[0m\n",
            "\u001b[0;32m/usr/local/lib/python3.10/dist-packages/gensim/models/keyedvectors.py\u001b[0m in \u001b[0;36m_add_bytes_to_kv\u001b[0;34m(kv, counts, chunk, vocab_size, vector_size, datatype, unicode_errors, encoding)\u001b[0m\n\u001b[1;32m   1941\u001b[0m         \u001b[0mword\u001b[0m \u001b[0;34m=\u001b[0m \u001b[0mword\u001b[0m\u001b[0;34m.\u001b[0m\u001b[0mlstrip\u001b[0m\u001b[0;34m(\u001b[0m\u001b[0;34m'\\n'\u001b[0m\u001b[0;34m)\u001b[0m\u001b[0;34m\u001b[0m\u001b[0;34m\u001b[0m\u001b[0m\n\u001b[1;32m   1942\u001b[0m         \u001b[0mvector\u001b[0m \u001b[0;34m=\u001b[0m \u001b[0mfrombuffer\u001b[0m\u001b[0;34m(\u001b[0m\u001b[0mchunk\u001b[0m\u001b[0;34m,\u001b[0m \u001b[0moffset\u001b[0m\u001b[0;34m=\u001b[0m\u001b[0mi_vector\u001b[0m\u001b[0;34m,\u001b[0m \u001b[0mcount\u001b[0m\u001b[0;34m=\u001b[0m\u001b[0mvector_size\u001b[0m\u001b[0;34m,\u001b[0m \u001b[0mdtype\u001b[0m\u001b[0;34m=\u001b[0m\u001b[0mREAL\u001b[0m\u001b[0;34m)\u001b[0m\u001b[0;34m.\u001b[0m\u001b[0mastype\u001b[0m\u001b[0;34m(\u001b[0m\u001b[0mdatatype\u001b[0m\u001b[0;34m)\u001b[0m\u001b[0;34m\u001b[0m\u001b[0;34m\u001b[0m\u001b[0m\n\u001b[0;32m-> 1943\u001b[0;31m         \u001b[0m_add_word_to_kv\u001b[0m\u001b[0;34m(\u001b[0m\u001b[0mkv\u001b[0m\u001b[0;34m,\u001b[0m \u001b[0mcounts\u001b[0m\u001b[0;34m,\u001b[0m \u001b[0mword\u001b[0m\u001b[0;34m,\u001b[0m \u001b[0mvector\u001b[0m\u001b[0;34m,\u001b[0m \u001b[0mvocab_size\u001b[0m\u001b[0;34m)\u001b[0m\u001b[0;34m\u001b[0m\u001b[0;34m\u001b[0m\u001b[0m\n\u001b[0m\u001b[1;32m   1944\u001b[0m         \u001b[0mstart\u001b[0m \u001b[0;34m=\u001b[0m \u001b[0mi_vector\u001b[0m \u001b[0;34m+\u001b[0m \u001b[0mbytes_per_vector\u001b[0m\u001b[0;34m\u001b[0m\u001b[0;34m\u001b[0m\u001b[0m\n\u001b[1;32m   1945\u001b[0m         \u001b[0mprocessed_words\u001b[0m \u001b[0;34m+=\u001b[0m \u001b[0;36m1\u001b[0m\u001b[0;34m\u001b[0m\u001b[0;34m\u001b[0m\u001b[0m\n",
            "\u001b[0;32m/usr/local/lib/python3.10/dist-packages/gensim/models/keyedvectors.py\u001b[0m in \u001b[0;36m_add_word_to_kv\u001b[0;34m(kv, counts, word, weights, vocab_size)\u001b[0m\n\u001b[1;32m   1904\u001b[0m \u001b[0;31m# Functions for internal use by _load_word2vec_format function\u001b[0m\u001b[0;34m\u001b[0m\u001b[0;34m\u001b[0m\u001b[0m\n\u001b[1;32m   1905\u001b[0m \u001b[0;34m\u001b[0m\u001b[0m\n\u001b[0;32m-> 1906\u001b[0;31m \u001b[0;32mdef\u001b[0m \u001b[0m_add_word_to_kv\u001b[0m\u001b[0;34m(\u001b[0m\u001b[0mkv\u001b[0m\u001b[0;34m,\u001b[0m \u001b[0mcounts\u001b[0m\u001b[0;34m,\u001b[0m \u001b[0mword\u001b[0m\u001b[0;34m,\u001b[0m \u001b[0mweights\u001b[0m\u001b[0;34m,\u001b[0m \u001b[0mvocab_size\u001b[0m\u001b[0;34m)\u001b[0m\u001b[0;34m:\u001b[0m\u001b[0;34m\u001b[0m\u001b[0;34m\u001b[0m\u001b[0m\n\u001b[0m\u001b[1;32m   1907\u001b[0m \u001b[0;34m\u001b[0m\u001b[0m\n\u001b[1;32m   1908\u001b[0m     \u001b[0;32mif\u001b[0m \u001b[0mkv\u001b[0m\u001b[0;34m.\u001b[0m\u001b[0mhas_index_for\u001b[0m\u001b[0;34m(\u001b[0m\u001b[0mword\u001b[0m\u001b[0;34m)\u001b[0m\u001b[0;34m:\u001b[0m\u001b[0;34m\u001b[0m\u001b[0;34m\u001b[0m\u001b[0m\n",
            "\u001b[0;31mKeyboardInterrupt\u001b[0m: "
          ]
        }
      ]
    },
    {
      "cell_type": "markdown",
      "source": [
        "2 - Leer los datos"
      ],
      "metadata": {
        "id": "4iCbEdg0WGOX"
      }
    },
    {
      "cell_type": "code",
      "source": [
        "import zipfile\n",
        "\n",
        "# Nombre del archivo ZIP ya cargado\n",
        "zip_path = \"/content/Sarcasm_Headlines_Dataset_v2.zip\"\n",
        "\n",
        "# Listar y extraer los archivos\n",
        "with zipfile.ZipFile(zip_path, 'r') as zip_ref:\n",
        "    # Lista los archivos dentro del ZIP\n",
        "    archivos = zip_ref.namelist()\n",
        "    print(\"Archivos en el ZIP:\", archivos)\n",
        "\n",
        "    # Extraer todos los archivos en el directorio actual\n",
        "    zip_ref.extractall()\n",
        "    print(\"Archivos extraídos en el directorio actual.\")\n"
      ],
      "metadata": {
        "id": "7o08gspgVe9E"
      },
      "execution_count": null,
      "outputs": []
    },
    {
      "cell_type": "code",
      "source": [
        "def parse_data(file):\n",
        "    for l in open(file,'r'):\n",
        "        yield json.loads(l)"
      ],
      "metadata": {
        "id": "bEPUBbDDIDTh"
      },
      "execution_count": null,
      "outputs": []
    },
    {
      "cell_type": "code",
      "source": [
        "data = list(parse_data('/content/Sarcasm_Headlines_Dataset_v2.json'))\n"
      ],
      "metadata": {
        "id": "kOFQ4xuKVrE5"
      },
      "execution_count": null,
      "outputs": []
    },
    {
      "cell_type": "markdown",
      "source": [
        "3 - Entender la data"
      ],
      "metadata": {
        "id": "Sud9IvxPWUdD"
      }
    },
    {
      "cell_type": "markdown",
      "source": [
        "La salida anterior muestra cinco filas de los datos. Nuestros datos constan de tres columnas:\n",
        "\n",
        "**headline** que contiene texto sarcástico y no sarcástico.\n",
        "**is_sarcastic**, que es la variable de clase. Nos indica si un titular es sarcástico o no.\n",
        "**article_link**, que contiene el enlace al artículo original del titular.\n",
        "\n"
      ],
      "metadata": {
        "id": "6U1MNWFTWinu"
      }
    },
    {
      "cell_type": "code",
      "source": [
        "df= pd.DataFrame(data)"
      ],
      "metadata": {
        "id": "e-a5GLpZWiYd"
      },
      "execution_count": null,
      "outputs": []
    },
    {
      "cell_type": "code",
      "source": [
        "\n"
      ],
      "metadata": {
        "id": "D3YqJnquVxwU"
      },
      "execution_count": null,
      "outputs": []
    },
    {
      "cell_type": "markdown",
      "source": [
        "4 - Limpiemos y preprocesemos nuestros datos utilizando la misma pipeline que hemos utilizado a lo largo de este libro. Los detalles se pueden encontrar en el Capítulo 3, Construyendo tu Vocabulario NLP. Aquí, realizamos lo siguiente:\n",
        "\n",
        "* Eliminar caracteres especiales.\n",
        "* Mantener solo datos alfanuméricos.\n",
        "* Eliminar stopwords\n",
        "* Lematizar nuestros datos\n",
        "* 4Realizar case-folding en los datos:"
      ],
      "metadata": {
        "id": "T47ImAU8XH9b"
      }
    },
    {
      "cell_type": "code",
      "source": [
        "def text_clean(corpus):\n",
        "    '''\n",
        "    Purpose : Function to keep only alphabets, digits and certain words (punctuations, qmarks, tabs etc. removed)\n",
        "\n",
        "    Input : Takes a text corpus, 'corpus' to be cleaned along with a list of words, 'keep_list', which have to be retained\n",
        "            even after the cleaning process\n",
        "\n",
        "    Output : Returns the cleaned text corpus\n",
        "\n",
        "    '''\n",
        "    cleaned_corpus = pd.Series()\n",
        "    for row in corpus:\n",
        "        qs = []\n",
        "        for word in row.split():\n",
        "            p1 = re.sub(pattern='[^a-zA-Z0-9]',repl=' ',string=word)\n",
        "            p1 = p1.lower()\n",
        "            qs.append(p1)\n",
        "        #cleaned_corpus = cleaned_corpus.append(pd.Series(' '.join(qs)))\n",
        "        cleaned_corpus = pd.concat([cleaned_corpus,pd.Series(' '.join(qs))])\n",
        "    return cleaned_corpus\n"
      ],
      "metadata": {
        "id": "3MKPwAcmXkvI"
      },
      "execution_count": null,
      "outputs": []
    },
    {
      "cell_type": "code",
      "source": [
        "def stopwords_removal(corpus):\n",
        "    stop = set(stopwords.words('english'))\n",
        "    corpus = [[x for x in x.split() if x not in stop] for x in corpus]\n",
        "    return corpus"
      ],
      "metadata": {
        "id": "Fmt0KSzBW6NQ"
      },
      "execution_count": null,
      "outputs": []
    },
    {
      "cell_type": "code",
      "source": [
        "def lemmatize(corpus):\n",
        "    lem = WordNetLemmatizer()\n",
        "    corpus = [[lem.lemmatize(x, pos = 'v') for x in x] for x in corpus]\n",
        "    return corpus"
      ],
      "metadata": {
        "id": "dK5jNwr7Xpz2"
      },
      "execution_count": null,
      "outputs": []
    },
    {
      "cell_type": "code",
      "source": [
        "def stem(corpus, stem_type = None):\n",
        "    if stem_type == 'snowball':\n",
        "        stemmer = SnowballStemmer(language = 'english')\n",
        "        corpus = [[stemmer.stem(x) for x in x] for x in corpus]\n",
        "    else :\n",
        "        stemmer = PorterStemmer()\n",
        "        corpus = [[stemmer.stem(x) for x in x] for x in corpus]\n",
        "    return corpus"
      ],
      "metadata": {
        "id": "LzaQg_Qdcqd3"
      },
      "execution_count": null,
      "outputs": []
    },
    {
      "cell_type": "code",
      "source": [
        "def preprocess(corpus, cleaning = True, stemming = False, stem_type = None, lemmatization = False, remove_stopwords = True):\n",
        "\n",
        "    '''\n",
        "    Purpose : Function to perform all pre-processing tasks (cleaning, stemming, lemmatization, stopwords removal etc.)\n",
        "\n",
        "    Input :\n",
        "    'corpus' - Text corpus on which pre-processing tasks will be performed\n",
        "\n",
        "    'cleaning', 'stemming', 'lemmatization', 'remove_stopwords' - Boolean variables indicating whether a particular task should\n",
        "                                                                  be performed or not\n",
        "    'stem_type' - Choose between Porter stemmer or Snowball(Porter2) stemmer. Default is \"None\", which corresponds to Porter\n",
        "                  Stemmer. 'snowball' corresponds to Snowball Stemmer\n",
        "\n",
        "    Note : Either stemming or lemmatization should be used. There's no benefit of using both of them together\n",
        "\n",
        "    Output : Returns the processed text corpus\n",
        "\n",
        "    '''\n",
        "    if cleaning == True:\n",
        "        corpus = text_clean(corpus)\n",
        "\n",
        "    if remove_stopwords == True:\n",
        "        corpus = stopwords_removal(corpus)\n",
        "    else :\n",
        "        corpus = [[x for x in x.split()] for x in corpus]\n",
        "\n",
        "    if lemmatization == True:\n",
        "        corpus = lemmatize(corpus)\n",
        "\n",
        "\n",
        "    if stemming == True:\n",
        "        corpus = stem(corpus, stem_type)\n",
        "\n",
        "    corpus = [' '.join(x) for x in corpus]\n",
        "\n",
        "\n",
        "    return corpus"
      ],
      "metadata": {
        "id": "7_gwYML5ctMy"
      },
      "execution_count": null,
      "outputs": []
    },
    {
      "cell_type": "code",
      "source": [
        "head_lines= preprocess(df['headline'], lemmatization = True, remove_stopwords = False)"
      ],
      "metadata": {
        "id": "RwgYx5LLxIZD"
      },
      "execution_count": null,
      "outputs": []
    },
    {
      "cell_type": "markdown",
      "source": [
        "5 ## Cargando el modelo Word2Vec y vectorizando nuestros datos\n",
        "\n",
        "\n",
        "Primero, convertiremos el texto en números utilizando una técnica de embedding que ya hemos discutido.\n",
        "Usamos Word2Vec para obtener las representaciones vectoriales de nuestros datos. Para esto, utilizaremos el modelo Word2Vec preentrenado."
      ],
      "metadata": {
        "id": "kFb2cMbmeXFx"
      }
    },
    {
      "cell_type": "code",
      "source": [
        "#!wget -c \"https://s3.amazonaws.com/dl4j-distribution/GoogleNews-vectors-negative300.bin.gz\"\n",
        "#!gunzip GoogleNews-vectors-negative300.bin.gz"
      ],
      "metadata": {
        "id": "Q2ODrB3ZeuJB"
      },
      "execution_count": null,
      "outputs": []
    },
    {
      "cell_type": "code",
      "source": [
        "\n",
        "# Continue with loading the model:\n",
        "#import gensim.downloader as api\n",
        "#model = api.load('word2vec-google-news-300')\n",
        "#model = KeyedVectors.load_word2vec_format('GoogleNews-vectors-negative300.bin', binary=True)"
      ],
      "metadata": {
        "id": "43KU4yvDer0l"
      },
      "execution_count": null,
      "outputs": []
    },
    {
      "cell_type": "markdown",
      "source": [
        "6 - En los próximos pasos, estaremos enviando los vectores de palabras, cada uno de tamaño 300, a nuestro modelo CNN. Sin embargo, para eso, las dimensiones de nuestros datos deben ser estandarizadas. Dado que nuestros datos provienen de titulares, los estandarizaremos para que tengan una longitud de 10. Si alguno de los titulares contiene más de 10 caracteres, se realizarán subsampling para mantener las representaciones vectoriales de los primeros 10 caracteres. Si algún titular contiene menos de 10 caracteres, los rellenaremos con ceros para que tengan vectores con valores de 0."
      ],
      "metadata": {
        "id": "xKEQLSM1fPCh"
      }
    },
    {
      "cell_type": "code",
      "source": [
        "MAX_LEN =10\n",
        "VECTOR_SIZE=300"
      ],
      "metadata": {
        "id": "2YE42RMPehOl"
      },
      "execution_count": null,
      "outputs": []
    },
    {
      "cell_type": "markdown",
      "source": [
        "7 - Ahora, definamos un fragmento de código que convertirá los titulares preprocesados en sus respectivos vectores y también rellenará o realizará subsampling de los datos según si el tamaño de los datos es mayor o menor que la longitud máxima que hemos definido:"
      ],
      "metadata": {
        "id": "gBdxgvLCfg05"
      }
    },
    {
      "cell_type": "code",
      "source": [
        "def vectorize_data(data):\n",
        "    vectors = []\n",
        "    padding_vector = [0.0]*VECTOR_SIZE # rellenar con ceros\n",
        "\n",
        "    for i, data_point in enumerate(data):\n",
        "      data_point_vectors = [] #lista vacia\n",
        "      count= 0 #contando desde cero\n",
        "      tokens = data_point.split()\n",
        "      for token in tokens:\n",
        "        if count >= MAX_LEN:\n",
        "          break\n",
        "        if token in model:\n",
        "          data_point_vectors.append(model[token]) #si la palabra está en el modelo saca la posición en el modelo\n",
        "          count += 1\n",
        "\n",
        "      if len(data_point_vectors) < MAX_LEN: # si la longitud es menor rellena de ceros\n",
        "         to_fill = MAX_LEN - len(data_point_vectors)\n",
        "         for _ in range(to_fill):\n",
        "           data_point_vectors.append(padding_vector)\n",
        "\n",
        "      vectors.append(data_point_vectors)\n",
        "\n",
        "    return vectors\n"
      ],
      "metadata": {
        "id": "Sbdyf2SSUb0r"
      },
      "execution_count": null,
      "outputs": []
    },
    {
      "cell_type": "code",
      "source": [
        "vectorized_headlines = vectorize_data(head_lines)"
      ],
      "metadata": {
        "id": "Qo0NhOTUf9Lt",
        "colab": {
          "base_uri": "https://localhost:8080/",
          "height": 263
        },
        "outputId": "50e54938-8a6b-4ab9-f239-2c4a03a32a0e"
      },
      "execution_count": null,
      "outputs": [
        {
          "output_type": "error",
          "ename": "TypeError",
          "evalue": "argument of type 'Sequential' is not iterable",
          "traceback": [
            "\u001b[0;31m---------------------------------------------------------------------------\u001b[0m",
            "\u001b[0;31mTypeError\u001b[0m                                 Traceback (most recent call last)",
            "\u001b[0;32m<ipython-input-256-85afbd0b816e>\u001b[0m in \u001b[0;36m<cell line: 1>\u001b[0;34m()\u001b[0m\n\u001b[0;32m----> 1\u001b[0;31m \u001b[0mvectorized_headlines\u001b[0m \u001b[0;34m=\u001b[0m \u001b[0mvectorize_data\u001b[0m\u001b[0;34m(\u001b[0m\u001b[0mhead_lines\u001b[0m\u001b[0;34m)\u001b[0m\u001b[0;34m\u001b[0m\u001b[0;34m\u001b[0m\u001b[0m\n\u001b[0m",
            "\u001b[0;32m<ipython-input-255-1a3fb1f2913a>\u001b[0m in \u001b[0;36mvectorize_data\u001b[0;34m(data)\u001b[0m\n\u001b[1;32m     10\u001b[0m         \u001b[0;32mif\u001b[0m \u001b[0mcount\u001b[0m \u001b[0;34m>=\u001b[0m \u001b[0mMAX_LEN\u001b[0m\u001b[0;34m:\u001b[0m\u001b[0;34m\u001b[0m\u001b[0;34m\u001b[0m\u001b[0m\n\u001b[1;32m     11\u001b[0m           \u001b[0;32mbreak\u001b[0m\u001b[0;34m\u001b[0m\u001b[0;34m\u001b[0m\u001b[0m\n\u001b[0;32m---> 12\u001b[0;31m         \u001b[0;32mif\u001b[0m \u001b[0mtoken\u001b[0m \u001b[0;32min\u001b[0m \u001b[0mmodel\u001b[0m\u001b[0;34m:\u001b[0m\u001b[0;34m\u001b[0m\u001b[0;34m\u001b[0m\u001b[0m\n\u001b[0m\u001b[1;32m     13\u001b[0m           \u001b[0mdata_point_vectors\u001b[0m\u001b[0;34m.\u001b[0m\u001b[0mappend\u001b[0m\u001b[0;34m(\u001b[0m\u001b[0mmodel\u001b[0m\u001b[0;34m[\u001b[0m\u001b[0mtoken\u001b[0m\u001b[0;34m]\u001b[0m\u001b[0;34m)\u001b[0m \u001b[0;31m#si la palabra está en el modelo saca la posición en el modelo\u001b[0m\u001b[0;34m\u001b[0m\u001b[0;34m\u001b[0m\u001b[0m\n\u001b[1;32m     14\u001b[0m           \u001b[0mcount\u001b[0m \u001b[0;34m+=\u001b[0m \u001b[0;36m1\u001b[0m\u001b[0;34m\u001b[0m\u001b[0;34m\u001b[0m\u001b[0m\n",
            "\u001b[0;31mTypeError\u001b[0m: argument of type 'Sequential' is not iterable"
          ]
        }
      ]
    },
    {
      "cell_type": "markdown",
      "source": [
        "8 - Agreguemos una pequeña validación para asegurar que los 10 vectores estén presentes para cada titular, tal como se define en el parámetro MAX_LENGTH"
      ],
      "metadata": {
        "id": "KO2wGG0gfyQN"
      }
    },
    {
      "cell_type": "markdown",
      "source": [
        "Debemos dividir nuestros datos en conjuntos de entrenamiento y prueba. Usaremos el siguiente fragmento de código para hacerlo. También podemos verificar el tamaño de cada componente utilizando una simple instrucción print"
      ],
      "metadata": {
        "id": "pAdsaAPBU_hr"
      }
    },
    {
      "cell_type": "code",
      "source": [
        "train_div = math.floor(0.7 * len(vectorized_headlines))\n"
      ],
      "metadata": {
        "id": "rqA8Qqs4yEKz"
      },
      "execution_count": null,
      "outputs": []
    },
    {
      "cell_type": "code",
      "source": [
        "train_div"
      ],
      "metadata": {
        "colab": {
          "base_uri": "https://localhost:8080/"
        },
        "id": "-eIUfAXYyUOy",
        "outputId": "912dadad-646e-4e57-f875-738f54df2b4a"
      },
      "execution_count": null,
      "outputs": [
        {
          "output_type": "execute_result",
          "data": {
            "text/plain": [
              "20033"
            ]
          },
          "metadata": {},
          "execution_count": 233
        }
      ]
    },
    {
      "cell_type": "code",
      "source": [
        "X_train = vectorized_headlines[:train_div]\n",
        "X_test = vectorized_headlines[train_div:]\n",
        "y_train = df['is_sarcastic'][:train_div]\n",
        "y_test = df['is_sarcastic'][train_div:]"
      ],
      "metadata": {
        "id": "hvSlK_W_ylez"
      },
      "execution_count": null,
      "outputs": []
    },
    {
      "cell_type": "code",
      "source": [
        "X_train = np.reshape(X_train, (len(X_train), MAX_LEN, VECTOR_SIZE))\n",
        "X_test = np.reshape(X_test, (len(X_test), MAX_LEN, VECTOR_SIZE))\n",
        "y_train = np.array(y_train)\n",
        "y_test = np.array(y_test)"
      ],
      "metadata": {
        "id": "eXiFJdOr1abC"
      },
      "execution_count": null,
      "outputs": []
    },
    {
      "cell_type": "markdown",
      "source": [
        "Necesitamos reestructurar nuestros datos para convertirlos en la forma esperada por nuestro modelo CNN."
      ],
      "metadata": {
        "id": "BTrC6awoWIS7"
      }
    },
    {
      "cell_type": "markdown",
      "source": [
        "## Construcción del modelo CNN\n",
        "\n",
        "Ahora que tenemos nuestros datos vectorizados listos, pasemos a la parte de la red neuronal convolucional (CNN). Comenzamos definiendo los hiperparámetros de nuestra red:"
      ],
      "metadata": {
        "id": "Xj9V8IAyWamI"
      }
    },
    {
      "cell_type": "code",
      "source": [
        "FILTERS=8\n",
        "KERNEL_SIZE=3\n",
        "HIDDEN_LAYER_1_NODES=10\n",
        "HIDDEN_LAYER_2_NODES=5\n",
        "DROPOUT_PROB=0.35\n",
        "NUM_EPOCHS=10\n",
        "BATCH_SIZE=50"
      ],
      "metadata": {
        "id": "7gfR2WjYWdF9"
      },
      "execution_count": null,
      "outputs": []
    },
    {
      "cell_type": "markdown",
      "source": [
        "\n",
        "\n",
        "## Hemos especificado los siguientes hiperparámetros:\n",
        "\n",
        "* El número de filtros.\n",
        "* El tamaño del kernel, que indica la cantidad de tokens en el texto que analizaremos.\n",
        "* El número de nodos que se usarán en cada una de las capas ocultas.\n",
        "* El dropout, que indica el porcentaje de nodos que se desactivarán de forma aleatoria.\n",
        "* El número de épocas o la cantidad de veces que procesaremos todos los datos.\n",
        "* El tamaño del lote (batch size), que especifica la cantidad de titulares vectorizados que se ingresarán al modelo en cada lote.\n",
        "\n",
        "Ahora, definamos nuestra capa convolucional"
      ],
      "metadata": {
        "id": "Dvu0jrx2W73s"
      }
    },
    {
      "cell_type": "code",
      "source": [
        "model = Sequential()\n",
        "\n",
        "model.add(Conv1D(FILTERS,\n",
        "                 KERNEL_SIZE,\n",
        "                 padding='same',\n",
        "                 strides=1,\n",
        "                 activation='relu',\n",
        "                 input_shape = (MAX_LEN, VECTOR_SIZE)))\n",
        "model.add(GlobalMaxPooling1D())\n",
        "model.add(Dense(HIDDEN_LAYER_1_NODES, activation='relu'))\n",
        "model.add(Dropout(DROPOUT_PROB))\n",
        "model.add(Dense(HIDDEN_LAYER_2_NODES, activation='relu'))\n",
        "model.add(Dropout(DROPOUT_PROB))\n",
        "model.add(Dense(1, activation='sigmoid'))\n",
        "print(model.summary())"
      ],
      "metadata": {
        "id": "L0xYeF8HXvAN",
        "colab": {
          "base_uri": "https://localhost:8080/",
          "height": 463
        },
        "outputId": "afa08ca3-2edf-42c1-f4be-6c3238f5a79a"
      },
      "execution_count": null,
      "outputs": [
        {
          "output_type": "stream",
          "name": "stderr",
          "text": [
            "/usr/local/lib/python3.10/dist-packages/keras/src/layers/convolutional/base_conv.py:107: UserWarning: Do not pass an `input_shape`/`input_dim` argument to a layer. When using Sequential models, prefer using an `Input(shape)` object as the first layer in the model instead.\n",
            "  super().__init__(activity_regularizer=activity_regularizer, **kwargs)\n"
          ]
        },
        {
          "output_type": "display_data",
          "data": {
            "text/plain": [
              "\u001b[1mModel: \"sequential_3\"\u001b[0m\n"
            ],
            "text/html": [
              "<pre style=\"white-space:pre;overflow-x:auto;line-height:normal;font-family:Menlo,'DejaVu Sans Mono',consolas,'Courier New',monospace\"><span style=\"font-weight: bold\">Model: \"sequential_3\"</span>\n",
              "</pre>\n"
            ]
          },
          "metadata": {}
        },
        {
          "output_type": "display_data",
          "data": {
            "text/plain": [
              "┏━━━━━━━━━━━━━━━━━━━━━━━━━━━━━━━━━━━━━━┳━━━━━━━━━━━━━━━━━━━━━━━━━━━━━┳━━━━━━━━━━━━━━━━━┓\n",
              "┃\u001b[1m \u001b[0m\u001b[1mLayer (type)                        \u001b[0m\u001b[1m \u001b[0m┃\u001b[1m \u001b[0m\u001b[1mOutput Shape               \u001b[0m\u001b[1m \u001b[0m┃\u001b[1m \u001b[0m\u001b[1m        Param #\u001b[0m\u001b[1m \u001b[0m┃\n",
              "┡━━━━━━━━━━━━━━━━━━━━━━━━━━━━━━━━━━━━━━╇━━━━━━━━━━━━━━━━━━━━━━━━━━━━━╇━━━━━━━━━━━━━━━━━┩\n",
              "│ conv1d_2 (\u001b[38;5;33mConv1D\u001b[0m)                    │ (\u001b[38;5;45mNone\u001b[0m, \u001b[38;5;34m10\u001b[0m, \u001b[38;5;34m8\u001b[0m)               │           \u001b[38;5;34m7,208\u001b[0m │\n",
              "├──────────────────────────────────────┼─────────────────────────────┼─────────────────┤\n",
              "│ global_max_pooling1d_2               │ (\u001b[38;5;45mNone\u001b[0m, \u001b[38;5;34m8\u001b[0m)                   │               \u001b[38;5;34m0\u001b[0m │\n",
              "│ (\u001b[38;5;33mGlobalMaxPooling1D\u001b[0m)                 │                             │                 │\n",
              "├──────────────────────────────────────┼─────────────────────────────┼─────────────────┤\n",
              "│ dense_6 (\u001b[38;5;33mDense\u001b[0m)                      │ (\u001b[38;5;45mNone\u001b[0m, \u001b[38;5;34m10\u001b[0m)                  │              \u001b[38;5;34m90\u001b[0m │\n",
              "├──────────────────────────────────────┼─────────────────────────────┼─────────────────┤\n",
              "│ dropout_4 (\u001b[38;5;33mDropout\u001b[0m)                  │ (\u001b[38;5;45mNone\u001b[0m, \u001b[38;5;34m10\u001b[0m)                  │               \u001b[38;5;34m0\u001b[0m │\n",
              "├──────────────────────────────────────┼─────────────────────────────┼─────────────────┤\n",
              "│ dense_7 (\u001b[38;5;33mDense\u001b[0m)                      │ (\u001b[38;5;45mNone\u001b[0m, \u001b[38;5;34m5\u001b[0m)                   │              \u001b[38;5;34m55\u001b[0m │\n",
              "├──────────────────────────────────────┼─────────────────────────────┼─────────────────┤\n",
              "│ dropout_5 (\u001b[38;5;33mDropout\u001b[0m)                  │ (\u001b[38;5;45mNone\u001b[0m, \u001b[38;5;34m5\u001b[0m)                   │               \u001b[38;5;34m0\u001b[0m │\n",
              "├──────────────────────────────────────┼─────────────────────────────┼─────────────────┤\n",
              "│ dense_8 (\u001b[38;5;33mDense\u001b[0m)                      │ (\u001b[38;5;45mNone\u001b[0m, \u001b[38;5;34m1\u001b[0m)                   │               \u001b[38;5;34m6\u001b[0m │\n",
              "└──────────────────────────────────────┴─────────────────────────────┴─────────────────┘\n"
            ],
            "text/html": [
              "<pre style=\"white-space:pre;overflow-x:auto;line-height:normal;font-family:Menlo,'DejaVu Sans Mono',consolas,'Courier New',monospace\">┏━━━━━━━━━━━━━━━━━━━━━━━━━━━━━━━━━━━━━━┳━━━━━━━━━━━━━━━━━━━━━━━━━━━━━┳━━━━━━━━━━━━━━━━━┓\n",
              "┃<span style=\"font-weight: bold\"> Layer (type)                         </span>┃<span style=\"font-weight: bold\"> Output Shape                </span>┃<span style=\"font-weight: bold\">         Param # </span>┃\n",
              "┡━━━━━━━━━━━━━━━━━━━━━━━━━━━━━━━━━━━━━━╇━━━━━━━━━━━━━━━━━━━━━━━━━━━━━╇━━━━━━━━━━━━━━━━━┩\n",
              "│ conv1d_2 (<span style=\"color: #0087ff; text-decoration-color: #0087ff\">Conv1D</span>)                    │ (<span style=\"color: #00d7ff; text-decoration-color: #00d7ff\">None</span>, <span style=\"color: #00af00; text-decoration-color: #00af00\">10</span>, <span style=\"color: #00af00; text-decoration-color: #00af00\">8</span>)               │           <span style=\"color: #00af00; text-decoration-color: #00af00\">7,208</span> │\n",
              "├──────────────────────────────────────┼─────────────────────────────┼─────────────────┤\n",
              "│ global_max_pooling1d_2               │ (<span style=\"color: #00d7ff; text-decoration-color: #00d7ff\">None</span>, <span style=\"color: #00af00; text-decoration-color: #00af00\">8</span>)                   │               <span style=\"color: #00af00; text-decoration-color: #00af00\">0</span> │\n",
              "│ (<span style=\"color: #0087ff; text-decoration-color: #0087ff\">GlobalMaxPooling1D</span>)                 │                             │                 │\n",
              "├──────────────────────────────────────┼─────────────────────────────┼─────────────────┤\n",
              "│ dense_6 (<span style=\"color: #0087ff; text-decoration-color: #0087ff\">Dense</span>)                      │ (<span style=\"color: #00d7ff; text-decoration-color: #00d7ff\">None</span>, <span style=\"color: #00af00; text-decoration-color: #00af00\">10</span>)                  │              <span style=\"color: #00af00; text-decoration-color: #00af00\">90</span> │\n",
              "├──────────────────────────────────────┼─────────────────────────────┼─────────────────┤\n",
              "│ dropout_4 (<span style=\"color: #0087ff; text-decoration-color: #0087ff\">Dropout</span>)                  │ (<span style=\"color: #00d7ff; text-decoration-color: #00d7ff\">None</span>, <span style=\"color: #00af00; text-decoration-color: #00af00\">10</span>)                  │               <span style=\"color: #00af00; text-decoration-color: #00af00\">0</span> │\n",
              "├──────────────────────────────────────┼─────────────────────────────┼─────────────────┤\n",
              "│ dense_7 (<span style=\"color: #0087ff; text-decoration-color: #0087ff\">Dense</span>)                      │ (<span style=\"color: #00d7ff; text-decoration-color: #00d7ff\">None</span>, <span style=\"color: #00af00; text-decoration-color: #00af00\">5</span>)                   │              <span style=\"color: #00af00; text-decoration-color: #00af00\">55</span> │\n",
              "├──────────────────────────────────────┼─────────────────────────────┼─────────────────┤\n",
              "│ dropout_5 (<span style=\"color: #0087ff; text-decoration-color: #0087ff\">Dropout</span>)                  │ (<span style=\"color: #00d7ff; text-decoration-color: #00d7ff\">None</span>, <span style=\"color: #00af00; text-decoration-color: #00af00\">5</span>)                   │               <span style=\"color: #00af00; text-decoration-color: #00af00\">0</span> │\n",
              "├──────────────────────────────────────┼─────────────────────────────┼─────────────────┤\n",
              "│ dense_8 (<span style=\"color: #0087ff; text-decoration-color: #0087ff\">Dense</span>)                      │ (<span style=\"color: #00d7ff; text-decoration-color: #00d7ff\">None</span>, <span style=\"color: #00af00; text-decoration-color: #00af00\">1</span>)                   │               <span style=\"color: #00af00; text-decoration-color: #00af00\">6</span> │\n",
              "└──────────────────────────────────────┴─────────────────────────────┴─────────────────┘\n",
              "</pre>\n"
            ]
          },
          "metadata": {}
        },
        {
          "output_type": "display_data",
          "data": {
            "text/plain": [
              "\u001b[1m Total params: \u001b[0m\u001b[38;5;34m7,359\u001b[0m (28.75 KB)\n"
            ],
            "text/html": [
              "<pre style=\"white-space:pre;overflow-x:auto;line-height:normal;font-family:Menlo,'DejaVu Sans Mono',consolas,'Courier New',monospace\"><span style=\"font-weight: bold\"> Total params: </span><span style=\"color: #00af00; text-decoration-color: #00af00\">7,359</span> (28.75 KB)\n",
              "</pre>\n"
            ]
          },
          "metadata": {}
        },
        {
          "output_type": "display_data",
          "data": {
            "text/plain": [
              "\u001b[1m Trainable params: \u001b[0m\u001b[38;5;34m7,359\u001b[0m (28.75 KB)\n"
            ],
            "text/html": [
              "<pre style=\"white-space:pre;overflow-x:auto;line-height:normal;font-family:Menlo,'DejaVu Sans Mono',consolas,'Courier New',monospace\"><span style=\"font-weight: bold\"> Trainable params: </span><span style=\"color: #00af00; text-decoration-color: #00af00\">7,359</span> (28.75 KB)\n",
              "</pre>\n"
            ]
          },
          "metadata": {}
        },
        {
          "output_type": "display_data",
          "data": {
            "text/plain": [
              "\u001b[1m Non-trainable params: \u001b[0m\u001b[38;5;34m0\u001b[0m (0.00 B)\n"
            ],
            "text/html": [
              "<pre style=\"white-space:pre;overflow-x:auto;line-height:normal;font-family:Menlo,'DejaVu Sans Mono',consolas,'Courier New',monospace\"><span style=\"font-weight: bold\"> Non-trainable params: </span><span style=\"color: #00af00; text-decoration-color: #00af00\">0</span> (0.00 B)\n",
              "</pre>\n"
            ]
          },
          "metadata": {}
        },
        {
          "output_type": "stream",
          "name": "stdout",
          "text": [
            "None\n"
          ]
        }
      ]
    },
    {
      "cell_type": "code",
      "source": [
        "model.compile(loss='binary_crossentropy', optimizer='adam', metrics=['accuracy'])"
      ],
      "metadata": {
        "id": "Ukn-EJ5c223E"
      },
      "execution_count": null,
      "outputs": []
    },
    {
      "cell_type": "code",
      "source": [
        "training_history = model.fit(X_train, y_train, epochs=NUM_EPOCHS, batch_size=BATCH_SIZE)"
      ],
      "metadata": {
        "colab": {
          "base_uri": "https://localhost:8080/"
        },
        "id": "0wfP-_sy26Ir",
        "outputId": "3e1c9458-e506-45cb-e84b-34013fbeebfc"
      },
      "execution_count": null,
      "outputs": [
        {
          "output_type": "stream",
          "name": "stdout",
          "text": [
            "Epoch 1/10\n",
            "\u001b[1m401/401\u001b[0m \u001b[32m━━━━━━━━━━━━━━━━━━━━\u001b[0m\u001b[37m\u001b[0m \u001b[1m4s\u001b[0m 5ms/step - accuracy: 0.5350 - loss: 0.6816\n",
            "Epoch 2/10\n",
            "\u001b[1m401/401\u001b[0m \u001b[32m━━━━━━━━━━━━━━━━━━━━\u001b[0m\u001b[37m\u001b[0m \u001b[1m3s\u001b[0m 6ms/step - accuracy: 0.7173 - loss: 0.5743\n",
            "Epoch 3/10\n",
            "\u001b[1m401/401\u001b[0m \u001b[32m━━━━━━━━━━━━━━━━━━━━\u001b[0m\u001b[37m\u001b[0m \u001b[1m4s\u001b[0m 9ms/step - accuracy: 0.7702 - loss: 0.5040\n",
            "Epoch 4/10\n",
            "\u001b[1m401/401\u001b[0m \u001b[32m━━━━━━━━━━━━━━━━━━━━\u001b[0m\u001b[37m\u001b[0m \u001b[1m3s\u001b[0m 5ms/step - accuracy: 0.7982 - loss: 0.4506\n",
            "Epoch 5/10\n",
            "\u001b[1m401/401\u001b[0m \u001b[32m━━━━━━━━━━━━━━━━━━━━\u001b[0m\u001b[37m\u001b[0m \u001b[1m2s\u001b[0m 5ms/step - accuracy: 0.8140 - loss: 0.4331\n",
            "Epoch 6/10\n",
            "\u001b[1m401/401\u001b[0m \u001b[32m━━━━━━━━━━━━━━━━━━━━\u001b[0m\u001b[37m\u001b[0m \u001b[1m2s\u001b[0m 5ms/step - accuracy: 0.8272 - loss: 0.4084\n",
            "Epoch 7/10\n",
            "\u001b[1m401/401\u001b[0m \u001b[32m━━━━━━━━━━━━━━━━━━━━\u001b[0m\u001b[37m\u001b[0m \u001b[1m3s\u001b[0m 5ms/step - accuracy: 0.8347 - loss: 0.3952\n",
            "Epoch 8/10\n",
            "\u001b[1m401/401\u001b[0m \u001b[32m━━━━━━━━━━━━━━━━━━━━\u001b[0m\u001b[37m\u001b[0m \u001b[1m4s\u001b[0m 9ms/step - accuracy: 0.8547 - loss: 0.3682\n",
            "Epoch 9/10\n",
            "\u001b[1m401/401\u001b[0m \u001b[32m━━━━━━━━━━━━━━━━━━━━\u001b[0m\u001b[37m\u001b[0m \u001b[1m3s\u001b[0m 5ms/step - accuracy: 0.8597 - loss: 0.3534\n",
            "Epoch 10/10\n",
            "\u001b[1m401/401\u001b[0m \u001b[32m━━━━━━━━━━━━━━━━━━━━\u001b[0m\u001b[37m\u001b[0m \u001b[1m3s\u001b[0m 5ms/step - accuracy: 0.8684 - loss: 0.3403\n"
          ]
        }
      ]
    },
    {
      "cell_type": "code",
      "source": [
        "loss, accuracy = model.evaluate(X_test, y_test, verbose=False)\n",
        "print(\"Testing Accuracy:  {:.4f}\".format(accuracy))"
      ],
      "metadata": {
        "colab": {
          "base_uri": "https://localhost:8080/"
        },
        "id": "1drXqcA63HCt",
        "outputId": "a2ff05f2-2df6-407f-e0c2-95d83f1edc12"
      },
      "execution_count": null,
      "outputs": [
        {
          "output_type": "stream",
          "name": "stdout",
          "text": [
            "Testing Accuracy:  0.8077\n"
          ]
        }
      ]
    },
    {
      "cell_type": "code",
      "source": [
        "head_lines"
      ],
      "metadata": {
        "colab": {
          "base_uri": "https://localhost:8080/"
        },
        "id": "_JHuVmNV-Uak",
        "outputId": "defd43dd-ca46-4bc1-9f97-3875f8350b78"
      },
      "execution_count": null,
      "outputs": [
        {
          "output_type": "execute_result",
          "data": {
            "text/plain": [
              "['thirtysomething scientists unveil doomsday clock of hair loss',\n",
              " 'dem rep totally nail why congress be fall short on gender racial equality',\n",
              " 'eat your veggies 9 deliciously different recipes',\n",
              " 'inclement weather prevent liar from get to work',\n",
              " 'mother come pretty close to use word stream correctly',\n",
              " 'my white inheritance',\n",
              " '5 ways to file your tax with less stress',\n",
              " 'richard branson s global warm donation nearly as much as cost of fail balloon trip',\n",
              " 'shadow government get too large to meet in marriott conference room b',\n",
              " 'lot of parent know this scenario',\n",
              " 'this lesbian be consider a father in indiana and an amaze one at that',\n",
              " 'amanda peet tell her daughter sex be a special hug',\n",
              " 'what to know regard current treatments for ebola',\n",
              " 'chris christie suggest hillary clinton be to blame for boko haram s kidnap of hundreds of schoolgirls',\n",
              " 'ford develop new suv that run purely on gasoline',\n",
              " 'uber ceo travis kalanick step down from trump economic advisory council',\n",
              " 'area boy enter jump and touch top of doorways phase',\n",
              " 'area man do most of his travel by gurney',\n",
              " 'leave no person with disabilities behind',\n",
              " 'lin manuel miranda would like to remind you to put your phone away',\n",
              " '60 journalists kill in 2014 as target of international press rise',\n",
              " 'guard in video game under strict order to repeatedly pace same stretch of hallway',\n",
              " 'how to live to be 110',\n",
              " 'cat so scar in shelter win t even look at you',\n",
              " 'bill clinton shoot down republicans i strongly support obamacare',\n",
              " 'secret service agent not so secret about be david alan grier fan',\n",
              " 'this new orange era the grow divide',\n",
              " 'things learn in the first month of have a baby',\n",
              " 'lamelo ball score 92 point in a single high school basketball game',\n",
              " 'i m bi it take me 21 years to come out of the closet and say it',\n",
              " '10 essential life lessons from a grandma',\n",
              " 'teenage gunfight with isis',\n",
              " 'older but still young at heart',\n",
              " 'lead probability researchers confound by three coworkers wear same shirt color on same day',\n",
              " 'new york introduce shoe share program for city s pedestrians',\n",
              " 'beyonc sculpt in cheese be strangely allure',\n",
              " 'expansive obama state of the union speech to touch on patent law entomology the film of robert altman',\n",
              " 'star with gray hair prove get older isn t all that bad',\n",
              " 'police say woman make up story of attack by two men one wear a trump hat update',\n",
              " 'naacp demand less minority representation on upn',\n",
              " 'the best clothe for the man child in your life',\n",
              " 'florist who turn away gay couple want supreme court to hear her case',\n",
              " 'we re still process that end to the walk dead strangers',\n",
              " 'new google project deliver critical info to refugees smartphones',\n",
              " 'new history textbook make hatred of history come alive for students',\n",
              " '10 ways ridiculously successful people think differently',\n",
              " 'report bridge probably have whole mess of bat under there',\n",
              " 'texas republicans urge trump style immigration crackdown',\n",
              " 'tom hanks brag how smokin hot rita wilson be after 29 years of marriage',\n",
              " 'god get strong urge to bring back dinosaurs',\n",
              " 'lgbt christians speak out love the sinner hate the sin win t cut it anymore',\n",
              " 'handshake come in at unusually high angle velocity',\n",
              " 'mom keep send newspaper clippings about former classmates who have be murder',\n",
              " 'report make it stop',\n",
              " 'coed rec softball team have trouble find enough hyper competitive men to ruin experience',\n",
              " 'brutalist beaver construct paul rudolph inspire dam',\n",
              " 'jindal westboro baptist members who protest funerals face arrest',\n",
              " 'gop congressman may not vote for president at all',\n",
              " 'donald trump s latest attempt to repeal obamacare make seth meyers sick',\n",
              " 'suicide bomb can parent spot the warn sign',\n",
              " 'state department warn americans travel abroad to avoid lame amsterdam windmill tour',\n",
              " 'meatless monday portuguese mashup',\n",
              " 'you can now message the president on facebook',\n",
              " 'families of miss flight passengers just hop media get closure it need',\n",
              " 'fender release new hybrid gas electric guitar',\n",
              " 'romney volunteer go door to door to let obama supporters know president s dead',\n",
              " 'friday talk point prelude to silly season',\n",
              " 'meet sparkle the 2 year old who s your next style crush',\n",
              " 'hollywood s biggest star endure long line at oscars security screen',\n",
              " 'congresswoman fight for gun control because she almost lose her life to gun violence',\n",
              " 'how to raise kid who can love and be love',\n",
              " 'want to make meetings more productive start walk',\n",
              " 'elizabeth warren s pick win ohio s democratic gubernatorial primary',\n",
              " 'bite argument over trump may cost man his ear',\n",
              " 'longtime reader of lib slave info sick of mainstream bias on sit like wideawakepatriot com',\n",
              " 'beijing fire department extinguish massive five alarm burn cloud of smog',\n",
              " 'china intensify pressure on north korea',\n",
              " 'defiant sanders camp it ain t over',\n",
              " 'when the sheep be watch over your mind',\n",
              " 'first up at the toronto film festival jake gyllenhaal s demolition the stun lobster and more',\n",
              " 'super pac men how political consultants take a texas oilman on a wild ride',\n",
              " 'active shooter at large report endless background hum of modern american life',\n",
              " 'david axelrod suggest hillary clinton will be see as less complex alternative to obama',\n",
              " 'sleater kinney just make bowie s rebel rebel the political anthem of 2017',\n",
              " 'kirsten gillibrand only regret not call for al franken to quit sooner',\n",
              " 'well fargo sue for bar daca recipients from student loan',\n",
              " 'historical archive amaze publick spectacle',\n",
              " 'israel pass law cement itself as exclusive nation state of benjamin netanyahu',\n",
              " 'onion social crack down on sexual harassment by ban all women from platform',\n",
              " 'exclusive promo hint stephen colbert will unleash on trump in live election show',\n",
              " 'banksy return to new york city with one of his trademark rat',\n",
              " 'bobby jindal s biggest donors benefit from his administration',\n",
              " 'drink driver in the zone',\n",
              " 'egyptian woman wish scream protester husband would go bonkers for her once in a while',\n",
              " 'meet the millennial men who love hillary clinton',\n",
              " 'number of homeless students in america be rise rapidly',\n",
              " 'report majority of instance of people get live back on track occur immediately after visit to buffalo wild wing',\n",
              " 'groundbreaking study find gratification can be deliberately postpone',\n",
              " 'nick cannon respond to mariah carey s engagement in the best way',\n",
              " 'midlife obesity may speed up alzheimer s',\n",
              " 'report 70 of trump endorsements make after star at bedroom ceiling for 4 hours',\n",
              " 'study find american diet be poor but improve',\n",
              " 'after decades of effort chemists overseas report nano breakthrough',\n",
              " 'produce section burst into laughter after will ferrell make casual remark about apples',\n",
              " 'dad immediately hand phone to mom',\n",
              " 'my worst audition ever or the danger of play paddle ball chew gum and sing we build this city simultaneously',\n",
              " 'how state can help 5 million kid with a parent behind bar',\n",
              " 'local man s fear of snake increase with each snakebite',\n",
              " 'vespa corporation enchant another slight little man child',\n",
              " 'the smithereens lead singer pat dinizio dead at 62',\n",
              " 'standards lower for second search through fridge',\n",
              " 'miley cyrus wreck ball could be kelly clarkson s best cover yet',\n",
              " 'watch why mirror flip things sideways but not upside down',\n",
              " 'man in international airport only speak business',\n",
              " 'area mother enter 16th year of post partum depression',\n",
              " 'watch prince harry and rihanna get test for hiv together',\n",
              " '11 doodle to help you hang in there after heartbreak',\n",
              " 'rep confirm those david bowie rumor about scatter his ash at burn man be untrue',\n",
              " 'historians suggest goodfellas youtube clip may be fragment of larger work',\n",
              " 'department of agriculture locate perfect goat',\n",
              " 'activist remember those he meet on 6 000 mile walk for equality video',\n",
              " 'cocksucker beat up motherfucker',\n",
              " 'hero cop save 3 year old girl s life on his wed day',\n",
              " 'rnc leader to trump tone it down',\n",
              " 'wheelchair bind student would have prefer to sit out pep rally',\n",
              " 'this video nail the mess up way anti abortion legislation get push',\n",
              " 'nation check out cnn com to see what their old pal the tsarnaevs and castros be up to',\n",
              " '47 second clip from family tie season 3 now available on youtube',\n",
              " 'mom announce plan to get out some of your old baby stuff and quietly stare at it',\n",
              " 'why russell simmons want trump to win the gop nomination',\n",
              " 'members of open band walk among crowd during intermission like gods among men',\n",
              " 'shy friend experiment with personality',\n",
              " 'rick perry on donald trump s propose border wall you can t do that',\n",
              " 'qatar say to run a covert train camp for syrian rebel with u s help',\n",
              " 'rubio and cruz have anti lgbt advisory board where be trump s',\n",
              " 'jay inslee smash through wall of town hall in solar power mech suit to announce climate change plan',\n",
              " 'parent password a grotesque combination of children s name birthdays',\n",
              " 'harry potter top facebook s 10 book that stay with you meme and no one be surprise',\n",
              " 'christian weightlifter bend iron bar to show power of god s love',\n",
              " 'asu gsv report teachers and tech tool',\n",
              " 'what your movements may reveal about how you ll get along with another person',\n",
              " 'blue collar democrats to party it s still the economy stupid',\n",
              " 'draft biden effort debut its first tv ad',\n",
              " 'stomach set aside synthetic additives until it have a few minutes to figure out how to digest them',\n",
              " 'trump regret choose kavanaugh after supreme court nominee keep talk about how much he respect women',\n",
              " '5 year old channel solange knowles for perfectly recreate album cover',\n",
              " 'kanye west and kim kardashian provide blueprint for true love at vmas',\n",
              " 'south dakota ask to water north dakota s crop over the weekend',\n",
              " 'obama pledge to do more to stop the epidemic of gun violence',\n",
              " 'alexa and google home record what you say but what happen to that data',\n",
              " 'this be the tiger that earl woods raise',\n",
              " 'exasperate huckabee sanders remind press corps that children under 14 can t feel pain',\n",
              " 'non priest arrest on charge of child molestation',\n",
              " 'obama finally tell ramble tom vilsack to shut the fuck up during cabinet meet',\n",
              " 'nation inspire by bravery of teen just wear bikini right into mcdonald s',\n",
              " 'chill report detail myanmar s horrific campaign against rohingya minority',\n",
              " 'arizona ice tea unveil new 4 foot tall can',\n",
              " 'arrest portraits give voice to homeless people in america s poorest big city',\n",
              " 'house reauthorizes controversial surveillance law',\n",
              " 'tom bosley name secretary of nap',\n",
              " 'party not big enough to move out of kitchen yet',\n",
              " 'fall movies every mom will see',\n",
              " 'minotaur wonder if there more to life than bash in head of those who dare wander into labyrinth',\n",
              " 'shave cologned grandpa head into town to rake in d day pussy',\n",
              " 'new rule from obama will punish contractors who cheat or endanger workers',\n",
              " 'san diego zoo acquire chinese man',\n",
              " 'the only parent advice i d dare to give',\n",
              " 'chris christie say trump immigration order rollout be terrible',\n",
              " 'congress vote to intervene in local wed',\n",
              " 'hero soldier receive presidential thumb up award',\n",
              " 'warren s mortgage reform divide progressives',\n",
              " 'the director of hbo s new jam foley documentary on make a movie about his childhood pal',\n",
              " 'the truth about be 40',\n",
              " 'sleep on it really do help you solve your problems',\n",
              " 'annoy movers weren t expect client to have belongings',\n",
              " 'toe the race line what i be and what i be not',\n",
              " 'how an essay on sexual paranoia cause a frenzy at northwestern university',\n",
              " 'argentina tighten security in anticipation of numerous criminals arrive for g20',\n",
              " 'senior citizen shake by diminish bawdy limerick recall',\n",
              " 'man fill with gratitude at sight of other customer in nice restaurant wear jeans',\n",
              " 'my disastrous search for the perfect swimsuit',\n",
              " '10 big space save ideas for small kitchens',\n",
              " 'stranger things 2 creators say keen viewers will notice twinge of disappointment hide in every scene',\n",
              " 'huckabee sanders tell colleagues she s take temporary post as google ceo before transition into full time role as sultan of brunei',\n",
              " 'horrify geologists uncover millions of rock in sprawl mass grave',\n",
              " 'things come apart so easily asghar farhadi s about elly',\n",
              " 'new iowa poll find majority of democrats would vote for candidate name bobby cheeseburger',\n",
              " 'bisexual s parent half understand',\n",
              " 'barack obama be fourth president to put americans at risk in iraq let those threaten by the islamic state fight it',\n",
              " 'area ceo doesn t have time for this shit',\n",
              " '3 leadership mistake roger goodell make that you shouldn t',\n",
              " 'brilliant innovative ceo just write word social media on whiteboard and underline it',\n",
              " 'man say he salute a donald trump cardboard cutout every day',\n",
              " 'the rich get richer',\n",
              " 'boston judge order apple to help law enforcement examine iphone',\n",
              " 'new anti drug program teach teens to resist psychiatrist s constant pressure to use drug',\n",
              " 'jam comey just expose his own hypocrisy on hillary clinton s email',\n",
              " 'joe biden slam donald trump he would have love stalin',\n",
              " 'there no way tv character could actually afford big new york city coffee mug',\n",
              " 'elizabeth warren new chat system let bank avoid regulation with a wink and a nod',\n",
              " 'mike pence say he stand with the president on charlottesville',\n",
              " 'marco rubio s struggle to be more than a talk point machine',\n",
              " 'steven spielberg say netflix film shouldn t qualify for oscars',\n",
              " 'area man feel even lazier when he think about how much isis have accomplish this year',\n",
              " 'the pitch perfect 3 ladies be squadgoals at the atlanta falcon game',\n",
              " 'to the obese woman cry at the picnic table',\n",
              " 'urban poll center recommend voters start line up now for 2016 election',\n",
              " 'the weird thing gop candidates be do when they get call out on lie',\n",
              " 'buzzfeed editors unsure how to spin petraeus story into reason the 90s be great',\n",
              " 'marine corps shorten slogan to the few',\n",
              " 'woman who s be on the pill for years think about switch to new set of debilitate side effect',\n",
              " 'glenn close angry and darkly sad about harvey weinstein allegations',\n",
              " 'this pic prove simone biles be a mere mortal after all',\n",
              " 'man force to pathetically comb through movie for familiar scene after fall asleep previous night',\n",
              " 'how to criticize your kid without ruin their self esteem',\n",
              " 'these stun older celebs rule the oscars red carpet',\n",
              " 'this labor day let s rethink the texas miracle',\n",
              " 'change the playlist in my head',\n",
              " 'congressman let his guitar do the talk',\n",
              " 'down with cutesy clean supply',\n",
              " 'michele bachmann thankful no americans die in sikh shoot',\n",
              " 'mechanic steal city bus because he be late for work police say',\n",
              " 'this moose strike a blow against the takeover of the machine',\n",
              " 'get ready to lol at this force awaken trailer with jar jar binks',\n",
              " 'complete idiot forget to shave area between mouth and nose',\n",
              " 'mom learn about new vegetable',\n",
              " 'donald trump pick dow chemical s andrew liveris to head american manufacture council',\n",
              " 'a personal memory of former governor mario cuomo',\n",
              " 'why we should remember to treat every day like a special occasion',\n",
              " 'troop gradually withdraw',\n",
              " 'fire department deploy unmarked truck',\n",
              " 'ted danson totally nail tonight show interview',\n",
              " 'audra mcdonald kirsten gillibrand to celebrate the lgbtq community in nyc',\n",
              " '70 year old woman decide it time to start dress entirely in purple',\n",
              " '10 worst provision in the republican appropriations bill',\n",
              " 'woman in commercial do yoga to narration of drug s fatal side effect',\n",
              " 'zoo post hourly update on aphid about to give birth',\n",
              " 'dave matthews band apologize after tour bus dump another 800 pound of human shit onto same boat full of people',\n",
              " 'why credit card point aren t the new miles',\n",
              " 'samsung will give iphone owners a new galaxy phone to try for 1',\n",
              " 'listen to lana del rey s new single honeymoon',\n",
              " 'uw whitewater chancellor reprimand students after mistake skincare product for blackface',\n",
              " 'realistic day planner only include first couple weeks after purchase',\n",
              " 'palm tree fire off warn coconut',\n",
              " 'couple dress as mario and luigi drunkenly make out on couch',\n",
              " 'struggle media company almost desperate enough to hire someone qualify for job',\n",
              " 'stop complain about the evolution of text language period',\n",
              " 'shipwreck survivors force to endure ride home on disney cruise ship',\n",
              " 'rupert murdoch bash as nonsense concern about sexual harassment at fox',\n",
              " 'census find enough homeless people live in public library to warrant congressional district',\n",
              " 'lin manuel miranda and the rock make a musical parody about millennials',\n",
              " 'report 1 in 5 air ducts contain person look listen in on you',\n",
              " 'cnn taunt trump and the gop with schoolhouse rock',\n",
              " 'hillary clinton suspend 3 weeks by fec for spit on volunteer',\n",
              " 'officials warn consumers of counterfeit ticket ahead of solar eclipse',\n",
              " 'fbi shut down prominent new isis recruitment website',\n",
              " 'the one thing you need for positive change',\n",
              " 'supreme court justice sotomayor continue duties after break shoulder',\n",
              " 'area facebook user incredibly stupid',\n",
              " 'strap young man to address congress',\n",
              " 'indecency politics and the fcc a new round in the culture war',\n",
              " 'why i no longer support israel',\n",
              " 'area man too busy for his buddy phil eh',\n",
              " 'senate panel unanimously approve chris wray s nomination as fbi director',\n",
              " 'kanye west s partnership with adidas be about to get huge',\n",
              " 'o casey s play return to stage at philly irish theater',\n",
              " '7 very important reason to take a nap right now',\n",
              " 'report 50 of heaven s population just assholes who beg for forgiveness at last second',\n",
              " 'elle magazine accidentally airbrush naomi watts out of cover altogether',\n",
              " 'trump s tailspin',\n",
              " 'international space station tent to spray for xenomorphs',\n",
              " 'passengers pray uber just a hobby for elderly driver',\n",
              " 'the top 10 workout songs for january 2018',\n",
              " 'meryl streep look exactly like the shrek fairy godmother at the oscars',\n",
              " 'couple just want small ceremony in public park with close friends and shirtless stranger hang around tree',\n",
              " 'terrify fda warn something make bananas black after several days',\n",
              " 'aspen ideas festival 2015',\n",
              " 'this labor day let s boost opportunity in every zip code',\n",
              " 'take your startup public be fraught with negative',\n",
              " 'al franken will leave senate in early january',\n",
              " 'donald trump vow to take travel ban to the supreme court',\n",
              " 'hackers target russian olympic whistleblower world anti dope agency say',\n",
              " 'underserved kid learn a year s worth of math in 6 weeks thank to new app',\n",
              " 'stranger pugs be the greatest thing to happen to the internet',\n",
              " 'morgan freeman s snapchat fail be hilariously perfect',\n",
              " 'social media etiquette for weddings',\n",
              " 'princess charlotte have maybe the most fashionable christen ever',\n",
              " 'teddy bear feel terrible for spark what be we conversation',\n",
              " 'man flirt with girl at party can t wait to be inform she have boyfriend',\n",
              " 'mysterious man in park lot threaten to harm rudy giuliani if he ever blab about trump s legal payments again',\n",
              " 'obama under fire for play t ball during vietnam',\n",
              " 'this unorthodox guide meditation might just get you in the habit',\n",
              " 'women reveal the real purpose of workout clothe',\n",
              " 'hope solo say ex fifa president sepp blatter grope her',\n",
              " 'study good porn still hard to find',\n",
              " 'lester holt begin debate by reiterate he doesn t know who these fuck people be',\n",
              " 'homosexual dolphin have highly develop sense of gay nar',\n",
              " 'children be in need of families and you may be the perfect fit',\n",
              " 'vladimir putin florida man arrest for trespass at supermarket',\n",
              " 'report mom send you something',\n",
              " 'ben affleck vs bill maher no one win',\n",
              " '600 pound butter cow sculpture win iowa caucus',\n",
              " 'area juggler juggle family juggle',\n",
              " 'this d c restaurant just sue trump and his hotel for unfair competition',\n",
              " 'kevin bacon will come after you if you talk or text during a movie',\n",
              " 'baby can already tell crib he s in go to be recall',\n",
              " 'the best live action south park commercials',\n",
              " 'desperate gop spot in south dakota try to build keystone pipeline themselves',\n",
              " 'death of mentally ill woman in police custody rule a homicide',\n",
              " 'astronaut tim peake complete london marathon in space set world record',\n",
              " 'woman comfort friend just go to throw compliment against wall and see what stick',\n",
              " 'u s mint introduce new double stuf quarter',\n",
              " 'report whoa last person on treadmill run 8 miles',\n",
              " 'jeb bush call for crackdown on sanctuary cities in immigration plan',\n",
              " 'my link to muhammad ali through parkinson s',\n",
              " 'dhs announce racial profile free for all this sept 11',\n",
              " 'paramedics didn t realize how hard it would be to cut drink woman out of elmo costume',\n",
              " 'rnc tap dennis hastert to lead new youth outreach program',\n",
              " 'money spend for old time s sake',\n",
              " 'top aide deny that donald trump pose as his own spokesman',\n",
              " 'image show that saturn s north polar region have change color',\n",
              " 'anderson cooper throw another box of letter from gay children into dumpster',\n",
              " 'the equifax breach be bad but there be step that can help',\n",
              " 'toddler unsettle by whatever possess her to bite friend s face',\n",
              " 'kurt warner cheer on by wire haired man goblin',\n",
              " 'fox news viewers really don t like lifelong republican robert mueller',\n",
              " 'man run into ex wife while wear sandwich board',\n",
              " 'patriot devin mccourty be not visit the white house i don t feel accept',\n",
              " 'how many glass of wine do it take to ruin your diet',\n",
              " 'hey remember when bernie sanders play a rabbi in a rom com',\n",
              " 'j lo and a rod will each donate 25 000 to hurricane harvey victims',\n",
              " 'do strange death curse haunt cast of go with the wind',\n",
              " 'hillary clinton relax before debate with few hours of debate practice',\n",
              " 'bartender accuse of plot to poison john boehner',\n",
              " 'earth rank number one party planet',\n",
              " 'new ad prey on people with ideas',\n",
              " 'chris rock call out the oscars lack of diversity in perfect tweet',\n",
              " 'someone make a trump putin facebook friend anniversary video',\n",
              " 'here s the new sexy carl s jr super bowl commercial',\n",
              " 'first latino arab american run for congress view his heritage as an asset',\n",
              " 'mom use full name to refer to bisquick impossibly easy cheeseburger pie',\n",
              " 'monocle wear oil baron s cigarette holder splinter in clench teeth after hear bernie sanders environmental platform',\n",
              " 'merkel call for a more open world we win t get anywhere with populism',\n",
              " 'public outrage as price of fast deplete non renewable resource skyrocket',\n",
              " 'new downloadable content for assassin s creed syndicate factor into monthly live expense',\n",
              " 'largemouth bass have largemouth sass',\n",
              " 'pope john paul ii longtime owner of popemobile dead at 84',\n",
              " 'global warm crisis make for delightful mid february afternoon',\n",
              " 'a day with hiv campaign tell the powerful stories of those affect by hiv',\n",
              " 'watch pearl jam randomly break out into let it go in italy',\n",
              " 'grandchild grandfather equally dread collaboration for school interview project',\n",
              " 'be your outdated career map lead you astray',\n",
              " 'bartender hurt by unfinished drink',\n",
              " 'the big dark series of storm stretch from china to u s batter northwest',\n",
              " 'lebanon s ex pm say he will return amid claim he be be hold captive by saudis',\n",
              " 'sign make upcoming section of road sound pretty badass',\n",
              " 'audio experts confirm whiny irritate noise in secret record devin nunes',\n",
              " 'uneventful past finally catch up to bore man',\n",
              " 'source c mon just give us the goddamn pulitzer already',\n",
              " 'greek bailout talk delay once again official say',\n",
              " 'if area dad step on legos one more time',\n",
              " 'this teacher remixes rap songs like bad and boujee to teach history lessons',\n",
              " 'here s how much betsy devos and her family spend to back the gop senators who confirm her',\n",
              " 'stage door wiesenthal',\n",
              " 'the painful price of age in prison',\n",
              " 'gwen stefani bar her soul perform i use to love you at the amas',\n",
              " 'scott pruitt land a second fawn conservative magazine profile',\n",
              " 'death to shoppers al shabaab and the fracture of international jihadism',\n",
              " 'boss come to work today dress as guy who fire sean',\n",
              " 'dirty beard vince foster burst through doors of clinton fundraiser',\n",
              " 'surrender trump boys solemnly salute each other before leap from white house first story window',\n",
              " 'colin kaepernick call high school team s die in protest courageous',\n",
              " 'las vegas officials create gofundme page for shoot victims',\n",
              " 'report 55 of nation s granite now engrave with name of victims',\n",
              " 'hollywood announce plan to remake jimmy stewart',\n",
              " 'get marry to a guy with kid be pretty freak intimidate',\n",
              " 'mother ferry 4 more shirt options back to son in gap dress room',\n",
              " 'fda approve nasal spray version of overdose drug naloxone',\n",
              " 'negative review of a wrinkle in time pepper with critic assure readers he still totally support diversity',\n",
              " 'russell simmons lead i be a muslim too rally in new york',\n",
              " 'norman lear common shonda rhimes to explore inequality in epix documentary series',\n",
              " 'kanye west i would ve ride away from a slave plantation on a motorcycle first chance i get',\n",
              " 'the daily szep gop circus',\n",
              " 'the ultimate livingston montana road trip playlist',\n",
              " 'if i have gay children 4 promise from a christian pastor parent',\n",
              " 'clinton assure tim kaine she ll continue serve as president in event of her death',\n",
              " 'rugged new sport utility vehicle take on mall park lot',\n",
              " 'report new the handmaid s tale season focus on dangers of feminism run amok',\n",
              " 'who s law be it anyways',\n",
              " 'teen football recruit make bold statement about black live at train camp',\n",
              " 'chris hemsworth s wife elsa pataky post sweet photo to celebrate his birthday',\n",
              " 'question linger for candidates on retirement issue',\n",
              " 'olympics officials clearly try to buy more time with 6 day long open ceremony performance',\n",
              " 'first grader reek of urine',\n",
              " 'protest continue for stephon clark on martin luther king jr s death anniversary',\n",
              " 'why i launch a platform to empower survivors of bully',\n",
              " 'chance the rapper unbox his grammys with his daughter be too cute for word',\n",
              " 'guy someone edit chris farley into the mission impossible trailer',\n",
              " 'u s fish and wildlife officials release photos of miss perch',\n",
              " 'hope in students eye too much for screenwriting teacher to handle this week',\n",
              " 'north korea fire short range missile along its coast',\n",
              " 'saudis snub obama on riyadh arrival amid grow tensions',\n",
              " 'disastrous ad campaign appeal to basic human intelligence',\n",
              " 'the definitive list of men you ll find at whole foods',\n",
              " 'cozy little out of the way place open 12th location',\n",
              " 'protesters clash with police during march to remember alton sterling',\n",
              " 'for profit company threaten to jail people for not pay traffic fin lawsuit say',\n",
              " 'here s the poop on antarctica s secret penguin society population 1 5 million',\n",
              " 'star in hollywood blockbusters los angeles man s only claim to fame',\n",
              " 'kelly clarkson react like any mom to news she s get a vacation',\n",
              " 'kathy griffin drop f bomb while take back her apology to trump',\n",
              " 'top gop strategist who bash donald trump will now try to get him elect',\n",
              " 'black live matter protest move from mall of america to airport',\n",
              " 'trump sit down beside fire with quill and ink for even write out tweet',\n",
              " 'comic liz miele s animate series damage celebrate first season',\n",
              " 'entire treasury department compete for same goldman sachs job open',\n",
              " 'penny not so lucky for torture soul of lincoln trap inside',\n",
              " 'the bible could become tennessee s official state book',\n",
              " 'substitute teacher can tell he s fill in for real asshole',\n",
              " 'simone biles pull the perfect face when bob costas say she just become famous',\n",
              " 'montana dems nominate a banjo player for special election and he might actually win',\n",
              " 'wed experts say engagement ring should cost at least three diamond miners live',\n",
              " 'new study find humans may have some capacity for compassion',\n",
              " 'congress confuse by 500 million in trump s budget allocate for laser stuff',\n",
              " 'area throat clearer to go see movie',\n",
              " 'bumgarner perfect giants one win away',\n",
              " 'pope francis pray at jerusalem s western wall',\n",
              " 'mike pence train for vice presidential debate by hit punch bag with climate change study tap on front',\n",
              " 'wendy s new homestyle chicken strip salad shamelessly tout',\n",
              " 'modest isis leader credit promotion entirely to drone strike',\n",
              " 'the outfit that get this woman kick out of her school s gym',\n",
              " 'u s ethics chief order gush responses to trump s tweet',\n",
              " 'neighbor wi fi password must be something good',\n",
              " 'experts caution new car lose 90 of value as soon as you drive it off cliff',\n",
              " 'here s what all my life singers k ci jojo look like now',\n",
              " 'report north korea just enjoy nuclear talk',\n",
              " 'democrats celebrate doug jones stun victory',\n",
              " 'goldfish teeter on edge of sanity',\n",
              " 'internet enjoy sarah sanders claim that trump be the best negotiator at the table',\n",
              " 'nearly one million affect by flood in myanmar',\n",
              " 'your backyard burgers be burst with gross bacteria',\n",
              " 'whale expert measure everything in elephants',\n",
              " 'rachel roy reveal her best beauty secrets to into the gloss',\n",
              " 'not one woman less protest femicide in buenos air',\n",
              " 'family pundit make bizarre and offensive link between robin williams death and ex gay therapy',\n",
              " 'dad recount amaze story of how through quick think he save 4 27',\n",
              " '7 lie about lgbt musicians we need to stop tell immediately',\n",
              " 'boy scout celebrate proud history of prepare teens for not have cool friends',\n",
              " 'trump celebrate national park after propose to slash their fund',\n",
              " 'hypochondriac maple tree always convince it have asian longhorn beetle',\n",
              " 'trump and china risk spark dangerous middle east arm race',\n",
              " 'local welder suffer from welder s block',\n",
              " 'wed album off to bizarre start with photo of 2 acorns float in glass of water',\n",
              " 'americans say 2 to 1 that we never should have invade iraq',\n",
              " 'plan to live in storage facility voice',\n",
              " 'report get massage at airports apparently part of certain people s live',\n",
              " 'rival dojo in for big surprise at regionals',\n",
              " 'postal service and wait until you cocksuckers see what we do with wednesdays',\n",
              " 'survive and thrive through adversity a transgender bathroom and hiv love story',\n",
              " 'baby fox who be suppose to die find man who believe in her',\n",
              " 'do police summon warrant really prevent serious crime',\n",
              " 'that s what host of showtime at the apollo talk about',\n",
              " 'woman start to worry she just have type of face where makeup look insane',\n",
              " 'what s half of 33 35',\n",
              " '21 useful white elephant gift under 20',\n",
              " 'two hipsters angrily call each other hipster',\n",
              " 'warpaint s theresa wayman on the band s vivid new album and inevitably question her career',\n",
              " 'gleeful kate mckinnon unleash her inner robert mueller on snl',\n",
              " 'new law to forgive student debt for college graduate once all their dream shatter',\n",
              " 'man angry at self after not recognize actress in eyelash commercial',\n",
              " 'court summon come with 1 025 free hours of aol',\n",
              " 'a millennial dad s tech divide',\n",
              " 'prize on price be right look better as man age',\n",
              " 'toy r us sign trigger pavlovian shriek response in child',\n",
              " 'record academy remind age musicians to die before december 15 to be include in 2017 grammy tributes',\n",
              " 'savion glover tap his way out of another speed ticket',\n",
              " 'time for japan to get more involve in the middle east say mp taro kono',\n",
              " 'woman under impression she be discreet about fish stray hair out of bra',\n",
              " 'white house warn syria against launch another chemical weapons attack',\n",
              " 'entire napoleon dynamite plot piece together through friends quote',\n",
              " 'man shoot up bathroom when occupant take too long police say',\n",
              " 'area dad star longingly at cover grill in backyard',\n",
              " 'amid an industry boom incarceration for weed still threaten black women',\n",
              " 'well neighbor just get a pit bull',\n",
              " 'consumer confidence verge on cockiness',\n",
              " 'can a french friar end the 21st century slave trade',\n",
              " 'jimmy fallon six tantalize months from disappear forever',\n",
              " 'these drag superstars be search for the world s first drag supermonster',\n",
              " 'the surprise way your name can give away your age',\n",
              " 'sunday roundup',\n",
              " 'student loan america s next financial crisis',\n",
              " 'boss dick not go to suck itself',\n",
              " 'huffpollster president trump s base be stick with him',\n",
              " 'america s love affair with ally mcbeal end violently',\n",
              " 'fifth baby barely shower',\n",
              " 'save women s live end the helm overreach',\n",
              " 'man pledge loyalty to brand in quiet convenience store ceremony',\n",
              " 'chinese for lunch',\n",
              " 'archaeologists egyptian pyramid actually early attempt at camp',\n",
              " 'here s the hocus pocus remake you never know you want',\n",
              " 'apple will probably introduce a new iphone sept 9',\n",
              " 'trump use rnc fund to pay for his russia defense thank to hillary clinton s lawyer',\n",
              " 'last month apparently women s history month',\n",
              " 'innovative fat man combine waffle with ice cream',\n",
              " 'local build too wheelchair friendly',\n",
              " 'pope francis have a very clear message for christians who build wall',\n",
              " 'it s not eisenhower or reagan s republican party anymore',\n",
              " 'new after school program aim to keep children off streets for additional 45 minutes',\n",
              " 'trey gowdy and his gop colleagues embarrass themselves',\n",
              " 'dianne feinstein eviscerate jeff sessions in savage close argument',\n",
              " 'gunmen kidnap australian firm s workers in nigeria',\n",
              " 'concern nra official rush out to purchase congressman follow mass shoot',\n",
              " 'gratitude for the smartwatch',\n",
              " 'best hotels for large families',\n",
              " 'clay aiken gain 30 pound eat bojangles chicken during his campaign',\n",
              " 'gay guy get personal and ask straight men all of their burn question',\n",
              " 'defiant evangelicals branch off into new first molestist sub denomination',\n",
              " 'house democrats bring in record fundraise number gear up for 2018 midterms',\n",
              " 'insect with limitless fly space rocket straight for man s pupil',\n",
              " '7 ways to give back in an hour or less',\n",
              " 'america s charter school have a commitment problem',\n",
              " 'magazine run article about louis c k',\n",
              " '1984 sales spike after kellyanne conway s orwellian interview',\n",
              " 'ninja like parent demonstrate how to escape a sleep baby',\n",
              " 'loyal dog wait patiently for 7 whole days for owner to come home',\n",
              " 'george r r martin kill off whole family',\n",
              " 'chicago s shedd aquarium admit panda exhibit a ghastly mistake',\n",
              " '7 year old asshole demand you king him',\n",
              " 'justin timberlake want his son to be inspire by charlottesville s strength',\n",
              " 'netflix just hire producer ryan murphy in a huge 5 year deal',\n",
              " 'a manners lesson for donald trump about the star and strip',\n",
              " 'britney spear send sweet message to teen who recover from stroke dance to toxic',\n",
              " 'grow up in scout s closet',\n",
              " 'cook off the cuff a simple sicilian way with swordfish with a light sauce as equal partner',\n",
              " 'local oafs to spawn',\n",
              " 'admit it trump supporters you get dupe',\n",
              " 'ammon bundy say he s follow directions from god',\n",
              " 'cinema therapy and robin williams',\n",
              " 'warrantless surveillance bill to protect nation by create dozens of future whistleblowers',\n",
              " 'report it unclear whether opposition from every sector of american society will have any effect on healthcare bill pass',\n",
              " 'be early read a problem',\n",
              " 'chinese citizens observe 25 year moment of silence for tiananmen square massacre',\n",
              " 'bausch lomb introduce line of aviator contact',\n",
              " 'mom say she pull gun on teens threaten her son',\n",
              " 'cameron diaz finally open up about generally positive experience in show business',\n",
              " 'huffpollster sorry bernie fan a sanders comeback be unlikely',\n",
              " 'i cannot do this alone why ally matter to the down syndrome community',\n",
              " 'the grid startup promise ai webdesign for the mass',\n",
              " 'report average american consume 4 ounces of cheese right now',\n",
              " 'city offer free pot for the poor',\n",
              " 'the latest true blood death be all sookie s fault',\n",
              " 'eager understudy begin to think john lithgow impervious to disease',\n",
              " 'once homeless hairstylist help girls in need in the most beautiful way',\n",
              " 'martin shkreli face rough stay in prison system where inmates who fund hair theft be lowest caste',\n",
              " 'stop talk about screen time start think about screen use',\n",
              " 'isis muslim death toll be enormous',\n",
              " 'lindsey graham s leak voicemails be very reveal',\n",
              " 'historical archive to be sell two chamber pot house',\n",
              " 'mister rove master of the smear',\n",
              " 'caterpillar in pupal stage for past 3 months go to be piss if it turn out to be moth',\n",
              " 'archaeologists discover cave where ancient humans first have to pretend to like friend s art',\n",
              " 'feed if job be mean to be with us they ll come back on their own',\n",
              " 'man race against time to take out trash bag with widen puncture',\n",
              " 'do you know why i m pull you over be wildly aggressive and charge you with assault today sir',\n",
              " 'academy award winners you didn t know be from illinois',\n",
              " 'vicious man eat carnivores on decline in arctic',\n",
              " 'wildebeest take awful lot of credit for stampede',\n",
              " 'thousands protest peacefully in baltimore and many lend a help hand',\n",
              " 'the louvre garden be teem with rat',\n",
              " 'senatorial candidate challenge opponent to drop out of race',\n",
              " 'expectant parent throw some value together at last minute',\n",
              " 'governor too embarrass to say which state he lead',\n",
              " 'what we re talk about when we talk about skin care',\n",
              " 'will ferrell break into the kardashian house for a good cause',\n",
              " 'report jessica milly have put out',\n",
              " 'miss connection ad obviously cheney',\n",
              " 'food network production assistants prep guy fieri with dry rub',\n",
              " 'man complete life 130 000 over budget',\n",
              " 'masturbate mom can t get bobby flay southwestern egg demo to stop buffer',\n",
              " 'u s weigh bigger role in war in yemen',\n",
              " 'bruno mar take home covet least threaten artist award at 2018 grammys',\n",
              " 'inconsolable sarah palin open up about sacha baron cohen betrayal to cardboard cutout of whoopi goldberg',\n",
              " 'chinese newlyweds wonder what they re go to do with all this medicinal bear bile',\n",
              " 'study find only 1 in 3 lasik surgeries end in laser bore through eye incinerate brain shoot through skull on other side',\n",
              " 'homeless pitbull couldn t stop tremble until someone show her love',\n",
              " 'scottish independence proudly small or proudly together',\n",
              " 'how to dress up for the holiday with stuff you already own',\n",
              " 'tyson beckford recall the craziness before shoot britney spear toxic video',\n",
              " 'be there a villain in the 2014 election',\n",
              " 'this star war shrine can now be rent for just 50 a night',\n",
              " 'julianne moore stun in custom chanel',\n",
              " 'nissin introduce extra large drum noodles',\n",
              " 'ganymede total in three moon pileup',\n",
              " 'the time to act be now say yellow climate change report sit in university archive',\n",
              " 'have we already solve the student debt crisis',\n",
              " 'man who play devil s advocate really just want to be asshole',\n",
              " 'the shock transformations of your favorite country star',\n",
              " 'elizabeth warren slam pat toomey for try to let bank swindle cities and towns',\n",
              " 'st vincent will direct film adaptation of dorian gray with female lead',\n",
              " 'why these people of faith be march for women this weekend',\n",
              " 'new york time reach 1 million digital only subscribers',\n",
              " 'starbucks offer new lukewarm coffee to help ease customers transition from ice to hot',\n",
              " 'cactus scientists recommend drink 8 cup of water per year',\n",
              " 'why my ex husband give his bless at my second wed',\n",
              " '7 year old put on uno face',\n",
              " 'harrison ford beg agents to just let him die now',\n",
              " 'the late show update trump s election night speech with annotations',\n",
              " 'bush to london bombers bring it on',\n",
              " 'the 9 amaze spring clean tip all dog owners should know',\n",
              " 'jane fonda have no time for megyn kelly s question about plastic surgery',\n",
              " 'daily meditation there s nothing wrong with you',\n",
              " 'lena dunham open up about sexual heal after assault in poignant essay',\n",
              " 'trump reportedly call germans very bad vow to stop german car sales in the u s',\n",
              " 'new study recommend insects spend at least 30 minutes skitter per day',\n",
              " 'motherhood be an extreme sport',\n",
              " 'the us help create a christian martyr in oscar romero',\n",
              " 'funeral attendees get misty eye during first dance with corpse',\n",
              " 'poll trump and clinton be both spectacularly unpopular candidates',\n",
              " 'rolos unveil new cryptocurrency exclusively for rolos customers',\n",
              " 'your father die peacefully in his sleep assure hospice nurse who spend past 6 months watch man wither away in agony',\n",
              " 'huffpollster republicans be feel a lot better about their party post election',\n",
              " 'how many of the hundreds of thousands of untested rape kit in the us be in your city',\n",
              " 'new study reveal nothing pfizer s lawyers can t take care of',\n",
              " 'blender leave on to keep cat company',\n",
              " '10 things not to do before your next race',\n",
              " 'remember lynn walker huntley',\n",
              " 'colbert have a few blister extra question mueller can ask trump',\n",
              " 'a big shift be come and it could uber ize entire industries',\n",
              " 'intelligence officials can t say how many americans they spy on',\n",
              " 'from behind the screen you come so close',\n",
              " 'hurricane harvey and the failure of the free market',\n",
              " 'coworker wonder if anyone interest in lay bare their physical shortcomings in basketball league this year',\n",
              " 'hobby lobby still cover vasectomies and viagra',\n",
              " 'do romans 13 give the president the right to nuke north korea',\n",
              " 'alex trebek rap his way through an entire jeopardy category',\n",
              " 'dog cat and squirrel drama escalate in a hurry',\n",
              " 'sudden cardiac arrest more likely in african americans new study say',\n",
              " 'fda warn another company about unapproved consumer genetic test',\n",
              " 'new instant lottery game feature three ways to win 19 839 947 ways to lose',\n",
              " 'hundreds in hollywood protest rampant sexual misconduct',\n",
              " 'architects of 2026 market crash just finish a highly productive lunch',\n",
              " 'equifax impress by hackers ability to ruin people s finance more efficiently than company can',\n",
              " 'man die all by himself',\n",
              " 'trademark show amazon have sight on meal kit single cow burgers and other fast food options',\n",
              " 'california s best answer to prison overcrowd',\n",
              " 'bush introduce new timmy blanchard leave behind act',\n",
              " 'hillary clinton vs herself',\n",
              " '23 incredible benefit of get more sleep',\n",
              " 'rescue team save boy dangle from ski lift in dramatic video',\n",
              " 'thousands gather in louisville to pay final respect to muhammad ali',\n",
              " 'south korea to hold presidential election in may to replace impeach leader park geun hye',\n",
              " 'my life in soap',\n",
              " 'candidate with no chance of win nomination settle on goal of crush hickenlooper campaign',\n",
              " 'solutions to the influence of big money in politics heed president obama s call',\n",
              " 'woman admit steal cop car speed off while handcuff',\n",
              " 'grandma hang on to spend one last christmas with nurse home staff',\n",
              " 'celebrate older americans month by fight senior poverty',\n",
              " 'pallbearers carry leslie nielsen s coffin without incident',\n",
              " 'word origin comics the abc s of education',\n",
              " 'jam corden take his feud with usain bolt to hilarious new heights',\n",
              " 'angry lumberjack demand hearty breakfast',\n",
              " 'kris jenner turn all the way up for drunken valentine s day karaoke',\n",
              " 'biden urge paul ryan to check out nude scene from porky s on phone',\n",
              " 'ice argue migrants in camp be free to die at any time',\n",
              " 'alaska wife steal patrol car hold hubby police say',\n",
              " 'recap the women s college advantage',\n",
              " '12 time anna kendrick say exactly what you be think',\n",
              " 'area woman s safety net brace for another impact',\n",
              " 'greg hardy unapologetically deny domestic abuse allegations',\n",
              " 'area bar use to be cool now lame',\n",
              " 'jury find man guilty of murder wife and children but get it',\n",
              " 'death and mourn on the easter holiday',\n",
              " 'local man a paper towel black hole',\n",
              " 'new monster energy defibrillator tout 1 200 volts deliver straight to heart',\n",
              " 'former refugee fight for her dream to abolish female genital mutilation in somalia',\n",
              " 'when adults choose not to vaccinate against measles baby pay the price',\n",
              " 'genetics emphatically deny play any part in area man s body',\n",
              " '11 life lessons i learn from my year of run',\n",
              " 'gop s confirmation of lynch win t change anything with obama',\n",
              " 'how to break your internet addiction',\n",
              " 'new photo show medusa nebula be way prettier than its namesake',\n",
              " 'republican run for open montana house seat double down on creationist stance',\n",
              " 'vote underway in myanmar s first free election in 25 years',\n",
              " 'accidentally close browser window with 23 tabs open present rare chance at new life',\n",
              " 'man think people care enough about him to be let down by his failures',\n",
              " 'she be shoot and survive now she have to relive the worst night of her life',\n",
              " 'be it time to level the play field for college athletes',\n",
              " 'here s what science say about the connection between your name and your destiny',\n",
              " 'newly tenure professor now inspire to work harder than ever',\n",
              " 'vin diesel put on 35 pound of bone for upcoming role',\n",
              " 'report no one at white castle want to make friends',\n",
              " 'megyn kelly say trump sexism question wasn t an attack',\n",
              " 'how the media devalue women',\n",
              " 'publicist schmooze wife into sex',\n",
              " 'gorsuch like thomas will get his big payback',\n",
              " 'the rise and fall of the blackberry an interview with jacquie mcnish and sean silcoff',\n",
              " 'wilmer flores friday night be straight out of a hollywood movie',\n",
              " 'clergy abuse advocate fear pope francis be make it harder for victims to speak up',\n",
              " '12 stun photos of tiny dancers catch in action',\n",
              " 'churchgoing widow what get them hot',\n",
              " 'kam chancellor get the cop call on him for look at a gym',\n",
              " 'skywriter leave suicide note',\n",
              " 'baseball s new rule be even sillier than we think',\n",
              " 'man crush by lack of filth on q tip pull from ear',\n",
              " 'iowa resident have opinion month too late',\n",
              " 'anonymous source i m a cowardly snitch',\n",
              " 'republicans fail on health care here s why the rest of trump s agenda win t be so easy either',\n",
              " '4 simple ways to stay ground and stress free during the holiday',\n",
              " 'gorgeous 25 year old dead at 79',\n",
              " 'not merely anti trump the resistance seek to re normalize america',\n",
              " 'sing be an optimistic song to the world',\n",
              " 'jenna fischer reveal what pam tell michael during his office goodbye episode',\n",
              " 'report u s consumers spend 900 billion each year after say gimme one of those too',\n",
              " 'some of amazon s suitors have be burn before',\n",
              " 'donald trump win t stop talk about how healthy he be',\n",
              " '13 essential question to ask when hire a web design company',\n",
              " 'putin condemn ukrainian people s unprovoked 1 000 year occupation of south russia',\n",
              " 'son discover dad s welcome back kotter spec script while clean out attic',\n",
              " 'mtv promote air condemn controversial new video',\n",
              " '10 year old first responders rush to bike crash scene to check out tyler s fuck up leg',\n",
              " 'laptop really get off from have both usb port stuff',\n",
              " 'twitter be a more comfortable place for perpetrators than it be for sexual violence survivors',\n",
              " 'be the lgbtq community separate by gender and race video',\n",
              " 'in mental health awareness week we need more than mental health first aid',\n",
              " 'hide valley ranch bomb by balsamic extremists',\n",
              " 'photos show fire and smoke engulf ankara district after deadly car bomb',\n",
              " 'image vs substance in your self make journey',\n",
              " 'how your sleep change with the moon',\n",
              " 'chuck grassley scratch christine blasey s a slut into senate bathroom stall',\n",
              " 'raid on nacho supremacist compound uncover guacamole make materials',\n",
              " 'american sniper screenwriter jason hall on screenwriting war movies and be nominate for an oscar',\n",
              " 'otherwise savvy woman dupe by mascara makers again',\n",
              " 'new year s resolution let colleges lead the way to a new normal in cuba',\n",
              " 'suspect clean up real nice',\n",
              " 'watch 1998 rudy giuliani completely torpedo 2018 rudy giuliani s trump arguments',\n",
              " 'guy in suit handle newspaper like a pro',\n",
              " 'mythbusters team strike down by zeus',\n",
              " '85 percent of u s cole slaw remain uneaten',\n",
              " 'vulnerable republicans just show why fight for trans right be a political winner',\n",
              " 'grocery store freezer s white castle section a wreck',\n",
              " 'put up with dave s shit not in job description',\n",
              " 'lessons from a president s day accident',\n",
              " 'nation doesn t know if it can take another bullshit speech about heal',\n",
              " 'woman who have almost form healthy sense of self rejoin social media',\n",
              " 'lil jon have to tell trump why call him an uncle tom be not ok',\n",
              " 'head on pike really pull together castle s look',\n",
              " 'conceive our choose family',\n",
              " 'area dad saw a great show on bigfoot last night',\n",
              " 'it s not the 80s anymore transition relate care be basic health care',\n",
              " 'mom start to fear son s web series closest thing she will have to grandchild',\n",
              " 'vladimir putin begin second term as whatever he be',\n",
              " '12 publicists dead 43 injure in struggle to transform the rock into dwayne johnson',\n",
              " 'taraji p henson react to first family s thoughts on empire',\n",
              " 'longtime refugees grateful for citizenship in tanzania',\n",
              " 'report employers know within first 5 minutes of job interview whether they will murder applicant',\n",
              " 'michigan residents be pretty unhappy with rick snyder',\n",
              " 'defense need to be more physical report man slump on couch for past 5 hours',\n",
              " 'report watch episode of downton abbey count as read book',\n",
              " 'donald trump sad to see confederate monuments be take down',\n",
              " 'jennifer garner make first public appearance since ben affleck split',\n",
              " 'isis vs isil what s in a name',\n",
              " 'grandma excite to show off new beach sweater',\n",
              " 'mizzou football players celebrate university president s resignation',\n",
              " 'now that man have hear about barack obama he see reference to him all over the place',\n",
              " 'real people in car commercials be either actors or not terribly bright',\n",
              " 'suspect killer of little girl work for police',\n",
              " 'fat girl euphemize',\n",
              " 'death withdraw icy hand from shoulder of caroline kennedy',\n",
              " 'donald trump invoke michael moore in a grasp for liberal support',\n",
              " 'report many job lack benefit to cut',\n",
              " 'burger king introduce new thing to throw in front of kid after another hellish day at work',\n",
              " 'new york to investigate insurance bias against gay men after bombshell news report',\n",
              " 'new taliban chief call for unity amid leadership struggle',\n",
              " 'man not even the hot kind',\n",
              " 'two years after sandy address the emotional need of survivors',\n",
              " 'trump respond to father of kill american soldier can t name a single sacrifice',\n",
              " '8 ways to really travel better',\n",
              " 'bruce jenner okay follow deadly car crash',\n",
              " 'millions across country celebrate make a kid at work day',\n",
              " 'trance of unreal other',\n",
              " 'man s area code provide excite glimpse at past life',\n",
              " 'atonal composers gather for atony award',\n",
              " 'wayne lapierre go on harpoon spree to prove some sort of point',\n",
              " 'single woman would love to hear them call her lonely now that she have basil plant',\n",
              " 'here s your chance to score never end pasta at olive garden',\n",
              " 'trouble republicans have no plan to do anything about jam comey s fire',\n",
              " 'a guide to sex at 50 and beyond',\n",
              " 'the moment cynthia nixon realize sex and the city be more than just a funny show',\n",
              " 'steven avery have no doubt he ll be a free man again after nephew s conviction overturn',\n",
              " 'why goals be landmarks mean to be pass not reach',\n",
              " 'maple tree wish it be give a say in become memorial to man s dead wife',\n",
              " 'man discover huge cache of rare fossils while walk through natural history museum',\n",
              " 'suspect capture in ambush style attack on iowa police officer',\n",
              " 'new report find fastest rise cause of death in u s be lose chess match to grim reaper',\n",
              " 'mountain lion track by scientists be find dead near malibu road',\n",
              " 'group cheer after group hear group s name call',\n",
              " 'rwanda be become a magnet for chinese money and migrants',\n",
              " 'town hall audience give amy klobuchar stand ovation as she lift chris cuomo up by throat',\n",
              " 'nation s moms demand christmas list',\n",
              " 'munich shooter plan attack for a year german authorities say',\n",
              " 'we could see michelle obama in all of these design',\n",
              " 'cop crash cruiser into ditch after this owl attack his head',\n",
              " 'watch stun holy fire ritual light up orthodox easter',\n",
              " 'trump mock christine blasey ford for forget basic facts about a woman s place',\n",
              " 'two new documentaries outline the legacies of steven spielberg and alfred hitchcock',\n",
              " 'negative parent teacher conference not exactly eye open for area mother',\n",
              " 'semiotics department accuse university administration of anti semiotism',\n",
              " 'area man have own version of neighborhood watch program',\n",
              " 'facebook identify hate speech be difficult because some post actually make pretty interest point',\n",
              " 'father of muslim american war hero to trump you have sacrifice nothing',\n",
              " 'college roommates to continue bond process until real friends make',\n",
              " 'tarsiers the world s smallest primate animal planet on the looney front part 9',\n",
              " 'new study find average american stand no chance against what s come',\n",
              " 'hang glider gang terrorize elderly hot air balloon couple',\n",
              " 'how to make this glitter eyeliner from fashion week work in real life',\n",
              " 'your heart be probably older than you think cdc warn',\n",
              " 'crossfit mama get real about why her post baby body be amaze',\n",
              " 'brett kavanaugh reiterate cruel and unusual punishment what make someone a true kappa',\n",
              " 'local woman consider tell gynecologist whole truth',\n",
              " 'boy scout unveil historic name change as girls join youth program',\n",
              " 'watch thousands march in his honor unlock deeper darker corner of trump s psyche',\n",
              " 'google s 9 11 homepage design stir controversy',\n",
              " 'house pass dead on arrival bill to address border crisis',\n",
              " 'fox news guest blame liberals for inner city violence',\n",
              " 'man with apple hover in front of face sue ren magritte s estate',\n",
              " 'etiquette tip for celebrate graduations',\n",
              " 'mom use face paint skills to turn kid into something magical',\n",
              " 'man frantically return to website that just crash his browser',\n",
              " 'frustrate fcc unable to stop use of word friggin',\n",
              " 'enrage character in stageplay to be unconvincingly restrain by other actors',\n",
              " '4 ways retire can be as smart with their money as donald trump',\n",
              " 'nation mostly alarm that government s top program handle by 29 year olds',\n",
              " 'jada pinkett smith and gabrielle union end feud after 17 years',\n",
              " 'trump flub gaffe',\n",
              " 'the black key new album turn blue be now available to stream in full',\n",
              " 'voter just need to know which candidate chop wood in a flannel shirt',\n",
              " 'decision 2000 actually make in smoke fill room in 1997',\n",
              " 'thomas pogge have do damage to yale philosophy department colleague say',\n",
              " 'diabetic gout ride kim jong un by far healthiest person in north korea',\n",
              " 'orange workout gear that ll legitimately up your gym game',\n",
              " 'how to make greek easter sweet bread tsoureki',\n",
              " 'triumph of human engineer sleep through',\n",
              " '14 photos that show the special bond between moms and daughters',\n",
              " 'sean spicer finally call it quit after 6 months of humiliations',\n",
              " 'what i learn about my son be the best mother s day gift ever',\n",
              " 'asshole from plane greet at baggage claim by whole family',\n",
              " 'authorities swiftly announce 1 600 washington dairy cow find mutilate arrange in pentagram kill by blizzard',\n",
              " 'opponents of peace',\n",
              " 'the supreme court be weigh corporate power yet again',\n",
              " 'priest s lose puppy be much closer than he think',\n",
              " 'fuck idiot have perfect gif for that',\n",
              " 'climate researchers warn only hope for humanity now lie in possibility they make all of this up',\n",
              " 'powerball ticket sell with all win number in 421 million jackpot',\n",
              " 'notorious b i g cremation enter fifth week',\n",
              " 'enthusiasm of 18 year old first time voter completely unbearable',\n",
              " 'pete buttigieg be the future of the democratic party but what kind of future',\n",
              " 'orlando locals fear town start to become overrun by tourists',\n",
              " 'this homoji keyboard bring queer shorthand to your text message',\n",
              " 'fda confirm psilocybin reduce risk of mindlessly follow society s rule like fuck lemming',\n",
              " 'life unfair',\n",
              " 'national weather service to give hurricanes full name',\n",
              " 'stick shift brag about',\n",
              " 'black voter turnout so far be not good for hillary clinton',\n",
              " 'a different kind of mom',\n",
              " 'and now the first picture from the gilmore girls revival',\n",
              " 'deadly tornadoes rip through texas as flood threaten midwest',\n",
              " 'unemployed prince harry meghan markle announce plan to give baby up for adoption',\n",
              " 'guy look to feel horrible about aspect of everyday life decide to watch documentary',\n",
              " 'twas the night before the hot dog contest',\n",
              " 'american people admit have facebook data steal kind of worth it to watch that little fucker squirm',\n",
              " 'john legend try in earnest to talk kanye west out of support trump',\n",
              " 'khloe kardashian pose braless for women s health and look amaze',\n",
              " '7 mistake leaders make that make everyone miserable',\n",
              " 'these muslim teens just go to their first women s march they could have lead it',\n",
              " 'jam corden s melania long to be part of our world in little mermaid spoof',\n",
              " 'establishment back moderate win heat democratic house primary in texas',\n",
              " 'report buddy dysmorphia sufferers experience skew negative perception of shape of friends',\n",
              " '5 indefensible tweet from the nra since the oregon gun massacre',\n",
              " 'motivational tape get man excite for 20 minutes',\n",
              " 'watch live actor tony hale dish on the latest season of veep',\n",
              " 'parent consider second child so daughter can have someone to grow apart from',\n",
              " 'wise oracle proclaim to all at barbecue that he felt a raindrop',\n",
              " 'chipotle mayo do all the heavy lift in sandwich',\n",
              " 'nobel prize in chemistry award to taft middle school teacher mr ambler',\n",
              " 'backup spatula always ready to go in case the unthinkable happen',\n",
              " 'rand paul warn donald trump not to choose menace john bolton as secretary of state',\n",
              " 'haunt house guests escort into vip section where they can touch the performers',\n",
              " 'intel unveil oversized novelty processor',\n",
              " 'how to dress like an nfl superfan and still look good',\n",
              " 'these simple facebook shortcuts will save you time',\n",
              " 'another friends star to appear in another big screen bomb',\n",
              " 'cindy gallop redefine the future of sex and impact the world',\n",
              " '25 worst original name of famous band',\n",
              " 'remington debut new split barrel murder suicide shotgun',\n",
              " 'lgbt right rally in deeply divide singapore see record turnout',\n",
              " 'what future for iraq interreligious debate at the sant egidio meet',\n",
              " 'country music protest in restaurant s kitchen',\n",
              " 'terrify newsroom writers nod head at every bad idea aaron sorkin say',\n",
              " 'styrofoam coffee cup from omaha excite to finally see pacific ocean',\n",
              " 'visit home reveal parent currently watch previously undiscovered game show',\n",
              " 'will flood in texas lead to more mosquito bear illness',\n",
              " 'how many women do it take to change a cable news host',\n",
              " 'tank roll by live room window',\n",
              " 'right to live life in complete stun horror add to constitution',\n",
              " 'travel ban be a minor win for trump and a major loss for human right',\n",
              " 'l a school district reach 88 million settlement in sex misconduct case at two campuses',\n",
              " 'report everyone start new excite stage of life except you',\n",
              " 'donald trump threaten 35 percent tariff as retribution for company that move abroad',\n",
              " 'bon app tit deny allegations that they responsible for millions of pro quiche twitter bots',\n",
              " 'why pediatricians be so upset that trump rescind daca',\n",
              " 'the fda should even the score for women s sexual health',\n",
              " 'this common nighttime habit be give you wrinkle study say',\n",
              " 'video game character feel healthier after eat turkey leg off grind',\n",
              " 'thousands take to the streets to demand resignation of nicaraguan president',\n",
              " 'national security experts isis be fuck assholes',\n",
              " 'bruce vilanch sodomize by homosexual',\n",
              " 'next week s republican debate in utah cancel',\n",
              " 'a drug company be put work life balance before profit cool',\n",
              " 'can t go wrong with a cheeseburger area man report',\n",
              " 'astronomers just go to go ahead and say dark matter nitrogen',\n",
              " 'kathy griffin lawyers up to address bully from trump family',\n",
              " 'republicans near deal on tax cut bill',\n",
              " 'ford confirm plant fire cause by spook f 150 knock over lantern',\n",
              " 'man brag about how infrequently he receive dental care',\n",
              " 'south african court more than double oscar pistorius sentence',\n",
              " 'another pufferfish die bitter and friendless',\n",
              " 'alien mourn as final cheer episode reach alpha centauri',\n",
              " 'nation s older brothers recommend not be such a little bitch',\n",
              " 'progressive company pay both men and women 78 of what they should be earn',\n",
              " 'michelle obama tell vogue it s time to leave the white house',\n",
              " 'white house claim iran behind attack on nancy kerrigan',\n",
              " 'no one in family sure who trip to arboretum be gear toward',\n",
              " 'jamie lynn spear lose custody of fetus',\n",
              " 'whole foods recall maytag blue cheese due to listeria risk',\n",
              " 'las vegas review journal staff balk at limit on cover new owner',\n",
              " 'authoritarian secretary of transportation declare she have ultimate right of way in every traffic scenario',\n",
              " 'why run a writers conference',\n",
              " 'donald trump if the economy be gonna explode let it happen quickly',\n",
              " 'god shoot himself while clean gun',\n",
              " 'hertz introduce short term rental for just drive around to clear head',\n",
              " 'surprise international visit make for heartwarming first meet between grandson and grandparents',\n",
              " 'kerry take frustration out on lobster',\n",
              " 'gop consultant plead guilty in first super pac coordination conviction',\n",
              " 'why the south carolina church rampage represent a terrorist threat worse than isis',\n",
              " 'fox news statement taunt trump be 100 percent roger ail',\n",
              " 'where do chicago go after more than 750 homicides',\n",
              " 'director scott schwartz take on disney s hunchback',\n",
              " 'boss threats hilarious',\n",
              " 'barack obama tiger beat cover clinch slumber party vote',\n",
              " 'jay z on second think i like orlando more',\n",
              " 'cop write super friendly letter to want woman',\n",
              " 'hasbro concede world not ready for rubik s chicken',\n",
              " 'coroner s report conclude alton sterling die of institutionalize cause',\n",
              " 'to the ladies who didn t need the women s march',\n",
              " 'lgbtq activists organize massive dance protest at trump hotel',\n",
              " 'new evidence suggest last ice age cause by earth float into extremely chilly part of galaxy',\n",
              " 'how to meditate guide practice for stress relief',\n",
              " 'what a dust devil look like on mar',\n",
              " 'confuse insult awkwardly clarify',\n",
              " 'purchase of jeans usher man into exclusive ultra cool subculture of jeans wear americans',\n",
              " 'kite flyer in the zone',\n",
              " 'preschooler ask to borrow classmate s note on shape',\n",
              " 'elderly patient threaten with suppository',\n",
              " 'kevin hart drop an f bomb in awkward nfl network interview',\n",
              " 'scientists discover sun be make of hot',\n",
              " 'slovenian 8th graders surprise even they outperform u s students in science',\n",
              " 'prosthetic arm stick in vend machine',\n",
              " '95 96 prayers finally answer',\n",
              " 'the elderly do they suspect',\n",
              " 'heidi cruz get a boost in new york from trump nastiness backlash',\n",
              " 'across nation superstores drive out old fashion megamalls',\n",
              " 'lieberman s overlords most displease',\n",
              " '19 women react to the messy imperfect girls finale',\n",
              " 'pope francis jesus i get molest kid but nuns too',\n",
              " 'man 20 minutes into organize shelve become grimly aware of what chaos he have work',\n",
              " 'disappoint couple on 8 month waitlist to get marry at pentagon',\n",
              " 'l a add lanes for cyclists to recover from get hit by cars',\n",
              " 'report ocean level could rise foot or more if lot of people go swim',\n",
              " 'hillary clinton make her final pitch of the election in north carolina',\n",
              " 'study child obesity rat decline but you wouldn t know it look at macarthur center mall in norfolk virginia',\n",
              " 'trump s woman card remark drive 2 4 million in fundraise for hillary clinton',\n",
              " 'former mugabe deputy to be swear in as president',\n",
              " 'new date website help plus size jewish plane crash survivors find love',\n",
              " 'the u s already test trump s can goods idea on native americans it be bad',\n",
              " 'fall of inversions',\n",
              " 'trump meet drugmakers demand lower price',\n",
              " 'cackle warren buffett burn entire fortune in front of nation',\n",
              " 'i want to be that girl',\n",
              " 'thousands dead in indonesia again',\n",
              " 'gamers rejoice this potion restore 20 hp',\n",
              " 'a progressive vision for the fbi',\n",
              " 'our cross to bear',\n",
              " 'exhibitionist zoo elephants wait for crowd to gather before screw',\n",
              " 'how boehner can clean house one sentence to prevent government shutdowns forever',\n",
              " 'trump thank unite nations for invite him to their country',\n",
              " 'at lg forum host by h a p a green and espero target homelessness lift people out of poverty',\n",
              " 'the best style moments from wimbledon 2015',\n",
              " 'battle of wits with unwieldy burrito near thrill endgame',\n",
              " 'look thor s helmet glow in brilliant neon hue',\n",
              " 'clinton staff ready emp launch to disable all nation s electronic devices',\n",
              " ...]"
            ]
          },
          "metadata": {},
          "execution_count": 193
        }
      ]
    },
    {
      "cell_type": "markdown",
      "source": [
        "Talller: Haga la predicciòn sobre 30 regsitros del conjunto de datos original"
      ],
      "metadata": {
        "id": "p_7oXsRV3tPt"
      }
    },
    {
      "cell_type": "code",
      "source": [
        "sample_indices = np.random.choice(len(df), 30, replace=False)  # Randomly select 30 indices\n",
        "sample_headlines = df['headline'][sample_indices]  # Get the headlines corresponding to the indices"
      ],
      "metadata": {
        "id": "FApKmtsQ30mN"
      },
      "execution_count": null,
      "outputs": []
    },
    {
      "cell_type": "code",
      "source": [
        "sample_headlines_df = pd.DataFrame(sample_headlines)"
      ],
      "metadata": {
        "id": "VNySxtSo_yfG"
      },
      "execution_count": null,
      "outputs": []
    },
    {
      "cell_type": "code",
      "source": [
        "sample_preprocessed = preprocess(sample_headlines_df['headline'], lemmatization=True, remove_stopwords=False)"
      ],
      "metadata": {
        "id": "dvJs4p7_32yV"
      },
      "execution_count": null,
      "outputs": []
    },
    {
      "cell_type": "code",
      "source": [
        "sample_vectorized = vectorize_data(sample_preprocessed)"
      ],
      "metadata": {
        "colab": {
          "base_uri": "https://localhost:8080/",
          "height": 263
        },
        "id": "nbUSkIp08doc",
        "outputId": "7357ab7a-96f4-4123-d8cb-da01585e9a4c"
      },
      "execution_count": null,
      "outputs": [
        {
          "output_type": "error",
          "ename": "TypeError",
          "evalue": "argument of type 'Sequential' is not iterable",
          "traceback": [
            "\u001b[0;31m---------------------------------------------------------------------------\u001b[0m",
            "\u001b[0;31mTypeError\u001b[0m                                 Traceback (most recent call last)",
            "\u001b[0;32m<ipython-input-241-df73035be63d>\u001b[0m in \u001b[0;36m<cell line: 1>\u001b[0;34m()\u001b[0m\n\u001b[0;32m----> 1\u001b[0;31m \u001b[0msample_vectorized\u001b[0m \u001b[0;34m=\u001b[0m \u001b[0mvectorize_data\u001b[0m\u001b[0;34m(\u001b[0m\u001b[0msample_preprocessed\u001b[0m\u001b[0;34m)\u001b[0m\u001b[0;34m\u001b[0m\u001b[0;34m\u001b[0m\u001b[0m\n\u001b[0m",
            "\u001b[0;32m<ipython-input-230-1a3fb1f2913a>\u001b[0m in \u001b[0;36mvectorize_data\u001b[0;34m(data)\u001b[0m\n\u001b[1;32m     10\u001b[0m         \u001b[0;32mif\u001b[0m \u001b[0mcount\u001b[0m \u001b[0;34m>=\u001b[0m \u001b[0mMAX_LEN\u001b[0m\u001b[0;34m:\u001b[0m\u001b[0;34m\u001b[0m\u001b[0;34m\u001b[0m\u001b[0m\n\u001b[1;32m     11\u001b[0m           \u001b[0;32mbreak\u001b[0m\u001b[0;34m\u001b[0m\u001b[0;34m\u001b[0m\u001b[0m\n\u001b[0;32m---> 12\u001b[0;31m         \u001b[0;32mif\u001b[0m \u001b[0mtoken\u001b[0m \u001b[0;32min\u001b[0m \u001b[0mmodel\u001b[0m\u001b[0;34m:\u001b[0m\u001b[0;34m\u001b[0m\u001b[0;34m\u001b[0m\u001b[0m\n\u001b[0m\u001b[1;32m     13\u001b[0m           \u001b[0mdata_point_vectors\u001b[0m\u001b[0;34m.\u001b[0m\u001b[0mappend\u001b[0m\u001b[0;34m(\u001b[0m\u001b[0mmodel\u001b[0m\u001b[0;34m[\u001b[0m\u001b[0mtoken\u001b[0m\u001b[0;34m]\u001b[0m\u001b[0;34m)\u001b[0m \u001b[0;31m#si la palabra está en el modelo saca la posición en el modelo\u001b[0m\u001b[0;34m\u001b[0m\u001b[0;34m\u001b[0m\u001b[0m\n\u001b[1;32m     14\u001b[0m           \u001b[0mcount\u001b[0m \u001b[0;34m+=\u001b[0m \u001b[0;36m1\u001b[0m\u001b[0;34m\u001b[0m\u001b[0;34m\u001b[0m\u001b[0m\n",
            "\u001b[0;31mTypeError\u001b[0m: argument of type 'Sequential' is not iterable"
          ]
        }
      ]
    },
    {
      "cell_type": "code",
      "source": [
        "sample_headlines_vectorized = np.reshape(sample_vectorized, (len(sample_headlines_vectorized), MAX_LEN, VECTOR_SIZE))\n"
      ],
      "metadata": {
        "id": "AEzodBOt4dga"
      },
      "execution_count": null,
      "outputs": []
    },
    {
      "cell_type": "code",
      "source": [
        "predicted_labels = (predictions > 0.5).astype(int)  # Convert probabilities to binary labels (0 or 1)"
      ],
      "metadata": {
        "id": "cZ1Uzw5W4BQV"
      },
      "execution_count": null,
      "outputs": []
    },
    {
      "cell_type": "code",
      "source": [
        "for i in range(30):\n",
        "    print(f\"Headline: {sample_headlines.iloc[i]}\")\n",
        "    print(f\"Predicted Label: {predicted_labels[i][0]}\")  # 0: Non-sarcastic, 1: Sarcastic\n",
        "    print(\"-\" * 20)"
      ],
      "metadata": {
        "id": "9uAtiF3O4N5Z"
      },
      "execution_count": null,
      "outputs": []
    }
  ]
}