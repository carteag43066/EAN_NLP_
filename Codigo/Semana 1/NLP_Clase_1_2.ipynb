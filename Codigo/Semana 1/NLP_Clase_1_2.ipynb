{
 "cells": [
  {
   "cell_type": "code",
   "execution_count": null,
   "metadata": {
    "id": "xk0okSliTdJc"
   },
   "outputs": [],
   "source": []
  },
  {
   "cell_type": "markdown",
   "metadata": {
    "id": "thzSVJljURy4"
   },
   "source": [
    "Ahora que sabemos cómo instalar bibliotecas, exploremos la simplicidad de Python en términos de llevar a cabo tareas razonablemente complejas.\n",
    "\n",
    "Tenemos un archivo CSV con datos de llegada y salida de vuelos de los principales aeropuertos de EE. UU. de julio de 2019. Los datos han sido obtenidos del sitio web del Departamento de Transporte de EE. UU. (https://www.transtats.bts.gov/DL_SelectFields.asp?Table_ID=236).\n",
    "\n",
    "El archivo tiene más de medio millón de filas. A continuación, se muestra un fragmento parcial del conjunto de datos:"
   ]
  },
  {
   "cell_type": "code",
   "execution_count": 7,
   "metadata": {
    "colab": {
     "base_uri": "https://localhost:8080/",
     "height": 73
    },
    "id": "_4egDuhIWwYM",
    "outputId": "54ffd08b-51b3-4eaa-df15-dffd97cbdea0"
   },
   "outputs": [],
   "source": [
    "#from google.colab import files\n",
    "\n",
    "# Subir el archivo zip\n",
    "#uploaded = files.upload()\n"
   ]
  },
  {
   "cell_type": "code",
   "execution_count": 8,
   "metadata": {
    "colab": {
     "base_uri": "https://localhost:8080/"
    },
    "id": "ZNE9PurjWxxF",
    "outputId": "5d0c646e-24eb-4a33-a6b5-6f634bd13787"
   },
   "outputs": [
    {
     "data": {
      "text/plain": [
       "'import zipfile\\nimport os\\n\\n# Nombre del archivo zip (reemplaza \\'nombre_del_archivo.zip\\' con el nombre del archivo que subiste)\\nzip_file_name = \\'flight_data.zip\\'\\n\\n# Extraer el archivo\\nwith zipfile.ZipFile(zip_file_name, \\'r\\') as zip_ref:\\n    zip_ref.extractall(\\'/content/extracted_files\\')  # Extrae el contenido a la carpeta \\'extracted_files\\'\\n\\n# Verificar el contenido de la carpeta extraída\\nprint(\"Archivos extraídos:\")\\nprint(os.listdir(\\'/content/extracted_files\\'))\\n'"
      ]
     },
     "execution_count": 8,
     "metadata": {},
     "output_type": "execute_result"
    }
   ],
   "source": [
    "'''import zipfile\n",
    "import os\n",
    "\n",
    "# Nombre del archivo zip (reemplaza 'nombre_del_archivo.zip' con el nombre del archivo que subiste)\n",
    "zip_file_name = 'flight_data.zip'\n",
    "\n",
    "# Extraer el archivo\n",
    "with zipfile.ZipFile(zip_file_name, 'r') as zip_ref:\n",
    "    zip_ref.extractall('/content/extracted_files')  # Extrae el contenido a la carpeta 'extracted_files'\n",
    "\n",
    "# Verificar el contenido de la carpeta extraída\n",
    "print(\"Archivos extraídos:\")\n",
    "print(os.listdir('/content/extracted_files'))\n",
    "'''"
   ]
  },
  {
   "cell_type": "code",
   "execution_count": 9,
   "metadata": {},
   "outputs": [
    {
     "name": "stdout",
     "output_type": "stream",
     "text": [
      "d:\\Ciencia_de_datos_Tests\\Codigo\n"
     ]
    }
   ],
   "source": [
    "import os \n",
    "print(os.getcwd())"
   ]
  },
  {
   "cell_type": "code",
   "execution_count": 10,
   "metadata": {
    "colab": {
     "base_uri": "https://localhost:8080/",
     "height": 112
    },
    "id": "msegg-YFXGYp",
    "outputId": "92b4df4f-7a32-4c2a-808a-2eed2bafd3d2"
   },
   "outputs": [
    {
     "data": {
      "text/html": [
       "<div>\n",
       "<style scoped>\n",
       "    .dataframe tbody tr th:only-of-type {\n",
       "        vertical-align: middle;\n",
       "    }\n",
       "\n",
       "    .dataframe tbody tr th {\n",
       "        vertical-align: top;\n",
       "    }\n",
       "\n",
       "    .dataframe thead th {\n",
       "        text-align: right;\n",
       "    }\n",
       "</style>\n",
       "<table border=\"1\" class=\"dataframe\">\n",
       "  <thead>\n",
       "    <tr style=\"text-align: right;\">\n",
       "      <th></th>\n",
       "      <th>YEAR</th>\n",
       "      <th>MONTH</th>\n",
       "      <th>DAY</th>\n",
       "      <th>CARRIER</th>\n",
       "      <th>ORIGIN</th>\n",
       "      <th>DEST</th>\n",
       "      <th>SCHED_DEP_TIME</th>\n",
       "      <th>ACT_DEP_TIME</th>\n",
       "      <th>DEP_DELAY</th>\n",
       "      <th>SCHED_ARR_TIME</th>\n",
       "      <th>ACT_ARR_TIME</th>\n",
       "      <th>ARR_DELAY</th>\n",
       "    </tr>\n",
       "  </thead>\n",
       "  <tbody>\n",
       "    <tr>\n",
       "      <th>0</th>\n",
       "      <td>2019</td>\n",
       "      <td>7</td>\n",
       "      <td>24</td>\n",
       "      <td>G4</td>\n",
       "      <td>PIE</td>\n",
       "      <td>AVL</td>\n",
       "      <td>1511</td>\n",
       "      <td>1533.0</td>\n",
       "      <td>22.0</td>\n",
       "      <td>1644</td>\n",
       "      <td>1659.0</td>\n",
       "      <td>15.0</td>\n",
       "    </tr>\n",
       "    <tr>\n",
       "      <th>1</th>\n",
       "      <td>2019</td>\n",
       "      <td>7</td>\n",
       "      <td>29</td>\n",
       "      <td>G4</td>\n",
       "      <td>AUS</td>\n",
       "      <td>SFB</td>\n",
       "      <td>2002</td>\n",
       "      <td>2010.0</td>\n",
       "      <td>8.0</td>\n",
       "      <td>2335</td>\n",
       "      <td>2344.0</td>\n",
       "      <td>9.0</td>\n",
       "    </tr>\n",
       "  </tbody>\n",
       "</table>\n",
       "</div>"
      ],
      "text/plain": [
       "   YEAR  MONTH  DAY CARRIER ORIGIN DEST  SCHED_DEP_TIME  ACT_DEP_TIME  \\\n",
       "0  2019      7   24      G4    PIE  AVL            1511        1533.0   \n",
       "1  2019      7   29      G4    AUS  SFB            2002        2010.0   \n",
       "\n",
       "   DEP_DELAY  SCHED_ARR_TIME  ACT_ARR_TIME  ARR_DELAY  \n",
       "0       22.0            1644        1659.0       15.0  \n",
       "1        8.0            2335        2344.0        9.0  "
      ]
     },
     "execution_count": 10,
     "metadata": {},
     "output_type": "execute_result"
    }
   ],
   "source": [
    "import pandas as pd\n",
    "file_path = '../Datos/flight_data.csv'\n",
    "df_path = pd.read_csv(file_path)\n",
    "df_path.head(2)\n",
    "\n"
   ]
  },
  {
   "cell_type": "code",
   "execution_count": 11,
   "metadata": {
    "colab": {
     "base_uri": "https://localhost:8080/"
    },
    "id": "_GME4CGASBMO",
    "outputId": "9af2b4ba-c5a6-425b-f609-de58f0cdba9c"
   },
   "outputs": [
    {
     "data": {
      "text/plain": [
       "(659029, 12)"
      ]
     },
     "execution_count": 11,
     "metadata": {},
     "output_type": "execute_result"
    }
   ],
   "source": [
    "df_path.shape"
   ]
  },
  {
   "cell_type": "code",
   "execution_count": 12,
   "metadata": {
    "colab": {
     "base_uri": "https://localhost:8080/"
    },
    "id": "swjI6pdvSE_U",
    "outputId": "e5ed7479-b0fc-4510-be47-ac346bbe99ac"
   },
   "outputs": [
    {
     "name": "stdout",
     "output_type": "stream",
     "text": [
      "<class 'pandas.core.frame.DataFrame'>\n",
      "RangeIndex: 659029 entries, 0 to 659028\n",
      "Data columns (total 12 columns):\n",
      " #   Column          Non-Null Count   Dtype  \n",
      "---  ------          --------------   -----  \n",
      " 0   YEAR            659029 non-null  int64  \n",
      " 1   MONTH           659029 non-null  int64  \n",
      " 2   DAY             659029 non-null  int64  \n",
      " 3   CARRIER         659029 non-null  object \n",
      " 4   ORIGIN          659029 non-null  object \n",
      " 5   DEST            659029 non-null  object \n",
      " 6   SCHED_DEP_TIME  659029 non-null  int64  \n",
      " 7   ACT_DEP_TIME    646817 non-null  float64\n",
      " 8   DEP_DELAY       646815 non-null  float64\n",
      " 9   SCHED_ARR_TIME  659029 non-null  int64  \n",
      " 10  ACT_ARR_TIME    645942 non-null  float64\n",
      " 11  ARR_DELAY       643781 non-null  float64\n",
      "dtypes: float64(4), int64(5), object(3)\n",
      "memory usage: 60.3+ MB\n"
     ]
    }
   ],
   "source": [
    "df_path.info()"
   ]
  },
  {
   "cell_type": "code",
   "execution_count": 13,
   "metadata": {
    "colab": {
     "base_uri": "https://localhost:8080/",
     "height": 460
    },
    "id": "l5Gr-CHgSH-8",
    "outputId": "4c54d02a-3f88-4e49-cddb-908131659712"
   },
   "outputs": [
    {
     "data": {
      "text/plain": [
       "YEAR                  0\n",
       "MONTH                 0\n",
       "DAY                   0\n",
       "CARRIER               0\n",
       "ORIGIN                0\n",
       "DEST                  0\n",
       "SCHED_DEP_TIME        0\n",
       "ACT_DEP_TIME      12212\n",
       "DEP_DELAY         12214\n",
       "SCHED_ARR_TIME        0\n",
       "ACT_ARR_TIME      13087\n",
       "ARR_DELAY         15248\n",
       "dtype: int64"
      ]
     },
     "execution_count": 13,
     "metadata": {},
     "output_type": "execute_result"
    }
   ],
   "source": [
    "#Verificar si tiene datos nullos\n",
    "df_path.isnull().sum()"
   ]
  },
  {
   "cell_type": "code",
   "execution_count": 14,
   "metadata": {
    "colab": {
     "base_uri": "https://localhost:8080/",
     "height": 394
    },
    "id": "jBcbrDSvSP3N",
    "outputId": "39418141-4082-470a-e30c-317504fdd536"
   },
   "outputs": [
    {
     "data": {
      "text/html": [
       "<div>\n",
       "<style scoped>\n",
       "    .dataframe tbody tr th:only-of-type {\n",
       "        vertical-align: middle;\n",
       "    }\n",
       "\n",
       "    .dataframe tbody tr th {\n",
       "        vertical-align: top;\n",
       "    }\n",
       "\n",
       "    .dataframe thead th {\n",
       "        text-align: right;\n",
       "    }\n",
       "</style>\n",
       "<table border=\"1\" class=\"dataframe\">\n",
       "  <thead>\n",
       "    <tr style=\"text-align: right;\">\n",
       "      <th></th>\n",
       "      <th>YEAR</th>\n",
       "      <th>MONTH</th>\n",
       "      <th>DAY</th>\n",
       "      <th>CARRIER</th>\n",
       "      <th>ORIGIN</th>\n",
       "      <th>DEST</th>\n",
       "      <th>SCHED_DEP_TIME</th>\n",
       "      <th>ACT_DEP_TIME</th>\n",
       "      <th>DEP_DELAY</th>\n",
       "      <th>SCHED_ARR_TIME</th>\n",
       "      <th>ACT_ARR_TIME</th>\n",
       "      <th>ARR_DELAY</th>\n",
       "    </tr>\n",
       "  </thead>\n",
       "  <tbody>\n",
       "    <tr>\n",
       "      <th>count</th>\n",
       "      <td>659029.0</td>\n",
       "      <td>659029.0</td>\n",
       "      <td>659029.000000</td>\n",
       "      <td>659029</td>\n",
       "      <td>659029</td>\n",
       "      <td>659029</td>\n",
       "      <td>659029.000000</td>\n",
       "      <td>646817.000000</td>\n",
       "      <td>646815.000000</td>\n",
       "      <td>659029.000000</td>\n",
       "      <td>645942.000000</td>\n",
       "      <td>643781.000000</td>\n",
       "    </tr>\n",
       "    <tr>\n",
       "      <th>unique</th>\n",
       "      <td>NaN</td>\n",
       "      <td>NaN</td>\n",
       "      <td>NaN</td>\n",
       "      <td>17</td>\n",
       "      <td>356</td>\n",
       "      <td>356</td>\n",
       "      <td>NaN</td>\n",
       "      <td>NaN</td>\n",
       "      <td>NaN</td>\n",
       "      <td>NaN</td>\n",
       "      <td>NaN</td>\n",
       "      <td>NaN</td>\n",
       "    </tr>\n",
       "    <tr>\n",
       "      <th>top</th>\n",
       "      <td>NaN</td>\n",
       "      <td>NaN</td>\n",
       "      <td>NaN</td>\n",
       "      <td>WN</td>\n",
       "      <td>ATL</td>\n",
       "      <td>ATL</td>\n",
       "      <td>NaN</td>\n",
       "      <td>NaN</td>\n",
       "      <td>NaN</td>\n",
       "      <td>NaN</td>\n",
       "      <td>NaN</td>\n",
       "      <td>NaN</td>\n",
       "    </tr>\n",
       "    <tr>\n",
       "      <th>freq</th>\n",
       "      <td>NaN</td>\n",
       "      <td>NaN</td>\n",
       "      <td>NaN</td>\n",
       "      <td>119342</td>\n",
       "      <td>35364</td>\n",
       "      <td>35362</td>\n",
       "      <td>NaN</td>\n",
       "      <td>NaN</td>\n",
       "      <td>NaN</td>\n",
       "      <td>NaN</td>\n",
       "      <td>NaN</td>\n",
       "      <td>NaN</td>\n",
       "    </tr>\n",
       "    <tr>\n",
       "      <th>mean</th>\n",
       "      <td>2019.0</td>\n",
       "      <td>7.0</td>\n",
       "      <td>16.286881</td>\n",
       "      <td>NaN</td>\n",
       "      <td>NaN</td>\n",
       "      <td>NaN</td>\n",
       "      <td>1335.977465</td>\n",
       "      <td>1335.901689</td>\n",
       "      <td>14.191489</td>\n",
       "      <td>1475.831364</td>\n",
       "      <td>1440.047472</td>\n",
       "      <td>8.729063</td>\n",
       "    </tr>\n",
       "    <tr>\n",
       "      <th>std</th>\n",
       "      <td>0.0</td>\n",
       "      <td>0.0</td>\n",
       "      <td>8.855734</td>\n",
       "      <td>NaN</td>\n",
       "      <td>NaN</td>\n",
       "      <td>NaN</td>\n",
       "      <td>499.842522</td>\n",
       "      <td>520.110819</td>\n",
       "      <td>55.729509</td>\n",
       "      <td>531.989548</td>\n",
       "      <td>561.825977</td>\n",
       "      <td>57.523158</td>\n",
       "    </tr>\n",
       "    <tr>\n",
       "      <th>min</th>\n",
       "      <td>2019.0</td>\n",
       "      <td>7.0</td>\n",
       "      <td>1.000000</td>\n",
       "      <td>NaN</td>\n",
       "      <td>NaN</td>\n",
       "      <td>NaN</td>\n",
       "      <td>5.000000</td>\n",
       "      <td>1.000000</td>\n",
       "      <td>-66.000000</td>\n",
       "      <td>1.000000</td>\n",
       "      <td>1.000000</td>\n",
       "      <td>-88.000000</td>\n",
       "    </tr>\n",
       "    <tr>\n",
       "      <th>25%</th>\n",
       "      <td>2019.0</td>\n",
       "      <td>7.0</td>\n",
       "      <td>9.000000</td>\n",
       "      <td>NaN</td>\n",
       "      <td>NaN</td>\n",
       "      <td>NaN</td>\n",
       "      <td>912.000000</td>\n",
       "      <td>909.000000</td>\n",
       "      <td>-5.000000</td>\n",
       "      <td>1051.000000</td>\n",
       "      <td>1028.000000</td>\n",
       "      <td>-14.000000</td>\n",
       "    </tr>\n",
       "    <tr>\n",
       "      <th>50%</th>\n",
       "      <td>2019.0</td>\n",
       "      <td>7.0</td>\n",
       "      <td>16.000000</td>\n",
       "      <td>NaN</td>\n",
       "      <td>NaN</td>\n",
       "      <td>NaN</td>\n",
       "      <td>1325.000000</td>\n",
       "      <td>1324.000000</td>\n",
       "      <td>-2.000000</td>\n",
       "      <td>1509.000000</td>\n",
       "      <td>1448.000000</td>\n",
       "      <td>-6.000000</td>\n",
       "    </tr>\n",
       "    <tr>\n",
       "      <th>75%</th>\n",
       "      <td>2019.0</td>\n",
       "      <td>7.0</td>\n",
       "      <td>24.000000</td>\n",
       "      <td>NaN</td>\n",
       "      <td>NaN</td>\n",
       "      <td>NaN</td>\n",
       "      <td>1745.000000</td>\n",
       "      <td>1753.000000</td>\n",
       "      <td>9.000000</td>\n",
       "      <td>1922.000000</td>\n",
       "      <td>1915.000000</td>\n",
       "      <td>9.000000</td>\n",
       "    </tr>\n",
       "    <tr>\n",
       "      <th>max</th>\n",
       "      <td>2019.0</td>\n",
       "      <td>7.0</td>\n",
       "      <td>31.000000</td>\n",
       "      <td>NaN</td>\n",
       "      <td>NaN</td>\n",
       "      <td>NaN</td>\n",
       "      <td>2359.000000</td>\n",
       "      <td>2400.000000</td>\n",
       "      <td>2315.000000</td>\n",
       "      <td>2359.000000</td>\n",
       "      <td>2400.000000</td>\n",
       "      <td>2350.000000</td>\n",
       "    </tr>\n",
       "  </tbody>\n",
       "</table>\n",
       "</div>"
      ],
      "text/plain": [
       "            YEAR     MONTH            DAY CARRIER  ORIGIN    DEST  \\\n",
       "count   659029.0  659029.0  659029.000000  659029  659029  659029   \n",
       "unique       NaN       NaN            NaN      17     356     356   \n",
       "top          NaN       NaN            NaN      WN     ATL     ATL   \n",
       "freq         NaN       NaN            NaN  119342   35364   35362   \n",
       "mean      2019.0       7.0      16.286881     NaN     NaN     NaN   \n",
       "std          0.0       0.0       8.855734     NaN     NaN     NaN   \n",
       "min       2019.0       7.0       1.000000     NaN     NaN     NaN   \n",
       "25%       2019.0       7.0       9.000000     NaN     NaN     NaN   \n",
       "50%       2019.0       7.0      16.000000     NaN     NaN     NaN   \n",
       "75%       2019.0       7.0      24.000000     NaN     NaN     NaN   \n",
       "max       2019.0       7.0      31.000000     NaN     NaN     NaN   \n",
       "\n",
       "        SCHED_DEP_TIME   ACT_DEP_TIME      DEP_DELAY  SCHED_ARR_TIME  \\\n",
       "count    659029.000000  646817.000000  646815.000000   659029.000000   \n",
       "unique             NaN            NaN            NaN             NaN   \n",
       "top                NaN            NaN            NaN             NaN   \n",
       "freq               NaN            NaN            NaN             NaN   \n",
       "mean       1335.977465    1335.901689      14.191489     1475.831364   \n",
       "std         499.842522     520.110819      55.729509      531.989548   \n",
       "min           5.000000       1.000000     -66.000000        1.000000   \n",
       "25%         912.000000     909.000000      -5.000000     1051.000000   \n",
       "50%        1325.000000    1324.000000      -2.000000     1509.000000   \n",
       "75%        1745.000000    1753.000000       9.000000     1922.000000   \n",
       "max        2359.000000    2400.000000    2315.000000     2359.000000   \n",
       "\n",
       "         ACT_ARR_TIME      ARR_DELAY  \n",
       "count   645942.000000  643781.000000  \n",
       "unique            NaN            NaN  \n",
       "top               NaN            NaN  \n",
       "freq              NaN            NaN  \n",
       "mean      1440.047472       8.729063  \n",
       "std        561.825977      57.523158  \n",
       "min          1.000000     -88.000000  \n",
       "25%       1028.000000     -14.000000  \n",
       "50%       1448.000000      -6.000000  \n",
       "75%       1915.000000       9.000000  \n",
       "max       2400.000000    2350.000000  "
      ]
     },
     "execution_count": 14,
     "metadata": {},
     "output_type": "execute_result"
    }
   ],
   "source": [
    "df_path.describe(include='all')"
   ]
  },
  {
   "cell_type": "code",
   "execution_count": 15,
   "metadata": {
    "id": "tSkoyQiHSu_8"
   },
   "outputs": [],
   "source": [
    "#Separacion de variables categoricas y variables numericas\n",
    "variables_categoricas = df_path.select_dtypes(include=['object']).columns\n",
    "variables_numericas = df_path.select_dtypes(include=['int64', 'float64']).columns"
   ]
  },
  {
   "cell_type": "code",
   "execution_count": 16,
   "metadata": {
    "colab": {
     "base_uri": "https://localhost:8080/"
    },
    "id": "Ni8Mj_IRTH8R",
    "outputId": "e8acc148-dc63-4201-dbf7-c14270c95f2b"
   },
   "outputs": [
    {
     "name": "stdout",
     "output_type": "stream",
     "text": [
      "Index(['CARRIER', 'ORIGIN', 'DEST'], dtype='object')\n",
      "Index(['YEAR', 'MONTH', 'DAY', 'SCHED_DEP_TIME', 'ACT_DEP_TIME', 'DEP_DELAY',\n",
      "       'SCHED_ARR_TIME', 'ACT_ARR_TIME', 'ARR_DELAY'],\n",
      "      dtype='object')\n"
     ]
    }
   ],
   "source": [
    "print(variables_categoricas)\n",
    "print(variables_numericas)"
   ]
  },
  {
   "cell_type": "code",
   "execution_count": 17,
   "metadata": {
    "colab": {
     "base_uri": "https://localhost:8080/",
     "height": 853
    },
    "id": "msRLpG14TmAb",
    "outputId": "39cfc7b9-544b-4f9d-e694-84828ffda25f"
   },
   "outputs": [
    {
     "data": {
      "image/png": "[encoded data removed]",
      "text/plain": [
       "<Figure size 1500x1000 with 9 Axes>"
      ]
     },
     "metadata": {},
     "output_type": "display_data"
    }
   ],
   "source": [
    "#distribucion variables numericas\n",
    "import matplotlib.pyplot as plt\n",
    "import seaborn as sns\n",
    "df_path[variables_numericas].hist(figsize=(15,10))\n",
    "plt.show()"
   ]
  },
  {
   "cell_type": "code",
   "execution_count": 18,
   "metadata": {
    "colab": {
     "base_uri": "https://localhost:8080/",
     "height": 112
    },
    "id": "OaY1VQVaVe2T",
    "outputId": "ee58d98f-c321-4383-eeaa-4e74ea8b5d2b"
   },
   "outputs": [
    {
     "data": {
      "text/html": [
       "<div>\n",
       "<style scoped>\n",
       "    .dataframe tbody tr th:only-of-type {\n",
       "        vertical-align: middle;\n",
       "    }\n",
       "\n",
       "    .dataframe tbody tr th {\n",
       "        vertical-align: top;\n",
       "    }\n",
       "\n",
       "    .dataframe thead th {\n",
       "        text-align: right;\n",
       "    }\n",
       "</style>\n",
       "<table border=\"1\" class=\"dataframe\">\n",
       "  <thead>\n",
       "    <tr style=\"text-align: right;\">\n",
       "      <th></th>\n",
       "      <th>YEAR</th>\n",
       "      <th>MONTH</th>\n",
       "      <th>DAY</th>\n",
       "      <th>CARRIER</th>\n",
       "      <th>ORIGIN</th>\n",
       "      <th>DEST</th>\n",
       "      <th>SCHED_DEP_TIME</th>\n",
       "      <th>ACT_DEP_TIME</th>\n",
       "      <th>DEP_DELAY</th>\n",
       "      <th>SCHED_ARR_TIME</th>\n",
       "      <th>ACT_ARR_TIME</th>\n",
       "      <th>ARR_DELAY</th>\n",
       "    </tr>\n",
       "  </thead>\n",
       "  <tbody>\n",
       "    <tr>\n",
       "      <th>0</th>\n",
       "      <td>2019</td>\n",
       "      <td>7</td>\n",
       "      <td>24</td>\n",
       "      <td>G4</td>\n",
       "      <td>PIE</td>\n",
       "      <td>AVL</td>\n",
       "      <td>1511</td>\n",
       "      <td>1533.0</td>\n",
       "      <td>22.0</td>\n",
       "      <td>1644</td>\n",
       "      <td>1659.0</td>\n",
       "      <td>15.0</td>\n",
       "    </tr>\n",
       "    <tr>\n",
       "      <th>1</th>\n",
       "      <td>2019</td>\n",
       "      <td>7</td>\n",
       "      <td>29</td>\n",
       "      <td>G4</td>\n",
       "      <td>AUS</td>\n",
       "      <td>SFB</td>\n",
       "      <td>2002</td>\n",
       "      <td>2010.0</td>\n",
       "      <td>8.0</td>\n",
       "      <td>2335</td>\n",
       "      <td>2344.0</td>\n",
       "      <td>9.0</td>\n",
       "    </tr>\n",
       "  </tbody>\n",
       "</table>\n",
       "</div>"
      ],
      "text/plain": [
       "   YEAR  MONTH  DAY CARRIER ORIGIN DEST  SCHED_DEP_TIME  ACT_DEP_TIME  \\\n",
       "0  2019      7   24      G4    PIE  AVL            1511        1533.0   \n",
       "1  2019      7   29      G4    AUS  SFB            2002        2010.0   \n",
       "\n",
       "   DEP_DELAY  SCHED_ARR_TIME  ACT_ARR_TIME  ARR_DELAY  \n",
       "0       22.0            1644        1659.0       15.0  \n",
       "1        8.0            2335        2344.0        9.0  "
      ]
     },
     "execution_count": 18,
     "metadata": {},
     "output_type": "execute_result"
    }
   ],
   "source": [
    "df_path.head(2)"
   ]
  },
  {
   "cell_type": "code",
   "execution_count": 19,
   "metadata": {
    "colab": {
     "base_uri": "https://localhost:8080/",
     "height": 178
    },
    "id": "Gf-0xbIAVIC6",
    "outputId": "a1830c2c-9133-4131-e8df-4c35a5eaf102"
   },
   "outputs": [
    {
     "data": {
      "text/plain": [
       "Retraso\n",
       "0    0.63518\n",
       "1    0.36482\n",
       "Name: proportion, dtype: float64"
      ]
     },
     "execution_count": 19,
     "metadata": {},
     "output_type": "execute_result"
    }
   ],
   "source": [
    "#Agregar columba que tenga encuenta los vuelos que tienen retrazo\n",
    "df_path['Retraso'] = df_path['DEP_DELAY'] > 0\n",
    "df_path['Retraso'] = df_path['Retraso'].astype(int)\n",
    "df_path['Retraso'].value_counts(normalize=True)"
   ]
  },
  {
   "cell_type": "code",
   "execution_count": 20,
   "metadata": {
    "colab": {
     "base_uri": "https://localhost:8080/",
     "height": 178
    },
    "id": "XIqrrm0fV68L",
    "outputId": "e51c0eb4-f719-47df-e57c-47d2ab6e784e"
   },
   "outputs": [
    {
     "data": {
      "text/plain": [
       "Retraso_A\n",
       "0    0.650908\n",
       "1    0.349092\n",
       "Name: proportion, dtype: float64"
      ]
     },
     "execution_count": 20,
     "metadata": {},
     "output_type": "execute_result"
    }
   ],
   "source": [
    "df_path['Retraso_A'] = df_path['ARR_DELAY'] > 0\n",
    "df_path['Retraso_A'] = df_path['Retraso_A'].astype(int)\n",
    "df_path['Retraso_A'].value_counts(normalize=True)"
   ]
  },
  {
   "cell_type": "markdown",
   "metadata": {
    "id": "CteuiFw6fbtF"
   },
   "source": [
    "# Actividad 0\n",
    "\n",
    "1 - Construir un analisis descriptivo básico de la información en grupos de 5 personas"
   ]
  },
  {
   "cell_type": "markdown",
   "metadata": {
    "id": "dMBEdkDigqKw"
   },
   "source": [
    "## Utilidad de Python en NLP\n",
    "Aprender un nuevo idioma no es fácil. Para una persona promedio, puede tomar meses o incluso años alcanzar un nivel intermedio de fluidez en un nuevo idioma. Requiere comprender la sintaxis del idioma (gramática), memorizar su vocabulario, etc., para ganar confianza en ese idioma. De manera similar, también es bastante desafiante para las computadoras aprender un lenguaje natural, ya que sería impráctico codificar cada regla de ese idioma.\n",
    "\n",
    "Supongamos que queremos construir un asistente virtual que lea las consultas enviadas por los usuarios de un sitio web y luego los dirija a la sección apropiada del sitio. Supongamos que el asistente virtual recibe una solicitud que dice:\n",
    "**¿Cómo cambiamos el método de pago y la frecuencia del pago?**\n",
    "\n",
    "Si quisiéramos entrenar a nuestro asistente virtual de la manera humana, necesitaríamos cargar un diccionario en inglés en su memoria (la parte fácil), encontrar una forma de enseñarle la gramática del inglés (pronunciación, cláusulas, estructura de oraciones, etc.) y la interpretación lógica. No hace falta decir que este enfoque requeriría un esfuerzo hercúleo. Sin embargo, ¿qué pasaría si pudiéramos transformar la oración en objetos matemáticos para que la computadora pudiera aplicar operaciones matemáticas o lógicas y obtener algo de sentido de ella? Ese constructo matemático podría ser un vector, una matriz, etc.\n",
    "\n",
    "Por ejemplo, ¿y si asumimos un espacio N-dimensional en el que cada dimensión (eje) del espacio corresponde a una palabra del vocabulario inglés? Con esto, podríamos representar la oración anterior como un vector en ese espacio, con su coordenada en cada eje siendo el conteo de la palabra que representa ese eje. Así, en la oración dada, la magnitud del vector de la oración a lo largo del eje de \"payment\" será 2, el eje de \"frequency\" será 1, y así sucesivamente.\n",
    "\n"
   ]
  },
  {
   "cell_type": "markdown",
   "metadata": {
    "id": "DVSCPzw4hf-I"
   },
   "source": [
    "\n",
    "Usando el módulo CountVectorizer de la biblioteca scikit-learn de Python, hemos vectorizado la oración anterior y generado la matriz de salida con el vector.\n",
    "El módulo CountVectorizer de la biblioteca scikit-learn convierte el texto en un conjunto de vectores numéricos, donde cada palabra en el texto original se representa como una característica numérica en un espacio multidimensional."
   ]
  },
  {
   "cell_type": "code",
   "execution_count": 21,
   "metadata": {
    "colab": {
     "base_uri": "https://localhost:8080/"
    },
    "id": "lmTNlmDHZsvk",
    "outputId": "c5859376-7e0f-4ab0-f80b-c1e9e3d2260d"
   },
   "outputs": [
    {
     "data": {
      "text/plain": [
       "matrix([[1, 1, 1, 2]])"
      ]
     },
     "execution_count": 21,
     "metadata": {},
     "output_type": "execute_result"
    }
   ],
   "source": [
    "from sklearn.feature_extraction.text import CountVectorizer\n",
    "sentence = [\"How to change payment method and payment frequency\"]\n",
    "vectorizer = CountVectorizer(stop_words='english')\n",
    "vectorizer.fit_transform(sentence).todense()"
   ]
  },
  {
   "cell_type": "code",
   "execution_count": 22,
   "metadata": {
    "colab": {
     "base_uri": "https://localhost:8080/"
    },
    "id": "5sDRodAxiH_h",
    "outputId": "51a56281-6eba-4571-b39d-67701962f0ab"
   },
   "outputs": [
    {
     "name": "stdout",
     "output_type": "stream",
     "text": [
      "Características:  ['and' 'change' 'do' 'frequency' 'how' 'method' 'payment' 'the' 'we']\n",
      "Matriz de características: \n",
      " [[1 1 1 1 1 1 2 1 1]]\n"
     ]
    }
   ],
   "source": [
    "from sklearn.feature_extraction.text import CountVectorizer\n",
    "\n",
    "sentence = [\"How do we change the payment method and payment frequency?\"]\n",
    "\n",
    "\n",
    "vectorizer = CountVectorizer()\n",
    "\n",
    "# Aplicar la vectorización\n",
    "X = vectorizer.fit_transform(sentence)\n",
    "\n",
    "# Ver los resultados\n",
    "print(\"Características: \", vectorizer.get_feature_names_out())\n",
    "print(\"Matriz de características: \\n\", X.toarray())\n"
   ]
  },
  {
   "cell_type": "markdown",
   "metadata": {
    "id": "9WsKo6WujCWS"
   },
   "source": [
    "Este vector ahora se puede comparar con otros vectores de oraciones en el mismo espacio N-dimensional y podemos derivar algún tipo de significado o relación entre estas oraciones aplicando principios y propiedades de los vectores. Este es un ejemplo de cómo una tarea de comprensión de oraciones podría transformarse en un problema de álgebra lineal. Sin embargo, como probablemente ya habrás notado, este enfoque es intensivo en cuanto a recursos computacionales, ya que necesitamos transformar las oraciones en vectores, aplicar los principios de los vectores y realizar cálculos.\n",
    "Aunque este enfoque puede no generar un resultado perfectamente exacto, abre una vía para que exploremos utilizando teoremas matemáticos y cuerpos de investigación establecidos. Esperar que los humanos utilicen este enfoque para la comprensión de oraciones puede ser poco práctico, pero las computadoras pueden realizar estas tareas con bastante facilidad, y es ahí donde lenguajes de programación como Python se vuelven muy útiles en la investigación de NLP.\n",
    "\n",
    "## NLTK\n",
    "La biblioteca Natural Language Toolkit (NLTK) es una de las bibliotecas más populares de Python para el procesamiento de lenguaje natural. Fue desarrollada por Steven Bird y Edward Loper de la Universidad de Pennsylvania. Creada por académicos e investigadores, esta biblioteca está destinada a apoyar la investigación en NLP y viene con una serie de recursos pedagógicos que nos proporcionan una excelente manera de aprender sobre NLP."
   ]
  },
  {
   "cell_type": "code",
   "execution_count": null,
   "metadata": {
    "id": "ZSH4NG_EiVzV"
   },
   "outputs": [
    {
     "name": "stdout",
     "output_type": "stream",
     "text": [
      "Requirement already satisfied: nltk in c:\\users\\aluca\\miniconda3\\envs\\ambiente_pruebas\\lib\\site-packages (3.9.1)Note: you may need to restart the kernel to use updated packages.\n",
      "\n",
      "Requirement already satisfied: click in c:\\users\\aluca\\miniconda3\\envs\\ambiente_pruebas\\lib\\site-packages (from nltk) (8.1.7)\n",
      "Requirement already satisfied: joblib in c:\\users\\aluca\\miniconda3\\envs\\ambiente_pruebas\\lib\\site-packages (from nltk) (1.4.2)\n",
      "Requirement already satisfied: regex>=2021.8.3 in c:\\users\\aluca\\miniconda3\\envs\\ambiente_pruebas\\lib\\site-packages (from nltk) (2024.11.6)\n",
      "Requirement already satisfied: tqdm in c:\\users\\aluca\\miniconda3\\envs\\ambiente_pruebas\\lib\\site-packages (from nltk) (4.67.0)\n",
      "Requirement already satisfied: colorama in c:\\users\\aluca\\miniconda3\\envs\\ambiente_pruebas\\lib\\site-packages (from click->nltk) (0.4.6)\n"
     ]
    }
   ],
   "source": [
    "#pip install nltk\n"
   ]
  },
  {
   "cell_type": "code",
   "execution_count": 24,
   "metadata": {
    "id": "1o327lxVbXPX"
   },
   "outputs": [
    {
     "name": "stderr",
     "output_type": "stream",
     "text": [
      "[nltk_data] Downloading package punkt_tab to\n",
      "[nltk_data]     C:\\Users\\aluca\\AppData\\Roaming\\nltk_data...\n",
      "[nltk_data]   Unzipping tokenizers\\punkt_tab.zip.\n",
      "[nltk_data] Downloading package punkt to\n",
      "[nltk_data]     C:\\Users\\aluca\\AppData\\Roaming\\nltk_data...\n",
      "[nltk_data]   Package punkt is already up-to-date!\n"
     ]
    },
    {
     "data": {
      "text/plain": [
       "True"
      ]
     },
     "execution_count": 24,
     "metadata": {},
     "output_type": "execute_result"
    }
   ],
   "source": [
    "import nltk\n",
    "nltk.download('punkt_tab')\n",
    "nltk.download('punkt')"
   ]
  },
  {
   "cell_type": "markdown",
   "metadata": {
    "id": "mHADlyrtkWSK"
   },
   "source": [
    "## Corpus en NLTK\n",
    "Un corpus es un gran conjunto de textos o datos lingüísticos, y es muy importante en la investigación de NLP para el desarrollo y la prueba de aplicaciones. NLTK permite a los usuarios acceder a más de 50 Corpus y recursos léxicos (muchos de los cuales están vinculados a aplicaciones basadas en ML) Se pueden importar cualquiera de los Corpus disponibles en y usar las funciones de NLTK para analizar el texto en el corpus importado.\n",
    "\n",
    "Más detalles sobre cada corpus se pueden encontrar aquí: http://www.nltk.org/book/ch02.html\n",
    "\n",
    "## Procesamiento de Texto\n",
    "Como se mencionó anteriormente, una parte clave de NLP es transformar el texto en objetos matemáticos. NLTK proporciona varias funciones que nos ayudan a transformar el texto en vectores. La función más básica de NLTK para este propósito es la tokenización, que divide un documento en una lista de unidades. Estas unidades pueden ser palabras, caracteres o frases."
   ]
  },
  {
   "cell_type": "code",
   "execution_count": 25,
   "metadata": {
    "id": "qDSGCHcPlMQz"
   },
   "outputs": [
    {
     "name": "stderr",
     "output_type": "stream",
     "text": [
      "[nltk_data] Downloading package punkt to\n",
      "[nltk_data]     C:\\Users\\aluca\\AppData\\Roaming\\nltk_data...\n",
      "[nltk_data]   Package punkt is already up-to-date!\n"
     ]
    },
    {
     "data": {
      "text/plain": [
       "True"
      ]
     },
     "execution_count": 25,
     "metadata": {},
     "output_type": "execute_result"
    }
   ],
   "source": [
    "nltk.download('punkt')"
   ]
  },
  {
   "cell_type": "code",
   "execution_count": 26,
   "metadata": {
    "id": "uTTQezoUjpUh"
   },
   "outputs": [
    {
     "name": "stdout",
     "output_type": "stream",
     "text": [
      "['Who', 'would', 'have', 'thought', 'that', 'computer', 'programs', 'would', 'be', 'analyzing', 'human', 'sentiments']\n"
     ]
    }
   ],
   "source": [
    "import nltk\n",
    "text = \"Who would have thought that computer programs would be analyzing human sentiments\"\n",
    "#text =\n",
    "from nltk.tokenize import word_tokenize\n",
    "tokens = word_tokenize(text)\n",
    "print(tokens)\n"
   ]
  },
  {
   "cell_type": "markdown",
   "metadata": {
    "id": "IyvS8qBOm8Vp"
   },
   "source": [
    "Hemos tokenizado la oración anterior utilizando la función word_tokenize() de NLTK, que simplemente divide la oración por espacios en blanco. El resultado es una lista, que es el primer paso hacia la vectorización.\n",
    "\n",
    "En nuestra discusión anterior, tocamos la naturaleza computacionalmente intensiva del enfoque de vectorización debido al tamaño de los vectores. Cuantas más palabras tenga un vector, más dimensiones debemos manejar. Por lo tanto, debemos tratar de racionalizar nuestros vectores, y podemos hacerlo utilizando algunas de las otras funciones útiles de NLTK, como stopwords, lematización y stemming.\n",
    "\n",
    "A continuación, se presenta una lista parcial de las Stop Words en Español e Ingles  de NLTK.\n",
    "\n",
    "Las Stop Words son palabras como \"a\", \"an\", \"the\", \"in\", \"at\", y otras que aparecen con frecuencia en los corpus de texto y no aportan mucha información en la mayoría de los contextos. Estas palabras, en general, son necesarias para completar las oraciones y hacerlas gramaticalmente correctas. A menudo, son las palabras más comunes en un idioma y pueden filtrarse en la mayoría de las tareas de NLP, lo que, en consecuencia, ayuda a reducir el vocabulario o el espacio de búsqueda. No existe una lista única de palabras vacías que esté disponible universalmente, y varían en gran medida según los casos de uso; sin embargo, se mantiene una lista específica de palabras para cada idioma que puede considerarse como palabras vacías específicas de ese idioma, aunque deberían modificarse según el problema que se esté resolviendo.\n"
   ]
  },
  {
   "cell_type": "code",
   "execution_count": 27,
   "metadata": {
    "id": "GidZsBn_nIos"
   },
   "outputs": [
    {
     "name": "stderr",
     "output_type": "stream",
     "text": [
      "[nltk_data] Downloading package stopwords to\n",
      "[nltk_data]     C:\\Users\\aluca\\AppData\\Roaming\\nltk_data...\n",
      "[nltk_data]   Unzipping corpora\\stopwords.zip.\n"
     ]
    },
    {
     "data": {
      "text/plain": [
       "True"
      ]
     },
     "execution_count": 27,
     "metadata": {},
     "output_type": "execute_result"
    }
   ],
   "source": [
    "nltk.download('stopwords')"
   ]
  },
  {
   "cell_type": "code",
   "execution_count": 28,
   "metadata": {
    "id": "UKQQ8IXflFIb"
   },
   "outputs": [
    {
     "name": "stdout",
     "output_type": "stream",
     "text": [
      "['i', 'me', 'my', 'myself', 'we', 'our', 'ours', 'ourselves', 'you', \"you're\", \"you've\", \"you'll\", \"you'd\", 'your', 'yours', 'yourself', 'yourselves', 'he', 'him', 'his', 'himself', 'she', \"she's\", 'her', 'hers', 'herself', 'it', \"it's\", 'its', 'itself', 'they', 'them', 'their', 'theirs', 'themselves', 'what', 'which', 'who', 'whom', 'this', 'that', \"that'll\", 'these', 'those', 'am', 'is', 'are', 'was', 'were', 'be', 'been', 'being', 'have', 'has', 'had', 'having', 'do', 'does', 'did', 'doing', 'a', 'an', 'the', 'and', 'but', 'if', 'or', 'because', 'as', 'until', 'while', 'of', 'at', 'by', 'for', 'with', 'about', 'against', 'between', 'into', 'through', 'during', 'before', 'after', 'above', 'below', 'to', 'from', 'up', 'down', 'in', 'out', 'on', 'off', 'over', 'under', 'again', 'further', 'then', 'once', 'here', 'there', 'when', 'where', 'why', 'how', 'all', 'any', 'both', 'each', 'few', 'more', 'most', 'other', 'some', 'such', 'no', 'nor', 'not', 'only', 'own', 'same', 'so', 'than', 'too', 'very', 's', 't', 'can', 'will', 'just', 'don', \"don't\", 'should', \"should've\", 'now', 'd', 'll', 'm', 'o', 're', 've', 'y', 'ain', 'aren', \"aren't\", 'couldn', \"couldn't\", 'didn', \"didn't\", 'doesn', \"doesn't\", 'hadn', \"hadn't\", 'hasn', \"hasn't\", 'haven', \"haven't\", 'isn', \"isn't\", 'ma', 'mightn', \"mightn't\", 'mustn', \"mustn't\", 'needn', \"needn't\", 'shan', \"shan't\", 'shouldn', \"shouldn't\", 'wasn', \"wasn't\", 'weren', \"weren't\", 'won', \"won't\", 'wouldn', \"wouldn't\"]\n"
     ]
    }
   ],
   "source": [
    "import nltk\n",
    "stopwords = nltk.corpus.stopwords.words('english') #spanish#german\n",
    "print(stopwords)\n"
   ]
  },
  {
   "cell_type": "code",
   "execution_count": 29,
   "metadata": {
    "id": "54tHfSmVc2h-"
   },
   "outputs": [
    {
     "name": "stdout",
     "output_type": "stream",
     "text": [
      "179\n"
     ]
    }
   ],
   "source": [
    "print(len(stopwords))"
   ]
  },
  {
   "cell_type": "markdown",
   "metadata": {
    "id": "E3Nfxg0xoj2O"
   },
   "source": [
    "Dado que NLTK nos proporciona una lista de palabras, simplemente podemos consultar esta lista y filtrar las palabras de nuestra lista de palabras"
   ]
  },
  {
   "cell_type": "code",
   "execution_count": 30,
   "metadata": {
    "id": "90Qu76UvnnpO"
   },
   "outputs": [],
   "source": [
    "newtokens=[word for word in tokens if word not in stopwords]\n"
   ]
  },
  {
   "cell_type": "code",
   "execution_count": 31,
   "metadata": {
    "id": "SRkjrbeLov8E"
   },
   "outputs": [
    {
     "data": {
      "text/plain": [
       "['Who',\n",
       " 'would',\n",
       " 'thought',\n",
       " 'computer',\n",
       " 'programs',\n",
       " 'would',\n",
       " 'analyzing',\n",
       " 'human',\n",
       " 'sentiments']"
      ]
     },
     "execution_count": 31,
     "metadata": {},
     "output_type": "execute_result"
    }
   ],
   "source": [
    "newtokens"
   ]
  },
  {
   "cell_type": "code",
   "execution_count": 32,
   "metadata": {
    "id": "DDyLrvEHd5o1"
   },
   "outputs": [
    {
     "data": {
      "text/plain": [
       "9"
      ]
     },
     "execution_count": 32,
     "metadata": {},
     "output_type": "execute_result"
    }
   ],
   "source": [
    "len(newtokens)"
   ]
  },
  {
   "cell_type": "markdown",
   "metadata": {
    "id": "XzTu9LRZpdL-"
   },
   "source": [
    "Podemos modificar aún más nuestro vector utilizando lematización y stemming, que son técnicas utilizadas para reducir las palabras a su forma raíz. La justificación detrás de este paso es que el espacio n-dimensional en el que estamos navegando no necesita tener ejes separados para una palabra y su forma flexionada (por ejemplo, eat y eating no necesitan ser dos ejes separados). Por lo tanto, deberíamos reducir cada forma flexionada de la palabra a su forma raíz. Sin embargo, este enfoque tiene sus críticos porque, en muchos casos, las formas flexionadas de las palabras dan un significado diferente al de la palabra raíz. Por ejemplo, las oraciones My manager promised me promotion (Mi gerente me prometió un ascenso) y He is a promising prospect (Él es una promesa de futuro) utilizan la forma flexionada de la palabra promise (prometer), pero en contextos completamente diferentes. Por lo tanto, debes realizar stemming y lematización después de considerar sus pros y contras.\n",
    "\n"
   ]
  },
  {
   "cell_type": "code",
   "execution_count": 33,
   "metadata": {
    "id": "jb1jYhNPpoXO"
   },
   "outputs": [
    {
     "name": "stderr",
     "output_type": "stream",
     "text": [
      "[nltk_data] Downloading package wordnet to\n",
      "[nltk_data]     C:\\Users\\aluca\\AppData\\Roaming\\nltk_data...\n"
     ]
    },
    {
     "data": {
      "text/plain": [
       "True"
      ]
     },
     "execution_count": 33,
     "metadata": {},
     "output_type": "execute_result"
    }
   ],
   "source": [
    "nltk.download('wordnet')"
   ]
  },
  {
   "cell_type": "code",
   "execution_count": 34,
   "metadata": {
    "id": "4PEYonceoyr_"
   },
   "outputs": [
    {
     "name": "stdout",
     "output_type": "stream",
     "text": [
      "['Who', 'would', 'have', 'thought', 'that', 'computer', 'program', 'would', 'be', 'analyzinghuman', 'sentiment']\n"
     ]
    }
   ],
   "source": [
    "from nltk.stem import WordNetLemmatizer\n",
    "text = \"Who would have thought that computer programs would be analyzinghuman sentiments\"\n",
    "tokens = word_tokenize(text)\n",
    "lemmatizer = WordNetLemmatizer()\n",
    "tokens=[lemmatizer.lemmatize(word) for word in tokens]\n",
    "print(tokens)\n"
   ]
  },
  {
   "cell_type": "markdown",
   "metadata": {
    "id": "v532drVMrD9g"
   },
   "source": [
    "La lematización se realiza buscando una palabra en el mapa de palabras raíz incorporado en WordNet. Si la palabra no se encuentra, se devuelve la palabra de entrada sin cambios. Sin embargo, podemos ver que el rendimiento del lematizador no fue bueno y solo pudo reducir \"programs\" y \"sentiments\" de sus formas plurales. Esto muestra que el lematizador depende en gran medida del mapa de palabras raíz y es muy susceptible a transformaciones incorrectas de la raíz de la palabra.\n",
    "\n",
    "## Stemming\n",
    "\n",
    "El stemming es similar a la lematización, pero en lugar de buscar palabras raíz en un diccionario preconstruido, define algunas reglas según las cuales las palabras se reducen a su forma base. Por ejemplo, tiene una regla que indica que cualquier palabra con el sufijo \"ing\" será reducida eliminando dicho sufijo.\n",
    "\n",
    "Imagina llevar todas las palabras \"computer\" (computadora), \"computerization\" (computarización) y \"computerize\" (computarizar) a una sola palabra, \"compute\" (computar). Esto es el stemming (derivación). Como parte del proceso de stemming, se hace un intento rudimentario de eliminar las formas flexionadas de una palabra y llevarlas a una forma base llamada stem (raíz). Las partes eliminadas se conocen como afijos. En el ejemplo anterior, \"compute\" es la forma base y los afijos son \"r\", \"rization\" y \"rize\", respectivamente. Algo importante a tener en cuenta es que la raíz no necesariamente tiene que ser una palabra válida como la conocemos. Por ejemplo, la palabra \"traditional\" (tradicional) se reduciría a \"tradit\", que no es una palabra válida en el diccionario inglés.\n",
    "\n",
    "Los dos algoritmos/métodos más comunes empleados para la derivación son el Porter stemmer y el Snowball stemmer. El Porter stemmer es compatible con el idioma inglés, mientras que el Snowball stemmer, que es una mejora del Porter stemmer, admite múltiples idiomas."
   ]
  },
  {
   "cell_type": "code",
   "execution_count": 35,
   "metadata": {
    "id": "07wK6xVzplt9"
   },
   "outputs": [
    {
     "name": "stdout",
     "output_type": "stream",
     "text": [
      "['who', 'would', 'have', 'thought', 'that', 'comput', 'program', 'would', 'be', 'analyz', 'human', 'sentiment']\n"
     ]
    }
   ],
   "source": [
    "from nltk.stem import PorterStemmer\n",
    "from nltk.tokenize import word_tokenize\n",
    "text = \"Who would have thought that computer programs would be analyzing human sentiments\"\n",
    "tokens=word_tokenize(text.lower())\n",
    "ps = PorterStemmer()\n",
    "tokens=[ps.stem(word) for word in tokens]\n",
    "print(tokens)"
   ]
  },
  {
   "cell_type": "markdown",
   "metadata": {
    "id": "J6sd2-SFsTun"
   },
   "source": [
    "Según la salida anterior, el stemming logró transformar más palabras que la lematización, pero aún así, está lejos de ser perfecto. Además, notarás que algunas palabras reducidas por stemming ni siquiera son palabras en inglés. Por ejemplo, analyz fue derivada de analyzing al aplicar ciegamente la regla de eliminar el sufijo ing.\n",
    "\n",
    "Los ejemplos anteriores muestran los desafíos de reducir las palabras correctamente a sus respectivas formas raíz utilizando las herramientas de NLTK. No obstante, estas técnicas son bastante populares para el preprocesamiento de texto y la vectorización. También puedes crear soluciones más sofisticadas basadas en estas funciones básicas para crear tu propio lematizador y stemmer."
   ]
  },
  {
   "cell_type": "code",
   "execution_count": 36,
   "metadata": {
    "id": "2Yih8uzRwGrE"
   },
   "outputs": [
    {
     "name": "stdout",
     "output_type": "stream",
     "text": [
      "('arabic', 'danish', 'dutch', 'english', 'finnish', 'french', 'german', 'hungarian', 'italian', 'norwegian', 'porter', 'portuguese', 'romanian', 'russian', 'spanish', 'swedish')\n"
     ]
    }
   ],
   "source": [
    "from nltk.stem.snowball import SnowballStemmer\n",
    "print(SnowballStemmer.languages)"
   ]
  },
  {
   "cell_type": "markdown",
   "metadata": {
    "id": "gnrqQtDSwfW9"
   },
   "source": [
    "El Porter stemmer funciona solo con cadenas de texto, mientras que el Snowball stemmer es compatible tanto con cadenas como con datos en Unicode. Además, el Snowball stemmer permite la opción de ignorar palabras vacías (stopwords) como funcionalidad inherente."
   ]
  },
  {
   "cell_type": "code",
   "execution_count": 37,
   "metadata": {
    "id": "_gzKd4vxwH2P"
   },
   "outputs": [
    {
     "name": "stdout",
     "output_type": "stream",
     "text": [
      "caress fli die mule die agre own humbl size meet state siez item tradit refer colon plot have gener\n"
     ]
    }
   ],
   "source": [
    "plurals = ['caresses', 'flies', 'dies', 'mules', 'died', 'agreed', 'owned',\n",
    "'humbled', 'sized', 'meeting', 'stating',\n",
    " 'siezing', 'itemization', 'traditional', 'reference', 'colonizer',\n",
    "'plotted', 'having', 'generously']\n",
    "from nltk.stem.porter import PorterStemmer\n",
    "stemmer = PorterStemmer()\n",
    "singles = [stemmer.stem(plural) for plural in plurals]\n",
    "print(' '.join(singles))"
   ]
  },
  {
   "cell_type": "code",
   "execution_count": 38,
   "metadata": {
    "id": "_4ccpeuAw2sz"
   },
   "outputs": [
    {
     "name": "stdout",
     "output_type": "stream",
     "text": [
      "caress fli die mule die agre own humbl size meet state siez item tradit refer colon plot have generous\n"
     ]
    }
   ],
   "source": [
    "stemmer2 = SnowballStemmer(language='english')\n",
    "singles = [stemmer2.stem(plural) for plural in plurals]\n",
    "print(' '.join(singles))"
   ]
  },
  {
   "cell_type": "code",
   "execution_count": 39,
   "metadata": {
    "id": "adNoKpgmrb7_"
   },
   "outputs": [
    {
     "name": "stdout",
     "output_type": "stream",
     "text": [
      "Estamos probando como funciona el metodo snowball y como la libreria se comporta para cada una de las palabras\n",
      "['estam', 'prob', 'com', 'funcion', 'el', 'metod', 'snowball', 'y', 'com', 'la', 'libreri', 'se', 'comport', 'par', 'cad', 'una', 'de', 'las', 'palabr']\n"
     ]
    }
   ],
   "source": [
    "# snowballstemmer prueba en español\n",
    "from nltk.stem.snowball import SnowballStemmer\n",
    "text = \"Estamos probando como funciona el metodo snowball y como la libreria se comporta para cada una de las palabras\"\n",
    "stemmer = SnowballStemmer(language='spanish')\n",
    "tokens=word_tokenize(text.lower())\n",
    "tokens=[stemmer.stem(word) for word in tokens]\n",
    "print(text)\n",
    "print(tokens)"
   ]
  },
  {
   "cell_type": "code",
   "execution_count": 40,
   "metadata": {
    "id": "vzkDNVKEsylz"
   },
   "outputs": [
    {
     "name": "stdout",
     "output_type": "stream",
     "text": [
      "['everi', 'time', 'i', \"'ve\", 'tri', 'to', 'do', 'click', ',', 'it', 'doe', \"n't\", 'work', 'properli']\n"
     ]
    }
   ],
   "source": [
    "#Prueba en ingles.\n",
    "\n",
    "text = \"Every time i've tried to do click, it doesn't work properly\"\n",
    "tokens=word_tokenize(text.lower())\n",
    "ps = PorterStemmer()\n",
    "tokens=[ps.stem(word) for word in tokens]\n",
    "print(tokens)"
   ]
  },
  {
   "cell_type": "markdown",
   "metadata": {
    "id": "E0RetejMxdqk"
   },
   "source": [
    "Como se puede observar en los fragmentos de código anteriores, el Snowball stemmer requiere la especificación de un parámetro de idioma. En la mayoría de los casos, su salida es similar a la del Porter stemmer, excepto en el caso de generously, donde el Porter stemmer produce gener y el Snowball stemmer devuelve generous. El ejemplo muestra cómo el Snowball stemmer realiza pequeños ajustes al algoritmo de Porter, logrando mejoras en algunos casos."
   ]
  },
  {
   "cell_type": "code",
   "execution_count": null,
   "metadata": {
    "id": "8t5xnMMwxZ2V"
   },
   "outputs": [],
   "source": []
  },
  {
   "cell_type": "markdown",
   "metadata": {
    "id": "5tbuftt0IBPe"
   },
   "source": [
    "## Etiquetado de partes de la oración\n",
    "\n",
    "El etiquetado de partes de la oración (POS tagging) identifica la categoría gramatical (sustantivo, verbo, adverbio, etc.) de cada palabra en una oración. Es un paso crucial para muchas aplicaciones de PLN, ya que al identificar la categoría gramatical de una palabra, podemos deducir su significado contextual. Por ejemplo, el significado de la palabra ground es diferente cuando se usa como sustantivo, como en The ground was sodden due to rain (El suelo estaba empapado por la lluvia), en comparación con cuando se usa como adjetivo, como en The restaurant's ground meat recipe is quite popular (La receta de carne molida del restaurante es bastante popular).\n"
   ]
  },
  {
   "cell_type": "code",
   "execution_count": 41,
   "metadata": {
    "id": "sXPZ2zXVJO9W"
   },
   "outputs": [
    {
     "name": "stderr",
     "output_type": "stream",
     "text": [
      "[nltk_data] Downloading package averaged_perceptron_tagger to\n",
      "[nltk_data]     C:\\Users\\aluca\\AppData\\Roaming\\nltk_data...\n",
      "[nltk_data]   Unzipping taggers\\averaged_perceptron_tagger.zip.\n",
      "[nltk_data] Downloading package averaged_perceptron_tagger_eng to\n",
      "[nltk_data]     C:\\Users\\aluca\\AppData\\Roaming\\nltk_data...\n",
      "[nltk_data]   Unzipping taggers\\averaged_perceptron_tagger_eng.zip.\n"
     ]
    },
    {
     "data": {
      "text/plain": [
       "True"
      ]
     },
     "execution_count": 41,
     "metadata": {},
     "output_type": "execute_result"
    }
   ],
   "source": [
    "nltk.download('averaged_perceptron_tagger')\n",
    "nltk.download('averaged_perceptron_tagger_eng')"
   ]
  },
  {
   "cell_type": "code",
   "execution_count": 42,
   "metadata": {
    "id": "cy0L3ePJsTKI"
   },
   "outputs": [
    {
     "data": {
      "text/plain": [
       "[('your', 'PRP$')]"
      ]
     },
     "execution_count": 42,
     "metadata": {},
     "output_type": "execute_result"
    }
   ],
   "source": [
    "nltk.pos_tag([\"your\"])"
   ]
  },
  {
   "cell_type": "code",
   "execution_count": 43,
   "metadata": {
    "id": "DXSUbv4pqozg"
   },
   "outputs": [
    {
     "data": {
      "text/plain": [
       "[('beautiful', 'NN')]"
      ]
     },
     "execution_count": 43,
     "metadata": {},
     "output_type": "execute_result"
    }
   ],
   "source": [
    "nltk.pos_tag([\"beautiful\"])\n"
   ]
  },
  {
   "cell_type": "code",
   "execution_count": 44,
   "metadata": {
    "id": "Hn0vIgQ5qoxK"
   },
   "outputs": [
    {
     "data": {
      "text/plain": [
       "[('eat', 'NN')]"
      ]
     },
     "execution_count": 44,
     "metadata": {},
     "output_type": "execute_result"
    }
   ],
   "source": [
    "nltk.pos_tag([\"eat\"])"
   ]
  },
  {
   "cell_type": "markdown",
   "metadata": {
    "id": "bRb7VdfwJrR0"
   },
   "source": [
    "Podemos pasar una palabra como una lista a la función pos_tag(), la cual devuelve la palabra junto con su categoría gramatical. Podemos generar el POS de cada palabra de una oración iterando sobre la lista de tokens y aplicando la función pos_tag() individualmente. El siguiente código es un ejemplo de cómo se puede hacer el etiquetado de partes de la oración de forma iterativa:"
   ]
  },
  {
   "cell_type": "code",
   "execution_count": 45,
   "metadata": {
    "id": "xP4H-ssLqou4"
   },
   "outputs": [
    {
     "data": {
      "text/plain": [
       "[[('Usain', 'NN')],\n",
       " [('Bolt', 'NN')],\n",
       " [('is', 'VBZ')],\n",
       " [('the', 'DT')],\n",
       " [('fastest', 'JJS')],\n",
       " [('runner', 'NN')],\n",
       " [('in', 'IN')],\n",
       " [('the', 'DT')],\n",
       " [('world', 'NN')]]"
      ]
     },
     "execution_count": 45,
     "metadata": {},
     "output_type": "execute_result"
    }
   ],
   "source": [
    "from nltk.tokenize import word_tokenize\n",
    "text = \"Usain Bolt is the fastest runner in the world\"\n",
    "tokens = word_tokenize(text)\n",
    "[nltk.pos_tag([word]) for word in tokens]"
   ]
  },
  {
   "cell_type": "code",
   "execution_count": null,
   "metadata": {
    "id": "dKiticUU2TOw"
   },
   "outputs": [
    {
     "name": "stdout",
     "output_type": "stream",
     "text": [
      "Requirement already satisfied: nltk in c:\\users\\aluca\\miniconda3\\envs\\ambiente_pruebas\\lib\\site-packages (3.9.1)\n",
      "Requirement already satisfied: click in c:\\users\\aluca\\miniconda3\\envs\\ambiente_pruebas\\lib\\site-packages (from nltk) (8.1.7)\n",
      "Requirement already satisfied: joblib in c:\\users\\aluca\\miniconda3\\envs\\ambiente_pruebas\\lib\\site-packages (from nltk) (1.4.2)\n",
      "Requirement already satisfied: regex>=2021.8.3 in c:\\users\\aluca\\miniconda3\\envs\\ambiente_pruebas\\lib\\site-packages (from nltk) (2024.11.6)\n",
      "Requirement already satisfied: tqdm in c:\\users\\aluca\\miniconda3\\envs\\ambiente_pruebas\\lib\\site-packages (from nltk) (4.67.0)\n",
      "Requirement already satisfied: colorama in c:\\users\\aluca\\miniconda3\\envs\\ambiente_pruebas\\lib\\site-packages (from click->nltk) (0.4.6)\n",
      "Note: you may need to restart the kernel to use updated packages.\n"
     ]
    }
   ],
   "source": [
    "#pip install nltk"
   ]
  },
  {
   "cell_type": "code",
   "execution_count": 47,
   "metadata": {
    "id": "6VLLdNp22RN4"
   },
   "outputs": [
    {
     "name": "stderr",
     "output_type": "stream",
     "text": [
      "[nltk_data] Downloading package tagsets_json to\n",
      "[nltk_data]     C:\\Users\\aluca\\AppData\\Roaming\\nltk_data...\n",
      "[nltk_data]   Unzipping help\\tagsets_json.zip.\n",
      "[nltk_data] Downloading package tagsets to\n",
      "[nltk_data]     C:\\Users\\aluca\\AppData\\Roaming\\nltk_data...\n"
     ]
    },
    {
     "name": "stdout",
     "output_type": "stream",
     "text": [
      "$: dollar\n",
      "    $ -$ --$ A$ C$ HK$ M$ NZ$ S$ U.S.$ US$\n",
      "'': closing quotation mark\n",
      "    ' ''\n",
      "(: opening parenthesis\n",
      "    ( [ {\n",
      "): closing parenthesis\n",
      "    ) ] }\n",
      ",: comma\n",
      "    ,\n",
      "--: dash\n",
      "    --\n",
      ".: sentence terminator\n",
      "    . ! ?\n",
      ":: colon or ellipsis\n",
      "    : ; ...\n",
      "CC: conjunction, coordinating\n",
      "    & 'n and both but either et for less minus neither nor or plus so\n",
      "    therefore times v. versus vs. whether yet\n",
      "CD: numeral, cardinal\n",
      "    mid-1890 nine-thirty forty-two one-tenth ten million 0.5 one forty-\n",
      "    seven 1987 twenty '79 zero two 78-degrees eighty-four IX '60s .025\n",
      "    fifteen 271,124 dozen quintillion DM2,000 ...\n",
      "DT: determiner\n",
      "    all an another any both del each either every half la many much nary\n",
      "    neither no some such that the them these this those\n",
      "EX: existential there\n",
      "    there\n",
      "FW: foreign word\n",
      "    gemeinschaft hund ich jeux habeas Haementeria Herr K'ang-si vous\n",
      "    lutihaw alai je jour objets salutaris fille quibusdam pas trop Monte\n",
      "    terram fiche oui corporis ...\n",
      "IN: preposition or conjunction, subordinating\n",
      "    astride among uppon whether out inside pro despite on by throughout\n",
      "    below within for towards near behind atop around if like until below\n",
      "    next into if beside ...\n",
      "JJ: adjective or numeral, ordinal\n",
      "    third ill-mannered pre-war regrettable oiled calamitous first separable\n",
      "    ectoplasmic battery-powered participatory fourth still-to-be-named\n",
      "    multilingual multi-disciplinary ...\n",
      "JJR: adjective, comparative\n",
      "    bleaker braver breezier briefer brighter brisker broader bumper busier\n",
      "    calmer cheaper choosier cleaner clearer closer colder commoner costlier\n",
      "    cozier creamier crunchier cuter ...\n",
      "JJS: adjective, superlative\n",
      "    calmest cheapest choicest classiest cleanest clearest closest commonest\n",
      "    corniest costliest crassest creepiest crudest cutest darkest deadliest\n",
      "    dearest deepest densest dinkiest ...\n",
      "LS: list item marker\n",
      "    A A. B B. C C. D E F First G H I J K One SP-44001 SP-44002 SP-44005\n",
      "    SP-44007 Second Third Three Two * a b c d first five four one six three\n",
      "    two\n",
      "MD: modal auxiliary\n",
      "    can cannot could couldn't dare may might must need ought shall should\n",
      "    shouldn't will would\n",
      "NN: noun, common, singular or mass\n",
      "    common-carrier cabbage knuckle-duster Casino afghan shed thermostat\n",
      "    investment slide humour falloff slick wind hyena override subhumanity\n",
      "    machinist ...\n",
      "NNP: noun, proper, singular\n",
      "    Motown Venneboerger Czestochwa Ranzer Conchita Trumplane Christos\n",
      "    Oceanside Escobar Kreisler Sawyer Cougar Yvette Ervin ODI Darryl CTCA\n",
      "    Shannon A.K.C. Meltex Liverpool ...\n",
      "NNPS: noun, proper, plural\n",
      "    Americans Americas Amharas Amityvilles Amusements Anarcho-Syndicalists\n",
      "    Andalusians Andes Andruses Angels Animals Anthony Antilles Antiques\n",
      "    Apache Apaches Apocrypha ...\n",
      "NNS: noun, common, plural\n",
      "    undergraduates scotches bric-a-brac products bodyguards facets coasts\n",
      "    divestitures storehouses designs clubs fragrances averages\n",
      "    subjectivists apprehensions muses factory-jobs ...\n",
      "PDT: pre-determiner\n",
      "    all both half many quite such sure this\n",
      "POS: genitive marker\n",
      "    ' 's\n",
      "PRP: pronoun, personal\n",
      "    hers herself him himself hisself it itself me myself one oneself ours\n",
      "    ourselves ownself self she thee theirs them themselves they thou thy us\n",
      "PRP$: pronoun, possessive\n",
      "    her his mine my our ours their thy your\n",
      "RB: adverb\n",
      "    occasionally unabatingly maddeningly adventurously professedly\n",
      "    stirringly prominently technologically magisterially predominately\n",
      "    swiftly fiscally pitilessly ...\n",
      "RBR: adverb, comparative\n",
      "    further gloomier grander graver greater grimmer harder harsher\n",
      "    healthier heavier higher however larger later leaner lengthier less-\n",
      "    perfectly lesser lonelier longer louder lower more ...\n",
      "RBS: adverb, superlative\n",
      "    best biggest bluntest earliest farthest first furthest hardest\n",
      "    heartiest highest largest least less most nearest second tightest worst\n",
      "RP: particle\n",
      "    aboard about across along apart around aside at away back before behind\n",
      "    by crop down ever fast for forth from go high i.e. in into just later\n",
      "    low more off on open out over per pie raising start teeth that through\n",
      "    under unto up up-pp upon whole with you\n",
      "SYM: symbol\n",
      "    % & ' '' ''. ) ). * + ,. < = > @ A[fj] U.S U.S.S.R * ** ***\n",
      "TO: \"to\" as preposition or infinitive marker\n",
      "    to\n",
      "UH: interjection\n",
      "    Goodbye Goody Gosh Wow Jeepers Jee-sus Hubba Hey Kee-reist Oops amen\n",
      "    huh howdy uh dammit whammo shucks heck anyways whodunnit honey golly\n",
      "    man baby diddle hush sonuvabitch ...\n",
      "VB: verb, base form\n",
      "    ask assemble assess assign assume atone attention avoid bake balkanize\n",
      "    bank begin behold believe bend benefit bevel beware bless boil bomb\n",
      "    boost brace break bring broil brush build ...\n",
      "VBD: verb, past tense\n",
      "    dipped pleaded swiped regummed soaked tidied convened halted registered\n",
      "    cushioned exacted snubbed strode aimed adopted belied figgered\n",
      "    speculated wore appreciated contemplated ...\n",
      "VBG: verb, present participle or gerund\n",
      "    telegraphing stirring focusing angering judging stalling lactating\n",
      "    hankerin' alleging veering capping approaching traveling besieging\n",
      "    encrypting interrupting erasing wincing ...\n",
      "VBN: verb, past participle\n",
      "    multihulled dilapidated aerosolized chaired languished panelized used\n",
      "    experimented flourished imitated reunifed factored condensed sheared\n",
      "    unsettled primed dubbed desired ...\n",
      "VBP: verb, present tense, not 3rd person singular\n",
      "    predominate wrap resort sue twist spill cure lengthen brush terminate\n",
      "    appear tend stray glisten obtain comprise detest tease attract\n",
      "    emphasize mold postpone sever return wag ...\n",
      "VBZ: verb, present tense, 3rd person singular\n",
      "    bases reconstructs marks mixes displeases seals carps weaves snatches\n",
      "    slumps stretches authorizes smolders pictures emerges stockpiles\n",
      "    seduces fizzes uses bolsters slaps speaks pleads ...\n",
      "WDT: WH-determiner\n",
      "    that what whatever which whichever\n",
      "WP: WH-pronoun\n",
      "    that what whatever whatsoever which who whom whosoever\n",
      "WP$: WH-pronoun, possessive\n",
      "    whose\n",
      "WRB: Wh-adverb\n",
      "    how however whence whenever where whereby whereever wherein whereof why\n",
      "``: opening quotation mark\n",
      "    ` ``\n"
     ]
    },
    {
     "name": "stderr",
     "output_type": "stream",
     "text": [
      "[nltk_data]   Unzipping help\\tagsets.zip.\n"
     ]
    }
   ],
   "source": [
    "import nltk\n",
    "nltk.download('tagsets_json')\n",
    "nltk.download('tagsets') # need to download first time\n",
    "nltk.help.upenn_tagset()"
   ]
  },
  {
   "cell_type": "markdown",
   "metadata": {
    "id": "j3Z7vGLqKLdn"
   },
   "source": [
    "#TextBlob\n",
    "TextBlob es una biblioteca popular que se utiliza para análisis de sentimientos, etiquetado de partes de la oración, traducción, entre otras tareas. Está construida sobre otras bibliotecas, incluyendo NLTK, y ofrece una interfaz muy fácil de usar, lo que la convierte en una herramienta imprescindible para principiantes en procesamiento de lenguaje natural (NLP).\n",
    "\n",
    "Documentación de TextBlob en https://textblob.readthedocs.io/en/dev/ o visitar su página en GitHub en https://github.com/sloria/TextBlob para comenzar a explorarla.\n",
    "\n",
    "El análisis de sentimientos es un área de investigación importante dentro del procesamiento de lenguaje natural (NLP) que busca analizar el texto y evaluar su sentimiento. La biblioteca TextBlob permite a los usuarios analizar el sentimiento de un fragmento de texto de una manera muy conveniente. La documentación de la biblioteca TextBlob (https://textblob.readthedocs.io/en/dev/) es bastante detallada, fácil de leer y contiene tutoriales también.\n",
    "\n"
   ]
  },
  {
   "cell_type": "code",
   "execution_count": null,
   "metadata": {
    "id": "NCU71yVNLrWf"
   },
   "outputs": [
    {
     "name": "stdout",
     "output_type": "stream",
     "text": [
      "Requirement already satisfied: textblob in c:\\users\\aluca\\miniconda3\\envs\\ambiente_pruebas\\lib\\site-packages (0.18.0.post0)\n",
      "Requirement already satisfied: nltk>=3.8 in c:\\users\\aluca\\miniconda3\\envs\\ambiente_pruebas\\lib\\site-packages (from textblob) (3.9.1)\n",
      "Requirement already satisfied: click in c:\\users\\aluca\\miniconda3\\envs\\ambiente_pruebas\\lib\\site-packages (from nltk>=3.8->textblob) (8.1.7)\n",
      "Requirement already satisfied: joblib in c:\\users\\aluca\\miniconda3\\envs\\ambiente_pruebas\\lib\\site-packages (from nltk>=3.8->textblob) (1.4.2)\n",
      "Requirement already satisfied: regex>=2021.8.3 in c:\\users\\aluca\\miniconda3\\envs\\ambiente_pruebas\\lib\\site-packages (from nltk>=3.8->textblob) (2024.11.6)\n",
      "Requirement already satisfied: tqdm in c:\\users\\aluca\\miniconda3\\envs\\ambiente_pruebas\\lib\\site-packages (from nltk>=3.8->textblob) (4.67.0)\n",
      "Requirement already satisfied: colorama in c:\\users\\aluca\\miniconda3\\envs\\ambiente_pruebas\\lib\\site-packages (from click->nltk>=3.8->textblob) (0.4.6)\n",
      "Note: you may need to restart the kernel to use updated packages.\n"
     ]
    }
   ],
   "source": [
    "#pip install -U textblob"
   ]
  },
  {
   "cell_type": "markdown",
   "metadata": {
    "id": "PjLrpAPzLqC3"
   },
   "source": [
    "\n",
    "Estos comandos aseguran que la biblioteca se instale y que los corpus necesarios para el análisis estén disponibles."
   ]
  },
  {
   "cell_type": "code",
   "execution_count": 49,
   "metadata": {
    "id": "E8QFvZgiqosQ"
   },
   "outputs": [
    {
     "data": {
      "text/plain": [
       "Sentiment(polarity=0.5, subjectivity=0.6)"
      ]
     },
     "execution_count": 49,
     "metadata": {},
     "output_type": "execute_result"
    }
   ],
   "source": [
    "from textblob import TextBlob\n",
    "TextBlob(\"I love pizza\").sentiment\n"
   ]
  },
  {
   "cell_type": "code",
   "execution_count": 50,
   "metadata": {
    "id": "PsSzyezzyinA"
   },
   "outputs": [
    {
     "data": {
      "text/plain": [
       "Sentiment(polarity=0.0, subjectivity=0.1)"
      ]
     },
     "execution_count": 50,
     "metadata": {},
     "output_type": "execute_result"
    }
   ],
   "source": [
    "from textblob import TextBlob\n",
    "\n",
    "TextBlob(\"Every time i've tried to do click, it doesn't work properly\").sentiment"
   ]
  },
  {
   "cell_type": "markdown",
   "metadata": {
    "id": "vZnQBi57Nn4w"
   },
   "source": [
    "Una vez que se ha importado la biblioteca TextBlob, todo lo que necesitamos hacer para calcular el sentimiento es pasar el texto que se desea analizar y usar el módulo de sentimiento de la biblioteca. El módulo de sentimiento genera una tupla con el puntaje de polaridad y el puntaje de subjetividad.\n",
    "\n",
    "* El puntaje de polaridad varía de -1 a 1, donde -1 indica un sentimiento extremadamente negativo y 1 un sentimiento extremadamente positivo.\n",
    "* El puntaje de subjetividad varía de 0 a 1, donde un valor de 0 implica que la declaración es completamente objetiva o factual, mientras que un valor de 1 implica una declaración altamente subjetiva.\n",
    "\n",
    "Por ejemplo, para la frase \"I love pizza\", obtenemos un puntaje de polaridad de 0.5, lo que sugiere un sentimiento positivo. La subjetividad también se calcula como alta, lo cual parece adecuado."
   ]
  },
  {
   "cell_type": "code",
   "execution_count": 51,
   "metadata": {
    "id": "HVhTuAoyqopp"
   },
   "outputs": [
    {
     "data": {
      "text/plain": [
       "Sentiment(polarity=1.0, subjectivity=1.0)"
      ]
     },
     "execution_count": 51,
     "metadata": {},
     "output_type": "execute_result"
    }
   ],
   "source": [
    "\n",
    "TextBlob(\"The weather is excellent\").sentiment"
   ]
  },
  {
   "cell_type": "code",
   "execution_count": 52,
   "metadata": {
    "id": "m7CW4AYhqonI"
   },
   "outputs": [
    {
     "data": {
      "text/plain": [
       "Sentiment(polarity=-1.0, subjectivity=1.0)"
      ]
     },
     "execution_count": 52,
     "metadata": {},
     "output_type": "execute_result"
    }
   ],
   "source": [
    "TextBlob(\"What a terrible thing to say\").sentiment"
   ]
  },
  {
   "cell_type": "code",
   "execution_count": 53,
   "metadata": {
    "id": "Bn7XvCV6z0nR"
   },
   "outputs": [
    {
     "data": {
      "text/plain": [
       "Sentiment(polarity=-0.18333333333333335, subjectivity=0.5833333333333334)"
      ]
     },
     "execution_count": 53,
     "metadata": {},
     "output_type": "execute_result"
    }
   ],
   "source": [
    "TextBlob(\"I love when you call me at night but i hate when you do it in the mornings because i usually bussy\").sentiment"
   ]
  },
  {
   "cell_type": "code",
   "execution_count": 54,
   "metadata": {
    "id": "AnXsjjM72R25"
   },
   "outputs": [
    {
     "data": {
      "text/plain": [
       "Sentiment(polarity=0.20833333333333334, subjectivity=0.275)"
      ]
     },
     "execution_count": 54,
     "metadata": {},
     "output_type": "execute_result"
    }
   ],
   "source": [
    "TextBlob('The weather is fine because sunny and i can go outside').sentiment"
   ]
  },
  {
   "cell_type": "code",
   "execution_count": 55,
   "metadata": {
    "id": "R1ntJzu22sEi"
   },
   "outputs": [
    {
     "data": {
      "text/plain": [
       "Sentiment(polarity=0.04999999999999999, subjectivity=0.5916666666666667)"
      ]
     },
     "execution_count": 55,
     "metadata": {},
     "output_type": "execute_result"
    }
   ],
   "source": [
    "TextBlob(\"Going in public transportation is good only if it isn't too expensive and not crowded\").sentiment"
   ]
  },
  {
   "cell_type": "code",
   "execution_count": 56,
   "metadata": {
    "id": "xd5qslDGzx4I"
   },
   "outputs": [
    {
     "data": {
      "text/plain": [
       "Sentiment(polarity=-0.8, subjectivity=0.9)"
      ]
     },
     "execution_count": 56,
     "metadata": {},
     "output_type": "execute_result"
    }
   ],
   "source": [
    "TextBlob(\"I hate you\").sentiment"
   ]
  },
  {
   "cell_type": "code",
   "execution_count": 57,
   "metadata": {
    "id": "ORaISW-83PLo"
   },
   "outputs": [
    {
     "data": {
      "text/plain": [
       "Sentiment(polarity=0.5, subjectivity=0.5)"
      ]
     },
     "execution_count": 57,
     "metadata": {},
     "output_type": "execute_result"
    }
   ],
   "source": [
    "TextBlob(\"Every time i've tried to learn this i foud too many dificults\").sentiment"
   ]
  },
  {
   "cell_type": "markdown",
   "metadata": {
    "id": "zulAaVkKONvY"
   },
   "source": [
    "#Traducción de Texto:\n",
    "TextBlob utiliza la API de Google Translate para proporcionar una interfaz muy sencilla para traducir textos. Simplemente se usa la función translate() para traducir un texto a un idioma deseado (de la lista de idiomas disponibles en Google). El parámetro to en la función translate() determina el idioma al que se traducirá el texto. El resultado de la función translate() será equivalente al que se obtiene en Google Translate.\n",
    "\n"
   ]
  },
  {
   "cell_type": "code",
   "execution_count": null,
   "metadata": {
    "id": "HOxWQe5y3u7e"
   },
   "outputs": [
    {
     "name": "stdout",
     "output_type": "stream",
     "text": [
      "Collecting deep_translator\n",
      "  Downloading deep_translator-1.11.4-py3-none-any.whl.metadata (30 kB)\n",
      "Collecting beautifulsoup4<5.0.0,>=4.9.1 (from deep_translator)\n",
      "  Using cached beautifulsoup4-4.12.3-py3-none-any.whl.metadata (3.8 kB)\n",
      "Requirement already satisfied: requests<3.0.0,>=2.23.0 in c:\\users\\aluca\\miniconda3\\envs\\ambiente_pruebas\\lib\\site-packages (from deep_translator) (2.32.3)\n",
      "Collecting soupsieve>1.2 (from beautifulsoup4<5.0.0,>=4.9.1->deep_translator)\n",
      "  Using cached soupsieve-2.6-py3-none-any.whl.metadata (4.6 kB)\n",
      "Requirement already satisfied: charset-normalizer<4,>=2 in c:\\users\\aluca\\miniconda3\\envs\\ambiente_pruebas\\lib\\site-packages (from requests<3.0.0,>=2.23.0->deep_translator) (3.4.0)\n",
      "Requirement already satisfied: idna<4,>=2.5 in c:\\users\\aluca\\miniconda3\\envs\\ambiente_pruebas\\lib\\site-packages (from requests<3.0.0,>=2.23.0->deep_translator) (3.10)\n",
      "Requirement already satisfied: urllib3<3,>=1.21.1 in c:\\users\\aluca\\miniconda3\\envs\\ambiente_pruebas\\lib\\site-packages (from requests<3.0.0,>=2.23.0->deep_translator) (2.2.3)\n",
      "Requirement already satisfied: certifi>=2017.4.17 in c:\\users\\aluca\\miniconda3\\envs\\ambiente_pruebas\\lib\\site-packages (from requests<3.0.0,>=2.23.0->deep_translator) (2024.8.30)\n",
      "Downloading deep_translator-1.11.4-py3-none-any.whl (42 kB)\n",
      "Using cached beautifulsoup4-4.12.3-py3-none-any.whl (147 kB)\n",
      "Using cached soupsieve-2.6-py3-none-any.whl (36 kB)\n",
      "Installing collected packages: soupsieve, beautifulsoup4, deep_translator\n",
      "Successfully installed beautifulsoup4-4.12.3 deep_translator-1.11.4 soupsieve-2.6\n",
      "Note: you may need to restart the kernel to use updated packages.\n"
     ]
    }
   ],
   "source": [
    "#pip install deep_translator"
   ]
  },
  {
   "cell_type": "code",
   "execution_count": 59,
   "metadata": {
    "id": "08sk9HhCqokp"
   },
   "outputs": [
    {
     "name": "stdout",
     "output_type": "stream",
     "text": [
      "Translation to fr: Qui aurait cru que la traduction pouvait être amusante ?\n",
      "Translation to zh-CN: 谁知道翻译也可以很有趣\n",
      "Translation to hi: कौन जानता था कि अनुवाद मज़ेदार हो सकता है\n",
      "Translation to es: ¿Quién iba a pensar que traducir podía ser divertido?\n"
     ]
    }
   ],
   "source": [
    "from deep_translator import GoogleTranslator\n",
    "\n",
    "# Lista de idiomas a los que traducir\n",
    "languages = ['fr', 'zh-CN', 'hi', 'es']\n",
    "\n",
    "# Texto a traducir\n",
    "text = \"Who knew translation could be fun\"\n",
    "\n",
    "# Itera sobre los idiomas y traduce el texto\n",
    "for language in languages:\n",
    "    try:\n",
    "        translated_text = GoogleTranslator(source='en', target=language).translate(text)\n",
    "        print(f\"Translation to {language}: {translated_text}\")\n",
    "    except Exception as e:\n",
    "        print(f\"Error translating to {language}: {e}\")\n",
    "\n"
   ]
  },
  {
   "cell_type": "code",
   "execution_count": 60,
   "metadata": {
    "id": "_P-BYiSe4MJo"
   },
   "outputs": [
    {
     "name": "stdout",
     "output_type": "stream",
     "text": [
      "Requirement already satisfied: textblob in c:\\users\\aluca\\miniconda3\\envs\\ambiente_pruebas\\lib\\site-packages (0.18.0.post0)\n",
      "Collecting googletrans==3.1.0a0\n",
      "  Downloading googletrans-3.1.0a0.tar.gz (19 kB)\n",
      "  Preparing metadata (setup.py): started\n",
      "  Preparing metadata (setup.py): finished with status 'done'\n",
      "Collecting httpx==0.13.3 (from googletrans==3.1.0a0)\n",
      "  Downloading httpx-0.13.3-py3-none-any.whl.metadata (25 kB)\n",
      "Requirement already satisfied: certifi in c:\\users\\aluca\\miniconda3\\envs\\ambiente_pruebas\\lib\\site-packages (from httpx==0.13.3->googletrans==3.1.0a0) (2024.8.30)\n",
      "Collecting hstspreload (from httpx==0.13.3->googletrans==3.1.0a0)\n",
      "  Downloading hstspreload-2024.11.1-py3-none-any.whl.metadata (2.1 kB)\n",
      "Collecting sniffio (from httpx==0.13.3->googletrans==3.1.0a0)\n",
      "  Using cached sniffio-1.3.1-py3-none-any.whl.metadata (3.9 kB)\n",
      "Collecting chardet==3.* (from httpx==0.13.3->googletrans==3.1.0a0)\n",
      "  Downloading chardet-3.0.4-py2.py3-none-any.whl.metadata (3.2 kB)\n",
      "Collecting idna==2.* (from httpx==0.13.3->googletrans==3.1.0a0)\n",
      "  Downloading idna-2.10-py2.py3-none-any.whl.metadata (9.1 kB)\n",
      "Collecting rfc3986<2,>=1.3 (from httpx==0.13.3->googletrans==3.1.0a0)\n",
      "  Downloading rfc3986-1.5.0-py2.py3-none-any.whl.metadata (6.5 kB)\n",
      "Collecting httpcore==0.9.* (from httpx==0.13.3->googletrans==3.1.0a0)\n",
      "  Downloading httpcore-0.9.1-py3-none-any.whl.metadata (4.6 kB)\n",
      "Collecting h11<0.10,>=0.8 (from httpcore==0.9.*->httpx==0.13.3->googletrans==3.1.0a0)\n",
      "  Downloading h11-0.9.0-py2.py3-none-any.whl.metadata (8.1 kB)\n",
      "Collecting h2==3.* (from httpcore==0.9.*->httpx==0.13.3->googletrans==3.1.0a0)\n",
      "  Downloading h2-3.2.0-py2.py3-none-any.whl.metadata (32 kB)\n",
      "Collecting hyperframe<6,>=5.2.0 (from h2==3.*->httpcore==0.9.*->httpx==0.13.3->googletrans==3.1.0a0)\n",
      "  Downloading hyperframe-5.2.0-py2.py3-none-any.whl.metadata (7.2 kB)\n",
      "Collecting hpack<4,>=3.0 (from h2==3.*->httpcore==0.9.*->httpx==0.13.3->googletrans==3.1.0a0)\n",
      "  Downloading hpack-3.0.0-py2.py3-none-any.whl.metadata (7.0 kB)\n",
      "Requirement already satisfied: nltk>=3.8 in c:\\users\\aluca\\miniconda3\\envs\\ambiente_pruebas\\lib\\site-packages (from textblob) (3.9.1)\n",
      "Requirement already satisfied: click in c:\\users\\aluca\\miniconda3\\envs\\ambiente_pruebas\\lib\\site-packages (from nltk>=3.8->textblob) (8.1.7)\n",
      "Requirement already satisfied: joblib in c:\\users\\aluca\\miniconda3\\envs\\ambiente_pruebas\\lib\\site-packages (from nltk>=3.8->textblob) (1.4.2)\n",
      "Requirement already satisfied: regex>=2021.8.3 in c:\\users\\aluca\\miniconda3\\envs\\ambiente_pruebas\\lib\\site-packages (from nltk>=3.8->textblob) (2024.11.6)\n",
      "Requirement already satisfied: tqdm in c:\\users\\aluca\\miniconda3\\envs\\ambiente_pruebas\\lib\\site-packages (from nltk>=3.8->textblob) (4.67.0)\n",
      "Requirement already satisfied: colorama in c:\\users\\aluca\\miniconda3\\envs\\ambiente_pruebas\\lib\\site-packages (from click->nltk>=3.8->textblob) (0.4.6)\n",
      "Downloading httpx-0.13.3-py3-none-any.whl (55 kB)\n",
      "Downloading chardet-3.0.4-py2.py3-none-any.whl (133 kB)\n",
      "Downloading httpcore-0.9.1-py3-none-any.whl (42 kB)\n",
      "Downloading idna-2.10-py2.py3-none-any.whl (58 kB)\n",
      "Using cached sniffio-1.3.1-py3-none-any.whl (10 kB)\n",
      "Downloading h2-3.2.0-py2.py3-none-any.whl (65 kB)\n",
      "Downloading rfc3986-1.5.0-py2.py3-none-any.whl (31 kB)\n",
      "Downloading hstspreload-2024.11.1-py3-none-any.whl (1.2 MB)\n",
      "   ---------------------------------------- 0.0/1.2 MB ? eta -:--:--\n",
      "   ---------------------------------------- 1.2/1.2 MB 27.1 MB/s eta 0:00:00\n",
      "Downloading h11-0.9.0-py2.py3-none-any.whl (53 kB)\n",
      "Downloading hpack-3.0.0-py2.py3-none-any.whl (38 kB)\n",
      "Downloading hyperframe-5.2.0-py2.py3-none-any.whl (12 kB)\n",
      "Building wheels for collected packages: googletrans\n",
      "  Building wheel for googletrans (setup.py): started\n",
      "  Building wheel for googletrans (setup.py): finished with status 'done'\n",
      "  Created wheel for googletrans: filename=googletrans-3.1.0a0-py3-none-any.whl size=16415 sha256=d2a7b0faeb175184745920fe2ab31a1587618c4759a5f974251ffa8542a39ea3\n",
      "  Stored in directory: c:\\users\\aluca\\appdata\\local\\pip\\cache\\wheels\\6a\\e3\\42\\e57970ec354cbac26dde2659ec8efb09e668adcefd80afc1e3\n",
      "Successfully built googletrans\n",
      "Installing collected packages: rfc3986, hyperframe, hpack, h11, chardet, sniffio, idna, hstspreload, h2, httpcore, httpx, googletrans\n",
      "  Attempting uninstall: idna\n",
      "    Found existing installation: idna 3.10\n",
      "    Uninstalling idna-3.10:\n",
      "      Successfully uninstalled idna-3.10\n",
      "Successfully installed chardet-3.0.4 googletrans-3.1.0a0 h11-0.9.0 h2-3.2.0 hpack-3.0.0 hstspreload-2024.11.1 httpcore-0.9.1 httpx-0.13.3 hyperframe-5.2.0 idna-2.10 rfc3986-1.5.0 sniffio-1.3.1\n"
     ]
    }
   ],
   "source": [
    "!pip install textblob googletrans==3.1.0a0"
   ]
  },
  {
   "cell_type": "code",
   "execution_count": 61,
   "metadata": {
    "id": "Vpb5Y_G8qofh"
   },
   "outputs": [
    {
     "ename": "ModuleNotFoundError",
     "evalue": "No module named 'cgi'",
     "output_type": "error",
     "traceback": [
      "\u001b[1;31m---------------------------------------------------------------------------\u001b[0m",
      "\u001b[1;31mModuleNotFoundError\u001b[0m                       Traceback (most recent call last)",
      "Cell \u001b[1;32mIn[61], line 4\u001b[0m\n\u001b[0;32m      1\u001b[0m \u001b[38;5;66;03m#!pip install textblob googletrans==3.1.0a0\u001b[39;00m\n\u001b[0;32m      3\u001b[0m \u001b[38;5;28;01mfrom\u001b[39;00m \u001b[38;5;21;01mtextblob\u001b[39;00m \u001b[38;5;28;01mimport\u001b[39;00m TextBlob\n\u001b[1;32m----> 4\u001b[0m \u001b[38;5;28;01mfrom\u001b[39;00m \u001b[38;5;21;01mgoogletrans\u001b[39;00m \u001b[38;5;28;01mimport\u001b[39;00m Translator\n\u001b[0;32m      6\u001b[0m blob \u001b[38;5;241m=\u001b[39m TextBlob(\u001b[38;5;124m\"\u001b[39m\u001b[38;5;124mHola, ¿cómo estás?\u001b[39m\u001b[38;5;124m\"\u001b[39m)\n\u001b[0;32m      8\u001b[0m \u001b[38;5;66;03m# Crea un objeto Translator\u001b[39;00m\n",
      "File \u001b[1;32mc:\\Users\\aluca\\miniconda3\\envs\\ambiente_pruebas\\Lib\\site-packages\\googletrans\\__init__.py:6\u001b[0m\n\u001b[0;32m      2\u001b[0m __all__ \u001b[38;5;241m=\u001b[39m \u001b[38;5;124m'\u001b[39m\u001b[38;5;124mTranslator\u001b[39m\u001b[38;5;124m'\u001b[39m,\n\u001b[0;32m      3\u001b[0m __version__ \u001b[38;5;241m=\u001b[39m \u001b[38;5;124m'\u001b[39m\u001b[38;5;124m3.1.0-alpha\u001b[39m\u001b[38;5;124m'\u001b[39m\n\u001b[1;32m----> 6\u001b[0m \u001b[38;5;28;01mfrom\u001b[39;00m \u001b[38;5;21;01mgoogletrans\u001b[39;00m\u001b[38;5;21;01m.\u001b[39;00m\u001b[38;5;21;01mclient\u001b[39;00m \u001b[38;5;28;01mimport\u001b[39;00m Translator\n\u001b[0;32m      7\u001b[0m \u001b[38;5;28;01mfrom\u001b[39;00m \u001b[38;5;21;01mgoogletrans\u001b[39;00m\u001b[38;5;21;01m.\u001b[39;00m\u001b[38;5;21;01mconstants\u001b[39;00m \u001b[38;5;28;01mimport\u001b[39;00m LANGCODES, LANGUAGES  \u001b[38;5;66;03m# noqa\u001b[39;00m\n",
      "File \u001b[1;32mc:\\Users\\aluca\\miniconda3\\envs\\ambiente_pruebas\\Lib\\site-packages\\googletrans\\client.py:12\u001b[0m\n\u001b[0;32m      9\u001b[0m \u001b[38;5;28;01mimport\u001b[39;00m \u001b[38;5;21;01mre\u001b[39;00m\n\u001b[0;32m     11\u001b[0m \u001b[38;5;28;01mimport\u001b[39;00m \u001b[38;5;21;01mhttpcore\u001b[39;00m\n\u001b[1;32m---> 12\u001b[0m \u001b[38;5;28;01mimport\u001b[39;00m \u001b[38;5;21;01mhttpx\u001b[39;00m\n\u001b[0;32m     13\u001b[0m \u001b[38;5;28;01mfrom\u001b[39;00m \u001b[38;5;21;01mhttpx\u001b[39;00m \u001b[38;5;28;01mimport\u001b[39;00m Timeout\n\u001b[0;32m     15\u001b[0m \u001b[38;5;28;01mfrom\u001b[39;00m \u001b[38;5;21;01mgoogletrans\u001b[39;00m \u001b[38;5;28;01mimport\u001b[39;00m urls, utils\n",
      "File \u001b[1;32mc:\\Users\\aluca\\miniconda3\\envs\\ambiente_pruebas\\Lib\\site-packages\\httpx\\__init__.py:2\u001b[0m\n\u001b[0;32m      1\u001b[0m \u001b[38;5;28;01mfrom\u001b[39;00m \u001b[38;5;21;01m.\u001b[39;00m\u001b[38;5;21;01m__version__\u001b[39;00m \u001b[38;5;28;01mimport\u001b[39;00m __description__, __title__, __version__\n\u001b[1;32m----> 2\u001b[0m \u001b[38;5;28;01mfrom\u001b[39;00m \u001b[38;5;21;01m.\u001b[39;00m\u001b[38;5;21;01m_api\u001b[39;00m \u001b[38;5;28;01mimport\u001b[39;00m delete, get, head, options, patch, post, put, request, stream\n\u001b[0;32m      3\u001b[0m \u001b[38;5;28;01mfrom\u001b[39;00m \u001b[38;5;21;01m.\u001b[39;00m\u001b[38;5;21;01m_auth\u001b[39;00m \u001b[38;5;28;01mimport\u001b[39;00m Auth, BasicAuth, DigestAuth\n\u001b[0;32m      4\u001b[0m \u001b[38;5;28;01mfrom\u001b[39;00m \u001b[38;5;21;01m.\u001b[39;00m\u001b[38;5;21;01m_client\u001b[39;00m \u001b[38;5;28;01mimport\u001b[39;00m AsyncClient, Client\n",
      "File \u001b[1;32mc:\\Users\\aluca\\miniconda3\\envs\\ambiente_pruebas\\Lib\\site-packages\\httpx\\_api.py:3\u001b[0m\n\u001b[0;32m      1\u001b[0m \u001b[38;5;28;01mimport\u001b[39;00m \u001b[38;5;21;01mtyping\u001b[39;00m\n\u001b[1;32m----> 3\u001b[0m \u001b[38;5;28;01mfrom\u001b[39;00m \u001b[38;5;21;01m.\u001b[39;00m\u001b[38;5;21;01m_client\u001b[39;00m \u001b[38;5;28;01mimport\u001b[39;00m Client, StreamContextManager\n\u001b[0;32m      4\u001b[0m \u001b[38;5;28;01mfrom\u001b[39;00m \u001b[38;5;21;01m.\u001b[39;00m\u001b[38;5;21;01m_config\u001b[39;00m \u001b[38;5;28;01mimport\u001b[39;00m DEFAULT_TIMEOUT_CONFIG\n\u001b[0;32m      5\u001b[0m \u001b[38;5;28;01mfrom\u001b[39;00m \u001b[38;5;21;01m.\u001b[39;00m\u001b[38;5;21;01m_models\u001b[39;00m \u001b[38;5;28;01mimport\u001b[39;00m Request, Response\n",
      "File \u001b[1;32mc:\\Users\\aluca\\miniconda3\\envs\\ambiente_pruebas\\Lib\\site-packages\\httpx\\_client.py:8\u001b[0m\n\u001b[0;32m      5\u001b[0m \u001b[38;5;28;01mimport\u001b[39;00m \u001b[38;5;21;01mhstspreload\u001b[39;00m\n\u001b[0;32m      6\u001b[0m \u001b[38;5;28;01mimport\u001b[39;00m \u001b[38;5;21;01mhttpcore\u001b[39;00m\n\u001b[1;32m----> 8\u001b[0m \u001b[38;5;28;01mfrom\u001b[39;00m \u001b[38;5;21;01m.\u001b[39;00m\u001b[38;5;21;01m_auth\u001b[39;00m \u001b[38;5;28;01mimport\u001b[39;00m Auth, BasicAuth, FunctionAuth\n\u001b[0;32m      9\u001b[0m \u001b[38;5;28;01mfrom\u001b[39;00m \u001b[38;5;21;01m.\u001b[39;00m\u001b[38;5;21;01m_config\u001b[39;00m \u001b[38;5;28;01mimport\u001b[39;00m (\n\u001b[0;32m     10\u001b[0m     DEFAULT_MAX_REDIRECTS,\n\u001b[0;32m     11\u001b[0m     DEFAULT_POOL_LIMITS,\n\u001b[1;32m   (...)\u001b[0m\n\u001b[0;32m     18\u001b[0m     UnsetType,\n\u001b[0;32m     19\u001b[0m )\n\u001b[0;32m     20\u001b[0m \u001b[38;5;28;01mfrom\u001b[39;00m \u001b[38;5;21;01m.\u001b[39;00m\u001b[38;5;21;01m_content_streams\u001b[39;00m \u001b[38;5;28;01mimport\u001b[39;00m ContentStream\n",
      "File \u001b[1;32mc:\\Users\\aluca\\miniconda3\\envs\\ambiente_pruebas\\Lib\\site-packages\\httpx\\_auth.py:10\u001b[0m\n\u001b[0;32m      7\u001b[0m \u001b[38;5;28;01mfrom\u001b[39;00m \u001b[38;5;21;01murllib\u001b[39;00m\u001b[38;5;21;01m.\u001b[39;00m\u001b[38;5;21;01mrequest\u001b[39;00m \u001b[38;5;28;01mimport\u001b[39;00m parse_http_list\n\u001b[0;32m      9\u001b[0m \u001b[38;5;28;01mfrom\u001b[39;00m \u001b[38;5;21;01m.\u001b[39;00m\u001b[38;5;21;01m_exceptions\u001b[39;00m \u001b[38;5;28;01mimport\u001b[39;00m ProtocolError, RequestBodyUnavailable\n\u001b[1;32m---> 10\u001b[0m \u001b[38;5;28;01mfrom\u001b[39;00m \u001b[38;5;21;01m.\u001b[39;00m\u001b[38;5;21;01m_models\u001b[39;00m \u001b[38;5;28;01mimport\u001b[39;00m Request, Response\n\u001b[0;32m     11\u001b[0m \u001b[38;5;28;01mfrom\u001b[39;00m \u001b[38;5;21;01m.\u001b[39;00m\u001b[38;5;21;01m_utils\u001b[39;00m \u001b[38;5;28;01mimport\u001b[39;00m to_bytes, to_str, unquote\n\u001b[0;32m     14\u001b[0m \u001b[38;5;28;01mclass\u001b[39;00m \u001b[38;5;21;01mAuth\u001b[39;00m:\n",
      "File \u001b[1;32mc:\\Users\\aluca\\miniconda3\\envs\\ambiente_pruebas\\Lib\\site-packages\\httpx\\_models.py:1\u001b[0m\n\u001b[1;32m----> 1\u001b[0m \u001b[38;5;28;01mimport\u001b[39;00m \u001b[38;5;21;01mcgi\u001b[39;00m\n\u001b[0;32m      2\u001b[0m \u001b[38;5;28;01mimport\u001b[39;00m \u001b[38;5;21;01mdatetime\u001b[39;00m\n\u001b[0;32m      3\u001b[0m \u001b[38;5;28;01mimport\u001b[39;00m \u001b[38;5;21;01memail\u001b[39;00m\u001b[38;5;21;01m.\u001b[39;00m\u001b[38;5;21;01mmessage\u001b[39;00m\n",
      "\u001b[1;31mModuleNotFoundError\u001b[0m: No module named 'cgi'"
     ]
    }
   ],
   "source": [
    "#!pip install textblob googletrans==3.1.0a0\n",
    "\n",
    "from textblob import TextBlob\n",
    "from googletrans import Translator\n",
    "\n",
    "blob = TextBlob(\"Hola, ¿cómo estás?\")\n",
    "\n",
    "# Crea un objeto Translator\n",
    "translator = Translator()\n",
    "#Traducción\n",
    "translation = translator.translate(str(blob), src='es', dest='en').text\n",
    "\n",
    "print(translation)\n"
   ]
  },
  {
   "cell_type": "code",
   "execution_count": null,
   "metadata": {
    "id": "2OnUbVfaqoag"
   },
   "outputs": [],
   "source": [
    "from textblob import TextBlob\n",
    "\n",
    "# Ejemplo que queremos hacer en español\n",
    "texto = \"Me encanta este lugar, es maravilloso y la comida está deliciosa.\"\n",
    "\n",
    "# Crear un objeto TextBlob\n",
    "blob = TextBlob(texto)\n",
    "\n",
    "# Obtener la polaridad y subjetividad\n",
    "sentimiento = blob.sentiment\n",
    "polaridad = sentimiento.polarity\n",
    "subjetividad = sentimiento.subjectivity\n",
    "\n",
    "print(f\"Sentimiento: {sentimiento}\")\n",
    "print(f\"Polaridad: {polaridad}\")  # Rango entre -1 y 1\n",
    "print(f\"Subjetividad: {subjetividad}\")  # Rango entre 0 y 1\n"
   ]
  },
  {
   "cell_type": "code",
   "execution_count": null,
   "metadata": {
    "id": "rPDNfFlx5uS0"
   },
   "outputs": [],
   "source": [
    "from textblob import TextBlob\n",
    "from googletrans import Translator\n",
    "\n",
    "text_1 = \"El autogol no le podemos tirarle la culpa, fue una jugada fortuita que a cualquiera le puede pasar, pero después de ese autogol toda la defensa fue un mar de nervios. Tienen mucho por trabajar la parte mental que siempre que es el punto débil del jugador colombiano\"\n",
    "text_2 = \"Por eso estamos como estamos viviendo del pasado lo de ayer es para el olvido pero ya hay que mirar el martes\"\n",
    "text_3 = \"Hay que jugar más inteligentes, Siempre es la misma vaina, ¡Dejémonos de pendejadas! Este es un equipazo, Vamos a ver cómo responden, No más excusas.\"\n",
    "text_4 = \"En mi concepto lo de la Copa América de Davinson fue atípico siempre ha sido de regular para abajo en la selección, eso no desmerita la buena copa América que hizo que nos sorprendió a todos.\"\n",
    "\n",
    "blob_1 = TextBlob(text_1)\n",
    "blob_2 = TextBlob(text_2)\n",
    "blob_3 = TextBlob(text_3)\n",
    "blob_4 = TextBlob(text_4)\n",
    "\n",
    "#crear objeto Translator\n",
    "translator = Translator()\n",
    "\n",
    "translation_1 = translator.translate(str(blob_1), src='es', dest='en').text\n",
    "translation_2 = translator.translate(str(blob_2), src='es', dest='en').text\n",
    "translation_3 = translator.translate(str(blob_3), src='es', dest='en').text\n",
    "translation_4 = translator.translate(str(blob_4), src='es', dest='en').text\n",
    "\n",
    "print(translation_1)\n",
    "print('Frase 1:',TextBlob(translation_1).sentiment)\n",
    "print('----------------------------------')\n",
    "print(translation_2)\n",
    "print('Frase 2:',TextBlob(translation_2).sentiment)\n",
    "print('----------------------------------')\n",
    "print(translation_3)\n",
    "print(TextBlob(translation_3).sentiment)\n",
    "print('----------------------------------')\n",
    "print(translation_4)\n",
    "print(TextBlob(translation_4).sentiment)\n",
    "print('----------------------------------')\n"
   ]
  },
  {
   "cell_type": "code",
   "execution_count": null,
   "metadata": {
    "id": "utXV9V5l7UNc"
   },
   "outputs": [],
   "source": [
    "from nltk.stem import PorterStemmer\n",
    "from nltk.tokenize import word_tokenize\n",
    "texto1= translation_1\n",
    "texto2 = translation_2\n",
    "texto3 = translation_3\n",
    "texto4 = translation_4\n",
    "\n",
    "token1=word_tokenize(texto1.lower())\n",
    "token2=word_tokenize(texto2.lower())\n",
    "token3=word_tokenize(texto3.lower())\n",
    "token4=word_tokenize(texto4.lower())\n",
    "\n",
    "ps = PorterStemmer()\n",
    "\n",
    "tokens1=[ps.stem(word) for word in token1]\n",
    "tokens2=[ps.stem(word) for word in token2]\n",
    "tokens3=[ps.stem(word) for word in token3]\n",
    "tokens4=[ps.stem(word) for word in token4]\n",
    "\n",
    "print(tokens1)\n",
    "print(tokens2)\n",
    "print(tokens3)\n",
    "print(tokens4)"
   ]
  },
  {
   "cell_type": "code",
   "execution_count": null,
   "metadata": {
    "id": "Fd3xV21t_7Gy"
   },
   "outputs": [],
   "source": [
    "print(translation_1)\n",
    "print(tokens1)"
   ]
  },
  {
   "cell_type": "code",
   "execution_count": null,
   "metadata": {
    "id": "zXh9aZX9_6Lr"
   },
   "outputs": [],
   "source": [
    "from sklearn.feature_extraction.text import CountVectorizer\n",
    "\n",
    "sentence = [\"How do we change the payment method and payment frequency?\"]\n",
    "\n",
    "\n",
    "vectorizer = CountVectorizer()\n",
    "\n",
    "# Aplicar la vectorización\n",
    "X = vectorizer.fit_transform(sentence)\n",
    "\n",
    "# Ver los resultados\n",
    "print(\"Características: \", vectorizer.get_feature_names_out())\n",
    "print(\"Matriz de características: \\n\", X.toarray())"
   ]
  },
  {
   "cell_type": "markdown",
   "metadata": {
    "id": "2Wj-IoUvyJzt"
   },
   "source": [
    "#Conversión a minúsculas (Case folding)\n",
    "\n",
    "Otra estrategia que ayuda con la normalización se llama conversión a minúsculas (case folding). En este proceso, todas las letras de un corpus de texto se convierten a minúsculas. Por ejemplo, The y the se tratarán de la misma forma en un escenario de conversión a minúsculas, mientras que serían tratadas de manera diferente en un escenario sin esta conversión. Esta técnica es útil en sistemas de recuperación de información, como los motores de búsqueda.\n",
    "\n",
    "En el caso de un nombre propio como Lamborghini, se tratará como lamborghini; es decir, si el usuario escribe Lamborghini o lamborghini, los resultados serán los mismos.\n",
    "\n",
    "Sin embargo, en situaciones en las que los nombres propios derivan de términos comunes, la conversión a minúsculas puede volverse un obstáculo, ya que la distinción entre mayúsculas y minúsculas se vuelve importante. Por ejemplo, General Motors está compuesto de términos comunes, pero es un nombre propio. Aplicar la conversión a minúsculas en este caso podría causar problemas. Otro inconveniente es cuando los acrónimos se convierten a minúsculas, ya que existe una alta probabilidad de que se asocien a términos comunes. Un ejemplo ampliamente usado es CAT, que representa Common Admission Test en India, y que podría convertirse en cat.\n",
    "\n",
    "Una posible solución es construir modelos de aprendizaje automático que utilicen características de una oración para determinar qué palabras o tokens deben estar en minúsculas y cuáles no; sin embargo, este enfoque no siempre es efectivo cuando los usuarios suelen escribir en minúsculas. Por lo tanto, convertir todo a minúsculas sigue siendo una solución prudente"
   ]
  },
  {
   "cell_type": "code",
   "execution_count": 62,
   "metadata": {
    "id": "40wu86XlyJXM"
   },
   "outputs": [
    {
     "data": {
      "text/plain": [
       "'we are putting in efforts to enhance our understanding of lemmatization'"
      ]
     },
     "execution_count": 62,
     "metadata": {},
     "output_type": "execute_result"
    }
   ],
   "source": [
    "s = \"We are putting in efforts to enhance our understanding of Lemmatization\"\n",
    "s = s.lower()\n",
    "s"
   ]
  },
  {
   "cell_type": "markdown",
   "metadata": {
    "id": "AkacE7_OybPE"
   },
   "source": [
    "# N-gramas\n",
    "\n",
    "Hasta ahora, nos hemos centrado en tokens de tamaño 1, es decir, una sola palabra. Las oraciones generalmente contienen nombres de personas, lugares y otros términos compuestos abiertos, como living room (sala de estar) y coffee mug (taza de café). Estas frases transmiten un significado específico cuando se usan dos o más palabras juntas. Cuando se usan de forma individual, el significado cambia por completo y se pierde el significado implícito de los términos compuestos. El uso de múltiples tokens para representar este significado implícito puede ser muy beneficioso para las tareas de NLP que se están realizando. Aunque tales ocurrencias son poco frecuentes, siguen llevando mucha información. Se deben emplear técnicas para interpretar estos casos también.\n",
    "\n",
    "En general, estos se agrupan bajo el término general de n-gramas. Cuando n es igual a 1, se denominan unigramas. Los bigramas o 2-gramas se refieren a pares de palabras, como dinner table (mesa de cena). Frases como the United Arab Emirates (los Emiratos Árabes Unidos), que constan de tres palabras, se denominan trigramas o 3-gramas. Este sistema de denominación se puede extender a n-gramas de mayor longitud, pero la mayoría de las tareas de NLP utilizan solo trigramas o menores.\n",
    "\n",
    "Vamos a entender cómo funciona esto con la siguiente oración:\n",
    "\n",
    "* Natural Language Processing is the way to go\n",
    "La frase Natural Language Processing\n",
    "\n",
    "lleva un significado implícito que se perdería si cada una de las palabras de la frase se procesara de forma individual; sin embargo, al usar trigramas, estas frases pueden extraerse juntas y el significado se captura. En general, todas las tareas de NLP utilizan unigramas, bigramas y trigramas juntos para capturar toda la información."
   ]
  },
  {
   "cell_type": "code",
   "execution_count": 63,
   "metadata": {
    "id": "44EnqbYc0xj0"
   },
   "outputs": [
    {
     "data": {
      "text/plain": [
       "['Natural Language',\n",
       " 'Language Processing',\n",
       " 'Processing is',\n",
       " 'is the',\n",
       " 'the way',\n",
       " 'way to',\n",
       " 'to go']"
      ]
     },
     "execution_count": 63,
     "metadata": {},
     "output_type": "execute_result"
    }
   ],
   "source": [
    "from nltk.util import ngrams\n",
    "s = \"Natural Language Processing is the way to go\"\n",
    "tokens = s.split()\n",
    "bigrams = list(ngrams(tokens, 2))\n",
    "[\" \".join(token) for token in bigrams]\n"
   ]
  },
  {
   "cell_type": "code",
   "execution_count": 64,
   "metadata": {
    "id": "jNPu1a3T04ak"
   },
   "outputs": [
    {
     "data": {
      "text/plain": [
       "['Natural Language Processing',\n",
       " 'Language Processing is',\n",
       " 'Processing is the',\n",
       " 'is the way',\n",
       " 'the way to',\n",
       " 'way to go']"
      ]
     },
     "execution_count": 64,
     "metadata": {},
     "output_type": "execute_result"
    }
   ],
   "source": [
    "s = \"Natural Language Processing is the way to go\"\n",
    "tokens = s.split()\n",
    "trigrams = list(ngrams(tokens, 3))\n",
    "[\" \".join(token) for token in trigrams]"
   ]
  },
  {
   "cell_type": "markdown",
   "metadata": {
    "id": "vfRdWlllXeiN"
   },
   "source": [
    "## Bibliotecas y metodología de web scraping\n",
    "Al hablar sobre NLTK, resaltamos la importancia de un corpus o un repositorio grande de texto para la investigación en procesamiento de lenguaje natural (NLP). Si bien los corpus disponibles son bastante útiles, los investigadores de NLP pueden necesitar texto sobre un tema específico. Por ejemplo, alguien que intente construir un analizador de sentimientos para los mercados financieros puede no encontrar útil un corpus de discursos presidenciales, reseñas de películas, etc. Por lo tanto, los investigadores de NLP pueden tener que obtener datos de otras fuentes. El web scraping es una herramienta extremadamente útil en este sentido, ya que permite a los usuarios recuperar información de fuentes web de forma programada.\n",
    "\n",
    "Antes de comenzar a discutir sobre el web scraping, se debe tener en cuenta la importancia de cumplir con las políticas de los sitios web en cuanto a la recolección de datos. La mayoría de los sitios web permiten el web scraping para uso individual y no comercial, pero siempre se debe verificar la política antes de realizar el scraping en un sitio."
   ]
  },
  {
   "cell_type": "code",
   "execution_count": null,
   "metadata": {
    "id": "LJcBFRQnqoS8"
   },
   "outputs": [],
   "source": [
    "#!pip install beautifulsoup4 requests\n"
   ]
  },
  {
   "cell_type": "code",
   "execution_count": 66,
   "metadata": {
    "id": "ymN9JN3zqoQo"
   },
   "outputs": [
    {
     "name": "stdout",
     "output_type": "stream",
     "text": [
      "None\n",
      "/\n",
      "/\n",
      "/cloud-scraper\n",
      "/pricing\n",
      "/documentation\n",
      "/tutorials\n",
      "/how-to-videos\n",
      "/test-sites\n",
      "https://forum.webscraper.io/\n",
      "https://chromewebstore.google.com/detail/web-scraper-free-web-scra/jnhgnonknehpejjnehehllkliplmbmhn?hl=en\n",
      "https://cloud.webscraper.io/\n",
      "/test-sites/e-commerce/allinone\n",
      "/test-sites/e-commerce/allinone/computers\n",
      "/test-sites/e-commerce/allinone/phones\n",
      "/test-sites/e-commerce/allinone/product/125\n",
      "/test-sites/e-commerce/allinone/product/22\n",
      "/test-sites/e-commerce/allinone/product/15\n",
      "/\n",
      "/cloud-scraper\n",
      "/about-us\n",
      "/contact\n",
      "/privacy-policy\n",
      "/extension-privacy-policy\n",
      "https://webscraper.io/downloads/Web_Scraper_Media_Kit.zip\n",
      "/jobs\n",
      "/blog\n",
      "/documentation\n",
      "/tutorials\n",
      "/screenshots\n",
      "/test-sites\n",
      "https://forum.webscraper.io/\n",
      "https://status.webscraper.io/\n",
      "mailto:info@webscraper.io\n",
      "https://www.facebook.com/webscraperio/\n",
      "https://twitter.com/webscraperio\n",
      "https://lv.linkedin.com/company/web-scraper\n",
      "https://youtube.com/@WebScraper/videos\n",
      "https://chromewebstore.google.com/detail/web-scraper-free-web-scra/jnhgnonknehpejjnehehllkliplmbmhn?hl=en\n"
     ]
    }
   ],
   "source": [
    "import requests\n",
    "from bs4 import BeautifulSoup\n",
    "\n",
    "# URL de la página web que quieres analizar\n",
    "url = \"https://webscraper.io/test-sites/e-commerce/allinone\"\n",
    "\n",
    "# Realizar la solicitud HTTP para obtener el contenido de la página\n",
    "response = requests.get(url)\n",
    "\n",
    "# Comprobar que la solicitud fue exitosa (código 200)\n",
    "if response.status_code == 200:\n",
    "    # Parsear el contenido HTML con BeautifulSoup\n",
    "    soup = BeautifulSoup(response.text, \"html.parser\")\n",
    "\n",
    "    # Ejemplo de extracción: obtener todos los enlaces (etiquetas <a>)\n",
    "    enlaces = soup.find_all(\"a\")\n",
    "\n",
    "    # Imprimir todos los enlaces encontrados\n",
    "    for enlace in enlaces:\n",
    "        print(enlace.get('href'))\n",
    "else:\n",
    "    print(f\"Error al acceder a la página. Código de estado: {response.status_code}\")\n"
   ]
  },
  {
   "cell_type": "code",
   "execution_count": 67,
   "metadata": {
    "id": "BprtV-16qoNg"
   },
   "outputs": [
    {
     "data": {
      "text/plain": [
       "'<!DOCTYPE html>\\n<html lang=\"en\">\\n<head>\\n\\t<!-- Google Tag Manager -->\\n<script nonce=\"Z5zTVlbCxnpeAzn2mSkfMww0lMKoSzmG\">(function (w, d, s, l, i) {\\n\\t\\tw[l] = w[l] || [];\\n\\t\\tw[l].push({\\n\\t\\t\\t\\'gtm.start\\':\\n\\t\\t\\t\\tnew Date().getTime(), event: \\'gtm.js\\'\\n\\t\\t});\\n\\t\\tvar f = d.getElementsByTagName(s)[0],\\n\\t\\t\\tj = d.createElement(s), dl = l != \\'dataLayer\\' ? \\'&l=\\' + l : \\'\\';\\n\\t\\tj.async = true;\\n\\t\\tj.src =\\n\\t\\t\\t\\'https://www.googletagmanager.com/gtm.js?id=\\' + i + dl;\\n\\t\\tf.parentNode.insertBefore(j, f);\\n\\t})(window, document, \\'script\\', \\'dataLayer\\', \\'GTM-NVFPDWB\\');</script>\\n<!-- End Google Tag Manager -->\\n\\t<title>Allinone | Web Scraper Test Sites</title>\\n\\t<meta charset=\"utf-8\">\\n\\t<meta http-equiv=\"X-UA-Compatible\" content=\"IE=edge,chrome=1\">\\n\\n\\t<meta name=\"keywords\"\\n\\t\\t  content=\"web scraping,Web Scraper,Chrome extension,Crawling,Cross platform scraper\"/>\\n\\t<meta name=\"description\"\\n\\t\\t  content=\"The most popular web scraping extension. Start scraping in minutes. Automate your tasks with our Cloud Scraper. No software to download, no coding needed.\"/>\\n\\t<link rel=\"icon\" sizes=\"128x128\" href=\"/favicon.png\" type=\"image/png\">\\n\\t<link rel=\"icon\" href=\"/favicon.ico\" sizes=\"16x16 32x32\" type=\"image/x-icon\">\\n\\t<link rel=\"apple-touch-icon\" href=\"/logo-icon.png\" type=\"image/png\">\\n\\t<link rel=\"icon\" href=\"/icon.svg\" type=\"image/svg+xml\">\\n\\n\\t<meta name=\"viewport\" content=\"width=device-width, initial-scale=1.0\">\\n\\t\\n\\t<link rel=\"preconnect\" href=\"https://fonts.googleapis.com\">\\n\\t<link rel=\"preconnect\" href=\"https://fonts.gstatic.com\" crossorigin>\\n\\t<link href=\"https://fonts.googleapis.com/css2?family=Roboto:wght@400;500;600&display=swap\" rel=\"stylesheet\">\\n\\t<link href=\"https://fonts.googleapis.com/css2?family=Montserrat:wght@300;400;500;600;700;900&display=swap\" rel=\"stylesheet\">\\n\\n\\t<link rel=\"stylesheet\" href=\"/css/app.css?id=5b52ac68297d0e7f8456d77584b76430\">\\n\\t<link rel=\"stylesheet\" href=\"/css/ws-icons.font.css?id=bc6c0d86aeabab8583f9814643f23faa\">\\n\\n\\t<link rel=\"canonical\" href=\"https://webscraper.io/test-sites/e-commerce/allinone\">\\n\\t<meta property=\"og:title\" content=\"Allinone | Web Scraper Test Sites\">\\n\\t<meta property=\"og:description\" content=\"The most popular web scraping extension. Start scraping in minutes. Automate your tasks with our Cloud Scraper. No software to download, no coding needed.\">\\n\\t<meta property=\"og:type\" content=\"website\">\\n\\t<meta property=\"og:url\" content=\"https://webscraper.io/test-sites/e-commerce/allinone\">\\n\\t<meta property=\"og:image\" content=\"https://webscraper.io/webscraper-logo-header.png\">\\n\\n\\t<script defer src=\"/js/app.js?id=f1a54bee4c20f88abac224402c61522d\"></script>\\n\\n\\t\\n</head>\\n<body>\\n<!-- Google Tag Manager (noscript) -->\\n<noscript>\\n\\t<iframe src=\"https://www.googletagmanager.com/ns.html?id=GTM-NVFPDWB\"\\n\\t        height=\"0\" width=\"0\" style=\"display:none;visibility:hidden\"></iframe>\\n</noscript>\\n<!-- End Google Tag Manager (noscript) -->\\n<header role=\"banner\" class=\"navbar fixed-top navbar-expand-lg navbar-dark navbar-static svg-background\" id=\"navbar-top\">\\n\\t<div class=\"container\">\\n\\n\\t\\t<div class=\"navbar-header\">\\n\\n\\t\\t\\t<a data-bs-toggle=\"collapse-side\" data-bs-target=\".side-collapse\" data-bs-target-2=\".side-collapse-container\">\\n\\t\\t\\t\\t<button type=\"button\" class=\"navbar-toggler float-end collapsed\" data-bs-toggle=\"collapse\"\\n\\t\\t\\t\\t\\t\\tdata-bs-target=\"#navbar\" data-bs-target-2=\".side-collapse-container\" data-bs-target-3=\".side-collapse\"\\n\\t\\t\\t\\t\\t\\taria-expanded=\"false\" aria-controls=\"navbar\">\\n\\n\\t\\t\\t\\t\\t<span class=\"visually-hidden\">Toggle navigation</span>\\n\\t\\t\\t\\t\\t<span class=\"icon-bar top-bar\"></span>\\n\\t\\t\\t\\t\\t<span class=\"icon-bar middle-bar\"></span>\\n\\t\\t\\t\\t\\t<span class=\"icon-bar bottom-bar\"></span>\\n\\t\\t\\t\\t\\t<span class=\"icon-bar extra-bottom-bar\"></span>\\n\\n\\t\\t\\t\\t</button>\\n\\t\\t\\t</a>\\n\\t\\t\\t<div class=\"navbar-brand\">\\n\\t\\t\\t\\t<a href=\"/\"><img src=\"/img/logo_white.svg\" alt=\"Web Scraper\"></a>\\n\\t\\t\\t</div>\\n\\t\\t</div>\\n\\n\\t\\t<div class=\"side-collapse in\">\\n\\t\\t\\t<nav id=\"navbar\" role=\"navigation\" class=\"navbar-collapse collapse\">\\n\\t\\t\\t\\t<ul class=\"nav navbar-nav navbar-right\">\\n\\t\\t\\t\\t\\t<li class=\"nav-item\">\\n\\t\\t\\t\\t\\t\\t<a href=\"/\" class=\"nav-link menuitm\">\\n\\t\\t\\t\\t\\t\\t\\t<p>Web Scraper</p>\\n\\t\\t\\t\\t\\t\\t\\t<div class=\"crta\"></div>\\n\\t\\t\\t\\t\\t\\t</a>\\n\\t\\t\\t\\t\\t</li>\\n\\t\\t\\t\\t\\t<li class=\"nav-item\">\\n\\t\\t\\t\\t\\t\\t<a href=\"/cloud-scraper\" class=\"nav-link menuitm\" id=\"cloud-nav-link\">\\n\\t\\t\\t\\t\\t\\t\\t<p>Cloud Scraper</p>\\n\\t\\t\\t\\t\\t\\t\\t<div class=\"crta\"></div>\\n\\t\\t\\t\\t\\t\\t</a>\\n\\t\\t\\t\\t\\t</li>\\n\\t\\t\\t\\t\\t<li class=\"nav-item\">\\n\\t\\t\\t\\t\\t\\t<a href=\"/pricing\" class=\"nav-link menuitm\" id=\"pricing-nav-link\">\\n\\t\\t\\t\\t\\t\\t\\t<p>Pricing</p>\\n\\t\\t\\t\\t\\t\\t\\t<div class=\"crta\"></div>\\n\\t\\t\\t\\t\\t\\t</a>\\n\\t\\t\\t\\t\\t</li>\\n\\t\\t\\t\\t\\t<li class=\"nav-item dropdown\">\\n\\t\\t\\t\\t\\t\\t<button class=\"menuitm nav-link dropdown-toggle\" id=\"dropdownMenuLink\" role=\"button\" data-bs-toggle=\"dropdown\" aria-haspopup=\"true\" aria-expanded=\"false\">\\n\\t\\t\\t\\t\\t\\t\\t<p>Learn</p>\\n\\t\\t\\t\\t\\t\\t\\t<span class=\"crta\"></span>\\n\\t\\t\\t\\t\\t\\t</button>\\n\\t\\t\\t\\t\\t\\t<ul class=\"dropdown-menu\" aria-labelledby=\"dropdownMenuLink\">\\n\\t\\t\\t\\t\\t\\t\\t<li>\\n\\t\\t\\t\\t\\t\\t\\t\\t<a href=\"/documentation\" class=\"dropdown-item\">Documentation</a>\\n\\t\\t\\t\\t\\t\\t\\t</li>\\n\\t\\t\\t\\t\\t\\t\\t<li>\\n\\t\\t\\t\\t\\t\\t\\t\\t<a href=\"/tutorials\" class=\"dropdown-item\">Video Tutorials</a>\\n\\t\\t\\t\\t\\t\\t\\t</li>\\n\\t\\t\\t\\t\\t\\t\\t<li>\\n\\t\\t\\t\\t\\t\\t\\t\\t<a href=\"/how-to-videos\" class=\"dropdown-item\">How to</a>\\n\\t\\t\\t\\t\\t\\t\\t</li>\\n\\t\\t\\t\\t\\t\\t\\t<li>\\n\\t\\t\\t\\t\\t\\t\\t\\t<a href=\"/test-sites\" class=\"dropdown-item\">Test Sites</a>\\n\\t\\t\\t\\t\\t\\t\\t</li>\\n\\t\\t\\t\\t\\t\\t\\t<li>\\n\\t\\t\\t\\t\\t\\t\\t\\t<a href=\"https://forum.webscraper.io/\" target=\"_blank\" rel=\"noopener\" class=\"dropdown-item\">Forum</a>\\n\\t\\t\\t\\t\\t\\t\\t</li>\\n\\t\\t\\t\\t\\t\\t</ul>\\n\\t\\t\\t\\t\\t</li>\\n\\t\\t\\t\\t\\t<li class=\"nav-item\">\\n\\t\\t\\t\\t\\t\\t<a href=\"https://chromewebstore.google.com/detail/web-scraper-free-web-scra/jnhgnonknehpejjnehehllkliplmbmhn?hl=en\" target=\"_blank\" class=\"nav-link btn-menu1 install-extension\">Install</a>\\n\\t\\t\\t\\t\\t</li>\\n\\t\\t\\t\\t\\t<li class=\"nav-item\">\\n\\t\\t\\t\\t\\t\\t<a href=\"https://cloud.webscraper.io/\" class=\"nav-link btn-menu2\">Cloud Login</a>\\n\\t\\t\\t\\t\\t</li>\\n\\t\\t\\t\\t</ul>\\n\\t\\t\\t</nav>\\n\\t\\t</div>\\n\\t</div>\\n</header>\\n\\n<div class=\"wrapper\">\\n\\t\\t<div class=\"formenu-here container-fluid\">\\n\\n\\t</div>\\n\\t<div class=\"container-fluid blog-hero\">\\n\\t\\t<div class=\"container\">\\n\\t\\t\\t<div class=\"row\">\\n\\t\\t\\t\\t<div class=\"col-lg-12\">\\n\\t\\t\\t\\t\\t<h1>Test Sites</h1>\\n\\t\\t\\t\\t</div>\\n\\t\\t\\t</div>\\n\\t\\t</div>\\n\\t</div>\\n\\n\\t<div class=\"container test-site\">\\n\\t\\t<div class=\"row\">\\n\\t\\t\\t<div class=\"col-lg-3 sidebar\">\\n\\t\\t\\t\\t\\t<div class=\"navbar-light sidebar\" role=\"navigation\">\\n\\t<div class=\"sidebar-nav navbar-collapse\">\\n\\t\\t<ul class=\"nav flex-column\" id=\"side-menu\">\\n\\n\\t\\t\\t<li class=\"nav-item  active \">\\n\\t\\t\\t\\t<a href=\"/test-sites/e-commerce/allinone\" class=\"nav-link\">Home</a>\\n\\t\\t\\t</li>\\n\\n\\t\\t\\t\\t\\t\\t<li class=\"nav-item \">\\n\\t\\t\\t\\t<a href=\"/test-sites/e-commerce/allinone/computers\" class=\"category-link nav-link \" aria-label=\"Navigation category\">\\n\\t\\t\\t\\t\\tComputers\\n\\t\\t\\t\\t\\t<i class=\"ws-icon  ws-icon-right \" aria-hidden=\"true\"></i>\\n\\t\\t\\t\\t</a>\\n\\n\\t\\t\\t\\t\\t\\t\\t\\t</li>\\n\\t\\t\\t\\t\\t\\t<li class=\"nav-item \">\\n\\t\\t\\t\\t<a href=\"/test-sites/e-commerce/allinone/phones\" class=\"category-link nav-link \" aria-label=\"Navigation category\">\\n\\t\\t\\t\\t\\tPhones\\n\\t\\t\\t\\t\\t<i class=\"ws-icon  ws-icon-right \" aria-hidden=\"true\"></i>\\n\\t\\t\\t\\t</a>\\n\\n\\t\\t\\t\\t\\t\\t\\t\\t</li>\\n\\t\\t\\t\\t\\t</ul>\\n\\t</div>\\n</div>\\n\\n\\t\\t\\t</div>\\n\\t\\t\\t<div class=\"col-lg-9\">\\n\\t\\t\\t\\t\\n\\t<div class=\"jumbotron\">\\n\\t\\t<h2>E-commerce training site</h2>\\n\\t\\t<p class=\"lead\">\\n\\t\\t\\tWelcome to WebScraper e-commerce site. You can use this site for training\\n\\t\\t\\tto learn how to use the Web Scraper. Items listed here are not for sale.\\n\\t\\t</p>\\n\\t</div>\\n\\n\\t<h3>Top items being scraped right now</h3>\\n\\n\\t<div class=\"row\">\\n\\t\\t\\t<div class=\"col-md-4 col-xl-4 col-lg-4\">\\n\\t<div class=\"card thumbnail\">\\n\\t\\t<div class=\"product-wrapper card-body\">\\n\\t\\t\\t<img class=\"img-fluid card-img-top image img-responsive\" alt=\"item\" src=\"/images/test-sites/e-commerce/items/cart2.png\">\\n\\t\\t\\t<div class=\"caption\">\\n\\t\\t\\t\\t<h4 class=\"price float-end card-title pull-right\">$1212.16</h4>\\n\\t\\t\\t\\t<h4>\\n\\t\\t\\t\\t\\t<a href=\"/test-sites/e-commerce/allinone/product/125\" class=\"title\" title=\"Lenovo IdeaPad Miix 510 Platinum Silver\">Lenovo IdeaPad...</a>\\n\\t\\t\\t\\t</h4>\\n\\t\\t\\t\\t<p class=\"description card-text\">Lenovo IdeaPad Miix 510 Platinum Silver, 12.2&quot; IPS Touch, Core i5-7200U, 8GB, 256GB SSD, 4G, Windows 10 Pro</p>\\n\\n\\t\\t\\t</div>\\n\\t\\t\\t<div class=\"ratings\">\\n\\t\\t\\t\\t<p class=\"review-count float-end\">0 reviews</p>\\n\\t\\t\\t\\t<p data-rating=\"4\">\\n\\t\\t\\t\\t\\t\\t\\t\\t\\t\\t<span class=\"ws-icon ws-icon-star\"></span>\\n\\t\\t\\t\\t\\t\\t\\t\\t\\t\\t<span class=\"ws-icon ws-icon-star\"></span>\\n\\t\\t\\t\\t\\t\\t\\t\\t\\t\\t<span class=\"ws-icon ws-icon-star\"></span>\\n\\t\\t\\t\\t\\t\\t\\t\\t\\t\\t<span class=\"ws-icon ws-icon-star\"></span>\\n\\t\\t\\t\\t\\t\\t\\t\\t\\t</p>\\n\\t\\t\\t</div>\\n\\t\\t</div>\\n\\t</div>\\n</div>\\n\\t\\t\\t<div class=\"col-md-4 col-xl-4 col-lg-4\">\\n\\t<div class=\"card thumbnail\">\\n\\t\\t<div class=\"product-wrapper card-body\">\\n\\t\\t\\t<img class=\"img-fluid card-img-top image img-responsive\" alt=\"item\" src=\"/images/test-sites/e-commerce/items/cart2.png\">\\n\\t\\t\\t<div class=\"caption\">\\n\\t\\t\\t\\t<h4 class=\"price float-end card-title pull-right\">$107.99</h4>\\n\\t\\t\\t\\t<h4>\\n\\t\\t\\t\\t\\t<a href=\"/test-sites/e-commerce/allinone/product/22\" class=\"title\" title=\"Galaxy Tab 3\">Galaxy Tab 3</a>\\n\\t\\t\\t\\t</h4>\\n\\t\\t\\t\\t<p class=\"description card-text\">7&quot;, 8GB, Wi-Fi, Android 4.2, Yellow</p>\\n\\n\\t\\t\\t</div>\\n\\t\\t\\t<div class=\"ratings\">\\n\\t\\t\\t\\t<p class=\"review-count float-end\">14 reviews</p>\\n\\t\\t\\t\\t<p data-rating=\"2\">\\n\\t\\t\\t\\t\\t\\t\\t\\t\\t\\t<span class=\"ws-icon ws-icon-star\"></span>\\n\\t\\t\\t\\t\\t\\t\\t\\t\\t\\t<span class=\"ws-icon ws-icon-star\"></span>\\n\\t\\t\\t\\t\\t\\t\\t\\t\\t</p>\\n\\t\\t\\t</div>\\n\\t\\t</div>\\n\\t</div>\\n</div>\\n\\t\\t\\t<div class=\"col-md-4 col-xl-4 col-lg-4\">\\n\\t<div class=\"card thumbnail\">\\n\\t\\t<div class=\"product-wrapper card-body\">\\n\\t\\t\\t<img class=\"img-fluid card-img-top image img-responsive\" alt=\"item\" src=\"/images/test-sites/e-commerce/items/cart2.png\">\\n\\t\\t\\t<div class=\"caption\">\\n\\t\\t\\t\\t<h4 class=\"price float-end card-title pull-right\">$88.99</h4>\\n\\t\\t\\t\\t<h4>\\n\\t\\t\\t\\t\\t<a href=\"/test-sites/e-commerce/allinone/product/15\" class=\"title\" title=\"IdeaTab A3500L\">IdeaTab A3500L</a>\\n\\t\\t\\t\\t</h4>\\n\\t\\t\\t\\t<p class=\"description card-text\">Black, 7&quot; IPS, Quad-Core 1.2GHz, 8GB, Android 4.2</p>\\n\\n\\t\\t\\t</div>\\n\\t\\t\\t<div class=\"ratings\">\\n\\t\\t\\t\\t<p class=\"review-count float-end\">7 reviews</p>\\n\\t\\t\\t\\t<p data-rating=\"4\">\\n\\t\\t\\t\\t\\t\\t\\t\\t\\t\\t<span class=\"ws-icon ws-icon-star\"></span>\\n\\t\\t\\t\\t\\t\\t\\t\\t\\t\\t<span class=\"ws-icon ws-icon-star\"></span>\\n\\t\\t\\t\\t\\t\\t\\t\\t\\t\\t<span class=\"ws-icon ws-icon-star\"></span>\\n\\t\\t\\t\\t\\t\\t\\t\\t\\t\\t<span class=\"ws-icon ws-icon-star\"></span>\\n\\t\\t\\t\\t\\t\\t\\t\\t\\t</p>\\n\\t\\t\\t</div>\\n\\t\\t</div>\\n\\t</div>\\n</div>\\n\\t</div>\\n\\n<div id=\"static-pagination\">\\n\\t</div>\\n\\t\\t\\t</div>\\n\\t\\t</div>\\n\\t</div>\\n\\t<div class=\"clearfix\"></div>\\n\\t<div class=\"push\"></div>\\n</div>\\n\\n<div class=\"container-fluid footer\" id=\"layout-footer\">\\n\\t<div class=\"container\">\\n\\t\\t<div class=\"row\">\\n\\t\\t\\t<div class=\"col-lg-3\">\\n\\t\\t\\t\\t<ul>\\n\\t\\t\\t\\t\\t<li><p>Products</p></li>\\n\\t\\t\\t\\t\\t<li>\\n\\t\\t\\t\\t\\t\\t<a href=\"/\">Web Scraper browser extension</a>\\n\\t\\t\\t\\t\\t</li>\\n\\t\\t\\t\\t\\t<li>\\n\\t\\t\\t\\t\\t\\t<a href=\"/cloud-scraper\">Web Scraper Cloud</a>\\n\\t\\t\\t\\t\\t</li>\\n\\t\\t\\t\\t</ul>\\n\\t\\t\\t</div>\\n\\t\\t\\t<div class=\"col-lg-3\">\\n\\t\\t\\t\\t<ul>\\n\\t\\t\\t\\t\\t<li><p>Company</p></li>\\n\\t\\t\\t\\t\\t<li>\\n\\t\\t\\t\\t\\t\\t<a href=\"/about-us\">About us</a>\\n\\t\\t\\t\\t\\t</li>\\n\\t\\t\\t\\t\\t<li>\\n\\t\\t\\t\\t\\t\\t<a href=\"/contact\">Contact</a>\\n\\t\\t\\t\\t\\t</li>\\n\\t\\t\\t\\t\\t<li>\\n\\t\\t\\t\\t\\t\\t<a href=\"/privacy-policy\">Website Privacy Policy</a>\\n\\t\\t\\t\\t\\t</li>\\n\\t\\t\\t\\t\\t<li>\\n\\t\\t\\t\\t\\t\\t<a href=\"/extension-privacy-policy\">Browser Extension Privacy Policy</a>\\n\\t\\t\\t\\t\\t</li>\\n\\t\\t\\t\\t\\t<li>\\n\\t\\t\\t\\t\\t\\t<a href=\"https://webscraper.io/downloads/Web_Scraper_Media_Kit.zip\">Media kit</a>\\n\\t\\t\\t\\t\\t</li>\\n\\t\\t\\t\\t\\t<li><a href=\"/jobs\">Jobs</a></li>\\n\\t\\t\\t\\t</ul>\\n\\t\\t\\t</div>\\n\\t\\t\\t<div class=\"col-lg-3\">\\n\\t\\t\\t\\t<ul>\\n\\t\\t\\t\\t\\t<li><p>Resources</p></li>\\n\\t\\t\\t\\t\\t<li><a href=\"/blog\">Blog</a></li>\\n\\t\\t\\t\\t\\t<li>\\n\\t\\t\\t\\t\\t\\t<a href=\"/documentation\">Documentation</a>\\n\\t\\t\\t\\t\\t</li>\\n\\t\\t\\t\\t\\t<li>\\n\\t\\t\\t\\t\\t\\t<a href=\"/tutorials\">Video Tutorials</a>\\n\\t\\t\\t\\t\\t</li>\\n\\t\\t\\t\\t\\t<li>\\n\\t\\t\\t\\t\\t\\t<a href=\"/screenshots\">Screenshots</a>\\n\\t\\t\\t\\t\\t</li>\\n\\t\\t\\t\\t\\t<li>\\n\\t\\t\\t\\t\\t\\t<a href=\"/test-sites\">Test Sites</a>\\n\\t\\t\\t\\t\\t</li>\\n\\t\\t\\t\\t\\t<li>\\n\\t\\t\\t\\t\\t\\t<a target=\"_blank\" href=\"https://forum.webscraper.io/\" rel=\"noopener\">Forum</a>\\n\\t\\t\\t\\t\\t</li>\\n\\t\\t\\t\\t\\t<li>\\n\\t\\t\\t\\t\\t\\t<a target=\"_blank\" href=\"https://status.webscraper.io/\" rel=\"noopener\">Status</a>\\n\\t\\t\\t\\t\\t</li>\\n\\t\\t\\t\\t</ul>\\n\\t\\t\\t</div>\\n\\t\\t\\t<div class=\"col-lg-3\">\\n\\t\\t\\t\\t<ul>\\n\\t\\t\\t\\t\\t<li><p>CONTACT US</p></li>\\n\\t\\t\\t\\t\\t<li>\\n\\t\\t\\t\\t\\t\\t<a href=\"mailto:info@webscraper.io\">info@webscraper.io</a>\\n\\t\\t\\t\\t\\t</li>\\n\\t\\t\\t\\t\\t<li>Ubelu 5-71,<br> Adazi, Latvia, LV-2164</li>\\n\\t\\t\\t\\t</ul>\\n\\t\\t\\t\\t<ul class=\"smedia\">\\n\\t\\t\\t\\t\\t<li>\\n\\t\\t\\t\\t\\t\\t<a href=\"https://www.facebook.com/webscraperio/\" target=\"_blank\" rel=\"noopener\" aria-label=\"Web Scraper on Facebook\">\\n\\t\\t\\t\\t\\t\\t\\t<i class=\"ws-icon ws-icon-facebook-f\"></i>\\n\\t\\t\\t\\t\\t\\t</a>\\n\\t\\t\\t\\t\\t</li>\\n\\t\\t\\t\\t\\t<li>\\n\\t\\t\\t\\t\\t\\t<a href=\"https://twitter.com/webscraperio\" target=\"_blank\" rel=\"noopener\" aria-label=\"Web Scraper on X\">\\n\\t\\t\\t\\t\\t\\t\\t<i class=\"ws-icon ws-icon-twitter\"></i>\\n\\t\\t\\t\\t\\t\\t</a>\\n\\t\\t\\t\\t\\t</li>\\n\\t\\t\\t\\t\\t<li>\\n\\t\\t\\t\\t\\t\\t<a href=\"https://lv.linkedin.com/company/web-scraper\" target=\"_blank\" rel=\"noopener\" aria-label=\"Web Scraper on LinkedIn\">\\n\\t\\t\\t\\t\\t\\t\\t<i class=\"ws-icon ws-icon-linkedin\"></i>\\n\\t\\t\\t\\t\\t\\t</a>\\n\\t\\t\\t\\t\\t</li>\\n\\t\\t\\t\\t\\t<li>\\n\\t\\t\\t\\t\\t\\t<a href=\"https://youtube.com/@WebScraper/videos\" target=\"_blank\" rel=\"noopener\" aria-label=\"Web Scraper on Youtube\">\\n\\t\\t\\t\\t\\t\\t\\t<i class=\"ws-icon ws-icon-youtube\"></i>\\n\\t\\t\\t\\t\\t\\t</a>\\n\\t\\t\\t\\t\\t</li>\\n\\t\\t\\t\\t\\t<li>\\n\\t\\t\\t\\t\\t\\t<a class=\"install-extension browser-icon-dark\" href=\"https://chromewebstore.google.com/detail/web-scraper-free-web-scra/jnhgnonknehpejjnehehllkliplmbmhn?hl=en\" target=\"_blank\" rel=\"noopener\" aria-label=\"Download the Web Scraper extension\">\\n\\t\\t\\t\\t\\t\\t\\t<i class=\"ws-icon ws-icon-chrome-dark\"></i>\\n\\t\\t\\t\\t\\t\\t</a>\\n\\t\\t\\t\\t\\t</li>\\n\\t\\t\\t\\t</ul>\\n\\t\\t\\t</div>\\n\\t\\t</div>\\n\\t\\t<div class=\"row\">\\n\\t\\t\\t<div class=\"col-lg-12\">\\n\\t\\t\\t\\t<p class=\"copyright\">Copyright &copy 2024\\n\\t\\t\\t\\t\\t<b>Web Scraper</b> | All rights reserved</p>\\n\\t\\t\\t</div>\\n\\t\\t</div>\\n\\t</div>\\n</div>\\n\\n\\n</body>\\n</html>\\n'"
      ]
     },
     "execution_count": 67,
     "metadata": {},
     "output_type": "execute_result"
    }
   ],
   "source": [
    "requests.get(url).text"
   ]
  },
  {
   "cell_type": "markdown",
   "metadata": {
    "id": "5VaEefQKhIIu"
   },
   "source": [
    "El código HTML generalmente se divide en secciones, con una página típica teniendo una sección de encabezado y una sección de cuerpo. La sección del cuerpo se divide aún más en elementos, con cada elemento teniendo atributos representados por una etiqueta específica. En la captura de pantalla anterior, podemos ver los varios elementos, clases y etiquetas del código HTML. Necesitaremos navegar a través de este código que parece complejo y extraer la información relevante (en nuestro caso, el título del producto, el precio y la calificación). Esta tarea, que parece compleja, se puede realizar de manera bastante conveniente utilizando cualquiera de las bibliotecas de web scraping disponibles. BeautifulSoup es uno de los scrapers más populares. Obligatorio para la clase revisar la documentación de BeautifulSoup (https://www.crummy.com/software/BeautifulSoup/bs4/doc/).\n",
    "\n",
    "Usamos el módulo BeautifulSoup y le pasamos el código HTML (request.text) y un parámetro llamado HTML Parser, que crea un objeto de análisis HTML de BeautifulSoup. Ahora podemos aplicar muchas de las funciones versátiles de BeautifulSoup a este objeto y extraer la información que buscamos. Pero antes de comenzar a hacer eso, tendremos que familiarizarnos con la página web que estamos tratando de hacer scraping e identificar en qué parte de la página web se encuentran los elementos que nos interesan. En el código HTML del sitio web de comercio electrónico, podemos ver que los detalles de cada producto están codificados dentro de una etiqueta &lt;div&gt; (div se refiere a división en HTML) con las clases col-sm-4 col-lg-4 col-md-4. Si expandes la etiqueta &lt;div&gt; haciendo clic en la flecha, verás que dentro de la etiqueta &lt;div&gt; hay otras etiquetas y elementos que almacenan varias piezas de información.\n",
    "\n"
   ]
  },
  {
   "cell_type": "code",
   "execution_count": 68,
   "metadata": {
    "id": "QxZTU_aGqoK_"
   },
   "outputs": [],
   "source": [
    "titles = []\n",
    "prices = []\n",
    "ratings = []\n",
    "url = 'https://webscraper.io/test-sites/e-commerce/allinone'\n",
    "request = requests.get(url)\n",
    "soup = BeautifulSoup(request.text, \"html.parser\")\n",
    "for product in soup.find_all('div', {'class': 'col-md-4 col-xl-4 col-lg-4'}):\n",
    " for pr in product.find_all('div', {'class': 'caption'}):\n",
    "\n",
    "  for p in pr.find_all('h4', {'class': 'price float-end card-title pull-right'}):\n",
    "    prices.append(p.text)\n",
    "  for title in pr.find_all('a' , {'title'}):\n",
    "    titles.append(title.get('title'))\n",
    "  for rt in product.find_all('div', {'class': 'ratings'}):\n",
    "    ratings.append(len(rt.find_all('span',{'class': 'ws-icon ws-icon-star'})))\n",
    "\n"
   ]
  },
  {
   "cell_type": "code",
   "execution_count": 69,
   "metadata": {
    "id": "u_i7cgualUd9"
   },
   "outputs": [],
   "source": [
    "import pandas as pd\n",
    "product_df = pd.DataFrame(zip(titles,prices,ratings), columns = ['Titles','Prices', 'Ratings'])\n",
    "#product_df.to_csv(\"ecommerce.csv\",index=False)"
   ]
  },
  {
   "cell_type": "code",
   "execution_count": 70,
   "metadata": {
    "id": "80EXcsAmqoGW"
   },
   "outputs": [
    {
     "data": {
      "text/html": [
       "<div>\n",
       "<style scoped>\n",
       "    .dataframe tbody tr th:only-of-type {\n",
       "        vertical-align: middle;\n",
       "    }\n",
       "\n",
       "    .dataframe tbody tr th {\n",
       "        vertical-align: top;\n",
       "    }\n",
       "\n",
       "    .dataframe thead th {\n",
       "        text-align: right;\n",
       "    }\n",
       "</style>\n",
       "<table border=\"1\" class=\"dataframe\">\n",
       "  <thead>\n",
       "    <tr style=\"text-align: right;\">\n",
       "      <th></th>\n",
       "      <th>Titles</th>\n",
       "      <th>Prices</th>\n",
       "      <th>Ratings</th>\n",
       "    </tr>\n",
       "  </thead>\n",
       "  <tbody>\n",
       "    <tr>\n",
       "      <th>0</th>\n",
       "      <td>Lenovo IdeaPad Miix 510 Platinum Silver</td>\n",
       "      <td>$1212.16</td>\n",
       "      <td>4</td>\n",
       "    </tr>\n",
       "    <tr>\n",
       "      <th>1</th>\n",
       "      <td>Galaxy Tab 3</td>\n",
       "      <td>$107.99</td>\n",
       "      <td>2</td>\n",
       "    </tr>\n",
       "    <tr>\n",
       "      <th>2</th>\n",
       "      <td>IdeaTab A3500L</td>\n",
       "      <td>$88.99</td>\n",
       "      <td>4</td>\n",
       "    </tr>\n",
       "  </tbody>\n",
       "</table>\n",
       "</div>"
      ],
      "text/plain": [
       "                                    Titles    Prices  Ratings\n",
       "0  Lenovo IdeaPad Miix 510 Platinum Silver  $1212.16        4\n",
       "1                             Galaxy Tab 3   $107.99        2\n",
       "2                           IdeaTab A3500L    $88.99        4"
      ]
     },
     "execution_count": 70,
     "metadata": {},
     "output_type": "execute_result"
    }
   ],
   "source": [
    "product_df"
   ]
  },
  {
   "cell_type": "code",
   "execution_count": 71,
   "metadata": {
    "id": "f7ET0ovhd_HL"
   },
   "outputs": [
    {
     "name": "stdout",
     "output_type": "stream",
     "text": [
      "['Lenovo IdeaPad Miix 510 Platinum Silver', 'Galaxy Tab 3', 'IdeaTab A3500L']\n",
      "['$1212.16', '$107.99', '$88.99']\n",
      "[4, 2, 4]\n"
     ]
    }
   ],
   "source": [
    "print(titles)\n",
    "print(prices)\n",
    "print(ratings)"
   ]
  },
  {
   "cell_type": "code",
   "execution_count": 72,
   "metadata": {
    "id": "hFQWTer0fpXk"
   },
   "outputs": [],
   "source": [
    "descripion = []\n",
    "url = 'https://webscraper.io/test-sites/e-commerce/allinone'\n",
    "request = requests.get(url)\n",
    "soup = BeautifulSoup(request.text, \"html.parser\")\n",
    "for des in pr.find_all('p', {'class': 'description card-text'}):\n",
    "    descripion.append(des.text)\n"
   ]
  },
  {
   "cell_type": "code",
   "execution_count": null,
   "metadata": {
    "id": "r9t9WfY3ge5R"
   },
   "outputs": [
    {
     "data": {
      "text/plain": [
       "['Black, 7\" IPS, Quad-Core 1.2GHz, 8GB, Android 4.2']"
      ]
     },
     "execution_count": 73,
     "metadata": {},
     "output_type": "execute_result"
    }
   ],
   "source": [
    "descripion "
   ]
  },
  {
   "cell_type": "markdown",
   "metadata": {
    "id": "4KkwlsL8n07c"
   },
   "source": [
    "#Taller 1:"
   ]
  },
  {
   "cell_type": "code",
   "execution_count": null,
   "metadata": {
    "id": "jF6VspDnqoDu"
   },
   "outputs": [],
   "source": [
    "from urllib.error import URLError\n",
    "Producto = []\n",
    "Precio = []\n",
    "Caracteristicas = []\n",
    "Vendedor = []\n",
    "Calificacion = []\n",
    "Comentarios = []\n",
    "URL = []\n",
    "\n",
    "url = 'https://listado.mercadolibre.com.co/_Container_fg-celulares-mas-vendidos#DEAL_ID=MCO4463&S=landingHubcelulares-y-telefonos&V=9&T=CarouselDynamic-home&L=VER-MAS&deal_print_id=d7462000-a454-11ef-83b0-bdc59cb52483&c_id=carouseldynamic-home&c_element_order=undefined&c_campaign=VER-MAS&c_uid=d7462000-a454-11ef-83b0-bdc59cb52483'\n",
    "request = requests.get(url)\n",
    "soup = BeautifulSoup(request.text, \"html.parser\")\n",
    "\n",
    "for tarjeta in soup.find_all('li', {'class': 'ui-search-layout__item'}):\n",
    "  for precio1 in tarjeta.find_all('div', {'class' : 'poly-price__current'}):\n",
    "    for pr in precio1.find_all('span', {'class': 'andes-money-amount__fraction'}):\n",
    "      Precio.append(pr.text)\n",
    "  for calificacion in tarjeta.find_all('div', {'class': 'poly-component__reviews'}):\n",
    "    for cal in calificacion.find_all('span', {'class': 'andes-visually-hidden'}):\n",
    "      Calificacion.append(cal.text)\n",
    "  for producto in tarjeta.find_all('h2', {'class': 'poly-box poly-component__title'}):\n",
    "      Producto.append(producto.text)\n",
    "  for enlace in tarjeta.find_all('a', href=True):\n",
    "        URL.append(enlace['href'])\n",
    "  \n",
    "\n",
    "\n"
   ]
  },
  {
   "cell_type": "code",
   "execution_count": 50,
   "metadata": {
    "id": "1-aLSbSR6kmJ"
   },
   "outputs": [
    {
     "data": {
      "text/plain": [
       "['https://www.mercadolibre.com.co/xiaomi-poco-poco-x6-pro-5g-dual-sim-512-gb-negro-12-gb-ram/p/MCO29734176?pdp_filters=deal%3AMCO1072578-1#polycard_client=search-nordic&searchVariation=MCO29734176&position=3&search_layout=grid&type=product&tracking_id=01e21808-3c7b-40fb-8113-642c7d7371e0&wid=MCO1385953583&sid=search',\n",
       " 'https://www.mercadolibre.com.co/xiaomi-redmi-13c-dual-sim-256-gb-midnight-black-8-gb-ram/p/MCO28131664?pdp_filters=deal%3AMCO1072578-1#polycard_client=search-nordic&searchVariation=MCO28131664&position=2&search_layout=grid&type=product&tracking_id=01e21808-3c7b-40fb-8113-642c7d7371e0&wid=MCO2412206906&sid=search',\n",
       " 'https://www.mercadolibre.com.co/xiaomi-poco-poco-x6-pro-5g-dual-sim-512-gb-amarillo-12-gb-ram/p/MCO29734179?pdp_filters=deal%3AMCO1072578-1#polycard_client=search-nordic&searchVariation=MCO29734179&position=5&search_layout=grid&type=product&tracking_id=01e21808-3c7b-40fb-8113-642c7d7371e0&wid=MCO1385966781&sid=search',\n",
       " 'https://www.mercadolibre.com.co/samsung-galaxy-a55-5g-dual-sim-256-gb-azul-claro-8-gb-ram/p/MCO34731719?pdp_filters=deal%3AMCO1072578-1#polycard_client=search-nordic&searchVariation=MCO34731719&position=7&search_layout=grid&type=product&tracking_id=01e21808-3c7b-40fb-8113-642c7d7371e0&wid=MCO2303957828&sid=search',\n",
       " 'https://www.mercadolibre.com.co/xiaomi-redmi-note-13-4g-dual-sim-256-gb-negro-8-gb-ram/p/MCO29751162?pdp_filters=deal%3AMCO1072578-1#polycard_client=search-nordic&searchVariation=MCO29751162&position=1&search_layout=grid&type=product&tracking_id=01e21808-3c7b-40fb-8113-642c7d7371e0&wid=MCO1463626145&sid=search',\n",
       " 'https://www.mercadolibre.com.co/celular-xiaomi-redmi-note-13-pro-4g-256-gb-8-ram-color-verde-oscuro/p/MCO29901348?pdp_filters=deal%3AMCO1072578-1#polycard_client=search-nordic&searchVariation=MCO29901348&position=8&search_layout=grid&type=product&tracking_id=01e21808-3c7b-40fb-8113-642c7d7371e0&wid=MCO2741754126&sid=search',\n",
       " 'https://www.mercadolibre.com.co/xiaomi-redmi-note-13-pro-4g-dual-sim-256-gb-negro-8-gb-ram/p/MCO35603992?pdp_filters=deal%3AMCO1072578-1#polycard_client=search-nordic&searchVariation=MCO35603992&position=4&search_layout=grid&type=product&tracking_id=01e21808-3c7b-40fb-8113-642c7d7371e0&wid=MCO2695699154&sid=search',\n",
       " 'https://www.mercadolibre.com.co/samsung-galaxy-a55-5g-dual-sim-256-gb-azul-oscuro-8-gb-ram/p/MCO34731718?pdp_filters=deal%3AMCO1072578-1#polycard_client=search-nordic&searchVariation=MCO34731718&position=14&search_layout=grid&type=product&tracking_id=01e21808-3c7b-40fb-8113-642c7d7371e0&wid=MCO1410043983&sid=search',\n",
       " 'https://www.mercadolibre.com.co/tecno-spark-20-dual-sim-256-gb-negro-8-gb-ram/p/MCO29338104?pdp_filters=deal%3AMCO1072578-1#polycard_client=search-nordic&searchVariation=MCO29338104&position=13&search_layout=grid&type=product&tracking_id=01e21808-3c7b-40fb-8113-642c7d7371e0&wid=MCO2172940458&sid=search',\n",
       " 'https://click1.mercadolibre.com.co/mclics/clicks/external/MCO/count?a=0jOE1CUfezMr%2BfqVfSfAnK%2BjHi8vaHICkF2DpemBx352un7t6tdXSkFIzgSTznnigWRD7i%2Ba%2F%2BtP9C%2Flm7JFCBqlv0mI0DlhjH%2Bfl9mEunLTTZengsW9DT0pDl08bm7EtGwDWdpkcEYCcrCc3wOi0zeb0lzGYXZenAJ6QMcUEHvMtf0trQANSYOPAygkw0xCaW3fvMJ7t58yfLQWQQrVGDCukf1L4Im69G3Mu0JXvqEseVeTvrBBIEJdqu1OtuAj%2F%2Bg8q43TDTVKlaGgbXHwvO%2BKkkMpIJzGtg3tK0%2Brvy9VPgsfs9LS27U%2Bfnxw8YN4lzviIqXmJ6Dc4HTeNXeGoQzlN4dpfpJ6wscLLXOd2NxNuNL2v6tHGkDnqq4pf4myOl9n6hhVwkMltH9UF20lIU0B5gb3hJs0ZAcLQoz6ZzUv%2FCFkMopc3Cn6oUecL5ZUSLqC2kZ%2FSRRLQk4ShOfyabJdJjwCd%2FEqakobne69ruHi%2F%2FNx3HA%2F7DUE4LqNk2i9SbhpoYHmQ6p1Bt7EqF1tK%2FhQC8LKLgVEvRKnyKTUEjFzRRPCRK8mUXR2YBF1HoDBk8jqGweOwG9JEyqG60P8268oAPFox8wbVHeFwDYB1FOHWlHUAGg3%2B0c5IeTjWhh2wNF0egLiglDHi2Ids97q81Ex66uIQiW3oVZxt%2B36FzoPbEKoHrLPVgewKi%2BiKRBivASKRoyZsHE0%2B1e8k39OBkurFqo8a9KWoCjw7dBpHw%3D%3D&e=mclics%2Fmin-budget-throttling%2B54896%2Cmclics%2Fmax-bid-capped%2B36382%2Cmclics%2Fmax-bid-item-factor%2B23927%2Cmclics%2Fbuybox-item-query-same-positions%2B58796%2Cmclics%2Fdiscard-bid-lt-min%2B58213%2Cmclics%2Foverride-min-seasonality%2B49092&rb=x#polycard_client=search-nordic&tracking_id=01e21808-3c7b-40fb-8113-642c7d7371e0',\n",
       " 'https://publicidad.mercadolibre.com.co/main',\n",
       " 'https://click1.mercadolibre.com.co/mclics/clicks/external/MCO/count?a=RPkuvDW12dN4nbQpnEhS6DrXE811DQolDcF9Wczj2m%2FxIPrGDfXAqnOoQvdyI4yjI%2F0pZMfXX9m3q5GHYunRDle2%2BU4UdThiFYHXlb%2Ff5NSKZ39IOzyjq%2BxReZeuSRB8SFmobsSCZbq%2Ful0goVKoJIWvQMSlEGNT2N%2B7sVXHE0%2B91QzUuasf0Aqpof6sCvNRonA00iFE3Wb1elR84dNvzSk0IE7LqEkaE32rW1WZGL4Th%2Fh7IGudrHKfI%2F0L4w8fOo%2FtcUl1Ky45mT0FXg0wVmFO5CWuzbm46a%2Fea559Y5hqJqgvz4slGpb4%2BiopzziqPOT%2Bb4GKtH%2FH0qcmOArq66NfrydJvyasebPm9myTx258YJ%2BfuHZ%2BGsQf0Al%2BldUCR6fK1rLv426KcTpdfyZsQGFC1zR1xwGwSc%2F9cOywHdCE6f9K7OqrdYTik1%2BPE%2BzghTisS76YwrpV0wRTpT5uP5qDrl%2BZdoACOEeB26s3tJ6N6nIoEru%2FoFJAlBv7hmyJsJOOilPEu5%2BHS9%2BRuI4uU2Zel%2Bipxq7eQcCl7dhicyZhe8BAEOxpnBhPWo9yagCSWXj9x66iVH8kGOBz%2B1bYovZ%2BRPWj2JYeJX9%2BcN6oa4Z1QB6qeg2mAjDJa%2B7UctMssAVZCu3LsWzYYy%2FGL7mSfnCgSuemDPwYqS2r9jcB0f7ylayTYQXB%2F3PBq8aYjsIYupMjtPxP4NhrjLMYVPk9g6mEkEr19p4F%2FndW5VwYpEc%3D&e=mclics%2Fmin-budget-throttling%2B54896%2Cmclics%2Fmax-bid-capped%2B36382%2Cmclics%2Fmax-bid-item-factor%2B23927%2Cmclics%2Fbuybox-item-query-same-positions%2B58796%2Cmclics%2Fdiscard-bid-lt-min%2B58213%2Cmclics%2Foverride-min-seasonality%2B49092&rb=x#polycard_client=search-nordic&tracking_id=01e21808-3c7b-40fb-8113-642c7d7371e0',\n",
       " 'https://publicidad.mercadolibre.com.co/main',\n",
       " 'https://click1.mercadolibre.com.co/mclics/clicks/external/MCO/count?a=1tzWxXTh6CHWp9CB%2FXGnXJng7ccb35uZgi1JjZKUbBDXY9wLVR4ekEcdIbkLUBTenXnXV5JbAt%2BRnMuzjduq%2BbJ4ff6nuDkfcwhugM8H32B0moZ9iryHOmnn531ztLA3dOaNpGX%2FBZk7OfeJPUSKOGmBx9ReB%2B9siKAYxOlVArRuhQ1BOaVLLgA0p1fc7jPrjRhoJS4L6pP4HWCMHMLiaJt3QpLh3GTpzjKyahKaIeGY0q3iROYWfqaC71bR18bSnXL21flGw94tTaXrDeFBowbd54vCSd6ukYiDzDSy51r9mNM7u9vhxbV6BUppX%2Flv6fU2SnmADwlXUalhV58UfsuFecwQThgn3c7UcVRAXlwUPA3h77DZV52iNOn0x2WNoZCFd7P3JlmELNky8trlhUnFhY9bbJF4ptU%2B1gjheg2dguzNvu%2FFWOYHrFPaSG%2F%2FW6Dgcnu2ojLtwA5C8kmh1ioqYZbnIbSfM3z%2F5vBvAxoZ2iBTaVpLAueoOaoXF5FjrIN2HTodsdVaoSwrBFVejDZKqYcd5FGjoGwi973wQuGATmcyXBeLsuqe%2Bio9LNnKj1TyvamXH6BTB1sEp%2Brl%2BB2k9ze1KLjEOjgjFyabVYbgtO9wdc%2BHaIyJ8HEFtPX5qekKpwJ5mWlm6HfnmBvqUqohZnKkf3HtDtoLsPC9Z3YazwxT%2FisvEKLimpmPfZt%2FSZlayTeZbQ%3D%3D&e=mclics%2Fmin-budget-throttling%2B54896%2Cmclics%2Fmax-bid-capped%2B36382%2Cmclics%2Fmax-bid-item-factor%2B23927%2Cmclics%2Fbuybox-item-query-same-positions%2B58796%2Cmclics%2Fdiscard-bid-lt-min%2B58213%2Cmclics%2Foverride-min-seasonality%2B49092&rb=x#polycard_client=search-nordic&tracking_id=01e21808-3c7b-40fb-8113-642c7d7371e0',\n",
       " 'https://publicidad.mercadolibre.com.co/main',\n",
       " 'https://www.mercadolibre.com.co/samsung-galaxy-s24-ultra-5g-dual-sim-512-gb-titanium-gray-12-gb-ram/p/MCO29893931?pdp_filters=deal%3AMCO1072578-1#polycard_client=search-nordic&searchVariation=MCO29893931&position=6&search_layout=grid&type=product&tracking_id=01e21808-3c7b-40fb-8113-642c7d7371e0&wid=MCO1452157273&sid=search',\n",
       " 'https://www.mercadolibre.com.co/apple-iphone-15-128-gb-negro/p/MCO27172677?pdp_filters=deal%3AMCO1072578-1#polycard_client=search-nordic&searchVariation=MCO27172677&position=17&search_layout=grid&type=product&tracking_id=01e21808-3c7b-40fb-8113-642c7d7371e0&wid=MCO2694370502&sid=search',\n",
       " 'https://www.mercadolibre.com.co/samsung-galaxy-a35-5g-256-gb-azul-oscuro-8-gb-ram/p/MCO34729843?pdp_filters=deal%3AMCO1072578-1#polycard_client=search-nordic&searchVariation=MCO34729843&position=23&search_layout=grid&type=product&tracking_id=01e21808-3c7b-40fb-8113-642c7d7371e0&wid=MCO2631944424&sid=search',\n",
       " 'https://www.mercadolibre.com.co/xiaomi-redmi-note-13-pro-5g-dual-sim-512-gb-negro-12-gb-ram/p/MCO29740920?pdp_filters=deal%3AMCO1072578-1#polycard_client=search-nordic&searchVariation=MCO29740920&position=22&search_layout=grid&type=product&tracking_id=01e21808-3c7b-40fb-8113-642c7d7371e0&wid=MCO1485030899&sid=search',\n",
       " 'https://www.mercadolibre.com.co/apple-iphone-16-128-gb-negro/p/MCO40287808?pdp_filters=deal%3AMCO1072578-1#polycard_client=search-nordic&searchVariation=MCO40287808&position=26&search_layout=grid&type=product&tracking_id=01e21808-3c7b-40fb-8113-642c7d7371e0&wid=MCO1485413097&sid=search',\n",
       " 'https://www.mercadolibre.com.co/motorola-edge-50-fusion-5g-256-gb-8-gb-ram-color-azul/p/MCO36687808?pdp_filters=deal%3AMCO1072578-1#polycard_client=search-nordic&searchVariation=MCO36687808&position=24&search_layout=grid&type=product&tracking_id=01e21808-3c7b-40fb-8113-642c7d7371e0&wid=MCO2732393048&sid=search',\n",
       " 'https://click1.mercadolibre.com.co/mclics/clicks/external/MCO/count?a=6V2M4Ws%2Feb2exNie%2F3FyX0emYHhKjv986NXpeM5klBupOcjrjMTGzWZyoFvuPeerIxdQNn%2BLgBw96x%2FvNBWdTTuAjCn4TUnwmn0nVoWodgrbmD0wAwc%2BB5M3Nry52P%2BkAV4%2FkXeLjmIRY27WL%2FgipQ2%2By%2Fr6NPBDAcuiNRhvXQW3N3d2WWIGyA1MBP0ITM2%2FvG1NCIuh4ONlNcooJ6dxoYGLCtD1tnr2LZ%2BxxmdYk3%2BpEnUxr0PwaW1n%2F%2B4KQHCV0MlmurBXdr69lCMiSUyzkYOcBfUM9XW3FeunMdKg9%2FhehtN%2FIrXhfIS1BnTJDrdbabSVN9bkwj9Kc1Rru2T%2B%2FllhiXraqJHIx5hmoKtf3mzgffcmM4aPdSyBbTTePG9EieISCrqmdKBc4nWkkgIIfIDsX4tEg9hd2lCL3U4SJ25UWu7Xz7ufLZXwr1L%2FGAcnBy1OruwLLBqgnmpLTLbsCTmpU%2FW%2B8IBRvfWUoAlwOMQx5g91SElqhQqaEXj4C8viekxkJOVN6ZciP%2B5fKfLiiCDX5r54if5bdSTlIHbWPexrA6ujAdbWcqw08vTVd67uSDSOgZ8pK44xsSZ9MEYIT9GCpX83sycnPS80GNn8zfuWw4v9knuJ64j28NJWVEf08mTn9I8TW0XosRhb1kQ%2B%2Bnba6LytEiOBpWGgTrKTItYDvb16KfFAG6SaKjtGgLwur6y3Cr08t19I1ii%2B2rvBOtAoQpbfEfK%2BZsrBzDGFOhifOao%3D&e=mclics%2Fmin-budget-throttling%2B54896%2Cmclics%2Fmax-bid-capped%2B36382%2Cmclics%2Fmax-bid-item-factor%2B23927%2Cmclics%2Fbuybox-item-query-same-positions%2B58796%2Cmclics%2Fdiscard-bid-lt-min%2B58213%2Cmclics%2Foverride-min-seasonality%2B49092&rb=x#polycard_client=search-nordic&tracking_id=01e21808-3c7b-40fb-8113-642c7d7371e0',\n",
       " 'https://publicidad.mercadolibre.com.co/main',\n",
       " 'https://click1.mercadolibre.com.co/mclics/clicks/external/MCO/count?a=oQRaYcyzNEuDp1rQ0SsTncTyYfvpKOWT9rV8mTSLjvGgiI4ktsgh0W8X9PWyBhFZ00qr0uM8DJdWhnz8VbYimyPAwUs4w86pbyZ%2FOIAArGldqhlpQ4VsUuROpneGG%2BQZWjGgFHf8sLGj4Wc7Q3T2W%2FkX%2By6wjnNCh41gLW3HpuouEDeY4Wkaf9P70WDXUaIYptb8qtfXLubCUj1fad6opYiifb6qa2ELgqbTNPf51EobCFO5eIRpsp3Fe9Q2JIaazEs%2BCOwetd2bfsXYpA7dEQwunObYiC2MPKqqgS%2BketqOqODYRrtzuhbLlu2CeD%2FDLGNlWVO3R2Jy1qbbOftQr1Si5gLNXAvaIH00qvyi%2F25tNfAxBMGbft%2B4wu36pbLiMwQjKBdRYX16gcrGSKLZtxxdDjLizlB0zmnqKzI265ruVwExTph2afcTRwe3kTbKPpzqmKZDdlRGLRQTTGNwE4vFHTVY4gYvD5MPuiDQEWulWdzEpZpcMHL5VyA%2FtCJvFdRCvOdP%2B7cvUolvA8flL5v4xiwT%2BxET1Cg0Alw6NMwLtSq3VcCjmz9G5Stv5Yo43%2BC535PbX8czdbsySs2ZOLVhuF4mNYyg19UP6SgTJbDF4YsL7857eu4ryz02dY%2FWKSNDvRAKYvy7rgNQIt36QERTxk1ZR4kgxlHTZvPyBQA8Wr%2F0TAaFJU4JT49M%2BNmNXmrkJgKHM02qvm%2ByzObizfb14B0vcrwusPrA55U4W34F&e=mclics%2Fmin-budget-throttling%2B54896%2Cmclics%2Fmax-bid-capped%2B36382%2Cmclics%2Fmax-bid-item-factor%2B23927%2Cmclics%2Fbuybox-item-query-same-positions%2B58796%2Cmclics%2Fdiscard-bid-lt-min%2B58213%2Cmclics%2Foverride-min-seasonality%2B49092&rb=x#polycard_client=search-nordic&tracking_id=01e21808-3c7b-40fb-8113-642c7d7371e0',\n",
       " 'https://publicidad.mercadolibre.com.co/main',\n",
       " 'https://click1.mercadolibre.com.co/mclics/clicks/external/MCO/count?a=sGthKmRvXlCohL3AYQeqzjLhzkOhMOqdF0%2FHRnUAs7Xf8wJD%2BdvmzyQJZYG1YN3og4igz7toFDK0L%2B3MQdnPv%2BfUSynaLGQC%2BzR%2BnwawmRUQSCU46HyoqkpmEviwwmh%2FBofxDTbIoelrvnC16BoCgSE390I%2FhWuJ6UnV5NXbVbtIJvY4C26JUo%2Br1eiyfZGntMqiQKUQb75IzvKmDErOXO5HhuOgfPdtAk5WRGCgVKot2mCjSFwv29GQP8QwvmZTovUD%2FkDF9wSXxYZfMMWItTUIVSsMRsYMhN1iz0OTRgo8FDMzUwE4gA%2FRwajWFuf6Furiw9LMjV6VwPSYByTFDuFP3D6JToHgWrm%2FUc%2Bo6lLpz52ovUAJxLRmDFBLeXy8hGA44krPoVZKceAa0486iRMXt3tiv40C1WvMwPMFXzxeGC537DRsAqk5MtMkys3u8PPUOdT1vVJSWOdPowkVu6vH4GUSKiAcDI2TMjYafohXrOCsfaTI%2BNHm26q9weQ3nqFCVbt4U5ee%2FkmeaXG%2FFMUV7YtRrLBBMXQGEHhPRC4MXd%2F7Y67ABCRlpa4YveZKnnAxM7esH1kaYVJimhvI2IkHEVxNVtJ7ATlswopZmCRMpVr7vNEtNjqG3UTMEPYPOyp9o%2BeJU5Mxgd3krI4npb1ba8SsUygAGa09KBAIwPbOGqr%2BxHYKH%2BkbSwo5ZP8IYTTm25e4Yv3%2Ffh9li9z0jWIA7MkG6rutrkecWeL%2Bsg%3D%3D&e=mclics%2Fmin-budget-throttling%2B54896%2Cmclics%2Fmax-bid-capped%2B36382%2Cmclics%2Fmax-bid-item-factor%2B23927%2Cmclics%2Fbuybox-item-query-same-positions%2B58796%2Cmclics%2Fdiscard-bid-lt-min%2B58213%2Cmclics%2Foverride-min-seasonality%2B49092&rb=x#polycard_client=search-nordic&tracking_id=01e21808-3c7b-40fb-8113-642c7d7371e0',\n",
       " 'https://publicidad.mercadolibre.com.co/main',\n",
       " 'https://articulo.mercadolibre.com.co/MCO-1480440059-celular-motorola-moto-g54-256gb-8gb-ram-5g-rojo-_JM#polycard_client=search-nordic&position=43&search_layout=grid&type=item&tracking_id=01e21808-3c7b-40fb-8113-642c7d7371e0',\n",
       " 'https://www.mercadolibre.com.co/xiaomi-redmi-note-13-4g-dual-sim-128-gb-negro-6-gb-ram/p/MCO30395563?pdp_filters=deal%3AMCO1072578-1#polycard_client=search-nordic&searchVariation=MCO30395563&position=9&search_layout=grid&type=product&tracking_id=01e21808-3c7b-40fb-8113-642c7d7371e0&wid=MCO2686233736&sid=search',\n",
       " 'https://articulo.mercadolibre.com.co/MCO-2735509998-xiaomi-14-dual-sim-512-gb-negro-16-gb-ram-_JM#polycard_client=search-nordic&position=44&search_layout=grid&type=item&tracking_id=01e21808-3c7b-40fb-8113-642c7d7371e0',\n",
       " 'https://www.mercadolibre.com.co/samsung-galaxy-a35-5g-5g-dual-sim-256-gb-rosa-8-gb-ram/p/MCO34731717?pdp_filters=deal%3AMCO1072578-1#polycard_client=search-nordic&searchVariation=MCO34731717&position=25&search_layout=grid&type=product&tracking_id=01e21808-3c7b-40fb-8113-642c7d7371e0&wid=MCO1407774117&sid=search',\n",
       " 'https://articulo.mercadolibre.com.co/MCO-2734695430-xiaomi-poco-poco-x6-pro-5g-dual-sim-256-gb-gris-8-gb-ram-_JM#polycard_client=search-nordic&position=45&search_layout=grid&type=item&tracking_id=01e21808-3c7b-40fb-8113-642c7d7371e0',\n",
       " 'https://articulo.mercadolibre.com.co/MCO-2735210410-ulefone-armor-26-ultra-5g-rugged-waterproof-smartphone-120w-_JM#polycard_client=search-nordic&position=46&search_layout=grid&type=item&tracking_id=01e21808-3c7b-40fb-8113-642c7d7371e0',\n",
       " 'https://www.mercadolibre.com.co/samsung-galaxy-a15-4g-dual-sim-256-gb-verde-claro-8-gb-ram/p/MCO31214364?pdp_filters=deal%3AMCO1072578-1#polycard_client=search-nordic&searchVariation=MCO31214364&position=16&search_layout=grid&type=product&tracking_id=01e21808-3c7b-40fb-8113-642c7d7371e0&wid=MCO1410076143&sid=search',\n",
       " 'https://www.mercadolibre.com.co/xiaomi-redmi-note-13-4g-dual-sim-256-gb-verde-8-gb-ram/p/MCO29750150?pdp_filters=deal%3AMCO1072578-1#polycard_client=search-nordic&searchVariation=MCO29750150&position=18&search_layout=grid&type=product&tracking_id=01e21808-3c7b-40fb-8113-642c7d7371e0&wid=MCO2429608540&sid=search',\n",
       " 'https://articulo.mercadolibre.com.co/MCO-2174791744-galaxy-s24-ultra-5g-256gb-12-ram-titanium-black-_JM#polycard_client=search-nordic&position=47&search_layout=grid&type=item&tracking_id=01e21808-3c7b-40fb-8113-642c7d7371e0',\n",
       " 'https://www.mercadolibre.com.co/samsung-a05s-4g-dual-sim-128-gb-negro-6-gb-ram/p/MCO29761272?pdp_filters=deal%3AMCO1072578-1#polycard_client=search-nordic&searchVariation=MCO29761272&position=15&search_layout=grid&type=product&tracking_id=01e21808-3c7b-40fb-8113-642c7d7371e0&wid=MCO2704840508&sid=search',\n",
       " 'https://articulo.mercadolibre.com.co/MCO-2228816416-celular-redmi-note-13-pro-black-256-gb-8gb-ram-_JM#polycard_client=search-nordic&position=48&search_layout=grid&type=item&tracking_id=01e21808-3c7b-40fb-8113-642c7d7371e0',\n",
       " 'https://www.mercadolibre.com.co/xiaomi-redmi-note-13-4g-dual-sim-256-gb-azul-8-gb-ram/p/MCO29751159?pdp_filters=deal%3AMCO1072578-1#polycard_client=search-nordic&searchVariation=MCO29751159&position=38&search_layout=grid&type=product&tracking_id=01e21808-3c7b-40fb-8113-642c7d7371e0&wid=MCO1399785591&sid=search',\n",
       " 'https://articulo.mercadolibre.com.co/MCO-2735222808-xiaomi-13-dual-sim-512gb-blanco-12-gb-ram-_JM#polycard_client=search-nordic&position=49&search_layout=grid&type=item&tracking_id=01e21808-3c7b-40fb-8113-642c7d7371e0',\n",
       " 'https://www.mercadolibre.com.co/zte-smartphone-blade-a54-128gb-4gb-ram-morado/p/MCO29233029?pdp_filters=deal%3AMCO1072578-1#polycard_client=search-nordic&searchVariation=MCO29233029&position=40&search_layout=grid&type=product&tracking_id=01e21808-3c7b-40fb-8113-642c7d7371e0&wid=MCO1431738835&sid=search',\n",
       " 'https://www.mercadolibre.com.co/samsung-galaxy-a05s-dual-sim-128-gb-morado-6-gb-ram/p/MCO36180137?pdp_filters=deal%3AMCO1072578-1#polycard_client=search-nordic&searchVariation=MCO36180137&position=31&search_layout=grid&type=product&tracking_id=01e21808-3c7b-40fb-8113-642c7d7371e0&wid=MCO2661372982&sid=search',\n",
       " 'https://www.mercadolibre.com.co/xiaomi-redmi-13c-dual-sim-256-gb-clover-green-8-gb-ram/p/MCO28131667?pdp_filters=deal%3AMCO1072578-1#polycard_client=search-nordic&searchVariation=MCO28131667&position=36&search_layout=grid&type=product&tracking_id=01e21808-3c7b-40fb-8113-642c7d7371e0&wid=MCO2429724934&sid=search',\n",
       " 'https://www.mercadolibre.com.co/apple-iphone-16-128-gb-rosa/p/MCO40287802?pdp_filters=deal%3AMCO1072578-1#polycard_client=search-nordic&searchVariation=MCO40287802&position=42&search_layout=grid&type=product&tracking_id=01e21808-3c7b-40fb-8113-642c7d7371e0&wid=MCO1485681763&sid=search',\n",
       " 'https://articulo.mercadolibre.com.co/MCO-1422641301-motorola-moto-g54-5g-256-gb-8-gb-ram-_JM#polycard_client=search-nordic&position=50&search_layout=grid&type=item&tracking_id=01e21808-3c7b-40fb-8113-642c7d7371e0',\n",
       " 'https://www.mercadolibre.com.co/samsung-galaxy-a55-5g-dual-sim-256-gb-rosa-8-gb-ram/p/MCO34731720?pdp_filters=deal%3AMCO1072578-1#polycard_client=search-nordic&searchVariation=MCO34731720&position=29&search_layout=grid&type=product&tracking_id=01e21808-3c7b-40fb-8113-642c7d7371e0&wid=MCO2308924524&sid=search',\n",
       " 'https://www.mercadolibre.com.co/motorola-moto-g04s-128-gb-graphite-4-gb-ram/p/MCO36337531?pdp_filters=deal%3AMCO1072578-1#polycard_client=search-nordic&searchVariation=MCO36337531&position=35&search_layout=grid&type=product&tracking_id=01e21808-3c7b-40fb-8113-642c7d7371e0&wid=MCO1487200895&sid=search',\n",
       " 'https://www.mercadolibre.com.co/apple-iphone-13-128-gb-azul-medianoche/p/MCO18500844?pdp_filters=deal%3AMCO1072578-1#polycard_client=search-nordic&searchVariation=MCO18500844&position=39&search_layout=grid&type=product&tracking_id=01e21808-3c7b-40fb-8113-642c7d7371e0&wid=MCO1507172311&sid=search',\n",
       " 'https://articulo.mercadolibre.com.co/MCO-1486057271-motorola-moto-g24-power-256gb-azul-claro-8gb-ram-8-ram-_JM#polycard_client=search-nordic&position=51&search_layout=grid&type=item&tracking_id=01e21808-3c7b-40fb-8113-642c7d7371e0',\n",
       " 'https://www.mercadolibre.com.co/honor-magic6-lite-dual-sim-256-gb-plateado-8-gb-ram/p/MCO34239792?pdp_filters=deal%3AMCO1072578-1#polycard_client=search-nordic&searchVariation=MCO34239792&position=32&search_layout=grid&type=product&tracking_id=01e21808-3c7b-40fb-8113-642c7d7371e0&wid=MCO1434183995&sid=search',\n",
       " 'https://www.mercadolibre.com.co/xiaomi-pocophone-poco-x6-pro-5g-dual-sim-512-gb-negro-12-gb-ram/p/MCO37799588?pdp_filters=deal%3AMCO1072578-1#polycard_client=search-nordic&searchVariation=MCO37799588&position=33&search_layout=grid&type=product&tracking_id=01e21808-3c7b-40fb-8113-642c7d7371e0&wid=MCO1463580903&sid=search',\n",
       " 'https://www.mercadolibre.com.co/apple-iphone-13-128-gb-azul/p/MCO18500846?pdp_filters=deal%3AMCO1072578-1#polycard_client=search-nordic&searchVariation=MCO18500846&position=37&search_layout=grid&type=product&tracking_id=01e21808-3c7b-40fb-8113-642c7d7371e0&wid=MCO1684051480&sid=search',\n",
       " 'https://www.mercadolibre.com.co/celular-motorola-g04-128gb-4gb-verde/p/MCO34730423?pdp_filters=deal%3AMCO1072578-1#polycard_client=search-nordic&searchVariation=MCO34730423&position=41&search_layout=grid&type=product&tracking_id=01e21808-3c7b-40fb-8113-642c7d7371e0&wid=MCO1412143091&sid=search',\n",
       " 'https://articulo.mercadolibre.com.co/MCO-2735232172-oneplus-12-dual-sim-512-gb-verde-16-gb-ram-_JM#polycard_client=search-nordic&position=52&search_layout=grid&type=item&tracking_id=01e21808-3c7b-40fb-8113-642c7d7371e0',\n",
       " 'https://www.mercadolibre.com.co/samsung-galaxy-a15-4g-dual-sim-256-gb-azul-oscuro-8-gb-ram/p/MCO31214368?pdp_filters=deal%3AMCO1072578-1#polycard_client=search-nordic&searchVariation=MCO31214368&position=27&search_layout=grid&type=product&tracking_id=01e21808-3c7b-40fb-8113-642c7d7371e0&wid=MCO1502535973&sid=search',\n",
       " 'https://www.mercadolibre.com.co/celular-xiaomi-redmi-note-13-8gb256gb-ice-blue/p/MCO38276252?pdp_filters=deal%3AMCO1072578-1#polycard_client=search-nordic&searchVariation=MCO38276252&position=30&search_layout=grid&type=product&tracking_id=01e21808-3c7b-40fb-8113-642c7d7371e0&wid=MCO2676599320&sid=search',\n",
       " 'https://articulo.mercadolibre.com.co/MCO-2729253610-xiaomi-redmi-note-13-pro-5g-dual-sim-512-gb-negro-12-gb-ram-_JM#polycard_client=search-nordic&position=53&search_layout=grid&type=item&tracking_id=01e21808-3c7b-40fb-8113-642c7d7371e0',\n",
       " 'https://articulo.mercadolibre.com.co/MCO-1503595761-honor-magic6-lite-dual-sim-256-gb-8-gb-ram-color-verde-_JM#polycard_client=search-nordic&position=54&search_layout=grid&type=item&tracking_id=01e21808-3c7b-40fb-8113-642c7d7371e0',\n",
       " 'https://www.mercadolibre.com.co/apple-iphone-16-128-gb-ultramarino/p/MCO40287800?pdp_filters=deal%3AMCO1072578-1#polycard_client=search-nordic&searchVariation=MCO40287800&position=28&search_layout=grid&type=product&tracking_id=01e21808-3c7b-40fb-8113-642c7d7371e0&wid=MCO2729252764&sid=search',\n",
       " 'https://www.mercadolibre.com.co/xiaomi-redmi-note-13-pro-5g-8gb-256gb-aurora-purple/p/MCO29750605?pdp_filters=deal%3AMCO1072578-1#polycard_client=search-nordic&searchVariation=MCO29750605&position=34&search_layout=grid&type=product&tracking_id=01e21808-3c7b-40fb-8113-642c7d7371e0&wid=MCO1409633639&sid=search']"
      ]
     },
     "execution_count": 50,
     "metadata": {},
     "output_type": "execute_result"
    }
   ],
   "source": [
    "URL"
   ]
  },
  {
   "cell_type": "code",
   "execution_count": 51,
   "metadata": {
    "id": "ZFypYFW8ohzF"
   },
   "outputs": [
    {
     "name": "stdout",
     "output_type": "stream",
     "text": [
      "['https://www.mercadolibre.com.co/xiaomi-poco-poco-x6-pro-5g-dual-sim-512-gb-negro-12-gb-ram/p/MCO29734176?pdp_filters=deal%3AMCO1072578-1#polycard_client=search-nordic&searchVariation=MCO29734176&position=3&search_layout=grid&type=product&tracking_id=01e21808-3c7b-40fb-8113-642c7d7371e0&wid=MCO1385953583&sid=search', 'https://www.mercadolibre.com.co/xiaomi-redmi-13c-dual-sim-256-gb-midnight-black-8-gb-ram/p/MCO28131664?pdp_filters=deal%3AMCO1072578-1#polycard_client=search-nordic&searchVariation=MCO28131664&position=2&search_layout=grid&type=product&tracking_id=01e21808-3c7b-40fb-8113-642c7d7371e0&wid=MCO2412206906&sid=search', 'https://www.mercadolibre.com.co/xiaomi-poco-poco-x6-pro-5g-dual-sim-512-gb-amarillo-12-gb-ram/p/MCO29734179?pdp_filters=deal%3AMCO1072578-1#polycard_client=search-nordic&searchVariation=MCO29734179&position=5&search_layout=grid&type=product&tracking_id=01e21808-3c7b-40fb-8113-642c7d7371e0&wid=MCO1385966781&sid=search', 'https://www.mercadolibre.com.co/samsung-galaxy-a55-5g-dual-sim-256-gb-azul-claro-8-gb-ram/p/MCO34731719?pdp_filters=deal%3AMCO1072578-1#polycard_client=search-nordic&searchVariation=MCO34731719&position=7&search_layout=grid&type=product&tracking_id=01e21808-3c7b-40fb-8113-642c7d7371e0&wid=MCO2303957828&sid=search', 'https://www.mercadolibre.com.co/xiaomi-redmi-note-13-4g-dual-sim-256-gb-negro-8-gb-ram/p/MCO29751162?pdp_filters=deal%3AMCO1072578-1#polycard_client=search-nordic&searchVariation=MCO29751162&position=1&search_layout=grid&type=product&tracking_id=01e21808-3c7b-40fb-8113-642c7d7371e0&wid=MCO1463626145&sid=search', 'https://www.mercadolibre.com.co/celular-xiaomi-redmi-note-13-pro-4g-256-gb-8-ram-color-verde-oscuro/p/MCO29901348?pdp_filters=deal%3AMCO1072578-1#polycard_client=search-nordic&searchVariation=MCO29901348&position=8&search_layout=grid&type=product&tracking_id=01e21808-3c7b-40fb-8113-642c7d7371e0&wid=MCO2741754126&sid=search', 'https://www.mercadolibre.com.co/xiaomi-redmi-note-13-pro-4g-dual-sim-256-gb-negro-8-gb-ram/p/MCO35603992?pdp_filters=deal%3AMCO1072578-1#polycard_client=search-nordic&searchVariation=MCO35603992&position=4&search_layout=grid&type=product&tracking_id=01e21808-3c7b-40fb-8113-642c7d7371e0&wid=MCO2695699154&sid=search', 'https://www.mercadolibre.com.co/samsung-galaxy-a55-5g-dual-sim-256-gb-azul-oscuro-8-gb-ram/p/MCO34731718?pdp_filters=deal%3AMCO1072578-1#polycard_client=search-nordic&searchVariation=MCO34731718&position=14&search_layout=grid&type=product&tracking_id=01e21808-3c7b-40fb-8113-642c7d7371e0&wid=MCO1410043983&sid=search', 'https://www.mercadolibre.com.co/tecno-spark-20-dual-sim-256-gb-negro-8-gb-ram/p/MCO29338104?pdp_filters=deal%3AMCO1072578-1#polycard_client=search-nordic&searchVariation=MCO29338104&position=13&search_layout=grid&type=product&tracking_id=01e21808-3c7b-40fb-8113-642c7d7371e0&wid=MCO2172940458&sid=search', 'https://click1.mercadolibre.com.co/mclics/clicks/external/MCO/count?a=0jOE1CUfezMr%2BfqVfSfAnK%2BjHi8vaHICkF2DpemBx352un7t6tdXSkFIzgSTznnigWRD7i%2Ba%2F%2BtP9C%2Flm7JFCBqlv0mI0DlhjH%2Bfl9mEunLTTZengsW9DT0pDl08bm7EtGwDWdpkcEYCcrCc3wOi0zeb0lzGYXZenAJ6QMcUEHvMtf0trQANSYOPAygkw0xCaW3fvMJ7t58yfLQWQQrVGDCukf1L4Im69G3Mu0JXvqEseVeTvrBBIEJdqu1OtuAj%2F%2Bg8q43TDTVKlaGgbXHwvO%2BKkkMpIJzGtg3tK0%2Brvy9VPgsfs9LS27U%2Bfnxw8YN4lzviIqXmJ6Dc4HTeNXeGoQzlN4dpfpJ6wscLLXOd2NxNuNL2v6tHGkDnqq4pf4myOl9n6hhVwkMltH9UF20lIU0B5gb3hJs0ZAcLQoz6ZzUv%2FCFkMopc3Cn6oUecL5ZUSLqC2kZ%2FSRRLQk4ShOfyabJdJjwCd%2FEqakobne69ruHi%2F%2FNx3HA%2F7DUE4LqNk2i9SbhpoYHmQ6p1Bt7EqF1tK%2FhQC8LKLgVEvRKnyKTUEjFzRRPCRK8mUXR2YBF1HoDBk8jqGweOwG9JEyqG60P8268oAPFox8wbVHeFwDYB1FOHWlHUAGg3%2B0c5IeTjWhh2wNF0egLiglDHi2Ids97q81Ex66uIQiW3oVZxt%2B36FzoPbEKoHrLPVgewKi%2BiKRBivASKRoyZsHE0%2B1e8k39OBkurFqo8a9KWoCjw7dBpHw%3D%3D&e=mclics%2Fmin-budget-throttling%2B54896%2Cmclics%2Fmax-bid-capped%2B36382%2Cmclics%2Fmax-bid-item-factor%2B23927%2Cmclics%2Fbuybox-item-query-same-positions%2B58796%2Cmclics%2Fdiscard-bid-lt-min%2B58213%2Cmclics%2Foverride-min-seasonality%2B49092&rb=x#polycard_client=search-nordic&tracking_id=01e21808-3c7b-40fb-8113-642c7d7371e0', 'https://publicidad.mercadolibre.com.co/main', 'https://click1.mercadolibre.com.co/mclics/clicks/external/MCO/count?a=RPkuvDW12dN4nbQpnEhS6DrXE811DQolDcF9Wczj2m%2FxIPrGDfXAqnOoQvdyI4yjI%2F0pZMfXX9m3q5GHYunRDle2%2BU4UdThiFYHXlb%2Ff5NSKZ39IOzyjq%2BxReZeuSRB8SFmobsSCZbq%2Ful0goVKoJIWvQMSlEGNT2N%2B7sVXHE0%2B91QzUuasf0Aqpof6sCvNRonA00iFE3Wb1elR84dNvzSk0IE7LqEkaE32rW1WZGL4Th%2Fh7IGudrHKfI%2F0L4w8fOo%2FtcUl1Ky45mT0FXg0wVmFO5CWuzbm46a%2Fea559Y5hqJqgvz4slGpb4%2BiopzziqPOT%2Bb4GKtH%2FH0qcmOArq66NfrydJvyasebPm9myTx258YJ%2BfuHZ%2BGsQf0Al%2BldUCR6fK1rLv426KcTpdfyZsQGFC1zR1xwGwSc%2F9cOywHdCE6f9K7OqrdYTik1%2BPE%2BzghTisS76YwrpV0wRTpT5uP5qDrl%2BZdoACOEeB26s3tJ6N6nIoEru%2FoFJAlBv7hmyJsJOOilPEu5%2BHS9%2BRuI4uU2Zel%2Bipxq7eQcCl7dhicyZhe8BAEOxpnBhPWo9yagCSWXj9x66iVH8kGOBz%2B1bYovZ%2BRPWj2JYeJX9%2BcN6oa4Z1QB6qeg2mAjDJa%2B7UctMssAVZCu3LsWzYYy%2FGL7mSfnCgSuemDPwYqS2r9jcB0f7ylayTYQXB%2F3PBq8aYjsIYupMjtPxP4NhrjLMYVPk9g6mEkEr19p4F%2FndW5VwYpEc%3D&e=mclics%2Fmin-budget-throttling%2B54896%2Cmclics%2Fmax-bid-capped%2B36382%2Cmclics%2Fmax-bid-item-factor%2B23927%2Cmclics%2Fbuybox-item-query-same-positions%2B58796%2Cmclics%2Fdiscard-bid-lt-min%2B58213%2Cmclics%2Foverride-min-seasonality%2B49092&rb=x#polycard_client=search-nordic&tracking_id=01e21808-3c7b-40fb-8113-642c7d7371e0', 'https://publicidad.mercadolibre.com.co/main', 'https://click1.mercadolibre.com.co/mclics/clicks/external/MCO/count?a=1tzWxXTh6CHWp9CB%2FXGnXJng7ccb35uZgi1JjZKUbBDXY9wLVR4ekEcdIbkLUBTenXnXV5JbAt%2BRnMuzjduq%2BbJ4ff6nuDkfcwhugM8H32B0moZ9iryHOmnn531ztLA3dOaNpGX%2FBZk7OfeJPUSKOGmBx9ReB%2B9siKAYxOlVArRuhQ1BOaVLLgA0p1fc7jPrjRhoJS4L6pP4HWCMHMLiaJt3QpLh3GTpzjKyahKaIeGY0q3iROYWfqaC71bR18bSnXL21flGw94tTaXrDeFBowbd54vCSd6ukYiDzDSy51r9mNM7u9vhxbV6BUppX%2Flv6fU2SnmADwlXUalhV58UfsuFecwQThgn3c7UcVRAXlwUPA3h77DZV52iNOn0x2WNoZCFd7P3JlmELNky8trlhUnFhY9bbJF4ptU%2B1gjheg2dguzNvu%2FFWOYHrFPaSG%2F%2FW6Dgcnu2ojLtwA5C8kmh1ioqYZbnIbSfM3z%2F5vBvAxoZ2iBTaVpLAueoOaoXF5FjrIN2HTodsdVaoSwrBFVejDZKqYcd5FGjoGwi973wQuGATmcyXBeLsuqe%2Bio9LNnKj1TyvamXH6BTB1sEp%2Brl%2BB2k9ze1KLjEOjgjFyabVYbgtO9wdc%2BHaIyJ8HEFtPX5qekKpwJ5mWlm6HfnmBvqUqohZnKkf3HtDtoLsPC9Z3YazwxT%2FisvEKLimpmPfZt%2FSZlayTeZbQ%3D%3D&e=mclics%2Fmin-budget-throttling%2B54896%2Cmclics%2Fmax-bid-capped%2B36382%2Cmclics%2Fmax-bid-item-factor%2B23927%2Cmclics%2Fbuybox-item-query-same-positions%2B58796%2Cmclics%2Fdiscard-bid-lt-min%2B58213%2Cmclics%2Foverride-min-seasonality%2B49092&rb=x#polycard_client=search-nordic&tracking_id=01e21808-3c7b-40fb-8113-642c7d7371e0', 'https://publicidad.mercadolibre.com.co/main', 'https://www.mercadolibre.com.co/samsung-galaxy-s24-ultra-5g-dual-sim-512-gb-titanium-gray-12-gb-ram/p/MCO29893931?pdp_filters=deal%3AMCO1072578-1#polycard_client=search-nordic&searchVariation=MCO29893931&position=6&search_layout=grid&type=product&tracking_id=01e21808-3c7b-40fb-8113-642c7d7371e0&wid=MCO1452157273&sid=search', 'https://www.mercadolibre.com.co/apple-iphone-15-128-gb-negro/p/MCO27172677?pdp_filters=deal%3AMCO1072578-1#polycard_client=search-nordic&searchVariation=MCO27172677&position=17&search_layout=grid&type=product&tracking_id=01e21808-3c7b-40fb-8113-642c7d7371e0&wid=MCO2694370502&sid=search', 'https://www.mercadolibre.com.co/samsung-galaxy-a35-5g-256-gb-azul-oscuro-8-gb-ram/p/MCO34729843?pdp_filters=deal%3AMCO1072578-1#polycard_client=search-nordic&searchVariation=MCO34729843&position=23&search_layout=grid&type=product&tracking_id=01e21808-3c7b-40fb-8113-642c7d7371e0&wid=MCO2631944424&sid=search', 'https://www.mercadolibre.com.co/xiaomi-redmi-note-13-pro-5g-dual-sim-512-gb-negro-12-gb-ram/p/MCO29740920?pdp_filters=deal%3AMCO1072578-1#polycard_client=search-nordic&searchVariation=MCO29740920&position=22&search_layout=grid&type=product&tracking_id=01e21808-3c7b-40fb-8113-642c7d7371e0&wid=MCO1485030899&sid=search', 'https://www.mercadolibre.com.co/apple-iphone-16-128-gb-negro/p/MCO40287808?pdp_filters=deal%3AMCO1072578-1#polycard_client=search-nordic&searchVariation=MCO40287808&position=26&search_layout=grid&type=product&tracking_id=01e21808-3c7b-40fb-8113-642c7d7371e0&wid=MCO1485413097&sid=search', 'https://www.mercadolibre.com.co/motorola-edge-50-fusion-5g-256-gb-8-gb-ram-color-azul/p/MCO36687808?pdp_filters=deal%3AMCO1072578-1#polycard_client=search-nordic&searchVariation=MCO36687808&position=24&search_layout=grid&type=product&tracking_id=01e21808-3c7b-40fb-8113-642c7d7371e0&wid=MCO2732393048&sid=search', 'https://click1.mercadolibre.com.co/mclics/clicks/external/MCO/count?a=6V2M4Ws%2Feb2exNie%2F3FyX0emYHhKjv986NXpeM5klBupOcjrjMTGzWZyoFvuPeerIxdQNn%2BLgBw96x%2FvNBWdTTuAjCn4TUnwmn0nVoWodgrbmD0wAwc%2BB5M3Nry52P%2BkAV4%2FkXeLjmIRY27WL%2FgipQ2%2By%2Fr6NPBDAcuiNRhvXQW3N3d2WWIGyA1MBP0ITM2%2FvG1NCIuh4ONlNcooJ6dxoYGLCtD1tnr2LZ%2BxxmdYk3%2BpEnUxr0PwaW1n%2F%2B4KQHCV0MlmurBXdr69lCMiSUyzkYOcBfUM9XW3FeunMdKg9%2FhehtN%2FIrXhfIS1BnTJDrdbabSVN9bkwj9Kc1Rru2T%2B%2FllhiXraqJHIx5hmoKtf3mzgffcmM4aPdSyBbTTePG9EieISCrqmdKBc4nWkkgIIfIDsX4tEg9hd2lCL3U4SJ25UWu7Xz7ufLZXwr1L%2FGAcnBy1OruwLLBqgnmpLTLbsCTmpU%2FW%2B8IBRvfWUoAlwOMQx5g91SElqhQqaEXj4C8viekxkJOVN6ZciP%2B5fKfLiiCDX5r54if5bdSTlIHbWPexrA6ujAdbWcqw08vTVd67uSDSOgZ8pK44xsSZ9MEYIT9GCpX83sycnPS80GNn8zfuWw4v9knuJ64j28NJWVEf08mTn9I8TW0XosRhb1kQ%2B%2Bnba6LytEiOBpWGgTrKTItYDvb16KfFAG6SaKjtGgLwur6y3Cr08t19I1ii%2B2rvBOtAoQpbfEfK%2BZsrBzDGFOhifOao%3D&e=mclics%2Fmin-budget-throttling%2B54896%2Cmclics%2Fmax-bid-capped%2B36382%2Cmclics%2Fmax-bid-item-factor%2B23927%2Cmclics%2Fbuybox-item-query-same-positions%2B58796%2Cmclics%2Fdiscard-bid-lt-min%2B58213%2Cmclics%2Foverride-min-seasonality%2B49092&rb=x#polycard_client=search-nordic&tracking_id=01e21808-3c7b-40fb-8113-642c7d7371e0', 'https://publicidad.mercadolibre.com.co/main', 'https://click1.mercadolibre.com.co/mclics/clicks/external/MCO/count?a=oQRaYcyzNEuDp1rQ0SsTncTyYfvpKOWT9rV8mTSLjvGgiI4ktsgh0W8X9PWyBhFZ00qr0uM8DJdWhnz8VbYimyPAwUs4w86pbyZ%2FOIAArGldqhlpQ4VsUuROpneGG%2BQZWjGgFHf8sLGj4Wc7Q3T2W%2FkX%2By6wjnNCh41gLW3HpuouEDeY4Wkaf9P70WDXUaIYptb8qtfXLubCUj1fad6opYiifb6qa2ELgqbTNPf51EobCFO5eIRpsp3Fe9Q2JIaazEs%2BCOwetd2bfsXYpA7dEQwunObYiC2MPKqqgS%2BketqOqODYRrtzuhbLlu2CeD%2FDLGNlWVO3R2Jy1qbbOftQr1Si5gLNXAvaIH00qvyi%2F25tNfAxBMGbft%2B4wu36pbLiMwQjKBdRYX16gcrGSKLZtxxdDjLizlB0zmnqKzI265ruVwExTph2afcTRwe3kTbKPpzqmKZDdlRGLRQTTGNwE4vFHTVY4gYvD5MPuiDQEWulWdzEpZpcMHL5VyA%2FtCJvFdRCvOdP%2B7cvUolvA8flL5v4xiwT%2BxET1Cg0Alw6NMwLtSq3VcCjmz9G5Stv5Yo43%2BC535PbX8czdbsySs2ZOLVhuF4mNYyg19UP6SgTJbDF4YsL7857eu4ryz02dY%2FWKSNDvRAKYvy7rgNQIt36QERTxk1ZR4kgxlHTZvPyBQA8Wr%2F0TAaFJU4JT49M%2BNmNXmrkJgKHM02qvm%2ByzObizfb14B0vcrwusPrA55U4W34F&e=mclics%2Fmin-budget-throttling%2B54896%2Cmclics%2Fmax-bid-capped%2B36382%2Cmclics%2Fmax-bid-item-factor%2B23927%2Cmclics%2Fbuybox-item-query-same-positions%2B58796%2Cmclics%2Fdiscard-bid-lt-min%2B58213%2Cmclics%2Foverride-min-seasonality%2B49092&rb=x#polycard_client=search-nordic&tracking_id=01e21808-3c7b-40fb-8113-642c7d7371e0', 'https://publicidad.mercadolibre.com.co/main', 'https://click1.mercadolibre.com.co/mclics/clicks/external/MCO/count?a=sGthKmRvXlCohL3AYQeqzjLhzkOhMOqdF0%2FHRnUAs7Xf8wJD%2BdvmzyQJZYG1YN3og4igz7toFDK0L%2B3MQdnPv%2BfUSynaLGQC%2BzR%2BnwawmRUQSCU46HyoqkpmEviwwmh%2FBofxDTbIoelrvnC16BoCgSE390I%2FhWuJ6UnV5NXbVbtIJvY4C26JUo%2Br1eiyfZGntMqiQKUQb75IzvKmDErOXO5HhuOgfPdtAk5WRGCgVKot2mCjSFwv29GQP8QwvmZTovUD%2FkDF9wSXxYZfMMWItTUIVSsMRsYMhN1iz0OTRgo8FDMzUwE4gA%2FRwajWFuf6Furiw9LMjV6VwPSYByTFDuFP3D6JToHgWrm%2FUc%2Bo6lLpz52ovUAJxLRmDFBLeXy8hGA44krPoVZKceAa0486iRMXt3tiv40C1WvMwPMFXzxeGC537DRsAqk5MtMkys3u8PPUOdT1vVJSWOdPowkVu6vH4GUSKiAcDI2TMjYafohXrOCsfaTI%2BNHm26q9weQ3nqFCVbt4U5ee%2FkmeaXG%2FFMUV7YtRrLBBMXQGEHhPRC4MXd%2F7Y67ABCRlpa4YveZKnnAxM7esH1kaYVJimhvI2IkHEVxNVtJ7ATlswopZmCRMpVr7vNEtNjqG3UTMEPYPOyp9o%2BeJU5Mxgd3krI4npb1ba8SsUygAGa09KBAIwPbOGqr%2BxHYKH%2BkbSwo5ZP8IYTTm25e4Yv3%2Ffh9li9z0jWIA7MkG6rutrkecWeL%2Bsg%3D%3D&e=mclics%2Fmin-budget-throttling%2B54896%2Cmclics%2Fmax-bid-capped%2B36382%2Cmclics%2Fmax-bid-item-factor%2B23927%2Cmclics%2Fbuybox-item-query-same-positions%2B58796%2Cmclics%2Fdiscard-bid-lt-min%2B58213%2Cmclics%2Foverride-min-seasonality%2B49092&rb=x#polycard_client=search-nordic&tracking_id=01e21808-3c7b-40fb-8113-642c7d7371e0', 'https://publicidad.mercadolibre.com.co/main', 'https://articulo.mercadolibre.com.co/MCO-1480440059-celular-motorola-moto-g54-256gb-8gb-ram-5g-rojo-_JM#polycard_client=search-nordic&position=43&search_layout=grid&type=item&tracking_id=01e21808-3c7b-40fb-8113-642c7d7371e0', 'https://www.mercadolibre.com.co/xiaomi-redmi-note-13-4g-dual-sim-128-gb-negro-6-gb-ram/p/MCO30395563?pdp_filters=deal%3AMCO1072578-1#polycard_client=search-nordic&searchVariation=MCO30395563&position=9&search_layout=grid&type=product&tracking_id=01e21808-3c7b-40fb-8113-642c7d7371e0&wid=MCO2686233736&sid=search', 'https://articulo.mercadolibre.com.co/MCO-2735509998-xiaomi-14-dual-sim-512-gb-negro-16-gb-ram-_JM#polycard_client=search-nordic&position=44&search_layout=grid&type=item&tracking_id=01e21808-3c7b-40fb-8113-642c7d7371e0', 'https://www.mercadolibre.com.co/samsung-galaxy-a35-5g-5g-dual-sim-256-gb-rosa-8-gb-ram/p/MCO34731717?pdp_filters=deal%3AMCO1072578-1#polycard_client=search-nordic&searchVariation=MCO34731717&position=25&search_layout=grid&type=product&tracking_id=01e21808-3c7b-40fb-8113-642c7d7371e0&wid=MCO1407774117&sid=search', 'https://articulo.mercadolibre.com.co/MCO-2734695430-xiaomi-poco-poco-x6-pro-5g-dual-sim-256-gb-gris-8-gb-ram-_JM#polycard_client=search-nordic&position=45&search_layout=grid&type=item&tracking_id=01e21808-3c7b-40fb-8113-642c7d7371e0', 'https://articulo.mercadolibre.com.co/MCO-2735210410-ulefone-armor-26-ultra-5g-rugged-waterproof-smartphone-120w-_JM#polycard_client=search-nordic&position=46&search_layout=grid&type=item&tracking_id=01e21808-3c7b-40fb-8113-642c7d7371e0', 'https://www.mercadolibre.com.co/samsung-galaxy-a15-4g-dual-sim-256-gb-verde-claro-8-gb-ram/p/MCO31214364?pdp_filters=deal%3AMCO1072578-1#polycard_client=search-nordic&searchVariation=MCO31214364&position=16&search_layout=grid&type=product&tracking_id=01e21808-3c7b-40fb-8113-642c7d7371e0&wid=MCO1410076143&sid=search', 'https://www.mercadolibre.com.co/xiaomi-redmi-note-13-4g-dual-sim-256-gb-verde-8-gb-ram/p/MCO29750150?pdp_filters=deal%3AMCO1072578-1#polycard_client=search-nordic&searchVariation=MCO29750150&position=18&search_layout=grid&type=product&tracking_id=01e21808-3c7b-40fb-8113-642c7d7371e0&wid=MCO2429608540&sid=search', 'https://articulo.mercadolibre.com.co/MCO-2174791744-galaxy-s24-ultra-5g-256gb-12-ram-titanium-black-_JM#polycard_client=search-nordic&position=47&search_layout=grid&type=item&tracking_id=01e21808-3c7b-40fb-8113-642c7d7371e0', 'https://www.mercadolibre.com.co/samsung-a05s-4g-dual-sim-128-gb-negro-6-gb-ram/p/MCO29761272?pdp_filters=deal%3AMCO1072578-1#polycard_client=search-nordic&searchVariation=MCO29761272&position=15&search_layout=grid&type=product&tracking_id=01e21808-3c7b-40fb-8113-642c7d7371e0&wid=MCO2704840508&sid=search', 'https://articulo.mercadolibre.com.co/MCO-2228816416-celular-redmi-note-13-pro-black-256-gb-8gb-ram-_JM#polycard_client=search-nordic&position=48&search_layout=grid&type=item&tracking_id=01e21808-3c7b-40fb-8113-642c7d7371e0', 'https://www.mercadolibre.com.co/xiaomi-redmi-note-13-4g-dual-sim-256-gb-azul-8-gb-ram/p/MCO29751159?pdp_filters=deal%3AMCO1072578-1#polycard_client=search-nordic&searchVariation=MCO29751159&position=38&search_layout=grid&type=product&tracking_id=01e21808-3c7b-40fb-8113-642c7d7371e0&wid=MCO1399785591&sid=search', 'https://articulo.mercadolibre.com.co/MCO-2735222808-xiaomi-13-dual-sim-512gb-blanco-12-gb-ram-_JM#polycard_client=search-nordic&position=49&search_layout=grid&type=item&tracking_id=01e21808-3c7b-40fb-8113-642c7d7371e0', 'https://www.mercadolibre.com.co/zte-smartphone-blade-a54-128gb-4gb-ram-morado/p/MCO29233029?pdp_filters=deal%3AMCO1072578-1#polycard_client=search-nordic&searchVariation=MCO29233029&position=40&search_layout=grid&type=product&tracking_id=01e21808-3c7b-40fb-8113-642c7d7371e0&wid=MCO1431738835&sid=search', 'https://www.mercadolibre.com.co/samsung-galaxy-a05s-dual-sim-128-gb-morado-6-gb-ram/p/MCO36180137?pdp_filters=deal%3AMCO1072578-1#polycard_client=search-nordic&searchVariation=MCO36180137&position=31&search_layout=grid&type=product&tracking_id=01e21808-3c7b-40fb-8113-642c7d7371e0&wid=MCO2661372982&sid=search', 'https://www.mercadolibre.com.co/xiaomi-redmi-13c-dual-sim-256-gb-clover-green-8-gb-ram/p/MCO28131667?pdp_filters=deal%3AMCO1072578-1#polycard_client=search-nordic&searchVariation=MCO28131667&position=36&search_layout=grid&type=product&tracking_id=01e21808-3c7b-40fb-8113-642c7d7371e0&wid=MCO2429724934&sid=search', 'https://www.mercadolibre.com.co/apple-iphone-16-128-gb-rosa/p/MCO40287802?pdp_filters=deal%3AMCO1072578-1#polycard_client=search-nordic&searchVariation=MCO40287802&position=42&search_layout=grid&type=product&tracking_id=01e21808-3c7b-40fb-8113-642c7d7371e0&wid=MCO1485681763&sid=search', 'https://articulo.mercadolibre.com.co/MCO-1422641301-motorola-moto-g54-5g-256-gb-8-gb-ram-_JM#polycard_client=search-nordic&position=50&search_layout=grid&type=item&tracking_id=01e21808-3c7b-40fb-8113-642c7d7371e0', 'https://www.mercadolibre.com.co/samsung-galaxy-a55-5g-dual-sim-256-gb-rosa-8-gb-ram/p/MCO34731720?pdp_filters=deal%3AMCO1072578-1#polycard_client=search-nordic&searchVariation=MCO34731720&position=29&search_layout=grid&type=product&tracking_id=01e21808-3c7b-40fb-8113-642c7d7371e0&wid=MCO2308924524&sid=search', 'https://www.mercadolibre.com.co/motorola-moto-g04s-128-gb-graphite-4-gb-ram/p/MCO36337531?pdp_filters=deal%3AMCO1072578-1#polycard_client=search-nordic&searchVariation=MCO36337531&position=35&search_layout=grid&type=product&tracking_id=01e21808-3c7b-40fb-8113-642c7d7371e0&wid=MCO1487200895&sid=search', 'https://www.mercadolibre.com.co/apple-iphone-13-128-gb-azul-medianoche/p/MCO18500844?pdp_filters=deal%3AMCO1072578-1#polycard_client=search-nordic&searchVariation=MCO18500844&position=39&search_layout=grid&type=product&tracking_id=01e21808-3c7b-40fb-8113-642c7d7371e0&wid=MCO1507172311&sid=search', 'https://articulo.mercadolibre.com.co/MCO-1486057271-motorola-moto-g24-power-256gb-azul-claro-8gb-ram-8-ram-_JM#polycard_client=search-nordic&position=51&search_layout=grid&type=item&tracking_id=01e21808-3c7b-40fb-8113-642c7d7371e0', 'https://www.mercadolibre.com.co/honor-magic6-lite-dual-sim-256-gb-plateado-8-gb-ram/p/MCO34239792?pdp_filters=deal%3AMCO1072578-1#polycard_client=search-nordic&searchVariation=MCO34239792&position=32&search_layout=grid&type=product&tracking_id=01e21808-3c7b-40fb-8113-642c7d7371e0&wid=MCO1434183995&sid=search', 'https://www.mercadolibre.com.co/xiaomi-pocophone-poco-x6-pro-5g-dual-sim-512-gb-negro-12-gb-ram/p/MCO37799588?pdp_filters=deal%3AMCO1072578-1#polycard_client=search-nordic&searchVariation=MCO37799588&position=33&search_layout=grid&type=product&tracking_id=01e21808-3c7b-40fb-8113-642c7d7371e0&wid=MCO1463580903&sid=search', 'https://www.mercadolibre.com.co/apple-iphone-13-128-gb-azul/p/MCO18500846?pdp_filters=deal%3AMCO1072578-1#polycard_client=search-nordic&searchVariation=MCO18500846&position=37&search_layout=grid&type=product&tracking_id=01e21808-3c7b-40fb-8113-642c7d7371e0&wid=MCO1684051480&sid=search', 'https://www.mercadolibre.com.co/celular-motorola-g04-128gb-4gb-verde/p/MCO34730423?pdp_filters=deal%3AMCO1072578-1#polycard_client=search-nordic&searchVariation=MCO34730423&position=41&search_layout=grid&type=product&tracking_id=01e21808-3c7b-40fb-8113-642c7d7371e0&wid=MCO1412143091&sid=search', 'https://articulo.mercadolibre.com.co/MCO-2735232172-oneplus-12-dual-sim-512-gb-verde-16-gb-ram-_JM#polycard_client=search-nordic&position=52&search_layout=grid&type=item&tracking_id=01e21808-3c7b-40fb-8113-642c7d7371e0', 'https://www.mercadolibre.com.co/samsung-galaxy-a15-4g-dual-sim-256-gb-azul-oscuro-8-gb-ram/p/MCO31214368?pdp_filters=deal%3AMCO1072578-1#polycard_client=search-nordic&searchVariation=MCO31214368&position=27&search_layout=grid&type=product&tracking_id=01e21808-3c7b-40fb-8113-642c7d7371e0&wid=MCO1502535973&sid=search', 'https://www.mercadolibre.com.co/celular-xiaomi-redmi-note-13-8gb256gb-ice-blue/p/MCO38276252?pdp_filters=deal%3AMCO1072578-1#polycard_client=search-nordic&searchVariation=MCO38276252&position=30&search_layout=grid&type=product&tracking_id=01e21808-3c7b-40fb-8113-642c7d7371e0&wid=MCO2676599320&sid=search', 'https://articulo.mercadolibre.com.co/MCO-2729253610-xiaomi-redmi-note-13-pro-5g-dual-sim-512-gb-negro-12-gb-ram-_JM#polycard_client=search-nordic&position=53&search_layout=grid&type=item&tracking_id=01e21808-3c7b-40fb-8113-642c7d7371e0', 'https://articulo.mercadolibre.com.co/MCO-1503595761-honor-magic6-lite-dual-sim-256-gb-8-gb-ram-color-verde-_JM#polycard_client=search-nordic&position=54&search_layout=grid&type=item&tracking_id=01e21808-3c7b-40fb-8113-642c7d7371e0', 'https://www.mercadolibre.com.co/apple-iphone-16-128-gb-ultramarino/p/MCO40287800?pdp_filters=deal%3AMCO1072578-1#polycard_client=search-nordic&searchVariation=MCO40287800&position=28&search_layout=grid&type=product&tracking_id=01e21808-3c7b-40fb-8113-642c7d7371e0&wid=MCO2729252764&sid=search', 'https://www.mercadolibre.com.co/xiaomi-redmi-note-13-pro-5g-8gb-256gb-aurora-purple/p/MCO29750605?pdp_filters=deal%3AMCO1072578-1#polycard_client=search-nordic&searchVariation=MCO29750605&position=34&search_layout=grid&type=product&tracking_id=01e21808-3c7b-40fb-8113-642c7d7371e0&wid=MCO1409633639&sid=search']\n",
      "['1.304.900', '479.940', '1.304.900', '1.387.900', '597.900', '810.900', '809.900', '1.386.900', '487.900', '455.900', '269.900', '1.030.000', '4.489.900', '3.219.900', '939.900', '1.619.940', '3.888.900', '1.022.900', '580.000', '340.000', '99.980', '542.974', '558.900', '1.263.132', '965.900', '813.284', '832.021', '581.880', '605.900', '4.129.900', '422.900', '809.900', '604.700', '786.117', '314.900', '422.900', '494.900', '3.789.000', '549.900', '1.386.900', '354.900', '2.359.000', '448.900', '1.139.900', '1.339.900', '2.399.900', '359.900', '1.125.242', '595.900', '597.900', '832.645', '813.284', '3.812.900', '1.204.900']\n",
      "['Calificación 4.9 de 5 (2,092 calificaciones)', 'Calificación 4.7 de 5 (3,550 calificaciones)', 'Calificación 4.9 de 5 (2,092 calificaciones)', 'Calificación 4.9 de 5 (771 calificaciones)', 'Calificación 4.8 de 5 (2,623 calificaciones)', 'Calificación 4.8 de 5 (802 calificaciones)', 'Calificación 4.8 de 5 (802 calificaciones)', 'Calificación 4.9 de 5 (771 calificaciones)', 'Calificación 4.8 de 5 (826 calificaciones)', 'Calificación 4 de 5 (4 calificaciones)', 'Calificación 4.7 de 5 (7 calificaciones)', 'Calificación 4.9 de 5 (70 calificaciones)', 'Calificación 4.8 de 5 (399 calificaciones)', 'Calificación 4.8 de 5 (302 calificaciones)', 'Calificación 4.8 de 5 (1,163 calificaciones)', 'Calificación 4.5 de 5 (20 calificaciones)', 'Calificación 5 de 5 (28 calificaciones)', 'Calificación 4.5 de 5 (11 calificaciones)', 'Calificación 5 de 5 (2 calificaciones)', 'Calificación 4.8 de 5 (2,623 calificaciones)', 'Calificación 4.8 de 5 (302 calificaciones)', 'Calificación 4.8 de 5 (553 calificaciones)', 'Calificación 4.8 de 5 (2,623 calificaciones)', 'Calificación 5 de 5 (2 calificaciones)', 'Calificación 4.7 de 5 (263 calificaciones)', 'Calificación 4.2 de 5 (6 calificaciones)', 'Calificación 4.8 de 5 (2,623 calificaciones)', 'Calificación 4.9 de 5 (63 calificaciones)', 'Calificación 4.7 de 5 (263 calificaciones)', 'Calificación 4.7 de 5 (3,550 calificaciones)', 'Calificación 4.5 de 5 (20 calificaciones)', 'Calificación 4.7 de 5 (11 calificaciones)', 'Calificación 4.9 de 5 (771 calificaciones)', 'Calificación 4.6 de 5 (83 calificaciones)', 'Calificación 4.8 de 5 (583 calificaciones)', 'Calificación 4.4 de 5 (14 calificaciones)', 'Calificación 4.9 de 5 (115 calificaciones)', 'Calificación 5 de 5 (44 calificaciones)', 'Calificación 4.8 de 5 (583 calificaciones)', 'Calificación 4.9 de 5 (25 calificaciones)', 'Calificación 4.8 de 5 (553 calificaciones)', 'Calificación 4.8 de 5 (30 calificaciones)', 'Calificación 4.5 de 5 (20 calificaciones)', 'Calificación 4.9 de 5 (1,165 calificaciones)']\n",
      "['Xiaomi POCO Poco X6 Pro 5G Dual SIM 512 GB negro 12 GB RAM', 'Xiaomi Redmi 13C Dual SIM 256 GB midnight black 8 GB RAM', 'Xiaomi POCO Poco X6 Pro 5G Dual SIM 512 GB amarillo 12 GB RAM', 'Samsung Galaxy A55 5G Dual SIM 256 GB azul claro 8 GB RAM', 'Xiaomi Redmi Note 13 4G Dual SIM 256 GB negro 8 GB RAM', 'Celular Xiaomi Redmi Note 13 Pro 4g / 256 Gb/ 8 Ram Color Verde oscuro', 'Xiaomi Redmi Note 13 Pro 4G Dual SIM 256 GB negro 8 GB RAM', 'Samsung Galaxy A55 5G Dual SIM 256 GB azul oscuro 8 GB RAM', 'Tecno Spark 20 Dual SIM 256 GB Negro 8 GB RAM', \"Celular Xiaomi Redmi 14c Dual Sim 128gb/4gb 6.88'' 50mp, Blk\", 'LG K40s Celular Smartphone Black 2gb 32gb Octacore Barato', 'Samsung Galaxy A15 256gb  Yellow', 'Samsung Galaxy S24 Ultra 5G Dual SIM 512 GB titanium gray 12 GB RAM', 'Apple iPhone 15 (128 GB) - Negro', 'Samsung Galaxy A35 5g 256 GB Azul oscuro 8 GB RAM', 'Xiaomi Redmi Note 13 Pro+ 5G Dual SIM 512 GB Negro 12 GB RAM', 'Apple iPhone 16 (128 GB) - Negro', 'Motorola Edge 50 Fusion 5g 256 Gb 8 Gb Ram Color Azul', 'Celulares Honor X6a Plus 256gb Lila O Plateado 256 Gb 6 Ram', 'Mini Smartphone Android Soyes Xs18 Dual Sim De 4 Gb Y 32gb', 'Nokia 110 Dual Sim Basico Teclas Camara Radio Mp3 Barato', 'Celular Motorola Moto G54 256gb-8gb Ram 5g Rojo', 'Xiaomi Redmi Note 13 4G Dual SIM 128 GB negro 6 GB RAM', 'Xiaomi 14 Dual Sim 512 Gb Negro 16 Gb Ram', 'Samsung Galaxy A35 5G 5G Dual SIM 256 GB rosa 8 GB RAM', 'Xiaomi Poco Poco X6 Pro 5g Dual Sim 256 Gb Gris 8 Gb Ram', 'Ulefone Armor 26 Ultra 5g Rugged Waterproof Smartphone 120w', 'Samsung Galaxy A15 4G Dual SIM 256 GB verde claro 8 GB RAM', 'Xiaomi Redmi Note 13 4G Dual SIM 256 GB verde 8 GB RAM', 'Galaxy S24 Ultra 5g 256gb 12 Ram Titanium Black', ' Samsung A05s 4G Dual SIM 128 GB Negro 6 GB RAM', 'Celular Redmi Note 13 Pro Black - 256 Gb - 8gb Ram', 'Xiaomi Redmi Note 13 4G Dual SIM 256 GB azul 8 GB RAM', 'Xiaomi 13 Dual Sim 512gb Blanco 12 Gb Ram', 'Zte Smartphone Blade A54 128gb 4gb Ram Morado', 'Samsung Galaxy A05s Dual SIM 128 GB morado 6 GB RAM', 'Xiaomi Redmi 13C Dual SIM 256 GB clover green 8 GB RAM', 'Apple iPhone 16 (128 GB) - Rosa', ' Motorola Moto G54 5g 256 Gb 8 Gb Ram', 'Samsung Galaxy A55 5G Dual SIM 256 GB rosa 8 GB RAM', 'Motorola Moto G04s 128 GB Graphite 4 GB RAM', 'Apple iPhone 13 (128 GB) - Azul medianoche', 'Motorola Moto G24 Power 256gb Azul Claro 8gb Ram + 8 Ram', 'Honor Magic6 Lite Dual SIM 256 GB plateado 8 GB RAM', 'Xiaomi Pocophone Poco X6 Pro 5G Dual SIM 512 GB negro 12 GB RAM', 'Apple iPhone 13 (128 GB) - Azul', 'Celular Motorola G04 128gb 4gb Verde', 'Oneplus 12 Dual Sim 512 Gb Verde 16 Gb Ram', 'Samsung Galaxy A15 4G Dual SIM 256 GB azul oscuro 8 GB RAM', 'Celular Xiaomi Redmi Note 13 8gb/256gb Ice Blue', 'Xiaomi Redmi Note 13 Pro+ 5g Dual Sim 512 Gb Negro 12 Gb Ram', 'Honor Magic6 Lite Dual Sim 256 Gb 8 Gb Ram Color Verde', 'Apple iPhone 16 (128 GB) - Ultramarino', 'Xiaomi Redmi Note 13 Pro 5g 8gb 256gb Aurora Purple']\n"
     ]
    }
   ],
   "source": [
    "print(URL)\n",
    "print(Precio)\n",
    "print(Calificacion)\n",
    "print(Producto)"
   ]
  },
  {
   "cell_type": "code",
   "execution_count": 52,
   "metadata": {
    "id": "Q9ghxAxXaRmc"
   },
   "outputs": [
    {
     "data": {
      "text/html": [
       "<div>\n",
       "<style scoped>\n",
       "    .dataframe tbody tr th:only-of-type {\n",
       "        vertical-align: middle;\n",
       "    }\n",
       "\n",
       "    .dataframe tbody tr th {\n",
       "        vertical-align: top;\n",
       "    }\n",
       "\n",
       "    .dataframe thead th {\n",
       "        text-align: right;\n",
       "    }\n",
       "</style>\n",
       "<table border=\"1\" class=\"dataframe\">\n",
       "  <thead>\n",
       "    <tr style=\"text-align: right;\">\n",
       "      <th></th>\n",
       "      <th>Producto</th>\n",
       "      <th>Precio</th>\n",
       "      <th>Calificacion</th>\n",
       "      <th>URL</th>\n",
       "    </tr>\n",
       "  </thead>\n",
       "  <tbody>\n",
       "    <tr>\n",
       "      <th>0</th>\n",
       "      <td>Xiaomi POCO Poco X6 Pro 5G Dual SIM 512 GB neg...</td>\n",
       "      <td>1.304.900</td>\n",
       "      <td>Calificación 4.9 de 5 (2,092 calificaciones)</td>\n",
       "      <td>https://www.mercadolibre.com.co/xiaomi-poco-po...</td>\n",
       "    </tr>\n",
       "    <tr>\n",
       "      <th>1</th>\n",
       "      <td>Xiaomi Redmi 13C Dual SIM 256 GB midnight blac...</td>\n",
       "      <td>479.940</td>\n",
       "      <td>Calificación 4.7 de 5 (3,550 calificaciones)</td>\n",
       "      <td>https://www.mercadolibre.com.co/xiaomi-redmi-1...</td>\n",
       "    </tr>\n",
       "    <tr>\n",
       "      <th>2</th>\n",
       "      <td>Xiaomi POCO Poco X6 Pro 5G Dual SIM 512 GB ama...</td>\n",
       "      <td>1.304.900</td>\n",
       "      <td>Calificación 4.9 de 5 (2,092 calificaciones)</td>\n",
       "      <td>https://www.mercadolibre.com.co/xiaomi-poco-po...</td>\n",
       "    </tr>\n",
       "    <tr>\n",
       "      <th>3</th>\n",
       "      <td>Samsung Galaxy A55 5G Dual SIM 256 GB azul cla...</td>\n",
       "      <td>1.387.900</td>\n",
       "      <td>Calificación 4.9 de 5 (771 calificaciones)</td>\n",
       "      <td>https://www.mercadolibre.com.co/samsung-galaxy...</td>\n",
       "    </tr>\n",
       "    <tr>\n",
       "      <th>4</th>\n",
       "      <td>Xiaomi Redmi Note 13 4G Dual SIM 256 GB negro ...</td>\n",
       "      <td>597.900</td>\n",
       "      <td>Calificación 4.8 de 5 (2,623 calificaciones)</td>\n",
       "      <td>https://www.mercadolibre.com.co/xiaomi-redmi-n...</td>\n",
       "    </tr>\n",
       "    <tr>\n",
       "      <th>5</th>\n",
       "      <td>Celular Xiaomi Redmi Note 13 Pro 4g / 256 Gb/ ...</td>\n",
       "      <td>810.900</td>\n",
       "      <td>Calificación 4.8 de 5 (802 calificaciones)</td>\n",
       "      <td>https://www.mercadolibre.com.co/celular-xiaomi...</td>\n",
       "    </tr>\n",
       "    <tr>\n",
       "      <th>6</th>\n",
       "      <td>Xiaomi Redmi Note 13 Pro 4G Dual SIM 256 GB ne...</td>\n",
       "      <td>809.900</td>\n",
       "      <td>Calificación 4.8 de 5 (802 calificaciones)</td>\n",
       "      <td>https://www.mercadolibre.com.co/xiaomi-redmi-n...</td>\n",
       "    </tr>\n",
       "    <tr>\n",
       "      <th>7</th>\n",
       "      <td>Samsung Galaxy A55 5G Dual SIM 256 GB azul osc...</td>\n",
       "      <td>1.386.900</td>\n",
       "      <td>Calificación 4.9 de 5 (771 calificaciones)</td>\n",
       "      <td>https://www.mercadolibre.com.co/samsung-galaxy...</td>\n",
       "    </tr>\n",
       "    <tr>\n",
       "      <th>8</th>\n",
       "      <td>Tecno Spark 20 Dual SIM 256 GB Negro 8 GB RAM</td>\n",
       "      <td>487.900</td>\n",
       "      <td>Calificación 4.8 de 5 (826 calificaciones)</td>\n",
       "      <td>https://www.mercadolibre.com.co/tecno-spark-20...</td>\n",
       "    </tr>\n",
       "    <tr>\n",
       "      <th>9</th>\n",
       "      <td>Celular Xiaomi Redmi 14c Dual Sim 128gb/4gb 6....</td>\n",
       "      <td>455.900</td>\n",
       "      <td>Calificación 4 de 5 (4 calificaciones)</td>\n",
       "      <td>https://click1.mercadolibre.com.co/mclics/clic...</td>\n",
       "    </tr>\n",
       "    <tr>\n",
       "      <th>10</th>\n",
       "      <td>LG K40s Celular Smartphone Black 2gb 32gb Octa...</td>\n",
       "      <td>269.900</td>\n",
       "      <td>Calificación 4.7 de 5 (7 calificaciones)</td>\n",
       "      <td>https://publicidad.mercadolibre.com.co/main</td>\n",
       "    </tr>\n",
       "    <tr>\n",
       "      <th>11</th>\n",
       "      <td>Samsung Galaxy A15 256gb  Yellow</td>\n",
       "      <td>1.030.000</td>\n",
       "      <td>Calificación 4.9 de 5 (70 calificaciones)</td>\n",
       "      <td>https://click1.mercadolibre.com.co/mclics/clic...</td>\n",
       "    </tr>\n",
       "    <tr>\n",
       "      <th>12</th>\n",
       "      <td>Samsung Galaxy S24 Ultra 5G Dual SIM 512 GB ti...</td>\n",
       "      <td>4.489.900</td>\n",
       "      <td>Calificación 4.8 de 5 (399 calificaciones)</td>\n",
       "      <td>https://publicidad.mercadolibre.com.co/main</td>\n",
       "    </tr>\n",
       "    <tr>\n",
       "      <th>13</th>\n",
       "      <td>Apple iPhone 15 (128 GB) - Negro</td>\n",
       "      <td>3.219.900</td>\n",
       "      <td>Calificación 4.8 de 5 (302 calificaciones)</td>\n",
       "      <td>https://click1.mercadolibre.com.co/mclics/clic...</td>\n",
       "    </tr>\n",
       "    <tr>\n",
       "      <th>14</th>\n",
       "      <td>Samsung Galaxy A35 5g 256 GB Azul oscuro 8 GB RAM</td>\n",
       "      <td>939.900</td>\n",
       "      <td>Calificación 4.8 de 5 (1,163 calificaciones)</td>\n",
       "      <td>https://publicidad.mercadolibre.com.co/main</td>\n",
       "    </tr>\n",
       "    <tr>\n",
       "      <th>15</th>\n",
       "      <td>Xiaomi Redmi Note 13 Pro+ 5G Dual SIM 512 GB N...</td>\n",
       "      <td>1.619.940</td>\n",
       "      <td>Calificación 4.5 de 5 (20 calificaciones)</td>\n",
       "      <td>https://www.mercadolibre.com.co/samsung-galaxy...</td>\n",
       "    </tr>\n",
       "    <tr>\n",
       "      <th>16</th>\n",
       "      <td>Apple iPhone 16 (128 GB) - Negro</td>\n",
       "      <td>3.888.900</td>\n",
       "      <td>Calificación 5 de 5 (28 calificaciones)</td>\n",
       "      <td>https://www.mercadolibre.com.co/apple-iphone-1...</td>\n",
       "    </tr>\n",
       "    <tr>\n",
       "      <th>17</th>\n",
       "      <td>Motorola Edge 50 Fusion 5g 256 Gb 8 Gb Ram Col...</td>\n",
       "      <td>1.022.900</td>\n",
       "      <td>Calificación 4.5 de 5 (11 calificaciones)</td>\n",
       "      <td>https://www.mercadolibre.com.co/samsung-galaxy...</td>\n",
       "    </tr>\n",
       "    <tr>\n",
       "      <th>18</th>\n",
       "      <td>Celulares Honor X6a Plus 256gb Lila O Plateado...</td>\n",
       "      <td>580.000</td>\n",
       "      <td>Calificación 5 de 5 (2 calificaciones)</td>\n",
       "      <td>https://www.mercadolibre.com.co/xiaomi-redmi-n...</td>\n",
       "    </tr>\n",
       "    <tr>\n",
       "      <th>19</th>\n",
       "      <td>Mini Smartphone Android Soyes Xs18 Dual Sim De...</td>\n",
       "      <td>340.000</td>\n",
       "      <td>Calificación 4.8 de 5 (2,623 calificaciones)</td>\n",
       "      <td>https://www.mercadolibre.com.co/apple-iphone-1...</td>\n",
       "    </tr>\n",
       "    <tr>\n",
       "      <th>20</th>\n",
       "      <td>Nokia 110 Dual Sim Basico Teclas Camara Radio ...</td>\n",
       "      <td>99.980</td>\n",
       "      <td>Calificación 4.8 de 5 (302 calificaciones)</td>\n",
       "      <td>https://www.mercadolibre.com.co/motorola-edge-...</td>\n",
       "    </tr>\n",
       "    <tr>\n",
       "      <th>21</th>\n",
       "      <td>Celular Motorola Moto G54 256gb-8gb Ram 5g Rojo</td>\n",
       "      <td>542.974</td>\n",
       "      <td>Calificación 4.8 de 5 (553 calificaciones)</td>\n",
       "      <td>https://click1.mercadolibre.com.co/mclics/clic...</td>\n",
       "    </tr>\n",
       "    <tr>\n",
       "      <th>22</th>\n",
       "      <td>Xiaomi Redmi Note 13 4G Dual SIM 128 GB negro ...</td>\n",
       "      <td>558.900</td>\n",
       "      <td>Calificación 4.8 de 5 (2,623 calificaciones)</td>\n",
       "      <td>https://publicidad.mercadolibre.com.co/main</td>\n",
       "    </tr>\n",
       "    <tr>\n",
       "      <th>23</th>\n",
       "      <td>Xiaomi 14 Dual Sim 512 Gb Negro 16 Gb Ram</td>\n",
       "      <td>1.263.132</td>\n",
       "      <td>Calificación 5 de 5 (2 calificaciones)</td>\n",
       "      <td>https://click1.mercadolibre.com.co/mclics/clic...</td>\n",
       "    </tr>\n",
       "    <tr>\n",
       "      <th>24</th>\n",
       "      <td>Samsung Galaxy A35 5G 5G Dual SIM 256 GB rosa ...</td>\n",
       "      <td>965.900</td>\n",
       "      <td>Calificación 4.7 de 5 (263 calificaciones)</td>\n",
       "      <td>https://publicidad.mercadolibre.com.co/main</td>\n",
       "    </tr>\n",
       "    <tr>\n",
       "      <th>25</th>\n",
       "      <td>Xiaomi Poco Poco X6 Pro 5g Dual Sim 256 Gb Gri...</td>\n",
       "      <td>813.284</td>\n",
       "      <td>Calificación 4.2 de 5 (6 calificaciones)</td>\n",
       "      <td>https://click1.mercadolibre.com.co/mclics/clic...</td>\n",
       "    </tr>\n",
       "    <tr>\n",
       "      <th>26</th>\n",
       "      <td>Ulefone Armor 26 Ultra 5g Rugged Waterproof Sm...</td>\n",
       "      <td>832.021</td>\n",
       "      <td>Calificación 4.8 de 5 (2,623 calificaciones)</td>\n",
       "      <td>https://publicidad.mercadolibre.com.co/main</td>\n",
       "    </tr>\n",
       "    <tr>\n",
       "      <th>27</th>\n",
       "      <td>Samsung Galaxy A15 4G Dual SIM 256 GB verde cl...</td>\n",
       "      <td>581.880</td>\n",
       "      <td>Calificación 4.9 de 5 (63 calificaciones)</td>\n",
       "      <td>https://articulo.mercadolibre.com.co/MCO-14804...</td>\n",
       "    </tr>\n",
       "    <tr>\n",
       "      <th>28</th>\n",
       "      <td>Xiaomi Redmi Note 13 4G Dual SIM 256 GB verde ...</td>\n",
       "      <td>605.900</td>\n",
       "      <td>Calificación 4.7 de 5 (263 calificaciones)</td>\n",
       "      <td>https://www.mercadolibre.com.co/xiaomi-redmi-n...</td>\n",
       "    </tr>\n",
       "    <tr>\n",
       "      <th>29</th>\n",
       "      <td>Galaxy S24 Ultra 5g 256gb 12 Ram Titanium Black</td>\n",
       "      <td>4.129.900</td>\n",
       "      <td>Calificación 4.7 de 5 (3,550 calificaciones)</td>\n",
       "      <td>https://articulo.mercadolibre.com.co/MCO-27355...</td>\n",
       "    </tr>\n",
       "    <tr>\n",
       "      <th>30</th>\n",
       "      <td>Samsung A05s 4G Dual SIM 128 GB Negro 6 GB RAM</td>\n",
       "      <td>422.900</td>\n",
       "      <td>Calificación 4.5 de 5 (20 calificaciones)</td>\n",
       "      <td>https://www.mercadolibre.com.co/samsung-galaxy...</td>\n",
       "    </tr>\n",
       "    <tr>\n",
       "      <th>31</th>\n",
       "      <td>Celular Redmi Note 13 Pro Black - 256 Gb - 8gb...</td>\n",
       "      <td>809.900</td>\n",
       "      <td>Calificación 4.7 de 5 (11 calificaciones)</td>\n",
       "      <td>https://articulo.mercadolibre.com.co/MCO-27346...</td>\n",
       "    </tr>\n",
       "    <tr>\n",
       "      <th>32</th>\n",
       "      <td>Xiaomi Redmi Note 13 4G Dual SIM 256 GB azul 8...</td>\n",
       "      <td>604.700</td>\n",
       "      <td>Calificación 4.9 de 5 (771 calificaciones)</td>\n",
       "      <td>https://articulo.mercadolibre.com.co/MCO-27352...</td>\n",
       "    </tr>\n",
       "    <tr>\n",
       "      <th>33</th>\n",
       "      <td>Xiaomi 13 Dual Sim 512gb Blanco 12 Gb Ram</td>\n",
       "      <td>786.117</td>\n",
       "      <td>Calificación 4.6 de 5 (83 calificaciones)</td>\n",
       "      <td>https://www.mercadolibre.com.co/samsung-galaxy...</td>\n",
       "    </tr>\n",
       "    <tr>\n",
       "      <th>34</th>\n",
       "      <td>Zte Smartphone Blade A54 128gb 4gb Ram Morado</td>\n",
       "      <td>314.900</td>\n",
       "      <td>Calificación 4.8 de 5 (583 calificaciones)</td>\n",
       "      <td>https://www.mercadolibre.com.co/xiaomi-redmi-n...</td>\n",
       "    </tr>\n",
       "    <tr>\n",
       "      <th>35</th>\n",
       "      <td>Samsung Galaxy A05s Dual SIM 128 GB morado 6 G...</td>\n",
       "      <td>422.900</td>\n",
       "      <td>Calificación 4.4 de 5 (14 calificaciones)</td>\n",
       "      <td>https://articulo.mercadolibre.com.co/MCO-21747...</td>\n",
       "    </tr>\n",
       "    <tr>\n",
       "      <th>36</th>\n",
       "      <td>Xiaomi Redmi 13C Dual SIM 256 GB clover green ...</td>\n",
       "      <td>494.900</td>\n",
       "      <td>Calificación 4.9 de 5 (115 calificaciones)</td>\n",
       "      <td>https://www.mercadolibre.com.co/samsung-a05s-4...</td>\n",
       "    </tr>\n",
       "    <tr>\n",
       "      <th>37</th>\n",
       "      <td>Apple iPhone 16 (128 GB) - Rosa</td>\n",
       "      <td>3.789.000</td>\n",
       "      <td>Calificación 5 de 5 (44 calificaciones)</td>\n",
       "      <td>https://articulo.mercadolibre.com.co/MCO-22288...</td>\n",
       "    </tr>\n",
       "    <tr>\n",
       "      <th>38</th>\n",
       "      <td>Motorola Moto G54 5g 256 Gb 8 Gb Ram</td>\n",
       "      <td>549.900</td>\n",
       "      <td>Calificación 4.8 de 5 (583 calificaciones)</td>\n",
       "      <td>https://www.mercadolibre.com.co/xiaomi-redmi-n...</td>\n",
       "    </tr>\n",
       "    <tr>\n",
       "      <th>39</th>\n",
       "      <td>Samsung Galaxy A55 5G Dual SIM 256 GB rosa 8 G...</td>\n",
       "      <td>1.386.900</td>\n",
       "      <td>Calificación 4.9 de 5 (25 calificaciones)</td>\n",
       "      <td>https://articulo.mercadolibre.com.co/MCO-27352...</td>\n",
       "    </tr>\n",
       "    <tr>\n",
       "      <th>40</th>\n",
       "      <td>Motorola Moto G04s 128 GB Graphite 4 GB RAM</td>\n",
       "      <td>354.900</td>\n",
       "      <td>Calificación 4.8 de 5 (553 calificaciones)</td>\n",
       "      <td>https://www.mercadolibre.com.co/zte-smartphone...</td>\n",
       "    </tr>\n",
       "    <tr>\n",
       "      <th>41</th>\n",
       "      <td>Apple iPhone 13 (128 GB) - Azul medianoche</td>\n",
       "      <td>2.359.000</td>\n",
       "      <td>Calificación 4.8 de 5 (30 calificaciones)</td>\n",
       "      <td>https://www.mercadolibre.com.co/samsung-galaxy...</td>\n",
       "    </tr>\n",
       "    <tr>\n",
       "      <th>42</th>\n",
       "      <td>Motorola Moto G24 Power 256gb Azul Claro 8gb R...</td>\n",
       "      <td>448.900</td>\n",
       "      <td>Calificación 4.5 de 5 (20 calificaciones)</td>\n",
       "      <td>https://www.mercadolibre.com.co/xiaomi-redmi-1...</td>\n",
       "    </tr>\n",
       "    <tr>\n",
       "      <th>43</th>\n",
       "      <td>Honor Magic6 Lite Dual SIM 256 GB plateado 8 G...</td>\n",
       "      <td>1.139.900</td>\n",
       "      <td>Calificación 4.9 de 5 (1,165 calificaciones)</td>\n",
       "      <td>https://www.mercadolibre.com.co/apple-iphone-1...</td>\n",
       "    </tr>\n",
       "  </tbody>\n",
       "</table>\n",
       "</div>"
      ],
      "text/plain": [
       "                                             Producto     Precio  \\\n",
       "0   Xiaomi POCO Poco X6 Pro 5G Dual SIM 512 GB neg...  1.304.900   \n",
       "1   Xiaomi Redmi 13C Dual SIM 256 GB midnight blac...    479.940   \n",
       "2   Xiaomi POCO Poco X6 Pro 5G Dual SIM 512 GB ama...  1.304.900   \n",
       "3   Samsung Galaxy A55 5G Dual SIM 256 GB azul cla...  1.387.900   \n",
       "4   Xiaomi Redmi Note 13 4G Dual SIM 256 GB negro ...    597.900   \n",
       "5   Celular Xiaomi Redmi Note 13 Pro 4g / 256 Gb/ ...    810.900   \n",
       "6   Xiaomi Redmi Note 13 Pro 4G Dual SIM 256 GB ne...    809.900   \n",
       "7   Samsung Galaxy A55 5G Dual SIM 256 GB azul osc...  1.386.900   \n",
       "8       Tecno Spark 20 Dual SIM 256 GB Negro 8 GB RAM    487.900   \n",
       "9   Celular Xiaomi Redmi 14c Dual Sim 128gb/4gb 6....    455.900   \n",
       "10  LG K40s Celular Smartphone Black 2gb 32gb Octa...    269.900   \n",
       "11                   Samsung Galaxy A15 256gb  Yellow  1.030.000   \n",
       "12  Samsung Galaxy S24 Ultra 5G Dual SIM 512 GB ti...  4.489.900   \n",
       "13                   Apple iPhone 15 (128 GB) - Negro  3.219.900   \n",
       "14  Samsung Galaxy A35 5g 256 GB Azul oscuro 8 GB RAM    939.900   \n",
       "15  Xiaomi Redmi Note 13 Pro+ 5G Dual SIM 512 GB N...  1.619.940   \n",
       "16                   Apple iPhone 16 (128 GB) - Negro  3.888.900   \n",
       "17  Motorola Edge 50 Fusion 5g 256 Gb 8 Gb Ram Col...  1.022.900   \n",
       "18  Celulares Honor X6a Plus 256gb Lila O Plateado...    580.000   \n",
       "19  Mini Smartphone Android Soyes Xs18 Dual Sim De...    340.000   \n",
       "20  Nokia 110 Dual Sim Basico Teclas Camara Radio ...     99.980   \n",
       "21    Celular Motorola Moto G54 256gb-8gb Ram 5g Rojo    542.974   \n",
       "22  Xiaomi Redmi Note 13 4G Dual SIM 128 GB negro ...    558.900   \n",
       "23          Xiaomi 14 Dual Sim 512 Gb Negro 16 Gb Ram  1.263.132   \n",
       "24  Samsung Galaxy A35 5G 5G Dual SIM 256 GB rosa ...    965.900   \n",
       "25  Xiaomi Poco Poco X6 Pro 5g Dual Sim 256 Gb Gri...    813.284   \n",
       "26  Ulefone Armor 26 Ultra 5g Rugged Waterproof Sm...    832.021   \n",
       "27  Samsung Galaxy A15 4G Dual SIM 256 GB verde cl...    581.880   \n",
       "28  Xiaomi Redmi Note 13 4G Dual SIM 256 GB verde ...    605.900   \n",
       "29    Galaxy S24 Ultra 5g 256gb 12 Ram Titanium Black  4.129.900   \n",
       "30     Samsung A05s 4G Dual SIM 128 GB Negro 6 GB RAM    422.900   \n",
       "31  Celular Redmi Note 13 Pro Black - 256 Gb - 8gb...    809.900   \n",
       "32  Xiaomi Redmi Note 13 4G Dual SIM 256 GB azul 8...    604.700   \n",
       "33          Xiaomi 13 Dual Sim 512gb Blanco 12 Gb Ram    786.117   \n",
       "34      Zte Smartphone Blade A54 128gb 4gb Ram Morado    314.900   \n",
       "35  Samsung Galaxy A05s Dual SIM 128 GB morado 6 G...    422.900   \n",
       "36  Xiaomi Redmi 13C Dual SIM 256 GB clover green ...    494.900   \n",
       "37                    Apple iPhone 16 (128 GB) - Rosa  3.789.000   \n",
       "38               Motorola Moto G54 5g 256 Gb 8 Gb Ram    549.900   \n",
       "39  Samsung Galaxy A55 5G Dual SIM 256 GB rosa 8 G...  1.386.900   \n",
       "40        Motorola Moto G04s 128 GB Graphite 4 GB RAM    354.900   \n",
       "41         Apple iPhone 13 (128 GB) - Azul medianoche  2.359.000   \n",
       "42  Motorola Moto G24 Power 256gb Azul Claro 8gb R...    448.900   \n",
       "43  Honor Magic6 Lite Dual SIM 256 GB plateado 8 G...  1.139.900   \n",
       "\n",
       "                                    Calificacion  \\\n",
       "0   Calificación 4.9 de 5 (2,092 calificaciones)   \n",
       "1   Calificación 4.7 de 5 (3,550 calificaciones)   \n",
       "2   Calificación 4.9 de 5 (2,092 calificaciones)   \n",
       "3     Calificación 4.9 de 5 (771 calificaciones)   \n",
       "4   Calificación 4.8 de 5 (2,623 calificaciones)   \n",
       "5     Calificación 4.8 de 5 (802 calificaciones)   \n",
       "6     Calificación 4.8 de 5 (802 calificaciones)   \n",
       "7     Calificación 4.9 de 5 (771 calificaciones)   \n",
       "8     Calificación 4.8 de 5 (826 calificaciones)   \n",
       "9         Calificación 4 de 5 (4 calificaciones)   \n",
       "10      Calificación 4.7 de 5 (7 calificaciones)   \n",
       "11     Calificación 4.9 de 5 (70 calificaciones)   \n",
       "12    Calificación 4.8 de 5 (399 calificaciones)   \n",
       "13    Calificación 4.8 de 5 (302 calificaciones)   \n",
       "14  Calificación 4.8 de 5 (1,163 calificaciones)   \n",
       "15     Calificación 4.5 de 5 (20 calificaciones)   \n",
       "16       Calificación 5 de 5 (28 calificaciones)   \n",
       "17     Calificación 4.5 de 5 (11 calificaciones)   \n",
       "18        Calificación 5 de 5 (2 calificaciones)   \n",
       "19  Calificación 4.8 de 5 (2,623 calificaciones)   \n",
       "20    Calificación 4.8 de 5 (302 calificaciones)   \n",
       "21    Calificación 4.8 de 5 (553 calificaciones)   \n",
       "22  Calificación 4.8 de 5 (2,623 calificaciones)   \n",
       "23        Calificación 5 de 5 (2 calificaciones)   \n",
       "24    Calificación 4.7 de 5 (263 calificaciones)   \n",
       "25      Calificación 4.2 de 5 (6 calificaciones)   \n",
       "26  Calificación 4.8 de 5 (2,623 calificaciones)   \n",
       "27     Calificación 4.9 de 5 (63 calificaciones)   \n",
       "28    Calificación 4.7 de 5 (263 calificaciones)   \n",
       "29  Calificación 4.7 de 5 (3,550 calificaciones)   \n",
       "30     Calificación 4.5 de 5 (20 calificaciones)   \n",
       "31     Calificación 4.7 de 5 (11 calificaciones)   \n",
       "32    Calificación 4.9 de 5 (771 calificaciones)   \n",
       "33     Calificación 4.6 de 5 (83 calificaciones)   \n",
       "34    Calificación 4.8 de 5 (583 calificaciones)   \n",
       "35     Calificación 4.4 de 5 (14 calificaciones)   \n",
       "36    Calificación 4.9 de 5 (115 calificaciones)   \n",
       "37       Calificación 5 de 5 (44 calificaciones)   \n",
       "38    Calificación 4.8 de 5 (583 calificaciones)   \n",
       "39     Calificación 4.9 de 5 (25 calificaciones)   \n",
       "40    Calificación 4.8 de 5 (553 calificaciones)   \n",
       "41     Calificación 4.8 de 5 (30 calificaciones)   \n",
       "42     Calificación 4.5 de 5 (20 calificaciones)   \n",
       "43  Calificación 4.9 de 5 (1,165 calificaciones)   \n",
       "\n",
       "                                                  URL  \n",
       "0   https://www.mercadolibre.com.co/xiaomi-poco-po...  \n",
       "1   https://www.mercadolibre.com.co/xiaomi-redmi-1...  \n",
       "2   https://www.mercadolibre.com.co/xiaomi-poco-po...  \n",
       "3   https://www.mercadolibre.com.co/samsung-galaxy...  \n",
       "4   https://www.mercadolibre.com.co/xiaomi-redmi-n...  \n",
       "5   https://www.mercadolibre.com.co/celular-xiaomi...  \n",
       "6   https://www.mercadolibre.com.co/xiaomi-redmi-n...  \n",
       "7   https://www.mercadolibre.com.co/samsung-galaxy...  \n",
       "8   https://www.mercadolibre.com.co/tecno-spark-20...  \n",
       "9   https://click1.mercadolibre.com.co/mclics/clic...  \n",
       "10        https://publicidad.mercadolibre.com.co/main  \n",
       "11  https://click1.mercadolibre.com.co/mclics/clic...  \n",
       "12        https://publicidad.mercadolibre.com.co/main  \n",
       "13  https://click1.mercadolibre.com.co/mclics/clic...  \n",
       "14        https://publicidad.mercadolibre.com.co/main  \n",
       "15  https://www.mercadolibre.com.co/samsung-galaxy...  \n",
       "16  https://www.mercadolibre.com.co/apple-iphone-1...  \n",
       "17  https://www.mercadolibre.com.co/samsung-galaxy...  \n",
       "18  https://www.mercadolibre.com.co/xiaomi-redmi-n...  \n",
       "19  https://www.mercadolibre.com.co/apple-iphone-1...  \n",
       "20  https://www.mercadolibre.com.co/motorola-edge-...  \n",
       "21  https://click1.mercadolibre.com.co/mclics/clic...  \n",
       "22        https://publicidad.mercadolibre.com.co/main  \n",
       "23  https://click1.mercadolibre.com.co/mclics/clic...  \n",
       "24        https://publicidad.mercadolibre.com.co/main  \n",
       "25  https://click1.mercadolibre.com.co/mclics/clic...  \n",
       "26        https://publicidad.mercadolibre.com.co/main  \n",
       "27  https://articulo.mercadolibre.com.co/MCO-14804...  \n",
       "28  https://www.mercadolibre.com.co/xiaomi-redmi-n...  \n",
       "29  https://articulo.mercadolibre.com.co/MCO-27355...  \n",
       "30  https://www.mercadolibre.com.co/samsung-galaxy...  \n",
       "31  https://articulo.mercadolibre.com.co/MCO-27346...  \n",
       "32  https://articulo.mercadolibre.com.co/MCO-27352...  \n",
       "33  https://www.mercadolibre.com.co/samsung-galaxy...  \n",
       "34  https://www.mercadolibre.com.co/xiaomi-redmi-n...  \n",
       "35  https://articulo.mercadolibre.com.co/MCO-21747...  \n",
       "36  https://www.mercadolibre.com.co/samsung-a05s-4...  \n",
       "37  https://articulo.mercadolibre.com.co/MCO-22288...  \n",
       "38  https://www.mercadolibre.com.co/xiaomi-redmi-n...  \n",
       "39  https://articulo.mercadolibre.com.co/MCO-27352...  \n",
       "40  https://www.mercadolibre.com.co/zte-smartphone...  \n",
       "41  https://www.mercadolibre.com.co/samsung-galaxy...  \n",
       "42  https://www.mercadolibre.com.co/xiaomi-redmi-1...  \n",
       "43  https://www.mercadolibre.com.co/apple-iphone-1...  "
      ]
     },
     "execution_count": 52,
     "metadata": {},
     "output_type": "execute_result"
    }
   ],
   "source": [
    "# Agregar la información a un DataFrame\n",
    "df_Mercadolibre = pd.DataFrame(zip(Producto, Precio, Calificacion, URL), columns=['Producto', 'Precio', 'Calificacion', 'URL'])\n",
    "df_Mercadolibre"
   ]
  },
  {
   "cell_type": "code",
   "execution_count": 27,
   "metadata": {
    "id": "87JiEAISaRhR"
   },
   "outputs": [
    {
     "name": "stderr",
     "output_type": "stream",
     "text": [
      "<>:1: SyntaxWarning: invalid escape sequence '\\d'\n",
      "<>:1: SyntaxWarning: invalid escape sequence '\\d'\n",
      "C:\\Users\\aluca\\AppData\\Local\\Temp\\ipykernel_2076\\1488081479.py:1: SyntaxWarning: invalid escape sequence '\\d'\n",
      "  '''import re\n"
     ]
    },
    {
     "data": {
      "text/plain": [
       "\"import re\\n\\ndef clean_data(df_Mercadolibre):\\n    # Convert text to lowercase in column: 'Producto'\\n    df_Mercadolibre['Producto'] = df_Mercadolibre['Producto'].str.lower()\\n    # Extract first three words from 'Producto' column\\n    df_Mercadolibre['Nombre_Producto'] = df_Mercadolibre['Producto'].apply(lambda x: ' '.join(x.split()[:2]))\\n    df_Mercadolibre['Caracteristicas_Producto'] = df_Mercadolibre['Producto'].apply(lambda x: ' '.join(x.split()[2:]))\\n    # Convertir la columna Precio a variable numérica\\n    df_Mercadolibre['Precio'] = df_Mercadolibre['Precio'].str.replace('.', '').astype(float)\\n    # Extract rating value from 'Calificacion' column and handle missing values\\n    df_Mercadolibre['Valor_Calificacion'] = df_Mercadolibre['Calificacion'].str.extract(r'(\\\\d\\\\.\\\\d)').fillna(df_Mercadolibre['Calificacion'].str.extract(r'(\\\\d)').astype(float))\\n    # Convert the extracted values to float\\n    df_Mercadolibre['Valor_Calificacion'] = df_Mercadolibre['Valor_Calificacion'].astype(float)\\n    # Extract text within parentheses from 'Calificacion' column\\n    df_Mercadolibre['Calificacion_temp'] = df_Mercadolibre['Calificacion'].apply(lambda x: re.search(r'\\\\((.*?)\\\\)', x).group(1))\\n    # Remove 'calificaciones' and spaces, replace ',' with '.', convert to numeric\\n    df_Mercadolibre['Calificacion_temp'] = df_Mercadolibre['Calificacion_temp'].str.replace(' calificaciones', '').str.replace(' ', '').str.replace(',', '.').astype(float)\\n    return df_Mercadolibre\\n\\ndf_Mercadolibre_clean = clean_data(df_Mercadolibre.copy())\\ndf_Mercadolibre_clean.head()\\n\""
      ]
     },
     "execution_count": 27,
     "metadata": {},
     "output_type": "execute_result"
    }
   ],
   "source": [
    "'''import re\n",
    "\n",
    "def clean_data(df_Mercadolibre):\n",
    "    # Convert text to lowercase in column: 'Producto'\n",
    "    df_Mercadolibre['Producto'] = df_Mercadolibre['Producto'].str.lower()\n",
    "    # Extract first three words from 'Producto' column\n",
    "    df_Mercadolibre['Nombre_Producto'] = df_Mercadolibre['Producto'].apply(lambda x: ' '.join(x.split()[:2]))\n",
    "    df_Mercadolibre['Caracteristicas_Producto'] = df_Mercadolibre['Producto'].apply(lambda x: ' '.join(x.split()[2:]))\n",
    "    # Convertir la columna Precio a variable numérica\n",
    "    df_Mercadolibre['Precio'] = df_Mercadolibre['Precio'].str.replace('.', '').astype(float)\n",
    "    # Extract rating value from 'Calificacion' column and handle missing values\n",
    "    df_Mercadolibre['Valor_Calificacion'] = df_Mercadolibre['Calificacion'].str.extract(r'(\\d\\.\\d)').fillna(df_Mercadolibre['Calificacion'].str.extract(r'(\\d)').astype(float))\n",
    "    # Convert the extracted values to float\n",
    "    df_Mercadolibre['Valor_Calificacion'] = df_Mercadolibre['Valor_Calificacion'].astype(float)\n",
    "    # Extract text within parentheses from 'Calificacion' column\n",
    "    df_Mercadolibre['Calificacion_temp'] = df_Mercadolibre['Calificacion'].apply(lambda x: re.search(r'\\((.*?)\\)', x).group(1))\n",
    "    # Remove 'calificaciones' and spaces, replace ',' with '.', convert to numeric\n",
    "    df_Mercadolibre['Calificacion_temp'] = df_Mercadolibre['Calificacion_temp'].str.replace(' calificaciones', '').str.replace(' ', '').str.replace(',', '.').astype(float)\n",
    "    return df_Mercadolibre\n",
    "\n",
    "df_Mercadolibre_clean = clean_data(df_Mercadolibre.copy())\n",
    "df_Mercadolibre_clean.head()\n",
    "'''"
   ]
  },
  {
   "cell_type": "code",
   "execution_count": 26,
   "metadata": {
    "id": "3ynJEEBJaRe8"
   },
   "outputs": [],
   "source": [
    "# Seleccionar columnas relevantes para el nuevo dataframe\n",
    "#df_Mercadolibre_atributos = df_Mercadolibre_clean[['Nombre_Producto', 'Caracteristicas_Producto', 'Precio', 'Valor_Calificacion', 'Calificacion_temp', 'URL']]\n",
    "#df_Mercadolibre_atributos.head()"
   ]
  },
  {
   "cell_type": "code",
   "execution_count": null,
   "metadata": {
    "id": "yvdS97kBaRcU"
   },
   "outputs": [],
   "source": [
    "import requests\n",
    "from bs4 import BeautifulSoup\n",
    "import pandas as pd\n",
    "\n",
    "\n",
    "# Crear listas para almacenar datos adicionales\n",
    "Vendedor = []\n",
    "Calificacion_Vendedor = []\n",
    "Comentarios_num = []\n",
    "\n",
    "# Headers para simular un navegador web, esto ayuda a evitar bloqueos por parte del servidor.\n",
    "headers = {\n",
    "    \"User-Agent\": \"Mozilla/5.0 (Windows NT 10.0; Win64; x64) AppleWebKit/537.36 (KHTML, like Gecko) Chrome/91.0.4472.124 Safari/537.36\"\n",
    "}\n",
    "\n",
    "# Iterar sobre las URLs de productos\n",
    "for url in df_Mercadolibre['URL']:\n",
    "    try:\n",
    "        response = requests.get(url, headers=headers)\n",
    "        soup = BeautifulSoup(response.text, \"html.parser\")\n",
    "        \n",
    "        # Extraer el nombre del vendedor\n",
    "        vendedor = soup.find('span', {'class': 'ui-pdp-color--BLACK ui-pdp-size--LARGE ui-pdp-family--REGULAR ui-seller-data-header__title non-selectable'})\n",
    "        Vendedor.append(vendedor.text.strip() if vendedor else \"N/A\")\n",
    "        \n",
    "        # Extraer la calificación del vendedor\n",
    "        calificacion_vendedor = soup.find('div', {'class': 'ui-seller-data-status__lider-seller'})\n",
    "        Calificacion_Vendedor.append(calificacion_vendedor.text.strip() if calificacion_vendedor else \"N/A\")\n",
    "        \n",
    "        # Extraer cantidad de comentarios del producto\n",
    "        comentarios = soup.find_all('span', {'class': 'total-opinion'})\n",
    "        comentarios_texto = [comentario.text.strip() for comentario in comentarios]\n",
    "        Comentarios_num.append(comentarios_texto if comentarios_texto else [\"Sin comentarios\"])\n",
    "\n",
    "    except Exception as e:\n",
    "        print(f\"Error al procesar {url}: {e}\")\n",
    "        Vendedor.append(\"Error\")\n",
    "        Calificacion_Vendedor.append(\"Error\")\n",
    "        Comentarios.append([\"Error\"])\n",
    "\n",
    "# Agregar los nuevos datos al DataFrame original\n",
    "df_Mercadolibre['Vendedor'] = Vendedor\n",
    "df_Mercadolibre['Calificacion_Vendedor'] = Calificacion_Vendedor\n",
    "df_Mercadolibre['Comentarios'] = Comentarios_num\n",
    "\n",
    "\n",
    "\n"
   ]
  },
  {
   "cell_type": "code",
   "execution_count": 55,
   "metadata": {
    "id": "NlLwCX0caRZs"
   },
   "outputs": [
    {
     "data": {
      "text/html": [
       "<div>\n",
       "<style scoped>\n",
       "    .dataframe tbody tr th:only-of-type {\n",
       "        vertical-align: middle;\n",
       "    }\n",
       "\n",
       "    .dataframe tbody tr th {\n",
       "        vertical-align: top;\n",
       "    }\n",
       "\n",
       "    .dataframe thead th {\n",
       "        text-align: right;\n",
       "    }\n",
       "</style>\n",
       "<table border=\"1\" class=\"dataframe\">\n",
       "  <thead>\n",
       "    <tr style=\"text-align: right;\">\n",
       "      <th></th>\n",
       "      <th>Producto</th>\n",
       "      <th>Precio</th>\n",
       "      <th>Calificacion</th>\n",
       "      <th>URL</th>\n",
       "      <th>Vendedor</th>\n",
       "      <th>Calificacion_Vendedor</th>\n",
       "      <th>Comentarios</th>\n",
       "    </tr>\n",
       "  </thead>\n",
       "  <tbody>\n",
       "    <tr>\n",
       "      <th>0</th>\n",
       "      <td>Xiaomi POCO Poco X6 Pro 5G Dual SIM 512 GB neg...</td>\n",
       "      <td>1.304.900</td>\n",
       "      <td>Calificación 4.9 de 5 (2,092 calificaciones)</td>\n",
       "      <td>https://www.mercadolibre.com.co/xiaomi-poco-po...</td>\n",
       "      <td>Vendido por CELUMOVIL STORE</td>\n",
       "      <td>MercadoLíder Platinum¡Uno de los mejores del s...</td>\n",
       "      <td>[713 comentarios]</td>\n",
       "    </tr>\n",
       "    <tr>\n",
       "      <th>1</th>\n",
       "      <td>Xiaomi Redmi 13C Dual SIM 256 GB midnight blac...</td>\n",
       "      <td>479.940</td>\n",
       "      <td>Calificación 4.7 de 5 (3,550 calificaciones)</td>\n",
       "      <td>https://www.mercadolibre.com.co/xiaomi-redmi-1...</td>\n",
       "      <td>Vendido por OFFERBUYS</td>\n",
       "      <td>MercadoLíder Platinum¡Uno de los mejores del s...</td>\n",
       "      <td>[993 comentarios]</td>\n",
       "    </tr>\n",
       "    <tr>\n",
       "      <th>2</th>\n",
       "      <td>Xiaomi POCO Poco X6 Pro 5G Dual SIM 512 GB ama...</td>\n",
       "      <td>1.304.900</td>\n",
       "      <td>Calificación 4.9 de 5 (2,092 calificaciones)</td>\n",
       "      <td>https://www.mercadolibre.com.co/xiaomi-poco-po...</td>\n",
       "      <td>Vendido por CELUMOVIL STORE</td>\n",
       "      <td>MercadoLíder Platinum¡Uno de los mejores del s...</td>\n",
       "      <td>[713 comentarios]</td>\n",
       "    </tr>\n",
       "    <tr>\n",
       "      <th>3</th>\n",
       "      <td>Samsung Galaxy A55 5G Dual SIM 256 GB azul cla...</td>\n",
       "      <td>1.387.900</td>\n",
       "      <td>Calificación 4.9 de 5 (771 calificaciones)</td>\n",
       "      <td>https://www.mercadolibre.com.co/samsung-galaxy...</td>\n",
       "      <td>Vendido por CELUMOVIL STORE</td>\n",
       "      <td>MercadoLíder Platinum¡Uno de los mejores del s...</td>\n",
       "      <td>[212 comentarios]</td>\n",
       "    </tr>\n",
       "    <tr>\n",
       "      <th>4</th>\n",
       "      <td>Xiaomi Redmi Note 13 4G Dual SIM 256 GB negro ...</td>\n",
       "      <td>597.900</td>\n",
       "      <td>Calificación 4.8 de 5 (2,623 calificaciones)</td>\n",
       "      <td>https://www.mercadolibre.com.co/xiaomi-redmi-n...</td>\n",
       "      <td>Vendido por XINGTEC</td>\n",
       "      <td>MercadoLíder Platinum¡Uno de los mejores del s...</td>\n",
       "      <td>[721 comentarios]</td>\n",
       "    </tr>\n",
       "  </tbody>\n",
       "</table>\n",
       "</div>"
      ],
      "text/plain": [
       "                                            Producto     Precio  \\\n",
       "0  Xiaomi POCO Poco X6 Pro 5G Dual SIM 512 GB neg...  1.304.900   \n",
       "1  Xiaomi Redmi 13C Dual SIM 256 GB midnight blac...    479.940   \n",
       "2  Xiaomi POCO Poco X6 Pro 5G Dual SIM 512 GB ama...  1.304.900   \n",
       "3  Samsung Galaxy A55 5G Dual SIM 256 GB azul cla...  1.387.900   \n",
       "4  Xiaomi Redmi Note 13 4G Dual SIM 256 GB negro ...    597.900   \n",
       "\n",
       "                                   Calificacion  \\\n",
       "0  Calificación 4.9 de 5 (2,092 calificaciones)   \n",
       "1  Calificación 4.7 de 5 (3,550 calificaciones)   \n",
       "2  Calificación 4.9 de 5 (2,092 calificaciones)   \n",
       "3    Calificación 4.9 de 5 (771 calificaciones)   \n",
       "4  Calificación 4.8 de 5 (2,623 calificaciones)   \n",
       "\n",
       "                                                 URL  \\\n",
       "0  https://www.mercadolibre.com.co/xiaomi-poco-po...   \n",
       "1  https://www.mercadolibre.com.co/xiaomi-redmi-1...   \n",
       "2  https://www.mercadolibre.com.co/xiaomi-poco-po...   \n",
       "3  https://www.mercadolibre.com.co/samsung-galaxy...   \n",
       "4  https://www.mercadolibre.com.co/xiaomi-redmi-n...   \n",
       "\n",
       "                      Vendedor  \\\n",
       "0  Vendido por CELUMOVIL STORE   \n",
       "1        Vendido por OFFERBUYS   \n",
       "2  Vendido por CELUMOVIL STORE   \n",
       "3  Vendido por CELUMOVIL STORE   \n",
       "4          Vendido por XINGTEC   \n",
       "\n",
       "                               Calificacion_Vendedor        Comentarios  \n",
       "0  MercadoLíder Platinum¡Uno de los mejores del s...  [713 comentarios]  \n",
       "1  MercadoLíder Platinum¡Uno de los mejores del s...  [993 comentarios]  \n",
       "2  MercadoLíder Platinum¡Uno de los mejores del s...  [713 comentarios]  \n",
       "3  MercadoLíder Platinum¡Uno de los mejores del s...  [212 comentarios]  \n",
       "4  MercadoLíder Platinum¡Uno de los mejores del s...  [721 comentarios]  "
      ]
     },
     "execution_count": 55,
     "metadata": {},
     "output_type": "execute_result"
    }
   ],
   "source": [
    "# Mostrar el DataFrame con los nuevos datos\n",
    "df_Mercadolibre.head()\n"
   ]
  },
  {
   "cell_type": "code",
   "execution_count": 57,
   "metadata": {},
   "outputs": [
    {
     "data": {
      "text/plain": [
       "[['OrdenarCalificaciónOpiniones destacadas713 comentariosCalificación 5 de 511 feb. 2024Una bestia de celular, corre todos los juegos a 60 y 129 fps le hice pruebas en antutu y marco 1384522, no solo eso su cámara se defiende muy bien en sitios donde hay luz y la calidad de video es una locura para el precio que tiene es lo mejor del mercado.Es útil168 Reportar Calificación 5 de 530 ene. 2024Es un dispositivo muy poderoso,muchas gracias.Es útil60 Reportar Calificación 5 de 531 ene. 2024Es útil47 Reportar'],\n",
       " ['OrdenarCalificaciónOpiniones destacadas993 comentariosEs un teléfono excelente con buen rendimiento y duración de batería. Es una opción confiable para uso diario, con buena capacidad de memoria y velocidad suficiente.Resumen basado en opiniones de compradoresEs útil29Calificación 4 de 504 dic. 2023Buen teléfono relación calidad precio, muy bueno para uso diario para una persona que solo usen redes sociales y una que otra cosa básica, por el precio es el de mejor especificaciones.Es útil44 Reportar Calificación 5 de 515 dic. 2023Muy buen producto.Es útil33 Reportar'],\n",
       " ['OrdenarCalificaciónOpiniones destacadas713 comentariosCalificación 5 de 511 feb. 2024Una bestia de celular, corre todos los juegos a 60 y 129 fps le hice pruebas en antutu y marco 1384522, no solo eso su cámara se defiende muy bien en sitios donde hay luz y la calidad de video es una locura para el precio que tiene es lo mejor del mercado.Es útil168 Reportar Calificación 5 de 530 ene. 2024Es un dispositivo muy poderoso,muchas gracias.Es útil60 Reportar Calificación 5 de 531 ene. 2024Es útil47 Reportar'],\n",
       " ['OrdenarCalificaciónOpiniones destacadas212 comentariosCalificación 5 de 505 jun. 2024Llevo ya casi un mes con él y es un excelente producto, es super rápido, tiene un montón de opciones de personalización, todas sus cámaras son excelentes especialmente para contenido en redes; si es un poco grande pero se acostumbra la mano igual para eso recomiendo accesorios como popsockets o cosas similares; tiene mucho almacenamiento, la batería le dura todo el día sin problema, el único fallo que le veo en cuestión de batería es que la carga rápida no es tan rápida xd y se demora entre 1h 40 minutos a 2h cargando. En conclusión es un excelente producto, lo amo 💕. (las fotos están sin editar y fueron tomadas con la cámara principal de atrás y con la frontal).Es útil146 Reportar Calificación 5 de 518 abr. 2024Recibí tal cuál lo que quería, no me quejaré de alguna especificación del celular porque fui consciente de todo antes de la compra. Personalmente, amé las cámaras, duración de la batería, precio, one iu 6. 1, color y terminado del celular, esas son sólo algunas de muchas más características que hacen valer la pena a este gran dispositivo gama media casi alta.\\nPara concluir, verifiqué la autenticidad del celular y todo bien, recomendado 💗.\\n*no olviden registrar el imei con su operador de preferencia para evitar bloqueos!!!.Es útil53 Reportar Calificación 5 de 527 abr. 2024Es útil32 Reportar'],\n",
       " ['OrdenarCalificaciónOpiniones destacadas721 comentariosEs un equipo con una excelente relación calidadprecio, adecuado para tareas cotidianas y uso diario. Destaca por su diseño liviano, delgado y estético, así como por su pantalla de alta calidad y buena fluidez general.Resumen basado en opiniones de compradoresEs útil19Calificación 5 de 517 feb. 2024En teléfono por ese precio. Realmente xiaomi lo hace muy bien con esta línea de teléfonos. La cámara es lo único decepcionante pero por lo demás un 10 de 10 y más si lo consiguen con cupón de descuento.Es útil57 Reportar Calificación 5 de 517 mar. 2024Muy bueno, aunque no tenga 5g no importa ya que en varias partes de colombia no hay esa señal, además de tener muy buena conexión al 4g a comparación de mi antiguo celular redmi note 8. La batería dura mucho y el rendimiento del celular es exelente.Es útil39 Reportar'],\n",
       " ['OrdenarCalificaciónOpiniones destacadas210 comentariosCalificación 5 de 525 ago. 2024Está bueno y funciona bien, esperemos que no salga chimbo, como mi ex.Es útil59 Reportar Calificación 5 de 513 ago. 2024Me parece un movil muy bonito, tiene un duracion de bateria excelente.Es útil18 Reportar Calificación 5 de 524 abr. 2024Buen equipo, vengo de usar un redmi note 9, y vaya la diferencia, bastante fluido, transiciones suaves, buen espacio, recomendado si no quieres hacer un gasto tan grande y tener buenas prestaciones.Es útil9 Reportar'],\n",
       " ['OrdenarCalificaciónOpiniones destacadas210 comentariosCalificación 5 de 525 ago. 2024Está bueno y funciona bien, esperemos que no salga chimbo, como mi ex.Es útil59 Reportar Calificación 5 de 513 ago. 2024Me parece un movil muy bonito, tiene un duracion de bateria excelente.Es útil18 Reportar Calificación 5 de 524 abr. 2024Buen equipo, vengo de usar un redmi note 9, y vaya la diferencia, bastante fluido, transiciones suaves, buen espacio, recomendado si no quieres hacer un gasto tan grande y tener buenas prestaciones.Es útil9 Reportar'],\n",
       " ['OrdenarCalificaciónOpiniones destacadas212 comentariosCalificación 5 de 505 jun. 2024Llevo ya casi un mes con él y es un excelente producto, es super rápido, tiene un montón de opciones de personalización, todas sus cámaras son excelentes especialmente para contenido en redes; si es un poco grande pero se acostumbra la mano igual para eso recomiendo accesorios como popsockets o cosas similares; tiene mucho almacenamiento, la batería le dura todo el día sin problema, el único fallo que le veo en cuestión de batería es que la carga rápida no es tan rápida xd y se demora entre 1h 40 minutos a 2h cargando. En conclusión es un excelente producto, lo amo 💕. (las fotos están sin editar y fueron tomadas con la cámara principal de atrás y con la frontal).Es útil146 Reportar Calificación 5 de 518 abr. 2024Recibí tal cuál lo que quería, no me quejaré de alguna especificación del celular porque fui consciente de todo antes de la compra. Personalmente, amé las cámaras, duración de la batería, precio, one iu 6. 1, color y terminado del celular, esas son sólo algunas de muchas más características que hacen valer la pena a este gran dispositivo gama media casi alta.\\nPara concluir, verifiqué la autenticidad del celular y todo bien, recomendado 💗.\\n*no olviden registrar el imei con su operador de preferencia para evitar bloqueos!!!.Es útil53 Reportar Calificación 5 de 527 abr. 2024Es útil32 Reportar'],\n",
       " ['OrdenarCalificaciónOpiniones destacadas262 comentariosEs un celular excelente que destaca por su buena calidad de materiales y fluidez en el uso de aplicaciones. Cumple con las especificaciones y tiene una cámara y sonido destacables, además de una batería con buena duración.Resumen basado en opiniones de compradoresEs útil8Calificación 5 de 516 ene. 2024Es el mejor celular para su precio. Lo compré para mi hijo y le descargó juegos que pesan más de 30 gigas y los corre muy bien. Así que para ser un teléfono gama media baja es excelente.Es útil34 Reportar Calificación 4 de 514 ene. 2024Lo he probado por 30 días, y hasta la fecha ha cumplido con los estándares prometidos. Estoy satisfecho. Gracias.Es útil26 Reportar'],\n",
       " ['Opiniones destacadas2 comentariosCalificación 5 de 506 nov. 2024Fue un regalo para mi madre, quien habia tenido un telefono acabado por los golpes y el paso de los años. Al comprar este, confio en qeu su duración y cpacidades seran suficientes pra su corazon y sus necesidades.Es útil0 Reportar Calificación 5 de 512 oct. 2024Hasta el momento a gusto con la compra, relación precio calidad me parece que está bien.\\nDe igual forma voy ir probándolo mientras se tienen aún vigentes los días de satisfacción que ofrece mercado libre y su compra protegida.\\nEn términos generales todo bien.Es útil0 Reportar'],\n",
       " ['Sin comentarios'],\n",
       " ['Sin comentarios'],\n",
       " ['Sin comentarios'],\n",
       " ['Opiniones destacadas1 comentarioCalificación 5 de 526 oct. 2024Excelente para mis abuelos 😁.Es útil0 Reportar'],\n",
       " ['Sin comentarios'],\n",
       " ['OrdenarCalificaciónOpiniones destacadas27 comentariosEl teléfono ofrece una excelente calidad y cumple con las expectativas en fotografía y video. Es un equipo maravilloso que destaca en inteligencia artificial y videojuegos. Además, su relación calidadprecio es notable, siendo un producto 10/10.Resumen basado en opiniones de compradoresEs útil8Calificación 4 de 513 jun. 2024Buen producto, pero parece que viene destapado y le ponen otro sello.Es útil37 Reportar Calificación 5 de 519 abr. 2024Creo que lo definitivamente malo es que no traiga cargador por todo lo que se paga, de resto es un super equipo.Es útil14 Reportar'],\n",
       " ['OrdenarCalificaciónOpiniones destacadas129 comentariosEl producto se recibió en perfecto estado y funciona correctamente. Es un teléfono celular de excelente calidad, con buen rendimiento y funciones avanzadas.Resumen basado en opiniones de compradoresEs útil15Calificación 5 de 507 abr. 2024El producto es nuevo. Pero es versión china. Igual, no me incomodan las restricciones.Es útil52 Reportar Calificación 5 de 530 may. 2024Después de un mes de uso constante puedo decir que lo volvería a comprar sin dudarlo un segundo. Es más o menos el mismo precio al cual se conseguiría en us, solo que allá cobran un impuesto adicional, o sea que en realidad sale más barato por aquí. Por lo demás, es un iphone 15 original y las restricciones que han mencionado en otras reseñas no me han afectado en lo absoluto. Cómpralo sin dudar, es hermoso!.Es útil32 Reportar'],\n",
       " ['OrdenarCalificaciónOpiniones destacadas100 comentariosOfrece una excelente relación calidadprecio, destacando por su diseño atractivo y funcionamiento fluido. La batería tiene una duración prolongada y la pantalla es ideal para ver series y películas.Resumen basado en opiniones de compradoresEs útil8Calificación 5 de 521 may. 2024Le compré el celular a mi esposa, hizo el cambio de iphone a samsung y la verdad la diferencia es notable. Ya no tiene que estar cargando el iphone cada rato.\\nLa cámara trasera es excelente y la cámara frontal es buena. El rendimiento que ofrece es notable al usar varias apps, también resiste salpicaduras lo cuál es bueno para cuando llueve.\\nEn resumen, es mejor que las porcelanas del iphone.Es útil44 Reportar Calificación 5 de 511 abr. 2024Muy bueno producto.Es útil11 Reportar'],\n",
       " ['OrdenarCalificaciónOpiniones destacadas389 comentariosCalificación 5 de 527 feb. 2024El celular está bien equipado con la batería que dura el día completo o medio día si lo usas bastante en juegos y aplicaciones de streaming, la carga es supremamente veloz en tan solo 24 minutos tienes batería al 100%, su pantalla es nítida y la tasa de refresco es bastante fluida en mi opinión está bien completo para ser gama media , lo malo es que no tiene carga inalámbrica y los gestos son los mismo que siempre ha manejado deberior haber innovado en esa parte del resto muy buen equipo.Es útil39 Reportar Calificación 5 de 514 feb. 2024Muy bonito.Es útil21 Reportar Calificación 5 de 507 feb. 2024Excelente celular, con buena cámara, carga súper rápido.Es útil20 Reportar'],\n",
       " ['OrdenarCalificaciónOpiniones destacadas6 comentariosCalificación 4 de 528 oct. 2024El único inconveniente es que no tiene la entrada de sim física.Es útil12 Reportar Calificación 5 de 505 nov. 2024Acorde a lo esperado, versión norteamericana sin slot para simcard física.\\nExcelente equipo!.Es útil4 Reportar Calificación 5 de 505 nov. 2024Es útil2 Reportar'],\n",
       " ['OrdenarCalificaciónOpiniones destacadas10 comentariosCalificación 5 de 504 nov. 2024Me gusto el teléfono, es cierto el tema del aroma (la caja huele a perfume) punto para motorola, el teléfono tiene una buena cámara trasera y una buena cámara frontal, el teléfono es ultra delgado, la pantalla me gusto, el sonido no es tan alto como en otros dispositivos motorola. En fin para su precio tiene muy buenas características y cumple con su función, no viene con los audífonos pero trae su funda y cargador de carga rápida con el cual demora un poco más de media hora en cargar al 100%.Es útil2 Reportar Calificación 5 de 518 oct. 2024Excelente producto, cumplió todas las expectativas.Es útil2 Reportar Calificación 5 de 515 nov. 2024Es muy cómodo de usar tiene un buen rendimiento y unas cámaras muy buenas acordes a su precio la verdad fue una muy buena compra y lo recomiendo totalmente a las personas que lo quieran comprar.Es útil1 Reportar'],\n",
       " ['Sin comentarios'],\n",
       " ['Sin comentarios'],\n",
       " ['Sin comentarios'],\n",
       " ['Sin comentarios'],\n",
       " ['OrdenarCalificaciónOpiniones destacadas5 comentariosCalificación 5 de 505 oct. 2024Ya lo probé , todo funciona a la perfección.Es útil0 Reportar Calificación 5 de 515 nov. 2024Muy bueno a buen precio y de muy buena calidad.Es útil0 Reportar Calificación 5 de 525 oct. 2024Excelente producto muy recomendado.Es útil0 Reportar'],\n",
       " ['Sin comentarios'],\n",
       " ['Este producto aún no tiene comentarios.Al comprarlo y compartir tu opinión, estarás ayudando a la comunidad.'],\n",
       " ['OrdenarCalificaciónOpiniones destacadas721 comentariosEs un equipo con una excelente relación calidadprecio, adecuado para tareas cotidianas y uso diario. Destaca por su diseño liviano, delgado y estético, así como por su pantalla de alta calidad y buena fluidez general.Resumen basado en opiniones de compradoresEs útil19Calificación 5 de 517 feb. 2024En teléfono por ese precio. Realmente xiaomi lo hace muy bien con esta línea de teléfonos. La cámara es lo único decepcionante pero por lo demás un 10 de 10 y más si lo consiguen con cupón de descuento.Es útil57 Reportar Calificación 5 de 517 mar. 2024Muy bueno, aunque no tenga 5g no importa ya que en varias partes de colombia no hay esa señal, además de tener muy buena conexión al 4g a comparación de mi antiguo celular redmi note 8. La batería dura mucho y el rendimiento del celular es exelente.Es útil39 Reportar'],\n",
       " ['Sin comentarios'],\n",
       " ['OrdenarCalificaciónOpiniones destacadas100 comentariosOfrece una excelente relación calidadprecio, destacando por su diseño atractivo y funcionamiento fluido. La batería tiene una duración prolongada y la pantalla es ideal para ver series y películas.Resumen basado en opiniones de compradoresEs útil8Calificación 5 de 521 may. 2024Le compré el celular a mi esposa, hizo el cambio de iphone a samsung y la verdad la diferencia es notable. Ya no tiene que estar cargando el iphone cada rato.\\nLa cámara trasera es excelente y la cámara frontal es buena. El rendimiento que ofrece es notable al usar varias apps, también resiste salpicaduras lo cuál es bueno para cuando llueve.\\nEn resumen, es mejor que las porcelanas del iphone.Es útil44 Reportar Calificación 5 de 511 abr. 2024Muy bueno producto.Es útil11 Reportar'],\n",
       " ['Sin comentarios'],\n",
       " ['Sin comentarios'],\n",
       " ['OrdenarCalificaciónOpiniones destacadas166 comentariosEs un equipo de excelente calidad con una pantalla fluida y una cámara destacada. Ofrece un buen rendimiento gracias a su procesador y capacidad de almacenamiento, siendo rápido y con una batería que dura todo el día.Resumen basado en opiniones de compradoresEs útil14Calificación 4 de 516 may. 2024Exelente producto, lastima que venga sin cargador.Es útil20 Reportar Calificación 5 de 520 abr. 2024Me gusto el teléfono.Es útil9 Reportar'],\n",
       " ['OrdenarCalificaciónOpiniones destacadas721 comentariosEs un equipo con una excelente relación calidadprecio, adecuado para tareas cotidianas y uso diario. Destaca por su diseño liviano, delgado y estético, así como por su pantalla de alta calidad y buena fluidez general.Resumen basado en opiniones de compradoresEs útil19Calificación 5 de 517 feb. 2024En teléfono por ese precio. Realmente xiaomi lo hace muy bien con esta línea de teléfonos. La cámara es lo único decepcionante pero por lo demás un 10 de 10 y más si lo consiguen con cupón de descuento.Es útil57 Reportar Calificación 5 de 517 mar. 2024Muy bueno, aunque no tenga 5g no importa ya que en varias partes de colombia no hay esa señal, además de tener muy buena conexión al 4g a comparación de mi antiguo celular redmi note 8. La batería dura mucho y el rendimiento del celular es exelente.Es útil39 Reportar'],\n",
       " ['Este producto aún no tiene comentarios.Al comprarlo y compartir tu opinión, estarás ayudando a la comunidad.'],\n",
       " ['OrdenarCalificaciónOpiniones destacadas86 comentariosOfrece una excelente relación calidad/precio y un diseño elegante. En general, es un equipo bonito, resistente y funcional, ideal para quienes buscan un buen rendimiento a un precio accesible.Resumen basado en opiniones de compradoresEs útil5Calificación 5 de 528 feb. 2024Solo trae el cable usb, no trae el adaptador y es tipo c.Es útil8 Reportar Calificación 5 de 518 ago. 2024Recomendado, viene libre sin operadores móviles.Es útil7 Reportar'],\n",
       " ['Este producto aún no tiene comentarios.Al comprarlo y compartir tu opinión, estarás ayudando a la comunidad.'],\n",
       " ['OrdenarCalificaciónOpiniones destacadas721 comentariosEs un equipo con una excelente relación calidadprecio, adecuado para tareas cotidianas y uso diario. Destaca por su diseño liviano, delgado y estético, así como por su pantalla de alta calidad y buena fluidez general.Resumen basado en opiniones de compradoresEs útil19Calificación 5 de 517 feb. 2024En teléfono por ese precio. Realmente xiaomi lo hace muy bien con esta línea de teléfonos. La cámara es lo único decepcionante pero por lo demás un 10 de 10 y más si lo consiguen con cupón de descuento.Es útil57 Reportar Calificación 5 de 517 mar. 2024Muy bueno, aunque no tenga 5g no importa ya que en varias partes de colombia no hay esa señal, además de tener muy buena conexión al 4g a comparación de mi antiguo celular redmi note 8. La batería dura mucho y el rendimiento del celular es exelente.Es útil39 Reportar'],\n",
       " ['Sin comentarios'],\n",
       " ['OrdenarCalificaciónOpiniones destacadas21 comentariosCalificación 5 de 525 sep. 2024Gran celular ,buenas prestaciones, excelente precio para quien no puede invertir mucho en uno nuevo.Es útil5 Reportar Calificación 5 de 501 ago. 2024Es excelente producto quede sorprendido de la bacteria.Es útil5 Reportar Calificación 5 de 530 jun. 2024Es bueno con respecto a la calidad / precio.\\nRecomendado.Es útil3 Reportar'],\n",
       " ['OrdenarCalificaciónOpiniones destacadas86 comentariosOfrece una excelente relación calidad/precio y un diseño elegante. En general, es un equipo bonito, resistente y funcional, ideal para quienes buscan un buen rendimiento a un precio accesible.Resumen basado en opiniones de compradoresEs útil5Calificación 5 de 528 feb. 2024Solo trae el cable usb, no trae el adaptador y es tipo c.Es útil8 Reportar Calificación 5 de 518 ago. 2024Recomendado, viene libre sin operadores móviles.Es útil7 Reportar'],\n",
       " ['OrdenarCalificaciónOpiniones destacadas993 comentariosEs un teléfono excelente con buen rendimiento y duración de batería. Es una opción confiable para uso diario, con buena capacidad de memoria y velocidad suficiente.Resumen basado en opiniones de compradoresEs útil29Calificación 4 de 504 dic. 2023Buen teléfono relación calidad precio, muy bueno para uso diario para una persona que solo usen redes sociales y una que otra cosa básica, por el precio es el de mejor especificaciones.Es útil44 Reportar Calificación 5 de 515 dic. 2023Muy buen producto.Es útil33 Reportar'],\n",
       " ['OrdenarCalificaciónOpiniones destacadas6 comentariosCalificación 4 de 528 oct. 2024El único inconveniente es que no tiene la entrada de sim física.Es útil12 Reportar Calificación 5 de 505 nov. 2024Acorde a lo esperado, versión norteamericana sin slot para simcard física.\\nExcelente equipo!.Es útil4 Reportar Calificación 5 de 505 nov. 2024Es útil2 Reportar']]"
      ]
     },
     "execution_count": 57,
     "metadata": {},
     "output_type": "execute_result"
    }
   ],
   "source": [
    "import requests\n",
    "from bs4 import BeautifulSoup\n",
    "import pandas as pd\n",
    "#Lista donde vamos a guardar los comentarios\n",
    "Comentario = []\n",
    "\n",
    "# Headers para simular un navegador\n",
    "headers = {\n",
    "    \"User-Agent\": \"Mozilla/5.0 (Windows NT 10.0; Win64; x64) AppleWebKit/537.36 (KHTML, like Gecko) Chrome/91.0.4472.124 Safari/537.36\"\n",
    "}\n",
    "\n",
    "# Iterar sobre las URLs de productos en busqueda de los comentarios\n",
    "for url in df_Mercadolibre['URL']:\n",
    "    try:\n",
    "        response = requests.get(url, headers=headers)\n",
    "        soup = BeautifulSoup(response.text, \"html.parser\")\n",
    "        \n",
    "        # Extraer los comentarios\n",
    "        comentarios = soup.find_all('div', {'data-testid': 'filter-component'})\n",
    "        comentarios_texto = [comentario.text.strip() for comentario in comentarios]\n",
    "        Comentario.append(comentarios_texto if comentarios_texto else [\"Sin comentarios\"])\n",
    "\n",
    "    except Exception as e:\n",
    "        print(f\"Error al procesar {url}: {e}\")\n",
    "        Comentario.append([\"Error\"])\n",
    "\n",
    "# Agregar los nuevos datos al DataFrame original\n",
    "#df_Mercadolibre['Comentario'] = Comentario\n",
    "Comentario\n",
    "\n"
   ]
  },
  {
   "cell_type": "code",
   "execution_count": 45,
   "metadata": {
    "id": "C5WyKomoaRUk"
   },
   "outputs": [],
   "source": [
    "df_test = pd.DataFrame(zip(Comentario), columns=['Comentario'])"
   ]
  },
  {
   "cell_type": "code",
   "execution_count": null,
   "metadata": {
    "id": "jZCxy_7OaRSE"
   },
   "outputs": [
    {
     "data": {
      "text/html": [
       "<div>\n",
       "<style scoped>\n",
       "    .dataframe tbody tr th:only-of-type {\n",
       "        vertical-align: middle;\n",
       "    }\n",
       "\n",
       "    .dataframe tbody tr th {\n",
       "        vertical-align: top;\n",
       "    }\n",
       "\n",
       "    .dataframe thead th {\n",
       "        text-align: right;\n",
       "    }\n",
       "</style>\n",
       "<table border=\"1\" class=\"dataframe\">\n",
       "  <thead>\n",
       "    <tr style=\"text-align: right;\">\n",
       "      <th></th>\n",
       "      <th>Comentario</th>\n",
       "      <th>Producto</th>\n",
       "    </tr>\n",
       "  </thead>\n",
       "  <tbody>\n",
       "    <tr>\n",
       "      <th>38</th>\n",
       "      <td>[Calificación 5 de 517 feb. 2024En teléfono po...</td>\n",
       "      <td>Motorola Moto G54 5g 256 Gb 8 Gb Ram</td>\n",
       "    </tr>\n",
       "    <tr>\n",
       "      <th>30</th>\n",
       "      <td>[Calificación 5 de 521 may. 2024Le compré el c...</td>\n",
       "      <td>Samsung A05s 4G Dual SIM 128 GB Negro 6 GB RAM</td>\n",
       "    </tr>\n",
       "    <tr>\n",
       "      <th>41</th>\n",
       "      <td>[Calificación 5 de 528 feb. 2024Solo trae el c...</td>\n",
       "      <td>Apple iPhone 13 (128 GB) - Azul medianoche</td>\n",
       "    </tr>\n",
       "    <tr>\n",
       "      <th>13</th>\n",
       "      <td>[Calificación 5 de 526 oct. 2024Excelente para...</td>\n",
       "      <td>Apple iPhone 15 (128 GB) - Negro</td>\n",
       "    </tr>\n",
       "    <tr>\n",
       "      <th>16</th>\n",
       "      <td>[Calificación 5 de 507 abr. 2024El producto es...</td>\n",
       "      <td>Apple iPhone 16 (128 GB) - Negro</td>\n",
       "    </tr>\n",
       "    <tr>\n",
       "      <th>37</th>\n",
       "      <td>[Este producto aún no tiene comentarios.Al com...</td>\n",
       "      <td>Apple iPhone 16 (128 GB) - Rosa</td>\n",
       "    </tr>\n",
       "    <tr>\n",
       "      <th>21</th>\n",
       "      <td>[Sin comentarios]</td>\n",
       "      <td>Celular Motorola Moto G54 256gb-8gb Ram 5g Rojo</td>\n",
       "    </tr>\n",
       "    <tr>\n",
       "      <th>31</th>\n",
       "      <td>[Sin comentarios]</td>\n",
       "      <td>Celular Redmi Note 13 Pro Black - 256 Gb - 8gb...</td>\n",
       "    </tr>\n",
       "    <tr>\n",
       "      <th>9</th>\n",
       "      <td>[Calificación 5 de 506 nov. 2024Fue un regalo ...</td>\n",
       "      <td>Celular Xiaomi Redmi 14c Dual Sim 128gb/4gb 6....</td>\n",
       "    </tr>\n",
       "    <tr>\n",
       "      <th>5</th>\n",
       "      <td>[Calificación 5 de 525 ago. 2024Está bueno y f...</td>\n",
       "      <td>Celular Xiaomi Redmi Note 13 Pro 4g / 256 Gb/ ...</td>\n",
       "    </tr>\n",
       "    <tr>\n",
       "      <th>18</th>\n",
       "      <td>[Calificación 5 de 527 feb. 2024El celular est...</td>\n",
       "      <td>Celulares Honor X6a Plus 256gb Lila O Plateado...</td>\n",
       "    </tr>\n",
       "    <tr>\n",
       "      <th>29</th>\n",
       "      <td>[Sin comentarios]</td>\n",
       "      <td>Galaxy S24 Ultra 5g 256gb 12 Ram Titanium Black</td>\n",
       "    </tr>\n",
       "    <tr>\n",
       "      <th>43</th>\n",
       "      <td>[Calificación 4 de 528 oct. 2024El único incon...</td>\n",
       "      <td>Honor Magic6 Lite Dual SIM 256 GB plateado 8 G...</td>\n",
       "    </tr>\n",
       "    <tr>\n",
       "      <th>10</th>\n",
       "      <td>[Sin comentarios]</td>\n",
       "      <td>LG K40s Celular Smartphone Black 2gb 32gb Octa...</td>\n",
       "    </tr>\n",
       "    <tr>\n",
       "      <th>19</th>\n",
       "      <td>[Calificación 4 de 528 oct. 2024El único incon...</td>\n",
       "      <td>Mini Smartphone Android Soyes Xs18 Dual Sim De...</td>\n",
       "    </tr>\n",
       "    <tr>\n",
       "      <th>17</th>\n",
       "      <td>[Calificación 5 de 521 may. 2024Le compré el c...</td>\n",
       "      <td>Motorola Edge 50 Fusion 5g 256 Gb 8 Gb Ram Col...</td>\n",
       "    </tr>\n",
       "    <tr>\n",
       "      <th>40</th>\n",
       "      <td>[Calificación 5 de 525 sep. 2024Gran celular ,...</td>\n",
       "      <td>Motorola Moto G04s 128 GB Graphite 4 GB RAM</td>\n",
       "    </tr>\n",
       "    <tr>\n",
       "      <th>42</th>\n",
       "      <td>[Calificación 4 de 504 dic. 2023Buen teléfono ...</td>\n",
       "      <td>Motorola Moto G24 Power 256gb Azul Claro 8gb R...</td>\n",
       "    </tr>\n",
       "    <tr>\n",
       "      <th>20</th>\n",
       "      <td>[Calificación 5 de 504 nov. 2024Me gusto el te...</td>\n",
       "      <td>Nokia 110 Dual Sim Basico Teclas Camara Radio ...</td>\n",
       "    </tr>\n",
       "    <tr>\n",
       "      <th>35</th>\n",
       "      <td>[Este producto aún no tiene comentarios.Al com...</td>\n",
       "      <td>Samsung Galaxy A05s Dual SIM 128 GB morado 6 G...</td>\n",
       "    </tr>\n",
       "    <tr>\n",
       "      <th>11</th>\n",
       "      <td>[Sin comentarios]</td>\n",
       "      <td>Samsung Galaxy A15 256gb  Yellow</td>\n",
       "    </tr>\n",
       "    <tr>\n",
       "      <th>27</th>\n",
       "      <td>[Este producto aún no tiene comentarios.Al com...</td>\n",
       "      <td>Samsung Galaxy A15 4G Dual SIM 256 GB verde cl...</td>\n",
       "    </tr>\n",
       "    <tr>\n",
       "      <th>24</th>\n",
       "      <td>[Sin comentarios]</td>\n",
       "      <td>Samsung Galaxy A35 5G 5G Dual SIM 256 GB rosa ...</td>\n",
       "    </tr>\n",
       "    <tr>\n",
       "      <th>14</th>\n",
       "      <td>[Sin comentarios]</td>\n",
       "      <td>Samsung Galaxy A35 5g 256 GB Azul oscuro 8 GB RAM</td>\n",
       "    </tr>\n",
       "    <tr>\n",
       "      <th>3</th>\n",
       "      <td>[Calificación 5 de 505 jun. 2024Llevo ya casi ...</td>\n",
       "      <td>Samsung Galaxy A55 5G Dual SIM 256 GB azul cla...</td>\n",
       "    </tr>\n",
       "    <tr>\n",
       "      <th>7</th>\n",
       "      <td>[Calificación 5 de 505 jun. 2024Llevo ya casi ...</td>\n",
       "      <td>Samsung Galaxy A55 5G Dual SIM 256 GB azul osc...</td>\n",
       "    </tr>\n",
       "    <tr>\n",
       "      <th>39</th>\n",
       "      <td>[Sin comentarios]</td>\n",
       "      <td>Samsung Galaxy A55 5G Dual SIM 256 GB rosa 8 G...</td>\n",
       "    </tr>\n",
       "    <tr>\n",
       "      <th>12</th>\n",
       "      <td>[Sin comentarios]</td>\n",
       "      <td>Samsung Galaxy S24 Ultra 5G Dual SIM 512 GB ti...</td>\n",
       "    </tr>\n",
       "    <tr>\n",
       "      <th>8</th>\n",
       "      <td>[Calificación 5 de 516 ene. 2024Es el mejor ce...</td>\n",
       "      <td>Tecno Spark 20 Dual SIM 256 GB Negro 8 GB RAM</td>\n",
       "    </tr>\n",
       "    <tr>\n",
       "      <th>26</th>\n",
       "      <td>[Sin comentarios]</td>\n",
       "      <td>Ulefone Armor 26 Ultra 5g Rugged Waterproof Sm...</td>\n",
       "    </tr>\n",
       "    <tr>\n",
       "      <th>33</th>\n",
       "      <td>[Calificación 4 de 516 may. 2024Exelente produ...</td>\n",
       "      <td>Xiaomi 13 Dual Sim 512gb Blanco 12 Gb Ram</td>\n",
       "    </tr>\n",
       "    <tr>\n",
       "      <th>23</th>\n",
       "      <td>[Sin comentarios]</td>\n",
       "      <td>Xiaomi 14 Dual Sim 512 Gb Negro 16 Gb Ram</td>\n",
       "    </tr>\n",
       "    <tr>\n",
       "      <th>2</th>\n",
       "      <td>[Calificación 5 de 511 feb. 2024Una bestia de ...</td>\n",
       "      <td>Xiaomi POCO Poco X6 Pro 5G Dual SIM 512 GB ama...</td>\n",
       "    </tr>\n",
       "    <tr>\n",
       "      <th>0</th>\n",
       "      <td>[Calificación 5 de 511 feb. 2024Una bestia de ...</td>\n",
       "      <td>Xiaomi POCO Poco X6 Pro 5G Dual SIM 512 GB neg...</td>\n",
       "    </tr>\n",
       "    <tr>\n",
       "      <th>25</th>\n",
       "      <td>[Calificación 5 de 505 oct. 2024Ya lo probé , ...</td>\n",
       "      <td>Xiaomi Poco Poco X6 Pro 5g Dual Sim 256 Gb Gri...</td>\n",
       "    </tr>\n",
       "    <tr>\n",
       "      <th>36</th>\n",
       "      <td>[Calificación 5 de 528 feb. 2024Solo trae el c...</td>\n",
       "      <td>Xiaomi Redmi 13C Dual SIM 256 GB clover green ...</td>\n",
       "    </tr>\n",
       "    <tr>\n",
       "      <th>1</th>\n",
       "      <td>[Calificación 4 de 504 dic. 2023Buen teléfono ...</td>\n",
       "      <td>Xiaomi Redmi 13C Dual SIM 256 GB midnight blac...</td>\n",
       "    </tr>\n",
       "    <tr>\n",
       "      <th>22</th>\n",
       "      <td>[Sin comentarios]</td>\n",
       "      <td>Xiaomi Redmi Note 13 4G Dual SIM 128 GB negro ...</td>\n",
       "    </tr>\n",
       "    <tr>\n",
       "      <th>32</th>\n",
       "      <td>[Sin comentarios]</td>\n",
       "      <td>Xiaomi Redmi Note 13 4G Dual SIM 256 GB azul 8...</td>\n",
       "    </tr>\n",
       "    <tr>\n",
       "      <th>4</th>\n",
       "      <td>[Calificación 5 de 517 feb. 2024En teléfono po...</td>\n",
       "      <td>Xiaomi Redmi Note 13 4G Dual SIM 256 GB negro ...</td>\n",
       "    </tr>\n",
       "    <tr>\n",
       "      <th>28</th>\n",
       "      <td>[Calificación 5 de 517 feb. 2024En teléfono po...</td>\n",
       "      <td>Xiaomi Redmi Note 13 4G Dual SIM 256 GB verde ...</td>\n",
       "    </tr>\n",
       "    <tr>\n",
       "      <th>6</th>\n",
       "      <td>[Calificación 5 de 525 ago. 2024Está bueno y f...</td>\n",
       "      <td>Xiaomi Redmi Note 13 Pro 4G Dual SIM 256 GB ne...</td>\n",
       "    </tr>\n",
       "    <tr>\n",
       "      <th>15</th>\n",
       "      <td>[Calificación 4 de 513 jun. 2024Buen producto,...</td>\n",
       "      <td>Xiaomi Redmi Note 13 Pro+ 5G Dual SIM 512 GB N...</td>\n",
       "    </tr>\n",
       "    <tr>\n",
       "      <th>34</th>\n",
       "      <td>[Calificación 5 de 517 feb. 2024En teléfono po...</td>\n",
       "      <td>Zte Smartphone Blade A54 128gb 4gb Ram Morado</td>\n",
       "    </tr>\n",
       "  </tbody>\n",
       "</table>\n",
       "</div>"
      ],
      "text/plain": [
       "                                           Comentario  \\\n",
       "38  [Calificación 5 de 517 feb. 2024En teléfono po...   \n",
       "30  [Calificación 5 de 521 may. 2024Le compré el c...   \n",
       "41  [Calificación 5 de 528 feb. 2024Solo trae el c...   \n",
       "13  [Calificación 5 de 526 oct. 2024Excelente para...   \n",
       "16  [Calificación 5 de 507 abr. 2024El producto es...   \n",
       "37  [Este producto aún no tiene comentarios.Al com...   \n",
       "21                                  [Sin comentarios]   \n",
       "31                                  [Sin comentarios]   \n",
       "9   [Calificación 5 de 506 nov. 2024Fue un regalo ...   \n",
       "5   [Calificación 5 de 525 ago. 2024Está bueno y f...   \n",
       "18  [Calificación 5 de 527 feb. 2024El celular est...   \n",
       "29                                  [Sin comentarios]   \n",
       "43  [Calificación 4 de 528 oct. 2024El único incon...   \n",
       "10                                  [Sin comentarios]   \n",
       "19  [Calificación 4 de 528 oct. 2024El único incon...   \n",
       "17  [Calificación 5 de 521 may. 2024Le compré el c...   \n",
       "40  [Calificación 5 de 525 sep. 2024Gran celular ,...   \n",
       "42  [Calificación 4 de 504 dic. 2023Buen teléfono ...   \n",
       "20  [Calificación 5 de 504 nov. 2024Me gusto el te...   \n",
       "35  [Este producto aún no tiene comentarios.Al com...   \n",
       "11                                  [Sin comentarios]   \n",
       "27  [Este producto aún no tiene comentarios.Al com...   \n",
       "24                                  [Sin comentarios]   \n",
       "14                                  [Sin comentarios]   \n",
       "3   [Calificación 5 de 505 jun. 2024Llevo ya casi ...   \n",
       "7   [Calificación 5 de 505 jun. 2024Llevo ya casi ...   \n",
       "39                                  [Sin comentarios]   \n",
       "12                                  [Sin comentarios]   \n",
       "8   [Calificación 5 de 516 ene. 2024Es el mejor ce...   \n",
       "26                                  [Sin comentarios]   \n",
       "33  [Calificación 4 de 516 may. 2024Exelente produ...   \n",
       "23                                  [Sin comentarios]   \n",
       "2   [Calificación 5 de 511 feb. 2024Una bestia de ...   \n",
       "0   [Calificación 5 de 511 feb. 2024Una bestia de ...   \n",
       "25  [Calificación 5 de 505 oct. 2024Ya lo probé , ...   \n",
       "36  [Calificación 5 de 528 feb. 2024Solo trae el c...   \n",
       "1   [Calificación 4 de 504 dic. 2023Buen teléfono ...   \n",
       "22                                  [Sin comentarios]   \n",
       "32                                  [Sin comentarios]   \n",
       "4   [Calificación 5 de 517 feb. 2024En teléfono po...   \n",
       "28  [Calificación 5 de 517 feb. 2024En teléfono po...   \n",
       "6   [Calificación 5 de 525 ago. 2024Está bueno y f...   \n",
       "15  [Calificación 4 de 513 jun. 2024Buen producto,...   \n",
       "34  [Calificación 5 de 517 feb. 2024En teléfono po...   \n",
       "\n",
       "                                             Producto  \n",
       "38               Motorola Moto G54 5g 256 Gb 8 Gb Ram  \n",
       "30     Samsung A05s 4G Dual SIM 128 GB Negro 6 GB RAM  \n",
       "41         Apple iPhone 13 (128 GB) - Azul medianoche  \n",
       "13                   Apple iPhone 15 (128 GB) - Negro  \n",
       "16                   Apple iPhone 16 (128 GB) - Negro  \n",
       "37                    Apple iPhone 16 (128 GB) - Rosa  \n",
       "21    Celular Motorola Moto G54 256gb-8gb Ram 5g Rojo  \n",
       "31  Celular Redmi Note 13 Pro Black - 256 Gb - 8gb...  \n",
       "9   Celular Xiaomi Redmi 14c Dual Sim 128gb/4gb 6....  \n",
       "5   Celular Xiaomi Redmi Note 13 Pro 4g / 256 Gb/ ...  \n",
       "18  Celulares Honor X6a Plus 256gb Lila O Plateado...  \n",
       "29    Galaxy S24 Ultra 5g 256gb 12 Ram Titanium Black  \n",
       "43  Honor Magic6 Lite Dual SIM 256 GB plateado 8 G...  \n",
       "10  LG K40s Celular Smartphone Black 2gb 32gb Octa...  \n",
       "19  Mini Smartphone Android Soyes Xs18 Dual Sim De...  \n",
       "17  Motorola Edge 50 Fusion 5g 256 Gb 8 Gb Ram Col...  \n",
       "40        Motorola Moto G04s 128 GB Graphite 4 GB RAM  \n",
       "42  Motorola Moto G24 Power 256gb Azul Claro 8gb R...  \n",
       "20  Nokia 110 Dual Sim Basico Teclas Camara Radio ...  \n",
       "35  Samsung Galaxy A05s Dual SIM 128 GB morado 6 G...  \n",
       "11                   Samsung Galaxy A15 256gb  Yellow  \n",
       "27  Samsung Galaxy A15 4G Dual SIM 256 GB verde cl...  \n",
       "24  Samsung Galaxy A35 5G 5G Dual SIM 256 GB rosa ...  \n",
       "14  Samsung Galaxy A35 5g 256 GB Azul oscuro 8 GB RAM  \n",
       "3   Samsung Galaxy A55 5G Dual SIM 256 GB azul cla...  \n",
       "7   Samsung Galaxy A55 5G Dual SIM 256 GB azul osc...  \n",
       "39  Samsung Galaxy A55 5G Dual SIM 256 GB rosa 8 G...  \n",
       "12  Samsung Galaxy S24 Ultra 5G Dual SIM 512 GB ti...  \n",
       "8       Tecno Spark 20 Dual SIM 256 GB Negro 8 GB RAM  \n",
       "26  Ulefone Armor 26 Ultra 5g Rugged Waterproof Sm...  \n",
       "33          Xiaomi 13 Dual Sim 512gb Blanco 12 Gb Ram  \n",
       "23          Xiaomi 14 Dual Sim 512 Gb Negro 16 Gb Ram  \n",
       "2   Xiaomi POCO Poco X6 Pro 5G Dual SIM 512 GB ama...  \n",
       "0   Xiaomi POCO Poco X6 Pro 5G Dual SIM 512 GB neg...  \n",
       "25  Xiaomi Poco Poco X6 Pro 5g Dual Sim 256 Gb Gri...  \n",
       "36  Xiaomi Redmi 13C Dual SIM 256 GB clover green ...  \n",
       "1   Xiaomi Redmi 13C Dual SIM 256 GB midnight blac...  \n",
       "22  Xiaomi Redmi Note 13 4G Dual SIM 128 GB negro ...  \n",
       "32  Xiaomi Redmi Note 13 4G Dual SIM 256 GB azul 8...  \n",
       "4   Xiaomi Redmi Note 13 4G Dual SIM 256 GB negro ...  \n",
       "28  Xiaomi Redmi Note 13 4G Dual SIM 256 GB verde ...  \n",
       "6   Xiaomi Redmi Note 13 Pro 4G Dual SIM 256 GB ne...  \n",
       "15  Xiaomi Redmi Note 13 Pro+ 5G Dual SIM 512 GB N...  \n",
       "34      Zte Smartphone Blade A54 128gb 4gb Ram Morado  "
      ]
     },
     "execution_count": 47,
     "metadata": {},
     "output_type": "execute_result"
    }
   ],
   "source": [
    "#Agregar la columna Producto al DataFrame de prueba para determinar a qué producto pertenece cada comentario\n",
    "df_test['Producto'] = df_Mercadolibre['Producto']\n",
    "df_test.sort_values(by='Producto', inplace=True)\n",
    "df_test"
   ]
  },
  {
   "cell_type": "code",
   "execution_count": null,
   "metadata": {
    "id": "iWm1IKvTaRPN"
   },
   "outputs": [],
   "source": []
  },
  {
   "cell_type": "code",
   "execution_count": null,
   "metadata": {
    "id": "hhnwJfgwqMa0"
   },
   "outputs": [],
   "source": []
  }
 ],
 "metadata": {
  "colab": {
   "provenance": []
  },
  "kernelspec": {
   "display_name": "ambiente_pruebas",
   "language": "python",
   "name": "python3"
  },
  "language_info": {
   "codemirror_mode": {
    "name": "ipython",
    "version": 3
   },
   "file_extension": ".py",
   "mimetype": "text/x-python",
   "name": "python",
   "nbconvert_exporter": "python",
   "pygments_lexer": "ipython3",
   "version": "3.13.0"
  }
 },
 "nbformat": 4,
 "nbformat_minor": 0
}
